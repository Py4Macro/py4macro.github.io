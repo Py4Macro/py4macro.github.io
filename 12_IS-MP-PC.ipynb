{
 "cells": [
  {
   "cell_type": "markdown",
   "metadata": {},
   "source": [
    "# IS-MP-PCモデル"
   ]
  },
  {
   "cell_type": "markdown",
   "metadata": {},
   "source": [
    "<div name=\"html-admonition\" style=\"font-size: 0.8em\">\n",
    "<input type=\"button\" onclick=\"location.href='https://translate.google.com/translate?hl=&sl=ja&tl=en&u='+window.location;\" value=\"Google translation\" style=\"color:#ffffff;background-color:#008080; height:25px\" onmouseover=\"this.style.background='#99ccff'\" onmouseout=\"this.style.background='#008080'\"/> in English or the language of your choice.\n",
    "</div><br>"
   ]
  },
  {
   "cell_type": "code",
   "execution_count": null,
   "metadata": {},
   "outputs": [],
   "source": [
    "import japanize_matplotlib\n",
    "import matplotlib.pyplot as plt\n",
    "import numpy as np\n",
    "import pandas as pd\n",
    "from numpy.linalg import eigvals, inv\n",
    "\n",
    "# numpy v1の表示を使用\n",
    "np.set_printoptions(legacy='1.21')\n",
    "# 警告メッセージを非表示\n",
    "import warnings\n",
    "warnings.filterwarnings(\"ignore\")"
   ]
  },
  {
   "cell_type": "markdown",
   "metadata": {
    "heading_collapsed": true,
    "jp-MarkdownHeadingCollapsed": true
   },
   "source": [
    "## はじめに"
   ]
  },
  {
   "cell_type": "markdown",
   "metadata": {
    "hidden": true
   },
   "source": [
    "この章では，ケインズ的なマクロ経済理論の流れをくむ動学的マクロ経済モデルを考える。ここではIS-MP-PCモデルと呼ぶことにする。中心となるメカニズムは価格粘着性だが，なぜ粘着性が発生するかは所与としてIS-MP-PCモデルの動学的な特徴を中心に議論する。[前章で議論したADASモデル](chap:18-adas-1)とは根本的な違いが存在する。IS-MP-PCモデルの特徴としては次の点を挙げることができる。\n",
    "\n",
    "ADASモデルの総需要サイドはIS-LMモデルによってモデル化されている。IS曲線が財市場の均衡を表し，LM曲線が貨幣市場の均衡を特徴付け、この２つの曲線から総需要曲線が導出される。本章は、この枠組みから離れより現実的なマクロ・モデルを考察することによりマクロ経済の短期的な均衡を考察する。LM曲線は中央銀行がマネー・ストックを調整し金融政策を実施すると仮定するが，現実的とは言えない。実際には，中央銀行は利子率を調整しインフレ率をコントロールする。それを捉えたのが，後述するテイラー・ルールであり，モデルの中ではMP曲線として表される。中央銀行によって設定された利子率に基づいて貨幣市場での均衡が成立し，マクロ変数（インフレ率や産出量）が決定されると考える方がより現実的である。\n",
    "\n",
    "以下ではIS-MP-PCモデルを使い，政策変更を含む様々なショックの動学的な効果を検討する。あるショックが発生するとマクロ変数は少しずつ調整し，お互いに影響し合いつつ経済は長期均衡へと移行することになるが，その過程をシミュレーションを通して考える。特に，インパルス反応と呼ばれる手法を用いてショックのダイナミックな効果を明らかにする。更に，その効果は中央銀行の政策スタンスによって違ってくることも明らかにする。"
   ]
  },
  {
   "cell_type": "markdown",
   "metadata": {
    "hidden": true
   },
   "source": [
    "＜**記号リスト**＞\n",
    "\n",
    "* $y_t$：産出\n",
    "* $y^*$：自然産出水準（長期的産出）\n",
    "* $i_t$：名目利子率\n",
    "* $r_t$：実質利子率\n",
    "* $r^*$：自然実質利子率（長期的産出に対応する実質利子率）\n",
    "* $\\pi_t$：インフレ率\n",
    "* $\\text{E}_t\\pi_{t+1}$：$t$期に形成された$t+1$期の期待インフレ率\n",
    "* $\\pi^*$：自然インフレ率（長期的産出に対応するインフレ率）\n",
    "    * モデルの中では中央銀行のターゲット・インフレ率と解釈可能"
   ]
  },
  {
   "cell_type": "markdown",
   "metadata": {
    "heading_collapsed": true,
    "tags": [
     "remove-cell"
    ]
   },
   "source": [
    "## IS-MP-PCモデル：単純なケース"
   ]
  },
  {
   "cell_type": "markdown",
   "metadata": {
    "hidden": true,
    "jp-MarkdownHeadingCollapsed": true
   },
   "source": [
    "(sec:12-simple)=\n",
    "## IS-MP-PCモデル：単純なケース"
   ]
  },
  {
   "cell_type": "markdown",
   "metadata": {
    "heading_collapsed": true,
    "hidden": true,
    "jp-MarkdownHeadingCollapsed": true
   },
   "source": [
    "### 説明"
   ]
  },
  {
   "cell_type": "markdown",
   "metadata": {
    "hidden": true
   },
   "source": [
    "単純なケースから始める。このケースでは重要な要素が欠落しており，均衡も現実的だとは言えない。目的は何かというと，第一にモデルの基本的なメカニズムを理解することである。後に欠落した要素を導入し充実化したモデルを検討するが，より複雑なものとなる。単純なケースを使いモデルの基本的な動きを理解することが一つ目の目的である。第二に，単純なケースと比較すると，充実化したモデルは動学的な特徴がより現実に近いリッチな動きとなる。その差自体が欠落していた要素の効果として考えることができる。従って，単純なケースは後のより現実に近いモデルを理解するためのベンチマークとして考えることができる。\n",
    "\n",
    "IS-MP-PCモデルは次の５つの式で構成される。最終的には，２つの内生変数（インフレ率と産出量）が決定される２つの均衡式を導出することになる。"
   ]
  },
  {
   "cell_type": "markdown",
   "metadata": {
    "hidden": true
   },
   "source": [
    "**＜フィッシャー方程式＞**\n",
    "\n",
    "$$\n",
    "r_t = i_t-\\text{E}_t\\pi_{t+1}\n",
    "$$ (eq:12-fisher)\n",
    "\n",
    "* $i_t$：$t$期から$t+1$期にかけての名目利子率\n",
    "    * $t$期に確定されている。\n",
    "* $\\text{E}_t\\pi_{t+1}$：期待インフレ率\n",
    "    * $\\pi_{t+1}$は$t$期から$t+1$期にかけての一般物価水準の変化率であり，$t$期にその変化は分からない。\n",
    "    * $\\text{E}_t$は$t$期に形成される将来の期待。\n",
    "* $r_t$：$t$期から$t+1$期にかけての実質利子率\n",
    "    * $\\pi_{t+1}$が確定されていないため$t$期には分からない。\n",
    "* $t$期に利子率$i_t$の社債を購入し，$t+1$期に$i_t$に基づいて利息が支払われるとすると，$t$期に評価する実質利子率はフィッシャー方程式[](eq:12-fisher)で与えられる。"
   ]
  },
  {
   "cell_type": "markdown",
   "metadata": {
    "hidden": true
   },
   "source": [
    "**＜IS曲線＞**\n",
    "\n",
    "$$\n",
    "y_t=y^*-a(r_t-r^*)+u_t\n",
    "$$ (eq:12-is)\n",
    "\n",
    "* 財市場の均衡条件であり，IS-LMモデルのIS曲線である。ここでは簡単な形で表現され，産出は実質利子率に依存している。\n",
    "* $a>0$は次の関係を捉えている。\n",
    "    * $r\\uparrow\\;\\Rightarrow\\;\\text{投資}\\downarrow\\;\\Rightarrow\\;y\\downarrow$\n",
    "* $u_t$：需要ショック\n",
    "    * 平均ゼロ，分散一定のホワイト・ノイズ\n",
    "    * 例：\n",
    "        * コロナ感染症による消費や投資の減少\n",
    "        * 政府支出の変化"
   ]
  },
  {
   "cell_type": "markdown",
   "metadata": {
    "hidden": true
   },
   "source": [
    "**＜金融政策（MP）曲線＞**\n",
    "\n",
    "$$\n",
    "i_t=r^*+\\pi_t+v_t\n",
    "$$ (eq:12-mp_simple)\n",
    "\n",
    "* **M**onetary **P**olicyの頭文字MPをとってMP曲線と呼ばれる。\n",
    "* 中央銀行が名目利子率を設定するが，あるルールに基づいて金融政策（Monetary Policy）を決定すると考える。そのルールを捉えるのがMP曲線である。しかし単純なケースとして，ここではインフレ・ターゲットではなく、自然実質利子率に単純にインフレ率を上乗せするルールを仮定する。この部分に有用な要素が欠落していることになる。後により現実的な金融政策ルールを導入する。\n",
    "* 貨幣市場では，決定された利子率を成立させるためにマネーストックが調整される。\n",
    "* $v_t$：金融政策ショック\n",
    "    * 平均ゼロ、分散一定のホワイト・ノイズ\n",
    "    * 例えば、事前通告なしの政策の変更"
   ]
  },
  {
   "cell_type": "markdown",
   "metadata": {
    "hidden": true
   },
   "source": [
    "**＜フィリップス曲線＞**\n",
    "\n",
    "$$\n",
    "\\pi_t=\\text{E}_{t-1}\\pi_t+b(y_t-y^*)+e_t\n",
    "$$ (eq:12-pc)\n",
    "\n",
    "* 失業とインフレ率の負の関係を示す。失業と産出には負の関係があるので、それを使い書き換えている。\n",
    "* インフレ率は産出（失業率）に依存する（関数である）。\n",
    "* $b>0$は次の関係を捉えている。\n",
    "    * $y\\uparrow\\;\\Rightarrow\\;\\text{失業}\\downarrow\\;\\Rightarrow\\;\\pi\\uparrow$\n",
    "* $e_t$：インフレ率に対するショック\n",
    "    * 平均ゼロ、分散一定のホワイト・ノイズ\n",
    "    * 例えば、期待インフレ率の変化、生産性の上昇"
   ]
  },
  {
   "cell_type": "markdown",
   "metadata": {
    "hidden": true
   },
   "source": [
    "**＜適応的期待＞**\n",
    "\n",
    "$$\n",
    "\\text{E}_t\\pi_{t+1}=\\pi_{t}\n",
    "$$ (eq:12-ae)\n",
    "\n",
    "* 将来のインフレ率は平均で今期のインフレ率と等しい。\n",
    "* 後ろ向きの期待形成となる。"
   ]
  },
  {
   "cell_type": "markdown",
   "metadata": {
    "heading_collapsed": true,
    "hidden": true
   },
   "source": [
    "### モデルの解"
   ]
  },
  {
   "cell_type": "markdown",
   "metadata": {
    "hidden": true
   },
   "source": [
    "式[](eq:12-fisher)、[](eq:12-is)、[](eq:12-mp_simple)、[](eq:12-ae)を使うと次の式を導出できる。\n",
    "\n",
    "$$\n",
    "y_t=y^*+u_t-av_t\\quad\\text{(ISMP)}\n",
    "$$\n",
    "\n",
    "名前から分かるように，IS曲線とMP曲線が重要なメカニズムとなる均衡式である。財・サービスの需要サイドの均衡を捉えているので，その役割を動学的総需要曲線（Dynamic Aggregate Demand curve）と理解して良いだろう。$u_t=v_t=0$とすると{numref}`fig:12-ismppc_simple`の中で垂直となる。直感的には，実質利子率は自然利子率と等しくなり，ショック項が0であるかぎり産出が自然産出水準から乖離する要因がないためであり，総需要はインフレ率から独立になる。\n",
    "\n",
    "次に式[](eq:12-ae)と[](eq:12-pc)を使うと次式を得る。\n",
    "    \n",
    "$$\n",
    "\\pi_t=\\pi_{t-1}+b(y_t-y^*)+e_t\\quad\\text{(PC)}\n",
    "$$\n",
    "\n",
    "適応的期待が組み込まれたフィリップス曲線であり，この均衡式をPC曲線と呼ぶ（混乱を避けるために以下では式[](eq:12-pc)は番号もしくはカタカナで「フィリップス曲線」と呼ぶことにする）。財・サービスの供給サイドの均衡を捉えているので，動学的供給曲線（Dynamic Aggregate Supply curve）と理解すれば良いだろう。\n",
    "\n",
    "この２つの式に含まれる変数を次の様に区別することができる。\n",
    "* $t$時点で決定される内生変数：$y_t$，$\\pi_t$\n",
    "* $t$時点で所与とされる外生変数：$y^*$，$\\pi_{t-1}$，$u_t$，$v_t$，$e_t$\n",
    "    * $\\pi_{t-1}$は$t-1$時点で内生的に決定されるが，$t$時点では所与として扱われるため$t$時点では外生変数としている。\n",
    "\n",
    "次の図は，これらの変数がどのように影響し合っているかをまとめている。"
   ]
  },
  {
   "cell_type": "code",
   "execution_count": null,
   "metadata": {
    "hidden": true,
    "tags": [
     "hide-input"
    ]
   },
   "outputs": [],
   "source": [
    "import networkx as nx\n",
    "def my_draw():\n",
    "    \n",
    "    # variables\n",
    "    y = r'$y_t$'\n",
    "    pi = r'$\\pi_t$'\n",
    "    v = r'$v_t$'\n",
    "    u = r'$u_t$'\n",
    "    ystar = r'$y^{*}$'\n",
    "    pi_1 = '$\\pi_{t-1}$'\n",
    "    e = r'$e_t$'\n",
    "    \n",
    "    # graph object\n",
    "    G = nx.DiGraph()\n",
    "    \n",
    "    # nodes\n",
    "    G.add_nodes_from([(y,     {'pos':(0.75,1), 'color':'orange'}),\n",
    "                      (pi,    {'pos':(2.25,1), 'color':'orange'}),\n",
    "                      (v,     {'pos':(0,0),    'color':'lightblue'}),\n",
    "                      (u,     {'pos':(0,2),    'color':'lightblue'}),\n",
    "                      (ystar, {'pos':(1.5,2),  'color':'lightblue'}),\n",
    "                      (pi_1,  {'pos':(3,2),    'color':'lightblue'}),\n",
    "                      (e,     {'pos':(3,0),    'color':'lightblue'}),\n",
    "                     ])\n",
    "    \n",
    "    # arrows\n",
    "    G.add_edge(y, pi)\n",
    "    for i in [ystar, u, v]:\n",
    "        G.add_edge(i, y)\n",
    "    for i in [ystar, pi_1, e]:\n",
    "        G.add_edge(i,pi)\n",
    "        \n",
    "    # positions/colors of nodes\n",
    "    pos_dic = nx.get_node_attributes(G,'pos')\n",
    "    colors_lst = nx.get_node_attributes(G,'color').values()\n",
    "    \n",
    "    # draw\n",
    "    nx.draw(G, pos=pos_dic, with_labels=True, node_size=2000,\n",
    "            node_color=[i for i in colors_lst],\n",
    "            font_size=17, arrowsize=20)\n",
    "    \n",
    "    # Draw edge labels\n",
    "    edge_labels = {(i,y):'ISMP' for i in [ystar, u, v]} | \\\n",
    "                  {(i,pi):'PC' for i in [ystar, pi_1, e]} | \\\n",
    "                  {(y,pi):'PC'}\n",
    "    nx.draw_networkx_edge_labels(G, pos_dic, edge_labels=edge_labels,\n",
    "                                 font_family='IPAexGothic',\n",
    "                                 font_size=13)\n",
    "my_draw()"
   ]
  },
  {
   "cell_type": "markdown",
   "metadata": {
    "hidden": true
   },
   "source": [
    "この図では，均衡式`ISMP`と`PC`の右辺にある変数が矢印の始点となり，左辺にある変数が矢印の終点としている。オレンジ色の変数は内生変数，水色の変数は外生変数であり，矢印の方向は変数が影響する方向を示している。矢印は（影響の）伝播チャンネルと呼ぼう。また，矢印にある`ISMP`と`PC`は，伝播チャンネルが生成される均衡条件を表している。図には次の特徴がある。\n",
    "* 外生変数（水色）は，内生変数（オレンジ色）に影響を与えるため，矢印の出発点となる。しかし，外生変数は所与として扱われるため矢印の終点とはならない。\n",
    "* 内生変数（オレンジ色）は，影響を受ける変数であり，矢印が向かう先にある。また，他の内生変数にも影響を与える場合もあるので，矢印の出発点にもなりえる。例えば，$y_t$は$\\pi_t$に影響を与える。\n",
    "\n",
    "また，これらから次の事が分かる。\n",
    "1. $y_t$と$\\pi_t$の両方に**直接的**に影響を与える外生変数は$y^{*}$のみである。そういう意味では，$y^{*}$は需要と供給サイドの両方にインパクトがある変数だと言える。また，$y_t$から$\\pi_t$に伸びる矢印があるが，$y^{*}$は$\\pi_t$に対して$y_t$を通した間接的な影響があることも示している。即ち，$y^{*}$は直接的な伝播チャンネルと$y_t$を通した間接的な伝播チャンネルの２つを通して$\\pi_t$に影響を及ぼすことになる。\n",
    "1. $u_t$と$v_t$は$y_t$に**直接的**な影響を与えるが，$\\pi_t$に対しては$y_t$を介して**間接的**に変化をもたらす。これは需要ショックの典型的な特徴である。\n",
    "1. $\\pi_{t-1}$と$e_t$は**直接的**に$\\pi_t$に影響する一方，$y_t$には影響を及ぼさない。これは$\\pi_t$が始点となる矢印が存在しない事から確認できる。この特徴は，特に，供給ショックである$e_t$は需要に影響しないという仮定を捉えている。もちろん，供給ショックも間接的には需要に影響すると考えるのがより現実的かも知れない。例えば，AIによる生産性の向上は（正の）供給ショックになるが，新たな技術は企業の投資を促すかも知れないし，消費者が使うデバイスやサービスの需要を掘り起こすことにつながるかも知れない。しかし，このモデルではその様なメカニズムは考慮されていない。\n",
    "\n",
    "以下では，この図で明らかになった影響の伝播チャンネルを基に，ショックや外生変数の変化の効果を解釈すれば分かりやすいのではないだろうか。"
   ]
  },
  {
   "cell_type": "markdown",
   "metadata": {
    "hidden": true
   },
   "source": [
    "PC曲線を考えてみよう。$e_t=0$とし$\\pi_{t-1}$を所与（は一定）とすると，{numref}`fig:12-ismppc_simple`の中で右上がりなる。直感的には，産出が自然水準を上回るとインフレ率が上昇するためである。\n",
    "\n",
    "通常のAD-ASモデルでは縦軸に一般物価水準を使うが，{numref}`fig:12-ismppc_simple`から分かるように，IS-MP-PCモデルではインフレ率が縦軸にあることに注意しよう。\n",
    "\n",
    "均衡では，$u_t\\ne 0$，$v_t\\ne 0$，$e_t\\ne 0$であったとしても，$\\pi_{t-1}$を所与としてこの２式で$(y_t,\\pi_t)$が決定されることになる。更に$t+1$期では，$u_{t+1}$，$v_{t+1}$，$e_{t+1}$はそれぞれの$t$期とは異なる値をとるかもしれないが，それらと一緒に$t$期に決定された$\\pi_{t}$を所与として$(y_{t+1},\\pi_{t+1})$が決定されることになる。このように内生変数の値が逐次的に決まることになるが，まさにこのような逐次的関係を捉えるのが[「差分方程式と経済分析」](chap:7-differenceEq)の章で説明した差分方程式である。"
   ]
  },
  {
   "cell_type": "markdown",
   "metadata": {
    "hidden": true
   },
   "source": [
    "```{figure} /images/ismppc_simple.jpeg\n",
    "---\n",
    "scale: 30%\n",
    "name: fig:12-ismppc_simple\n",
    "---\n",
    "IS-MP-PCモデルの単純なケース\n",
    "```"
   ]
  },
  {
   "cell_type": "markdown",
   "metadata": {
    "hidden": true
   },
   "source": [
    "均衡を差分方程式で表すために，式(ISMP)を式(PC)に代入し１期進めよう。\n",
    "\n",
    "$$\n",
    "\\pi_{t+1}\n",
    "=\\pi_{t}\n",
    "+b(u_{t+1}-av_{t+1})+e_{t+1}\n",
    "$$ (eq:12-pi_deqn_simple)\n",
    "\n",
    "この式を理解するために，$u_t=v_t=e_t=0$と置いてみると次式となる。\n",
    "\n",
    "$$\n",
    "\\pi_{t+1}=\\pi_{t}\n",
    "$$ (eq:12-pi_deqn_simple_no_shock)\n",
    "\n",
    "$t+1$期のインフレ率は$t$期のインフレ率と等しいことを示しており，今期のインフレ率は変わらず来期にも続くことを示している。換言すると，\n",
    "初期時点からショックが無い場合，初期のインフレ率$\\pi_0$が持続するという意味である。これはインフレ率のデータの特徴であるpersistenceを捉えていると解釈できる。\n",
    "\n",
    "まとめると，$u_t=v_t=e_t=0$の場合，式(ISMP)と式[](eq:12-pi_deqn_simple_no_shock)から\n",
    "* $y_t=y^*$\n",
    "* $\\pi_t=\\pi_0=\\pi^*$\n",
    "\n",
    "となり，この均衡が持続されることになる。"
   ]
  },
  {
   "cell_type": "markdown",
   "metadata": {
    "heading_collapsed": true,
    "hidden": true
   },
   "source": [
    "### シミュレーション：インパルス反応"
   ]
  },
  {
   "cell_type": "markdown",
   "metadata": {
    "hidden": true,
    "jp-MarkdownHeadingCollapsed": true
   },
   "source": [
    "#### 準備"
   ]
  },
  {
   "cell_type": "markdown",
   "metadata": {
    "hidden": true
   },
   "source": [
    "１期間を四半期と考え，ショックの効果を考える。$u_t$，$v_t$，$e_t$の内１つのショック（ゼロでない値）が１期だけ発生し，その結果内生変数がどのように変化するかを考えよう。インパルス反応と呼ばれる手法である。\n",
    "\n",
    "次の値を仮定する。\n",
    "\n",
    "＜定常状態の値＞\n",
    "* $y^*=100$\n",
    "    * 自然産出水準からの乖離（$y_t-y^*$）は％として解釈できる。\n",
    "* $\\pi^*=2$\n",
    "    * 目標インフレ率\n",
    "* $r^*=2$\n",
    "    * 自然実質利子率\n",
    "\n",
    "＜パラメータのデフォルト値＞\n",
    "* $a=1$\n",
    "    * IS曲線のパラメータ\n",
    "    * 実質利子率の1％上昇は需要を1%減少させる。\n",
    "* $b=0.25$\n",
    "    * PC曲線のパラメータ\n",
    "    * 産出量が自然率水準を1％上回るとインフレ率は0.25％ポイント上昇する。\n",
    "    \n",
    "まずインパルス反応分析用の関数を作成する。"
   ]
  },
  {
   "cell_type": "code",
   "execution_count": null,
   "metadata": {
    "hidden": true
   },
   "outputs": [],
   "source": [
    "def ismppc_model_simple(pi0, a=1, b=0.25, shock_is=0, shock_mp=0, shock_pc=0, n=3):\n",
    "    \"\"\"引数：\n",
    "            pi0：初期のインフレ率\n",
    "            a：IS曲線のパラメータ（利子率の乖離）\n",
    "            b：フィリップス曲線のパラメータ（GDPギャップ）\n",
    "            shock_is：IS曲線のショック\n",
    "            shock_mp：MP曲線のショック\n",
    "            shock_pc：フィリップス曲線のショック\n",
    "            n：ショック発生後の計算回数\n",
    "       返り値：\n",
    "           インフレ率，名目利子率，産出量，MP・IS・フィリップス曲線へのショックからなるDataFrame\n",
    "           \n",
    "       * ショックは３期目に発生する\"\"\"\n",
    "    \n",
    "    # ========== 初期の値 ==========\n",
    "    pi = pi0                  # 初期のインフレ\n",
    "     \n",
    "    # ========== 長期均衡での値 ==========\n",
    "    y_ss = 100                # 産出量の定常値\n",
    "    r_ss = 2                  # 実質利子率の定常値\n",
    "\n",
    "    # ========== 結果を格納するリストの作成 ==========\n",
    "    pi_list = [pi]*3          # インフレ率\n",
    "    y_list = [y_ss]*3         # 産出量\n",
    "    i_list = [pi+r_ss]*3      # 名目利子率\n",
    "    shock_is_list = [0]*3     # IS曲線のショック\n",
    "    shock_mp_list = [0]*3     # MP曲線のショック\n",
    "    shock_pc_list = [0]*3     # フィリップス曲線のショック\n",
    "\n",
    "    # ========== ショック発生時 ==========\n",
    "    pi = pi + b*(shock_is-a*shock_mp) + shock_pc # PC曲線\n",
    "    y = y_ss + shock_is - a*shock_mp             # ISMP曲線\n",
    "    i = r_ss + pi + shock_mp                     # MP曲線\n",
    "    \n",
    "    pi_list.append(pi)\n",
    "    y_list.append(y)\n",
    "    i_list.append(i)\n",
    "    shock_is_list.append(shock_is)\n",
    "    shock_mp_list.append(shock_mp)\n",
    "    shock_pc_list.append(shock_pc)\n",
    "\n",
    "    # ========== ショック発生後 ==========\n",
    "    for i in range(n):\n",
    "        \n",
    "        shock_is = 0\n",
    "        shock_mp = 0\n",
    "        shock_pc = 0\n",
    "        \n",
    "        pi = pi\n",
    "        y = y_ss\n",
    "        i = r_ss + pi\n",
    "        \n",
    "        pi_list.append(pi)\n",
    "        y_list.append(y)\n",
    "        i_list.append(i)\n",
    "        shock_is_list.append(shock_is)\n",
    "        shock_mp_list.append(shock_mp)\n",
    "        shock_pc_list.append(shock_pc)\n",
    "\n",
    "    # ========== DataFrameの作成 ==========\n",
    "    dic = {'インフレ率':pi_list,\n",
    "           'MP曲線ショック':shock_mp_list,\n",
    "           '名目利子率':i_list,\n",
    "           'IS曲線ショック':shock_is_list,\n",
    "           '産出量':y_list,\n",
    "           'フィリップス曲線ショック':shock_pc_list,}\n",
    "    df = pd.DataFrame(dic)\n",
    "\n",
    "    return df"
   ]
  },
  {
   "cell_type": "markdown",
   "metadata": {
    "hidden": true
   },
   "source": [
    "#### フィリップス曲線のショック"
   ]
  },
  {
   "cell_type": "markdown",
   "metadata": {
    "hidden": true
   },
   "source": [
    "$t=0$を初期と考えて$t=3$の時に$e_t=1$となり、それ以外では$e_t=0$と仮定して、変数の推移を計算しよう。"
   ]
  },
  {
   "cell_type": "code",
   "execution_count": null,
   "metadata": {
    "hidden": true
   },
   "outputs": [],
   "source": [
    "df_inf = ismppc_model_simple(pi0=2, shock_pc=1)\n",
    "df_inf.plot(subplots=True, marker='o', layout=(3,2), figsize=(10,4))\n",
    "pass"
   ]
  },
  {
   "cell_type": "markdown",
   "metadata": {
    "hidden": true
   },
   "source": [
    "右３つの図からフィリップス曲線のショックが１単位上昇（例えば，オイルショックや生産費用を増加させるショック）し，他のショックは動いていないことが分かる。左３つの図にある内生変数の動きを考えるために，ISMP曲線とPC曲線を{numref}`fig:12-pc_shock_simple`に図示してみよう。\n",
    "* $t=2$期まで：\n",
    "    * 経済は点Aにある。\n",
    "* $t=3$期：\n",
    "    * ショックが発生しPC曲線は上方シフト（①）する。それに伴ってインフレ率が上昇している。名目利子率も上昇しているが，MP曲線を通して発生している。即ち，インフレ率の上昇に**反応して**中央銀行は名目利子率を上げている。一方で産出量は一定である。これはISMP曲線は垂直で影響を受けていないためである。\n",
    "* $t=4$期以降：\n",
    "    * ショックはゼロに戻る。しかし$\\pi_3$が高かったので$\\pi_4$も高止まりの状態が続く。それを受けて中央銀行は名目利子率も高い水準を維持することになる。\n",
    "    * ここで注意する点は，ショックが発生した$t=3$期に全ての動きは完了しており，$t=3$期以降は新たな定常状態にジャンプしている。"
   ]
  },
  {
   "cell_type": "markdown",
   "metadata": {
    "hidden": true
   },
   "source": [
    "```{figure} /images/pc_shock_simple.jpeg\n",
    "---\n",
    "scale: 30%\n",
    "name: fig:12-pc_shock_simple\n",
    "---\n",
    "単純なケース：PC曲線へのショックの効果\n",
    "```"
   ]
  },
  {
   "cell_type": "markdown",
   "metadata": {
    "heading_collapsed": true,
    "hidden": true
   },
   "source": [
    "#### IS曲線のショック"
   ]
  },
  {
   "cell_type": "markdown",
   "metadata": {
    "hidden": true
   },
   "source": [
    "$t=0$を初期と考えて$t=3$の時に$u_t=1$となり、それ以外では$u_t=0$と仮定して、変数の推移を計算しよう。"
   ]
  },
  {
   "cell_type": "code",
   "execution_count": null,
   "metadata": {
    "hidden": true
   },
   "outputs": [],
   "source": [
    "df_inf = ismppc_model_simple(pi0=2, shock_is=1)\n",
    "df_inf.plot(subplots=True, marker='o', layout=(3,2), figsize=(12,4))\n",
    "pass"
   ]
  },
  {
   "cell_type": "markdown",
   "metadata": {
    "hidden": true
   },
   "source": [
    "右３つの図からIS曲線だけにショックが発生していることが分かる。ISショックの符号は正であり，引き起こす要因の例として政府支出の増加や減税，将来を楽観視する投資家の増加などがあげられる。{numref}`fig:12-is_shock_simple`を使い内生変数の動きを考えてみよう。初期時点の均衡は点Aであり，ここからスタートする。\n",
    "* $t=2$期まで：\n",
    "    * 経済は点Aにある。\n",
    "* $t=3$期：\n",
    "    * ショックが発生しISMP曲線は右にシフトする（①）。総需要増加と考えれば良いだろう。その結果，産出は増加し自然率水準からの乖離（$y_t-y^*$）が発生するため，経済は点AからPC曲線に沿ってBに移行する。インフレ率が上昇に**反応して**，中央銀行は名目利子率を上昇させることになる。\n",
    "* $t=4$期:\n",
    "    * ISショックはゼロに戻り，ISMP曲線も元に位置に戻る（②）。産出の自然率水準からの乖離はなくなる。しかし$\\pi_3$のインフレが上昇したため，PC曲線は上方シフトする（③）。点Cが均衡となり，$\\pi_3$の水準は維持されたままとなる。また$\\pi_3=\\pi_4$となっているので，中央銀行も高い名目利子率を維持し続けることになる。\n",
    "* $t=5$期以降：\n",
    "    * $t=4$期の状態が定常状態であり，その状態が続く。"
   ]
  },
  {
   "cell_type": "markdown",
   "metadata": {
    "hidden": true
   },
   "source": [
    "```{figure} /images/is_shock_simple.jpeg\n",
    "---\n",
    "scale: 30%\n",
    "name: fig:12-is_shock_simple\n",
    "---\n",
    "単純なケース：IS曲線へのショックの効果\n",
    "```"
   ]
  },
  {
   "cell_type": "markdown",
   "metadata": {
    "heading_collapsed": true,
    "hidden": true
   },
   "source": [
    "#### MP曲線のショック"
   ]
  },
  {
   "cell_type": "markdown",
   "metadata": {
    "hidden": true
   },
   "source": [
    "$t=0$を初期と考えて$t=3$の時に$v_t=1$となり、それ以外では$v_t=0$と仮定して、変数の推移を計算する。"
   ]
  },
  {
   "cell_type": "code",
   "execution_count": null,
   "metadata": {
    "hidden": true
   },
   "outputs": [],
   "source": [
    "df_inf = ismppc_model_simple(2,a=1,b=1, shock_mp=1)\n",
    "df_inf.plot(subplots=True, marker='o', layout=(3,2), figsize=(12,4))\n",
    "pass"
   ]
  },
  {
   "cell_type": "markdown",
   "metadata": {
    "hidden": true
   },
   "source": [
    "MP曲線の正のショックのみが発生している。何らかの理由（例えば，レアマテリアルなどの輸入財の高騰に直面してインフレのプレッシャーが高まった）で日銀は事前通告なしで名目利子率を上昇させたケースである。\n",
    "* $t=2$期まで：\n",
    "    * 経済は点Aにいる。\n",
    "* $t=3$期：\n",
    "    * ショックが発生する。フィシャー方程式と適応的期待から実質利子率は次式で与えられる。\n",
    "    \n",
    "        $$\n",
    "        r_3 = i_3-\\pi_{3}\n",
    "        $$\n",
    "    　\n",
    "     従って，実質利子率は増加することになり，投資が影響しISMP曲線は左シフト（①）し産出が減少する。産出は自然率水準を下回り，経済はPC曲線に沿って点Bに移行する。それに伴いインフレ率は下落する（$\\pi_2>\\pi_3$）\n",
    "* $t=4$期：\n",
    "    * MP曲線のショックはなくなり，DAD曲線は元に位置に戻る（②）。しかし$\\pi_3$は下落したため，IS曲線は下方シフト（③）し，経済は点Cに移行する。インフレ率は低いままなので，中央銀行も低い名目利子率を維持したままとなる。\n",
    "* $t=5$期以降：\n",
    "    * $t=4$期の状態が定常状態であり，その状態が続く。"
   ]
  },
  {
   "cell_type": "markdown",
   "metadata": {
    "hidden": true
   },
   "source": [
    "```{figure} /images/mp_shock_simple.jpeg\n",
    "---\n",
    "scale: 30%\n",
    "name: fig:12-mp_shock_simple\n",
    "---\n",
    "単純なケース：MP曲線へのショックの効果\n",
    "```"
   ]
  },
  {
   "cell_type": "markdown",
   "metadata": {
    "heading_collapsed": true,
    "jp-MarkdownHeadingCollapsed": true
   },
   "source": [
    "## IS-MP-PCモデル：MP曲線の充実化"
   ]
  },
  {
   "cell_type": "markdown",
   "metadata": {
    "heading_collapsed": true,
    "hidden": true,
    "jp-MarkdownHeadingCollapsed": true
   },
   "source": [
    "### 説明"
   ]
  },
  {
   "cell_type": "markdown",
   "metadata": {
    "hidden": true
   },
   "source": [
    "* フィッシャー方程式，IS曲線，フィリップス曲線は同じ。\n",
    "* MP曲線（Monetary Policy Rule）は中央銀行が名目利子率を決めるルールだが，より現実的な仮定を導入する。中央銀行は，目標とするインフレ率があり，産出量にもターゲット水準がある。ターゲット・インフレ率は$\\pi^*$とし，産出量の目標は自然水準$y^*$とする。中央銀行は２つの目的を達成するために唯一の「武器」である名目利子率を調整する。具体的には次のMP曲線を仮定する。\n",
    "\n",
    "    $$\n",
    "    i_t=r^*+\\pi_t+c(\\pi_t-\\pi^*)+d(y_t-y^*)+v_t\n",
    "    $$ (eq:12-mp)\n",
    "    \n",
    "\n",
    "    * $c>0$：中央銀行はターゲット・インフレ率からの乖離にどれだけ反応するかを捉える。\n",
    "    * $d>0$：中央銀行は産出の自然率水準からの乖離にどれだけ反応するかを捉える。\n",
    "        * $(y_t-y^*)$はGDPギャップとも呼ばれる。\n",
    "    * 以下で説明するが，このMP曲線はテイラー・ルールとして知られており，数十年間の中央銀行の金融政策を捉えていると広く考えられている。\n",
    "    * 貨幣市場では、決定された利子率を成立させるためにマネーストックが調整される。"
   ]
  },
  {
   "cell_type": "markdown",
   "metadata": {
    "heading_collapsed": true,
    "hidden": true,
    "jp-MarkdownHeadingCollapsed": true
   },
   "source": [
    "### 安定性"
   ]
  },
  {
   "cell_type": "markdown",
   "metadata": {
    "hidden": true
   },
   "source": [
    "まず安定性から考えることにする。フィッシャー方程式[](eq:12-fisher)，IS曲線[](eq:12-is)，MP曲線[](eq:12-mp)を使うと次の動学的需要曲線が導出できる。\n",
    "\n",
    "$$\n",
    "y_{t}=y^* +\n",
    "    \\frac{1}{1+ad}\n",
    "    \\left\\{\n",
    "        ac(\\pi^*-\\pi_{t})\n",
    "        +u_{t}-av_{t}\n",
    "    \\right\\}\n",
    "    \\qquad\\text{(ISMP)}\n",
    "$$\n",
    "\n",
    "$c=d=0$の場合，単純なケースのISMP曲線を同じになることが確認できる。もう１つの均衡式には上で導出したPC曲線を使う。\n",
    "\n",
    "$$\n",
    "\\pi_t=\\pi_{t-1}+b(y_t-y^*)+e_t\\qquad\\text{(PC)}\n",
    "$$\n",
    "\n",
    "これにより、$(\\pi_{t-1},u_t,v_t,e_t)$を所与として$y_t$と$\\pi_t$はISMP曲線とPC曲線によって決定される。{numref}`fig:12-ismppc`ではDAD曲線は右下がりとなり，より現実的な総需要曲線となっている。"
   ]
  },
  {
   "cell_type": "markdown",
   "metadata": {
    "hidden": true
   },
   "source": [
    "```{figure} /images/ismppc.jpeg\n",
    "---\n",
    "scale: 30%\n",
    "name: fig:12-ismppc\n",
    "---\n",
    "IS-MP-PCモデル\n",
    "```"
   ]
  },
  {
   "cell_type": "markdown",
   "metadata": {
    "hidden": true
   },
   "source": [
    "更にこの連立方程式を解くと次式を示すことができる。\n",
    "\n",
    "$$\n",
    "\\pi_{t+1} =\n",
    "\\phi_0\\pi^* + \\phi_1\\pi_{t} + \\eta_{t+1}\n",
    "$$ (eq:12-pi_deqn)\n",
    "\n",
    "ここで\n",
    "\n",
    "$$\n",
    "\\phi_0\\equiv\n",
    "\\frac{abc}{1+ad},\n",
    "\\qquad\n",
    "\\phi_1\\equiv\n",
    "\\dfrac{1+ad}{1+abc+ad},\n",
    "\\qquad\n",
    "\\eta_{t+1}\\equiv \\frac{b(u_{t+1}-av_{t+1})+(1+ad)e_{t+1}}{1+a(bc+d)}\n",
    "$$"
   ]
  },
  {
   "cell_type": "markdown",
   "metadata": {
    "hidden": true
   },
   "source": [
    "式[](eq:12-pi_deqn)はインフレ率のダイナミックを示す差分方程式である。式[](eq:12-pi_deqn)から次の結果は明らかである。\n",
    "* $\\phi_1<1$：収束（安定的）\n",
    "* $\\phi_1=1$：収束・発散もせず「同じ」値にとどまる\n",
    "\n",
    "ではパラメータがどのような値の場合に収束するのだろうか。$c$と$d$の値に基づいて表にある４つのケースに分けることができる。\n",
    "\n",
    "|        | $d＞０$       | $d＝０$     |\n",
    "|--------|--------------|-------------|\n",
    "| $c＞０$ | $\\phi_1＜１$ | $\\phi_1＜１$ |\n",
    "| $c＝０$ | $\\phi_1＝１$ | $\\phi_1＝１$ |"
   ]
  },
  {
   "cell_type": "markdown",
   "metadata": {
    "hidden": true
   },
   "source": [
    "この表から$c>0$は$\\phi_1<1$の必要条件であり，$c=0$の場合は必ず$\\phi_1=1$になることが分かる。即ち、インフレ率をコントロールするためには$c>0$は必須である。この含意について考えるためにMP曲線[](eq:12-mp)を$\\pi_t$で微分してみよう。\n",
    "\n",
    "$$\n",
    "\\frac{\\partial i_t}{\\partial\\pi_t}=1+c\n",
    "$$\n",
    "\n",
    "この結果は次のことを意味する。\n",
    "> インフレを制御するためには（即ち、$c>0$），中央銀行はインフレ率の上昇以上に名目利子率を上昇させる必要がある。\n",
    "\n",
    "これは**＜テーラー原則＞**と呼ばれる。直感的には次のように理解できる。外生的な理由で需要が増加しインフレ率が上昇したとしよう。もし中央銀行が名目利子率を十分に上昇させなければ，実質利子率は減少することになる。これにより需要はさらに増加することになり，インフレ率のさらなる上昇につながってしまう。これを避けるためには、実質利子率を上昇させる必要があり，そのためにはインフレ率の上昇よりも大きな名目利子率の上昇が必要となる。\n",
    "\n",
    "[簡単なケース](sec:12-simple)を思い出そう。インパルス反応分析では，一度変化（上昇・下落）したインフレ率はそのまま持続された。この結果はまさしく$c=0$が仮定され$\\phi_1=1$となっていたためである。中央銀行の目的はインフレ率の安定化である。$c>0$の仮定があってこそ，現実の中央銀行の行動を捉えることができるのである。"
   ]
  },
  {
   "cell_type": "markdown",
   "metadata": {
    "heading_collapsed": true,
    "hidden": true,
    "jp-MarkdownHeadingCollapsed": true
   },
   "source": [
    "### 行列を使った計算"
   ]
  },
  {
   "cell_type": "markdown",
   "metadata": {
    "hidden": true
   },
   "source": [
    "上で求めたISMP曲線とPC曲線を再掲する。\n",
    "\n",
    "$$\n",
    "\\begin{align*}\n",
    "y_{t+1}&=y^* +\n",
    "    \\frac{1}{1+ad}\n",
    "    \\left\\{\n",
    "        a(c-1)\\pi^*\n",
    "        -ac\\pi_{t+1}\n",
    "        +a\\pi_t\n",
    "        +u_{t+1}-av_{t+1}\n",
    "    \\right\\}\n",
    "    \\qquad\\text{(ISMP)} \\\\\n",
    "\\pi_{t+1}&=\\pi_t+b(y_{t+1}-y^*)+e_{t+1}\n",
    "\\qquad\\qquad\\qquad\\qquad\\qquad\\qquad\n",
    "\\text{(PC)}\n",
    "\\end{align*}\n",
    "$$"
   ]
  },
  {
   "cell_type": "markdown",
   "metadata": {
    "hidden": true
   },
   "source": [
    "（ISMP）と（PC）を次のように行列を使い書き換えよう。\n",
    "\n",
    "$$\n",
    "\\begin{align*}\n",
    "    \\gamma y_{t+1} + ac\\pi_{t+1} &= \\gamma y^*+ac\\pi^*+u_{t+1}-av_{t+1} \\\\\n",
    "    -by_{t+1}+\\pi_{t+1}&=\\pi_t-by^*+e_{t+1}\n",
    "\\end{align*}\n",
    "$$\n",
    "\n",
    "ここで $\\gamma\\equiv 1+ad$。\n",
    "\n",
    "$$\\Downarrow$$"
   ]
  },
  {
   "cell_type": "markdown",
   "metadata": {
    "hidden": true
   },
   "source": [
    "$$\n",
    "\\begin{align}\n",
    "    AX_{t+1}&=BX_t+C_{t+1} \\\\[7mm]\n",
    "    X_{t+1}=\n",
    "    \\begin{bmatrix}\n",
    "        y_{t+1} \\\\\n",
    "        \\pi_{t+1}\n",
    "    \\end{bmatrix}\n",
    "    ,\\quad\n",
    "    A&=\n",
    "    \\begin{bmatrix}\n",
    "        \\gamma  &  ac \\\\\n",
    "        -b &  1\n",
    "    \\end{bmatrix}\n",
    "    ,\\quad\n",
    "    B=\n",
    "    \\begin{bmatrix}\n",
    "        0 & 0 \\\\\n",
    "        0 & 1\n",
    "    \\end{bmatrix}\n",
    "    \\\\[2mm]\n",
    "    C_{t+1}&=\n",
    "    \\begin{bmatrix}\n",
    "       \\gamma y^*+ac\\pi^* + u_{t+1}-av_{t+1} \\\\\n",
    "       -by^*+e_{t+1}\n",
    "    \\end{bmatrix}\n",
    "\\end{align}\n",
    "$$"
   ]
  },
  {
   "cell_type": "markdown",
   "metadata": {
    "hidden": true
   },
   "source": [
    "$X_{t+1}$で解くと次のようになる。\n",
    "\n",
    "$$\n",
    "X_{t+1}=A^{-1}BX_t+A^{-1}C_{t+1}\n",
    "$$\n",
    "\n",
    "ここで$A^{-1}$は$A$の逆行列。この式を使って，$X_t$と$C_{t+1}$を所与として$X_{t+1}$を計算し，$y_{t+1}$と$\\pi_{t+1}$を求めることができる。"
   ]
  },
  {
   "cell_type": "markdown",
   "metadata": {
    "hidden": true
   },
   "source": [
    "````{admonition} 興味がある人のみ参考にしてください。\n",
    ":class: tip\n",
    "        \n",
    "`SymPy`を使うと，固有値を記号だけを使い計算することが可能である。\n",
    "```\n",
    "import sympy as sy\n",
    "a,b,c,d, lam = sy.symbols('a b c d lam')\n",
    "\n",
    "AA = sy.Matrix([[1+a*d,a*c],[-b,1]])\n",
    "BB = sy.Matrix([[0,0],[0,1]])\n",
    "A_B = AA.inv()*BB\n",
    "cp = sy.det(A_B - lam * sy.eye(2))\n",
    "eigs = sy.solveset(cp, lam)\n",
    "eigs\n",
    "```\n",
    "このコードを実行すると２つの固有値が確認できる。\n",
    "\n",
    "$$\n",
    "\\text{固有値}_1=0,\n",
    "\\quad\n",
    "\\text{固有値}_2=\\dfrac{ad+1}{abc+ad+1}\\equiv\\phi\n",
    "$$\n",
    "\n",
    "$\\text{固有値}_2$は、以前導出した$\\pi_{t+1}$の動学式の右辺の$\\pi_{t}$の係数と同じである。\n",
    "````"
   ]
  },
  {
   "cell_type": "markdown",
   "metadata": {
    "heading_collapsed": true,
    "hidden": true,
    "jp-MarkdownHeadingCollapsed": true
   },
   "source": [
    "### ショックが無い場合のシミュレーション"
   ]
  },
  {
   "cell_type": "markdown",
   "metadata": {
    "heading_collapsed": true,
    "hidden": true,
    "jp-MarkdownHeadingCollapsed": true
   },
   "source": [
    "#### 準備"
   ]
  },
  {
   "cell_type": "markdown",
   "metadata": {
    "hidden": true
   },
   "source": [
    "まず\n",
    "\n",
    "$$\n",
    "u_t=v_t=e_t=0\n",
    "$$\n",
    "\n",
    "を仮定する。この仮定の下で，初期条件$(y_0,\\pi_0)$からどのように定常状態に移行するかをシミュレーションを通して考える。そのための関数を設定するが，初期値の$(y_0,\\pi_0)$以外は次の値をデフォルトの値として設定する。\n",
    "\n",
    "＜定常状態の値＞\n",
    "* $y^*=100$\n",
    "    * 自然産出量からの乖離は％と解釈できる。\n",
    "* $\\pi^*=2$\n",
    "    * 目標インフレ率\n",
    "* $r^*=2$\n",
    "    * 自然利子率\n",
    "\n",
    "＜パラメータのデフォルト値＞\n",
    "* $a=1$\n",
    "    * 実質利子率の1％上昇は需要を1%減少させる。\n",
    "* $b=0.25$\n",
    "    * 産出量が自然率水準を1％上回るとインフレ率は0.25％ポイント上昇する。\n",
    "* $c=1.5$\n",
    "    * テーラーの論文は0.5を使っているが1.5とする[研究](https://www.rieti.go.jp/jp/special/p_a_w/083.html)もある。\n",
    "* $d=0.5$\n",
    "    * テーラーの論文は0.5を使っている\n",
    "\n",
    "（注意）\n",
    "\n",
    "行列$B$の１列目は$0$となっているため、$y_0$は必要ない。言い換えると、$y_0$はどの様な値を取っても均衡に影響しない。しかし次のコードでは$y_0$を指定しないとエラーが出るため$y_0=0$を設定している。"
   ]
  },
  {
   "cell_type": "code",
   "execution_count": null,
   "metadata": {
    "hidden": true
   },
   "outputs": [],
   "source": [
    "def ismppc_model(pi0,y0,a=1.0,b=0.25,c=1.5,d=0.5,n=20):\n",
    "    \"\"\"引数：\n",
    "            pi0：インフレ率の初期値\n",
    "            y0：産出の初期値\n",
    "            a：IS曲線のパラメータ（利子率の乖離）\n",
    "            b：フィリップス曲線のパラメータ（GDPギャップ）\n",
    "            c：MP曲線のパラメータ（インフレ率の乖離）\n",
    "            d：MP曲線のパラメータ（GDPギャップ）\n",
    "            n：シミュレーションの回数\n",
    "       返り値：\n",
    "            インフレ率，産出量，名目利子率，実質利子率のDataFrame\"\"\"\n",
    "    \n",
    "    \n",
    "    # ========== 定常状態 ==========    \n",
    "    y_ss = 100       # y*（産出）\n",
    "    pi_ss = 2        # pi*（インフレ率）\n",
    "    r_ss = 2         # r*（自然利子率）\n",
    "    \n",
    "    \n",
    "    # ========== 初期値 ==========\n",
    "    y = y0           # 産出\n",
    "    pi = pi0         # インフレ率\n",
    "    i=r_ss+pi+c*(pi-pi_ss)+d*(y-y_ss)  # MP曲線を使っている\n",
    "    r = i-pi         # 実質利子率\n",
    "    \n",
    "    # ========== 結果を格納するためのリストの作成 ==========\n",
    "    y_list = [y]     # 産出\n",
    "    pi_list = [pi]   # インフレ率\n",
    "    i_list = [i]     # 名目利子率\n",
    "    r_list = [r]     # 実質利子率\n",
    "    \n",
    "    # ========== モデルの行列 ==========\n",
    "    gamma = 1+a*d\n",
    "    A = np.array([[gamma,a*c],\n",
    "                  [-b,1]])\n",
    "    B = np.array([[0,0],\n",
    "                  [0,1]])\n",
    "    C = np.array([gamma*y_ss+a*c*pi_ss,\n",
    "                  -b*y_ss])\n",
    "    \n",
    "    invA = inv(A)                # Aの逆行列の計算\n",
    "    \n",
    "    for i in range(n):\n",
    "\n",
    "        X = np.array([y,pi])     # 前期のXを設定（式X）\n",
    "        \n",
    "        X = invA@B@X + invA@C    # 今期のXを計算（式１）\n",
    "        \n",
    "        y = X[0]                 # 次のループの「前期のy」として使われる\n",
    "        pi = X[1]                # 次のループの「前期のpi」として使われる\n",
    "        i=r_ss+pi+c*(pi-pi_ss)+d*(y-y_ss)  # MP曲線から\n",
    "        \n",
    "        y_list.append(y)\n",
    "        pi_list.append(pi)\n",
    "        i_list.append(i)\n",
    "        r_list.append(i-pi)\n",
    "\n",
    "    # DataFrameの作成\n",
    "    dic = {'インフレ率':pi_list,\n",
    "           '産出量':y_list,\n",
    "           '名目利子率':i_list,\n",
    "           '実質利子率':r_list}\n",
    "    df = pd.DataFrame(dic)\n",
    "    \n",
    "    # 固有値の計算（参考に）\n",
    "    eig = eigvals(invA@B)\n",
    "    print(f'固有値\\t\\t{eig}')\n",
    "    \n",
    "    return df"
   ]
  },
  {
   "cell_type": "markdown",
   "metadata": {
    "hidden": true,
    "jp-MarkdownHeadingCollapsed": true
   },
   "source": [
    "#### シミュレーション１"
   ]
  },
  {
   "cell_type": "markdown",
   "metadata": {
    "hidden": true
   },
   "source": [
    "初期値を次にように設定する。\n",
    "* $\\pi_0=3.0>2.0=\\pi^*$\n",
    "* $y_0=99<100=y^*$"
   ]
  },
  {
   "cell_type": "code",
   "execution_count": null,
   "metadata": {
    "hidden": true
   },
   "outputs": [],
   "source": [
    "df = ismppc_model(pi0=3.0,y0=99)\n",
    "df.plot(marker='o', subplots=True, layout=(2,2), figsize=(10,5))\n",
    "pass"
   ]
  },
  {
   "cell_type": "markdown",
   "metadata": {
    "hidden": true
   },
   "source": [
    "＜初期時点＞\n",
    "* インフレ率はターゲットを上回っているので中央銀行は名目利子率を高くしようとする。産出は自然率水準を下回っているので名目利子率を低くしよとする。この両方を勘案し名目利子率を決定する。\n",
    "\n",
    "＜結果＞\n",
    "* $c>0$なので中央銀行の金融政策によりインフレ率の減少している。\n",
    "* インフレ率減少に伴って，中央銀行は名目利子率を下げている。\n",
    "* その結果，実質利子率も減少しており，それが投資を刺激し産出量は増加している。\n",
    "\n",
    "{numref}`fig:12-ismppc_simulation`が示すように，この過程でISMP曲線とPC曲線は点Bから徐々に点Aに向かって移動することになる。"
   ]
  },
  {
   "cell_type": "markdown",
   "metadata": {
    "hidden": true
   },
   "source": [
    "```{figure} /images/ismppc-simulation.jpeg\n",
    "---\n",
    "scale: 35%\n",
    "name: fig:12-ismppc_simulation\n",
    "---\n",
    "IS-MP-PCモデルの移行過程\n",
    "```"
   ]
  },
  {
   "cell_type": "markdown",
   "metadata": {
    "heading_collapsed": true,
    "hidden": true,
    "jp-MarkdownHeadingCollapsed": true
   },
   "source": [
    "#### シミュレーション２"
   ]
  },
  {
   "cell_type": "markdown",
   "metadata": {
    "hidden": true
   },
   "source": [
    "初期値を次にように設定する。\n",
    "* $\\pi_0=1.5<2.0=\\pi^*$\n",
    "* $y_0=100.5>100=y^*$"
   ]
  },
  {
   "cell_type": "code",
   "execution_count": null,
   "metadata": {
    "hidden": true
   },
   "outputs": [],
   "source": [
    "df = ismppc_model(pi0=1.5,y0=100.5)\n",
    "df.plot(marker='o', subplots=True, layout=(2,2), figsize=(10,5))\n",
    "pass"
   ]
  },
  {
   "cell_type": "markdown",
   "metadata": {
    "hidden": true
   },
   "source": [
    "＜初期時点＞\n",
    "* インフレ率はターゲットを下回っているので中央銀行は名目利子率を低くしようとする。産出は自然率水準を上回っているので名目利子率を高くしよとする。この両方を勘案し名目利子率を決定する。\n",
    "\n",
    "＜結果＞\n",
    "* $c>0$なので中央銀行の金融政策によりインフレ率の上昇している。\n",
    "* インフレ率上昇に伴って，中央銀行は名目利子率を上げている。\n",
    "* その結果，実質利子率も上昇しており，それが投資需要を抑え産出量は減少している。\n",
    "\n",
    "{numref}`fig:12-ismppc_simulation`では，この過程でISMP曲線とPC曲線は点Cから徐々に点Aに向かって移動することになる。"
   ]
  },
  {
   "cell_type": "markdown",
   "metadata": {
    "hidden": true
   },
   "source": [
    "＜練習問題＞\n",
    "* $c$の値を変えて移行過程の違いを検討しなさい。その要因は何かを考えよう。\n",
    "* $d$の値を変えて移行過程の違いを検討しなさい。その要因は何かを考えよう。"
   ]
  },
  {
   "cell_type": "markdown",
   "metadata": {
    "hidden": true,
    "jp-MarkdownHeadingCollapsed": true
   },
   "source": [
    "### インパルス反応"
   ]
  },
  {
   "cell_type": "markdown",
   "metadata": {
    "hidden": true
   },
   "source": [
    "#### 準備"
   ]
  },
  {
   "cell_type": "markdown",
   "metadata": {
    "hidden": true
   },
   "source": [
    "ここではインパルス反応を使いショックの効果を考える。以前と同じように$u_t$、$v_t$、$e_t$の内１つのショックが１期だけ発生する場合の効果を考える。"
   ]
  },
  {
   "cell_type": "code",
   "execution_count": null,
   "metadata": {
    "hidden": true
   },
   "outputs": [],
   "source": [
    "def ismppc_impulse(a=1.0,b=0.25,c=1.5,d=0.5,shock_is=0,shock_mp=0,shock_pc=0,n=20):\n",
    "    \"\"\"引数：\n",
    "            a：IS曲線のパラメータ（利子率の乖離）\n",
    "            b：フィリップス曲線のパラメータ（GDPギャップ）\n",
    "            c：MP曲線のパラメータ（インフレ率の乖離）\n",
    "            d：MP曲線のパラメータ（GDPギャップ）\n",
    "            shock_is：IS曲線のショック\n",
    "            shock_mp：MP曲線のショック\n",
    "            shock_pc：フィリップス曲線のショック\n",
    "            n：ショック発生後のシミュレーションの回数\n",
    "       返り値：\n",
    "           インフレ率，産出量，名目利子率，実質利子率からなるDataFrame\n",
    "           \n",
    "       * piとyの初期値は定常値に設定してある。\n",
    "       * ショックは３期目に発生する。\"\"\"\n",
    "    \n",
    "    # ========== 定常状態 ==========    \n",
    "    y_ss = 100       # y*\n",
    "    pi_ss = 2        # pi*\n",
    "    r_ss = 2         # r*\n",
    "    \n",
    "    # ========== 結果を格納するリストの作成 ==========\n",
    "    y_list = [y_ss]*3        # 最初の３つの要素は定常状態に設定\n",
    "    pi_list = [pi_ss]*3\n",
    "    i_list = [pi_ss+r_ss]*3\n",
    "    r_list = [r_ss]*3\n",
    "    \n",
    "    # ========== forループのアップデート用変数 ==========\n",
    "    y = y_ss     # 最初はy_ssに設定\n",
    "    pi = pi_ss   # 最初はpi_ssに設定\n",
    "    \n",
    "    # ========== モデルの行列 ==========\n",
    "    gamma = 1+a*d\n",
    "    A = np.array([[gamma,a*c],\n",
    "                  [-b,1]])\n",
    "    B = np.array([[0,0],\n",
    "                  [0,1]])\n",
    "    invA = inv(A)\n",
    "    \n",
    "    # ========== ショック発生時 ==========\n",
    "    # ショックが含まれるC\n",
    "    C = np.array([gamma*y_ss+a*c*pi_ss + shock_is - a*shock_mp,\n",
    "                  -b*y_ss + shock_pc])\n",
    "\n",
    "    X = np.array([y,pi])    # 前期のX（式X）\n",
    "    X = invA@B@X + invA@C   # 今期のXの計算（式１）\n",
    "        \n",
    "    y = X[0]     # アップデート用のyを書き換え、次のループの「前期のy」として使う\n",
    "    pi = X[1]    # アップデート用のpiを書き換え、次のループの「前期のpi」として使う\n",
    "    i = r_ss+pi+c*(pi-pi_ss)+d*(y-y_ss)\n",
    "    r = i-pi\n",
    "    \n",
    "    y_list.append(y)\n",
    "    pi_list.append(pi)\n",
    "    i_list.append(i)\n",
    "    r_list.append(r)\n",
    "    \n",
    "    # ========== ショック後 ==========\n",
    "    C = np.array([gamma*y_ss+a*c*pi_ss,   # ショックは全て０にリセット\n",
    "                  -b*y_ss])\n",
    "    \n",
    "    for j in range(n):\n",
    "\n",
    "        X = np.array([y,pi])     # アップデート用変数を使い前期のXを設定\n",
    "        \n",
    "        X = invA@B@X + invA@C    # 今期のXを計算\n",
    "        \n",
    "        y = X[0]    # アップデート用のyを書き換え、次のループの「前期のy」として使う\n",
    "        pi = X[1]   # アップデート用のpiを書き換え、次のループの「前期のpi」として使う\n",
    "        i=r_ss+pi+c*(pi-pi_ss)+d*(y-y_ss)\n",
    "        \n",
    "        y_list.append(y)\n",
    "        pi_list.append(pi)\n",
    "        i_list.append(i)\n",
    "        r_list.append(i-pi)\n",
    "\n",
    "    # DataFrameの作成\n",
    "    dic = {'インフレ率':pi_list, '産出量':y_list,\n",
    "           '名目利子率':i_list, '実質利子率':r_list}\n",
    "    df = pd.DataFrame(dic)\n",
    "    \n",
    "    return df"
   ]
  },
  {
   "cell_type": "markdown",
   "metadata": {
    "heading_collapsed": true,
    "hidden": true
   },
   "source": [
    "#### PC曲線へのショック"
   ]
  },
  {
   "cell_type": "markdown",
   "metadata": {
    "hidden": true
   },
   "source": [
    "* PC曲線へのショック\n",
    "    * $e_t$の変化\n",
    "\n",
    "        $$\n",
    "        e_{t}=\n",
    "        \\begin{cases}\n",
    "        1&\\text{if }t=3 \\\\\n",
    "        0&\\text{if }t\\ne 3\n",
    "        \\end{cases}\n",
    "        $$\n",
    "    \n",
    "    * $\\pi_t$の1%の上昇\n",
    "    \n",
    "* 供給ショック\n",
    "    * 例えば、期待インフレ率の上昇や生産性減少"
   ]
  },
  {
   "cell_type": "code",
   "execution_count": null,
   "metadata": {
    "hidden": true
   },
   "outputs": [],
   "source": [
    "df_res = ismppc_impulse(shock_pc=1)\n",
    "df_res.plot(marker='o', subplots=True, layout=(2,2), figsize=(10,5))\n",
    "pass"
   ]
  },
  {
   "cell_type": "markdown",
   "metadata": {
    "hidden": true
   },
   "source": [
    "{numref}`fig:12-pc_shock`を使って説明しよう。\n",
    "* $t=2$期以前は定常状態である点Aに経済は位置する。\n",
    "* $t=3$期にフィリップス曲線への予期しないショックが発生し，PC曲線が上方シフトする（①）。経済は点Bにジャンプする。\n",
    "    * インフレ率は上昇し産出は減少する。\n",
    "    * これらに反応して中央銀行は名目利子率を上げる。中央銀行にとってGDPギャップの減少により利子率を下落させる誘因もあるが、名目利子率の上昇によるインフレのコントロールが優先されている。\n",
    "    * 名目利子率変化はインフレ率の変化を上回り実質利子率は上昇する。その結果，投資需要が減少し産出も減少する。\n",
    "* $t=4$期では，ショックはゼロになる。しかしPC曲線は元の位置にすぐには戻らない。その理由は，$\\pi_3$が高かったため$\\pi_4$も高い傾向にある。従って，インフレ率は少ししか減少しない。それに応じて，中央銀行も高い名目利子率を維持し，実質利子率も高い水準のままである。その結果GDPギャップも少ししか縮小しない。\n",
    "* $t=5$期以降，PC曲線が徐々に下方シフトし，経済はISMP曲線に沿って点Aに向かって動いていく（②）。\n",
    "    * $c>0$が成立しているため，インフレ率は徐々に減少する。それに伴い中央銀行も名目利子率減少させる。実質利子率も減少し，徐々に投資需要と産出も増加する。"
   ]
  },
  {
   "cell_type": "markdown",
   "metadata": {
    "hidden": true
   },
   "source": [
    "```{figure} /images/pc_shock.jpeg\n",
    "---\n",
    "scale: 30%\n",
    "name: fig:12-pc_shock\n",
    "---\n",
    "フィリップス曲線へのショックの効果\n",
    "```"
   ]
  },
  {
   "cell_type": "markdown",
   "metadata": {
    "hidden": true
   },
   "source": [
    "#### IS曲線へのショック"
   ]
  },
  {
   "cell_type": "markdown",
   "metadata": {
    "hidden": true
   },
   "source": [
    "* IS曲線へのショック\n",
    "    * $y_t$へのショック\n",
    "    \n",
    "        $$\n",
    "        u_{t}=\n",
    "        \\begin{cases}\n",
    "        1&\\text{if }t=3 \\\\\n",
    "        0&\\text{if }t\\ne 3\n",
    "        \\end{cases}\n",
    "        $$\n",
    "    \n",
    "    * 産出の自然産出水準からの1％乖離\n",
    "\n",
    "* 需要ショック（例：外生的な理由による消費や投資の増加）"
   ]
  },
  {
   "cell_type": "code",
   "execution_count": null,
   "metadata": {
    "hidden": true
   },
   "outputs": [],
   "source": [
    "df_res = ismppc_impulse(shock_is=1.)\n",
    "df_res.plot(marker='o', subplots=True, layout=(2,2), figsize=(10,5))\n",
    "pass"
   ]
  },
  {
   "cell_type": "markdown",
   "metadata": {
    "hidden": true
   },
   "source": [
    "{numref}`fig:12-is_shock`を使って説明しよう。\n",
    "* $t=2$期以前は定常状態である点Aに経済は位置する。\n",
    "* $t=3$期にIS曲線への予期しないショックが発生し，ISMP曲線が右シフトする（①）。経済は点Bにジャンプする。\n",
    "    * インフレ率と産出はともに上昇する。\n",
    "    * これらに反応して中央銀行は名目利子率を上げる。\n",
    "    * 名目利子率変化はインフレ率の変化を上回り実質利子率は上昇する。その結果，間接的な効果として投資需要が減少し産出も減少するが。しかしショックの直接的な効果が勝るため産出は大きくジャンプしている。\n",
    "* $t=4$期では，ショックはゼロになり，ISMP曲線は元の位置に戻る（②）。一方，$\\pi_3$が高かったため，その影響によりPC曲線は上方シフトする（③）。経済は点Cにジャンプする。インフレ率は減少するが高止まりする一方，産出は自然率水準を下回る。これにより，中央銀行は名目利子率を大きく下げることになり，実質利子率も大きく下落する。\n",
    "* $t=5$期以降，PC曲線が徐々に下方シフトし，経済はISMP曲線に沿って点Aに向かって動いていく（④）。\n",
    "    * $c>0$が成立しているため，インフレ率は徐々に減少する。それに伴い中央銀行も名目利子率減少させる。実質利子率も減少し，徐々に投資需要と産出も増加する。"
   ]
  },
  {
   "cell_type": "markdown",
   "metadata": {
    "hidden": true
   },
   "source": [
    "```{figure} /images/is_shock.jpeg\n",
    "---\n",
    "scale: 30%\n",
    "name: fig:12-is_shock\n",
    "---\n",
    "IS曲線へのショックの効果\n",
    "```"
   ]
  },
  {
   "cell_type": "markdown",
   "metadata": {
    "hidden": true
   },
   "source": [
    "#### MP曲線へのショック"
   ]
  },
  {
   "cell_type": "markdown",
   "metadata": {
    "hidden": true
   },
   "source": [
    "* MP曲線へのショック\n",
    "    * $i_t$へのショック\n",
    "    \n",
    "        $$\n",
    "        v_{t}=\n",
    "        \\begin{cases}\n",
    "        1&\\text{if }t=3 \\\\\n",
    "        0&\\text{if }t\\ne 3\n",
    "        \\end{cases}\n",
    "        $$\n",
    "    \n",
    "* 事前アナウンスなしの1％利子率上昇"
   ]
  },
  {
   "cell_type": "code",
   "execution_count": null,
   "metadata": {
    "hidden": true
   },
   "outputs": [],
   "source": [
    "df_res = ismppc_impulse(shock_mp=1.)\n",
    "df_res.plot(marker='o', subplots=True, layout=(2,2), figsize=(10,5))\n",
    "pass"
   ]
  },
  {
   "cell_type": "markdown",
   "metadata": {
    "hidden": true
   },
   "source": [
    "{numref}`fig:12-mp_shock`を使って説明しよう。\n",
    "* $t=2$期以前は定常状態である点Aに経済は位置する。\n",
    "* $t=3$期にMP曲線への予期しないショックが発生し，ISMP曲線が左シフトする（①）。経済は点Bにジャンプする。\n",
    "    * インフレ率と産出はともに減少する。\n",
    "    * これらに反応して中央銀行は名目利子率を下げる。\n",
    "    * 名目利子率変化はインフレ率の変化を上回り実質利子率も下落する。その結果，間接的な効果として投資需要と産出も増加するが。しかしショックの直接的な効果が勝るため産出は大きく下方ジャンプしている。\n",
    "* $t=4$期では，ショックはゼロになり，ISMP曲線は元の位置に戻る（②）。一方，$\\pi_3$が低かったため，その影響によりPC曲線は下方シフトする（③）。経済は点Cにジャンプする。インフレ率は上昇するが低いままである一方，産出は自然率水準を上回る。これにより，中央銀行は名目利子率を大きく上げることになるが，低いインフレ率を考慮し名目利子率の上げ具合を調整している。実質利子率も大きく変化している。\n",
    "* $t=5$期以降，PC曲線が徐々に上方シフトし，経済はISMP曲線に沿って点Aに向かって動いていく（④）。\n",
    "    * $c>0$が成立しているため，インフレ率は徐々に上昇する。それに伴い中央銀行も名目利子率を上昇させる。実質利子率も上昇し，徐々に投資需要と産出も減少しながら定常状態に移行していく。"
   ]
  },
  {
   "cell_type": "markdown",
   "metadata": {
    "hidden": true
   },
   "source": [
    "```{figure} /images/mp_shock.jpeg\n",
    "---\n",
    "scale: 30%\n",
    "name: fig:12-mp_shock\n",
    "---\n",
    "MP曲線へのショックの効果\n",
    "```"
   ]
  },
  {
   "cell_type": "markdown",
   "metadata": {
    "heading_collapsed": true,
    "hidden": true,
    "jp-MarkdownHeadingCollapsed": true
   },
   "source": [
    "### 金融政策のスタンス"
   ]
  },
  {
   "cell_type": "markdown",
   "metadata": {
    "hidden": true
   },
   "source": [
    "中央銀行の政策スタンスはMP曲線の$c$と$d$が反映している。$c$の値が高ければ，インフレ率の乖離により積極的に反応する。同様に，$d$の値が高い場合，GDPギャップ重要視される。では$c$と$d$の値の違いによって経済のダイナミックな反応はどう違って来るのだろうか。この問題を検討するために，次の２つのケースを考える。\n",
    "1. $c=1.5$，$d=0.5$：インフレ率の乖離がより重要\n",
    "1. $c=0.5$，$d=1.5$：産出量の乖離がより重要\n",
    "\n",
    "上で考えたシミュレーションは1のケースであるが，違いはISMP曲線の傾きに現れる。このことは式ISMP曲線を微分すると簡単に確認できる。\n",
    "\n",
    "$$\n",
    "\\frac{\\partial\\pi_t}{\\partial y_t}=\\frac{1+ad}{ac}=\n",
    "\\begin{cases}\n",
    "-1&\\text{(ケース１)}\\\\\n",
    "-5&\\text{(ケース２)}\n",
    "\\end{cases}\n",
    "$$\n",
    "\n",
    "この２つのケースの違いを考えるために，PC曲線へのショックを考えよう。{numref}`fig:12-two_cases`からショックが発生した期のインパクト効果の違いが確認できる。"
   ]
  },
  {
   "cell_type": "markdown",
   "metadata": {
    "hidden": true
   },
   "source": [
    "```{figure} /images/two_cases.jpeg\n",
    "---\n",
    "scale: 30%\n",
    "name: fig:12-two_cases\n",
    "---\n",
    "中央銀行の政策スタンスの違い\n",
    "```"
   ]
  },
  {
   "cell_type": "markdown",
   "metadata": {
    "hidden": true
   },
   "source": [
    "しかし{numref}`fig:12-two_cases`からは，インパクト後の変数の推移はどのように異なるかは明確ではない。シミュレーションで確認しよう。まず２つのケースを計算する。"
   ]
  },
  {
   "cell_type": "code",
   "execution_count": null,
   "metadata": {
    "hidden": true
   },
   "outputs": [],
   "source": [
    "df_res_1 = ismppc_impulse(c=1.5, d=0.5, shock_pc=1.)\n",
    "df_res_2 = ismppc_impulse(c=0.5, d=1.5, shock_pc=1.)"
   ]
  },
  {
   "cell_type": "markdown",
   "metadata": {
    "hidden": true
   },
   "source": [
    "次にプロットする。"
   ]
  },
  {
   "cell_type": "code",
   "execution_count": null,
   "metadata": {},
   "outputs": [],
   "source": [
    "ax = df_res_1.head(0).plot(subplots=True,    #1\n",
    "                           layout=(2,2),     #2\n",
    "                           figsize=(8,5),    #3          \n",
    "                           legend=False)     #4\n",
    "\n",
    "df_lst = [df_res_1, df_res_2]                #5\n",
    "label_lst = ['ケース１', 'ケース２']            #6\n",
    "linestyle_lst = ['-', ':']                   #7\n",
    "col_lst = ['インフレ率', '産出量', '名目利子率', '実質利子率'] #8\n",
    "ax_lst = [ax[0,0], ax[0,1], ax[1,0], ax[1,1]]            #9\n",
    "\n",
    "#10\n",
    "for df, label, ls in zip( df_lst, label_lst, linestyle_lst ):\n",
    "\n",
    "    #11\n",
    "    for col, ax_ in zip( col_lst, ax_lst ):\n",
    "\n",
    "        df.plot(y=col, ax=ax_, linewidth=4, linestyle=ls, label=label)\n",
    "        ax_.set_title(col, size=20)\n",
    "pass"
   ]
  },
  {
   "cell_type": "markdown",
   "metadata": {
    "hidden": true
   },
   "source": [
    "````{admonition} コードの説明\n",
    ":class: dropdown\n",
    "\n",
    "* `#1`：`.head(0)`は列ラベルだけの`DataFrame`を返すが，それを利用して空の軸を作成する。\n",
    "* `#2`：引数として`2`，`2`を使っているので（最初の`2`は行数，次の`2`は列数），4つの「軸」があり`Numpy`の`array`として次のように格納される。\n",
    "    ```\n",
    "    array([[軸１,軸２],\n",
    "           [軸３,軸４]])\n",
    "    ```\n",
    "    この`array`が`ax`に割り当てられている。軸１にアクセスするには`ax[0,0]`，軸２には`ax[0,1]`，軸３には`ax[1,0]`，軸４には`ax[1,1]`とする。`#9`ではそのリストを作成している。\n",
    "* `#3`：キャンバスの大きさを設定している。\n",
    "* `#4`：空の`DataFrame`の凡例が表示されないようにする。\n",
    "* `#5`：使用する`DataFrame`のリスト\n",
    "* `#6`：凡例に表示する文字列のリスト\n",
    "* `#7`：ライン・スタイルのリスト\n",
    "* `#8`：使用する列ラベルのリスト\n",
    "* `#9`：`#2`で作成した軸のリスト\n",
    "* `#10`：`df_lst`、`label_lst`、`linestyle_lst`で`for`ループを実行\n",
    "* `#11`：`col_lst`と`ax_lst`で`for`ループを実行\n",
    "````"
   ]
  },
  {
   "cell_type": "markdown",
   "metadata": {
    "hidden": true
   },
   "source": [
    "ケース１と比べてケース２は，インフレ率よりも産出量の乖離をより重要視する政策スタンスである。実際，産出量の乖離は非常に小さく抑えられている。一方で，インパクト時のインフレ率は高くなっているだけではなく，インフレ率の減少は緩やかであり，より長い期間にかけて目標インフレ率を上回っている。これらの理由は，ケース２で中央銀行は名目利子率が低く抑えているためである。低利子率政策により実質利子率の上昇が低く抑えられ産出量の減少は小さくなる一方，インフレ率の上昇を許していることになる。この結果は，産出量とインフレ率の乖離にトレード・オフが存在し，金融政策のスタンスはインパクト時だけではなく，ある程度長い時間にかけて影響が続くことを示している。"
   ]
  },
  {
   "cell_type": "markdown",
   "metadata": {
    "heading_collapsed": true,
    "jp-MarkdownHeadingCollapsed": true
   },
   "source": [
    "## IS-MP-PSモデルの問題点"
   ]
  },
  {
   "cell_type": "markdown",
   "metadata": {
    "hidden": true
   },
   "source": [
    "第一に，フィシャー方程式[](eq:12-fisher)には$\\text{E}_t\\pi_{t+1}$があり一見フォーワード・ルッキング（将来を見据えた行動）に見えるが，モデルの解はバックワード・ルッキング（後ろ向き）な行動に基づいたモデルとなっている。モデルの解として次の式を導出した（再掲）。\n",
    "\n",
    "$$\n",
    "y_{t+1}=y^* +\n",
    "    \\frac{ac}{1+ad}\n",
    "    \\left(\\pi^*-\\pi_{t+1}\n",
    "    \\right)\n",
    "    \\qquad\\text{(ISMP)}\n",
    "$$\n",
    "\n",
    "$$\n",
    "\\pi_{t+1}=\\pi_{t}+b(y_{t+1}-y^*)\\qquad\\text{(PC)}\n",
    "$$\n",
    "\n",
    "ここでは$u_{t+1}=v_{t+1}=e_{t+1}=0$としている。重要な点は、今期の$\\pi_{t}$さえ分かれば来期のの$\\pi_{t+1}$と$y_{t+1}$は簡単に予測できるという特徴である。モデルの係数が決定され今期のインフレ率さえ分かれば、全ての変数は予測可能ということになる。\n",
    "\n",
    "この特徴を踏まえて，次のシナリオを考えてみよう。$t$期に中央銀行が名目利子率を$t+2$期に減少させるとアナウンスしたとする。実際経済では，企業・消費者が将来の効果を織り込んで行動することにより，マクロ変数も変化することになる。即ち，フォーワード・ルッキングな行動により，マクロ的な変化が現れることになる。一方，IS-MP-PCモデルではそうならない。係数は固定されており，式に沿った変化しか現れない。この理由は，適応的期待に特徴付けられるバックワード・ルッキングな行動に基づいているためである。ショック項をゼロとしているが、ランダムなショックを導入しても同じ問題が存在する。この点を克服するためには，企業・消費者の将来を見据えた最適化行動に基づいたモデルが必要になる。"
   ]
  },
  {
   "cell_type": "markdown",
   "metadata": {
    "hidden": true
   },
   "source": [
    "第二の問題は最初の問題と密接に関連している。上のモデルはルーカス批判と言われる問題に対応できていない。ある経済モデルをデータを使い係数を推定し，それを使って政策変更の効果を考えるとしよう。その場合に使う係数の値は政策変更前の行動に基づいてるが，政策が変更されると企業・消費者は行動を変えるだろう。従って，元々のモデルで政策変更の効果を予測しても意味のないものになりかねない。この問題を回避するためには、モデル自体が企業・消費者の最適化行動（利潤最大化・効用最大化）に基づいていなければならない。IS-MP-PCモデルは，企業・消費者の最適化行動に基づいていないので，ルーカス批判に対応できていない。"
   ]
  },
  {
   "cell_type": "markdown",
   "metadata": {
    "hidden": true
   },
   "source": [
    "この２つの問題を克服するためには、将来を見据えた消費者と企業の最適化行動を導入する必要がある。それがニューケインジアン・モデルと呼ばれるものである。ニューケインジアン・モデルには最適化問題と合理的期待が含まれ複雑である。段階的に説明するために，シミュレーションに必要なツールを紹介し，またニューケインジアン・モデルの土台となった実物的景気循環モデルについて紹介することにする。"
   ]
  }
 ],
 "metadata": {
  "celltoolbar": "Tags",
  "kernel_info": {
   "name": "python3"
  },
  "kernelspec": {
   "display_name": "Python 3 (ipykernel)",
   "language": "python",
   "name": "python3"
  },
  "language_info": {
   "codemirror_mode": {
    "name": "ipython",
    "version": 3
   },
   "file_extension": ".py",
   "mimetype": "text/x-python",
   "name": "python",
   "nbconvert_exporter": "python",
   "pygments_lexer": "ipython3",
   "version": "3.11.9"
  },
  "nteract": {
   "version": "0.15.0"
  },
  "toc": {
   "base_numbering": 1,
   "nav_menu": {},
   "number_sections": true,
   "sideBar": true,
   "skip_h1_title": false,
   "title_cell": "Table of Contents",
   "title_sidebar": "Contents",
   "toc_cell": false,
   "toc_position": {},
   "toc_section_display": true,
   "toc_window_display": false
  }
 },
 "nbformat": 4,
 "nbformat_minor": 4
}
