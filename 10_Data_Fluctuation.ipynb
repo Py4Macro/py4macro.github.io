{
 "cells": [
  {
   "cell_type": "markdown",
   "metadata": {},
   "source": [
    "(chap:10-gdp)=\n",
    "# GDPと構成要素"
   ]
  },
  {
   "cell_type": "markdown",
   "metadata": {},
   "source": [
    "<div name=\"html-admonition\" style=\"font-size: 0.8em\">\n",
    "<input type=\"button\" onclick=\"location.href='https://translate.google.com/translate?hl=&sl=ja&tl=en&u='+window.location;\" value=\"Google translation\" style=\"color:#ffffff;background-color:#008080; height:25px\" onmouseover=\"this.style.background='#99ccff'\" onmouseout=\"this.style.background='#008080'\"/> in English or the language of your choice.\n",
    "</div><br>"
   ]
  },
  {
   "cell_type": "code",
   "execution_count": null,
   "metadata": {},
   "outputs": [],
   "source": [
    "import japanize_matplotlib\n",
    "import numpy as np\n",
    "import pandas as pd\n",
    "import py4macro"
   ]
  },
  {
   "cell_type": "markdown",
   "metadata": {
    "heading_collapsed": true
   },
   "source": [
    "## はじめに"
   ]
  },
  {
   "cell_type": "markdown",
   "metadata": {
    "hidden": true
   },
   "source": [
    "人の心の中を知ることはできない。友人，同僚，パートナー，親族もそうである。また何十年も連れ添った夫婦でさえも完全にお互いの心の中を分かっているとは言い難いだろう。しかし話し言葉やその内容，行動から心の中を推測することは可能である。実際，我々は日常そうしており，人間関係を豊かにする為には必須でる。経済も同じである。経済の動きの裏にある「真のメカニズム」は完全に把握されていない。アダム・スミスの時代に比べると，「熟練夫婦」に匹敵するほど知見は蓄積されたかも知れないが，今でも「真のメカニズム」が100％解明されたとは言い難い。経済学者にとってできることは，経済の「言動」であるデータを観察し「真のメカニズム」について想像を巡らすことである。人の言動に注意を払わずに人の心の中を想像するのは「妄想」となり，データを無視して経済を考えるのは「空想」となってしまう危険性がある。\n",
    "> 人の心の中　$\\Longleftrightarrow$　経済の真のメカニズム\n",
    ">\n",
    "> 人の言動　$\\Longleftrightarrow$　経済データ"
   ]
  },
  {
   "cell_type": "markdown",
   "metadata": {
    "hidden": true
   },
   "source": [
    "この章はマクロ・データの特徴を理解することを目的とする。統計量やプロットを駆使して異なるマクロ・データの特性を炙り出し，経済の「言動」に注目しようということである。特に，以下では国内総生産（GDP）とその構成要素に着目し議論を進める。\n",
    "\n",
    "使うデータは`py4macro`に含まれる日本の四半期データである。1980年から1993年のデータと1994年から2021年までの２つのデータ・セットを組み合わせて作成した。データを読み込むには次のようにする。\n",
    "```\n",
    "py4macro.data('jpn-q')\n",
    "```\n",
    "ここで`jpn`はJapan，`q`はquerterlyを表している。変数の定義を表示するには`description=True`の引数を追加する。"
   ]
  },
  {
   "cell_type": "code",
   "execution_count": null,
   "metadata": {
    "hidden": true,
    "tags": [
     "output_scroll"
    ]
   },
   "outputs": [],
   "source": [
    "py4macro.data('jpn-q', description=True)"
   ]
  },
  {
   "cell_type": "markdown",
   "metadata": {
    "hidden": true
   },
   "source": [
    "このデータ・セットにはGDPとその構成要素以外も含まれているが，それらは次章で使うことになる。\n",
    "\n",
    "まずデータを読み込んで最初の５行を表示してみよう。"
   ]
  },
  {
   "cell_type": "code",
   "execution_count": null,
   "metadata": {
    "hidden": true
   },
   "outputs": [],
   "source": [
    "df = py4macro.data('jpn-q')\n",
    "df.head()"
   ]
  },
  {
   "cell_type": "markdown",
   "metadata": {
    "hidden": true
   },
   "source": [
    "列には変数が並んでいるのが確認できる。行はインデックスではなくラベルとなっており，年・四半期を示している。例えば，`1980-3-31`は1980年第１四半期であり，その最終日がラベルとして使われている。`.info()`を使って確認してみる。"
   ]
  },
  {
   "cell_type": "code",
   "execution_count": null,
   "metadata": {
    "hidden": true
   },
   "outputs": [],
   "source": [
    "df.info()"
   ]
  },
  {
   "cell_type": "markdown",
   "metadata": {
    "hidden": true
   },
   "source": [
    "表示の上から２行目に`DatetimeIndex`とあるが，行ラベルのことを表しており，時系列データ用となっている。具体的な説明は割愛するが，時系列データが扱いやすくなりプロットする際にも便利である。"
   ]
  },
  {
   "cell_type": "markdown",
   "metadata": {},
   "source": [
    "## GDPとその変化"
   ]
  },
  {
   "cell_type": "markdown",
   "metadata": {},
   "source": [
    "まずGDPを図示しよう。"
   ]
  },
  {
   "cell_type": "code",
   "execution_count": null,
   "metadata": {},
   "outputs": [],
   "source": [
    "df['gdp'].plot(title='GDP')\n",
    "pass"
   ]
  },
  {
   "cell_type": "markdown",
   "metadata": {},
   "source": [
    "長期的には上昇トレンドであることが分かる。これが経済成長である。一方で，よく観察するとギザギザに動いていることも確認できる。景気変動である。小さい上下の動きもあれば，より大きな動きもある。例えば，2008年のリーマン・ショック，そして2020年のコロナ禍の影響でGDPは大きく下落している。\n",
    "\n",
    "> (問４）なぜ景気変動は起こるのか？\n",
    "\n",
    "これがマクロ経済学のもう一つのBig Questionである。この章以降は問４を中心にマクロ経済を考察することになる。\n",
    "\n",
    "上の図には2022年第1四半期以降のデータは含まれていない。参考に最新のデータを含む図を下にに表示する。"
   ]
  },
  {
   "cell_type": "code",
   "execution_count": null,
   "metadata": {
    "tags": [
     "thebe-init",
     "hide-input"
    ]
   },
   "outputs": [],
   "source": [
    "from IPython.display import IFrame\n",
    "IFrame(src='https://fred.stlouisfed.org/graph/graph-landing.php?g=BOLN&width=420&height=320',\n",
    "       width=450, height=330)"
   ]
  },
  {
   "cell_type": "markdown",
   "metadata": {},
   "source": [
    "この図は[米国セントルイス連邦準備銀行が管理するFederal Reserve Economic Data (FRED)](https://fred.stlouisfed.org)と呼ばれるデータ・ベースからライブでダウンロードして表示している。\n",
    "\n",
    "`py4macro`を使った上の図もしくはFREDの図にあるGDPは水準を表しているため，GDPの成長率を直接読み取り異なる時期の成長率を比べることは難しい。しかし，それを可能にするのが対数化したGDPのプロットである。まず，なぜそうなのかを簡単に説明しよう。\n",
    "\n",
    "変数`x`の成長率$g_x$は次の式で定義される。\n",
    "\n",
    "$$\n",
    "1+g_x=\\frac{x_{t+1}}{x_{t}}\n",
    "$$\n",
    "\n",
    "ここで$g_x$の値は，例えば`0.02`（`2％`）のような値となる。この式の両辺に対数を取り，近似を使うと次のように書き直すことができる。\n",
    "\n",
    "$$\n",
    "\\log(1+g_x)=\\log(x_{t+1})-\\log(x_{t})\n",
    "$$\n",
    "\n",
    "$$\n",
    "\\qquad\\qquad\\quad\\Downarrow\\text{左辺を近似}\\;\\log(1+g_x)\\approx g_x\n",
    "$$\n",
    "\n",
    "$$\n",
    "g_x\\approx\\log(x_{t+1})-\\log(x_{t})\n",
    "$$ (eq:10-log-growth)\n",
    "\n",
    "`x`の成長率である$g_x$は，`x`の対数の差分ということになる。即ち，縦軸に`x`の対数，横軸に時間をおけば，プロットの傾きは`x`の成長率と等しいことになる。\n",
    "\n",
    "では実際にプロットしよう。"
   ]
  },
  {
   "cell_type": "code",
   "execution_count": null,
   "metadata": {},
   "outputs": [],
   "source": [
    "df['gdp_log'] = np.log(df['gdp'])\n",
    "\n",
    "df['gdp_log'].plot(title='GDP（対数）')\n",
    "pass"
   ]
  },
  {
   "cell_type": "markdown",
   "metadata": {},
   "source": [
    "プロットの傾きは四半期ごとのGDPの成長率であり，成長率が変化しているのがわかる。また，2008年のリーマン・ショックとコロナ禍により成長率が大きく下落していることが確認できる。景気循環により成長率が小刻みに，また時には大きく変化している。\n",
    "\n",
    "次に，長期的な視点で図を眺めてみよう。1980年から1990年までの間に直線のトレンドを描くことができる。その傾きが平均成長率である。同様に，1990年から2020年までの直線トレンドを描くこともできるが，傾きが緩やかになっていることに気づくのではないだろうか。1991年頃のバブル崩壊の影響により，その後のGDPの伸びが鈍化していることがわかる。「失われた10年」，「失われた20年」と言われていたが，今では「失われた30年」と言われる所以である。\n",
    "\n",
    "次に[式](eq:10-log-growth)を使い四半期成長率を計算してみよう。"
   ]
  },
  {
   "cell_type": "code",
   "execution_count": null,
   "metadata": {},
   "outputs": [],
   "source": [
    "df['gdp_growth_quarter'] = 100*df['gdp_log'].diff()   # 1\n",
    "\n",
    "# 2\n",
    "ax_ = df['gdp_growth_quarter'].plot(title='GDP四半期成長率（％）')\n",
    "ax_.grid()   # 3\n",
    "pass"
   ]
  },
  {
   "cell_type": "markdown",
   "metadata": {},
   "source": [
    "```{admonition} コードの説明 🐍\n",
    ":class: code-explanation, dropdown\n",
    "1. `.diff()`は差分を計算するメソッドであり，引数の数（デフォルトは`1`）は何期前の値と差分を計算するかを指定する。\n",
    "2. `Pandas`のメソッド`plot`は図を表示し，同時に図の「軸（axis）」を返すが，それを変数`ax_`に割り当てている。\n",
    "3. 軸の変数`ax_`には様々なメソッドが用意されており，その１つがグリッド線を表示する`.grid()`である。\n",
    "```"
   ]
  },
  {
   "cell_type": "markdown",
   "metadata": {},
   "source": [
    "新聞などで「前年同期比成長率」という表現をみたことがあると思うが，`diff()`の引数を`4`にすることにより，前年同期比の成長率を計算することができる。それを図示してみよう。"
   ]
  },
  {
   "cell_type": "code",
   "execution_count": null,
   "metadata": {},
   "outputs": [],
   "source": [
    "df['gdp_growth_annual'] =  100*df['gdp_log'].diff(4)\n",
    "\n",
    "ax_ = df['gdp_growth_annual'].plot(title='GDP前年同期比成長率（％）')\n",
    "ax_.grid()\n",
    "pass"
   ]
  },
  {
   "cell_type": "markdown",
   "metadata": {},
   "source": [
    "上の図と比べると縦軸の幅の違いに気づくだろう。最高値と最小値を計算してみよう。"
   ]
  },
  {
   "cell_type": "code",
   "execution_count": null,
   "metadata": {},
   "outputs": [],
   "source": [
    "df['gdp_growth_annual'].max(), df['gdp_growth_annual'].min()"
   ]
  },
  {
   "cell_type": "markdown",
   "metadata": {},
   "source": [
    "1980年代後半ののバブル景気には約`7.6`％増加しているが，コロナ禍では約`10`％以上下落している。\n",
    "\n",
    "次の点を知っておくのも有用だろう。\n",
    "* 次の式を使うと四半期成長率を年率換算することもできる。\n",
    "\n",
    "    $$\n",
    "    g_{\\text{年率換算成長率}}=\\left(1+g_{\\text{四半期成長率}}\\right)^4-1\n",
    "    $$\n",
    "\n",
    "    $g_{\\text{四半期成長率}}$が４期続くことを想定した成長率である。\n",
    "* 年次データを使うとGDPの値は均されるので変化率は低めに出る。"
   ]
  },
  {
   "cell_type": "markdown",
   "metadata": {
    "heading_collapsed": true
   },
   "source": [
    "## GDPの構成要素"
   ]
  },
  {
   "cell_type": "markdown",
   "metadata": {
    "hidden": true
   },
   "source": [
    "次式は所得恒等式である。\n",
    "```\n",
    "    GDP=消費＋投資＋政府支出＋純貿易（輸出ー輸入）\n",
    "```\n",
    "GDPに対してそれぞれ構成要素は何％を占め，どのように推移したかを図示する為に，まず変数を計算する。"
   ]
  },
  {
   "cell_type": "code",
   "execution_count": null,
   "metadata": {
    "hidden": true
   },
   "outputs": [],
   "source": [
    "# 消費の割合\n",
    "con_gdp_ratio = 100 * df['consumption'] / df['gdp']\n",
    "\n",
    "# 投資の割合\n",
    "inv_gdp_ratio = 100 * df['investment'] / df['gdp']\n",
    "\n",
    "# 政府支出の割合\n",
    "gov_gdp_ratio = 100 * df['government'] / df['gdp']\n",
    "\n",
    "# 純輸出の割合\n",
    "net_exp_gdp_ratio = 100 * ( df['exports']-df['imports'] ) / df['gdp']"
   ]
  },
  {
   "cell_type": "markdown",
   "metadata": {
    "hidden": true
   },
   "source": [
    "それぞれの平均を`for`ループで計算し表示してみよう。"
   ]
  },
  {
   "cell_type": "code",
   "execution_count": null,
   "metadata": {
    "hidden": true
   },
   "outputs": [],
   "source": [
    "ratio_list = [con_gdp_ratio,inv_gdp_ratio,\n",
    "              gov_gdp_ratio,net_exp_gdp_ratio]\n",
    "\n",
    "label_list = ['Consumption','Investment','Gov Exp','Net Exports']\n",
    "\n",
    "for r, l in zip(ratio_list, label_list):\n",
    "    \n",
    "    avr = r.mean()\n",
    "    \n",
    "    print(l, f'\\t{avr:.1f}')"
   ]
  },
  {
   "cell_type": "markdown",
   "metadata": {
    "hidden": true
   },
   "source": [
    "消費はGDPの`60`％近くあり，GDPの約1/4が政府支出となっている。消費とは対照的に，投資は約`20`％であり消費の約３分の１である。（小数点第一位までしか表示していないため合計は100にならない。）\n",
    "\n",
    "次に推移を確認する。同じように`for`ループを使うと簡単に表示できる。"
   ]
  },
  {
   "cell_type": "code",
   "execution_count": null,
   "metadata": {
    "hidden": true
   },
   "outputs": [],
   "source": [
    "for r, l in zip(ratio_list,label_list):\n",
    "    \n",
    "    r.plot(label=l, legend=True)"
   ]
  },
  {
   "cell_type": "markdown",
   "metadata": {
    "hidden": true
   },
   "source": [
    "````{admonition} コードの説明\n",
    ":class: dropdown\n",
    "\n",
    "* `zip()`について説明する。`zip()`はループによく使われる便利な関数である。以下の単純な`for`ループ\n",
    "    ```\n",
    "    for r in ratio_list:\n",
    "        r.plot()\n",
    "    ```\n",
    "    にはループ用の変数が`r`の１種類しかない。これでも図示することは可能である。しかし凡例を追加するためには`label_list`も`for`ループの中で同時に使う必要がある。そのような場合に便利な関数が`zip()`である。引数に`ratio_list`と`label_list`を入れると，同時に順番に要素にアクセスできる。それぞれの要素を割り当てる変数として`r`と`l`を使っている。`r`と`l`の間に`,`を入れることにより，それぞれ別のリストの要素を捉えることができる。\n",
    "* この`for`ループは以下と等しい。\n",
    "    ```\n",
    "    con_gdp_ratio.plot(label='Consumption', legend=True)\n",
    "    inv_gdp_ratio.plot(label='Investment', legend=True)\n",
    "    gov_gdp_ratio.plot(label='Gov Exp', legend=True)\n",
    "    net_exp_gdp_ratio.plot(label='Net Exports', legend=True)\n",
    "    ```\n",
    "    もちろんこれでも良いが，コードを書く際は極力同じような行を繰り返すのではなくループを使ってまとめる方が良い。第一の理由は，簡単なエラーの可能性を軽減することができることだ。リピートして書く場合，1行をコピペしその後に1行ずつ修正をするパターンが多いが，最初の１行目が間違っている場合，全ての行を修正する必要が発生する。その際に修正し忘れることがある。第二の理由は，コードの修正も簡単になるためである。例えば，`linewidth=2`を設定したいとしよう。`for`ループの場合は一箇所に加えるだけで済むことになる。\n",
    "````"
   ]
  },
  {
   "cell_type": "markdown",
   "metadata": {
    "hidden": true
   },
   "source": [
    "景気の動向によって上下することがわかる。例えば，リマン・ショック後には投資が大きく下落し少しずつしか上昇しない。一方，景気悪化に反応し政府支出の割合は上昇している。またバブル景気（1986年から1991年まで）ではその逆が起こっており，順位が逆転する程である。コロナ禍の影響もプロットにハッキリと現れている。"
   ]
  },
  {
   "cell_type": "markdown",
   "metadata": {
    "heading_collapsed": true
   },
   "source": [
    "## トレンドと変動"
   ]
  },
  {
   "cell_type": "markdown",
   "metadata": {
    "hidden": true
   },
   "source": [
    "### 説明"
   ]
  },
  {
   "cell_type": "markdown",
   "metadata": {
    "hidden": true
   },
   "source": [
    "上の分析から明らかなことは，マクロ変数は変動するということであり，正しくそれが景気循環を表している。ここでは景気循環について，もう一歩踏み込んで考えてみる。\n",
    "\n",
    "マクロ変数はトレンドと変動（サイクル）に分解することができる。例えば，$Y$をGDPとすると次式のように２つの項で表すことができる。\n",
    "\n",
    "$$\n",
    "Y=Y_t^{\\text{trend}}Y_t^{\\text{cycle}}\n",
    "$$ (eq:10-decompose)\n",
    "\n",
    "$Y_t^{\\text{trend}}$は長期的な傾向を表し，GDPであれば経済成長を捉えている。また，トレンドが右上がりでないものありえる。例えば，失業率の場合，自然失業率が一定であればトレンドはないということになる。一方，$Y_t^{\\text{cycle}}$は短期的な景気循環を捉えている。内閣府は景気循環を「山」と「谷」の２つに分けて[景気基準日付](https://www.esri.cao.go.jp/jp/stat/di/hiduke.html)を発表している。トレンドを上回っている期間を「山」，下回っている期間を「谷」と考えて良いだろう。図示すると次のようになる。"
   ]
  },
  {
   "cell_type": "code",
   "execution_count": null,
   "metadata": {
    "hidden": true,
    "tags": [
     "hide-input"
    ]
   },
   "outputs": [],
   "source": [
    "def trend_cycle():\n",
    "    \n",
    "    import matplotlib.pyplot as plt\n",
    "    import matplotlib.lines as mlines\n",
    "    \n",
    "    # フォントのサイズ\n",
    "    font_largest=30\n",
    "    font_large=20\n",
    "\n",
    "    # GDPのプロット\n",
    "    xlow = 0\n",
    "    xhigh = 3*np.pi\n",
    "    x = np.arange(xlow, xhigh, 0.1)\n",
    "\n",
    "    def yfunc(x):\n",
    "        return np.cos(x+np.pi/2)+0.1*x\n",
    "\n",
    "    fig, ax = plt.subplots(figsize=(10,5))\n",
    "    ax.plot(x, yfunc(x), linewidth=7, label='GDP')\n",
    "\n",
    "    # トレンド線のプロット\n",
    "    xx = np.linspace(xlow-1., xhigh+1)\n",
    "\n",
    "    def trend_line(x):\n",
    "        return ( yfunc(3*np.pi)-yfunc(0) )/(3*np.pi) * (x-0)+yfunc(0)\n",
    "\n",
    "    ax.plot(xx, trend_line(xx), lw=4, color='orange', label='トレンド')\n",
    "\n",
    "    # 縦点線のプロット\n",
    "    ylow = -1.68\n",
    "    \n",
    "    tani0 = mlines.Line2D([np.pi/2, np.pi/2], [ylow, yfunc(np.pi/2)],  linestyle='--')\n",
    "    yama = mlines.Line2D([np.pi*3/2, np.pi*3/2], [ylow+0.4, yfunc(np.pi*3/2)],  linestyle='--')\n",
    "    tani1 = mlines.Line2D([np.pi*5/2, np.pi*5/2], [ylow, yfunc(np.pi*5/2)],  linestyle='--')\n",
    "    \n",
    "    ax.add_line(tani0)\n",
    "    ax.add_line(yama)\n",
    "    ax.add_line(tani1)\n",
    "\n",
    "    # 矢印のプロット（拡張と後退）\n",
    "    for dx in [np.pi/2, -np.pi/2]:\n",
    "        ax.arrow(x=np.pi, y=-1.2, dx=dx, dy=0,\n",
    "                 width=0.01, head_width=0.1,head_length=0.2,\n",
    "                 length_includes_head=True,color='k')\n",
    "\n",
    "    for dx in [np.pi/2, -np.pi/2]:\n",
    "        ax.arrow(x=2*np.pi, y=-1.2, dx=dx, dy=0,\n",
    "                 width=0.01, head_width=0.1,head_length=0.2,\n",
    "                 length_includes_head=True,color='k')\n",
    "\n",
    "    # 矢印のプロット（全循環）\n",
    "    start_arrow_shift = 0.8\n",
    "    ax.arrow(x=np.pi*3/2-start_arrow_shift, y=-1.5,\n",
    "             dx=-(np.pi-start_arrow_shift), dy=0,\n",
    "             width=0.01, head_width=0.1,head_length=0.2,\n",
    "             length_includes_head=True,color='k')\n",
    "    ax.arrow(x=np.pi*3/2+start_arrow_shift, y=-1.5,\n",
    "             dx=np.pi-start_arrow_shift, dy=0,\n",
    "             width=0.01, head_width=0.1,head_length=0.2,\n",
    "             length_includes_head=True,color='k')\n",
    "\n",
    "    # 注釈の挿入\n",
    "    x0 = np.pi/2\n",
    "    x1 = np.pi*3/2\n",
    "    x2 = np.pi*5/2\n",
    "    xshift = 0.33\n",
    "    yshift = 0.2\n",
    "\n",
    "    ax.annotate('谷', xy=(x0-xshift, yfunc(x0)+yshift),size=font_largest)\n",
    "    ax.annotate('山', xy=(x1-xshift, yfunc(x1)+yshift), annotation_clip=False, size=font_largest)\n",
    "    ax.annotate('谷', xy=(x2-xshift, yfunc(x2)+yshift),size=font_largest)\n",
    "\n",
    "#     ax.annotate('好況', xy=(xlow-1.1,0.2), annotation_clip=False, size=font_large, color='green')\n",
    "#     ax.annotate('不況', xy=(xlow-1.1,-0.5), annotation_clip=False, size=font_large, color='red')\n",
    "#     ax.annotate('好況', xy=(xhigh+0.3,1.25), annotation_clip=False, size=font_large, color='green')\n",
    "#     ax.annotate('不況', xy=(xhigh+0.3,0.55), annotation_clip=False, size=font_large, color='red')\n",
    "\n",
    "    ax.annotate('拡張', xy=(np.pi-0.2,-1.05), size=font_large, color='green')\n",
    "    ax.annotate('後退', xy=(2*np.pi-0.5,-1.05), size=font_large, color='red')\n",
    "    ax.annotate('全循環', xy=(np.pi*3/2-0.65,-1.6), size=font_large)\n",
    "\n",
    "    # 横軸のラベル，凡例を追加，縦軸の表示範囲の設定\n",
    "    ax.set_xlabel('時間', size=font_large)\n",
    "    ax.legend(loc='upper left', fontsize=20)\n",
    "    ax.set_ylim(ymax=2.3)\n",
    "\n",
    "    # 縦軸・横軸のラベルと目盛の削除\n",
    "    ax.set_yticklabels([])\n",
    "    ax.set_xticklabels([])\n",
    "    ax.set_xticks([])\n",
    "    ax.set_yticks([])\n",
    "\n",
    "    # 枠を削除\n",
    "    for s in ['top', 'right', 'left','bottom']:\n",
    "        ax.spines[s].set_visible(False)\n",
    "\n",
    "trend_cycle()"
   ]
  },
  {
   "cell_type": "markdown",
   "metadata": {
    "hidden": true
   },
   "source": [
    "この図のトレンドは右上がりとなっているが，一定もしくは右下がりになる場合もありえる。この図から，拡張・後退はGDPの変化を捉えていることが分かる。また，このプロットは`NumPy`のコサイン関数を使って描画しているので，「谷」と「山」が発生した時期を簡単に見分けることができる。しかし，上のGDPデータのプロットを見直すと，「谷」と「山」がいつだったかを決めるのは簡単な問題ではないと想像できるだろう。実際，内閣府は単にGDPのデータを眺めるだけではなく[景気動向指数](https://www.esri.cao.go.jp/jp/stat/di/menu_di.html)を含め様々なデータに基づき，「谷」と「山」の時期を確定している。\n",
    "\n",
    "景気循環を考える上で重要な役割を果たすのがトレンドである。トレンドはどのように計算するのだろうか。実は，決まった計算方法があるわけではなく，いろいろな考え方がある。実際，内閣府と日本銀行は独自の方法でGDPトレンドを算出している。\n",
    "* [内閣府のデータ](https://www5.cao.go.jp/keizai3/getsurei/getsurei-index.html)\n",
    "    * 「潜在GDP」がトレンドに対応しており，「GDPギャップ」はトレンドからの％乖離を表している。\n",
    "* [日本銀行のデータ](https://www.boj.or.jp/research/research_data/gap/index.htm/)\n",
    "    * 「潜在成長率」はトレンドの成長率に対応しており，「需給ギャップ」がトレンドからの％乖離を表している。\n",
    "\n",
    "いずれにしろ，どのようにトレンドを決めたとしても，景気循環が人々の厚生に大きな影響を及ぼすことには変わりはない。不況は失業や様々な社会問題（例えば，犯罪や自殺）につながる。好況でも問題が無いわけではない。例えば，高いインフレが発生し資産価値（例えば，貨幣）が暴落し通常の生活に支障が出ることもある。またバブル景気が示すように「山」は次の「谷」の芽を育む期間となりえる。\n",
    "\n",
    "以下では，データを使い景気循環$Y_t^{\\text{cycle}}$の特徴を調べるが，まず上の式[](eq:10-decompose)を対数化し次式に書き換える。\n",
    "\n",
    "$$\n",
    "y_t^{\\text{cycle}}=y_t-y_t^{\\text{trend}}\n",
    "$$ (eq:10-decompose_log)\n",
    "\n",
    "ここで小文字は大文字の変数を対数化した値である（例えば，$y_t\\equiv\\log(Y_t)$）。$y_t^{\\text{cycle}}$をより直感的に解釈するために式[](eq:10-decompose_log)の右辺を次のように近似しよう。\n",
    "\n",
    "$$\n",
    "y_t^{\\text{cycle}}\\approx\\dfrac{Y_t-Y_t^{\\text{trend}}}{Y_t^{\\text{trend}}}\n",
    "$$ (eq:10-decompose_log_approx)\n",
    "\n",
    "即ち，$y_t^{\\text{cycle}}$は変数$Y_t$のトレンドからの乖離をパーセンテージで表している。\n",
    "\n",
    "ここまでの説明から，景気循環を捉える項$y_t^{\\text{cycle}}$は変数の値とトレンドとの残差によって決まることがわかる。換言すると，景気循環の特徴はトレンドをどのように考えるかに依存しており，トレンドの算出方法をどうするか決めるかが重要なポイントとなる。ここでは，内閣府や日本銀行の複雑な手法ではなく，マクロ経済学研究でスタンダードなツールとなっている[Hodrick–Prescottフィルター](https://www.google.co.jp/search?q=Hodrick%E2%80%93Prescott%E3%83%95%E3%82%A3%E3%83%AB%E3%82%BF%E3%83%BC)と呼ばれる手法を使うことにする。詳細についての説明は控え，単に`py4macro`に含まれる関数`trend`を使ってトレンド抽出を行うことにする。使い方は次のコードで確認できる。"
   ]
  },
  {
   "cell_type": "code",
   "execution_count": null,
   "metadata": {
    "hidden": true
   },
   "outputs": [],
   "source": [
    "help(py4macro.trend)"
   ]
  },
  {
   "cell_type": "markdown",
   "metadata": {
    "hidden": true
   },
   "source": [
    "使い方は簡単で，トレンドを計算したい変数の`Series`もしくは１列の`DataFrame`を引数に設定し実行するとトレンドが返される。ただ，HPフィルターは線形トレンドが仮定されているため，次の点に注意すること。\n",
    "* GDPや消費の様に長期的に増加している変数は対数化し，`trend()`関数の引数に使うこと。\n",
    "* 失業率やインフレ率の様に長期的には「一定」になる変数は，そのまま`trend()`関数の引数に使うこと。"
   ]
  },
  {
   "cell_type": "markdown",
   "metadata": {
    "hidden": true
   },
   "source": [
    "まず次の変数の対数化した変数とそのトレンドを計算し`df`に追加しよう。"
   ]
  },
  {
   "cell_type": "code",
   "execution_count": null,
   "metadata": {
    "hidden": true
   },
   "outputs": [],
   "source": [
    "var_list = ['gdp',\n",
    "            'consumption',\n",
    "            'investment',\n",
    "            'government',\n",
    "            'exports',\n",
    "            'imports']"
   ]
  },
  {
   "cell_type": "code",
   "execution_count": null,
   "metadata": {
    "hidden": true
   },
   "outputs": [],
   "source": [
    "for v in var_list:\n",
    "    df[v+'_log'] = np.log( df.loc[:,v] )  #1\n",
    "    df[v+'_log_trend'] = py4macro.trend( df.loc[:,v+'_log'] )  #2"
   ]
  },
  {
   "cell_type": "markdown",
   "metadata": {
    "hidden": true
   },
   "source": [
    "```{admonition} コードの説明\n",
    ":class: dropdown\n",
    "\n",
    "* `#1`：対数化した変数を新たな列として追加している。列ラベルを`v+'_log'`としているのは元々の変数名の後に`_logを追加するためである。例えば，１回目のループの新たな列ラベルは`gdp_log`となり，２回目のループでは`consumption_log`となる。\n",
    "* `#2`：対数化した変数のトレンドを新たな列として追加している。列ラベルを`v+'_log_trend'`としているのは元々の変数名の後に`_log_trend`を追加するためである。例えば，１回目のループの新たな列ラベルは`gdp_log_trend`となり，２回目のループでは`consumption_log_trend`となる。\n",
    "```\n",
    "\n",
    "`df`の属性`.columns`を使い，列ラベルを表示して確認してみよう。"
   ]
  },
  {
   "cell_type": "code",
   "execution_count": null,
   "metadata": {
    "hidden": true
   },
   "outputs": [],
   "source": [
    "df.columns"
   ]
  },
  {
   "cell_type": "markdown",
   "metadata": {
    "hidden": true
   },
   "source": [
    "`_log`と`_log_trend`が追加された変数が新たに作られていることが確認できる。"
   ]
  },
  {
   "cell_type": "markdown",
   "metadata": {
    "heading_collapsed": true,
    "hidden": true
   },
   "source": [
    "### GDP"
   ]
  },
  {
   "cell_type": "markdown",
   "metadata": {
    "hidden": true
   },
   "source": [
    "対数化したGDPの変数を作成しトレンドと重ねて図示してみる。"
   ]
  },
  {
   "cell_type": "code",
   "execution_count": null,
   "metadata": {
    "hidden": true
   },
   "outputs": [],
   "source": [
    "df[['gdp_log','gdp_log_trend']].plot()\n",
    "pass"
   ]
  },
  {
   "cell_type": "markdown",
   "metadata": {
    "hidden": true
   },
   "source": [
    "トレンドは直線ではなくスムーズな曲線となっている。上下に動く変数を平滑化したものがトレンドなので直線になるとは限らないのである。\n",
    "\n",
    "次に景気循環の変数を作成するが，トレンドからの乖離を％で表すために次の関係を利用する。\n",
    "\n",
    "$$\n",
    "\\frac{X-Z}{Z}\n",
    "\\approx\\log\\left(\\frac{X}{Z}\\right)\n",
    "=\\log(X) - \\log(Z)\n",
    "$$ (eq:10-devaition)"
   ]
  },
  {
   "cell_type": "code",
   "execution_count": null,
   "metadata": {
    "hidden": true
   },
   "outputs": [],
   "source": [
    "df['gdp_cycle'] = 100 * ( df['gdp_log'] - df['gdp_log_trend'] )"
   ]
  },
  {
   "cell_type": "markdown",
   "metadata": {
    "hidden": true
   },
   "source": [
    "`0`に横線を引いてプロットしてみよう。"
   ]
  },
  {
   "cell_type": "code",
   "execution_count": null,
   "metadata": {
    "hidden": true
   },
   "outputs": [],
   "source": [
    "ax_ = df['gdp_cycle'].plot(marker='.',    # 1\n",
    "                           linestyle=':',\n",
    "                           title='GDPのトレンドからの％乖離')\n",
    "ax_.axhline(0, color='red')               # 2\n",
    "pass"
   ]
  },
  {
   "cell_type": "markdown",
   "metadata": {
    "hidden": true
   },
   "source": [
    "```{admonition} コード説明\n",
    ":class: dropdown\n",
    "\n",
    "1. `Pandas`のメソッド`plot`は図を表示すると共に図の「軸（axis）」を返すが，それを変数`ax`に割り当てている。\n",
    "    * `marker`はデータのマーカーを指定する引数であり，`'.'`は小さな点を指定している。\n",
    "    * `linestyle`は線のスタイルを指定する引数であり，`':'`は点線を指定している。\n",
    "2. `ax_`のメソッド`.axhline()`を使うと横線を描くことができる。\n",
    "    * 縦軸の値`0`は必須の引数\n",
    "    * `color=red`は色を指定する引数（無くても良い）。\n",
    "```"
   ]
  },
  {
   "cell_type": "markdown",
   "metadata": {
    "hidden": true
   },
   "source": [
    "図の景気循環はトレンドからの乖離である。乖離の典型的な特徴として持続性がある。これは同じ方向の乖離が続く傾向があるという意味である。即ち，今期景気が良ければ（悪ければ）来期も景気が良い（悪い）可能性が高いということである。もちろん，いずれは乖離が狭まり「山」から「谷」，そして「山」へと循環して行く。持続性を示す数値として自己相関係数がある。\n",
    "\n",
    "説明するために２つの変数$Y$と$Z$を考え次の係数を定義しよう。\n",
    "\n",
    "$$\n",
    "R(Y,Z)=\n",
    "\\frac{\n",
    "    \\text{YとZの標本共分散}\n",
    "    }{\n",
    "    \\sqrt{\\text{Yの標本分散}}\n",
    "    \\sqrt{\\text{Xの標本分散}}\n",
    "    }\n",
    "$$ (eq:10-YZ)\n",
    "\n",
    "* 分子の標本共分散が符号を決定する。\n",
    "* 分母は$R(Y,Z)$の値が$-1\\leq R(Y,Z)\\leq 1$となるよう標準化している。\n",
    "\n",
    "$t$期のGDPを$x_t$としよう。式[](eq:10-YZ)を使うと，$Y$と$Z$が次の場合に$x_t$の自己相関係数となる。\n",
    "\n",
    "$$\n",
    "Y=x_t,\\quad Z=x_{t-1}\n",
    "$$ (eq:10-autocorrelation)\n",
    "\n",
    "直感的に説明すると，自己相関とは今期の値が前期の値に依存する程度をいう。前期の影響が強ければ，自己相関係数の絶対値は大きくなる。\n",
    "\n",
    "式[](eq:10-autocorrelation)として式[](eq:10-YZ)を計算するが，`Series`にはそれを計算するメソッド`.autocorr()`が用意されている。"
   ]
  },
  {
   "cell_type": "code",
   "execution_count": null,
   "metadata": {
    "hidden": true
   },
   "outputs": [],
   "source": [
    "df['gdp_cycle'].autocorr()"
   ]
  },
  {
   "cell_type": "markdown",
   "metadata": {
    "hidden": true
   },
   "source": [
    "正の値であり，今期に高（低）ければ来期も高い（低い）可能性が非常に大きいことが分かる。第二の特徴として，「山」と「谷」の形，幅（期間），高さ（深さ）はまちまちであり，不確実な要素の働きが大きい。言い換えると，景気循環の予測は非常に難しい。この点は確率変数として捉えることができるが，このアプローチは後のトピックで扱う。"
   ]
  },
  {
   "cell_type": "markdown",
   "metadata": {
    "heading_collapsed": true,
    "hidden": true
   },
   "source": [
    "### GDPの構成要素"
   ]
  },
  {
   "cell_type": "markdown",
   "metadata": {
    "heading_collapsed": true,
    "hidden": true
   },
   "source": [
    "#### トレンドからの乖離"
   ]
  },
  {
   "cell_type": "markdown",
   "metadata": {
    "hidden": true
   },
   "source": [
    "次にGDPの構成要素について考えるが，まずトレンドからの乖離の変数を作成する（単位：％）。"
   ]
  },
  {
   "cell_type": "code",
   "execution_count": null,
   "metadata": {
    "hidden": true
   },
   "outputs": [],
   "source": [
    "for v in var_list[1:]:   # gdp以外の変数    \n",
    "    df[v+'_cycle'] = 100 * ( df[v+'_log'] -df[v+'_log_trend'] ) "
   ]
  },
  {
   "cell_type": "markdown",
   "metadata": {
    "hidden": true
   },
   "source": [
    "図示する変数のリスを作成するために，列ラベルを確認しよう。"
   ]
  },
  {
   "cell_type": "code",
   "execution_count": null,
   "metadata": {
    "hidden": true
   },
   "outputs": [],
   "source": [
    "df.columns"
   ]
  },
  {
   "cell_type": "markdown",
   "metadata": {
    "hidden": true
   },
   "source": [
    "列ラベルに`_cycle`がついている変数だけを選ぶために`cycle_list`を作成する。"
   ]
  },
  {
   "cell_type": "code",
   "execution_count": null,
   "metadata": {
    "hidden": true
   },
   "outputs": [],
   "source": [
    "cycle_list = df.columns[-6:]   # 最後の6変数\n",
    "\n",
    "df.loc[:,cycle_list].plot(subplots=True, figsize=(8,10))\n",
    "pass"
   ]
  },
  {
   "cell_type": "markdown",
   "metadata": {
    "hidden": true
   },
   "source": [
    "この図に基づいて３つの点について考える。\n",
    "1. 持続性を示す自己相関\n",
    "1. GDPと順循環的（pro-cyclical）か反循環的（counter- cyclical）かどうか\n",
    "1. 変動の大きさの比較"
   ]
  },
  {
   "cell_type": "markdown",
   "metadata": {
    "heading_collapsed": true,
    "hidden": true
   },
   "source": [
    "#### 自己相関"
   ]
  },
  {
   "cell_type": "markdown",
   "metadata": {
    "hidden": true
   },
   "source": [
    "`for`ループを使って自己相関係数を計算しよう。"
   ]
  },
  {
   "cell_type": "code",
   "execution_count": null,
   "metadata": {
    "hidden": true
   },
   "outputs": [],
   "source": [
    "for v in cycle_list:\n",
    "    autocorr = df[v].autocorr()           # (1)\n",
    "    print(f'{v:<19}{autocorr:>5.2f}')     # (2)"
   ]
  },
  {
   "cell_type": "markdown",
   "metadata": {
    "hidden": true
   },
   "source": [
    "```{admonition} コードの説明\n",
    ":class: dropdown\n",
    "\n",
    "1. `.autocorr()`は自己相関係数を計算するメソッド。\n",
    "2. `f-string`を使っている。\n",
    "    * `<19`は`v`の文字列の長さを空白を足して`19`にし左詰めにする。\n",
    "    * `>5`は`corr`の文字列の長さを空白を足して`5`にし右詰めにする。\n",
    "    * `.2f`は小数点第二位までの表示を設定している。\n",
    "        * `>5`と`.2f`の順番を逆にするとエラーが発生する。\n",
    "```"
   ]
  },
  {
   "cell_type": "markdown",
   "metadata": {
    "hidden": true
   },
   "source": [
    "全て`0.45`以上であり，強い持続性が確認できる。"
   ]
  },
  {
   "cell_type": "markdown",
   "metadata": {
    "heading_collapsed": true,
    "hidden": true
   },
   "source": [
    "#### GDPとの相関度"
   ]
  },
  {
   "cell_type": "markdown",
   "metadata": {
    "hidden": true
   },
   "source": [
    "GDPと他の変数との相関度を確認するために２変数の相関係数を考えよう。式[](eq:10-YZ)を使うと$Y$と$Z$は次のようになる。\n",
    "\n",
    "$$\n",
    "Y=\\text{GDP},\\quad\n",
    "Z=\\text{GDPの構成要素の変数}\n",
    "$$ (eq:10-correlation)\n",
    "\n",
    "式[](eq:10-correlation)として式[](eq:10-YZ)を計算するが，`Series`にはそれを計算するメソッド`.corr()`が用意されている。`for`ループを使って計算しよう。"
   ]
  },
  {
   "cell_type": "code",
   "execution_count": null,
   "metadata": {
    "hidden": true
   },
   "outputs": [],
   "source": [
    "print('GDPの変動との相関係数\\n------------------------')\n",
    "\n",
    "for v in cycle_list:\n",
    "    corr = df[['gdp_cycle', v]].corr().iloc[0,1]  # 1\n",
    "    print(f'{v:<19}{corr:>5.2f}')                 # 2"
   ]
  },
  {
   "cell_type": "markdown",
   "metadata": {
    "hidden": true
   },
   "source": [
    "```{admonition} コードの説明\n",
    ":class: dropdown\n",
    "\n",
    "1. `.corr()`は相関係数を計算するメソッドであり，2x2の行列を返す。\n",
    "    * `iloc[0,1]`は相関係数の値を抽出している。`iloc[1,0]`でも同じ結果となる。\n",
    "2. `f-string`を使っている。\n",
    "    * `<19`は`v`の文字列の長さを空白を足して`19`にし左詰めにする。\n",
    "    * `>5`は`corr`の文字列の長さを空白を足して`5`にし右詰めにする。\n",
    "    * `.2f`は小数点第二位までの表示を設定している。\n",
    "        * `>5`と`.2f`の順番を逆にするとエラーが発生する。\n",
    "```"
   ]
  },
  {
   "cell_type": "markdown",
   "metadata": {
    "hidden": true
   },
   "source": [
    "政府支出以外は全て相関係数は正の値であり，値も大きい。即ち，順循環的である（裏にあるメカニズムを考えてみよう）。下の図はGDPと投資の散布図であり，正の相関を確認できる。"
   ]
  },
  {
   "cell_type": "code",
   "execution_count": null,
   "metadata": {
    "hidden": true
   },
   "outputs": [],
   "source": [
    "df.plot('gdp_cycle', 'investment_cycle', kind='scatter')\n",
    "pass"
   ]
  },
  {
   "cell_type": "markdown",
   "metadata": {
    "hidden": true
   },
   "source": [
    "一方，政府支出の値は負であり，景気循環をコントロールしようとする政府の政策の現れと解釈できる。値が小さいのは，時間的なラグがあるためだと思われる。景気に関するデータを集計するには数ヶ月かかり，国会審議や支出の実行にも時間を取られることになる。時間的なラグを捉えるために，`Series`のメソッド`.shift()`を使って相関係数を再計算してみよう。"
   ]
  },
  {
   "cell_type": "code",
   "execution_count": null,
   "metadata": {
    "hidden": true
   },
   "outputs": [],
   "source": [
    "print('  GDPとの相関係数\\n-----------------------')\n",
    "\n",
    "for n in range(1,12):\n",
    "    \n",
    "    df['gov_cycle_shift'] = df['government_cycle'].shift(-n)     #1\n",
    "    \n",
    "    corr = df[['gdp_cycle', 'gov_cycle_shift']].corr().iloc[0,1]\n",
    "    \n",
    "    print(f'{n:>3}期先の政府支出: {corr:>6.3f}')\n",
    "    \n",
    "    del df['gov_cycle_shift']                                    #2"
   ]
  },
  {
   "cell_type": "markdown",
   "metadata": {
    "hidden": true
   },
   "source": [
    "```{admonition} コードの説明\n",
    ":class: dropdown\n",
    "\n",
    "* `#1`：`.shift()`の引数は値を先に何期ずらすかを指定する。比べたいのは$t$期のGDPと$t+n$期の政府支出なので，後にずらす必要があるためマイナス符号を付けて`.shift(-t)`としている。\n",
    "* `#2`：列`gov_cycle_shift`は必要ないので削除する。\n",
    "```"
   ]
  },
  {
   "cell_type": "markdown",
   "metadata": {
    "hidden": true
   },
   "source": [
    "GDPの乖離は2四半期先の政府支出との相関係数が最大となっている。景気循環に対する政府の姿勢が確認できる一方，政府の対応には長いの時間が掛かることを示す結果となっている。"
   ]
  },
  {
   "cell_type": "markdown",
   "metadata": {
    "heading_collapsed": true,
    "hidden": true
   },
   "source": [
    "#### 変動の大きさ"
   ]
  },
  {
   "cell_type": "markdown",
   "metadata": {
    "hidden": true
   },
   "source": [
    "次に変動の大きさを考えるために，GDPの標準偏差に対するそれぞれの構成要素の標準偏差の比率を計算する。"
   ]
  },
  {
   "cell_type": "code",
   "execution_count": null,
   "metadata": {
    "hidden": true
   },
   "outputs": [],
   "source": [
    "for v in cycle_list:\n",
    "    var = df[v].std() / df['gdp_cycle'].std()\n",
    "    print(f'{v:<19}{var:>5.2f}')"
   ]
  },
  {
   "cell_type": "markdown",
   "metadata": {
    "hidden": true
   },
   "source": [
    "投資，輸出，輸入の値はGDPの3倍以上であり，政府支出の値はGDPより低く，消費の変動は更に小さい。これは消費者の不確実性を嫌う姿勢が反映されていると解釈できる。GDPの構成要素を対GDP比率で検討した際，消費は投資よりも比率が大きかったことを思い出そう。変動に関しては，順位が逆転し投資が大きく上回っている。この点を図示して視覚的に確認してみよう。"
   ]
  },
  {
   "cell_type": "code",
   "execution_count": null,
   "metadata": {
    "hidden": true
   },
   "outputs": [],
   "source": [
    "df.loc[:,cycle_list[:3]].plot()\n",
    "pass"
   ]
  },
  {
   "cell_type": "markdown",
   "metadata": {
    "hidden": true
   },
   "source": [
    "これらの結果を説明するために，効用最大化に基づく消費者理論があり，利潤最大化に基づく企業行動に関するモデルが使われている。"
   ]
  }
 ],
 "metadata": {
  "celltoolbar": "Tags",
  "kernelspec": {
   "display_name": "Python 3 (ipykernel)",
   "language": "python",
   "name": "python3"
  },
  "language_info": {
   "codemirror_mode": {
    "name": "ipython",
    "version": 3
   },
   "file_extension": ".py",
   "mimetype": "text/x-python",
   "name": "python",
   "nbconvert_exporter": "python",
   "pygments_lexer": "ipython3",
   "version": "3.10.4"
  }
 },
 "nbformat": 4,
 "nbformat_minor": 4
}
