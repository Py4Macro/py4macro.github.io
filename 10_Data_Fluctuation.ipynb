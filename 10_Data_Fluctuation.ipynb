{
 "cells": [
  {
   "cell_type": "markdown",
   "metadata": {},
   "source": [
    "(chap:10-gdp)=\n",
    "# 主なマクロ・データの特徴"
   ]
  },
  {
   "cell_type": "markdown",
   "metadata": {},
   "source": [
    "<div name=\"html-admonition\" style=\"font-size: 0.8em\">\n",
    "<input type=\"button\" onclick=\"location.href='https://translate.google.com/translate?hl=&sl=ja&tl=en&u='+window.location;\" value=\"Google translation\" style=\"color:#ffffff;background-color:#008080; height:25px\" onmouseover=\"this.style.background='#99ccff'\" onmouseout=\"this.style.background='#008080'\"/> in English or the language of your choice.\n",
    "</div><br>"
   ]
  },
  {
   "cell_type": "code",
   "execution_count": null,
   "metadata": {},
   "outputs": [],
   "source": [
    "import japanize_matplotlib\n",
    "import numpy as np\n",
    "import pandas as pd\n",
    "import py4macro\n",
    "\n",
    "# numpy v1の表示を使用\n",
    "np.set_printoptions(legacy='1.21')\n",
    "# 警告メッセージを非表示\n",
    "import warnings\n",
    "warnings.filterwarnings(\"ignore\")"
   ]
  },
  {
   "cell_type": "markdown",
   "metadata": {
    "heading_collapsed": true,
    "jp-MarkdownHeadingCollapsed": true
   },
   "source": [
    "## はじめに"
   ]
  },
  {
   "cell_type": "markdown",
   "metadata": {
    "hidden": true
   },
   "source": [
    "人の心の中を知ることはできない。友人，同僚，パートナー，親族もそうである。また何十年も連れ添った夫婦でさえも完全にお互いの心の中を分かっているとは言い難いだろう。しかし話し言葉やその内容，行動から心の中を推察することは可能である。実際，我々は日常そうしており，人間関係を豊かにする為には必須でる。経済も同じであり，経済の動きの裏にある「真のメカニズム」は完全に把握されていない。アダム・スミスの時代に比べると，「熟練夫婦」に匹敵するほどの知見は蓄積されたかも知れないが，今でも「真のメカニズム」が100％解明されたとは言い難い。経済学者にとってできることは，経済の「言動」であるデータを観察し「真のメカニズム」について想像を巡らすことである。人の言動に注意を払わずに人の心の中を想像するのは「妄想」となり，データを無視して経済を考えるのは「空想」となってしまう危険性がある。\n",
    "> 人の心の中　$\\Longleftrightarrow$　経済の真のメカニズム\n",
    ">\n",
    "> 人の言動　$\\Longleftrightarrow$　経済データ"
   ]
  },
  {
   "cell_type": "markdown",
   "metadata": {
    "hidden": true
   },
   "source": [
    "この章はマクロ・データの特徴を理解することを目的とする。統計量やプロットを駆使して異なるマクロ・データの特性を炙り出し，経済の「言動」に注目しようということである。特に，以下では国内総生産（GDP），その構成要素，インフレ率と失業率に着目し議論を進める。\n",
    "\n",
    "使うデータは`py4macro`に含まれる日本の四半期データであり，1980年から1993年のデータと1994年以降の２つのデータ・セットを組み合わせて作成してある。データを読み込むには次のようにする。\n",
    "```\n",
    "py4macro.data('jpn-q')\n",
    "```\n",
    "ここで`jpn`はJapan，`q`はquerterを表している。`description=True`の引数を追加すると変数の定義が表示される。"
   ]
  },
  {
   "cell_type": "code",
   "execution_count": null,
   "metadata": {
    "hidden": true,
    "tags": [
     "output_scroll"
    ]
   },
   "outputs": [],
   "source": [
    "py4macro.data('jpn-q', description=True)"
   ]
  },
  {
   "cell_type": "markdown",
   "metadata": {
    "hidden": true
   },
   "source": [
    "このデータ・セットにはGDP，その構成要素，インフレ率と失業率以外も含まれているが，それらは次章以降で使うことになる。\n",
    "\n",
    "まずデータを読み込んで最初の`5`行を表示してみよう。"
   ]
  },
  {
   "cell_type": "code",
   "execution_count": null,
   "metadata": {
    "hidden": true
   },
   "outputs": [],
   "source": [
    "df = py4macro.data('jpn-q')\n",
    "df.head()"
   ]
  },
  {
   "cell_type": "markdown",
   "metadata": {
    "hidden": true
   },
   "source": [
    "列には変数が並んでいるのが確認できる。行は行番号ではなく行ラベルとなっており，年・四半期を示している。`1980`年であれば、次のような行ラベルになっており、各四半期の最初の日がラベルとして使われている。\n",
    "* `1980-01-01`：第`1`四半期\n",
    "* `1980-04-01`：第`2`四半期\n",
    "* `1980-07-01`：第`3`四半期\n",
    "* `1980-10-01`：第`4`四半期\n",
    "\n",
    "`.info()`を使って確認してみる。"
   ]
  },
  {
   "cell_type": "code",
   "execution_count": null,
   "metadata": {
    "hidden": true
   },
   "outputs": [],
   "source": [
    "df.info()"
   ]
  },
  {
   "cell_type": "markdown",
   "metadata": {
    "hidden": true
   },
   "source": [
    "表示の上から２行目に`DatetimeIndex`とあるが，行ラベルのことを表しており，時系列データ用となっている。具体的な説明は割愛するが，時系列データが扱いやすくなりプロットする際にも便利である。"
   ]
  },
  {
   "cell_type": "markdown",
   "metadata": {},
   "source": [
    "````{note}\n",
    "`jpn-q`に含まれる実質GDPと各需要項目は「連鎖価格」となっている。詳細な説明は[内閣府の資料](https://www.esri.cao.go.jp/jp/sna/data/data_list/sokuhou/files/old_keisu/pdf/shiryou_rensa.pdf)を参考にするとして、この実質化の手法により「加法整合性の不成立」と呼ばれる問題が発生する。GDPは３面等価の原則により生産側、分配側、支出側で測ったGDPは等しいが、`jpn-q`には支出側GDPのデータが含まれており、参照年とその翌年以外は、次の問題が内在している。\n",
    "\n",
    "$$\n",
    "\\text{支出側GDP}\\;\\neq\\;\\text{消費＋投資＋政府支出＋輸出ー輸入}\n",
    "$$\n",
    "\n",
    "左辺と右辺（需要項目の合計）は等しくないという意味で「加法整合性の不成立」が発生している。その差は「開差」という項目で内閣府のデータに含まれており、連鎖価格の実質GDPは水準よりも変化率の分析に適していると言われている。では、どれ程の差があるのだろうか。開差の絶対値の平均は公式系列の1994Q1〜2023年Q4のデータでは平均で約`0.6`％（対GDP比）、参考系列の1980〜1993年で約`3.2`％（対GDP比）となっている。驚く程の大きさではないかも知れないが、以下ではこの問題を念頭に置きつつ需要項目の割合などの議論を進めることにする。\n",
    "````"
   ]
  },
  {
   "cell_type": "markdown",
   "metadata": {
    "jp-MarkdownHeadingCollapsed": true
   },
   "source": [
    "## GDPとその変化"
   ]
  },
  {
   "cell_type": "markdown",
   "metadata": {},
   "source": [
    "まずGDPを図示しよう。"
   ]
  },
  {
   "cell_type": "code",
   "execution_count": null,
   "metadata": {},
   "outputs": [],
   "source": [
    "df.plot(y='gdp', title='国内総生産')\n",
    "pass"
   ]
  },
  {
   "cell_type": "markdown",
   "metadata": {},
   "source": [
    "長期的には上昇トレンドであることが分かる。これが経済成長である。一方で，よく観察するとギザギザに動いていることも確認できる。景気変動である。小さい上下の動きもあれば，より大きな動きもある。例えば，2008年のリーマン・ショック，そして2020年のコロナ禍の影響でGDPは大きく下落している。\n",
    "\n",
    "> (問４）なぜ景気変動は起こるのか？\n",
    "\n",
    "これがマクロ経済学のもう一つのBig Questionである。この章以降は問４を中心にマクロ経済を考察することになる。\n",
    "\n",
    "上の図には2022年第1四半期以降のデータは含まれていない。参考に最新のデータを含む図を下にに表示する。"
   ]
  },
  {
   "cell_type": "code",
   "execution_count": null,
   "metadata": {
    "tags": [
     "thebe-init",
     "hide-input"
    ]
   },
   "outputs": [],
   "source": [
    "from IPython.display import IFrame\n",
    "IFrame(src='https://fred.stlouisfed.org/graph/graph-landing.php?g=BOLN&width=420&height=320',\n",
    "       width=450, height=330)"
   ]
  },
  {
   "cell_type": "markdown",
   "metadata": {},
   "source": [
    "この図は[米国セントルイス連邦準備銀行が管理するFederal Reserve Economic Data (FRED)](https://fred.stlouisfed.org)と呼ばれるデータ・ベースからライブでダウンロードして表示している。\n",
    "\n",
    "`py4macro`を使った上の図もしくはFREDの図にあるGDPは水準を表しているため，GDPの成長率を直接読み取り異なる時期の成長率を比べることは難しい。しかし，それを可能にするのが対数化したGDPのプロットである。まず，なぜそうなのかを簡単に説明しよう。\n",
    "\n",
    "変数`x`の成長率$g_x$は次の式で定義される。\n",
    "\n",
    "$$\n",
    "1+g_x=\\frac{x_{t+1}}{x_{t}}\n",
    "$$\n",
    "\n",
    "ここで$g_x$の値は，例えば`0.02`（`2％`）のような値となる。この式の両辺に対数を取り，近似を使うと次のように書き直すことができる。\n",
    "\n",
    "$$\n",
    "\\begin{aligned}\n",
    "\\log(1+g_x)&=\\log(x_{t+1})-\\log(x_{t})\\\\\n",
    "&\\Downarrow\\text{左辺を近似}\\;\\log(1+g_x)\\approx g_x\\\\\n",
    "g_x&\\approx\\log(x_{t+1})-\\log(x_{t})\n",
    "\\end{aligned}\n",
    "$$ (eq:10-log-growth)\n",
    "\n",
    "`x`の成長率である$g_x$は，`x`の対数の差分ということになる。即ち，縦軸に`x`の対数，横軸に時間をおけば，プロットの傾きは`x`の成長率と等しいことになる。"
   ]
  },
  {
   "cell_type": "markdown",
   "metadata": {},
   "source": [
    "この特徴は、`1`期（ここでは`1`四半期）のみに有効なことではなく、`2`期以上を考える場合も有効である。`n`期間における平均成長率を$g_x$と置くと次式が成立する。\n",
    "\n",
    "$$\n",
    "(1+g_x)^n=\\frac{x_{t+n}}{x_{t}}\n",
    "$$\n",
    "\n",
    "両辺に対数を取り，近似を使うと次のように書き直すことができる。\n",
    "\n",
    "$$\n",
    "\\begin{aligned}\n",
    "n\\log(1+g_x)&=\\log(x_{t+n})-\\log(x_{t})\\\\\n",
    "&\\Downarrow\\\\\n",
    "g_x&\\approx\\frac{\\log(x_{t+n})-\\log(x_{t})}{n}\n",
    "\\end{aligned}\n",
    "$$\n",
    "\n",
    "右辺は`n`期間の平均成長率となる。従って、縦軸に`x`の対数がある場合、複数期間にまたがって直線を書いた場合、その傾きが平均成長率と等しい事になる。\n",
    "\n",
    "では実際にプロットしよう。"
   ]
  },
  {
   "cell_type": "code",
   "execution_count": null,
   "metadata": {},
   "outputs": [],
   "source": [
    "df['gdp_log'] = np.log( df['gdp'] )\n",
    "\n",
    "df.plot(y='gdp_log', title='国内総生産（対数）')\n",
    "pass"
   ]
  },
  {
   "cell_type": "markdown",
   "metadata": {},
   "source": [
    "プロットの傾きは四半期ごとのGDPの成長率であり，成長率が変化しているのがわかる。また，2008年のリーマン・ショックとコロナ禍により成長率が大きく下落していることが確認できる。景気循環により成長率が小刻みに，また時には大きく変化している。\n",
    "\n",
    "次に，長期的な視点で図を眺めてみよう。1980年から1990年までの間に直線のトレンドを描くことができる。その傾きが平均成長率である。同様に，1990年から2020年までの直線トレンドを描くこともできるが，傾きが緩やかになっていることに気づくのではないだろうか。1991年頃のバブル崩壊の影響により，その後のGDPの伸びが鈍化していることがわかる。「失われた10年」，「失われた20年」と言われていたが，今では「失われた30年」と言われる所以である。\n",
    "\n",
    "次に[式](eq:10-log-growth)を使い四半期成長率を計算してみよう。"
   ]
  },
  {
   "cell_type": "code",
   "execution_count": null,
   "metadata": {},
   "outputs": [],
   "source": [
    "df['gdp_growth_quarter'] = 100 * df['gdp_log'].diff()   # 1\n",
    "\n",
    "df.plot(y='gdp_growth_quarter',\n",
    "        title='GDP四半期成長率（％）',\n",
    "        grid=True)                    # 2\n",
    "pass"
   ]
  },
  {
   "cell_type": "markdown",
   "metadata": {},
   "source": [
    "````{admonition} コードの説明 🐍\n",
    ":class: code-explanation, dropdown\n",
    "1. `.diff()`は差分を計算するメソッドであり，引数の数（デフォルトは`1`）は何期前の値と差分を計算するかを指定する。\n",
    "2. 引数`grid=True`はグリッド線を表示する。\n",
    "    * `Pandas`のメソッド`plot`は図を表示し，同時に図の「軸（axis）」を返すが，次のコードのように、そのメソッド`.grid()`を使っても同じ表示となる。\n",
    "```\n",
    "ax_ = df.plot(y='gdp_growth_quarter', title='GDP四半期成長率（％）')\n",
    "ax_.grid()\n",
    "```\n",
    "````"
   ]
  },
  {
   "cell_type": "markdown",
   "metadata": {},
   "source": [
    "新聞などで「前年同期比成長率」という表現をみたことがあると思うが，`diff()`の引数を`4`にすることにより，前年同期比の成長率を計算することができる。それを図示してみよう。"
   ]
  },
  {
   "cell_type": "code",
   "execution_count": null,
   "metadata": {},
   "outputs": [],
   "source": [
    "df['gdp_growth_annual'] =  100 * df['gdp_log'].diff(4)\n",
    "\n",
    "df.plot(y='gdp_growth_annual',\n",
    "        title='GDP前年同期比成長率（％）',\n",
    "        grid=True)\n",
    "pass"
   ]
  },
  {
   "cell_type": "markdown",
   "metadata": {},
   "source": [
    "上の図と比べると次の特徴がある。\n",
    "* 縦軸の幅が違う。１四半期と４四半期（１年）の成長率の違いが反映されている。\n",
    "* 四半期データの変動は短期的な変化を追うには適している。しかし，変動が激しいため、長期的な成長率の予測には不向きだろう。一方、前年同期比のデータは，景気の基調を捉えるのに適していると言われている。\n",
    "* データには季節性があり，前年同期比成長率は季節調整されていないデータに使われることが多い。（ちなみに，`df`に含まれる`gdp`のデータは季節調整済みである。）\n",
    "\n",
    "最高値と最小値を計算してみよう。"
   ]
  },
  {
   "cell_type": "code",
   "execution_count": null,
   "metadata": {},
   "outputs": [],
   "source": [
    "df['gdp_growth_annual'].max(), df['gdp_growth_annual'].min()"
   ]
  },
  {
   "cell_type": "markdown",
   "metadata": {},
   "source": [
    "1980年代後半ののバブル景気には約`7.8`％増加しているが，コロナ禍では約`10`％以上下落している。\n",
    "\n",
    "```{hint}\n",
    "次の点を知っておくのも有用だろう。\n",
    "* 次の式を使うと四半期成長率を年率換算することもできる。\n",
    "\n",
    "    $$\n",
    "    g_{\\text{年率換算成長率}}=\\left(1+g_{\\text{四半期成長率}}\\right)^4-1\n",
    "    $$\n",
    "\n",
    "    $g_{\\text{四半期成長率}}$は４期続くことを想定した成長率である。\n",
    "    \n",
    "* 年次データを使うとGDPの値は均されるので変化率は低めに出る。\n",
    "```"
   ]
  },
  {
   "cell_type": "markdown",
   "metadata": {
    "heading_collapsed": true,
    "jp-MarkdownHeadingCollapsed": true
   },
   "source": [
    "## GDPの構成要素"
   ]
  },
  {
   "cell_type": "markdown",
   "metadata": {
    "hidden": true
   },
   "source": [
    "次式は所得恒等式である。\n",
    "```\n",
    "    GDP=消費＋投資＋政府支出＋純貿易（輸出ー輸入）\n",
    "```\n",
    "GDPに対してそれぞれ構成要素は何％を占め，どのように推移したかを図示する為に，まず変数を計算する。"
   ]
  },
  {
   "cell_type": "code",
   "execution_count": null,
   "metadata": {
    "hidden": true
   },
   "outputs": [],
   "source": [
    "# 消費の割合\n",
    "con_gdp_ratio = 100 * df['consumption'] / df['gdp']\n",
    "\n",
    "# 投資の割合\n",
    "inv_gdp_ratio = 100 * df['investment'] / df['gdp']\n",
    "\n",
    "# 政府支出の割合\n",
    "gov_gdp_ratio = 100 * df['government'] / df['gdp']\n",
    "\n",
    "# 純輸出の割合\n",
    "net_exp_gdp_ratio = 100 * ( df['exports']-df['imports'] ) / df['gdp']"
   ]
  },
  {
   "cell_type": "markdown",
   "metadata": {
    "hidden": true
   },
   "source": [
    "それぞれの平均を`for`ループで計算し表示してみよう。"
   ]
  },
  {
   "cell_type": "code",
   "execution_count": null,
   "metadata": {
    "hidden": true
   },
   "outputs": [],
   "source": [
    "ratio_lst = [con_gdp_ratio, inv_gdp_ratio,\n",
    "             gov_gdp_ratio, net_exp_gdp_ratio]\n",
    "\n",
    "label_lst = ['Consumption', 'Investment', 'Gov Exp', 'Net Exports']\n",
    "\n",
    "for r, l in zip(ratio_lst, label_lst):\n",
    "    \n",
    "    avr = r.mean()\n",
    "    \n",
    "    print(l, f'\\t{avr:.1f}')"
   ]
  },
  {
   "cell_type": "markdown",
   "metadata": {
    "hidden": true
   },
   "source": [
    "消費はGDPの`50`％以上あり，GDPの約1/4が政府支出となっている。消費とは対照的に，投資は`20`％程であり消費の約半分以下である。（小数点第一位までしか表示していないため合計は100にならない。）\n",
    "\n",
    "次に推移を確認する。同じように`for`ループを使うと簡単に表示できる。"
   ]
  },
  {
   "cell_type": "code",
   "execution_count": null,
   "metadata": {
    "hidden": true
   },
   "outputs": [],
   "source": [
    "for r, l in zip(ratio_lst,label_lst):\n",
    "    \n",
    "    r.plot(label=l, legend=True)"
   ]
  },
  {
   "cell_type": "markdown",
   "metadata": {
    "hidden": true
   },
   "source": [
    "````{admonition} コードの説明\n",
    ":class: dropdown\n",
    "\n",
    "* `zip()`について説明する。`zip()`はループによく使われる便利な関数である。以下の単純な`for`ループ\n",
    "    ```\n",
    "    for r in ratio_lst:\n",
    "        r.plot()\n",
    "    ```\n",
    "    にはループ用の変数が`r`の１種類しかない。これでも図示することは可能である。しかし凡例を追加するためには`label_lst`も`for`ループの中で同時に使う必要がある。そのような場合に便利な関数が`zip()`である。引数に`ratio_lst`と`label_lst`を入れると，同時に順番に要素にアクセスできる。それぞれの要素を割り当てる変数として`r`と`l`を使っている。`r`と`l`の間に`,`を入れることにより，それぞれ別のリストの要素を捉えることができる。\n",
    "* この`for`ループは以下と等しい。\n",
    "    ```\n",
    "    con_gdp_ratio.plot(label='Consumption', legend=True)\n",
    "    inv_gdp_ratio.plot(label='Investment', legend=True)\n",
    "    gov_gdp_ratio.plot(label='Gov Exp', legend=True)\n",
    "    net_exp_gdp_ratio.plot(label='Net Exports', legend=True)\n",
    "    ```\n",
    "    もちろんこれでも良いが，コードを書く際は極力同じような行を繰り返すのではなくループを使ってまとめる方が良い。第一の理由は，簡単なエラーの可能性を軽減することができることだ。リピートして書く場合，1行をコピペしその後に1行ずつ修正をするパターンが多いが，最初の１行目が間違っている場合，全ての行を修正する必要が発生する。その際に修正し忘れることがある。第二の理由は，コードの修正も簡単になるためである。例えば，`linewidth=2`を設定したいとしよう。`for`ループの場合は一箇所に加えるだけで済むことになる。\n",
    "````"
   ]
  },
  {
   "cell_type": "markdown",
   "metadata": {
    "hidden": true
   },
   "source": [
    "景気の動向によって上下することがわかる。例えば，リマン・ショック後には投資が大きく下落し少しずつしか上昇しない。一方，景気悪化に反応し政府支出の割合は上昇している。またバブル景気（1986年から1991年まで）ではその逆が起こっており，順位が逆転する程である。コロナ禍の影響もプロットにハッキリと現れている。"
   ]
  },
  {
   "cell_type": "markdown",
   "metadata": {
    "jp-MarkdownHeadingCollapsed": true
   },
   "source": [
    "## 失業率とインフレ率"
   ]
  },
  {
   "cell_type": "markdown",
   "metadata": {},
   "source": [
    "次に失業率とインフレ率のデータをプロットしてみよう。"
   ]
  },
  {
   "cell_type": "code",
   "execution_count": null,
   "metadata": {},
   "outputs": [],
   "source": [
    "infu_lst = ['inflation', 'unemployment_rate']\n",
    "\n",
    "df.plot(y=infu_lst, subplots=True)\n",
    "pass"
   ]
  },
  {
   "cell_type": "markdown",
   "metadata": {},
   "source": [
    "インフレ率（年率）は，バブル崩壊後は`4`％以下の低い率をキープし、デフレに陥った期間も長く続いた。\n",
    "\n",
    "失業率に関して述べると、1995年頃から2015年頃の約`20`年間は、その前後と比較して高い値になっている。\n",
    "2002年第3四半期の一つ目のピークは`5.43`％であり、バブル崩壊の影響によるものである。就職氷河期と呼ばれる期間である。\n",
    "2009年第3四半期の二つ目のピークはリーマンショックによる影響であり、同じ`5.43`％である。\n",
    "2020年第4四半期にも`3.07`％のピークがあるが、コロナ感染症に端を発している。\n",
    "バブル崩壊による失業率の上昇は比較的にじわじわと動いているが、リーマンショックとコロナショックによる影響は失業率の急上昇として現れている。\n",
    "\n",
    "少し複雑になるが、`for`ループを使い、`10`年毎の平均失業率を計算し、上の失業率の図に重ねてプロットしてみよう。\n",
    "まず再度`df`にある`unemployment_rate`を確認しよう。"
   ]
  },
  {
   "cell_type": "code",
   "execution_count": null,
   "metadata": {},
   "outputs": [],
   "source": [
    "df[['unemployment_rate']].head()"
   ]
  },
  {
   "cell_type": "markdown",
   "metadata": {},
   "source": [
    "行ラベルを使い`unemployment_rate`の値にアクセスできるが、行インデックスを使うことも可能である。\n",
    "例えば、次のコードは最初の行を`Series`として抽出している。"
   ]
  },
  {
   "cell_type": "code",
   "execution_count": null,
   "metadata": {},
   "outputs": [],
   "source": [
    "df[['unemployment_rate']].iloc[0,:]"
   ]
  },
  {
   "cell_type": "markdown",
   "metadata": {},
   "source": [
    "このように以下では、行インデックス番号を使い各`10`年間の平均を計算する。\n",
    "`1`年間には`4`四半期があるのため、`10`年間には`40`四半期ある。\n",
    "従って、最初の行のインデックスは`0`なため、各`10`年間の最初の四半期は次のコードで捉えることができる。"
   ]
  },
  {
   "cell_type": "code",
   "execution_count": null,
   "metadata": {},
   "outputs": [],
   "source": [
    "start_decade = range(0, len(df), 40)\n",
    "\n",
    "list(start_decade)"
   ]
  },
  {
   "cell_type": "markdown",
   "metadata": {},
   "source": [
    "この結果を使い、次のコードで平均失業率を計算することができる。"
   ]
  },
  {
   "cell_type": "code",
   "execution_count": null,
   "metadata": {},
   "outputs": [],
   "source": [
    "#1\n",
    "u_idx = df.columns.tolist().index('unemployment_rate')\n",
    "\n",
    "#2\n",
    "u_lst = []\n",
    "\n",
    "for start in start_decade:\n",
    "\n",
    "    #3\n",
    "    u_avr = df.iloc[start:start+40, u_idx].mean()\n",
    "    #4\n",
    "    u_lst.append(u_avr)\n",
    "\n",
    "u_lst"
   ]
  },
  {
   "cell_type": "markdown",
   "metadata": {},
   "source": [
    "このリストの最初の値が`1980`年代の平均失業率であり、最後の値が`2020`年代の平均失業率となる。"
   ]
  },
  {
   "cell_type": "markdown",
   "metadata": {},
   "source": [
    "```{admonition} コードの説明\n",
    "* `#1`：右辺では列`unemployment_rate`の列インデックスを抽出し、左辺の変数`u_idx`に割り当てている。右辺では、まず`df.columns`で列ラベルを抽出し、`.tolist()`を使いリストに変換している。これで、列ラベルが要素となるリストが作成される。そのリストのメソッド`.index()`を使うと、リストに含まれる要素のインデックス番号を抽出することができる。ここでは`unemployment_rate`のインデックス番号を抽出している。\n",
    "* `#2`：平均失業率を格納する空のリスト\n",
    "* `#3`：`df.iloc[]`を使い、各`10`年間の失業率を抽出し、`.mean()`を使い、その平均を計算している。`+40`は`10`年に含まれる四半期の数を表している。\n",
    "* `#4`：`#3`で計算した平均失業率を`u_lst`に追加している。\n",
    "```"
   ]
  },
  {
   "cell_type": "markdown",
   "metadata": {},
   "source": [
    "次に図示して確かめてみよう。"
   ]
  },
  {
   "cell_type": "code",
   "execution_count": null,
   "metadata": {},
   "outputs": [],
   "source": [
    "ax = df.plot(y='unemployment_rate',       #1\n",
    "             label='失業率（％）')          #2\n",
    "\n",
    "for i, start in enumerate( start_decade[:-1] ): #3\n",
    "    \n",
    "    ax.hlines(u_lst[i],                   #4\n",
    "              xmin=df.index[start],       #5\n",
    "              xmax=df.index[start+40],    #6\n",
    "              color='red')                #7\n",
    "\n",
    "start = start_decade[-1]                  #8\n",
    "\n",
    "ax.hlines(u_lst[-1],                      #9\n",
    "          xmin=df.index[start],           #10\n",
    "          xmax=df.index[-1],              #11\n",
    "          color='red',                    #12\n",
    "          label='10年間平均')              #13\n",
    "\n",
    "ax.legend()                               #14\n",
    "pass"
   ]
  },
  {
   "cell_type": "markdown",
   "metadata": {},
   "source": [
    "```{admonition} コードの説明\n",
    "* `#1`：上の図と同じ`unemployment_rate`のプロットを表示するが、それと同時に軸を`ax`に割り当てる。\n",
    "* `#2`：凡例の表示を設定する。\n",
    "* `#3`：`start_decade`の最後の要素以外で`for`ループを実行する。また`enumerate()`関数を使い、`start_decade`の要素のインデックス番号を`i`に割り当て、要素は`start`に割り当てる。\n",
    "* `#4`：`ax`のメソッド`.hlines()`を使って、赤い横線を表示する。`u_lst[i]`は横線を引く縦軸の値。\n",
    "* `#5`：`xmin`は横線の始点を指定する引数。`df.index[start]`を使い、各`10`年間の最初の行を指定している。\n",
    "* `#6`：`xmax`は横線の終点を指定する引数。`df.index[start+40]`を使い、各`10`年間の最後の行を指定している。\n",
    "* `#7`：横線の色を赤に設定する。\n",
    "* `#8`：`2020`年代には`40`の四半期がないので別に図示する。`2020`年代の最初の行インデックスを`start`に割り当てる。\n",
    "* `#9`：`#4`と同じ。\n",
    "* `#10`：`#5`と同じ。\n",
    "* `#11`：`#6`と同じにすると、`2020`年代には`40`の四半期がないのでエラーが発生する。エラーを避けるために、`df.index[-1]`は最後の行インデックスを抽出している。\n",
    "* `#12`：`#7`と同じ。\n",
    "* `#13`：`#2`と同じ。\n",
    "* `#14`：凡例を表示する。\n",
    "```"
   ]
  },
  {
   "cell_type": "markdown",
   "metadata": {},
   "source": [
    "1990年頃から2020年頃の間に、ピークが`2`つある大きな山がそびえ立っている。\n",
    "一方、その両端の平均成長率は約`2.5`％である。\n",
    "ここから見えてくるのは、一つのストーリー（考え方、もしくは仮説）である。\n",
    "`2.5`％程度が長期的な失業率とすると、バブル崩壊とリーマンショックの`2`大ショックにより、長期的均衡から大きく`2`倍以上の値に乖離し、`20`年以上掛けてかけてゆっくりとしたペースで労働市場での大規模な「調整」が発生したようである。\n",
    "それは`10`年間の平均失業率にもはっきりと現れている。\n",
    "平均成長率の階段を上り、そして下りる日本経済である。"
   ]
  },
  {
   "cell_type": "markdown",
   "metadata": {
    "heading_collapsed": true,
    "jp-MarkdownHeadingCollapsed": true
   },
   "source": [
    "## トレンドと変動"
   ]
  },
  {
   "cell_type": "markdown",
   "metadata": {
    "hidden": true,
    "jp-MarkdownHeadingCollapsed": true
   },
   "source": [
    "### 説明"
   ]
  },
  {
   "cell_type": "markdown",
   "metadata": {
    "hidden": true
   },
   "source": [
    "上の分析から明らかなことは，マクロ変数は変動するということであり，正しくそれが景気循環を表している。\n",
    "ここでは景気循環について，もう一歩踏み込んで考えてみる。\n",
    "\n",
    "マクロ変数はトレンドと変動（サイクル）に分解することができる。その方法は２つあり、マクロ変数の性質によって次のように使い分ける。\n",
    "* GDPのように長期的なトレンドが右上がりの変数の場合、次式のように２つの項の掛け算で表す。\n",
    "\n",
    "    $$\n",
    "    Y_t=Y_t^{\\text{trend}}\\times Y_t^{\\text{cycle}}\n",
    "    $$ (eq:10-decompose)\n",
    "\n",
    "* 失業率のように右上がりのトレンドがない場合（自然失業率が一定であればトレンドはないことになる）、次式のように２つの項の足し算で表す。\n",
    "\n",
    "    $$\n",
    "    u_t=u_t^{\\text{trend}}+u_t^{\\text{cycle}}\n",
    "    $$ (eq:10-decompose_plus)\n",
    "\n",
    "ここで$Y_t^{\\text{trend}}$と$u_t^{\\text{trend}}$は各変数の長期的な傾向や値を表し、$Y_t^{\\text{cycle}}$と$u_t^{\\text{cycle}}$は短期的な変動を捉えている。"
   ]
  },
  {
   "cell_type": "markdown",
   "metadata": {},
   "source": [
    "内閣府は景気循環を「山」と「谷」の２つに分けて[景気基準日付](https://www.esri.cao.go.jp/jp/stat/di/hiduke.html)を発表している。イメージ的には、GDPがトレンドを上回っている期間を「山」，下回っている期間を「谷」と考えて良いだろう。図示すると次のようになる。"
   ]
  },
  {
   "cell_type": "code",
   "execution_count": null,
   "metadata": {
    "hidden": true,
    "tags": [
     "hide-input"
    ]
   },
   "outputs": [],
   "source": [
    "def trend_cycle():\n",
    "    \n",
    "    import matplotlib.pyplot as plt\n",
    "    import matplotlib.lines as mlines\n",
    "    \n",
    "    # フォントのサイズ\n",
    "    font_largest=30\n",
    "    font_large=20\n",
    "\n",
    "    # GDPのプロット\n",
    "    xlow = 0\n",
    "    xhigh = 3*np.pi\n",
    "    x = np.arange(xlow, xhigh, 0.1)\n",
    "\n",
    "    def yfunc(x):\n",
    "        return np.cos(x+np.pi/2)+0.1*x\n",
    "\n",
    "    fig, ax = plt.subplots(figsize=(10,5))\n",
    "    ax.plot(x, yfunc(x), linewidth=7, label='GDP')\n",
    "\n",
    "    # トレンド線のプロット\n",
    "    xx = np.linspace(xlow-1., xhigh+1)\n",
    "\n",
    "    def trend_line(x):\n",
    "        return ( yfunc(3*np.pi)-yfunc(0) )/(3*np.pi) * (x-0)+yfunc(0)\n",
    "\n",
    "    ax.plot(xx, trend_line(xx), lw=4, color='orange', label='トレンド')\n",
    "\n",
    "    # 縦点線のプロット\n",
    "    ylow = -1.68\n",
    "    \n",
    "    tani0 = mlines.Line2D([np.pi/2, np.pi/2], [ylow, yfunc(np.pi/2)],  linestyle='--')\n",
    "    yama = mlines.Line2D([np.pi*3/2, np.pi*3/2], [ylow+0.4, yfunc(np.pi*3/2)],  linestyle='--')\n",
    "    tani1 = mlines.Line2D([np.pi*5/2, np.pi*5/2], [ylow, yfunc(np.pi*5/2)],  linestyle='--')\n",
    "    \n",
    "    ax.add_line(tani0)\n",
    "    ax.add_line(yama)\n",
    "    ax.add_line(tani1)\n",
    "\n",
    "    # 矢印のプロット（拡張と後退）\n",
    "    for dx in [np.pi/2, -np.pi/2]:\n",
    "        ax.arrow(x=np.pi, y=-1.2, dx=dx, dy=0,\n",
    "                 width=0.01, head_width=0.1,head_length=0.2,\n",
    "                 length_includes_head=True,color='k')\n",
    "\n",
    "    for dx in [np.pi/2, -np.pi/2]:\n",
    "        ax.arrow(x=2*np.pi, y=-1.2, dx=dx, dy=0,\n",
    "                 width=0.01, head_width=0.1,head_length=0.2,\n",
    "                 length_includes_head=True,color='k')\n",
    "\n",
    "    # 矢印のプロット（全循環）\n",
    "    start_arrow_shift = 0.8\n",
    "    ax.arrow(x=np.pi*3/2-start_arrow_shift, y=-1.5,\n",
    "             dx=-(np.pi-start_arrow_shift), dy=0,\n",
    "             width=0.01, head_width=0.1,head_length=0.2,\n",
    "             length_includes_head=True,color='k')\n",
    "    ax.arrow(x=np.pi*3/2+start_arrow_shift, y=-1.5,\n",
    "             dx=np.pi-start_arrow_shift, dy=0,\n",
    "             width=0.01, head_width=0.1,head_length=0.2,\n",
    "             length_includes_head=True,color='k')\n",
    "\n",
    "    # 注釈の挿入\n",
    "    x0 = np.pi/2\n",
    "    x1 = np.pi*3/2\n",
    "    x2 = np.pi*5/2\n",
    "    xshift = 0.33\n",
    "    yshift = 0.2\n",
    "\n",
    "    ax.annotate('谷', xy=(x0-xshift, yfunc(x0)+yshift),size=font_largest)\n",
    "    ax.annotate('山', xy=(x1-xshift, yfunc(x1)+yshift), annotation_clip=False, size=font_largest)\n",
    "    ax.annotate('谷', xy=(x2-xshift, yfunc(x2)+yshift),size=font_largest)\n",
    "\n",
    "#     ax.annotate('好況', xy=(xlow-1.1,0.2), annotation_clip=False, size=font_large, color='green')\n",
    "#     ax.annotate('不況', xy=(xlow-1.1,-0.5), annotation_clip=False, size=font_large, color='red')\n",
    "#     ax.annotate('好況', xy=(xhigh+0.3,1.25), annotation_clip=False, size=font_large, color='green')\n",
    "#     ax.annotate('不況', xy=(xhigh+0.3,0.55), annotation_clip=False, size=font_large, color='red')\n",
    "\n",
    "    ax.annotate('拡張', xy=(np.pi-0.2,-1.05), size=font_large, color='green')\n",
    "    ax.annotate('後退', xy=(2*np.pi-0.5,-1.05), size=font_large, color='red')\n",
    "    ax.annotate('全循環', xy=(np.pi*3/2-0.65,-1.6), size=font_large)\n",
    "\n",
    "    # 横軸のラベル，凡例を追加，縦軸の表示範囲の設定\n",
    "    ax.set_xlabel('時間', size=font_large)\n",
    "    ax.legend(loc='upper left', fontsize=20)\n",
    "    ax.set_ylim(ymax=2.3)\n",
    "\n",
    "    # 縦軸・横軸のラベルと目盛の削除\n",
    "    ax.set_yticklabels([])\n",
    "    ax.set_xticklabels([])\n",
    "    ax.set_xticks([])\n",
    "    ax.set_yticks([])\n",
    "\n",
    "    # 枠を削除\n",
    "    for s in ['top', 'right', 'left','bottom']:\n",
    "        ax.spines[s].set_visible(False)\n",
    "\n",
    "trend_cycle()"
   ]
  },
  {
   "cell_type": "markdown",
   "metadata": {
    "hidden": true
   },
   "source": [
    "この図から，拡張・後退はGDPの変化を捉えていることが分かる。また，このプロットは`NumPy`のコサイン関数を使って描画しているので，「谷」と「山」が発生した時期を簡単に見分けることができる。しかし，上のGDPデータのプロットを見直すと，「谷」と「山」がいつだったかを決めるのは簡単な問題ではないと想像できるだろう。実際，内閣府は単にGDPのデータを眺めるだけではなく[景気動向指数](https://www.esri.cao.go.jp/jp/stat/di/menu_di.html)を含め様々なデータに基づき，「谷」と「山」の時期を確定している。"
   ]
  },
  {
   "cell_type": "markdown",
   "metadata": {
    "hidden": true
   },
   "source": [
    "景気循環を考える上で重要な役割を果たすのがトレンドである。トレンドはどのように計算するのだろうか。実は，決まった計算方法があるわけではなく，いろいろな考え方がある。実際，内閣府と日本銀行は独自の方法でGDPトレンドを算出している。\n",
    "* [内閣府のデータ](https://www5.cao.go.jp/keizai3/getsurei/getsurei-index.html#sonota)\n",
    "    * 「潜在GDP」がトレンドに対応しており，「GDPギャップ」はトレンドからの％乖離を表している。\n",
    "* [日本銀行のデータ](https://www.boj.or.jp/research/research_data/gap/index.htm/)\n",
    "    * 「潜在成長率」はトレンドの成長率に対応しており，「需給ギャップ」がトレンドからの％乖離を表している。\n",
    "\n",
    "いずれにしろ，どのようにトレンドを決めたとしても，景気循環が人々の厚生に大きな影響を及ぼすことには変わりはない。不況は失業や様々な社会問題（例えば，犯罪や自殺）につながる。好況でも問題が無いわけではない。例えば，高いインフレが発生し資産価値（例えば，貨幣）が暴落し通常の生活に支障が出ることもある。またバブル景気が示すように「山」は次の「谷」の芽を育む期間となりえる。"
   ]
  },
  {
   "cell_type": "markdown",
   "metadata": {
    "jp-MarkdownHeadingCollapsed": true
   },
   "source": [
    "### トレンドの計算方法"
   ]
  },
  {
   "cell_type": "markdown",
   "metadata": {
    "hidden": true
   },
   "source": [
    "以下では，データを使い景気循環$Y_t^{\\text{cycle}}$と$u_t^{\\text{cycle}}$の特徴を調べるが，まず上の式[](eq:10-decompose)を考えてみよう。この場合、対数化し次式に書き換える。\n",
    "\n",
    "$$\n",
    "y_t^{\\text{cycle}}=y_t-y_t^{\\text{trend}}\n",
    "$$ (eq:10-decompose_log)\n",
    "\n",
    "ここで小文字は大文字の変数を対数化した値である\n",
    "* $y_t\\equiv\\log(Y_t)$\n",
    "* $y_t^{\\text{cycle}}\\equiv\\log(Y_t^{\\text{cycle}})$\n",
    "* $y_t^{\\text{trend}}\\equiv\\log(Y_t^{\\text{trend}})$\n",
    "\n",
    "$y_t^{\\text{cycle}}$をより直感的に解釈するために式[](eq:10-decompose_log)の右辺を次のように近似しよう。\n",
    "\n",
    "$$\n",
    "y_t^{\\text{cycle}}\n",
    "=\\log\\left(\\frac{Y_t}{Y_t^{\\text{trend}}}\\right)\n",
    "    \\approx\n",
    "    \\dfrac{Y_t}{Y_t^{\\text{trend}}}-1\n",
    "    =\\dfrac{Y_t-Y_t^{\\text{trend}}}{Y_t^{\\text{trend}}}\n",
    "$$ (eq:10-decompose_log_approx)\n",
    "\n",
    "この式から次のことが言える。\n",
    "* $y_t^{\\text{cycle}}$は変数$Y_t$のトレンドからの乖離の割合を表している。\n",
    "* $100\\times y_t^{\\text{cycle}}$は変数$Y_t$のトレンドからの％乖離を表している。"
   ]
  },
  {
   "cell_type": "markdown",
   "metadata": {
    "hidden": true
   },
   "source": [
    "次に、式[](eq:10-decompose_plus)を考えるが、$u_t$の変動は次式で与えられる。\n",
    "\n",
    "$$\n",
    "u_t^{\\text{cycle}}=u_t-u_t^{\\text{trend}}\n",
    "$$ (eq:10-decompose_plus_A)\n",
    "\n",
    "そのまま解釈すれば良いが、呼称に注意する必要がある。\n",
    "* トレンドからの乖離$u_t^{\\text{cycle}}$の単位は％だが、％が単位となる変数の**差**として計算されているため「％ポイント」と呼ぶ。$100\\times\\left(\\dfrac{u_t}{u_t^{\\text{trend}}}-1\\right)$として計算された％と区別するための呼称である。"
   ]
  },
  {
   "cell_type": "markdown",
   "metadata": {
    "hidden": true
   },
   "source": [
    "ここまでの説明から，景気循環を捉える項$y_t^{\\text{cycle}}$と$u_t^{\\text{cycle}}$は変数の値とトレンドとの残差によって決まることがわかる。換言すると，景気循環の特徴はトレンドをどのように考えるかに依存しており，トレンドの算出方法をどうするか決めるかが重要なポイントとなる。ここでは，内閣府や日本銀行の複雑な手法ではなく，マクロ経済学研究でスタンダードなツールとなっている[Hodrick–Prescottフィルター](https://www.google.co.jp/search?q=Hodrick%E2%80%93Prescott%E3%83%95%E3%82%A3%E3%83%AB%E3%82%BF%E3%83%BC)と呼ばれる手法を使うことにする。詳細についての説明は控え，単に`py4macro`に含まれる関数`trend`を使ってトレンド抽出を行うことにする。使い方は次のコードで確認できる。"
   ]
  },
  {
   "cell_type": "code",
   "execution_count": null,
   "metadata": {
    "hidden": true
   },
   "outputs": [],
   "source": [
    "help(py4macro.trend)"
   ]
  },
  {
   "cell_type": "markdown",
   "metadata": {
    "hidden": true
   },
   "source": [
    "使い方は簡単で，トレンドを計算したい変数の`Series`もしくは１列の`DataFrame`を引数に設定し実行するとトレンドが返される。ただ，上でも説明した通り、HPフィルターは線形トレンドが仮定されているため，次の点に注意すること。\n",
    "* GDPや消費の様に長期的に増加している変数は対数化し，`.trend()`関数の引数に使うこと。次式は式[](eq:10-decompose_log)の再掲。\n",
    "\n",
    "    $$\n",
    "    y_t^{\\text{cycle}}=y_t-y_t^{\\text{trend}}\n",
    "    $$\n",
    "\n",
    "* 失業率やインフレ率の様に長期的にはトレンドがない変数は，そのまま`.trend()`関数の引数に使うこと。次式は式[](eq:10-decompose_plus_A)の再掲。\n",
    "\n",
    "    $$\n",
    "    u_t^{\\text{cycle}}=u_t-u_t^{\\text{trend}}\n",
    "    $$"
   ]
  },
  {
   "cell_type": "markdown",
   "metadata": {
    "heading_collapsed": true,
    "hidden": true,
    "jp-MarkdownHeadingCollapsed": true
   },
   "source": [
    "### GDPのトレンドからの乖離率"
   ]
  },
  {
   "cell_type": "markdown",
   "metadata": {
    "hidden": true
   },
   "source": [
    "まずGDPとその構成要素を対数化した変数とそのトレンドを計算し`df`に追加しよう。"
   ]
  },
  {
   "cell_type": "code",
   "execution_count": null,
   "metadata": {
    "hidden": true
   },
   "outputs": [],
   "source": [
    "gdp_lst = ['gdp',\n",
    "           'consumption',\n",
    "           'investment',\n",
    "           'government',\n",
    "           'exports',\n",
    "           'imports']"
   ]
  },
  {
   "cell_type": "code",
   "execution_count": null,
   "metadata": {
    "hidden": true
   },
   "outputs": [],
   "source": [
    "for v in gdp_lst:\n",
    "    \n",
    "    df[v+'_log'] = np.log( df.loc[:,v] )  #1\n",
    "    df[v+'_log_trend'] = py4macro.trend( df.loc[:,v+'_log'] )  #2"
   ]
  },
  {
   "cell_type": "markdown",
   "metadata": {
    "hidden": true
   },
   "source": [
    "```{admonition} コードの説明\n",
    ":class: dropdown\n",
    "\n",
    "* `#1`：対数化した変数を新たな列として追加している。列ラベルを`v+'_log'`としているのは元々の変数名の後に`_logを追加するためである。例えば，１回目のループの新たな列ラベルは`gdp_log`となり，２回目のループでは`consumption_log`となる。\n",
    "* `#2`：対数化した変数のトレンドを新たな列として追加している。列ラベルを`v+'_log_trend'`としているのは元々の変数名の後に`_log_trend`を追加するためである。例えば，１回目のループの新たな列ラベルは`gdp_log_trend`となり，２回目のループでは`consumption_log_trend`となる。\n",
    "```\n",
    "\n",
    "`df`の属性`.columns`を使い，列ラベルを表示して確認してみよう。"
   ]
  },
  {
   "cell_type": "code",
   "execution_count": null,
   "metadata": {
    "hidden": true
   },
   "outputs": [],
   "source": [
    "df.columns"
   ]
  },
  {
   "cell_type": "markdown",
   "metadata": {
    "hidden": true
   },
   "source": [
    "`_log`と`_log_trend`が追加された変数が新たに作られていることが確認できる。"
   ]
  },
  {
   "cell_type": "markdown",
   "metadata": {
    "hidden": true
   },
   "source": [
    "対数化したGDPの変数を作成しトレンドと重ねて図示してみる。"
   ]
  },
  {
   "cell_type": "code",
   "execution_count": null,
   "metadata": {
    "hidden": true
   },
   "outputs": [],
   "source": [
    "df.plot(y=['gdp_log', 'gdp_log_trend'])\n",
    "pass"
   ]
  },
  {
   "cell_type": "markdown",
   "metadata": {
    "hidden": true
   },
   "source": [
    "トレンドは直線ではなくスムーズな曲線となっている。上下に動く変数を平滑化したものがトレンドなので直線になるとは限らないのである。\n",
    "\n",
    "次に景気循環の変数を作成するが，トレンドからの乖離を割合で表すために，上でも使った次の関係を利用する。\n",
    "\n",
    "$$\n",
    "\\dfrac{Y_t-Y_t^{\\text{trend}}}{Y_t^{\\text{trend}}}\n",
    "=\\dfrac{Y_t}{Y_t^{\\text{trend}}}-1\n",
    "\\approx\\log\\left(\\frac{Y_t}{Y_t^{\\text{trend}}}\\right)\n",
    "=\\log(Y_t) - \\log(Y_t^{\\text{trend}})\n",
    "$$ (eq:10-devaition)"
   ]
  },
  {
   "cell_type": "code",
   "execution_count": null,
   "metadata": {
    "hidden": true
   },
   "outputs": [],
   "source": [
    "df['gdp_cycle'] = 100 * ( df['gdp_log'] - df['gdp_log_trend'] )"
   ]
  },
  {
   "cell_type": "markdown",
   "metadata": {
    "hidden": true
   },
   "source": [
    "`0`に横線を引いてプロットしてみよう。"
   ]
  },
  {
   "cell_type": "code",
   "execution_count": null,
   "metadata": {
    "hidden": true
   },
   "outputs": [],
   "source": [
    "ax_ = df.plot(y='gdp_cycle',\n",
    "              marker='.',       # 1\n",
    "              linestyle=':',\n",
    "              title='GDPのトレンドからの％乖離')\n",
    "ax_.axhline(0, color='red')     # 2\n",
    "pass"
   ]
  },
  {
   "cell_type": "markdown",
   "metadata": {
    "hidden": true
   },
   "source": [
    "```{admonition} コード説明\n",
    ":class: dropdown\n",
    "\n",
    "1. `Pandas`のメソッド`plot`は図を表示すると共に図の「軸（axis）」を返すが，それを変数`ax`に割り当てている。\n",
    "    * `marker`はデータのマーカーを指定する引数であり，`'.'`は小さな点を指定している。\n",
    "    * `linestyle`は線のスタイルを指定する引数であり，`':'`は点線を指定している。\n",
    "2. `ax_`のメソッド`.axhline()`を使うと横線を描くことができる。\n",
    "    * 縦軸の値`0`は必須の引数\n",
    "    * `color=red`は色を指定する引数（無くても良い）。\n",
    "```"
   ]
  },
  {
   "cell_type": "markdown",
   "metadata": {},
   "source": [
    "まず乖離率の平均を確認してみよう。"
   ]
  },
  {
   "cell_type": "code",
   "execution_count": null,
   "metadata": {},
   "outputs": [],
   "source": [
    "df['gdp_cycle'].mean()"
   ]
  },
  {
   "cell_type": "markdown",
   "metadata": {},
   "source": [
    "正と負の乖離率は相殺し平均では`0`に非常に近い値となっている。\n",
    "\n",
    "図を見ると、乖離率の絶対値は負の方が大きいことが分かる。絶対値で、負の乖離率は正の乖離率の何倍かを計算してみよう。"
   ]
  },
  {
   "cell_type": "code",
   "execution_count": null,
   "metadata": {},
   "outputs": [],
   "source": [
    "abs( df['gdp_cycle'].min() ) / df['gdp_cycle'].max()"
   ]
  },
  {
   "cell_type": "markdown",
   "metadata": {},
   "source": [
    "山よりも谷は`2`倍以上深いことが分かる。\n",
    "\n",
    "負の乖離率の絶対値が大きく、平均は約`0`だということは、正の乖離率が発生した回数が多いということが分かる。確認してみよう。"
   ]
  },
  {
   "cell_type": "code",
   "execution_count": null,
   "metadata": {},
   "outputs": [],
   "source": [
    "cond = ( df['gdp_cycle'] >= 0 )\n",
    "plus = len( df.loc[cond,:] )\n",
    "minus = len(df) - plus\n",
    "print(f'正の乖離の発生回数：{plus}\\n負の乖離の発生回数：{minus}')"
   ]
  },
  {
   "cell_type": "markdown",
   "metadata": {},
   "source": [
    "ヒストグラムを使って分布を確認してみよう。"
   ]
  },
  {
   "cell_type": "code",
   "execution_count": null,
   "metadata": {},
   "outputs": [],
   "source": [
    "df.plot(y='gdp_cycle', kind='hist', ec='white', bins=15)\n",
    "pass"
   ]
  },
  {
   "cell_type": "markdown",
   "metadata": {},
   "source": [
    "歪んだ分布になっていることが分かる。"
   ]
  },
  {
   "cell_type": "markdown",
   "metadata": {
    "hidden": true
   },
   "source": [
    "もう一度GDP乖離率のプロットを見てみよう。「山」と「谷」の形，幅（期間），高さ（深さ）はまちまちであり，不確実な要素が大きい。言い換えると，景気循環の予測は非常に難しい。この点は確率変数として捉えることができるが，このアプローチは後のトピックで扱う。"
   ]
  },
  {
   "cell_type": "markdown",
   "metadata": {
    "heading_collapsed": true,
    "hidden": true,
    "jp-MarkdownHeadingCollapsed": true
   },
   "source": [
    "### 構成要素のトレンドからの乖離率"
   ]
  },
  {
   "cell_type": "markdown",
   "metadata": {
    "hidden": true
   },
   "source": [
    "次にGDPの構成要素について考えるが，まずトレンドからの乖離の変数を作成する（単位：％）。"
   ]
  },
  {
   "cell_type": "code",
   "execution_count": null,
   "metadata": {
    "hidden": true
   },
   "outputs": [],
   "source": [
    "for v in gdp_lst[1:]:   # gdp以外の変数    \n",
    "    \n",
    "    df[v+'_cycle'] = 100 * ( df[v+'_log'] - df[v+'_log_trend'] ) "
   ]
  },
  {
   "cell_type": "markdown",
   "metadata": {
    "hidden": true
   },
   "source": [
    "図示する変数のリスを作成するために，列ラベルを確認しよう。"
   ]
  },
  {
   "cell_type": "code",
   "execution_count": null,
   "metadata": {
    "hidden": true
   },
   "outputs": [],
   "source": [
    "df.columns"
   ]
  },
  {
   "cell_type": "markdown",
   "metadata": {
    "hidden": true
   },
   "source": [
    "列ラベルに`_cycle`がついている変数だけを選ぶために`cycle_lst`を作成する。"
   ]
  },
  {
   "cell_type": "code",
   "execution_count": null,
   "metadata": {
    "hidden": true
   },
   "outputs": [],
   "source": [
    "gdp_cycle_lst = df.columns[-6:]   # 最後の6変数\n",
    "df.plot(y=gdp_cycle_lst, subplots=True, figsize=(8,10))\n",
    "pass"
   ]
  },
  {
   "cell_type": "markdown",
   "metadata": {
    "hidden": true
   },
   "source": [
    "この図に基づいて次の点について考える。\n",
    "1. GDPと順循環的（pro-cyclical）か反循環的（counter- cyclical）かどうか\n",
    "2. 持続性\n",
    "1. 変動の大きさの比較"
   ]
  },
  {
   "cell_type": "markdown",
   "metadata": {
    "jp-MarkdownHeadingCollapsed": true
   },
   "source": [
    "### インフレ率と失業率のトレンドからの乖離"
   ]
  },
  {
   "cell_type": "markdown",
   "metadata": {},
   "source": [
    "次に、失業率とインフレ率の乖離を確認するが、GDPなどの変数と違い、インフレ率と失業率は長期的なトレンドはないと考えることができる。従って、式[](eq:10-decompose_plus_A)を使い、対数化せずに計算する必要がる。"
   ]
  },
  {
   "cell_type": "code",
   "execution_count": null,
   "metadata": {},
   "outputs": [],
   "source": [
    "for v in infu_lst:\n",
    "\n",
    "    df[v+'_trend'] = py4macro.trend( df[v] )\n",
    "    df[v+'_cycle'] = df[v] - df[v+'_trend']"
   ]
  },
  {
   "cell_type": "markdown",
   "metadata": {},
   "source": [
    "まず両変数の乖離をプロットしてみよう。"
   ]
  },
  {
   "cell_type": "code",
   "execution_count": null,
   "metadata": {},
   "outputs": [],
   "source": [
    "infu_cycle_lst = [v+'_cycle' for v in infu_lst]\n",
    "\n",
    "df.plot(y=infu_cycle_lst, subplots=True)\n",
    "pass"
   ]
  },
  {
   "cell_type": "markdown",
   "metadata": {},
   "source": [
    "以下で考察するが、逆に動いているのが特徴的である。"
   ]
  },
  {
   "cell_type": "markdown",
   "metadata": {
    "heading_collapsed": true,
    "hidden": true,
    "jp-MarkdownHeadingCollapsed": true
   },
   "source": [
    "## 変動の相関"
   ]
  },
  {
   "cell_type": "markdown",
   "metadata": {},
   "source": [
    "ここでは変数の変動間の相関について考察する。\n",
    "相関とは，異なる変数が同時にどの方向（正か負）にどの程度動く傾向にあるかを示す。"
   ]
  },
  {
   "cell_type": "markdown",
   "metadata": {
    "jp-MarkdownHeadingCollapsed": true
   },
   "source": [
    "### 復習"
   ]
  },
  {
   "cell_type": "markdown",
   "metadata": {},
   "source": [
    "`2`つのランダム変数$X_i$と$Y_i$, $i=1,2,3,\\cdots,n$を考えよう。\n",
    "`2`変数の**不偏分散**は次のように定義される。\n",
    "\n",
    "$$\n",
    "\\sigma_{X}^2=\\frac{1}{n-1}\\sum_{i=1}^{n}\n",
    "\\left(X_i-\\overline{X}\\right)^2\n",
    "\\qquad\n",
    "\\sigma_{Y}^2=\\frac{1}{n-1}\\sum_{i=1}^{n}\n",
    "\\left(Y_i-\\overline{Y}\\right)^2\n",
    "$$\n",
    "\n",
    "ここで$\\overline{X}$と$\\overline{Y}$は平均を表し、それぞれの**標準偏差**は\n",
    "\n",
    "$$\n",
    "\\sigma_{X},\n",
    "\\quad\n",
    "\\sigma_{Y}\n",
    "$$\n",
    "\n",
    "となる。\n",
    "\n",
    "ここでは`2`変数の相関を考えたい訳だが、その尺度として共分散が使われ、次のように定義される。\n",
    "\n",
    "$$\n",
    "\\sigma_{XY}=\\frac{1}{n-1}\\sum_{i=1}^{n}\n",
    "\\left(X_i-\\overline{X}\\right)\\left(Y_i-\\overline{Y}\\right)\n",
    "$$ (eq:10-covariance)\n",
    "\n",
    "符号の解釈：\n",
    "* $\\sigma_{XY}=0$：無相関\n",
    "* $\\sigma_{XY}>0$：正の相関\n",
    "* $\\sigma_{XY}<0$：負の相関\n",
    "\n",
    "共分散の絶対値が大きければ大きい（小さい）程，相関度が高い（低い）ことを意味する。\n",
    "\n",
    "また上の定義から次が成立することが簡単に理解できる。\n",
    "\n",
    "$$\n",
    "\\sigma_{XX}=\\sigma_{X}^2,\n",
    "\\qquad\n",
    "\\sigma_{YY}=\\sigma_{Y}^2,\n",
    "$$\n",
    "\n",
    "別々の`2`変数を使うことにより共分散を計算することができるが、その`2`変数が同じ変数となる場合（`X`と`X`の`2`変数もしくは`Y`と`Y`の`2`変数）は分散となる。"
   ]
  },
  {
   "cell_type": "markdown",
   "metadata": {},
   "source": [
    "共分散の重要な特徴は$X_i$と$Y_i$の単位に依存することであり、それにより単位が異なる`2`つの相関度の比較には向いていない。\n",
    "その点を克服するのが**相関係数**であり、次のように定義される。\n",
    "\n",
    "$$\n",
    "\\rho_{XY}=\n",
    "\\frac{\\sigma_{XY}}{\\sigma_X\\sigma_Y}\n",
    "$$ (eq:10-covariance_coef)\n",
    "\n",
    "次の特徴がある。\n",
    "* 分母は必ず正となるので，分子の共分散が符号を決定する。\n",
    "* $\\rho_{XY}$の値は`-1`から`1`の間の値を取り、単位に依存しない。この特徴は、分母に$X$と$Y$の標準偏差の積を積を置く事により単位をキャンセルしているためである。\n",
    "\n",
    "$\\rho_{XX}$を考えてみよう。\n",
    "\n",
    "$$\n",
    "\\rho_{XX}=\n",
    "\\frac{\\sigma_{XX}}{\\sigma_X\\sigma_X}\n",
    "=\\frac{\\sigma_{X}^2}{\\sigma_X^2}\n",
    "=1\n",
    "$$\n",
    "\n",
    "分母は`X`の分散と等しく，分母も`X`の分散と等しくなり、`1`となる。即ち、`X`と`X`は完璧に相関しているため相関係数は`1`となる。また，$X$と$-X$の相関係数は$\\rho_{X-X}=-1$となり，完璧な負の相関となる。一般的には，$\\rho_{XY}$の絶対値は`1`よりも小さな値となる。相関係数の重要な特徴は単位には依存しないため，単位が異なる変数の相関度を比較するには有用な指標となる。"
   ]
  },
  {
   "cell_type": "markdown",
   "metadata": {
    "jp-MarkdownHeadingCollapsed": true
   },
   "source": [
    "### `.cov`と`.corr()`"
   ]
  },
  {
   "cell_type": "markdown",
   "metadata": {
    "hidden": true
   },
   "source": [
    "`DataFrame`には分散と共分散を計算するメソッド`.cov()`が用意されている。例として、`gdp_cycle`と`consumption_cycle`を抽出して`.cov()`を使ってみよう。"
   ]
  },
  {
   "cell_type": "code",
   "execution_count": null,
   "metadata": {},
   "outputs": [],
   "source": [
    "varcov = df[['gdp_cycle', 'government_cycle']].cov()\n",
    "varcov"
   ]
  },
  {
   "cell_type": "markdown",
   "metadata": {},
   "source": [
    "`varcov`は分散共分散行列と呼ばれる。\n",
    "左上と右下の対角線上にあるのは、`gdp_cycle`と`government_cycle`の不偏分散である。\n",
    "一方、右上と左下の値（同じ値となる）が**共分散**であり、この場合は負の値となっている。\n",
    "\n",
    "`varcov`を使い相関係数を計算してみよう。"
   ]
  },
  {
   "cell_type": "code",
   "execution_count": null,
   "metadata": {},
   "outputs": [],
   "source": [
    "varcov.iloc[0,1] / ( varcov.iloc[0,0]**0.5 * varcov.iloc[1,1]**0.5 ) "
   ]
  },
  {
   "cell_type": "markdown",
   "metadata": {},
   "source": [
    "相関係数はメソッド`.corr()`を使って求めることもできる。"
   ]
  },
  {
   "cell_type": "code",
   "execution_count": null,
   "metadata": {},
   "outputs": [],
   "source": [
    "df[['gdp_cycle', 'government_cycle']].corr()"
   ]
  },
  {
   "cell_type": "markdown",
   "metadata": {},
   "source": [
    "左下もしくは右上の値が相関係数であり、上の「手計算」と等しい。"
   ]
  },
  {
   "cell_type": "markdown",
   "metadata": {
    "jp-MarkdownHeadingCollapsed": true
   },
   "source": [
    "### GDPと構成要素との相関係数"
   ]
  },
  {
   "cell_type": "markdown",
   "metadata": {},
   "source": [
    "GDPと構成要素との相関係数を`for`ループを使って計算しよう。"
   ]
  },
  {
   "cell_type": "code",
   "execution_count": null,
   "metadata": {
    "hidden": true
   },
   "outputs": [],
   "source": [
    "print('GDPの変動との相関係数\\n------------------------')\n",
    "\n",
    "for v in gdp_cycle_lst:\n",
    "    corr = df[['gdp_cycle', v]].corr().iloc[0,1]  # 1\n",
    "    print(f'{v:<19}{corr:>5.2f}')                 # 2"
   ]
  },
  {
   "cell_type": "markdown",
   "metadata": {
    "hidden": true
   },
   "source": [
    "```{admonition} コードの説明\n",
    ":class: dropdown\n",
    "\n",
    "1. `.corr()`は相関係数を計算するメソッドであり，2x2の行列を返す。\n",
    "    * `iloc[0,1]`は相関係数の値を抽出している。`iloc[1,0]`でも同じ結果となる。\n",
    "2. `f-string`を使っている。\n",
    "    * `<19`は`v`の文字列の長さを空白を足して`19`にし左詰めにする。\n",
    "    * `>5`は`corr`の文字列の長さを空白を足して`5`にし右詰めにする。\n",
    "    * `.2f`は小数点第二位までの表示を設定している。\n",
    "        * `>5`と`.2f`の順番を逆にするとエラーが発生する。\n",
    "```"
   ]
  },
  {
   "cell_type": "markdown",
   "metadata": {
    "hidden": true
   },
   "source": [
    "政府支出以外は全て相関係数は正の値であり，値も大きい。即ち，順循環的である（裏にあるメカニズムを考えてみよう）。下の図はGDPと投資の散布図であり，正の相関を確認できる。"
   ]
  },
  {
   "cell_type": "code",
   "execution_count": null,
   "metadata": {
    "hidden": true
   },
   "outputs": [],
   "source": [
    "df.plot(x='gdp_cycle', y='investment_cycle', kind='scatter')\n",
    "pass"
   ]
  },
  {
   "cell_type": "markdown",
   "metadata": {
    "hidden": true
   },
   "source": [
    "一方，政府支出の値は負であり，景気循環をコントロールしようとする政府の政策の現れと解釈できる。GDPのトレンドからの乖離が負の場合、景気対策として政府支出を増やし傾向にある。また、GDPの乖離が正であれば、経済のオーバーヒート（インフレの発生）することを避けるために政府支出を減少させると理解できる。\n",
    "\n",
    "一方、値が小さいのは，時間的なラグがあるためだと思われる。景気に関するデータを集計するには数ヶ月かかり，国会審議や支出の実行にも時間を取られることになる。この点を確認するために，`Series`のメソッド`.shift()`を使って相関係数を再計算してみよう。"
   ]
  },
  {
   "cell_type": "code",
   "execution_count": null,
   "metadata": {
    "hidden": true
   },
   "outputs": [],
   "source": [
    "print('  GDPとの相関係数\\n-----------------------')\n",
    "\n",
    "for n in range(12):\n",
    "    \n",
    "    df['gov_cycle_shift'] = df['government_cycle'].shift(-n)     #1\n",
    "    \n",
    "    corr = df[['gdp_cycle', 'gov_cycle_shift']].corr().iloc[0,1]\n",
    "    \n",
    "    print(f'{n:>3}期先の政府支出: {corr:>6.3f}')\n",
    "    \n",
    "    del df['gov_cycle_shift']                                    #2"
   ]
  },
  {
   "cell_type": "markdown",
   "metadata": {
    "hidden": true
   },
   "source": [
    "```{admonition} コードの説明\n",
    ":class: dropdown\n",
    "\n",
    "* `#1`：`.shift()`の引数は値を先に何期ずらすかを指定する。比べたいのは$t$期のGDPと$t+n$期の政府支出なので，後にずらす必要があるためマイナス符号を付けて`.shift(-t)`としている。\n",
    "* `#2`：列`gov_cycle_shift`は必要ないので削除する。\n",
    "```"
   ]
  },
  {
   "cell_type": "markdown",
   "metadata": {
    "hidden": true
   },
   "source": [
    "GDPの乖離は`3`四半期先の政府支出との相関係数が最大となっている。景気循環に対する政府の姿勢が確認できる一方，政府の対応には長いの時間が掛かることを示す結果となっている。"
   ]
  },
  {
   "cell_type": "markdown",
   "metadata": {
    "jp-MarkdownHeadingCollapsed": true
   },
   "source": [
    "### GDPとインフレ率・失業率との相関係数"
   ]
  },
  {
   "cell_type": "markdown",
   "metadata": {},
   "source": [
    "GDP、インフレ率、失業率の3つの変数間の相関係数を計算してみよう。"
   ]
  },
  {
   "cell_type": "code",
   "execution_count": null,
   "metadata": {
    "hidden": true
   },
   "outputs": [],
   "source": [
    "cols = ['gdp_cycle'] + infu_cycle_lst\n",
    "df[cols].corr()"
   ]
  },
  {
   "cell_type": "markdown",
   "metadata": {
    "hidden": true
   },
   "source": [
    "右上数値と左下の数値は同じであり、次の読み方となる。\n",
    "* `gdp_cycle`と`inflation_cycle`の相関係数\n",
    "    * `0`行目・`1`列目の値もしくは`1`行目・`0`列目の値\n",
    "    * 正の値：「景気が良くなるとインフレが発生する」という直観に沿った結果\n",
    "* `gdp_cycle`と`unemployment_rate_cycle`の相関係数\n",
    "    * `0`行目・`2`列目の値もしくは`2`行目・`0`列目の値\n",
    "    * 負の値：「景気が良くなると失業率は減少する」という直観に沿った結果\n",
    "* `inflation_cycle`と`unemployment_rate_cycle`の相関係数\n",
    "    * `1`行目・`2`列目の値もしくは`2`行目・`1`列目の値\n",
    "    * 負の値：フィリップス曲線を反映"
   ]
  },
  {
   "cell_type": "markdown",
   "metadata": {
    "hidden": true
   },
   "source": [
    "GDPの乖離に反応する政府支出は時間的なラグが発生していた。\n",
    "インフレ率はどうだろうか。\n",
    "景気が良くなるとインフレ率は高くなることは確認できたが、景気の影響は直ぐに価格上昇に反映されるのだろうか。例えば、企業間の競争や顧客への影響を考え、企業の反応には時間的なラグがあるかも知れない。\n",
    "失業率はどうだろうか。景気が良くなっても雇用を増やすのにはコスト（従業員募集の宣伝にかかる時間や費用）がかかり、雇用は直ぐに反応できないかも知れない。また、景気が悪くなったとしても、企業は簡単に労働者を解雇することができない場合も多く、雇用調整には時間が掛かるかも知れない。\n",
    "\n",
    "このような時間的なラグを捉えるために，`for`ループを使い時間をずらして相関係数を再計算してみよう。"
   ]
  },
  {
   "cell_type": "code",
   "execution_count": null,
   "metadata": {
    "hidden": true
   },
   "outputs": [],
   "source": [
    "print('  GDPとの相関係数\\n-----------------------')\n",
    "\n",
    "for n in range(0,10):\n",
    "    \n",
    "    df['inflation_cycle_shift'] = df['inflation_cycle'].shift(-n)\n",
    "    \n",
    "    corr = df[['gdp_cycle', 'inflation_cycle_shift']].corr().iloc[0,1]\n",
    "    \n",
    "    print(f'{n:>3}期先のインフレ率: {corr:>6.3f}')\n",
    "    \n",
    "    del df['inflation_cycle_shift']"
   ]
  },
  {
   "cell_type": "markdown",
   "metadata": {},
   "source": [
    "GDPとインフレ率の相関係数は`2`期先で最高になり、影響は`7`期先で`0`に近づいている。"
   ]
  },
  {
   "cell_type": "code",
   "execution_count": null,
   "metadata": {},
   "outputs": [],
   "source": [
    "print('  GDPとの相関係数\\n-----------------------')\n",
    "\n",
    "for n in range(10):\n",
    "    \n",
    "    df['unemployment_rate_cycle_shift'] = df['unemployment_rate_cycle'].shift(-n)\n",
    "    \n",
    "    corr = df[['gdp_cycle', 'unemployment_rate_cycle_shift']].corr().iloc[0,1]\n",
    "    \n",
    "    print(f'{n:>3}期先の失業率: {corr:>6.3f}')\n",
    "    \n",
    "    del df['unemployment_rate_cycle_shift']"
   ]
  },
  {
   "cell_type": "markdown",
   "metadata": {
    "hidden": true
   },
   "source": [
    "インフレ率と同様に、インパクトには時間的なラグがあり、`2`期先で最高になっている。また、符号が変わるのは`8`期先であり、影響は長く続くことがわかる。"
   ]
  },
  {
   "cell_type": "markdown",
   "metadata": {
    "hidden": true,
    "jp-MarkdownHeadingCollapsed": true
   },
   "source": [
    "(sec:10-autocovariance)=\n",
    "## 変動の自己相関"
   ]
  },
  {
   "cell_type": "markdown",
   "metadata": {},
   "source": [
    "次に，変数の変動の自己相関について考える。\n",
    "自己相関とは，ある変数が，その過去の値によってどの方向（正か負）にどの程度影響を受けるかを示す。"
   ]
  },
  {
   "cell_type": "markdown",
   "metadata": {
    "jp-MarkdownHeadingCollapsed": true
   },
   "source": [
    "### 復習"
   ]
  },
  {
   "cell_type": "markdown",
   "metadata": {},
   "source": [
    "既出のランダム変数$X_i$と$Y_i$、$i=1,2,3,\\cdots,n$を使い，自己相関について説明する。。\n",
    "`2`変数の相関度を測る共分散$\\sigma_{XY}$は式[](eq:10-covariance)で定義され，相関係数$\\rho_{XY}$は式[](eq:10-covariance_coef)で与えられる。"
   ]
  },
  {
   "cell_type": "markdown",
   "metadata": {},
   "source": [
    "ここで時系列のランダム変数を$\\varepsilon_t$として、次の置き換えてみよう。\n",
    "* $X_i\\;\\Rightarrow\\;\\varepsilon_t,\\quad t=0,1,2,3,\\cdots$\n",
    "* $Y_i\\;\\Rightarrow\\;\\varepsilon_{t-s},\\quad s=1,2,3,\\cdots$\n",
    "\n",
    "$\\varepsilon_{t-s}$は`s`期遡る過去の値である。\n",
    "これにより分散は次のように置き換えることができる。\n",
    "\n",
    "$$\n",
    "\\begin{aligned}\n",
    "\\sigma_X^2&\\quad\\Rightarrow\\quad\\sigma_{\\varepsilon_t}^2\\\\\n",
    "\\sigma_Y^2&\\quad\\Rightarrow\\quad\\sigma_{\\varepsilon_{t-s}}^2\n",
    "\\end{aligned}\n",
    "$$\n",
    "\n",
    "$X_i$と$Y_i$の分散は，`s`期ずれているだけの同じランダム変数$\\varepsilon$の分散に置き換わっている。\n",
    "更に，共分散は次のように置き換える事ができる。\n",
    "\n",
    "$$\n",
    "X_i\\text{と}Y_i\\text{の共分散}=\\sigma_{XY}\n",
    "\\quad\\Rightarrow\\quad\n",
    "\\sigma_{\\varepsilon_t,\\varepsilon_{t-s}}\n",
    "=s\\text{期間離れた}\\varepsilon\\text{の自己共分散}\n",
    "$$\n",
    "\n",
    "即ち，自己共分散はランダム変数とその変数の`s`期前の値との**自己相関**の度合を示す指標ということになる。\n",
    "\n",
    "これらの結果を使うと，$\\varepsilon_t$の相関係数は\n",
    "\n",
    "$$\n",
    "\\rho_{\\varepsilon}(s)\n",
    "\\equiv\n",
    "\\rho_{\\varepsilon_t,\\varepsilon_{t-s}}\n",
    "=\\frac{\n",
    "    \\sigma_{\\varepsilon_t,\\varepsilon_{t-s}}\n",
    "    }{\n",
    "    \\sigma_{\\varepsilon_t}\n",
    "    \\sigma_{\\varepsilon_{t-s}}\n",
    "    }\n",
    "$$\n",
    "\n",
    "で与えられ，一般的には**自己相関関数**と呼ばれる。「関数」と呼ばれる理由は，$\\rho_{\\varepsilon}(s)$は`s`の関数として考えることができるためだ。このサイトでは，`s=1`の場合は自己相関係数と呼ぶ事にする。呼称よりも重要なのが解釈である。解釈は次のようになる。\n",
    "* $\\rho_{\\varepsilon}(s)=0,\\;s=1,2,3,\\cdots$：何期離れたとしても自己相関はなしという意味である。過去の影響は皆無の状況を指している。\n",
    "* $\\rho_{\\varepsilon}(s)>0,\\;s=1,2,3,\\cdots$：今期と`s`期前の値は正の相関があるということを示す。$\\varepsilon_{t-s}$の値が大きければ（小さければ），$\\varepsilon_{t}$も大きい（小さい）傾向にあるという意味であり，`s`期前の影響が強ければ，自己相関係数の絶対値は大きくなる。経済学では`s=1`を考える場合が多く，この性質を**持続性**（persisitence）と呼ぶ。持続性は多くのマクロ変数の重要な特徴となっている。\n",
    "* $\\rho_{\\varepsilon}(s)<0,\\;s=1,2,3,\\cdots$：今期と`s`期前の値は負の相関があるということを示す。$\\varepsilon_{t-s}$の値が大きければ（小さければ），$\\varepsilon_{t}$は小さい（大きい）傾向にあるという意味であり，`s`期前の影響が強ければ，自己相関係数の絶対値は大きくなる。"
   ]
  },
  {
   "cell_type": "markdown",
   "metadata": {
    "jp-MarkdownHeadingCollapsed": true
   },
   "source": [
    "### `.cov`と`.corr()`と`.autocorr()`：GDPの場合"
   ]
  },
  {
   "cell_type": "markdown",
   "metadata": {
    "hidden": true
   },
   "source": [
    "まずGDPの変動を考えるために，`df`から`gdp_cycle`を`DataFrame`として抽出し，変数`g`に割り当てよう。"
   ]
  },
  {
   "cell_type": "code",
   "execution_count": null,
   "metadata": {
    "hidden": true
   },
   "outputs": [],
   "source": [
    "g = df[['gdp_cycle']]"
   ]
  },
  {
   "cell_type": "markdown",
   "metadata": {
    "hidden": true
   },
   "source": [
    "次に，`1`期違いの自己共分散$\\sigma_{g_tg_{t-1}}$を計算するために，`g`の列`gdp_cycle`を`1`期シフトさせた新たな列`gdp_cycle_lag`を作成しよう。"
   ]
  },
  {
   "cell_type": "code",
   "execution_count": null,
   "metadata": {},
   "outputs": [],
   "source": [
    "g['gdp_cycle_lag'] = g['gdp_cycle'].shift()\n",
    "g.head()"
   ]
  },
  {
   "cell_type": "markdown",
   "metadata": {},
   "source": [
    "`gdp_cycle_lag`の値は`gdp_cycle`の値が`1`期シフトしていることが分かる。\n",
    "`0`番目の行の`gdp_cycle`が初期値であり、同じ値が`1`番目の行の`gdp_cycle_lag`に入っている。\n",
    "即ち、`1`番目の行を見ると`gdp_cycle`には`1`期の値、`gdp_cycle_lag`には初期（`0`期）の値がある。\n",
    "同様に、各行の`gdp_cycle`には`t`期の値、`gdp_cycle_lag`には`t-1`期の値が入っている。"
   ]
  },
  {
   "cell_type": "markdown",
   "metadata": {
    "hidden": true
   },
   "source": [
    "メソッド`.cov()`を使って分散・自己共分散を計算してみよう。"
   ]
  },
  {
   "cell_type": "code",
   "execution_count": null,
   "metadata": {
    "hidden": true
   },
   "outputs": [],
   "source": [
    "g.cov()"
   ]
  },
  {
   "cell_type": "markdown",
   "metadata": {
    "hidden": true
   },
   "source": [
    "左上と右下の対角線上にあるのは、`gdp_cycle`と`gdp_cycle_lag`の不偏分散である。近い値だが、`gdp_cycle_lag`には欠損値があるため異なる値となっている。一方、右上と左下の値（同じ値となる）が**自己共分散**である。\n",
    "\n",
    "`g.cov()`を使って自己相関係数を計算することができるが、一点注意する必要がある。`g`の`0`行目には欠損値があるため、自己共分散を計算する際にその行は使われていない。同様に、自己相関係数を計算する際は欠損値がある行を使わずに計算する必要がある。この点に注意し、次のコードで計算することができる。"
   ]
  },
  {
   "cell_type": "code",
   "execution_count": null,
   "metadata": {},
   "outputs": [],
   "source": [
    "varcov = g.dropna().cov()\n",
    "varcov.iloc[0,1] / ( varcov.iloc[0,0]**0.5 * varcov.iloc[1,1]**0.5 )"
   ]
  },
  {
   "cell_type": "markdown",
   "metadata": {},
   "source": [
    "メソッド`.corr()`を使っても同じ結果を得ることができる。"
   ]
  },
  {
   "cell_type": "code",
   "execution_count": null,
   "metadata": {},
   "outputs": [],
   "source": [
    "g.corr()"
   ]
  },
  {
   "cell_type": "markdown",
   "metadata": {},
   "source": [
    "また、`g['gdp_cycle']`のメソッド`.autocorr()`を使い、直接**自己相関係数**を計算することも可能である。"
   ]
  },
  {
   "cell_type": "code",
   "execution_count": null,
   "metadata": {
    "hidden": true
   },
   "outputs": [],
   "source": [
    "g['gdp_cycle'].autocorr()"
   ]
  },
  {
   "cell_type": "markdown",
   "metadata": {
    "hidden": true
   },
   "source": [
    "この数値は持続性を意味し，今期のGDPのトレンドからの乖離が正（負）であれば、来季もそれが続く傾向にあることを意味する。\n",
    "\n",
    "`g`を使って散布図を描いてみよう。"
   ]
  },
  {
   "cell_type": "code",
   "execution_count": null,
   "metadata": {
    "hidden": true
   },
   "outputs": [],
   "source": [
    "g.plot(x='gdp_cycle_lag', y='gdp_cycle', kind='scatter')\n",
    "pass"
   ]
  },
  {
   "cell_type": "markdown",
   "metadata": {
    "hidden": true
   },
   "source": [
    "はっきりと正の相関を確認できるが，例外的な動きをしている観測値もある。"
   ]
  },
  {
   "cell_type": "markdown",
   "metadata": {
    "jp-MarkdownHeadingCollapsed": true
   },
   "source": [
    "### GDPの構成要素"
   ]
  },
  {
   "cell_type": "markdown",
   "metadata": {},
   "source": [
    "まずGDPの構成要素のトレンドからの乖離率の持続性を考察するが，`gdp_cycle`を含めて次の変数を考えよう。"
   ]
  },
  {
   "cell_type": "code",
   "execution_count": null,
   "metadata": {},
   "outputs": [],
   "source": [
    "gdp_cycle_lst"
   ]
  },
  {
   "cell_type": "markdown",
   "metadata": {},
   "source": [
    "`for`ループを使い、自己相関係数を計算してみよう。"
   ]
  },
  {
   "cell_type": "code",
   "execution_count": null,
   "metadata": {},
   "outputs": [],
   "source": [
    "for v in gdp_cycle_lst:\n",
    "    \n",
    "    autocorr = df[v].autocorr()       #1\n",
    "    print(f'{v:<19}{autocorr:.3f}')   #2"
   ]
  },
  {
   "cell_type": "markdown",
   "metadata": {},
   "source": [
    "```{admonision} コードの説明\n",
    "* `#1`：`.autocorr()`は自己相関係数を計算するメソッド。\n",
    "* `#2`：f-stringを使っている。\n",
    "    * `<19`は`v`の文字列の長さを空白を足して`19`にし左詰めにする。\n",
    "    * `.3f`は小数点第３位までの表示を設定している。\n",
    "```"
   ]
  },
  {
   "cell_type": "markdown",
   "metadata": {},
   "source": [
    "消費を除いて全て0.5以上であり，全ての変数で持続性が確認できる。\n",
    "特に、投資と輸入の持続性は高いことが分かる。"
   ]
  },
  {
   "cell_type": "markdown",
   "metadata": {},
   "source": [
    "### インフレ率と失業率"
   ]
  },
  {
   "cell_type": "markdown",
   "metadata": {},
   "source": [
    "次に、失業率とインフレ率の持続性を確認する。"
   ]
  },
  {
   "cell_type": "code",
   "execution_count": null,
   "metadata": {},
   "outputs": [],
   "source": [
    "for v in infu_cycle_lst:\n",
    "    \n",
    "    autocorr = df[v].autocorr()\n",
    "    print(f'{v:<25}{autocorr:.3f}')"
   ]
  },
  {
   "cell_type": "markdown",
   "metadata": {},
   "source": [
    "非常に強い持続性が確認できる。一旦、インフレ率と失業率が長期的なトレンドから乖離すると、元に戻るには時間が掛かることを意味している。更には、財政政策と金融政策によるマクロ経済政策の効果が現れてくるには時間が掛かることを示唆しているおり、経済安定化政策の難しさを示唆する数値となっている。"
   ]
  },
  {
   "cell_type": "markdown",
   "metadata": {
    "jp-MarkdownHeadingCollapsed": true
   },
   "source": [
    "## 変動の大きさ"
   ]
  },
  {
   "cell_type": "markdown",
   "metadata": {
    "hidden": true
   },
   "source": [
    "次に変動の大きさを考えるために，GDPの標準偏差に対するそれぞれの構成要素の標準偏差の比率を計算しよう。"
   ]
  },
  {
   "cell_type": "code",
   "execution_count": null,
   "metadata": {
    "hidden": true
   },
   "outputs": [],
   "source": [
    "for v in gdp_cycle_lst:\n",
    "    \n",
    "    var = df[v].std() / df['gdp_cycle'].std()\n",
    "    print(f'{v:<19}{var:>5.2f}')"
   ]
  },
  {
   "cell_type": "markdown",
   "metadata": {
    "hidden": true
   },
   "source": [
    "投資，輸出，輸入の値はGDPの3倍以上であり，政府支出の値はGDPより低く，消費の変動は更に小さい。これは消費者の不確実性を嫌う姿勢が反映されていると解釈できる。GDPの構成要素を対GDP比率で検討した際，消費は投資よりも比率が大きかったことを思い出そう。変動に関しては，順位が逆転し投資が大きく上回っている。この点を図示して視覚的に確認してみよう。"
   ]
  },
  {
   "cell_type": "code",
   "execution_count": null,
   "metadata": {
    "hidden": true
   },
   "outputs": [],
   "source": [
    "df.plot(y=gdp_cycle_lst[:3])\n",
    "pass"
   ]
  },
  {
   "cell_type": "markdown",
   "metadata": {
    "hidden": true
   },
   "source": [
    "これらの結果を説明するために，効用最大化に基づく消費者理論があり，利潤最大化に基づく企業行動に関するモデルが使われている。\n",
    "\n",
    "```{note}\n",
    "変動の大きさを比べるために、変動係数を使うこともできるが、分母に使う平均が`0`に近い値となるため、意味がない比較となってします。\n",
    "```\n",
    "\n",
    "次に、インフレ率と失業率の変動の大きさをプロットしてみよう。"
   ]
  },
  {
   "cell_type": "code",
   "execution_count": null,
   "metadata": {},
   "outputs": [],
   "source": [
    "df['inflation_cycle'].std() / df['unemployment_rate_cycle'].std()"
   ]
  },
  {
   "cell_type": "markdown",
   "metadata": {},
   "source": [
    "インフレ率の変動の標準偏差は、失業率のそれの`3`倍以上であり、非常に大きいことがわかる。\n",
    "プロットして確かめてみよう。"
   ]
  },
  {
   "cell_type": "code",
   "execution_count": null,
   "metadata": {},
   "outputs": [],
   "source": [
    "df.plot(y=infu_cycle_lst)\n",
    "pass"
   ]
  },
  {
   "cell_type": "markdown",
   "metadata": {},
   "source": [
    "大きな差を視覚的に確認できる。"
   ]
  }
 ],
 "metadata": {
  "celltoolbar": "Edit Metadata",
  "kernelspec": {
   "display_name": "Python 3 (ipykernel)",
   "language": "python",
   "name": "python3"
  },
  "language_info": {
   "codemirror_mode": {
    "name": "ipython",
    "version": 3
   },
   "file_extension": ".py",
   "mimetype": "text/x-python",
   "name": "python",
   "nbconvert_exporter": "python",
   "pygments_lexer": "ipython3",
   "version": "3.11.9"
  }
 },
 "nbformat": 4,
 "nbformat_minor": 4
}
