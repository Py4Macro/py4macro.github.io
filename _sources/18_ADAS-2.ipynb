{
 "cells": [
  {
   "cell_type": "markdown",
   "metadata": {
    "tags": []
   },
   "source": [
    "(chap:18-adas-2)=\n",
    "# 定量的マクロ経済分析：Part 2"
   ]
  },
  {
   "cell_type": "markdown",
   "metadata": {},
   "source": [
    "<div name=\"html-admonition\" style=\"font-size: 0.8em\">\n",
    "<input type=\"button\" onclick=\"location.href='https://translate.google.com/translate?hl=&sl=ja&tl=en&u='+window.location;\" value=\"Google translation\" style=\"color:#ffffff;background-color:#008080; height:25px\" onmouseover=\"this.style.background='#99ccff'\" onmouseout=\"this.style.background='#008080'\"/> in English or the language of your choice.\n",
    "</div><br>"
   ]
  },
  {
   "cell_type": "code",
   "execution_count": null,
   "metadata": {},
   "outputs": [],
   "source": [
    "import japanize_matplotlib\n",
    "import numpy as np\n",
    "import pandas as pd\n",
    "import py4macro\n",
    "import statsmodels.formula.api as smf\n",
    "\n",
    "# numpy v1の表示を使用\n",
    "np.set_printoptions(legacy='1.21')\n",
    "# 警告メッセージを非表示\n",
    "import warnings\n",
    "warnings.filterwarnings(\"ignore\")"
   ]
  },
  {
   "cell_type": "markdown",
   "metadata": {
    "heading_collapsed": true,
    "jp-MarkdownHeadingCollapsed": true
   },
   "source": [
    "## はじめに"
   ]
  },
  {
   "cell_type": "markdown",
   "metadata": {
    "hidden": true
   },
   "source": [
    "前章で展開したADASモデルは次の２つの均衡式で与えられる。\n",
    "\n",
    "$$\n",
    "p_{t}=hp_{t-1}+h\\left(a u_{t}+v_{t}\\right)\n",
    "$$ (eq:18-eq-p-2)\n",
    "\n",
    "$$\n",
    "y_t = -chp_{t-1} + h(u_t-cv_t)\n",
    "$$ (eq:18-eq-y-2)\n",
    "\n",
    "ここで\n",
    "\n",
    "$$\n",
    "h\\equiv\\frac{1}{1+a c}<1,\n",
    "$$ (eq:18-h-2)\n",
    "\n",
    "* $p_t$：価格水準のトレンドからの％乖離\n",
    "* $y_t$：産出量のトレンドからの％乖離\n",
    "* $v_t\\sim N\\left(0,\\sigma_v^2\\right)$：総供給ショック\n",
    "* $u_t\\sim N\\left(0,\\sigma_u^2\\right)$：総需要ショック\n",
    "\n",
    "またカリブレーションの手法を使い，次の値を設定した。"
   ]
  },
  {
   "cell_type": "code",
   "execution_count": null,
   "metadata": {
    "hidden": true,
    "tags": [
     "remove-cell"
    ]
   },
   "outputs": [],
   "source": [
    "ahat = 0.4405822671569939\n",
    "chat = 0.5002776200207564\n",
    "u_std = 0.01475683470914417\n",
    "v_std = 0.007494205944060558"
   ]
  },
  {
   "cell_type": "code",
   "execution_count": null,
   "metadata": {
    "hidden": true
   },
   "outputs": [],
   "source": [
    "print(f'aの値：{ahat:.3f}')\n",
    "print(f'cの値：{chat:.3f}')\n",
    "print(f'uの標準偏差：{u_std:.6f}')\n",
    "print(f'vの標準偏差：{v_std:.6f}')"
   ]
  },
  {
   "cell_type": "markdown",
   "metadata": {
    "hidden": true
   },
   "source": [
    "これらの値を使い，次の定量的マクロ分析をおこなう。第一に，ADASモデルの安定性を検討する。ADASモデルの定性的分析をとおして長期的な均衡は安定的だと直感的に理解できるが，以下では，差分方程式を使い結果をプロットし均衡の安定性を確認する。これにより，均衡への収束の速さを視覚的に確認することも可能となる。第二に，インパルス反応関数を使い，需要ショックもしくは供給ショックが発生した際，産出量と物価水準（トレンドからの％乖離）がどのように変化するかを示す時系列的なプロットに基づき検討する。このような定量分析は，ADASモデルの定性的な理解を補完することになる。第三に，確率的シミュレーションをおこない，ADASモデルが景気循環データをどの程度再現できるかが焦点となる。確率的シミュレーションでは，毎期毎期，総需要・総供給ショックが絶え間なく発生する状況を考え，生成されるデータと実際の景気循環データの特徴を比較することにより，ADASモデルのデータ再現力を評価することができる。第四に，確率的シミュレーションの結果を踏まえて，次の定量的な問いを検討する。\n",
    "> GDPと価格水準の長期トレンドからの乖離（％）の変動は，何パーセントが需要ショックにより引き起こされ，何パーセントが供給ショックに起因するのか？"
   ]
  },
  {
   "cell_type": "markdown",
   "metadata": {
    "heading_collapsed": true,
    "jp-MarkdownHeadingCollapsed": true
   },
   "source": [
    "## コードの基本形"
   ]
  },
  {
   "cell_type": "markdown",
   "metadata": {
    "hidden": true
   },
   "source": [
    "以下ではシミュレーションをおこなうが，コードは関数にまとめて書くことにする。\n",
    "コードは次のようなパターンになっている。\n",
    "\n",
    "関数の中身\n",
    "1. アップデート用の変数を用意\n",
    "1. 空のリストを作成\n",
    "1. `for`ループに`.append()`を使う\n",
    "1. `DataFrame`を返す\n",
    "\n",
    "簡単な例として次の差分方程式を考えてみよう。\n",
    "\n",
    "$$\n",
    "x_t = x_{t-1} + a\n",
    "$$\n",
    "\n",
    "`my_func()`は，この差分方程式を使った計算結果を`DataFrame`として返す。"
   ]
  },
  {
   "cell_type": "code",
   "execution_count": null,
   "metadata": {
    "hidden": true
   },
   "outputs": [],
   "source": [
    "def my_func(x0, a, n):\n",
    "    \"\"\"\n",
    "    引数：\n",
    "        x0: 初期値\n",
    "        a: 差分方程式のパラメーター\n",
    "        n: ループ計算の回数\n",
    "    戻り値：\n",
    "        DataFrame\n",
    "    \"\"\"\n",
    "\n",
    "    x = x0      # アップデート用の変数\n",
    "\n",
    "    lst = [x]   # 空のリスト\n",
    "\n",
    "    for i in range(n):\n",
    "\n",
    "        x = x + a      # 差分方程式\n",
    "\n",
    "        lst.append(x)  # リストに結果を追加\n",
    "        \n",
    "    return pd.DataFrame({'col': lst})"
   ]
  },
  {
   "cell_type": "code",
   "execution_count": null,
   "metadata": {
    "hidden": true
   },
   "outputs": [],
   "source": [
    "my_func(0, 10, 5)"
   ]
  },
  {
   "cell_type": "markdown",
   "metadata": {
    "hidden": true
   },
   "source": [
    "本章のコードは少し長くなるが，コードのパターンとしては上の例と同じになるので，コードの理解に不安な場合は上のコードで復習してはどうだろうか。"
   ]
  },
  {
   "cell_type": "markdown",
   "metadata": {
    "heading_collapsed": true,
    "jp-MarkdownHeadingCollapsed": true
   },
   "source": [
    "## ADASモデルの安定性"
   ]
  },
  {
   "cell_type": "markdown",
   "metadata": {
    "hidden": true
   },
   "source": [
    "まずADASモデルの安定性を考える。すなわち，任意の初期値（$p_0$と$y_0$）にある経済が長期均衡に戻るかどうかを確認する。\n",
    "そのために，ここでは総需要・総供給ショックがない経済を考える。即ち，$u_t=v_t=0$，$t=0,1,2,\\cdots$とする。\n",
    "従って，均衡式[](eq:18-eq-p)と[](eq:18-eq-y)は\n",
    "\n",
    "$$\n",
    "p_{t}=hp_{t-1}\n",
    "$$ (eq:18-eq-p-v0)\n",
    "\n",
    "$$\n",
    "y_t = -chp_{t-1}\n",
    "$$ (eq:18-eq-y-u0)\n",
    "\n",
    "となる。ここから次の２つの特徴が浮かび上がる。\n",
    "1. この連立差分方程式を解くには初期値$p_0$があれば十分である。\n",
    "1. 初期値$y_0$は$u_t=0$となる式[](eq:18-ad_small2)から計算することができる。\n",
    "\n",
    "    $$y_0=-cp_0$$\n",
    "   \n",
    "1. 安定性は式[](eq:18-eq-p-v0)のみに依存する。\n",
    "\n",
    "また，特徴2から次のことも導き出せる。\n",
    "式[](eq:18-eq-p-v0)の$h$の値は正であり絶対値は1よりも小さい。従って，差分方程式である式[](eq:18-eq-p-v0)は安定的であり，ADASモデル自体が安定的だということが確認できる。以下では，シミュレーションを使いこの結果を確認する。まずそのための関数を作成する。"
   ]
  },
  {
   "cell_type": "code",
   "execution_count": null,
   "metadata": {
    "hidden": true
   },
   "outputs": [],
   "source": [
    "def adas_model(p0=0, n=20, a=ahat, c=chat):\n",
    "    \"\"\"引数\n",
    "        p0: pの初期値（デフォルト：0）\n",
    "        n: ループの回数（デフォルト：20）\n",
    "        a: aの値（デフォルト：ahat）\n",
    "        c: cの値（デフォルト：chat）\n",
    "    戻り値：\n",
    "        yとpのDataFrame\"\"\"\n",
    "\n",
    "    # === hの定義 ==========\n",
    "    h = 1 / ( 1+a*c )\n",
    "        \n",
    "    # === 初期値，forループのアップデート用変数 ==========\n",
    "    p = p0\n",
    "    y = -c*p0\n",
    "    \n",
    "    # === yとpの値を格納するリスト ==========\n",
    "    y_lst = [y]   # 初期値を格納\n",
    "    p_lst = [p]   # 初期値を格納\n",
    "\n",
    "    # === ショック後のループ計算 ==========\n",
    "    for _ in range(n):\n",
    "        \n",
    "        (p, y) = ( h*p, -c*h*p )\n",
    "\n",
    "        y_lst.append(y)\n",
    "        p_lst.append(p)\n",
    "    \n",
    "    # === 辞書の作成 ==========\n",
    "    dic = {'y':y_lst, 'p':p_lst}\n",
    "    \n",
    "    # === 戻り値としてのDataFrame ==========\n",
    "    return pd.DataFrame(dic)"
   ]
  },
  {
   "cell_type": "markdown",
   "metadata": {
    "hidden": true
   },
   "source": [
    "デフレーターの％乖離の初期値を1（即ち，１％乖離）として結果をプロットしてみよう。"
   ]
  },
  {
   "cell_type": "code",
   "execution_count": null,
   "metadata": {
    "hidden": true
   },
   "outputs": [],
   "source": [
    "adas_model(p0=1).plot(marker='.')\n",
    "pass"
   ]
  },
  {
   "cell_type": "markdown",
   "metadata": {
    "hidden": true
   },
   "source": [
    "このプロットの横軸には返された`DataFrame`の行インデックスが使われているが，時系列的なプロットと考えれば良いだろう。$p_t$は初期値である１から始まっており，$y_t$の初期値は式[](eq:18-eq-y-u0)で計算した値である。このプロットから次のことが確認できる。\n",
    "* 定常状態である0に両変数は近づいている。即ち，長期均衡が安定的だということである。\n",
    "* 長期均衡に近づく速度は，最初は速いが，そのスピードが時間と共に落ちているのが伺える。\n",
    "\n",
    "下のプロットは，横軸に$y_t$，縦軸に$p_t$を置いた図となる。点はAD曲線とAS曲線の交点を表している。右下がりの直線はAD曲線と等しく，AD曲線に沿ってAS曲線が下方シフトしていることになる。そういう意味では，{numref}`fig:18-adas1`で描かれている状況と同じである。"
   ]
  },
  {
   "cell_type": "code",
   "execution_count": null,
   "metadata": {
    "hidden": true
   },
   "outputs": [],
   "source": [
    "adas_model(p0=1).plot(x='y', y='p', marker='.')\n",
    "pass"
   ]
  },
  {
   "cell_type": "markdown",
   "metadata": {
    "hidden": true
   },
   "source": [
    "また，このプロットから長期均衡$(0,0)$に近づくにつれて，経済の動きが小刻みになっているのも確認できる。$p_t$と$y_t$の変化が小さくなり，動くスピードが遅くなっている。実は，式[](eq:18-eq-p-v0)を使うと，$p_t$が`0`に近づく変化率を簡単に計算することができる。式[](eq:18-eq-p-v0)を次のように書き直そう。\n",
    "\n",
    "$$\n",
    "p_t\\text{の変化率}=\n",
    "\\frac{p_t}{p_{t-1}}-1=h-1=-\\frac{a}{1/c+a}<0\n",
    "$$"
   ]
  },
  {
   "cell_type": "markdown",
   "metadata": {
    "hidden": true
   },
   "source": [
    "負の符号は，時間と共に$p_t$の絶対値が小さくなることを意味している（$p_t$が負の値でも同じ）。また$p_t$の変化率の絶対値は，$a$の増加関数であり，$1/c$の現象関数となっている。この結果の含意を理解するために，$a$はAS曲線の傾きであり，$1/c$はAD曲線の傾きであることを思い出そう。このことから次のことが言える。\n",
    "* AS曲線の傾きが急になると，長期均衡への収束速度が速くなる。\n",
    "* AD曲線の傾きが急になると，長期均衡への収束速度が遅くなる。\n",
    "\n",
    "同様に，式[](eq:18-eq-p-v0)と[](eq:18-eq-y-u0)を使うと次の結果を導出できる。\n",
    "式[](eq:18-eq-p-v0)を式[](eq:18-eq-y-u0)に代入すると\n",
    "\n",
    "$$y_t=-cp_t$$\n",
    "\n",
    "となる。従って，\n",
    "\n",
    "$$\n",
    "y_t\\text{の変化率}=\n",
    "\\frac{y_t}{y_{t-1}}-1=\n",
    "\\frac{-cp_t}{-cp_{t-1}}-1=\n",
    "\\frac{p_t}{p_{t-1}}-1=\n",
    "p_t\\text{の変化率}\n",
    "$$\n",
    "\n",
    "$p_t$と$y_t$の変化率は同じとなることが確認できる。"
   ]
  },
  {
   "cell_type": "markdown",
   "metadata": {
    "hidden": true
   },
   "source": [
    "下のプロットでは，$p_t$の初期値が負の場合を図示している。"
   ]
  },
  {
   "cell_type": "code",
   "execution_count": null,
   "metadata": {
    "hidden": true
   },
   "outputs": [],
   "source": [
    "adas_model(p0=-1).plot(marker='.')\n",
    "pass"
   ]
  },
  {
   "cell_type": "code",
   "execution_count": null,
   "metadata": {
    "hidden": true
   },
   "outputs": [],
   "source": [
    "adas_model(p0=-1).plot(x='y', y='p', marker='.')\n",
    "pass"
   ]
  },
  {
   "cell_type": "markdown",
   "metadata": {
    "heading_collapsed": true,
    "jp-MarkdownHeadingCollapsed": true
   },
   "source": [
    "## インパルス反応関数"
   ]
  },
  {
   "cell_type": "markdown",
   "metadata": {
    "hidden": true
   },
   "source": [
    "インパルス反応関数とは，ある特定のショック（$u_t$もしくは$v_t$）が発生した場合，`y_t`と`p_t`がどのように変化するかを示す時系列のグラフをである。インパルス反応関数により，ショックの波及効果を可視化できる。また，後で考察する確率的シミュレーションの結果を理解する上でも有用な情報となる。"
   ]
  },
  {
   "cell_type": "markdown",
   "metadata": {
    "heading_collapsed": true,
    "hidden": true
   },
   "source": [
    "### コード"
   ]
  },
  {
   "cell_type": "markdown",
   "metadata": {
    "hidden": true
   },
   "source": [
    "均衡式[](eq:18-as_small)と式[](eq:18-ad_small)を再掲する。"
   ]
  },
  {
   "cell_type": "markdown",
   "metadata": {
    "hidden": true
   },
   "source": [
    "$$\n",
    "p_{t}=hp_{t-1}+h\\left(a u_{t}+v_{t}\\right)\n",
    "$$\n",
    "\n",
    "$$\n",
    "y_t = -chp_{t-1} + h(u_t-cv_t)\n",
    "$$"
   ]
  },
  {
   "cell_type": "markdown",
   "metadata": {
    "hidden": true
   },
   "source": [
    "次のコードでは，ショック項である$u_t$と$v_t$は１期間だけ変化すると仮定する。\n",
    "従って，`u_std`と`v_std`は無関係となるため，コードには使っていない。\n",
    "一方，`a`，`c`は上で決めた値を使うこととする。"
   ]
  },
  {
   "cell_type": "markdown",
   "metadata": {
    "hidden": true
   },
   "source": [
    "$$\n",
    "p_{t}=hp_{t-1}+h\\left(a u_{t}+v_{t}\\right)\n",
    "$$\n",
    "\n",
    "$$\n",
    "y_t = -chp_{t-1} + h(u_t-cv_t)\n",
    "$$"
   ]
  },
  {
   "cell_type": "code",
   "execution_count": null,
   "metadata": {
    "hidden": true
   },
   "outputs": [],
   "source": [
    "def one_period_impulse(u=0, v=0, n_after=20, a=ahat, c=chat):\n",
    "    \"\"\"引数\n",
    "        u: AD曲線へのショックの大きさ（デフォルト：0）\n",
    "        v: AS曲線へのショックの大きさ（デフォルト：0）\n",
    "        n_after: ショック発生後0に戻った後の計算回数（デフォルト：20）\n",
    "        a: aの値（デフォルト：ahat）\n",
    "        c: cの値（デフォルト：chat）\n",
    "    戻り値：\n",
    "        y, p, u, vのDataFrame\n",
    "\n",
    "    * 最初の３期間はショックゼロ\"\"\"\n",
    "\n",
    "    # === hの定義 ==========\n",
    "    h = 1 / ( 1+a*c )\n",
    "    \n",
    "    # === 初期値，forループのアップデート用変数 ==========\n",
    "    p = 0       # 最初は定常状態に設定\n",
    "    y = 0       # 最初は定常状態に設定\n",
    "    \n",
    "    # === 結果を格納するリストの作成 ==========\n",
    "    # 最初の３つの要素は定常状態に設定\n",
    "    y_lst = [0]*3\n",
    "    p_lst = [0]*3\n",
    "    u_lst = [0]*3\n",
    "    v_lst = [0]*3\n",
    "\n",
    "    # === ショック発生時 ==========\n",
    "    (p, y) = ( h*p + h*( a*u+v ),     # 引数のuとvが使われる\n",
    "               -c*h*p + h*( u-c*v )   # 引数のuとvが使われる\n",
    "             )\n",
    "        \n",
    "    y_lst.append(y)\n",
    "    p_lst.append(p)\n",
    "    u_lst.append(u)          # 引数のuが使われる\n",
    "    v_lst.append(v)          # 引数のvが使われる\n",
    "        \n",
    "    # === ショック後 ==========\n",
    "    u, v = 0, 0     # ショックを0に戻す\n",
    "\n",
    "    for _ in range(n_after):\n",
    "        (p, y) = ( h*p + h*( a*u+v ),\n",
    "                   -c*h*p + h*( u-c*v )\n",
    "                 )\n",
    "\n",
    "        y_lst.append(y)\n",
    "        p_lst.append(p)\n",
    "        u_lst.append(u)\n",
    "        v_lst.append(v)\n",
    "    \n",
    "    # === 変数の辞書 ==========\n",
    "    dic = {'y':y_lst, 'p':p_lst, 'u':u_lst, 'v':v_lst}\n",
    "    \n",
    "    # === DataFrameを返す ==========\n",
    "    return pd.DataFrame(dic)"
   ]
  },
  {
   "cell_type": "markdown",
   "metadata": {
    "heading_collapsed": true,
    "hidden": true
   },
   "source": [
    "### プロット"
   ]
  },
  {
   "cell_type": "markdown",
   "metadata": {
    "hidden": true
   },
   "source": [
    "#### 総供給ショック"
   ]
  },
  {
   "cell_type": "markdown",
   "metadata": {
    "hidden": true
   },
   "source": [
    "\n",
    "0から数えて3期目に$p_t$の１％乖離を引き起こす供給ショック（$v_t=1$）を考えよう。"
   ]
  },
  {
   "cell_type": "code",
   "execution_count": null,
   "metadata": {
    "hidden": true
   },
   "outputs": [],
   "source": [
    "one_period_impulse(v=1).plot(subplots=True, marker='.')\n",
    "pass"
   ]
  },
  {
   "cell_type": "markdown",
   "metadata": {
    "hidden": true
   },
   "source": [
    "{numref}`fig:18-adas_as_shock`を使って説明しよう。\n",
    "* $t=2$期以前は定常状態である0に経済は位置する。\n",
    "* $t=3$期にAS曲線へのショックが発生し，AS曲線が上方シフトする（①）。経済は点Aにジャンプする。\n",
    "    * $p_t$は上昇し$y_t$は減少する。\n",
    "* $t=4$期では，ショックはゼロになる。しかしAS曲線は元の位置にすぐには戻らない。適応的期待により$p_3$が高かったため$p_4$も高い傾向にあるためである。従って，$p_t$は少ししか減少しない。その結果$y_t$も少ししか縮小しない。\n",
    "* $t=5$期以降，AS曲線が徐々に下方シフトし，経済はAD曲線に沿って0に向かって動いていく（②）。\n",
    "    * $p_t$は減少し$y_t$は増加する。"
   ]
  },
  {
   "cell_type": "markdown",
   "metadata": {
    "hidden": true
   },
   "source": [
    "```{figure} /images/asas_as_shock.jpeg\n",
    "---\n",
    "scale: 35%\n",
    "name: fig:18-adas_as_shock\n",
    "---\n",
    "総供給ショックによるインパルス反応\n",
    "```"
   ]
  },
  {
   "cell_type": "markdown",
   "metadata": {
    "hidden": true
   },
   "source": [
    "#### 総需要ショック"
   ]
  },
  {
   "cell_type": "code",
   "execution_count": null,
   "metadata": {
    "hidden": true
   },
   "outputs": [],
   "source": [
    "one_period_impulse(u=1).plot(subplots=True, marker='.')\n",
    "pass"
   ]
  },
  {
   "cell_type": "markdown",
   "metadata": {
    "hidden": true
   },
   "source": [
    "{numref}`fig:18-adas_ad_shock`を使って説明しよう。\n",
    "* $t=2$期以前は定常状態である0に経済は位置する。\n",
    "* $t=3$期にAD曲線へのショックが発生し，AD曲線が右シフトする（①）。経済は点Aにジャンプする。\n",
    "    * $p_t$と$y_t$はともに上昇する。\n",
    "* $t=4$期ではショックはゼロになり，AD曲線は元の位置に戻る（②）。一方，$p_3$が高かったため，その影響によりAS曲線は上方シフト（③），経済は点Bにジャンプする。$p_t$は減少するが高止まりする一方，$y_t$は0を下回る。\n",
    "* $t=5$期以降，AS曲線が徐々に下方シフトし，経済はAD曲線に沿って0に向かって動いていく（④）。\n",
    "    * $p_t$は減少し$y_t$は増加する。"
   ]
  },
  {
   "cell_type": "markdown",
   "metadata": {
    "hidden": true
   },
   "source": [
    "```{figure} /images/asas_ad_shock.jpeg\n",
    "---\n",
    "scale: 35%\n",
    "name: fig:18-adas_ad_shock\n",
    "---\n",
    "総需要ショックによるインパルス反応\n",
    "```"
   ]
  },
  {
   "cell_type": "markdown",
   "metadata": {
    "heading_collapsed": true,
    "hidden": true
   },
   "source": [
    "#### 総供給・総需要ショックの同時発生"
   ]
  },
  {
   "cell_type": "code",
   "execution_count": null,
   "metadata": {
    "hidden": true
   },
   "outputs": [],
   "source": [
    "one_period_impulse(u=1, v=1).plot(subplots=True, marker='.')\n",
    "pass"
   ]
  },
  {
   "cell_type": "markdown",
   "metadata": {
    "hidden": true
   },
   "source": [
    "{numref}`fig:18-adas_adas_shock`を使って説明しよう。\n",
    "* $t=2$期以前は定常状態である0に経済は位置する。\n",
    "* $t=3$期にAD曲線とAS曲線へのショックが発生し，AD曲線は右シフトし，AS曲線は上方シフトする（①）。経済は点Aにジャンプする。\n",
    "    * $p_t$と$y_t$はともに上昇する。\n",
    "* $t=4$期ではショックはゼロになり，AD曲線は元の位置に戻る（②）。一方，$p_3$が高かったため，適応的期待によりAS曲線は大きくは下落せずオレンジ色の線に下方シフトし，経済は点Bに移る。\n",
    "    * $p_t$は減少するが高止まりする一方，$y_t$は0を下回る。\n",
    "* $t=5$期以降，AS曲線が徐々に下方シフトし，経済はAD曲線に沿って0に向かって動いていく（③）。\n",
    "    * $p_t$は減少し$y_t$は増加する。"
   ]
  },
  {
   "cell_type": "markdown",
   "metadata": {
    "hidden": true
   },
   "source": [
    "```{figure} /images/asas_adas_shock.jpeg\n",
    "---\n",
    "scale: 35%\n",
    "name: fig:18-adas_adas_shock\n",
    "---\n",
    "総需要ショックと総供給ショックの同時発生によるインパルス反応\n",
    "```"
   ]
  },
  {
   "cell_type": "markdown",
   "metadata": {
    "heading_collapsed": true,
    "jp-MarkdownHeadingCollapsed": true
   },
   "source": [
    "## 確率的シミュレーション"
   ]
  },
  {
   "cell_type": "markdown",
   "metadata": {
    "hidden": true
   },
   "source": [
    "インパルス反応関数の分析では，ショックが１期間のみ発生した場合を考え$p_t$と$y_t$の動きを考察した。\n",
    "ADASモデルの特徴を理解する上では非常に有用な分析方法である。\n",
    "一方で，現実経済では大小の総需要・総供給ショックが毎期毎期連続的に発生していると考えることができるとともに，その結果としてデータに景気循環という形で現れていると解釈できる。\n",
    "この節では，そのような状況を再現する確率的シミュレーションをおこなうことが一つの目的である。\n",
    "もう一つの目的は，確率的シミュレーションによって生成された$p_t$と$y_t$のデータが実際の景気循環のデータをどの程度再現できるかを考察することである。データの再現性の程度によって，理論モデルとしてのADASモデルの「精度」を考えてみようということである。\n",
    "\n",
    "ここでは総需要・総供給ショックに関して次の仮定を置く。毎期$u_t$と$v_t$は正規分布に従って発生する。\n",
    "\n",
    "$$\n",
    "u_t\\sim N(0,\\sigma_u^2)\n",
    "\\qquad\\quad\n",
    "v_t\\sim N(0,\\sigma_v^2)\n",
    "$$\n",
    "\n",
    "この仮定は次のことを意味する。\n",
    "* 正規分布により，大小の様々なショックを捉えることができる。また，小さなショックと比べて大きなショックは発生し難い。\n",
    "* ショックの幅は標準偏差である$\\sigma_u$と$\\sigma_v$で捉えることができる。\n",
    "* 平均を0とすることにより，$p_t$と$y_t$の長期的な値も0に設定することができる。"
   ]
  },
  {
   "cell_type": "markdown",
   "metadata": {
    "heading_collapsed": true,
    "hidden": true
   },
   "source": [
    "### コード"
   ]
  },
  {
   "cell_type": "markdown",
   "metadata": {
    "hidden": true
   },
   "source": [
    "$a$，$c$，$\\sigma_u$，$\\sigma_v$には，カリブレーションで得た値を使うこととする。"
   ]
  },
  {
   "cell_type": "code",
   "execution_count": null,
   "metadata": {
    "hidden": true
   },
   "outputs": [],
   "source": [
    "def stochastic_sim(n=100, a=ahat, c=chat, ustd=u_std, vstd=v_std):\n",
    "    \"\"\"\n",
    "    引数：\n",
    "        n: シミュレーションの回数（デフォルト：100）\n",
    "        a: aの値（デフォルト：ahat）\n",
    "        c: cの値（デフォルト：chat）\n",
    "        ustd: 需要ショックの標準偏差（デフォルト：u_std）\n",
    "        vstd: 供給ショックの標準偏差（デフォルト：v_std）\n",
    "    戻り値：\n",
    "        y, p, u, vのDataFrame\"\"\"\n",
    "    \n",
    "    # === hの定義 ==========\n",
    "    h = 1/(1+a*c)\n",
    "    \n",
    "    # === 初期値，forループのアップデート用変数 ==========\n",
    "    p = 0   # 最初は定常状態に設定\n",
    "    y = 0   # 最初は定常状態に設定\n",
    "\n",
    "    # === 結果を格納するリストの作成 ==========\n",
    "    y_lst = []\n",
    "    p_lst = []\n",
    "    u_lst = []\n",
    "    v_lst = []\n",
    "    \n",
    "    # === ランダム変数の「種」==========\n",
    "    rng = np.random.default_rng()\n",
    "\n",
    "    # === ループ計算 ==========\n",
    "    for _ in range(n):\n",
    "        # ADのショック項\n",
    "        u = rng.normal(0, ustd)\n",
    "\n",
    "        # ASのショック項\n",
    "        v = rng.normal(0, vstd)\n",
    "        \n",
    "        (p, y) = ( h*p + h*( a*u+v ),\n",
    "                   -c*h*p + h*( u-c*v )\n",
    "                 )\n",
    "                    \n",
    "        y_lst.append(y)\n",
    "        p_lst.append(p)\n",
    "        u_lst.append(u)\n",
    "        v_lst.append(v)\n",
    "            \n",
    "    # === 変数の辞書 ==========\n",
    "    dic = {'y':y_lst, 'p':p_lst, 'u':u_lst, 'v':v_lst}\n",
    "\n",
    "    # === DataFrameを返す ==========\n",
    "    return pd.DataFrame(dic)"
   ]
  },
  {
   "cell_type": "markdown",
   "metadata": {
    "hidden": true
   },
   "source": [
    "```{caution}\n",
    "統計学では変数$x$が正規分布に従う場合，$x\\sim N(\\mu,\\sigma^2)$と表す。$\\mu$は平均であり，$\\sigma^2$は分散を指す。一方で，上のコードの中の正規分布のランダム変数を生成するコードでは，例えば，`v=rng.normal(0, vstd)`となっており，`0`は平均であり，`vstd`は標準偏差が引数となっている。分散と標準偏差は似て異なる概念なので注意して使い分けするように。\n",
    "```"
   ]
  },
  {
   "cell_type": "markdown",
   "metadata": {
    "heading_collapsed": true,
    "hidden": true
   },
   "source": [
    "### プロット"
   ]
  },
  {
   "cell_type": "markdown",
   "metadata": {
    "hidden": true
   },
   "source": [
    "まずループ計算を100回おこなうシミュレーションの結果をプロットしてみよう。"
   ]
  },
  {
   "cell_type": "code",
   "execution_count": null,
   "metadata": {
    "hidden": true
   },
   "outputs": [],
   "source": [
    "sim = stochastic_sim(n=100)\n",
    "sim.plot(subplots=True)\n",
    "pass"
   ]
  },
  {
   "cell_type": "markdown",
   "metadata": {
    "hidden": true
   },
   "source": [
    "$u_t$と$v_t$が毎期毎期変動しており，その結果として$p_t$と$y_t$が変動していることになる。\n",
    "視覚的に$p_t$は持続性が強いように見えるが，適応的期待の役割が大きいと考えられる。\n",
    "\n",
    "このようなシミュレーションをおこなう上で注意する点がある。\n",
    "ランダム変数を生成させた結果となるため，実行する度に$p_t$，$y_t$，$u_t$，$v_t$の値は異なり，プロットは異なるものとなる。従って，シミュレーションの度に平均や標準偏差は異なる値になり，特に計算回数が少ない場合に問題となる。\n",
    "解決方法は簡単で，単純にループ計算の回数を大きな値にすることである。\n",
    "（例えば，サイコロを$n$回投げて平均を計算するとしよう。$n=10$だと理論上の平均である3.5にはならない場合が多い。しかし，$n=100,000$の場合の平均は何回試行ても3.5に非常に近い値になる。）\n",
    "\n",
    "では，10万回のシミュレーションをプロットしてみよう。"
   ]
  },
  {
   "cell_type": "code",
   "execution_count": null,
   "metadata": {
    "hidden": true
   },
   "outputs": [],
   "source": [
    "sim = stochastic_sim(n=100_000)\n",
    "sim.plot(subplots=True, linewidth=0.1)\n",
    "pass"
   ]
  },
  {
   "cell_type": "markdown",
   "metadata": {
    "hidden": true
   },
   "source": [
    "このプロットから次の点を確認できる。\n",
    "* $u_t$は概ね$(-0.05,0.05)$の間に収まっているが，$v_t$の変動幅はその1/2程である。これは`u_std`と`v_std`の値の反映と言える。\n",
    "* $y_t$も概ね$(-0.05,0.05)$の間に収まっているが，$p_t$の変動幅は$y_t$よりも小さいように見える。\n",
    "* ４つの変数全てにおいて0を中心に左右対称に分布している。\n",
    "\n",
    "このシミュレーション結果を用いて統計的な特徴を計算し，実際のデータの特徴１〜３をどの程度再現できるかを考察しよう。"
   ]
  },
  {
   "cell_type": "markdown",
   "metadata": {
    "heading_collapsed": true,
    "hidden": true
   },
   "source": [
    "### GDPと価格水準の％乖離の標準偏差"
   ]
  },
  {
   "cell_type": "markdown",
   "metadata": {
    "hidden": true
   },
   "source": [
    "**データの値（再掲）**"
   ]
  },
  {
   "cell_type": "code",
   "execution_count": null,
   "metadata": {
    "hidden": true,
    "tags": [
     "hide-input"
    ]
   },
   "outputs": [],
   "source": [
    "df = py4macro.data('jpn-q')\n",
    "for c in ['gdp','deflator']:\n",
    "    df[c+'_cycle'] = np.log(df[c]) - py4macro.trend( np.log(df[c]) )\n",
    "y_std = df.loc[:,'gdp_cycle'].std()\n",
    "p_std = df.loc[:,'deflator_cycle'].std()"
   ]
  },
  {
   "cell_type": "code",
   "execution_count": null,
   "metadata": {
    "hidden": true
   },
   "outputs": [],
   "source": [
    "print(f'GDPのトレンドからの％乖離の標準偏差：{y_std:.5f}')\n",
    "print(f'デフレータのトレンドからの％乖離の標準偏差：{p_std:.5f}')"
   ]
  },
  {
   "cell_type": "code",
   "execution_count": null,
   "metadata": {
    "tags": [
     "remove-cell"
    ]
   },
   "outputs": [],
   "source": [
    "from myst_nb import glue\n",
    "glue(\"y_std_data_glued\", y_std)\n",
    "glue(\"p_std_data_glued\", p_std)"
   ]
  },
  {
   "cell_type": "markdown",
   "metadata": {
    "hidden": true
   },
   "source": [
    "**シミュレーションの結果**"
   ]
  },
  {
   "cell_type": "code",
   "execution_count": null,
   "metadata": {
    "hidden": true
   },
   "outputs": [],
   "source": [
    "for value in ['y','p']:\n",
    "    print(f'{value}の標準偏差:{sim[value].std():.5f}')"
   ]
  },
  {
   "cell_type": "code",
   "execution_count": null,
   "metadata": {
    "tags": [
     "remove-cell"
    ]
   },
   "outputs": [],
   "source": [
    "y_std_sim = sim['y'].std()\n",
    "p_std_sim = sim['p'].std()\n",
    "glue(\"y_std_sim_glued\", y_std_sim)\n",
    "glue(\"p_std_sim_glued\", p_std_sim)"
   ]
  },
  {
   "cell_type": "markdown",
   "metadata": {
    "hidden": true
   },
   "source": [
    "* GDPの標準偏差はデータと近い値になっている。\n",
    "* 価格水準の標準偏差は大きすぎる結果となている。"
   ]
  },
  {
   "cell_type": "markdown",
   "metadata": {
    "heading_collapsed": true,
    "hidden": true
   },
   "source": [
    "### 自己相関係数"
   ]
  },
  {
   "cell_type": "markdown",
   "metadata": {
    "hidden": true
   },
   "source": [
    "**データの値（再掲）**"
   ]
  },
  {
   "cell_type": "code",
   "execution_count": null,
   "metadata": {
    "hidden": true,
    "tags": [
     "hide-input"
    ]
   },
   "outputs": [],
   "source": [
    "y_autocorr = df.loc[:,'gdp_cycle'].autocorr()\n",
    "p_autocorr = df.loc[:,'deflator_cycle'].autocorr()"
   ]
  },
  {
   "cell_type": "code",
   "execution_count": null,
   "metadata": {
    "hidden": true
   },
   "outputs": [],
   "source": [
    "print(f'GDPのトレンドからの％乖離の自己相関係数：{y_autocorr:.3f}')\n",
    "print(f'デフレータのトレンドからの％乖離の自己相関係数：{p_autocorr:.3f}')"
   ]
  },
  {
   "cell_type": "code",
   "execution_count": null,
   "metadata": {
    "tags": [
     "remove-cell"
    ]
   },
   "outputs": [],
   "source": [
    "glue(\"y_autocorr_data_glued\", y_autocorr)\n",
    "glue(\"p_autocorr_data_glued\", p_autocorr)"
   ]
  },
  {
   "cell_type": "markdown",
   "metadata": {
    "hidden": true
   },
   "source": [
    "**シミュレーションの結果**"
   ]
  },
  {
   "cell_type": "code",
   "execution_count": null,
   "metadata": {
    "hidden": true
   },
   "outputs": [],
   "source": [
    "for value in ['y','p']:\n",
    "    print(f'{value}:{sim[value].autocorr():.3f}')"
   ]
  },
  {
   "cell_type": "code",
   "execution_count": null,
   "metadata": {
    "tags": [
     "remove-cell"
    ]
   },
   "outputs": [],
   "source": [
    "y_autocorr_sim = sim['y'].autocorr()\n",
    "p_autocorr_sim = sim['p'].autocorr()\n",
    "glue(\"y_autocorr_sim_glued\", y_autocorr_sim)\n",
    "glue(\"p_autocorr_sim_glued\", p_autocorr_sim)"
   ]
  },
  {
   "cell_type": "markdown",
   "metadata": {
    "hidden": true
   },
   "source": [
    "* `y`の自己相関係数は低すぎる。持続性が捉えられていない。\n",
    "* `p`の自己相関係数はデータと近い値になっており，`p`の持続性が再現されている。"
   ]
  },
  {
   "cell_type": "markdown",
   "metadata": {
    "heading_collapsed": true,
    "hidden": true
   },
   "source": [
    "### `p`と`y`の％乖離の相関係数：同時期"
   ]
  },
  {
   "cell_type": "markdown",
   "metadata": {
    "hidden": true
   },
   "source": [
    "**データの値（再掲）**"
   ]
  },
  {
   "cell_type": "code",
   "execution_count": null,
   "metadata": {
    "hidden": true,
    "tags": [
     "hide-input"
    ]
   },
   "outputs": [],
   "source": [
    "yp_corr = df.loc[:,['gdp_cycle', 'deflator_cycle']].corr().iloc[0,1]"
   ]
  },
  {
   "cell_type": "code",
   "execution_count": null,
   "metadata": {
    "hidden": true
   },
   "outputs": [],
   "source": [
    "print(f'GDPとデフレータの％乖離の相関係数：{yp_corr:.3f}')"
   ]
  },
  {
   "cell_type": "code",
   "execution_count": null,
   "metadata": {
    "tags": [
     "remove-cell"
    ]
   },
   "outputs": [],
   "source": [
    "glue(\"yp_corr_data_glued\", yp_corr)"
   ]
  },
  {
   "cell_type": "markdown",
   "metadata": {
    "hidden": true
   },
   "source": [
    "**シミュレーションの結果**"
   ]
  },
  {
   "cell_type": "code",
   "execution_count": null,
   "metadata": {
    "hidden": true,
    "tags": [
     "remove-cell"
    ]
   },
   "outputs": [],
   "source": [
    "yp_corr_sim = sim[['y', 'p']].corr().iloc[0,1]\n",
    "glue(\"yp_corr_sim_glued\", yp_corr_sim)"
   ]
  },
  {
   "cell_type": "code",
   "execution_count": null,
   "metadata": {},
   "outputs": [],
   "source": [
    "sim[['y', 'p']].corr().iloc[0,1]"
   ]
  },
  {
   "cell_type": "markdown",
   "metadata": {
    "hidden": true
   },
   "source": [
    "* 符号は合っており，数値も的外れな値ではない。"
   ]
  },
  {
   "cell_type": "markdown",
   "metadata": {
    "heading_collapsed": true,
    "hidden": true
   },
   "source": [
    "### 結果のまとめと拡張"
   ]
  },
  {
   "cell_type": "markdown",
   "metadata": {
    "hidden": true
   },
   "source": [
    "データと`100,000`回のシミュレーション結果"
   ]
  },
  {
   "cell_type": "markdown",
   "metadata": {
    "hidden": true
   },
   "source": [
    "|             | GDP標準偏差 | デフレータの標準偏差 | GDP自己相関係数 | デフレータの自己相関係数| GDPとデフレータの相関係数|\n",
    "|-------------|-----------|--------------|-------------- |----------------|---------|\n",
    "|データ        |{glue:text}`y_std_data_glued:.5f`|{glue:text}`p_std_data_glued:.5f`|{glue:text}`y_autocorr_data_glued:.5f`|{glue:text}`p_autocorr_data_glued:.5f`   | {glue:text}`yp_corr_data_glued:.5f`  |\n",
    "|WNショック    |{glue:text}`y_std_sim_glued:.5f` |{glue:text}`p_std_sim_glued:.5f` |{glue:text}`y_autocorr_sim_glued:.5f`|{glue:text}`p_autocorr_sim_glued:.5f`|  {glue:text}`yp_corr_sim_glued:.5f` |\n",
    "|AR(1)ショック | 0.01252     | 0.01707        |  0.649        |  0.931        |  -0.292   |"
   ]
  },
  {
   "cell_type": "markdown",
   "metadata": {
    "hidden": true
   },
   "source": [
    "WNショックのWNはホワイト・ノイズを表しており，上のシミュレーションの結果を示している。データの数値と比べてみよう。\n",
    "* GDP標準偏差の自己相関係数は概ね近い値（◯）\n",
    "* デフレータの標準偏差の値は高すぎる（X）\n",
    "* GDPの自己相関係数は低すぎる（X）\n",
    "* デフレータの自己相関係数は近い値（◯）\n",
    "* 同期のGDPと価格の相関係数は的外れではない（△）\n",
    "\n",
    "捉えることができていないデータの特徴もある一方，全く的外れな結果ではない。\n",
    "単純なAD-ASモデルにしてはまずまずの結果と言えるのではないだろうか。"
   ]
  },
  {
   "cell_type": "markdown",
   "metadata": {
    "hidden": true
   },
   "source": [
    "次に，モデルの簡単な拡張に触れる。ホワイト・ノイズは前期のショックと今期のショックは何の関係もない独立を意味する。総需要ショックと総供給ショックは，そうなのだろうか。例えば，政府支出を考えてみよう。政府は，増税を実施すると，１四半期後に減税するような行動は取らない。少なくともある期間，政策を一貫して実施することになる。投資はどうだろうか。１四半期毎に企業は投資をコロコロと変えるような行動はしない。消費者の嗜好の変化も需要ショックとして現れるが，ファッションで今季は赤が流行り，１四半期後には青が流行るということではない。すなわち，ショックはホワイト・ノイズではなく，ある程度の**持続性**が存在すると想定できる。総供給ショックも同じように考えることができる。\n",
    "\n",
    "この特徴を捉えるために，総需要ショックと総供給ショックに次の自己回帰モデルを想定することができる。\n",
    "\n",
    "$$\n",
    "v_t=\\rho_v v_{t-1}+e^v_t,\\qquad e^v_t\\sim\\text{WN}(0,\\sigma_{ev}^2)\n",
    "$$ (eq:18-v_ar1)\n",
    "\n",
    "$$\n",
    "u_t=\\rho_u u_{t-1}+e^u_t,\\qquad e^u_t\\sim\\text{WN}(0,\\sigma_{eu}^2)\n",
    "$$ (eq:18-u_ar1)\n",
    "\n",
    "新たなパラメーターとして$\\rho_u$，$\\rho_v$，$\\sigma_{eu}^2$，$\\sigma_{ev}^2$の４つがあるが，これらもデータを使って次のように推定することが可能である。\n",
    "1. 式[](eq:18-vt)の$\\hat{v}$を使い，式[](eq:18-v_ar1)を推定式として$\\hat{\\rho}_v$を推定する。またその残差の標準偏差を$\\sigma_{ev}$とする。\n",
    "1. 式[](eq:18-ut)の$\\hat{u}$を使い，式[](eq:18-u_ar1)を推定式として$\\hat{\\rho}_u$を推定する。またその残差の標準偏差を$\\sigma_{eu}$とする。\n",
    "\n",
    "このように計算すると次の値となる。\n",
    "* $\\hat{\\rho}_u=0.6884968624035948$\n",
    "* $\\hat{\\rho}_v=0.31284420357447135$\n",
    "* $\\hat{\\sigma}_{eu}=0.010415370807183315$\n",
    "* $\\hat{\\sigma}_{ev}=0.006036417181315$"
   ]
  },
  {
   "cell_type": "markdown",
   "metadata": {
    "hidden": true
   },
   "source": [
    "これらの値を使い`100,000`回シミュレーションした結果が上の表の「AR(1)ショック」に示されている。次のように結果をまとめることができる。\n",
    "* GDP標準偏差の自己相関係数は少し低い（△）\n",
    "* デフレータの標準偏差の値は高すぎる（X）\n",
    "* GDPの自己相関係数は概ね近い値（◯）\n",
    "* デフレータの自己相関係数は若干高い値（△）\n",
    "* 同期のGDPと価格の相関係数は概ね近い値（◯）"
   ]
  },
  {
   "cell_type": "markdown",
   "metadata": {
    "hidden": true
   },
   "source": [
    "ホワイト・ノイズの場合と比べると，AR(1)のケースが若干ではあるが再現性が向上したようにも見える。例えば，GDPの自己相関係数は格段にデータの値に近づいた。一方で，デフレーターの標準偏差の再現性はホワイト・ノイズの場合よりも悪くなっている。AR(1)のショックを導入しても再現性の著しい向上とは言えないだろう。"
   ]
  },
  {
   "cell_type": "markdown",
   "metadata": {},
   "source": [
    "````{note}\n",
    "ここではカリブレーションに最小二乗法を使いパラメータを推定したが、次の論文では状態空間モデルと呼ばれる手法を用いて推定をおこない、\n",
    "確率的シミュレーションを含む様々な分析を行っている。論文で使った`Python`コードも公開しているので、参考にしてはどうだろう。\n",
    "```\n",
    "「需要ショックと供給ショックについて：AD-ASモデルの状態空間分析」、『国民経済雑誌』第227巻第5号(2023年9月) 頁1〜14\n",
    "```\n",
    "````"
   ]
  },
  {
   "cell_type": "markdown",
   "metadata": {
    "heading_collapsed": true,
    "hidden": true
   },
   "source": [
    "### ADASモデルの評価"
   ]
  },
  {
   "cell_type": "markdown",
   "metadata": {
    "hidden": true
   },
   "source": [
    "ADASモデルは，経済を理解する上では非常に有用だが，データの一部の特徴の説明力に欠ける。\n",
    "どう評価すれば良いだろうか。\n",
    "\n",
    "経済学研究で用いる推論方法を考えてみよう。\n",
    "帰納的推論（inductive inference）とは，真のモデルが存在するという前提の下でデータを使い推定するモデルの蓋然性を検討する手法である。\n",
    "典型的な例として，計量経済分析が当てはまる。\n",
    "推定されたモデルは，帰納的推論の**アウトプット**ということになる。"
   ]
  },
  {
   "cell_type": "markdown",
   "metadata": {
    "hidden": true
   },
   "source": [
    "```{figure} /images/inductive.png\n",
    "---\n",
    "scale: 35%\n",
    "name: fig:18-inductive\n",
    "---\n",
    "帰納的推論\n",
    "```"
   ]
  },
  {
   "cell_type": "markdown",
   "metadata": {
    "hidden": true
   },
   "source": [
    "一方，演繹的推論（deductive inference）では，モデルは**インプット**になる。\n",
    "モデルを「装置」として使い，理論の含意に関して推論しようということである。\n",
    "例えば，ADASモデルで比較静学をおこない，外生変数の定性的な効果を検討する場合が当てはまる。\n",
    "政府支出が増加すると実質利子率は上昇するとい結果は，ADASモデルを使った演繹的推論の結果である。\n",
    "しかし，経済モデルは複雑な経済を抽象化した考え方に過ぎず，ADASモデルを含めてどのような経済モデルであっても複雑な経済の全ての側面を捉えることはできない「間違った」モデルである。\n",
    "また，この章の目的はADASモデルが真のモデルかどうかを判断しようということではない。\n",
    "従って，データの特徴の一部を説明できないのは，単にADASモデルの限界を表していると解釈できる。"
   ]
  },
  {
   "cell_type": "markdown",
   "metadata": {
    "hidden": true
   },
   "source": [
    "```{figure} /images/deductive.png\n",
    "---\n",
    "scale: 35%\n",
    "name: fig:18-deductive\n",
    "---\n",
    "演繹的推論\n",
    "```"
   ]
  },
  {
   "cell_type": "markdown",
   "metadata": {
    "hidden": true
   },
   "source": [
    "では，ADASモデルのどこに有用性があるのだろうか。\n",
    "カリブレーションを説明する際，手作りの体重計の例を使ったがもう一度考えみよう。\n",
    "カリブレーション後，60kg以上の体重は誤差が大きく使いものにならないが，60kg未満であれば誤差は許容範囲だとしてみよう。\n",
    "この場合，「普通の小学生やそれより幼い子どもの体重を測る」ことが目的であれば，手作り体重計の成功と考えることができる。\n",
    "要するに，完璧な「装置」でなくとも，目的に沿ったものであれば十分だということだ。\n",
    "「完璧でなくても良い」という考え方は，地図の有用性を考えれば直ぐに理解できるのではないだろうか。\n",
    "地図は，実際の距離を縮尺にしており，多くの詳細が省かれている。\n",
    "三宮のレストランを探す場合，世界地図は使いものにならない。\n",
    "しかし，石油を運ぶタンカーの運航や宇宙衛星を落下させる際には重要な役割を果たす（政治的な目的にも有用だという主張もある）。\n",
    "経済モデルは地図のようなものであり，AD-ASモデルは不完全だが，ある目的のためであれば有用になり得るということだ。\n",
    "\n",
    "このような演繹的推論に基づき，再現性の精度には多少欠けることも念頭に，次のセクションではADASモデルを「装置」として使い**定量的**な問を検討する。"
   ]
  },
  {
   "cell_type": "markdown",
   "metadata": {},
   "source": [
    "## 定量的な問い"
   ]
  },
  {
   "cell_type": "markdown",
   "metadata": {},
   "source": [
    "> GDPと価格水準の長期トレンドからの乖離（％）の変動は，何パーセントが需要ショックにより引き起こされ，何パーセントが供給ショックに起因するのか？\n",
    "\n",
    "この問を検討するには，定性的な比較静学では不可能であり，定量的なアプローチが要求される。\n",
    "ここでは分散分解分析をおこなう。"
   ]
  },
  {
   "cell_type": "markdown",
   "metadata": {},
   "source": [
    "### $p_t$に対する影響：分散分解分析"
   ]
  },
  {
   "cell_type": "markdown",
   "metadata": {},
   "source": [
    "均衡式[](eq:18-eq-p)を再掲する。\n",
    "\n",
    "$$p_{t}=hp_{t-1} + e_{pt},\\qquad\\qquad e_{pt}=ahu_{t}+hv_{t}$$\n",
    "\n",
    "$p_{t}$の分散$\\text{Var}(p_{t})$を次のように書き換えよう。\n",
    "（分散と共分散の性質については[付録Ａ](sec:18-appendix_A)を参照）\n",
    "\n",
    "$$\n",
    "\\begin{align}\n",
    "\\text{Var}(p_{t})\n",
    "&=\\text{Var}(hp_{t-1} + e_{pt})\\qquad\\cdots\\cdots [1]\\\\\n",
    "&=\\text{Var}(hp_{t-1})+\\text{Var}(e_{pt})+2\\text{Cov}(hp_{t-1},e_{pt})\\qquad\\cdots [2]\\\\\n",
    "&=\\text{Var}(hp_{t-1})+\\text{Var}(e_{pt})\\qquad\\cdots [3]\\\\\n",
    "&=h^2\\text{Var}(p_{t-1})+\\text{Var}(e_{pt})\\qquad\\cdots [4]\\\\\n",
    "&=h^2\\text{Var}(p_{t})+\\text{Var}(e_{pt})\\qquad\\cdots [5]\\\\\n",
    "(1-h^2)\\text{Var}(p_{t})\n",
    "&=\\text{Var}(e_{pt})\\qquad\\cdots\\cdots\\cdots [6]\\\\\n",
    "\\text{Var}(p_{t})\n",
    "&=\\frac{\\text{Var}(e_{pt})}{1-h^2}\\qquad\\cdots\\cdots\\cdots [7]\n",
    "\\end{align}\n",
    "$$ (eq:18-eq-varp)"
   ]
  },
  {
   "cell_type": "markdown",
   "metadata": {},
   "source": [
    "* [1]：$p_t$に式[](eq:18-eq-ppp)を代入。\n",
    "* [2]：右辺を展開。\n",
    "* [3]：$p_{t-1}$と$e_{pt}$の間で時間がズレているため$\\text{Cov}(hp_{t-1},e_{pt})=0$。\n",
    "* [4]：定数$h$を$\\text{Var}()$の外に出す。\n",
    "* [5]：$t$が十分に大きい場合（$t\\rightarrow\\infty$）は$\\text{Var}(p_{t})=\\text{Var}(p_{t-1})$。\n",
    "* [6]：$h^2\\text{Var}(p_{t})$を左辺い移動。\n",
    "* [7]：両辺を$(1-h^2)$で除する。"
   ]
  },
  {
   "cell_type": "markdown",
   "metadata": {},
   "source": [
    "式[](eq:18-eq-varp)は，$p_t$の分散は$e_{pt}$の分散に依存していることを示している。\n",
    "$e_{pt}$は需要ショックと供給ショックの両方から構成されているため，それを分解する必要がある。\n",
    "$e_{pt}$は次の式で与えられる。\n",
    "\n",
    "$$\n",
    "e_{pt}=ahu_{t}+hv_{t}\n",
    "$$ (eq:18-eq-ept)\n",
    "\n",
    "$e_{pt}$の分散を次のように計算する。\n",
    "\n",
    "$$\n",
    "\\begin{align}\n",
    "\\text{Var}(e_{pt})\n",
    "&=\\text{Var}(ahu_{t}+hv_{t})\\qquad\\cdots\\cdots [1]\\\\\n",
    "&=\\text{Var}(ahu_{t})+\\text{Var}(hv_{t})\\qquad\\cdots [2]\\\\\n",
    "&=(ah)^2\\text{Var}(u_{t})+h^2\\text{Var}(v_{t})\\qquad\\cdots [3]\n",
    "\\end{align}\n",
    "$$ (eq:18-eq-varep)\n",
    "\n",
    "* [1]：$e_{pt}$に式[](eq:18-eq-ept)を代入。\n",
    "* [2]：右辺を展開。\n",
    "* [3]：定数$ah$と$h$を$\\text{Var}()$の外に出す。"
   ]
  },
  {
   "cell_type": "markdown",
   "metadata": {},
   "source": [
    "最後に式[](eq:18-eq-varep)を式[](eq:18-eq-varp)に代入し，次のように整理する。\n",
    "\n",
    "$$\n",
    "\\begin{align}\n",
    "\\text{Var}(p_{t})\n",
    "&=\\frac{(ah)^2\\text{Var}(u_{t})+h^2\\text{Var}(v_{t})}{1-h^2}\\\\\n",
    "&=\\frac{(ah)^2}{1-h^2}\\text{Var}(u_{t})\n",
    "+\\frac{h^2}{1-h^2}\\text{Var}(v_{t})\\\\\n",
    "&=\\left(\\text{需要ショックに起因する変動}\\right)+\\left(\\text{供給ショックに起因する変動}\\right)\n",
    "\\end{align}\n",
    "$$ (eq:18-eq-varp2)"
   ]
  },
  {
   "cell_type": "markdown",
   "metadata": {},
   "source": [
    "＜この式の解釈＞\n",
    "* 左辺は$p_t$の総変動であり，それを需要ショック（$u_t$）と供給ショック（$v_t$）に分解したのが右辺となる。\n",
    "* 右辺の解釈\n",
    "    * まず総需要・総供給ショックが全くない場合を考えてみよう。$u_t=v_t=0$となるため$\\text{Var}(u_{t})=\\text{Var}(v_{t})=0$となり，右辺は`0`であり$p_t$は変動しない。\n",
    "    * 次に，$u_t=0$に固定し，供給ショック$v_{t}$だけを変動させてみよう。需要曲線は動かず，供給曲線だけが上下にシフトする場合である。$p_t$の変動は$v_t$の変動にのみ依存し，$\\text{Var}(p_{t})=\\dfrac{h^2}{1-h^2}\\text{Var}(v_{t})$となる。同様に，$v_t=0$に固定し，需要ショック$u_{t}$だけを変動させてみよう。供給曲線を一定として需要曲線だけが左右にシフトする。$p_t$の変動は$u_t$の変動にのみ依存し，$\\text{Var}(p_{t})=\\dfrac{(ah)^2}{1-h^2}\\text{Var}(u_{t})$となる。\n",
    "    * 最後に，$u_t$と$v_t$を同時に変動させると，$p_t$の総変動は式[](eq:18-eq-varp2)の右辺の２つの項から構成されることになる。第１項が需要ショックに起因する$p_t$の変動であり，第２項が供給ショックにより発生した$p_t$の変動となる。そういう意味で，$p_t$の総変動は需要ショックと供給ショックに分解されたと解釈できる。\n",
    "    * $p_t$の総変動の大きさ（水準）を決定する上で，$h$ が重要な役割を果たしている。$h$はは約`0.8`であり$p_t$の高い持続性を意味する。持続性が高い場合，一旦総供給曲線が定常状態の位置から離れると元の位置に戻るには時間が掛かることになる。即ち，定常状態から離れた状態が長くなる。そのような状況下で，更にショックが発生すると，定常状態から更に乖離する結果につながることになり，変動が増幅されることになる。その効果が$\\dfrac{h^2}{1-h^2}$で捉えられている。"
   ]
  },
  {
   "cell_type": "markdown",
   "metadata": {},
   "source": [
    "需要ショックと供給ショックに起因する$p_t$の変動の**割合**を計算するために，式[](eq:18-eq-varp2)の両辺を$\\text{Var}(p_{t})$で割ると次式となる。\n",
    "\n",
    "\\begin{align}\n",
    "1&=\n",
    "\\frac{(ah)^2}{1-h^2}\\cdot\\frac{\\text{Var}(u_{t})}{\\text{Var}(p_{t})}\n",
    "+\\frac{h^2}{1-h^2}\\cdot\\frac{\\text{Var}(v_{t})}{\\text{Var}(p_{t})}\n",
    "\\end{align}\n",
    "\n",
    "この結果を使い次のように定義する。"
   ]
  },
  {
   "cell_type": "markdown",
   "metadata": {},
   "source": [
    "$$\n",
    "\\begin{align*}\n",
    "\\left[\n",
    "\\begin{split}\n",
    "&p_t\\text{の変動に対する}\\\\\n",
    "&u_t\\text{(需要ショック)}\\\\\n",
    "&\\text{の寄与度}\n",
    "\\end{split}\n",
    "\\right]\n",
    "&=\\frac{(ah)^2}{1-h^2}\\cdot\\frac{\\text{Var}(u_{t})}{\\text{Var}(p_{t})}\n",
    "=\\frac{a^2\\text{Var}(u_{t})}{a^2\\text{Var}(u_{t})+\\text{Var}(v_{t})}\n",
    "\\tag{u-p}\n",
    "\\end{align*}\n",
    "$$"
   ]
  },
  {
   "cell_type": "markdown",
   "metadata": {},
   "source": [
    "$$\n",
    "\\begin{align*}\n",
    "\\left[\n",
    "\\begin{split}\n",
    "&p_t\\text{の変動に対する}\\\\\n",
    "&v_t\\text{(供給ショック)}\\\\\n",
    "&\\text{の寄与度}\n",
    "\\end{split}\n",
    "\\right]\n",
    "&=\\frac{h^2}{1-h^2}\\cdot\\frac{\\text{Var}(v_{t})}{\\text{Var}(p_{t})}\n",
    "=\\frac{\\text{Var}(v_{t})}{a^2\\text{Var}(u_{t})+\\text{Var}(v_{t})}\n",
    "\\tag{v-p}\n",
    "\\end{align*}\n",
    "$$"
   ]
  },
  {
   "cell_type": "markdown",
   "metadata": {},
   "source": [
    "それぞれの式の最後の等号には式[](eq:18-eq-varp2)を$\\text{Var}(p_{t})$に代入して整理している。\n",
    "式[](eq:18-eq-varp2)の$\\dfrac{h^2}{1-h^2}$は$p_t$の持続性の影響を捉えていると説明したが，その影響は式(u-p)と(v-p)を計算する上でキャンセルされており，ショックの相対的な寄与度はもっぱら供給曲線の傾きである$a$に影響されることが分かる。"
   ]
  },
  {
   "cell_type": "markdown",
   "metadata": {},
   "source": [
    "### $y_t$に対する影響：分散分解分析"
   ]
  },
  {
   "cell_type": "markdown",
   "metadata": {},
   "source": [
    "同様の手法を使い$y_t$の総変動の分散分解分析をおこなう。均衡式[](eq:18-eq-y)を再掲する。\n",
    "\n",
    "$$\n",
    "y_t = -chp_{t-1} + e_{yt},\n",
    "\\qquad\n",
    "e_{yt}=h(u_t-cv_t)\n",
    "$$ (eq:18-eq-yyy)\n",
    "\n",
    "$y_{t}$の分散$\\text{Var}(y_{t})$を次のように書き換えよう。\n",
    "\n",
    "$$\n",
    "\\begin{align}\n",
    "\\text{Var}(y_{t})\n",
    "&=\\text{Var}(-chp_{t-1} + e_{yt})\\qquad\\cdots\\cdots [1]\\\\\n",
    "&=\\text{Var}(-chp_{t-1})+\\text{Var}(e_{yt})+2\\text{Cov}(-chp_{t-1},e_{yt})\\qquad\\cdots [2]\\\\\n",
    "&=\\text{Var}(-chp_{t-1})+\\text{Var}(e_{yt})\\qquad\\cdots [3]\\\\\n",
    "&=(-ch)^2\\text{Var}(p_{t-1})+\\text{Var}(e_{yt})\\qquad\\cdots [4]\\\\\n",
    "&=(ch)^2\\text{Var}(p_{t})+\\text{Var}(e_{yt})\\qquad\\cdots [5]\\\\\n",
    "\\end{align}\n",
    "$$ (eq:18-eq-vary)"
   ]
  },
  {
   "cell_type": "markdown",
   "metadata": {},
   "source": [
    "* [1]：$y_t$に式[](eq:18-eq-yyy)を代入。\n",
    "* [2]：右辺を展開。\n",
    "* [3]：$p_{t-1}$と$e_{yt}$の間で時間がズレているため$\\text{Cov}(-chp_{t-1},e_{yt})=0$。\n",
    "* [4]：定数$(-ch)$を$\\text{Var}()$の外に出す。\n",
    "* [5]：$t$が十分に大きい場合（$t\\rightarrow\\infty$）は$\\text{Var}(p_{t})=\\text{Var}(p_{t-1})$。"
   ]
  },
  {
   "cell_type": "markdown",
   "metadata": {},
   "source": [
    "式[](eq:18-eq-vary)は，$p_t$の分散と$e_{yt}$の分散に依存していることを示している。\n",
    "$p_t$の分散は式[](eq:18-eq-varp2)で与えられているが，$e_{yt}$は需要ショックと供給ショックの両方から構成されているため，それを分解する必要がある。\n",
    "$e_{pt}$を分解した同じ方法で$e_{yt}$を分解しよう。"
   ]
  },
  {
   "cell_type": "markdown",
   "metadata": {},
   "source": [
    "$e_{yt}$は次の式で与えられる。\n",
    "\n",
    "$$\n",
    "e_{yt}=hu_t-chv_t\n",
    "$$ (eq:18-eq-eyt)\n",
    "\n",
    "$e_{yt}$の分散を次のように計算する。\n",
    "\n",
    "$$\n",
    "\\begin{align}\n",
    "\\text{Var}(e_{yt})\n",
    "&=\\text{Var}(hu_t-chv_t)\\qquad\\cdots\\cdots [1]\\\\\n",
    "&=\\text{Var}(hu_t)+\\text{Var}(-chv_t)\\qquad\\cdots [2]\\\\\n",
    "&=h^2\\text{Var}(u_{t})+(-ch)^2\\text{Var}(v_{t})\\qquad\\cdots [3]\\\\\n",
    "&=h^2\\text{Var}(u_{t})+(ch)^2\\text{Var}(v_{t})\\qquad\\cdots [4]\n",
    "\\end{align}\n",
    "$$ (eq:18-eq-varyp)"
   ]
  },
  {
   "cell_type": "markdown",
   "metadata": {},
   "source": [
    "* [1]：$e_{yt}$に式[](eq:18-eq-eyt)を代入。\n",
    "* [2]：右辺を展開。\n",
    "* [3]：定数$h$と$(-ch)$を$\\text{Var}()$の外に出す。\n",
    "* [4]：$(-ch)^2=(ch)^2$"
   ]
  },
  {
   "cell_type": "markdown",
   "metadata": {},
   "source": [
    "最後に，式[](eq:18-eq-varyp)と式[](eq:18-eq-varp2)を式[](eq:18-eq-vary)に代入すると次式を導出できる（詳細は[付録Ｂ](sec:18-appendix_B)を参照）。\n",
    "\n",
    "$$\n",
    "\\begin{align}\n",
    "\\text{Var}(y_{t})\n",
    "&=\\frac{h^2}{1-h^2}2ach\\text{Var}(u_{t})\n",
    "+\\frac{h^2}{1-h^2}c^2\\text{Var}(v_{t})\\\\\n",
    "&=\\left(\\text{需要ショックに起因する変動}\\right)+\\left(\\text{供給ショックに起因する変動}\\right)\n",
    "\\end{align}\n",
    "$$ (eq:18-eq-vary2)"
   ]
  },
  {
   "cell_type": "markdown",
   "metadata": {},
   "source": [
    "＜この式の解釈＞\n",
    "* 左辺は$y_t$の総変動であり，それを需要ショック（$u_t$）と供給ショック（$v_t$）に分解したのが右辺となる。\n",
    "* $p_t$の総変動の大きさ（水準）を決定する上で，$h$ が重要な役割を果たしている。$h$はは約`0.8`であり$p_t$の高い持続性を意味する。持続性が高い場合，一旦総供給曲線が定常状態の位置から離れると元の位置に戻るには時間が掛かることになる。即ち，定常状態から離れた状態が長くなる。そのような状況下で，更にショックが発生すると，定常状態から更に乖離する結果につながることになり，変動が増幅されることになる。その効果が$\\dfrac{h^2}{1-h^2}$で捉えられている。"
   ]
  },
  {
   "cell_type": "markdown",
   "metadata": {},
   "source": [
    "需要ショックと供給ショックに起因する$y_t$の変動の**割合**を計算するために，式[](eq:18-eq-vary2)の両辺を$\\text{Var}(y_{t})$で割ると次式となる。\n",
    "\n",
    "\\begin{align}\n",
    "1\n",
    "&=\\frac{h^2}{1-h^2}2ach\\frac{\\text{Var}(u_{t})}{\\text{Var}(y_{t})}\n",
    "+\\frac{h^2}{1-h^2}c^2\\frac{\\text{Var}(v_{t})}{\\text{Var}(y_{t})}\\\\\n",
    "\\end{align}"
   ]
  },
  {
   "cell_type": "markdown",
   "metadata": {},
   "source": [
    "この結果を使い次のように定義する。\n",
    "\n",
    "$$\n",
    "\\begin{align*}\n",
    "\\left[\n",
    "\\begin{split}\n",
    "&y_t\\text{の変動に対する}\\\\\n",
    "&u_t\\text{(需要ショック)}\\\\\n",
    "&\\text{の寄与度}\n",
    "\\end{split}\n",
    "\\right]\n",
    "&=\\frac{h^2}{1-h^2}2ach\\frac{\\text{Var}(u_{t})}{\\text{Var}(y_{t})}\n",
    "=\\frac{2a\\text{Var}(u_{t})}{2a\\text{Var}(u_{t})+c(1+ac)\\text{Var}(v_{t})}\n",
    "\\tag{u-y}\n",
    "\\end{align*}\n",
    "$$"
   ]
  },
  {
   "cell_type": "markdown",
   "metadata": {},
   "source": [
    "$$\n",
    "\\begin{align*}\n",
    "\\left[\n",
    "\\begin{split}\n",
    "&p_t\\text{の変動に対する}\\\\\n",
    "&v_t\\text{(供給ショック)}\\\\\n",
    "&\\text{の寄与度}\n",
    "\\end{split}\n",
    "\\right]\n",
    "&=\\frac{h^2}{1-h^2}c^2\\frac{\\text{Var}(v_{t})}{\\text{Var}(y_{t})}\n",
    "=\\frac{c(1+ac)\\text{Var}(v_{t})}{2a\\text{Var}(u_{t})+c(1+ac)\\text{Var}(v_{t})}\\\\\n",
    "\\tag{v-y}\n",
    "\\end{align*}\n",
    "$$"
   ]
  },
  {
   "cell_type": "markdown",
   "metadata": {},
   "source": [
    "それぞれの式の最後の等号には式[](eq:18-eq-vary2)を$\\text{Var}(y_{t})$に代入して整理している（詳細は[付録Ｃ](sec:18-appendix_c)を参照）。式[](eq:18-eq-vary2)の$\\dfrac{h^2}{1-h^2}$は$p_t$の持続性の影響を捉えていると説明したが，その影響は式(u-y)と(v-y)を計算する上でキャンセルされている。"
   ]
  },
  {
   "cell_type": "markdown",
   "metadata": {
    "heading_collapsed": true,
    "jp-MarkdownHeadingCollapsed": true
   },
   "source": [
    "### 産出量水準の％乖離"
   ]
  },
  {
   "cell_type": "markdown",
   "metadata": {
    "jp-MarkdownHeadingCollapsed": true
   },
   "source": [
    "#### 計算結果"
   ]
  },
  {
   "cell_type": "markdown",
   "metadata": {
    "hidden": true
   },
   "source": [
    "変数の推定値を使い，式(u-y)と(v-y)を計算してみよう。"
   ]
  },
  {
   "cell_type": "code",
   "execution_count": null,
   "metadata": {},
   "outputs": [],
   "source": [
    "# 式(u-y)の分子\n",
    "numerator_y = 2 * ahat * u_std**2\n",
    "\n",
    "# 式(u-y)の分母\n",
    "denominator_y = 2 * ahat * u_std**2 + chat * (1+ahat*chat) * v_std**2\n",
    "\n",
    "ad_shock_on_y = numerator_y / denominator_y\n",
    "print(f'GDPの％乖離の{100*ad_shock_on_y:.1f}％は総需要ショックに起因する。'  )"
   ]
  },
  {
   "cell_type": "code",
   "execution_count": null,
   "metadata": {
    "hidden": true
   },
   "outputs": [],
   "source": [
    "print(f'GDPの％乖離の{100*(1-ad_shock_on_y):.1f}％は総供給ショックに起因する。'  )"
   ]
  },
  {
   "cell_type": "markdown",
   "metadata": {
    "heading_collapsed": true,
    "jp-MarkdownHeadingCollapsed": true
   },
   "source": [
    "#### 解釈"
   ]
  },
  {
   "cell_type": "markdown",
   "metadata": {
    "hidden": true
   },
   "source": [
    "GDPの％乖離に対しては総需要ショックが相対的に大きな影響を及ぼしていることがわかる。\n",
    "3つ理由がある。\n",
    "まず第一に，需要ショック（$u_t$）の変動は供給ショック（$v_t$）よりも大きいことである。"
   ]
  },
  {
   "cell_type": "code",
   "execution_count": null,
   "metadata": {},
   "outputs": [],
   "source": [
    "u_std**2 / v_std**2"
   ]
  },
  {
   "cell_type": "markdown",
   "metadata": {},
   "source": [
    "$\\text{Var}(u_{t})$は$\\text{Var}(v_{t})$の約`3.9`倍となっている。"
   ]
  },
  {
   "cell_type": "markdown",
   "metadata": {
    "hidden": true
   },
   "source": [
    "第二に，総需要曲線の傾きが大きいためである。\n",
    "総需要曲線の傾きは$1/c$で与えられ，$c$が大きくなるとより緩やかな傾きとなる。\n",
    "実際，式(u-y)は $c$ の減少関数であり，式(u-p)は $c$ の増加関数である。\n",
    "この関係を理解するために，{numref}`fig:18-y-uv`では，AD曲線の傾きが急な場合と緩やかな場合の２つのケースを示している。\n",
    "* $1/c$ が小さいケース（$c$が大きい）：\n",
    "    * 総需要曲線の傾きは緩やかになる。\n",
    "    * 総供給曲線が動くと$y_t$は大きく動くが，$p_t$は大きく動かない。\n",
    "* $1/c$ が大きいケース（$c$が小さい）：\n",
    "    * 総需要曲線の傾きは急になる。\n",
    "    * 総供給曲線が動くと$y_t$の動きは小さくなる一方，$p_t$は大きく動くことになる。\n",
    "\n",
    "$1/c$ の値は`1`よりも大きく，$1/c$ が大きいケースが当てはまる。この場合，$y_t$に対する総供給ショックのインパクトは小さな値となり，相対的に総需要ショックの寄与度が高くなっていると考えられる。また，需要ショックは総需要曲線を左右にシフトするが，総需要曲線の傾きが大きい場合，そのインパクトはより大きくなる。"
   ]
  },
  {
   "cell_type": "markdown",
   "metadata": {
    "hidden": true
   },
   "source": [
    "```{figure} /images/adas-y-uv.jpeg\n",
    "---\n",
    "scale: 35%\n",
    "name: fig:18-y-uv\n",
    "---\n",
    "総需要曲線の傾きが大きい場合，GDPの％乖離の変動における総供給ショックの影響は小さくなる。\n",
    "```"
   ]
  },
  {
   "cell_type": "markdown",
   "metadata": {},
   "source": [
    "第三に，総供給曲線の傾きが緩やかなためである。総供給曲線の傾きは $a$ で与えられ，低い $a$ は総供給曲線をより緩やかにする\n",
    "式(u-y)は $a$ の増加関数であり，式(u-p)は $c$ の減少関数であることは簡単に確認できる。\n",
    "{numref}`fig:18-p-uv`では，AS曲線の傾きが急な場合と緩やかな場合の２つのケースを示している。\n",
    "* $a$ が小さい場合，総供給曲線の傾きは緩やかになる。その場合，需要曲線が動くと$y_t$は大きく動くが，$p_t$は大きく動かない。\n",
    "* $a$ が大きい場合，総供給曲線の傾きは急になる。その場合，需要曲線が動くと$y_t$の動きは小さくなる一方，$p_t$は大きく動くことになる。\n",
    "\n",
    "$a$ の値は`1`よりも小さく，$a$ が小さいケースが当てはまる。この場合，$p_t$に対する総需要ショックのインパクトは小さな値となり，相対的に総供給ショックの寄与度が高くなっていると考えられる。"
   ]
  },
  {
   "cell_type": "markdown",
   "metadata": {
    "hidden": true
   },
   "source": [
    "```{figure} /images/adas-p-uv.jpeg\n",
    "---\n",
    "scale: 35%\n",
    "name: fig:18-p-uv\n",
    "---\n",
    "物価水準の％乖離の変動において総供給ショックの影響が大きい理由\n",
    "```"
   ]
  },
  {
   "cell_type": "markdown",
   "metadata": {
    "heading_collapsed": true,
    "jp-MarkdownHeadingCollapsed": true
   },
   "source": [
    "### 価格水準の％乖離"
   ]
  },
  {
   "cell_type": "markdown",
   "metadata": {
    "heading_collapsed": true,
    "hidden": true,
    "jp-MarkdownHeadingCollapsed": true
   },
   "source": [
    "#### 計算結果"
   ]
  },
  {
   "cell_type": "markdown",
   "metadata": {
    "hidden": true
   },
   "source": [
    "変数の推定値を使い，式(u-p)と(v-p)を計算してみよう。"
   ]
  },
  {
   "cell_type": "code",
   "execution_count": null,
   "metadata": {
    "hidden": true
   },
   "outputs": [],
   "source": [
    "# 式(u-p)の分子\n",
    "numerator_p = ahat**2 * u_std**2\n",
    "# 式(*p)の分母\n",
    "denominator_p = ahat**2 * u_std**2 + v_std**2\n",
    "\n",
    "ad_shock_on_p = numerator_p / denominator_p\n",
    "print(f'価格水準の％乖離の{100*ad_shock_on_p:.1f}％は需要ショックに起因する。'  )"
   ]
  },
  {
   "cell_type": "code",
   "execution_count": null,
   "metadata": {
    "hidden": true
   },
   "outputs": [],
   "source": [
    "print(f'価格水準の％乖離の{100*(1-ad_shock_on_p):.1f}％は供給ショックに起因する。'  )"
   ]
  },
  {
   "cell_type": "markdown",
   "metadata": {
    "heading_collapsed": true,
    "hidden": true,
    "jp-MarkdownHeadingCollapsed": true
   },
   "source": [
    "#### 解釈"
   ]
  },
  {
   "cell_type": "markdown",
   "metadata": {
    "hidden": true
   },
   "source": [
    "価格水準の％乖離に対しては総需要ショックと総供給ショックが概ね同程度の影響を及ぼしていることがわかる。\n",
    "総需要ショックの変動は総供給ショックの`4`倍近くあることを思い出そう。\n",
    "この大きな違いを減衰させているのが，総需要曲線の比較的に大きな傾きであり，総供給曲線の比較的に小さな傾きである。"
   ]
  },
  {
   "cell_type": "markdown",
   "metadata": {
    "heading_collapsed": true,
    "jp-MarkdownHeadingCollapsed": true
   },
   "source": [
    "## まとめ"
   ]
  },
  {
   "cell_type": "markdown",
   "metadata": {
    "hidden": true
   },
   "source": [
    "GDPと価格水準のトレンドからの％乖離のプロットを再掲する。"
   ]
  },
  {
   "cell_type": "code",
   "execution_count": null,
   "metadata": {
    "hidden": true
   },
   "outputs": [],
   "source": [
    "ax_ = df.plot(y=['gdp_cycle','deflator_cycle'])\n",
    "ax_.axhline(0, color='red')\n",
    "pass"
   ]
  },
  {
   "cell_type": "markdown",
   "metadata": {
    "hidden": true
   },
   "source": [
    "このプロットを眺めることにより，総需要ショックと総供給ショックがどれだけ景気循環に影響を及ぼしているかが分かるだろうか。もちろん否である。ADASモデルを「装置」として用いて，「スイッチ」を調整することにより，結果が数字として現れてくることになる。\n",
    "「調整済み装置」があってこその分析結果であり，体重計がないと体重を測れないことと同じである。\n",
    "\n",
    "体重計の例をもう一度考えてみよう。\n",
    "今度は，AさんとBさんが作る体重計である。\n",
    "Aさんの体重計は単純な装置だが，一方，Bさんの技術は高く，設計図は洗練され使う材料もより質が高いとしてみよう。\n",
    "その差は精度の違いとして現れることになるだろう。\n",
    "マクロ経済モデルも同じである。\n",
    "ADASモデルは，研究や政策議論で使われるモデルと比べると単純なモデルであり，それが故に定量的な問に対しての答えも精度が低いものとならざるを得ない。\n",
    "大学院で学ぶDSGEモデルや構造VARモデルなどはより洗練された「装置」であり，ADASモデルよりも精度が高い結果を返すことになるだろう。"
   ]
  },
  {
   "cell_type": "markdown",
   "metadata": {
    "heading_collapsed": true,
    "jp-MarkdownHeadingCollapsed": true
   },
   "source": [
    "(sec:18-appendix_A)=\n",
    "## 付録Ａ：分散と共分散の性質"
   ]
  },
  {
   "cell_type": "markdown",
   "metadata": {
    "hidden": true
   },
   "source": [
    "$X$，$Y$，$Z$，$W$をランダム変数，$a$，$b$，$c$，$d$を定数とする。\n",
    "分散に関して次の結果が成立する。\n",
    "\n",
    "$$\n",
    "\\begin{align*}\n",
    "\\text{Var}(k)&=0\\\\\n",
    "\\text{Var}(X+k)&=\\text{Var}(X)\\\\\n",
    "\\text{Var}(aX)&=a^2\\text{Var}(X)\\\\\n",
    "\\text{Var}(aX\\pm bY)&=a^2\\text{Var}(X)+b^2\\text{Var}(Y)\\pm 2ab\\text{Cov}(X,Y) \\\\\n",
    "\\end{align*}\n",
    "$$"
   ]
  },
  {
   "cell_type": "markdown",
   "metadata": {
    "hidden": true
   },
   "source": [
    "共分散に関して次の結果が成立する。\n",
    "\n",
    "$$\n",
    "\\begin{align*}\n",
    "\\text{Cov}(X,a)&=0\\\\\n",
    "\\text{Cov}(X,X)&=\\text{Var}(X)\\\\\n",
    "\\text{Cov}(aX,bY)&=ab\\text{Cov}(Y,X)\\\\\n",
    "\\text{Cov}(X+a,Y+b)&=\\text{Cov}(Y,X)\\\\\n",
    "\\text{Cov}(aX+bY,cZ+dW)&=ac\\text{Cov}(X,Z)+ad\\text{Cov}(X,W)+bc\\text{Cov}(Y,Z)+bd\\text{Cov}(Y,W)\n",
    "\\end{align*}\n",
    "$$"
   ]
  },
  {
   "cell_type": "markdown",
   "metadata": {
    "heading_collapsed": true,
    "jp-MarkdownHeadingCollapsed": true
   },
   "source": [
    "(sec:18-appendix_B)=\n",
    "## 付録Ｂ：式[](eq:18-eq-vary2)の導出"
   ]
  },
  {
   "cell_type": "markdown",
   "metadata": {},
   "source": [
    "式[](eq:18-eq-varp2)と式[](eq:18-eq-varyp)を式[](eq:18-eq-vary)に代入し整理する。"
   ]
  },
  {
   "cell_type": "markdown",
   "metadata": {},
   "source": [
    "\\begin{align}\n",
    "\\text{Var}(y_{t})\n",
    "&=(ch)^2\\text{Var}(p_{t})+\\text{Var}(e_{yt})\\\\\n",
    "&=(ch)^2\\left[\n",
    "    \\frac{(ah)^2}{1-h^2}\\text{Var}(u_{t})\n",
    "    +\\frac{h^2}{1-h^2}\\text{Var}(v_{t})\n",
    "\\right]\n",
    "+h^2\\text{Var}(u_{t})+(ch)^2\\text{Var}(v_{t})\\\\\n",
    "&=\\left[(ch)^2\n",
    "    \\frac{(ah)^2}{1-h^2}+h^2\n",
    "\\right]\\text{Var}(u_{t})\n",
    "+\\left[\n",
    "    (ch)^2\\frac{h^2}{1-h^2}+(ch)^2\n",
    "\\right]\\text{Var}(v_{t})\\\\\n",
    "&=\\frac{h^2}{1-h^2}\\left[\n",
    "    (ach)^2+1-h^2\n",
    "\\right]\\text{Var}(u_{t})\n",
    "+\\frac{(ch)^2}{1-h^2}\\left[h^2+1-h^2\\right]\\text{Var}(v_{t})\\\\\n",
    "&=\\frac{h^2}{1-h^2}\\left[\n",
    "    1+(ach)^2-h^2\n",
    "\\right]\\text{Var}(u_{t})\n",
    "+\\frac{(ch)^2}{1-h^2}\\text{Var}(v_{t})\n",
    "\\end{align}"
   ]
  },
  {
   "cell_type": "markdown",
   "metadata": {},
   "source": [
    "ここで\n",
    "\n",
    "\\begin{align}\n",
    "1+(ach)^2-h^2\n",
    "&=1+h^2[(ac)^2-1]=1+\\frac{(ac)^2-1}{(1+ac)^2}\\\\\n",
    "&=1+\\frac{(ac+1)(ac-1)}{(1+ac)^2}=1+\\frac{ac-1}{1+ac}\\\\\n",
    "&=\\frac{1+ac+ac-1}{1+ac}=\\frac{2ac}{1+ac}\\\\\n",
    "&=2ach\n",
    "\\end{align}"
   ]
  },
  {
   "cell_type": "markdown",
   "metadata": {},
   "source": [
    "この式を上の式に代入すると式[](eq:18-eq-vary2)となる。"
   ]
  },
  {
   "cell_type": "markdown",
   "metadata": {
    "heading_collapsed": true,
    "jp-MarkdownHeadingCollapsed": true
   },
   "source": [
    "(sec:18-appendix_c)=\n",
    "## 付録Ｂ：式(u-y)と(v-y)の導出"
   ]
  },
  {
   "cell_type": "markdown",
   "metadata": {},
   "source": [
    "式(u-y)に式[](eq:18-eq-vary2)を代入して整理する。\n",
    "\n",
    "\\begin{align}\n",
    "\\left[\n",
    "\\begin{split}\n",
    "&y_t\\text{の変動に対する}\\\\\n",
    "&u_t\\text{(需要ショック)}\\\\\n",
    "&\\text{の寄与度}\n",
    "\\end{split}\n",
    "\\right]\n",
    "&=\\frac{h^2}{1-h^2}2ach\\frac{\\text{Var}(u_{t})}{\\text{Var}(y_{t})}\\\\\n",
    "&=\\dfrac{h^2}{1-h^2}2ach\\frac{\\text{Var}(u_{t})}{\n",
    "\\left(\n",
    "\\dfrac{h^2}{1-h^2}2ach\\text{Var}(u_{t})\n",
    "+\\dfrac{h^2}{1-h^2}c^2\\text{Var}(v_{t})\n",
    "\\right)\n",
    "}\\\\\n",
    "&=\\frac{2ach\\text{Var}(u_{t})}{\n",
    "2ach\\text{Var}(u_{t})\n",
    "+c^2\\text{Var}(v_{t})\n",
    "}\n",
    "=\\frac{2a\\text{Var}(u_{t})}{\n",
    "2a\\text{Var}(u_{t})\n",
    "+(c/h)\\text{Var}(v_{t})\n",
    "}\\\\\n",
    "&=\\frac{2a\\text{Var}(u_{t})}{2a\\text{Var}(u_{t})+c(1+ac)\\text{Var}(v_{t})}\\\\\n",
    "\\tag{u-y}\n",
    "\\end{align}\n"
   ]
  },
  {
   "cell_type": "markdown",
   "metadata": {},
   "source": [
    "同様に式(v-y)に式[](eq:18-eq-vary2)を代入して整理する。\n",
    "\n",
    "\\begin{align}\n",
    "\\left[\n",
    "\\begin{split}\n",
    "&p_t\\text{の変動に対する}\\\\\n",
    "&v_t\\text{(供給ショック)}\\\\\n",
    "&\\text{の寄与度}\n",
    "\\end{split}\n",
    "\\right]\n",
    "&=\\frac{h^2}{1-h^2}c^2\\frac{\\text{Var}(v_{t})}{\\text{Var}(y_{t})}\\\\\n",
    "&=\\frac{h^2}{1-h^2}c^2\\frac{\\text{Var}(v_{t})}{\n",
    "\\left(\n",
    "\\dfrac{h^2}{1-h^2}2ach\\text{Var}(u_{t})\n",
    "+\\dfrac{h^2}{1-h^2}c^2\\text{Var}(v_{t})\n",
    "\\right)\n",
    "}\\\\\n",
    "&=\\frac{c^2\\text{Var}(v_{t})}{\n",
    "2ach\\text{Var}(u_{t})\n",
    "+c^2\\text{Var}(v_{t})\n",
    "}\n",
    "=\\frac{(c/h)\\text{Var}(v_{t})}{\n",
    "2a\\text{Var}(u_{t})\n",
    "+(c/h)\\text{Var}(v_{t})\n",
    "}\\\\\n",
    "&=\\frac{c(1+ac)\\text{Var}(v_{t})}{2a\\text{Var}(u_{t})+c(1+ac)\\text{Var}(v_{t})}\\\\\n",
    "\\end{align}"
   ]
  }
 ],
 "metadata": {
  "celltoolbar": "Tags",
  "kernel_info": {
   "name": "py4etrics"
  },
  "kernelspec": {
   "display_name": "Python 3 (ipykernel)",
   "language": "python",
   "name": "python3"
  },
  "language_info": {
   "codemirror_mode": {
    "name": "ipython",
    "version": 3
   },
   "file_extension": ".py",
   "mimetype": "text/x-python",
   "name": "python",
   "nbconvert_exporter": "python",
   "pygments_lexer": "ipython3",
   "version": "3.11.9"
  },
  "nteract": {
   "version": "0.15.0"
  },
  "vscode": {
   "interpreter": {
    "hash": "7638eee3e7b130da5496a984d6d52bfbc9bf510a87a483ea7c2368031c9591e0"
   }
  }
 },
 "nbformat": 4,
 "nbformat_minor": 4
}
