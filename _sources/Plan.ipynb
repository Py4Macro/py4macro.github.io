{
 "cells": [
  {
   "cell_type": "markdown",
   "id": "superb-seeker",
   "metadata": {},
   "source": [
    "# 今後の計画"
   ]
  },
  {
   "cell_type": "markdown",
   "id": "wired-shaft",
   "metadata": {},
   "source": [
    "第３部の「マクロ経済学 - 短期分析」は未完成だが，今年度後期の「マクロ経済学の潮流」で教科書として使う予定なので（もう一つの教科書は[「Pythonで学ぶ入門計量経済学」](https://py4etrics.github.io)）。\n",
    "* GDPと構成要素（done）\n",
    "* 法則・曲線・増加率（done）\n",
    "* IS-MP-PCモデル（done）\n",
    "* ランダム変数と全要素生産性（done）\n",
    "* ◯◯◯◯◯◯◯◯◯◯\n",
    "* 実物的景気循環モデル\n",
    "* ◯◯◯◯◯◯◯◯◯◯\n",
    "* ニューケインジアン・モデル"
   ]
  }
 ],
 "metadata": {
  "kernelspec": {
   "display_name": "Python 3",
   "language": "python",
   "name": "python3"
  },
  "language_info": {
   "codemirror_mode": {
    "name": "ipython",
    "version": 3
   },
   "file_extension": ".py",
   "mimetype": "text/x-python",
   "name": "python",
   "nbconvert_exporter": "python",
   "pygments_lexer": "ipython3",
   "version": "3.8.5"
  }
 },
 "nbformat": 4,
 "nbformat_minor": 5
}
