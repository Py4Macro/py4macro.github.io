{
 "cells": [
  {
   "cell_type": "markdown",
   "id": "363cca7a",
   "metadata": {},
   "source": [
    "# Pythonで学ぶ入門計量経済学\n",
    "\n",
    "[Pythonで学ぶ入門計量経済学](https://py4etrics.github.io/)\n",
    "\n",
    "[第１部：Pythonの学習](https://py4etrics.github.io/part_1.html)\n",
    "\n",
    "[　　Pythonの基礎](https://py4etrics.github.io/1_Python_Basics.html)\n",
    "\n",
    "[　　NumPy](https://py4etrics.github.io/2_NumPy.html)\n",
    "\n",
    "[　　Pandas](https://py4etrics.github.io/3_Pandas.html)\n",
    "\n",
    "[　　Matplotlib](https://py4etrics.github.io/4_Matplotlib.html)\n",
    "\n",
    "[　　SciPy.stats](https://py4etrics.github.io/5_SciPy_stats.html)\n",
    "\n",
    "[　　Tipsと注意点](https://py4etrics.github.io/6_things_to_note.html)\n",
    "\n",
    "[第２部：Pythonを使った計量経済分析](https://py4etrics.github.io/part_2.html)\n",
    "\n",
    "[　　統計学の簡単な復習](https://py4etrics.github.io/7_Review_of_Statistics.html)\n",
    "\n",
    "[　　計量経済学用語](https://py4etrics.github.io/list_of_terms.html)\n",
    "\n",
    "[　　単回帰分析](https://py4etrics.github.io/8_Simple_Regression.html)\n",
    "\n",
    "[　　重回帰分析](https://py4etrics.github.io/9_Multiple_Regression.html)\n",
    "\n",
    "[　　残差診断](https://py4etrics.github.io/10_Residuals.html)\n",
    "\n",
    "[　　推論](https://py4etrics.github.io/11_Inference.html)\n",
    "\n",
    "[　　大標本特性](https://py4etrics.github.io/12_Asymptotics.html)\n",
    "\n",
    "[　　質的変数と回帰分析](https://py4etrics.github.io/13_Dummies.html)\n",
    "\n",
    "[　　不均一分散](https://py4etrics.github.io/14_Hetero.html)\n",
    "\n",
    "[　　プーリング・データとパネル・データ](https://py4etrics.github.io/15_Pooling.html)\n",
    "\n",
    "[　　linearmodesl](https://py4etrics.github.io/16_linearmodels.html)\n",
    "\n",
    "[　　パネル・データ分析](https://py4etrics.github.io/17_Panel.html)\n",
    "\n",
    "[　　GM仮定４が満たされない場合](https://py4etrics.github.io/18_Zero_Conditional_Mean.html)\n",
    "\n",
    "[　　操作変数法と２段階OLS](https://py4etrics.github.io/19_IV2SLS.html)\n",
    "\n",
    "[　　離散選択モデル](https://py4etrics.github.io/20_LogitProbit.html)\n",
    "\n",
    "[　　制限従属変数モデル](https://py4etrics.github.io/21_TruncregTobitHeckit.html)\n",
    "\n",
    "[第３部：番外編](https://py4etrics.github.io/part_3.html)\n",
    "\n",
    "[　　ツールのインストールと説明](https://py4etrics.github.io/0_Preparations.html)\n",
    "\n",
    "[　　Gapminder](https://py4etrics.github.io/Gapminder.html)\n",
    "\n",
    "[　　記述統計とグラフ](https://py4etrics.github.io/Descriptive_stats_vs_Graphs.html)\n",
    "\n",
    "[　　成績分析](https://py4etrics.github.io/Grade.html)\n",
    "\n",
    "[　　Data](https://py4etrics.github.io/data_source.html)"
   ]
  }
 ],
 "metadata": {
  "jupytext": {
   "text_representation": {
    "extension": ".md",
    "format_name": "myst"
   }
  },
  "kernelspec": {
   "display_name": "Python 3",
   "language": "python",
   "name": "python3"
  },
  "language_info": {
   "codemirror_mode": {
    "name": "ipython",
    "version": 3
   },
   "file_extension": ".py",
   "mimetype": "text/x-python",
   "name": "python",
   "nbconvert_exporter": "python",
   "pygments_lexer": "ipython3",
   "version": "3.8.10"
  },
  "source_map": [
   10
  ]
 },
 "nbformat": 4,
 "nbformat_minor": 5
}