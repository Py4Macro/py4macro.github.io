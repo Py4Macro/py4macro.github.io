{
 "cells": [
  {
   "cell_type": "markdown",
   "id": "53cb2428",
   "metadata": {},
   "source": [
    "# Pythonで学ぶ中級マクロ経済学\n",
    "\n",
    "```{epigraph}\n",
    "[春山 鉄源](https://t-haruyama.github.io)\n",
    "\n",
    "神戸大学経済学研究科\n",
    "```"
   ]
  },
  {
   "cell_type": "code",
   "execution_count": 1,
   "id": "0b4c2a78",
   "metadata": {},
   "outputs": [
    {
     "name": "stdout",
     "output_type": "stream",
     "text": [
      "Version: 2021年05月05日\n"
     ]
    }
   ],
   "source": [
    "import datetime\n",
    "dt = datetime.datetime.now()\n",
    "print('Version:',dt.strftime('%Y年%m月%d日'))"
   ]
  },
  {
   "cell_type": "markdown",
   "id": "d5467cfc",
   "metadata": {},
   "source": [
    "<!---\n",
    "%H:%M:%S\n",
    "dt = datetime.datetime.now()\n",
    "dt = datetime.datetime.today()\n",
    "-->\n",
    "\n",
    "\n",
    "近日公開予定\n",
    "\n",
    "[「Pythonで学ぶ入門計量経済学」はここをクリック](https://py4etrics.github.io)\n",
    "\n",
    "\n",
    "\n",
    "\n",
    "```{toctree}\n",
    ":hidden:\n",
    ":titlesonly:\n",
    ":caption: １. Pythonの学習\n",
    "\n",
    "1_Python_Basics\n",
    "2_NumPy\n",
    "3_Pandas\n",
    "4_Matplotlib\n",
    "```\n",
    "\n",
    "\n",
    "```{toctree}\n",
    ":hidden:\n",
    ":titlesonly:\n",
    ":caption: ３. 参考\n",
    "\n",
    "Pandas_plot\n",
    "```"
   ]
  }
 ],
 "metadata": {
  "jupytext": {
   "text_representation": {
    "extension": ".md",
    "format_name": "myst"
   }
  },
  "kernelspec": {
   "display_name": "Python 3",
   "language": "python",
   "name": "python3"
  },
  "language_info": {
   "codemirror_mode": {
    "name": "ipython",
    "version": 3
   },
   "file_extension": ".py",
   "mimetype": "text/x-python",
   "name": "python",
   "nbconvert_exporter": "python",
   "pygments_lexer": "ipython3",
   "version": "3.8.9"
  },
  "source_map": [
   10,
   20,
   24
  ]
 },
 "nbformat": 4,
 "nbformat_minor": 5
}