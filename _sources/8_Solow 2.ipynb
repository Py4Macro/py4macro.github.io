{
 "cells": [
  {
   "cell_type": "markdown",
   "metadata": {},
   "source": [
    "(chap:9-solow)=\n",
    "# ソロー・モデル"
   ]
  },
  {
   "cell_type": "markdown",
   "metadata": {},
   "source": [
    "<div name=\"html-admonition\" style=\"font-size: 0.8em\">\n",
    "<input type=\"button\" onclick=\"location.href='https://translate.google.com/translate?hl=&sl=ja&tl=en&u='+window.location;\" value=\"Google translation\" style=\"color:#ffffff;background-color:#008080; height:25px\" onmouseover=\"this.style.background='#99ccff'\" onmouseout=\"this.style.background='#008080'\"/> in English or the language of your choice.\n",
    "</div><br>"
   ]
  },
  {
   "cell_type": "code",
   "execution_count": 1,
   "metadata": {},
   "outputs": [],
   "source": [
    "import japanize_matplotlib\n",
    "import matplotlib.pyplot as plt\n",
    "import numpy as np\n",
    "import pandas as pd\n",
    "import py4macro\n",
    "import statsmodels.formula.api as sm"
   ]
  },
  {
   "cell_type": "markdown",
   "metadata": {
    "heading_collapsed": true
   },
   "source": [
    "## はじめに"
   ]
  },
  {
   "cell_type": "markdown",
   "metadata": {
    "hidden": true
   },
   "source": [
    "前章では差分方程式について説明し，簡単な経済モデルを使いコードの書き方を説明した。本章では，差分方程式の応用となるソロー・モデルを考える。ソロー・モデルは1987年にノーベル経済学賞を受賞した[Robert M. Solow](https://www.nobelprize.org/prizes/economic-sciences/1987/press-release/)によって考案された経済成長モデルであり，マクロ経済学の代表的な理論モデルの一つである。今でも盛んに研究が続く経済成長のバックボーン的な存在である。モデルの説明の後，`Python`を使い動学的な特徴を明らかにし，線形近似を使った安定性の確認もおこなう。また理論的な予測がデータと整合性があるかについてもPenn World Tableを使って検討する。本章の内容は次章で議論する所得収斂の分析の基礎となる。"
   ]
  },
  {
   "cell_type": "markdown",
   "metadata": {
    "heading_collapsed": true
   },
   "source": [
    "## モデルの説明"
   ]
  },
  {
   "cell_type": "markdown",
   "metadata": {
    "hidden": true
   },
   "source": [
    "ここではモデルの具体的な説明については教科書に譲るとして，簡単にモデルを紹介し，重要な式をまとめることにする。\n",
    "\n",
    "＜記号＞\n",
    "* 産出量：$Y_t$\n",
    "* 消費量：$C_t$\n",
    "* 投資量：$I_t$\n",
    "* 資本ストック：$K_t$\n",
    "* 労働：$L_t$\n",
    "* 貯蓄率（一定な外生変数）：$0<s<1$\n",
    "* 労働人口増加率（一定な外生変数）：$n\\equiv\\dfrac{L_{t+1}}{L_t}-1\\geq 0$\n",
    "* 資本減耗率（一定な外生変数）：$0<d<1$\n",
    "* 生産性（一定な外生変数）：$A>0$\n",
    "\n",
    "＜一人当たりの変数＞\n",
    "* 一人当たり産出量：$y_t\\equiv\\dfrac{Y_t}{L_t}$\n",
    "* 一人当たり消費量：$c_t\\equiv\\dfrac{C_t}{L_t}$\n",
    "* 一人当たり投資量：$i_t\\equiv\\dfrac{I_t}{L_t}$\n",
    "* 一人当たり資本ストック：$k_t\\equiv\\dfrac{K_t}{L_t}$"
   ]
  },
  {
   "cell_type": "markdown",
   "metadata": {
    "hidden": true
   },
   "source": [
    "全ての市場は完全競争である閉鎖経済を考えよう。この経済には一種類の財（ニューメレール財）しかなく，消費・貯蓄・投資に使われる。財は次の生産関数に従って生産される。\n",
    "\n",
    "$$\n",
    "Y_t=AK_t^aL_t^{1-a},\\quad 0<a<1\n",
    "$$ (eq:8-production_level)\n",
    "\n",
    "両辺を$L_t$で割ると一人当たりの変数で表した生産関数となる。\n",
    "\n",
    "$$\n",
    "y_t=Ak_t^a\n",
    "$$ (eq:8-production)\n",
    "\n",
    "消費者は所得の割合$s$を貯蓄するが，このモデルの中で消費者の役割はこれだけであり，残り全ては生産側で決定される。貯蓄は$sY_t$であり投資$I_t$と等しくなる。\n",
    "\n",
    "$$\n",
    "sY_t=I_t\n",
    "$$ (eq:8-syi)"
   ]
  },
  {
   "cell_type": "markdown",
   "metadata": {
    "hidden": true
   },
   "source": [
    "$t$期の投資により$t+1$期の資本ストックは増加するが，毎期ごと資本は$d$の率で減耗する。即ち，投資と資本ストックには次の関係が成立する。\n",
    "\n",
    "$$\n",
    "K_{t+1}-K_{t}=I_t-dK_t\n",
    "$$ (eq:8-kk)\n",
    "\n",
    "ここで左辺は資本ストックの変化であり，右辺は純投資である。$I_t$は粗投資，$dK_t$は減耗した資本である。式[](eq:8-syi)，[](eq:8-kk)，[](eq:8-production)を使うと資本の蓄積方程式が導出できる。\n",
    "\n",
    "$$\n",
    "K_{t+1} = sAK_t^a + (1-d)K_t\n",
    "$$ (eq:8-kkdot)\n",
    "\n",
    "両辺を$L_t$で割ることで一人当たりの変数で表すことができる。右辺は単純に一人当たりの変数に直し，左辺は次のように書き換えることに注意しよう。\n",
    "\n",
    "$$\n",
    "\\frac{K_{t+1}}{L_t}=\\frac{K_{t+1}}{L_{t+1}}\\frac{L_{t+1}}{L_t}\n",
    "=k_{t+1}(1+n)\n",
    "$$\n",
    "\n",
    "従って，$t+1$期の一人当たりの資本ストックを決定する式は次式で与えられる。\n",
    "\n",
    "$$\n",
    "k_{t+1} = \\frac{sAk_t^a + (1-d)k_t}{1+n}\n",
    "$$ (eq:8-kdot)\n",
    "\n",
    "この式は非線形の差分方程式だが，前章でも述べたように，考え方は線形差分方程式と同じであり，数値計算のための`Python`コードに関しては大きな違いはない。また式[](eq:8-kdot)を資本ストックの成長率を示す式に書き換えることもできる。\n",
    "\n",
    "$$\n",
    "\\frac{k_{t+1}}{k_t}-1 = \\frac{sAk_t^{-(1-a)}-(n+d)}{1+n}\n",
    "$$ (eq:8-kgrowth)\n",
    "\n",
    "この式から資本が蓄積され$k_t$が増加すると，その成長率は減少していくことが分かる。"
   ]
  },
  {
   "cell_type": "markdown",
   "metadata": {
    "hidden": true
   },
   "source": [
    "産出量の動学は生産関数[](eq:8-production)を使うことによって$y_t$の動きを確認できる。例えば，産出量の成長率を考えてみよう。式[](eq:8-production)を使うと\n",
    "\n",
    "$$\n",
    "\\frac{y_{t+1}}{y_t}-1\n",
    "=\\left(\\frac{k_{t+1}}{k_t}\\right)^{\\alpha}-1\n",
    "$$ (eq:8-ygrowth)\n",
    "\n",
    "となり，一人当たり資本ストックの成長率と同じような動きをすることが分かると思う。"
   ]
  },
  {
   "cell_type": "markdown",
   "metadata": {
    "hidden": true
   },
   "source": [
    "次に定常状態を考えよう。定常状態では資本ストックは一定なり，資本の成長率である式[](eq:8-kgrowth)の右辺はゼロになる。\n",
    "定常値は次のように確認することができる。\n",
    "\n",
    "$$\n",
    "\\begin{align*}\n",
    "\\frac{k_*}{k_*}-1 \n",
    "&=\\frac{sAk_*^{-(1-a)} - (n+d)}{1+n} \\\\\n",
    "&\\Downarrow \\\\\n",
    "k_*\n",
    "&=\\left(\n",
    "        \\frac{As}{n+d}\n",
    "    \\right)^{\\frac{1}{1-a}}\n",
    "\\end{align*}\n",
    "$$ (eq:8-kss)\n",
    "\n",
    "この値を生産関数[](eq:8-production)に代入することにより一人当たりGDPの定常値を求めることができる。\n",
    "\n",
    "$$\n",
    "y_*=Ak_*^{a}\n",
    "$$ (eq:8-yss)"
   ]
  },
  {
   "cell_type": "markdown",
   "metadata": {
    "hidden": true
   },
   "source": [
    "{numref}`fig:8-solow`は資本ストックの動学的均衡を示している。\n",
    "\n",
    "```{figure} /images/solow.jpeg\n",
    "---\n",
    "scale: 30%\n",
    "name: fig:8-solow\n",
    "---\n",
    "一人当たり資本ストックの動学\n",
    "```"
   ]
  },
  {
   "cell_type": "markdown",
   "metadata": {
    "heading_collapsed": true
   },
   "source": [
    "## 動学"
   ]
  },
  {
   "cell_type": "markdown",
   "metadata": {
    "hidden": true
   },
   "source": [
    "差分方程式[](eq:8-kdot)を使って資本ストックの変化をプロットするが，以前と同じように`DataFrame`を生成する関数を定義しよう。"
   ]
  },
  {
   "cell_type": "code",
   "execution_count": 2,
   "metadata": {
    "hidden": true
   },
   "outputs": [],
   "source": [
    "def solow_model(k0, A,a,s,n,d,T=20):\n",
    "    \"\"\"引数\n",
    "            k0: 資本の初期値\n",
    "            A: 生産性\n",
    "            a: 資本の所得比率 (a<1)\n",
    "            s: 貯蓄率 (s<1)\n",
    "            n: 労働人口成長率（％）\n",
    "            d: 資本減耗率 (d<1)\n",
    "            T: ループによる計算回数\n",
    "       戻り値\n",
    "            資本と産出量からなるDataFrame\"\"\"\n",
    "    \n",
    "    k = k0\n",
    "    y = A*k0**a\n",
    "    \n",
    "    k_list = [k]\n",
    "    y_list = [y]\n",
    "\n",
    "    for t in range(T):\n",
    "        \n",
    "        k = ( s*A*k**a+(1-d)*k )/( 1+n )\n",
    "        y = A*k**a\n",
    "\n",
    "        k_list.append(k)\n",
    "        y_list.append(y)\n",
    "\n",
    "    # DataFrameの作成\n",
    "    dic = {'capital':k_list, 'output':y_list}\n",
    "    df = pd.DataFrame(dic)\n",
    "    \n",
    "    return df "
   ]
  },
  {
   "cell_type": "markdown",
   "metadata": {
    "hidden": true
   },
   "source": [
    "引数に使うパラーメータには次の値を使ってプロットしてみよう。"
   ]
  },
  {
   "cell_type": "code",
   "execution_count": 3,
   "metadata": {
    "hidden": true
   },
   "outputs": [
    {
     "data": {
      "image/png": "[encoded data removed]",
      "text/plain": [
       "<Figure size 432x288 with 2 Axes>"
      ]
     },
     "metadata": {
      "needs_background": "light"
     },
     "output_type": "display_data"
    }
   ],
   "source": [
    "df = solow_model(k0=200, A=10, a=0.3, s=0.3, n=0.02, d=0.05, T=100)\n",
    "df.plot(subplots=True)\n",
    "pass"
   ]
  },
  {
   "cell_type": "markdown",
   "metadata": {
    "hidden": true
   },
   "source": [
    "異なる初期値を使って資本の変化をプロットしてみる。"
   ]
  },
  {
   "cell_type": "code",
   "execution_count": 4,
   "metadata": {
    "hidden": true
   },
   "outputs": [
    {
     "data": {
      "image/png": "[encoded data removed]",
      "text/plain": [
       "<Figure size 432x288 with 1 Axes>"
      ]
     },
     "metadata": {
      "needs_background": "light"
     },
     "output_type": "display_data"
    }
   ],
   "source": [
    "initial_list = range(100,300,10)      # 1\n",
    "\n",
    "fig, ax = plt.subplots()              # 2\n",
    "\n",
    "for i in initial_list:                # 3\n",
    "    df_temp = solow_model(k0=i, A=10, a=0.3, s=0.3, n=0.02, d=0.05, T=150)\n",
    "    ax.plot('capital', data=df_temp)\n",
    "    \n",
    "ax.set(title='ソロー・モデルの移行過程',  # 4\n",
    "       xlabel='ループの回数',\n",
    "       ylabel='一人当たり資本ストック')\n",
    "pass"
   ]
  },
  {
   "cell_type": "markdown",
   "metadata": {
    "hidden": true
   },
   "source": [
    "````{admonition} コードの説明\n",
    ":class: dropdown\n",
    "\n",
    "1. `range(100,300,10)`は100から300-1=299までの間の数を10間隔で生成する。100，110，120，$cdots$，290となる。\n",
    "1. `.subplots()`を使ってキャンバスを`fig`に，「軸」を`ax`に割り当てる。\n",
    "1. `initial_list`に対して`for`ループを設定する。一回のループごとに以下をおこなう。\n",
    "    * `i`は`k0`の引数に使う値になる。\n",
    "    * `solow_model()`で資本ストックの数値を計算し，その`DataFrame`を`df_temp`に割り当てる。\n",
    "    * `.plot()`を使い`ax`に図をプロットする。これにより図が重ねて描かれる。\n",
    "1. `ax`のメソッド`set()`を使い，引数を使い以下を追加する。\n",
    "    * `title`：図のタイトル\n",
    "    * `xlabel`：横軸のラベル\n",
    "    * `ylabel`：縦軸のラベル\n",
    "    * この３行を次のように書いても同じ結果となる。\n",
    "        ```\n",
    "        ax.set_title('ソロー・モデルの移行過程')\n",
    "        ax.set_xlabel('ループの回数')\n",
    "        ax.set_ylabel('一人当たり資本ストック')\n",
    "        ```\n",
    "      この３つを`.set()`でまとめて書いたのが上のコードである。３つに分けて書く利点はフォントの大きさを指定できることだろう。\n",
    "````"
   ]
  },
  {
   "cell_type": "markdown",
   "metadata": {
    "hidden": true
   },
   "source": [
    "図から初期値に関わらず定常値に収束していることが分かる。即ち，定常状態である長期均衡は安定的である。"
   ]
  },
  {
   "cell_type": "markdown",
   "metadata": {
    "heading_collapsed": true
   },
   "source": [
    "## 定常状態での変数の値"
   ]
  },
  {
   "cell_type": "markdown",
   "metadata": {
    "hidden": true
   },
   "source": [
    "次に定常状態での変数の値を計算してみよう。"
   ]
  },
  {
   "cell_type": "code",
   "execution_count": 5,
   "metadata": {
    "hidden": true
   },
   "outputs": [],
   "source": [
    "def calculate_steady_state(A,a,s,n,d):\n",
    "    \n",
    "    k_ss = ( s*A/(n+d) )**(1/(1-a))    \n",
    "    y_ss = A*k_ss**(a/(1-a))    \n",
    "    \n",
    "    return k_ss, y_ss"
   ]
  },
  {
   "cell_type": "code",
   "execution_count": 6,
   "metadata": {
    "hidden": true
   },
   "outputs": [
    {
     "name": "stdout",
     "output_type": "stream",
     "text": [
      "定常状態での資本ストック:214.5\n",
      "定常状態での産出量: 99.8\n"
     ]
    }
   ],
   "source": [
    "ss = calculate_steady_state(A=10, a=0.3, s=0.3, n=0.02, d=0.05)\n",
    "\n",
    "print(f'定常状態での資本ストック:{ss[0]:.1f}'\n",
    "      f'\\n定常状態での産出量: {ss[1]:.1f}')"
   ]
  },
  {
   "cell_type": "markdown",
   "metadata": {
    "heading_collapsed": true
   },
   "source": [
    "## 線形近似"
   ]
  },
  {
   "cell_type": "markdown",
   "metadata": {
    "heading_collapsed": true,
    "hidden": true
   },
   "source": [
    "### 説明"
   ]
  },
  {
   "cell_type": "markdown",
   "metadata": {
    "hidden": true
   },
   "source": [
    "{numref}`fig:8-solow`は，定常状態は安定的であることを示している。またシミュレーションの結果からも定常状態の安定性が確認できる。次に，線形近似を使って解析的に安定性を確認してみることにする。また線形近似は真の値からの乖離が発生するが，その乖離がどの程度のものかをコードを使って計算することにする。\n",
    "\n",
    "＜テイラー展開による１次線形近似＞\n",
    "* 関数$z=f(x)$を$x_*$でテイラー展開すると次式となる。\n",
    "\n",
    "    $$\n",
    "    z=f(x^*)+\\left.\\frac{df}{dx}\\right|_{x=x_*}(x-x_*)\n",
    "    $$"
   ]
  },
  {
   "cell_type": "markdown",
   "metadata": {
    "hidden": true
   },
   "source": [
    "ソロー・モデルの式に当てはめると次のような対応関係にある。\n",
    "* $z\\;\\Rightarrow\\;k_{t+1}$\n",
    "* $f(x)\\;\\Rightarrow\\;\\dfrac{Ask_{t}^{\\alpha}+(1-d)k_t}{1+n}$\n",
    "* $x^*\\;\\Rightarrow\\;k^*$\n",
    "\n",
    "公式に従って計算してみよう。\n",
    "\n",
    "$$\n",
    "\\begin{align*}\n",
    "k_{t+1}\n",
    "&=\\frac{Ask_{*}^{\\alpha}+(1-d)k_*}{1+n}\n",
    "+\\frac{1}{1+n}\\left[\\frac{Asa}{k_t^{1-\\alpha}}+(1-d)\\right]_{k_t=k_*}(k_t-k_*) \\\\\n",
    "&=k_{*}\n",
    "+\\frac{1}{1+n}\\left[\\frac{Asa}{k_*^{1-\\alpha}}+(1-d)\\right](k_t-k_*) \\\\\n",
    "&=k_*+\\frac{1}{1+n}\\left[\\frac{Asa}{As/(n+d)}+(1-d)\\right](k_t-k_*) \\\\\n",
    "&=k_*+\\frac{a(n+d)+1-d-n+n}{1+n}(k_t-k_*) \\\\\n",
    "&=k_*+\\frac{1+n-(1-a)(n+d)}{1+n}(k_t-k_*) \\\\\n",
    "&=(1-\\lambda) k_t + \\lambda k_*\n",
    "\\end{align*}\n",
    "$$ (eq:8-kapprox)\n",
    "\n",
    "ここで\n",
    "\n",
    "$$\n",
    "\\lambda\\equiv \\frac{(1-a)(n+d)}{1+n}\n",
    "$$ (eq:8-lambda)"
   ]
  },
  {
   "cell_type": "markdown",
   "metadata": {
    "hidden": true
   },
   "source": [
    "３行目は定常状態の式[](eq:8-kdot)と式[](eq:8-kss)を使っている。式[](eq:8-kapprox)は$k_{t+1}$と$k_t$の線形差分方程式になっており，$k_t$の係数は\n",
    "\n",
    "$$\n",
    "0<1-\\lambda<1\n",
    "\\quad\\because\n",
    "0<a,d<1\n",
    "$$ (eq:8-coef_of_kt)\n",
    "\n",
    "が成立する。{numref}`fig:8-solow`の赤い直線が式[](eq:8-kapprox)である。従って，初期値$k_0>0$からスタートする経済は必ず長期的均衡に収束することがわかる。\n",
    "\n",
    "式[](eq:8-lambda)は$k_t$の係数だが，その裏にあるメカニズムを考えてみよう。特に，$a$の役割を考える。$a$は資本の所得比率であり，目安の値は1/3である。そしてソロー・モデルにおける重要な役割が**資本の限界生産性の逓減**を決定することである。この効果により資本ストックが増加する毎に産出量も増加するがその増加自体が減少する。この効果により，{numref}`fig:8-solow`の曲線は凹関数になっており，生産関数[](eq:8-production)の場合は必ず45度線と交差することになる。即ち，資本の限界生産性の逓減こそが$k_t$が一定になる定常状態に経済が収束す理由なのである。この点がソロー・モデルの一番重要なメカニズムとなる。\n",
    "\n",
    "ここで$a$が上昇したとしよう。そうなると資本の限界生産性の逓減の効果は弱くなり，資本ストックが増加しても産出量の増加自体の減少は小さくなる。また式[](eq:8-kss)が示すように定常状態での資本ストックはより大きくなる。これは{numref}`fig:8-solow`で曲線が上方シフトしている考えると良いだろう。"
   ]
  },
  {
   "cell_type": "markdown",
   "metadata": {
    "hidden": true
   },
   "source": [
    "```{admonition} 内生的成長\n",
    ":class: note\n",
    "更に$a$を上昇させて$a=1$になるとどうなるのだろう。この場合，資本の限界生産性は逓減せず一定となる。そして$k_t$の係数である式[](eq:8-coef_of_kt)は1になってしまい，$k_t$が一定になる定常状態が存在しなくなる。$a=1$となる極限の状態を内生的成長と呼ぶ。ここでは立ち入った議論はしないが，内生的成長の典型的な生産関数は次式となり，\n",
    "\n",
    "$$y_t=Ak_t$$\n",
    "\n",
    "この生産関数に基づくモデルは$AK$モデルと呼ばれる。資本の限界生産性は$A$で一定になることが分かると思う。\n",
    "```"
   ]
  },
  {
   "cell_type": "markdown",
   "metadata": {
    "hidden": true
   },
   "source": [
    "### $\\lambda$の解釈"
   ]
  },
  {
   "cell_type": "markdown",
   "metadata": {
    "hidden": true
   },
   "source": [
    "上の議論から$\\lambda$が定常状態の安定性を決定することが分かったが，$\\lambda$の値はどのように解釈できるだろうか。例えば，$\\lambda$が大きい場合と小さい場合では何が違うのだろうか。次式は式[](eq:8-kapprox)の最後の等号を少し書き換えたものである。\n",
    "\n",
    "$$\n",
    "k_*-k_{t+1}=(1-\\lambda)(k_*-k_t)\n",
    "$$ (eq:8-approx_lastline)\n",
    "\n",
    "左辺は$t+1$期において定常状態までの残りの「距離」であり，右辺の$k_*-k_t$は$t$においての定常状態までの残りの「距離」である。後者を次の様に定義し\n",
    "\n",
    "$$z_t\\equiv k_*-k_t$$\n",
    "\n",
    "式[](eq:8-approx_lastline)を整理すると次式となる。\n",
    "\n",
    "$$\n",
    "\\frac{z_{t+1}-z_t}{z_t}=-\\lambda\n",
    "$$ (eq:8-kspeed)\n",
    "\n",
    "左辺は$t$期と$t+1$期において定常状態までの「距離」が何％減少したかを示す**資本ストックの収束速度**である。このモデルの中での収束速度の決定要因は資本の所得比率$\\alpha$，労働人口増加率$n$と資本の減耗率$d$ということである。"
   ]
  },
  {
   "cell_type": "markdown",
   "metadata": {
    "hidden": true
   },
   "source": [
    "ここでは$a$の役割に着目し，なぜ$a$の上昇は収束速度の減少をもたらすのかを直感的に考えてみよう。この点を理解するために，まず$a$は資本の限界生産性の逓減を決定するパラーメータであることを思い出そう。$a$が上昇するとその効果は弱まる。即ち，資本ストックが１単位増加すると産出量は増え，その増加分が減少するのが「逓減」であるが，その減少が小さくなるのである。これにより（上で説明したように）$k_t$が一定となる定常状態は増加することになる。重要な点は，定常状態の増加の意味である。定常状態はマラソンのゴールの様なものである。トップランナーはゴールすると走るのを止め，後続ランナーはトップランナーとの「距離」を縮めることができる。定常状態の増加は，ゴールが遠くなることと同じである。ゴールが遠のくとトップランナーは走り続けるわけだから，それだけ距離を縮めることが難しくなり収束速度が減少することになる。極端なケースとして$a=1$の場合，$k_t$が一定になる定常状態は存在せず，ゴールがない状態が永遠に続いており，永遠に収束しないということである。言い換えると，資本の限界生産性の逓減（$a<1$）こそが「距離」を縮めキャッチアップを可能にするメカニズムなのだ。\n",
    "\n",
    "労働人口増加率$n$と資本の減耗率$d$の上昇は収束速度を速くする。式[](eq:8-kss)から分かる様に，$n$もしくは$d$の上昇は定常状態を減少させる。即ち，ゴールはより近くになるということだ。\n",
    "\n",
    "これである程度キャッチアップのメカニズムが分かったと思うが，今までの議論で足りないものが２点あるので，それらについて簡単に言及する。第一に，ここで考えたソロー・モデルには技術進歩が抜けている（一定な$A$を仮定した）。この点を導入してこそソロー・モデルのフルバージョンであり，その場合の労働効率１単位当たり資本ストック（$K_t/(A_tL_t)$）の収束速度は次の式で与えられる。\n",
    "\n",
    "$$\n",
    "\\lambda\\equiv \\frac{(1-a)(g+n+d+ng)}{(1+n)(1+g)}\n",
    "$$ (eq:8-lambda_g)\n",
    "\n",
    "ここで$g$は技術進歩率である。ソロー・モデルでは4つの変数が収束速度の決定要因になるる。$g=0$の場合，式[](eq:8-lambda)と同じになることが確認できる。第二に，式[](eq:8-lambda)は資本ストックの収束速度であり一人当たりGDPの収束速度と異なるのではないかという疑問である。実は同じである。これはコブ・ダグラス生産関数[](eq:8-production)を仮定しているからであり，対数の近似を使えば簡単に示すことができる。式[](eq:8-approx_lastline)を次のように書き直そう。\n",
    "\n",
    "$$\n",
    "\\frac{k_{t+1}}{k_*}-1=(1-\\lambda)\\left(\\frac{k_t}{k_*}-1\\right)\n",
    "$$ (eq:8-ks_rewrite)\n",
    "\n",
    "ここで$\\log(1+x-1)\\approx x-1$の近似を使い左辺を次のように書き換える。\n",
    "\n",
    "$$\n",
    "\\frac{k_{t+1}}{k_*}-1\n",
    "\\approx\\log\\left(\\frac{k_{t+1}}{k_*}\\right)\n",
    "=\\log\\left(\\frac{y_{t+1}}{y_*}\\right)^{\\frac{1}{\\alpha}}\n",
    "=\\frac{1}{\\alpha}\\left(\\frac{y_{t+1}}{y_*}-1\\right)\n",
    "$$\n",
    "\n",
    "同様に$\\dfrac{k_{t}}{k_*}-1$もこの形に書き換えることができる。後はこの関係を使うことにより，式[](eq:8-ks_rewrite)を整理すると次式となる。\n",
    "\n",
    "$$\n",
    "y_*-y_{t+1}=(1-\\lambda)(y_*-y_t)\n",
    "$$ (eq:8-y_difference_eq)\n",
    "\n",
    "式[](eq:8-approx_lastline)と同じ形になっているので所得の収束速度も式[](eq:8-kspeed)と同じである。"
   ]
  },
  {
   "cell_type": "markdown",
   "metadata": {
    "heading_collapsed": true,
    "hidden": true
   },
   "source": [
    "### 線形近似による誤差"
   ]
  },
  {
   "cell_type": "markdown",
   "metadata": {
    "hidden": true
   },
   "source": [
    "次に関数`solow_model()`を修正して線形近似の誤差を確かめてみよう。"
   ]
  },
  {
   "cell_type": "code",
   "execution_count": 7,
   "metadata": {
    "hidden": true
   },
   "outputs": [],
   "source": [
    "def solow_model_approx(k0,A,a,s,n,d,T=20):\n",
    "    \"\"\"引数\n",
    "            k0: 資本の初期値\n",
    "            A: 生産性\n",
    "            a: 資本の所得比率 (a<1)\n",
    "            s: 貯蓄率 (s<1)\n",
    "            n: 労働人口成長率（n>=0）\n",
    "            d: 資本減耗率 (d<1)\n",
    "            T: ループによる計算回数\n",
    "       戻り値\n",
    "            線形近似モデルを使い計算した資本と産出量からなるDataFrame\"\"\"\n",
    "    \n",
    "    k = k0\n",
    "    y = A*k0**a\n",
    "    \n",
    "    k_list = [k]\n",
    "    y_list = [y]\n",
    "\n",
    "    # 定常状態\n",
    "    k_ss = ( s*A/(n+d) )**(1/(1-a))    \n",
    "    \n",
    "    for t in range(T):\n",
    "        \n",
    "        lamb = 1-(1-a)*(n+d)/(1+n)  # lambda\n",
    "        k = lamb*k+(1-lamb)*k_ss  # 線形近似\n",
    "        y = A*k**a\n",
    "\n",
    "        k_list.append(k)\n",
    "        y_list.append(y)\n",
    "\n",
    "    # DataFrameの作成\n",
    "    dic = {'capital':k_list, 'output':y_list}\n",
    "    df = pd.DataFrame(dic)\n",
    "    \n",
    "    return df "
   ]
  },
  {
   "cell_type": "markdown",
   "metadata": {
    "hidden": true
   },
   "source": [
    "近似誤差を計算するために，上と同じ数値でシミュレーションをおこなう。"
   ]
  },
  {
   "cell_type": "code",
   "execution_count": 8,
   "metadata": {
    "hidden": true
   },
   "outputs": [],
   "source": [
    "df_approx = solow_model_approx(k0=200, A=10, a=0.3, s=0.3, n=0.02, d=0.05, T=150)"
   ]
  },
  {
   "cell_type": "markdown",
   "metadata": {
    "hidden": true
   },
   "source": [
    "非線形のモデル[](eq:8-kdot)と線形近似のモデル[](eq:8-kapprox)で計算された資本ストックを重ねて図示してみよう。"
   ]
  },
  {
   "cell_type": "code",
   "execution_count": 9,
   "metadata": {
    "hidden": true
   },
   "outputs": [
    {
     "data": {
      "image/png": "[encoded data removed]",
      "text/plain": [
       "<Figure size 432x288 with 1 Axes>"
      ]
     },
     "metadata": {
      "needs_background": "light"
     },
     "output_type": "display_data"
    }
   ],
   "source": [
    "df_approx['capital'].plot(label='線形近似モデル', legend=True)\n",
    "df['capital'].plot(label='ソロー・モデル', legend=True)\n",
    "pass"
   ]
  },
  {
   "cell_type": "markdown",
   "metadata": {
    "hidden": true
   },
   "source": [
    "`df_approx`が図示され、その上に`df`が重ねて表示されるが、殆ど同じのように見える。誤差を％で計算し図示してみよう。"
   ]
  },
  {
   "cell_type": "code",
   "execution_count": 10,
   "metadata": {
    "hidden": true,
    "scrolled": false
   },
   "outputs": [
    {
     "data": {
      "image/png": "[encoded data removed]",
      "text/plain": [
       "<Figure size 432x288 with 1 Axes>"
      ]
     },
     "metadata": {
      "needs_background": "light"
     },
     "output_type": "display_data"
    }
   ],
   "source": [
    "( 100*( 1-df_approx['capital']/df['capital'] ) ).plot(marker='.')\n",
    "pass"
   ]
  },
  {
   "cell_type": "markdown",
   "metadata": {
    "hidden": true
   },
   "source": [
    "初期の資本ストック$k_0$は同じなので誤差はゼロであり，$t=1$から線形近似の誤差が現れることになる。誤差は単調ではない。{numref}`fig:8-solow`の図が示しているように，階段のような形で増加していくためであり，その階段お大きさや進み具合が異なるためである。線形近似の値は大き過ぎるため負の値になっているが、誤差は大きくても約0.02％であり、定常状態に近づくにつれて誤差はゼロに近づいている。もちろん，誤差の値は初期値が定常値から離れればそれだけ大きくなっていく。"
   ]
  },
  {
   "cell_type": "markdown",
   "metadata": {
    "heading_collapsed": true
   },
   "source": [
    "## 長期均衡の予測"
   ]
  },
  {
   "cell_type": "markdown",
   "metadata": {
    "heading_collapsed": true,
    "hidden": true
   },
   "source": [
    "### 説明"
   ]
  },
  {
   "cell_type": "markdown",
   "metadata": {
    "hidden": true
   },
   "source": [
    "この節では長期均衡（定常状態）に焦点を当て，理論的な予測のデータとの整合性をチェックする。まず定常状態の特徴をまとめよう。式[](eq:8-kss)と[](eq:8-yss)を使いうと定常状態での一人当たり資本ストックとGDPは次式で与えれる。\n",
    "\n",
    "$$\n",
    "k_*=\n",
    "\\left(\n",
    "     \\frac{sA}{n+d}\n",
    "\\right)^{\\frac{1}{1-a}},\n",
    "\\quad\n",
    "y_*=Ak_*^a\n",
    "$$\n",
    "\n",
    "この２つをそれぞれ試すこともできるが，同時に捉えるために２つの式の比率を考える。\n",
    "\n",
    "$$\n",
    "\\frac{k_*}{y_*}=\\frac{s}{n+d}\n",
    "=\\left.\\frac{K_t/L_t}{Y_t/L_t}\\right|_{\\text{定常状態}}\n",
    "=\\left.\\frac{K_t}{Y_t}\\right|_{\\text{定常状態}}\n",
    "$$ (eq:8-kyratio)\n",
    "\n",
    "この値は資本ストック対GDP比と等しいく，次のことが分かる。\n",
    "* 貯蓄率$s$の上昇は資本ストック対GDP比を増加させる。。\n",
    "* 労働人口成長率$n$の上昇は資本ストック対GDP比を減少させる。\n",
    "* 資本減耗率$d$の上昇は資本ストック対GDP比を減少させる。\n",
    "\n",
    "この３つの予測が成立するか確かめるために`py4macro`モジュールに含まれるPenn World Dataの次の変数を使う。\n",
    "* `cgdpo`：GDP（2019年;生産側）\n",
    "* `cn`：物的資本ストック（2019年）\n",
    "* `csh_i`：対GDP比資本形成の比率\n",
    "    * 投資の対GDP比である。\n",
    "    * 貯蓄率$s$の代わりに使う。\n",
    "    * 1960年〜2019年の平均を使う。\n",
    "* `emp`：雇用者数\n",
    "    * 労働人口の代わりに使う。\n",
    "    * 1960年〜2019年の平均成長率$n$の計算に使う。\n",
    "* `delta`：資本ストックの年平均減耗率\n",
    "    * 1960年〜2019年の平均を使う。"
   ]
  },
  {
   "cell_type": "markdown",
   "metadata": {
    "heading_collapsed": true,
    "hidden": true,
    "tags": [
     "remove-cell"
    ]
   },
   "source": [
    "### データ"
   ]
  },
  {
   "cell_type": "markdown",
   "metadata": {
    "hidden": true
   },
   "source": [
    "(sec:8-data)=\n",
    "### データ"
   ]
  },
  {
   "cell_type": "markdown",
   "metadata": {
    "hidden": true
   },
   "source": [
    "1960年以降のデータを`pwt`に割り当てる。"
   ]
  },
  {
   "cell_type": "code",
   "execution_count": 11,
   "metadata": {
    "hidden": true
   },
   "outputs": [],
   "source": [
    "pwt = py4macro.data('pwt').query('year >= 1960')"
   ]
  },
  {
   "cell_type": "markdown",
   "metadata": {
    "heading_collapsed": true,
    "hidden": true
   },
   "source": [
    "#### 貯蓄率"
   ]
  },
  {
   "cell_type": "markdown",
   "metadata": {
    "hidden": true
   },
   "source": [
    "1960年から2019年までの国別の貯蓄率の平均を計算するが必要がある。[ここで説明している](https://py4basics.github.io/3_Pandas.html#id33)`DataFrame`のメソッド`.groupby()`を使うのが最も簡単な計算方法だろう。ここでは異なる方法として`DataFrame`のメソッド`.pivot()`を紹介する。`.pivot()`はデータを整形する上で非常に便利なメソッドなので知って損はないだろう。\n",
    "\n",
    "`.pivot()`は，元の`DataFrame`から列を選び，その列から新たな`DataFrame`を作成する便利なメソッドである。実際にコードを実行して説明しよう。"
   ]
  },
  {
   "cell_type": "code",
   "execution_count": 12,
   "metadata": {
    "hidden": true,
    "scrolled": true,
    "tags": [
     "output_scroll"
    ]
   },
   "outputs": [
    {
     "data": {
      "text/html": [
       "<div>\n",
       "<style scoped>\n",
       "    .dataframe tbody tr th:only-of-type {\n",
       "        vertical-align: middle;\n",
       "    }\n",
       "\n",
       "    .dataframe tbody tr th {\n",
       "        vertical-align: top;\n",
       "    }\n",
       "\n",
       "    .dataframe thead th {\n",
       "        text-align: right;\n",
       "    }\n",
       "</style>\n",
       "<table border=\"1\" class=\"dataframe\">\n",
       "  <thead>\n",
       "    <tr style=\"text-align: right;\">\n",
       "      <th>country</th>\n",
       "      <th>Albania</th>\n",
       "      <th>Algeria</th>\n",
       "      <th>Angola</th>\n",
       "      <th>Anguilla</th>\n",
       "      <th>Antigua and Barbuda</th>\n",
       "      <th>Argentina</th>\n",
       "      <th>Armenia</th>\n",
       "      <th>Aruba</th>\n",
       "      <th>Australia</th>\n",
       "      <th>Austria</th>\n",
       "      <th>...</th>\n",
       "      <th>United Arab Emirates</th>\n",
       "      <th>United Kingdom</th>\n",
       "      <th>United States</th>\n",
       "      <th>Uruguay</th>\n",
       "      <th>Uzbekistan</th>\n",
       "      <th>Venezuela (Bolivarian Republic of)</th>\n",
       "      <th>Viet Nam</th>\n",
       "      <th>Yemen</th>\n",
       "      <th>Zambia</th>\n",
       "      <th>Zimbabwe</th>\n",
       "    </tr>\n",
       "    <tr>\n",
       "      <th>year</th>\n",
       "      <th></th>\n",
       "      <th></th>\n",
       "      <th></th>\n",
       "      <th></th>\n",
       "      <th></th>\n",
       "      <th></th>\n",
       "      <th></th>\n",
       "      <th></th>\n",
       "      <th></th>\n",
       "      <th></th>\n",
       "      <th></th>\n",
       "      <th></th>\n",
       "      <th></th>\n",
       "      <th></th>\n",
       "      <th></th>\n",
       "      <th></th>\n",
       "      <th></th>\n",
       "      <th></th>\n",
       "      <th></th>\n",
       "      <th></th>\n",
       "      <th></th>\n",
       "    </tr>\n",
       "  </thead>\n",
       "  <tbody>\n",
       "    <tr>\n",
       "      <th>1960</th>\n",
       "      <td>NaN</td>\n",
       "      <td>0.303861</td>\n",
       "      <td>NaN</td>\n",
       "      <td>NaN</td>\n",
       "      <td>NaN</td>\n",
       "      <td>0.148988</td>\n",
       "      <td>NaN</td>\n",
       "      <td>NaN</td>\n",
       "      <td>0.356183</td>\n",
       "      <td>0.215909</td>\n",
       "      <td>...</td>\n",
       "      <td>NaN</td>\n",
       "      <td>0.250929</td>\n",
       "      <td>0.243929</td>\n",
       "      <td>0.154078</td>\n",
       "      <td>NaN</td>\n",
       "      <td>0.377831</td>\n",
       "      <td>NaN</td>\n",
       "      <td>NaN</td>\n",
       "      <td>0.053204</td>\n",
       "      <td>0.201060</td>\n",
       "    </tr>\n",
       "    <tr>\n",
       "      <th>1961</th>\n",
       "      <td>NaN</td>\n",
       "      <td>0.337310</td>\n",
       "      <td>NaN</td>\n",
       "      <td>NaN</td>\n",
       "      <td>NaN</td>\n",
       "      <td>0.151162</td>\n",
       "      <td>NaN</td>\n",
       "      <td>NaN</td>\n",
       "      <td>0.302833</td>\n",
       "      <td>0.205103</td>\n",
       "      <td>...</td>\n",
       "      <td>NaN</td>\n",
       "      <td>0.242859</td>\n",
       "      <td>0.235292</td>\n",
       "      <td>0.157036</td>\n",
       "      <td>NaN</td>\n",
       "      <td>0.344871</td>\n",
       "      <td>NaN</td>\n",
       "      <td>NaN</td>\n",
       "      <td>0.047308</td>\n",
       "      <td>0.184336</td>\n",
       "    </tr>\n",
       "    <tr>\n",
       "      <th>1962</th>\n",
       "      <td>NaN</td>\n",
       "      <td>0.372718</td>\n",
       "      <td>NaN</td>\n",
       "      <td>NaN</td>\n",
       "      <td>NaN</td>\n",
       "      <td>0.131594</td>\n",
       "      <td>NaN</td>\n",
       "      <td>NaN</td>\n",
       "      <td>0.320442</td>\n",
       "      <td>0.184987</td>\n",
       "      <td>...</td>\n",
       "      <td>NaN</td>\n",
       "      <td>0.224224</td>\n",
       "      <td>0.237818</td>\n",
       "      <td>0.133648</td>\n",
       "      <td>NaN</td>\n",
       "      <td>0.351696</td>\n",
       "      <td>NaN</td>\n",
       "      <td>NaN</td>\n",
       "      <td>0.042713</td>\n",
       "      <td>0.129202</td>\n",
       "    </tr>\n",
       "    <tr>\n",
       "      <th>1963</th>\n",
       "      <td>NaN</td>\n",
       "      <td>0.359685</td>\n",
       "      <td>NaN</td>\n",
       "      <td>NaN</td>\n",
       "      <td>NaN</td>\n",
       "      <td>0.113241</td>\n",
       "      <td>NaN</td>\n",
       "      <td>NaN</td>\n",
       "      <td>0.315644</td>\n",
       "      <td>0.184251</td>\n",
       "      <td>...</td>\n",
       "      <td>NaN</td>\n",
       "      <td>0.226413</td>\n",
       "      <td>0.243220</td>\n",
       "      <td>0.123745</td>\n",
       "      <td>NaN</td>\n",
       "      <td>0.324748</td>\n",
       "      <td>NaN</td>\n",
       "      <td>NaN</td>\n",
       "      <td>0.031628</td>\n",
       "      <td>0.113312</td>\n",
       "    </tr>\n",
       "    <tr>\n",
       "      <th>1964</th>\n",
       "      <td>NaN</td>\n",
       "      <td>0.272713</td>\n",
       "      <td>NaN</td>\n",
       "      <td>NaN</td>\n",
       "      <td>NaN</td>\n",
       "      <td>0.139779</td>\n",
       "      <td>NaN</td>\n",
       "      <td>NaN</td>\n",
       "      <td>0.341544</td>\n",
       "      <td>0.208624</td>\n",
       "      <td>...</td>\n",
       "      <td>NaN</td>\n",
       "      <td>0.270936</td>\n",
       "      <td>0.246120</td>\n",
       "      <td>0.102930</td>\n",
       "      <td>NaN</td>\n",
       "      <td>0.397737</td>\n",
       "      <td>NaN</td>\n",
       "      <td>NaN</td>\n",
       "      <td>0.020669</td>\n",
       "      <td>0.117670</td>\n",
       "    </tr>\n",
       "  </tbody>\n",
       "</table>\n",
       "<p>5 rows × 183 columns</p>\n",
       "</div>"
      ],
      "text/plain": [
       "country  Albania   Algeria  Angola  Anguilla  Antigua and Barbuda  Argentina  \\\n",
       "year                                                                           \n",
       "1960         NaN  0.303861     NaN       NaN                  NaN   0.148988   \n",
       "1961         NaN  0.337310     NaN       NaN                  NaN   0.151162   \n",
       "1962         NaN  0.372718     NaN       NaN                  NaN   0.131594   \n",
       "1963         NaN  0.359685     NaN       NaN                  NaN   0.113241   \n",
       "1964         NaN  0.272713     NaN       NaN                  NaN   0.139779   \n",
       "\n",
       "country  Armenia  Aruba  Australia   Austria  ...  United Arab Emirates  \\\n",
       "year                                          ...                         \n",
       "1960         NaN    NaN   0.356183  0.215909  ...                   NaN   \n",
       "1961         NaN    NaN   0.302833  0.205103  ...                   NaN   \n",
       "1962         NaN    NaN   0.320442  0.184987  ...                   NaN   \n",
       "1963         NaN    NaN   0.315644  0.184251  ...                   NaN   \n",
       "1964         NaN    NaN   0.341544  0.208624  ...                   NaN   \n",
       "\n",
       "country  United Kingdom  United States   Uruguay  Uzbekistan  \\\n",
       "year                                                           \n",
       "1960           0.250929       0.243929  0.154078         NaN   \n",
       "1961           0.242859       0.235292  0.157036         NaN   \n",
       "1962           0.224224       0.237818  0.133648         NaN   \n",
       "1963           0.226413       0.243220  0.123745         NaN   \n",
       "1964           0.270936       0.246120  0.102930         NaN   \n",
       "\n",
       "country  Venezuela (Bolivarian Republic of)  Viet Nam  Yemen    Zambia  \\\n",
       "year                                                                     \n",
       "1960                               0.377831       NaN    NaN  0.053204   \n",
       "1961                               0.344871       NaN    NaN  0.047308   \n",
       "1962                               0.351696       NaN    NaN  0.042713   \n",
       "1963                               0.324748       NaN    NaN  0.031628   \n",
       "1964                               0.397737       NaN    NaN  0.020669   \n",
       "\n",
       "country  Zimbabwe  \n",
       "year               \n",
       "1960     0.201060  \n",
       "1961     0.184336  \n",
       "1962     0.129202  \n",
       "1963     0.113312  \n",
       "1964     0.117670  \n",
       "\n",
       "[5 rows x 183 columns]"
      ]
     },
     "execution_count": 12,
     "metadata": {},
     "output_type": "execute_result"
    }
   ],
   "source": [
    "saving = pwt.pivot(index='year', columns='country', values='csh_i')\n",
    "saving.head()"
   ]
  },
  {
   "cell_type": "markdown",
   "metadata": {
    "hidden": true
   },
   "source": [
    "```{admonition} コードの説明\n",
    ":class: dropdown\n",
    "\n",
    "`pwt`の３つの列`year`，`country`，`csh_i`を使って新たな`DataFrame`を作成し`saving`に割り当てている。引数は次の役割をする。\n",
    "* `index`：新たな`DataFrame`の**行ラベル**を指定する。\n",
    "    * コードでは`year`が指定され行ラベルになっている。\n",
    "* `columns`：新たな`DataFrame`の**列ラベル**を指定する。\n",
    "    * コードでは`country`が指定され列ラベルになっている。\n",
    "* `values`：新たな`DataFrame`の**値**を指定する。\n",
    "    * コードでは`csh_i`が指定され，その値で`DataFrame`が埋め尽くされている。\n",
    "```"
   ]
  },
  {
   "cell_type": "markdown",
   "metadata": {
    "hidden": true
   },
   "source": [
    "1960年以降欠損値がない国だけを使うことにしよう。`NaN`がある列を削除する必要があるので`.dropna()`を使う。"
   ]
  },
  {
   "cell_type": "code",
   "execution_count": 13,
   "metadata": {
    "hidden": true,
    "tags": [
     "output_scroll"
    ]
   },
   "outputs": [
    {
     "data": {
      "text/html": [
       "<div>\n",
       "<style scoped>\n",
       "    .dataframe tbody tr th:only-of-type {\n",
       "        vertical-align: middle;\n",
       "    }\n",
       "\n",
       "    .dataframe tbody tr th {\n",
       "        vertical-align: top;\n",
       "    }\n",
       "\n",
       "    .dataframe thead th {\n",
       "        text-align: right;\n",
       "    }\n",
       "</style>\n",
       "<table border=\"1\" class=\"dataframe\">\n",
       "  <thead>\n",
       "    <tr style=\"text-align: right;\">\n",
       "      <th>country</th>\n",
       "      <th>Algeria</th>\n",
       "      <th>Argentina</th>\n",
       "      <th>Australia</th>\n",
       "      <th>Austria</th>\n",
       "      <th>Bangladesh</th>\n",
       "      <th>Barbados</th>\n",
       "      <th>Belgium</th>\n",
       "      <th>Benin</th>\n",
       "      <th>Bolivia (Plurinational State of)</th>\n",
       "      <th>Botswana</th>\n",
       "      <th>...</th>\n",
       "      <th>Tunisia</th>\n",
       "      <th>Turkey</th>\n",
       "      <th>U.R. of Tanzania: Mainland</th>\n",
       "      <th>Uganda</th>\n",
       "      <th>United Kingdom</th>\n",
       "      <th>United States</th>\n",
       "      <th>Uruguay</th>\n",
       "      <th>Venezuela (Bolivarian Republic of)</th>\n",
       "      <th>Zambia</th>\n",
       "      <th>Zimbabwe</th>\n",
       "    </tr>\n",
       "    <tr>\n",
       "      <th>year</th>\n",
       "      <th></th>\n",
       "      <th></th>\n",
       "      <th></th>\n",
       "      <th></th>\n",
       "      <th></th>\n",
       "      <th></th>\n",
       "      <th></th>\n",
       "      <th></th>\n",
       "      <th></th>\n",
       "      <th></th>\n",
       "      <th></th>\n",
       "      <th></th>\n",
       "      <th></th>\n",
       "      <th></th>\n",
       "      <th></th>\n",
       "      <th></th>\n",
       "      <th></th>\n",
       "      <th></th>\n",
       "      <th></th>\n",
       "      <th></th>\n",
       "      <th></th>\n",
       "    </tr>\n",
       "  </thead>\n",
       "  <tbody>\n",
       "    <tr>\n",
       "      <th>1960</th>\n",
       "      <td>0.303861</td>\n",
       "      <td>0.148988</td>\n",
       "      <td>0.356183</td>\n",
       "      <td>0.215909</td>\n",
       "      <td>0.015934</td>\n",
       "      <td>0.097599</td>\n",
       "      <td>0.290086</td>\n",
       "      <td>0.041995</td>\n",
       "      <td>0.155338</td>\n",
       "      <td>0.109739</td>\n",
       "      <td>...</td>\n",
       "      <td>0.119855</td>\n",
       "      <td>0.206398</td>\n",
       "      <td>0.110611</td>\n",
       "      <td>0.105968</td>\n",
       "      <td>0.250929</td>\n",
       "      <td>0.243929</td>\n",
       "      <td>0.154078</td>\n",
       "      <td>0.377831</td>\n",
       "      <td>0.053204</td>\n",
       "      <td>0.201060</td>\n",
       "    </tr>\n",
       "    <tr>\n",
       "      <th>1961</th>\n",
       "      <td>0.337310</td>\n",
       "      <td>0.151162</td>\n",
       "      <td>0.302833</td>\n",
       "      <td>0.205103</td>\n",
       "      <td>0.017991</td>\n",
       "      <td>0.080713</td>\n",
       "      <td>0.299679</td>\n",
       "      <td>0.038844</td>\n",
       "      <td>0.116987</td>\n",
       "      <td>0.126386</td>\n",
       "      <td>...</td>\n",
       "      <td>0.148971</td>\n",
       "      <td>0.200566</td>\n",
       "      <td>0.119069</td>\n",
       "      <td>0.116082</td>\n",
       "      <td>0.242859</td>\n",
       "      <td>0.235292</td>\n",
       "      <td>0.157036</td>\n",
       "      <td>0.344871</td>\n",
       "      <td>0.047308</td>\n",
       "      <td>0.184336</td>\n",
       "    </tr>\n",
       "    <tr>\n",
       "      <th>1962</th>\n",
       "      <td>0.372718</td>\n",
       "      <td>0.131594</td>\n",
       "      <td>0.320442</td>\n",
       "      <td>0.184987</td>\n",
       "      <td>0.026607</td>\n",
       "      <td>0.073272</td>\n",
       "      <td>0.281366</td>\n",
       "      <td>0.038015</td>\n",
       "      <td>0.194461</td>\n",
       "      <td>0.143890</td>\n",
       "      <td>...</td>\n",
       "      <td>0.187644</td>\n",
       "      <td>0.196202</td>\n",
       "      <td>0.099676</td>\n",
       "      <td>0.116963</td>\n",
       "      <td>0.224224</td>\n",
       "      <td>0.237818</td>\n",
       "      <td>0.133648</td>\n",
       "      <td>0.351696</td>\n",
       "      <td>0.042713</td>\n",
       "      <td>0.129202</td>\n",
       "    </tr>\n",
       "    <tr>\n",
       "      <th>1963</th>\n",
       "      <td>0.359685</td>\n",
       "      <td>0.113241</td>\n",
       "      <td>0.315644</td>\n",
       "      <td>0.184251</td>\n",
       "      <td>0.019315</td>\n",
       "      <td>0.079214</td>\n",
       "      <td>0.272968</td>\n",
       "      <td>0.039580</td>\n",
       "      <td>0.165575</td>\n",
       "      <td>0.160907</td>\n",
       "      <td>...</td>\n",
       "      <td>0.194986</td>\n",
       "      <td>0.201216</td>\n",
       "      <td>0.089344</td>\n",
       "      <td>0.146264</td>\n",
       "      <td>0.226413</td>\n",
       "      <td>0.243220</td>\n",
       "      <td>0.123745</td>\n",
       "      <td>0.324748</td>\n",
       "      <td>0.031628</td>\n",
       "      <td>0.113312</td>\n",
       "    </tr>\n",
       "    <tr>\n",
       "      <th>1964</th>\n",
       "      <td>0.272713</td>\n",
       "      <td>0.139779</td>\n",
       "      <td>0.341544</td>\n",
       "      <td>0.208624</td>\n",
       "      <td>0.024646</td>\n",
       "      <td>0.078267</td>\n",
       "      <td>0.309144</td>\n",
       "      <td>0.033927</td>\n",
       "      <td>0.171541</td>\n",
       "      <td>0.200124</td>\n",
       "      <td>...</td>\n",
       "      <td>0.210442</td>\n",
       "      <td>0.199917</td>\n",
       "      <td>0.119029</td>\n",
       "      <td>0.187897</td>\n",
       "      <td>0.270936</td>\n",
       "      <td>0.246120</td>\n",
       "      <td>0.102930</td>\n",
       "      <td>0.397737</td>\n",
       "      <td>0.020669</td>\n",
       "      <td>0.117670</td>\n",
       "    </tr>\n",
       "  </tbody>\n",
       "</table>\n",
       "<p>5 rows × 111 columns</p>\n",
       "</div>"
      ],
      "text/plain": [
       "country   Algeria  Argentina  Australia   Austria  Bangladesh  Barbados  \\\n",
       "year                                                                      \n",
       "1960     0.303861   0.148988   0.356183  0.215909    0.015934  0.097599   \n",
       "1961     0.337310   0.151162   0.302833  0.205103    0.017991  0.080713   \n",
       "1962     0.372718   0.131594   0.320442  0.184987    0.026607  0.073272   \n",
       "1963     0.359685   0.113241   0.315644  0.184251    0.019315  0.079214   \n",
       "1964     0.272713   0.139779   0.341544  0.208624    0.024646  0.078267   \n",
       "\n",
       "country   Belgium     Benin  Bolivia (Plurinational State of)  Botswana  ...  \\\n",
       "year                                                                     ...   \n",
       "1960     0.290086  0.041995                          0.155338  0.109739  ...   \n",
       "1961     0.299679  0.038844                          0.116987  0.126386  ...   \n",
       "1962     0.281366  0.038015                          0.194461  0.143890  ...   \n",
       "1963     0.272968  0.039580                          0.165575  0.160907  ...   \n",
       "1964     0.309144  0.033927                          0.171541  0.200124  ...   \n",
       "\n",
       "country   Tunisia    Turkey  U.R. of Tanzania: Mainland    Uganda  \\\n",
       "year                                                                \n",
       "1960     0.119855  0.206398                    0.110611  0.105968   \n",
       "1961     0.148971  0.200566                    0.119069  0.116082   \n",
       "1962     0.187644  0.196202                    0.099676  0.116963   \n",
       "1963     0.194986  0.201216                    0.089344  0.146264   \n",
       "1964     0.210442  0.199917                    0.119029  0.187897   \n",
       "\n",
       "country  United Kingdom  United States   Uruguay  \\\n",
       "year                                               \n",
       "1960           0.250929       0.243929  0.154078   \n",
       "1961           0.242859       0.235292  0.157036   \n",
       "1962           0.224224       0.237818  0.133648   \n",
       "1963           0.226413       0.243220  0.123745   \n",
       "1964           0.270936       0.246120  0.102930   \n",
       "\n",
       "country  Venezuela (Bolivarian Republic of)    Zambia  Zimbabwe  \n",
       "year                                                             \n",
       "1960                               0.377831  0.053204  0.201060  \n",
       "1961                               0.344871  0.047308  0.184336  \n",
       "1962                               0.351696  0.042713  0.129202  \n",
       "1963                               0.324748  0.031628  0.113312  \n",
       "1964                               0.397737  0.020669  0.117670  \n",
       "\n",
       "[5 rows x 111 columns]"
      ]
     },
     "execution_count": 13,
     "metadata": {},
     "output_type": "execute_result"
    }
   ],
   "source": [
    "saving = saving.dropna(axis='columns')\n",
    "saving.head()"
   ]
  },
  {
   "cell_type": "markdown",
   "metadata": {
    "hidden": true
   },
   "source": [
    "```{admonition} コードの説明\n",
    ":class: dropdown\n",
    "\n",
    "`.dropna()`は`NaN`がある行か列を削除する。行と列のどちらを削除するかは引数`axis`で指定するが，デフォルトは`'rows'`である。即ち，引数なしで`.dropna()`を実行すると`NaN`がある行が削除される。ここでは列を削除したいので，引数に`'columns'`を指定している。\n",
    "```"
   ]
  },
  {
   "cell_type": "markdown",
   "metadata": {
    "hidden": true
   },
   "source": [
    "AlbaniaやAngolaなどが削除されていることが確認できる。何ヵ国残っているか確認してみよう。"
   ]
  },
  {
   "cell_type": "code",
   "execution_count": 14,
   "metadata": {
    "hidden": true
   },
   "outputs": [
    {
     "data": {
      "text/plain": [
       "(60, 111)"
      ]
     },
     "execution_count": 14,
     "metadata": {},
     "output_type": "execute_result"
    }
   ],
   "source": [
    "saving.shape"
   ]
  },
  {
   "cell_type": "markdown",
   "metadata": {
    "hidden": true
   },
   "source": [
    "```{admonition} コードの説明\n",
    ":class: dropdown\n",
    "\n",
    "属性`.shape`は`DataFrame`の行の数（左の数字）と列（右の数字）の数を返す。\n",
    "```\n",
    "\n",
    "111ヵ国含まれていることが確認できた。次に，それぞれの列の平均を計算する。"
   ]
  },
  {
   "cell_type": "code",
   "execution_count": 15,
   "metadata": {
    "hidden": true
   },
   "outputs": [
    {
     "data": {
      "text/html": [
       "<div>\n",
       "<style scoped>\n",
       "    .dataframe tbody tr th:only-of-type {\n",
       "        vertical-align: middle;\n",
       "    }\n",
       "\n",
       "    .dataframe tbody tr th {\n",
       "        vertical-align: top;\n",
       "    }\n",
       "\n",
       "    .dataframe thead th {\n",
       "        text-align: right;\n",
       "    }\n",
       "</style>\n",
       "<table border=\"1\" class=\"dataframe\">\n",
       "  <thead>\n",
       "    <tr style=\"text-align: right;\">\n",
       "      <th></th>\n",
       "      <th>saving_rate</th>\n",
       "    </tr>\n",
       "    <tr>\n",
       "      <th>country</th>\n",
       "      <th></th>\n",
       "    </tr>\n",
       "  </thead>\n",
       "  <tbody>\n",
       "    <tr>\n",
       "      <th>Algeria</th>\n",
       "      <td>0.349476</td>\n",
       "    </tr>\n",
       "    <tr>\n",
       "      <th>Argentina</th>\n",
       "      <td>0.147927</td>\n",
       "    </tr>\n",
       "    <tr>\n",
       "      <th>Australia</th>\n",
       "      <td>0.285702</td>\n",
       "    </tr>\n",
       "    <tr>\n",
       "      <th>Austria</th>\n",
       "      <td>0.271485</td>\n",
       "    </tr>\n",
       "    <tr>\n",
       "      <th>Bangladesh</th>\n",
       "      <td>0.135590</td>\n",
       "    </tr>\n",
       "  </tbody>\n",
       "</table>\n",
       "</div>"
      ],
      "text/plain": [
       "            saving_rate\n",
       "country                \n",
       "Algeria        0.349476\n",
       "Argentina      0.147927\n",
       "Australia      0.285702\n",
       "Austria        0.271485\n",
       "Bangladesh     0.135590"
      ]
     },
     "execution_count": 15,
     "metadata": {},
     "output_type": "execute_result"
    }
   ],
   "source": [
    "saving = saving.mean().to_frame('saving_rate')   # 1\n",
    "saving.head()"
   ]
  },
  {
   "cell_type": "markdown",
   "metadata": {
    "hidden": true
   },
   "source": [
    "````{admonition} コードの説明\n",
    ":class: dropdown\n",
    "\n",
    "1. `.mean()`はそれぞれの列の平均を計算し，`Series`を返す。後で`DataFrame`を結合するメソッド`.merge()`を使うために`.to_frame()`を使って`Series`を`DataFrame`に変換しており，引数`saving_rate`は列ラベルを指定している。もちろん引数を使わずに２行に分けることも可能である。\n",
    "```\n",
    "saving = saving.mean().to_frame()\n",
    "saving.columns = ['saving_rate']\n",
    "```\n",
    "````"
   ]
  },
  {
   "cell_type": "markdown",
   "metadata": {
    "hidden": true
   },
   "source": [
    "```{tip}\n",
    "上の計算では1960年以降に欠損値が一つでもあればその国は排除されたが，全ての年でデータが揃っている経済だけを扱いたい場合に便利に使える方法である。一方で，`.groupby()`を使うと欠損値があっても平均は計算されるので，単純に`.groupby()`を使うと1960年以降に欠損値がある経済も含まれることになる。それを避けるためには一捻り必要だが，それについては[](sec:9-saving)が参考になるだろう。\n",
    "```"
   ]
  },
  {
   "cell_type": "markdown",
   "metadata": {
    "heading_collapsed": true,
    "hidden": true
   },
   "source": [
    "#### 資本減耗率"
   ]
  },
  {
   "cell_type": "markdown",
   "metadata": {
    "hidden": true
   },
   "source": [
    "`saving`と同じ方法で資本減耗率の平均からなる`DataFrame`を作成する。"
   ]
  },
  {
   "cell_type": "code",
   "execution_count": 16,
   "metadata": {
    "hidden": true
   },
   "outputs": [],
   "source": [
    "depreciation = pwt.pivot(index='year', columns='country', values='delta')\n",
    "depreciation = depreciation.dropna(axis='columns')"
   ]
  },
  {
   "cell_type": "code",
   "execution_count": 17,
   "metadata": {
    "hidden": true
   },
   "outputs": [
    {
     "data": {
      "text/plain": [
       "(60, 110)"
      ]
     },
     "execution_count": 17,
     "metadata": {},
     "output_type": "execute_result"
    }
   ],
   "source": [
    "depreciation.shape"
   ]
  },
  {
   "cell_type": "markdown",
   "metadata": {
    "hidden": true
   },
   "source": [
    "110ヵ国含まれている。"
   ]
  },
  {
   "cell_type": "code",
   "execution_count": 18,
   "metadata": {
    "hidden": true
   },
   "outputs": [],
   "source": [
    "depreciation = depreciation.mean().to_frame('depreciation')"
   ]
  },
  {
   "cell_type": "markdown",
   "metadata": {
    "heading_collapsed": true,
    "hidden": true
   },
   "source": [
    "#### 労働人口成長率"
   ]
  },
  {
   "cell_type": "markdown",
   "metadata": {
    "hidden": true
   },
   "source": [
    "平均成長率を計算するには1960年と2019年の労働人口だけで計算できるが，上と同じ方法で計算してみる。"
   ]
  },
  {
   "cell_type": "code",
   "execution_count": 19,
   "metadata": {
    "hidden": true
   },
   "outputs": [],
   "source": [
    "emp = pwt.pivot(index='year', columns='country', values='emp')\n",
    "emp = emp.dropna(axis='columns')"
   ]
  },
  {
   "cell_type": "code",
   "execution_count": 20,
   "metadata": {
    "hidden": true
   },
   "outputs": [
    {
     "data": {
      "text/plain": [
       "(60, 91)"
      ]
     },
     "execution_count": 20,
     "metadata": {},
     "output_type": "execute_result"
    }
   ],
   "source": [
    "emp.shape"
   ]
  },
  {
   "cell_type": "markdown",
   "metadata": {
    "hidden": true
   },
   "source": [
    "91ヵ国しか含まれていない。"
   ]
  },
  {
   "cell_type": "code",
   "execution_count": 21,
   "metadata": {
    "hidden": true,
    "scrolled": true
   },
   "outputs": [
    {
     "data": {
      "text/html": [
       "<div>\n",
       "<style scoped>\n",
       "    .dataframe tbody tr th:only-of-type {\n",
       "        vertical-align: middle;\n",
       "    }\n",
       "\n",
       "    .dataframe tbody tr th {\n",
       "        vertical-align: top;\n",
       "    }\n",
       "\n",
       "    .dataframe thead th {\n",
       "        text-align: right;\n",
       "    }\n",
       "</style>\n",
       "<table border=\"1\" class=\"dataframe\">\n",
       "  <thead>\n",
       "    <tr style=\"text-align: right;\">\n",
       "      <th></th>\n",
       "      <th>employment_growth</th>\n",
       "    </tr>\n",
       "    <tr>\n",
       "      <th>country</th>\n",
       "      <th></th>\n",
       "    </tr>\n",
       "  </thead>\n",
       "  <tbody>\n",
       "    <tr>\n",
       "      <th>Algeria</th>\n",
       "      <td>0.030113</td>\n",
       "    </tr>\n",
       "    <tr>\n",
       "      <th>Argentina</th>\n",
       "      <td>0.016983</td>\n",
       "    </tr>\n",
       "    <tr>\n",
       "      <th>Australia</th>\n",
       "      <td>0.019336</td>\n",
       "    </tr>\n",
       "    <tr>\n",
       "      <th>Austria</th>\n",
       "      <td>0.004750</td>\n",
       "    </tr>\n",
       "    <tr>\n",
       "      <th>Bangladesh</th>\n",
       "      <td>0.022279</td>\n",
       "    </tr>\n",
       "  </tbody>\n",
       "</table>\n",
       "</div>"
      ],
      "text/plain": [
       "            employment_growth\n",
       "country                      \n",
       "Algeria              0.030113\n",
       "Argentina            0.016983\n",
       "Australia            0.019336\n",
       "Austria              0.004750\n",
       "Bangladesh           0.022279"
      ]
     },
     "execution_count": 21,
     "metadata": {},
     "output_type": "execute_result"
    }
   ],
   "source": [
    "emp_growth = ( ( emp.loc[2019,:]/emp.loc[1960,:] )**(1/(len(emp)-1))-1 \n",
    "             ).to_frame('employment_growth')\n",
    "emp_growth.head()"
   ]
  },
  {
   "cell_type": "markdown",
   "metadata": {
    "heading_collapsed": true,
    "hidden": true
   },
   "source": [
    "#### 資本ストック対GDP比"
   ]
  },
  {
   "cell_type": "markdown",
   "metadata": {
    "hidden": true
   },
   "source": [
    "2019年の`cgdpo`と`cn`を使って資本ストック対GDP比を含む`DataFrame`を作成する。"
   ]
  },
  {
   "cell_type": "code",
   "execution_count": 22,
   "metadata": {
    "hidden": true
   },
   "outputs": [
    {
     "data": {
      "text/html": [
       "<div>\n",
       "<style scoped>\n",
       "    .dataframe tbody tr th:only-of-type {\n",
       "        vertical-align: middle;\n",
       "    }\n",
       "\n",
       "    .dataframe tbody tr th {\n",
       "        vertical-align: top;\n",
       "    }\n",
       "\n",
       "    .dataframe thead th {\n",
       "        text-align: right;\n",
       "    }\n",
       "</style>\n",
       "<table border=\"1\" class=\"dataframe\">\n",
       "  <thead>\n",
       "    <tr style=\"text-align: right;\">\n",
       "      <th></th>\n",
       "      <th>cgdpo</th>\n",
       "      <th>cn</th>\n",
       "    </tr>\n",
       "    <tr>\n",
       "      <th>country</th>\n",
       "      <th></th>\n",
       "      <th></th>\n",
       "    </tr>\n",
       "  </thead>\n",
       "  <tbody>\n",
       "    <tr>\n",
       "      <th>Aruba</th>\n",
       "      <td>3466.241943</td>\n",
       "      <td>1.845814e+04</td>\n",
       "    </tr>\n",
       "    <tr>\n",
       "      <th>Angola</th>\n",
       "      <td>223289.312500</td>\n",
       "      <td>1.371321e+06</td>\n",
       "    </tr>\n",
       "    <tr>\n",
       "      <th>Anguilla</th>\n",
       "      <td>241.384537</td>\n",
       "      <td>2.385742e+03</td>\n",
       "    </tr>\n",
       "    <tr>\n",
       "      <th>Albania</th>\n",
       "      <td>36288.328125</td>\n",
       "      <td>2.298183e+05</td>\n",
       "    </tr>\n",
       "    <tr>\n",
       "      <th>United Arab Emirates</th>\n",
       "      <td>635332.812500</td>\n",
       "      <td>4.510360e+06</td>\n",
       "    </tr>\n",
       "  </tbody>\n",
       "</table>\n",
       "</div>"
      ],
      "text/plain": [
       "                              cgdpo            cn\n",
       "country                                          \n",
       "Aruba                   3466.241943  1.845814e+04\n",
       "Angola                223289.312500  1.371321e+06\n",
       "Anguilla                 241.384537  2.385742e+03\n",
       "Albania                36288.328125  2.298183e+05\n",
       "United Arab Emirates  635332.812500  4.510360e+06"
      ]
     },
     "execution_count": 22,
     "metadata": {},
     "output_type": "execute_result"
    }
   ],
   "source": [
    "ky_ratio = pwt.query('year == 2019') \\\n",
    "              .loc[:,['country','cgdpo','cn']] \\\n",
    "              .set_index('country') \\\n",
    "              .dropna()\n",
    "ky_ratio.head()"
   ]
  },
  {
   "cell_type": "markdown",
   "metadata": {
    "hidden": true
   },
   "source": [
    "```{admonition} コードの説明\n",
    ":class: dropdown\n",
    "\n",
    "`.set_index(''country')`を使って`country`を行ラベルに指定し，`.dropna()`によって欠損値がある行は削除する。\n",
    "```\n",
    "\n",
    "資本ストック対GDP比の列の作成しよう。"
   ]
  },
  {
   "cell_type": "code",
   "execution_count": 23,
   "metadata": {
    "hidden": true
   },
   "outputs": [],
   "source": [
    "ky_ratio['ky_ratio'] = np.log( ky_ratio['cn']/ky_ratio['cgdpo'] )"
   ]
  },
  {
   "cell_type": "markdown",
   "metadata": {
    "hidden": true
   },
   "source": [
    "含まれる国数を確認する。"
   ]
  },
  {
   "cell_type": "code",
   "execution_count": 24,
   "metadata": {
    "hidden": true
   },
   "outputs": [
    {
     "data": {
      "text/plain": [
       "(180, 3)"
      ]
     },
     "execution_count": 24,
     "metadata": {},
     "output_type": "execute_result"
    }
   ],
   "source": [
    "ky_ratio.shape"
   ]
  },
  {
   "cell_type": "markdown",
   "metadata": {
    "hidden": true
   },
   "source": [
    "180ヵ国含まれており，`saving`や`depreciation`の国数よりも多くの国が含まれている。"
   ]
  },
  {
   "cell_type": "markdown",
   "metadata": {
    "heading_collapsed": true,
    "hidden": true
   },
   "source": [
    "#### データの結合"
   ]
  },
  {
   "cell_type": "markdown",
   "metadata": {
    "hidden": true,
    "tags": [
     "remove-cell"
    ]
   },
   "source": [
    "上で作成した`DataFrame`を結合する必要があり，そのための`DataFrame`のメソッド`.merge()`の使い方を説明する。`df_left`と`df_right`の２つの`DataFrame`があるとしよう。`df_left`を左の`DataFrame`，`df_right`を右の`DataFrame`と呼ぶことにする。`df_left`のメソッド`.merge()`を使い`df_right`と結合する場合，次のコードとなる。\n",
    "```\n",
    "df_left.merge(df_right) \n",
    "```\n",
    "しかし注意が必要な点が２つある。\n",
    "1. 行数が同じでも`df_left`と`df_right`では行の並びが異なる可能性がある。\n",
    "2. 行数が異なる可能性がある。\n",
    "\n",
    "これらの問題に対応するためのる引数が用意されている。\n",
    "\n",
    "まず１つ目の問題は，ある列を基準列もしくは行ラベルに合わせて行を並び替えることにより対応できる。例えば，上で作成した`DataFrame`であれば，行ラベルが`country`になっているので，それに合わせて結合すれば良い。その場合の引数を含めたコードは次の様になる。\n",
    "```\n",
    "df_left.merge(df_right, left_index=True, right_index=True) \n",
    "```\n",
    "ここでの`left_index=True`と`right_index=True`は行ラベルを基準に結合することを指定しており，デフォルトは両方とも`False`である。行ラベルではなく，ある列を基準に結合した場合もあるだろう。その場合は次の引数を使う。\n",
    "```\n",
    "df_left.merge(df_right,\n",
    "              left_on=＜`df_left`の基準列のラベル（文字列）＞,\n",
    "              right_on=＜`df_right`の基準列のラベル（文字列）＞) \n",
    "```\n",
    "`left_on`は基準列に使う左の`DataFrame`にある列ラベルを文字列で指定する。同様に`right_on`は基準列に使う右の`DataFrame`にある列ラベルを文字列で指定する。デフォルトは両方とも`None`となっている。\n",
    "\n",
    "２つ目の問題は`how`という引数を使うことにより対処できる。使える値は次の４つであり，いずれも文字列で指定する。\n",
    "* `'inner'`：`df_left`と`df_right`の両方の基準列にある共通の行だけを残す（デフォルト）。\n",
    "* `'left'`：`df_left`の行は全て残し，`df_right`からはマッチする行だけが残り，対応する行がない場合は`NaN`が入る。\n",
    "* `'right'`：`df_right`の行は全て残し，`df_left`からはマッチする行だけが残り，対応する行がない場合は`NaN`が入る。\n",
    "* `'outer'`：`df_left`と`df_right`の両方の行を全て残し，マッチする行がない場合は`NaN`を入れる。\n",
    "\n",
    "では実際に上で作成した`DataFrame`を結合しよう。"
   ]
  },
  {
   "cell_type": "markdown",
   "metadata": {
    "hidden": true
   },
   "source": [
    "上で作成した`DataFrame`を結合する必要があり，そのための`Pandas`の関数`.merge()`の使い方を説明する。`df_left`と`df_right`の２つの`DataFrame`があるとしよう。`df_left`を左の`DataFrame`，`df_right`を右の`DataFrame`と呼ぶことにする。２つを結合する場合，次のコードとなる。\n",
    "```\n",
    "pd.merge(df_left, df_right) \n",
    "```\n",
    "しかし注意が必要な点が２つある。\n",
    "1. 行数が同じでも`df_left`と`df_right`では行の並びが異なる可能性がある。\n",
    "2. 行数が異なる可能性がある。\n",
    "\n",
    "これらの問題に対応するためのに引数が用意されている。\n",
    "\n",
    "まず１つ目の問題は，行ラベルを基準に，もしくはある列に合わせて行を並び替えることにより対応できる。例えば，上で作成した`DataFrame`であれば，行ラベルが`country`になっているので，それに合わせて結合すれば良い。その場合の引数を含めたコードは次の様になる。\n",
    "```\n",
    "pd.merge(df_left, df_right, left_index=True, right_index=True) \n",
    "```\n",
    "ここでの`left_index=True`と`right_index=True`は行ラベルを基準に結合することを指定しており，デフォルトは両方とも`False`である。行ラベルではなく，ある列を基準に結合したい場合もあるだろう。その場合は次の引数を使う。\n",
    "```\n",
    "pd.merge(df_left, df_right,\n",
    "         left_on=＜`df_left`の基準列のラベル（文字列）＞,\n",
    "         right_on=＜`df_right`の基準列のラベル（文字列）＞) \n",
    "```\n",
    "`left_on`は基準列に使う`df_left`にある列ラベルを文字列で指定する。同様に`right_on`は基準列に使う`df_right`にある列ラベルを文字列で指定する。デフォルトは両方とも`None`となっている。\n",
    "\n",
    "２つ目の問題は`how`という引数を使うことにより対処できる。使える値は次の４つであり，いずれも文字列で指定する。\n",
    "* `'inner'`：`df_left`と`df_right`の両方の基準列にある共通の行だけを残す（デフォルト）。\n",
    "* `'left'`：`df_left`の行は全て残し，`df_right`からはマッチする行だけが残り，対応する行がない場合は`NaN`が入る。\n",
    "* `'right'`：`df_right`の行は全て残し，`df_left`からはマッチする行だけが残り，対応する行がない場合は`NaN`が入る。\n",
    "* `'outer'`：`df_left`と`df_right`の両方の行を全て残し，マッチする行がない場合は`NaN`を入れる。\n",
    "\n",
    "では実際に上で作成した`DataFrame`を結合しよう。"
   ]
  },
  {
   "cell_type": "code",
   "execution_count": 25,
   "metadata": {
    "hidden": true
   },
   "outputs": [],
   "source": [
    "for df_right in [saving, depreciation, emp_growth]:  # 1\n",
    "    ky_ratio = pd.merge(ky_ratio, df_right,          # 2\n",
    "                        left_index=True,             # 3\n",
    "                        right_index=True,            # 4\n",
    "                        how='outer')                 # 5"
   ]
  },
  {
   "cell_type": "markdown",
   "metadata": {
    "hidden": true
   },
   "source": [
    "```{admonition} コードの説明\n",
    ":class: dropdown\n",
    "\n",
    "1. `df_right`が上の説明の`df_right`に対応している。`[saving, depreciation, emp_growth]`は上で作成した`DataFrame`のリスト。\n",
    "2. `ky_ratio`が上の説明の`df_left`に対応している。右辺で結合した`DataFrame`を左辺にある`ky_ratio`に割り当てている（際割り当て）。\n",
    "3. `ky_ratio`の行ラベルを基準とすることを指定する。\n",
    "4. `df_right`の行ラベルを基準とすることを指定する。\n",
    "5. ここでの`'outer'`は左右の`DataFrame`のそれぞれの行ラベルを残し，値がない箇所には`NaN`を入れることを指定する。\n",
    "```\n",
    "\n",
    "結合の結果を表示してみよう。"
   ]
  },
  {
   "cell_type": "code",
   "execution_count": 26,
   "metadata": {
    "hidden": true
   },
   "outputs": [
    {
     "data": {
      "text/html": [
       "<div>\n",
       "<style scoped>\n",
       "    .dataframe tbody tr th:only-of-type {\n",
       "        vertical-align: middle;\n",
       "    }\n",
       "\n",
       "    .dataframe tbody tr th {\n",
       "        vertical-align: top;\n",
       "    }\n",
       "\n",
       "    .dataframe thead th {\n",
       "        text-align: right;\n",
       "    }\n",
       "</style>\n",
       "<table border=\"1\" class=\"dataframe\">\n",
       "  <thead>\n",
       "    <tr style=\"text-align: right;\">\n",
       "      <th></th>\n",
       "      <th>cgdpo</th>\n",
       "      <th>cn</th>\n",
       "      <th>ky_ratio</th>\n",
       "      <th>saving_rate</th>\n",
       "      <th>depreciation</th>\n",
       "      <th>employment_growth</th>\n",
       "    </tr>\n",
       "    <tr>\n",
       "      <th>country</th>\n",
       "      <th></th>\n",
       "      <th></th>\n",
       "      <th></th>\n",
       "      <th></th>\n",
       "      <th></th>\n",
       "      <th></th>\n",
       "    </tr>\n",
       "  </thead>\n",
       "  <tbody>\n",
       "    <tr>\n",
       "      <th>Albania</th>\n",
       "      <td>36288.328125</td>\n",
       "      <td>2.298183e+05</td>\n",
       "      <td>1.845793</td>\n",
       "      <td>NaN</td>\n",
       "      <td>NaN</td>\n",
       "      <td>NaN</td>\n",
       "    </tr>\n",
       "    <tr>\n",
       "      <th>Algeria</th>\n",
       "      <td>503848.312500</td>\n",
       "      <td>2.487456e+06</td>\n",
       "      <td>1.596740</td>\n",
       "      <td>0.349476</td>\n",
       "      <td>0.041103</td>\n",
       "      <td>0.030113</td>\n",
       "    </tr>\n",
       "    <tr>\n",
       "      <th>Angola</th>\n",
       "      <td>223289.312500</td>\n",
       "      <td>1.371321e+06</td>\n",
       "      <td>1.815062</td>\n",
       "      <td>NaN</td>\n",
       "      <td>NaN</td>\n",
       "      <td>NaN</td>\n",
       "    </tr>\n",
       "    <tr>\n",
       "      <th>Anguilla</th>\n",
       "      <td>241.384537</td>\n",
       "      <td>2.385742e+03</td>\n",
       "      <td>2.290874</td>\n",
       "      <td>NaN</td>\n",
       "      <td>NaN</td>\n",
       "      <td>NaN</td>\n",
       "    </tr>\n",
       "    <tr>\n",
       "      <th>Antigua and Barbuda</th>\n",
       "      <td>1631.650513</td>\n",
       "      <td>1.097573e+04</td>\n",
       "      <td>1.906095</td>\n",
       "      <td>NaN</td>\n",
       "      <td>NaN</td>\n",
       "      <td>NaN</td>\n",
       "    </tr>\n",
       "  </tbody>\n",
       "</table>\n",
       "</div>"
      ],
      "text/plain": [
       "                             cgdpo            cn  ky_ratio  saving_rate  \\\n",
       "country                                                                   \n",
       "Albania               36288.328125  2.298183e+05  1.845793          NaN   \n",
       "Algeria              503848.312500  2.487456e+06  1.596740     0.349476   \n",
       "Angola               223289.312500  1.371321e+06  1.815062          NaN   \n",
       "Anguilla                241.384537  2.385742e+03  2.290874          NaN   \n",
       "Antigua and Barbuda    1631.650513  1.097573e+04  1.906095          NaN   \n",
       "\n",
       "                     depreciation  employment_growth  \n",
       "country                                               \n",
       "Albania                       NaN                NaN  \n",
       "Algeria                  0.041103           0.030113  \n",
       "Angola                        NaN                NaN  \n",
       "Anguilla                      NaN                NaN  \n",
       "Antigua and Barbuda           NaN                NaN  "
      ]
     },
     "execution_count": 26,
     "metadata": {},
     "output_type": "execute_result"
    }
   ],
   "source": [
    "ky_ratio.head()"
   ]
  },
  {
   "cell_type": "markdown",
   "metadata": {
    "hidden": true
   },
   "source": [
    "列AlbaniaやAngolaは`saving`，`depreciation`，`emp_growth`の`DataFram`には無いため`NaN`が入っている。"
   ]
  },
  {
   "cell_type": "markdown",
   "metadata": {
    "hidden": true
   },
   "source": [
    "結合後の`ky_ratio`の情報を表示してみよう。"
   ]
  },
  {
   "cell_type": "code",
   "execution_count": 27,
   "metadata": {
    "hidden": true
   },
   "outputs": [
    {
     "name": "stdout",
     "output_type": "stream",
     "text": [
      "<class 'pandas.core.frame.DataFrame'>\n",
      "Index: 180 entries, Albania to Zimbabwe\n",
      "Data columns (total 6 columns):\n",
      " #   Column             Non-Null Count  Dtype  \n",
      "---  ------             --------------  -----  \n",
      " 0   cgdpo              180 non-null    float64\n",
      " 1   cn                 180 non-null    float64\n",
      " 2   ky_ratio           180 non-null    float64\n",
      " 3   saving_rate        111 non-null    float64\n",
      " 4   depreciation       110 non-null    float64\n",
      " 5   employment_growth  91 non-null     float64\n",
      "dtypes: float64(6)\n",
      "memory usage: 9.8+ KB\n"
     ]
    }
   ],
   "source": [
    "ky_ratio.info()"
   ]
  },
  {
   "cell_type": "markdown",
   "metadata": {
    "hidden": true
   },
   "source": [
    "180ヵ国が含まれるが`NaN`がある国も多いことが分かる。"
   ]
  },
  {
   "cell_type": "markdown",
   "metadata": {
    "hidden": true
   },
   "source": [
    "### トレンド線と散布図"
   ]
  },
  {
   "cell_type": "markdown",
   "metadata": {
    "hidden": true
   },
   "source": [
    "ここでは次の３つをおこなう。\n",
    "* 資本ストック対GDP比と次の３つの変数の散布図の表示\n",
    "    * 貯蓄率\n",
    "    * 資本減耗率\n",
    "    * 労働人口増加率\n",
    "* 回帰分析に基づいて計算したトレンド線の表示\n",
    "* トレンド線の傾きの統計的優位性の表示\n",
    "\n",
    "`for`ループを使ってこれらを同時に計算・表示する。まず`ky_ratio`の列ラベルをみると，回帰分析の説明変数に使う変数が最後の３つに並んでいる。"
   ]
  },
  {
   "cell_type": "code",
   "execution_count": 28,
   "metadata": {
    "hidden": true
   },
   "outputs": [
    {
     "data": {
      "text/plain": [
       "Index(['saving_rate', 'depreciation', 'employment_growth'], dtype='object')"
      ]
     },
     "execution_count": 28,
     "metadata": {},
     "output_type": "execute_result"
    }
   ],
   "source": [
    "ky_ratio.columns[-3:]"
   ]
  },
  {
   "cell_type": "markdown",
   "metadata": {
    "hidden": true
   },
   "source": [
    "これを使い`for`ループを組んでみよう。"
   ]
  },
  {
   "cell_type": "code",
   "execution_count": 29,
   "metadata": {
    "hidden": true
   },
   "outputs": [
    {
     "data": {
      "image/png": "[encoded data removed]",
      "text/plain": [
       "<Figure size 432x288 with 1 Axes>"
      ]
     },
     "metadata": {
      "needs_background": "light"
     },
     "output_type": "display_data"
    },
    {
     "data": {
      "image/png": "[encoded data removed]",
      "text/plain": [
       "<Figure size 432x288 with 1 Axes>"
      ]
     },
     "metadata": {
      "needs_background": "light"
     },
     "output_type": "display_data"
    },
    {
     "data": {
      "image/png": "[encoded data removed]",
      "text/plain": [
       "<Figure size 432x288 with 1 Axes>"
      ]
     },
     "metadata": {
      "needs_background": "light"
     },
     "output_type": "display_data"
    }
   ],
   "source": [
    "for var in ky_ratio.columns[-3:]:              # 1\n",
    "    \n",
    "    df_temp = ky_ratio.copy()                  # 2\n",
    "    res = sm.ols(f'ky_ratio ~ {var}',          # 3\n",
    "                 data=df_temp).fit()           # 4\n",
    "    bhat = res.params[1]                       # 5\n",
    "    pval = res.pvalues[1]                      # 6\n",
    "    \n",
    "    df_temp['Trend'] = res.fittedvalues        # 7\n",
    "\n",
    "    fig, ax = plt.subplots(tight_layout=True)  # 8\n",
    "    ax.scatter(var, 'ky_ratio', data=df_temp)  # 9\n",
    "    ax.plot(var, 'Trend',                      # 10\n",
    "            data=df_temp.sort_values('Trend'), # 11\n",
    "            c='r')                             # 12\n",
    "    ax.set_title(f'トレンドの傾き：{bhat:.2f}\\n'  # 13\n",
    "                 f'p値：{pval:.3f}', size=20)   # 14\n",
    "    ax.set_ylabel('資本ストック対GDP比（対数）',   # 15\n",
    "                  size=15)                     # 16\n",
    "    ax.set_xlabel(f'{var}', size=20)           # 17"
   ]
  },
  {
   "cell_type": "markdown",
   "metadata": {
    "hidden": true
   },
   "source": [
    "```{admonition} コードの説明\n",
    ":class: dropdown\n",
    "\n",
    "1. `ky_ratio`の最後の３列のラベルに対して`for`ループを組んで，`var`はその列ラベルを指す。\n",
    "2. `ky_ratio`のコピーを作り`df_temp`に割り当てる。`.copy()`は実態としては別物のコピーを作成する。詳細は割愛するが`.copy()`がないと実態は同じで参照記号のみが異なることになり，予期しない結果につながることを防ぐために`.copy()`を使っている。\n",
    "3. 回帰分析をおこなっているが，`f-string`を使い回帰式の説明変数を指定している。また回帰分析の結果を`res`に割り当てている。\n",
    "4. `data`で回帰分析のデータの指定をおこない，`.fit()`で自動計算！\n",
    "5. `res`の属性`.params`は推定値を２つ返すが，1番目に傾きの推定値が格納されているため`[1]`で抽出し，`bhat`に割り当てている。\n",
    "6. `res`の属性`.pvalues`は$p$値を２つ返すが，1番目に傾きの$p$値が格納されているため`[1]`で抽出し，`pval`に割り当てている。\n",
    "7. `res`の属性`fittedvalues`は予測値を返すが，それを新たな列（ラベルは`Trend`）として`df_temp`に追加している。\n",
    "8. `.subplots()`によるキャンバスを`fig`に，「軸」を`ax`に割り当てている。引数の`tight_layout=True`はスペースに余裕がある様に表示にするためであり，なくても構わない。\n",
    "9. `.scatter()`は散布図を描くメソッド。横軸は`var`，縦軸は`ky_ratio`とし，`df_temp`をデータとして使う。\n",
    "10. `.plot()`を使いトレンド線を描く。横軸は`var`，縦軸は`Trend`。\n",
    "11. データには`df_temp`を使うが，メソッド`.sort_values('Trend')`で列`Trend`に従って昇順に並び替える。これはトレンド線が正確に表示されるために必要。\n",
    "12. トレンド線の色を赤に指定する。\n",
    "13. 図のタイトルを設定する。\n",
    "    * `f-string`を使い`bhat`の値を代入する。\n",
    "    * `:.2f`は小数点第２位までの表示を指定。\n",
    "    * `\\n`は改行の意味。\n",
    "    * 行を変えるので`\\n`の後に`'`が必要となる。\n",
    "14. `f-string`を使い`pval`の値を代入する。`:.3f`は小数点第３位までの表示を指定し，`size=20`はフォントの大きさの指定。\n",
    "15. 縦軸のラベルの設定。\n",
    "16. フォントの大きさの指定。\n",
    "17. 横軸のラベルの設定であり，`f-string`を使い`var`の値を代入している。`size=20`はフォントの大きさの指定。\n",
    "```"
   ]
  },
  {
   "cell_type": "markdown",
   "metadata": {
    "hidden": true
   },
   "source": [
    "３つの図からソロー・モデルの理論的予測はデータと整合性があることが確認できる。ここで注意する点が一つある。式[](eq:8-kyratio)は因果関係を予測している。例えば，貯蓄率が高くなることにより長期的な一人\n",
    "当たりGDPは増加する。一方，トレンド線は因果関係を示しているのではなく単なる相関関係を表している。ソロー・モデルの因果関係を計量経済学的に検討するにはさまざまな要因の検討が必要になり，本章の域を超える事になる。"
   ]
  }
 ],
 "metadata": {
  "celltoolbar": "Tags",
  "kernelspec": {
   "display_name": "Python 3 (ipykernel)",
   "language": "python",
   "name": "python3"
  },
  "language_info": {
   "codemirror_mode": {
    "name": "ipython",
    "version": 3
   },
   "file_extension": ".py",
   "mimetype": "text/x-python",
   "name": "python",
   "nbconvert_exporter": "python",
   "pygments_lexer": "ipython3",
   "version": "3.10.4"
  }
 },
 "nbformat": 4,
 "nbformat_minor": 4
}
