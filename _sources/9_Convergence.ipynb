{
 "cells": [
  {
   "cell_type": "markdown",
   "id": "alpha-inclusion",
   "metadata": {},
   "source": [
    "(chap:distribution)=\n",
    "# 所得分布と所得収斂"
   ]
  },
  {
   "cell_type": "code",
   "execution_count": 1,
   "id": "abstract-investment",
   "metadata": {},
   "outputs": [],
   "source": [
    "import numpy as np\n",
    "import pandas as pd\n",
    "import statsmodels.formula.api as sm\n",
    "import matplotlib.pyplot as plt\n",
    "import japanize_matplotlib\n",
    "import py4macro"
   ]
  },
  {
   "cell_type": "markdown",
   "id": "twenty-speed",
   "metadata": {
    "heading_collapsed": true
   },
   "source": [
    "## はじめに"
   ]
  },
  {
   "cell_type": "markdown",
   "id": "apart-essence",
   "metadata": {
    "hidden": true
   },
   "source": [
    "```{margin}\n",
    "<div name=\"html-admonition\">\n",
    "Do you want to read in a differnt language? Start\n",
    "<input type=\"button\" onclick=\"location.href='https://translate.google.com/translate?hl=&sl=ja&tl=en&u='+window.location;\" value=\"Google\" style=\"color:#ffffff;background-color:#008080;\" onmouseover=\"this.style.background='#99ccff'\" onmouseout=\"this.style.background='#008080'\"/><input type=\"button\" onclick=\"location.href='https://translate.google.com/translate?hl=&sl=ja&tl=en&u='+window.location;\" value=\"translation\" style=\"color:#ffffff;background-color:#008080;\" onmouseover=\"this.style.background='#99ccff'\" onmouseout=\"this.style.background='#008080'\"/>\n",
    "in English or the language of your choice.\n",
    "</div>\n",
    "```"
   ]
  },
  {
   "cell_type": "markdown",
   "id": "killing-referral",
   "metadata": {
    "hidden": true
   },
   "source": [
    "[発展会計](chap:5a-accounting)と[成長会計](chap:5b-accounting)の章では次の２つの問題を考察した。\n",
    "\n",
    "> （問１）なぜある国は豊かで他の国は貧しいのだろうか？\n",
    ">\n",
    "> （問２）なぜ国々の経済成長率は大きく異なるのか？\n",
    "\n",
    "ここでは関連する次の問を考える。\n",
    "\n",
    "> （問３）貧しい国は豊かな国に追いついているのだろうか？\n",
    "\n",
    "この問いを考察するために２つのアプローチを使う。第一に，一人当たりGDPを使い世界経済の所得分布がどのように変化したかを図示し検討する。所得分布の形状の変化からキャッチアップ（catch-up）が発生しているかを推論しようということである。第二に，回帰分析の手法を使い所得が低い経済は先進国に追いついているかを検討する。即ち，所得収斂が起こっているかを定量的に探ってみようということである。\n",
    "\n",
    "本題に入る前に，所得収斂の経済学的メカニズムを簡単に紹介する。\n",
    "\n",
    "**＜資本の限界生産性の逓減＞**<br>\n",
    "資本の限界生産性（MPK）とは，資本を１単位増やした場合にどれだけ産出が増加するかを示しており，完全競争の下では実質利子率と等しくなる。従って，MPKは資本投資の収益率と考えることができる。しかし資本が増加するとMPKは逓減し資本投資のリターンが減少する事になる。ソロー・モデルでは，このメカニズムにより経済は定常状態へ収束することになり，その過程で成長率が減少する事になる。即ち，資本が少ない経済（貧しい経済）の成長率は高く，資本が多い国（豊かな経済）は成長率が低くなり，所得収斂が発生すると考えられる。\n",
    "\n",
    "**＜技術伝播＞**<br>\n",
    "技術進歩には様々な形がある。(i)同じ財をより効率的に生産する技術，(ii)既存の財・サービスをより質が高いものへ進化させる技術，(iii)今まで存在しなかった新たな財・サービスの出現。(i)~(iii)が中間財の技術進歩であれば，その技術を採用した企業の生産性は上昇する。労働者の移動や様々なネットワークを通じて，それらは他の企業・産業に伝播し経済全体の生産性が向上することになる。技術には特許などの知的財産権に守られるものもあるが，特許権には20年間という時間的制限がある。また知的財産権で守られたとしても，そこからヒントを得た似た技術が広がることも頻繁に発生している。(ii)と(iii)が最終財であれば，消費財の伝播として広がるり効用の増加につながる。重要な点は，このような技術伝播は国内に限らず，国境をまたいで発生することである。国際貿易や人的交流，経済支援などの形で徐々に技術は広がり，新技術を採用する経済の所得は上昇することになる。また後進国にとって有利な点は，新たな技術開発費用よりも既存の技術採用費用の方が断然低いということである。一旦，新しい技術・知識が創出されると，伝播に時間は掛かるが，世界中で利用されるようになり所得収斂につながる。特に，「伝統的な財」と異なり，デジタル技術の輸送費用は低く伝播し易いと考えられる。[参考資料](https://translate.google.com/translate?hl=&sl=en&tl=ja&u=https%3A%2F%2Fvoxeu.org%2Farticle%2Fgrowth-escalators-and-growth-convergence)\n",
    "\n",
    "**＜制度の伝播＞**<br>\n",
    "「大富豪」や「ページワン」などのトランプ・ゲームを考えよう。ルールに従ってプレーヤーはゲームを楽しむが，ルールが少しでも変わると勝つことを目的とするプレーヤーは戦略を変えることになる。即ち，ルールが変わると行動が変わるのである。法や習慣などの社会的ルールを所与として最適な行動を選択する消費者や企業の行動も同じである。法が変わり，既存の方法ではビジネスが成り立たたない場合，新たな方法で利潤を得ようとするだろう。ここでの社会的ルールとは政策を含む政治経済**制度**であり，制度が消費者と企業のインセンティブに影響を与えるのである。民主主義の日本と独裁国家では消費者・企業の行動は異なることになる。また所得水準が高くなる（過去の成長率が高かった）制度もあれば，富が少数に集中する搾取的な制度により所得が低いままの（過去の成長率が低かった）経済もある。ここで重要な点は，高所得を発生させる政策や制度が，それらを採用していない経済に伝播するということである。例えば，経済成長に直接関係していないが，中央銀行の独立性の確保は徐々に広がった政策である。もっと広い意味での経済制度の例として，封建社会からの脱却やソ連が崩壊し東欧諸国の民主化と市場化が挙げれるだろう。"
   ]
  },
  {
   "cell_type": "markdown",
   "id": "conceptual-probe",
   "metadata": {
    "heading_collapsed": true,
    "tags": [
     "remove-cell"
    ]
   },
   "source": [
    "## 所得分布の推移"
   ]
  },
  {
   "cell_type": "markdown",
   "id": "magnetic-wrestling",
   "metadata": {
    "hidden": true
   },
   "source": [
    "(sec:9-distribution)=\n",
    "## 所得分布の推移"
   ]
  },
  {
   "cell_type": "markdown",
   "id": "foster-patio",
   "metadata": {
    "hidden": true
   },
   "source": [
    "世界経済の所得分布が時間と共にどのように変化したかを考えるが，手法としては，一人当たりGDPの分布自体の変化を図示して確認する。分析に使うデータはPenn World Talbeの次の２変数：\n",
    "* `rgdpe`：支出面から計算したGDP（連鎖PPPs; in mil. 2017US\\$）\n",
    "    * 経済間そして時系列的にも一定な価格を使い計算されてい「実質」\n",
    "    * 経済間そして時間の次元での比較に適している\n",
    "* `pop`：人口（in millions）\n",
    "\n",
    "これらのデータを使い，所得分布のヒストグラムとカーネル密度推定に基づくプロットを説明する。まず，一人当たりGDPの変数（対数）を作成する。"
   ]
  },
  {
   "cell_type": "code",
   "execution_count": 2,
   "id": "international-contribution",
   "metadata": {
    "hidden": true
   },
   "outputs": [],
   "source": [
    "# Penn World Tableのデータ\n",
    "df = py4macro.data('pwt')\n",
    "\n",
    "# 一人当たりGDP（対数）\n",
    "df['gdp_pc_log'] = np.log( df['rgdpe'] / df['pop'] )"
   ]
  },
  {
   "cell_type": "markdown",
   "id": "featured-incident",
   "metadata": {
    "hidden": true
   },
   "source": [
    "例として2019年の日本の一人当たりGDPを表示してみよう。"
   ]
  },
  {
   "cell_type": "code",
   "execution_count": 3,
   "id": "positive-pasta",
   "metadata": {
    "hidden": true
   },
   "outputs": [
    {
     "data": {
      "text/plain": [
       "6159    10.587516\n",
       "Name: gdp_pc_log, dtype: float64"
      ]
     },
     "execution_count": 3,
     "metadata": {},
     "output_type": "execute_result"
    }
   ],
   "source": [
    "y_jp = df.query('country == \"Japan\" & year == 2019')['gdp_pc_log']\n",
    "y_jp"
   ]
  },
  {
   "cell_type": "markdown",
   "id": "physical-retrieval",
   "metadata": {
    "hidden": true
   },
   "source": [
    "このコードで返されるのは`Series`なので，`gdp_pc_log`の値自体を抽出するためには`.iloc[]`を使う。"
   ]
  },
  {
   "cell_type": "code",
   "execution_count": 4,
   "id": "ceramic-variable",
   "metadata": {
    "hidden": true
   },
   "outputs": [
    {
     "data": {
      "text/plain": [
       "10.587515569810463"
      ]
     },
     "execution_count": 4,
     "metadata": {},
     "output_type": "execute_result"
    }
   ],
   "source": [
    "y_jp.iloc[0]"
   ]
  },
  {
   "cell_type": "markdown",
   "id": "revised-alfred",
   "metadata": {
    "hidden": true
   },
   "source": [
    "次に2019年のヒストグラムを作成しよう。"
   ]
  },
  {
   "cell_type": "code",
   "execution_count": 5,
   "id": "refined-playlist",
   "metadata": {
    "hidden": true
   },
   "outputs": [
    {
     "data": {
      "image/png": "[encoded data removed]",
      "text/plain": [
       "<Figure size 432x288 with 1 Axes>"
      ]
     },
     "metadata": {
      "needs_background": "light"
     },
     "output_type": "display_data"
    }
   ],
   "source": [
    "cond = ( df.loc[:,'year']==2019 )\n",
    "df.loc[cond,'gdp_pc_log'].plot(kind='hist', bins=20)\n",
    "pass"
   ]
  },
  {
   "cell_type": "markdown",
   "id": "understood-amino",
   "metadata": {
    "hidden": true
   },
   "source": [
    "ヒストグラムは縦軸に度数，横軸に階級を取ったグラフだが，関連する手法に[カーネル密度推定](https://en.wikipedia.org/wiki/Kernel_density_estimation)と呼ばれるものがある。考え方は簡単で，上のようなヒストグラムのデータに基づき面積が１になるようにスムーズな分布を推計する手法である。詳細は割愛するが，下のコードではヒストグラムとカーネル密度関数を重ねてプロットする。"
   ]
  },
  {
   "cell_type": "code",
   "execution_count": 6,
   "id": "nominated-cargo",
   "metadata": {
    "hidden": true
   },
   "outputs": [
    {
     "data": {
      "image/png": "[encoded data removed]",
      "text/plain": [
       "<Figure size 432x288 with 1 Axes>"
      ]
     },
     "metadata": {
      "needs_background": "light"
     },
     "output_type": "display_data"
    }
   ],
   "source": [
    "# 1 ヒストグラム\n",
    "ax_ = df.loc[cond,'gdp_pc_log'].plot(kind='hist', bins=20, density=True)\n",
    "\n",
    "# 2 密度関数\n",
    "df.loc[cond,'gdp_pc_log'].plot(kind='density',ax=ax_)\n",
    "\n",
    "# 3 日本\n",
    "ax_.axvline(y_jp.iloc[0],color='red')\n",
    "\n",
    "# 4 横軸の表示範囲\n",
    "ax_.set_xlim(4,12)\n",
    "pass"
   ]
  },
  {
   "cell_type": "markdown",
   "id": "collectible-dutch",
   "metadata": {
    "hidden": true
   },
   "source": [
    "```{admonition} コードの説明\n",
    ":class: dropdown\n",
    "\n",
    "1. `density=True`は縦軸を確率として表示する引数\n",
    "2. `kind='density'`は分布のスムーズな形を推定し表示する引数（密度関数を推定する）\n",
    "3. `axvline()`は`ax_`のメソッドであり，横軸の第一引数の値に垂直線を表示する。`color`は色を指定する引数。\n",
    "4. `set_xlim()`は横軸の表示範囲を指定する。\n",
    "```"
   ]
  },
  {
   "cell_type": "markdown",
   "id": "unlikely-memory",
   "metadata": {
    "hidden": true
   },
   "source": [
    "最頻値（モード）は中心より右側にあるが，横軸は対数になっていることを思い出そう。対数を取らない分布では，最頻値は分布の中心より左側に位置することになる。試してみよう。\n",
    "\n",
    "ここで確かめたいのは，約70年の間に上の所得分布のどのように変化してきたか，という問題である。この問いに答えるために，カーネル密度関数（`kind=density`）を使って1950年から10年毎の分布を表示する。"
   ]
  },
  {
   "cell_type": "code",
   "execution_count": 7,
   "id": "associate-telescope",
   "metadata": {
    "hidden": true
   },
   "outputs": [
    {
     "data": {
      "image/png": "[encoded data removed]",
      "text/plain": [
       "<Figure size 432x288 with 1 Axes>"
      ]
     },
     "metadata": {
      "needs_background": "light"
     },
     "output_type": "display_data"
    }
   ],
   "source": [
    "yr_list = list(range(1960,2020,10))+[2019]           # 1\n",
    "\n",
    "cond = ( df.loc[:,'year'] == 1950 )                  # 2\n",
    "ax_ = df.loc[cond,'gdp_pc_log'].plot(kind='density', # 3\n",
    "                                     label='1950',   # 4\n",
    "                                     legend=True)    # 5\n",
    "for y in yr_list:                                    # 6\n",
    "    cond = ( df.loc[:,'year'] == y )                 # 7\n",
    "    df.loc[cond,'gdp_pc_log'].plot(kind='density',   # 8\n",
    "                                   label=str(y),     # 9\n",
    "                                   legend=True,      # 10\n",
    "                                   ax=ax_)           # 11\n",
    "ax_.set_xlim([5.5,13.0])                             # 12\n",
    "pass"
   ]
  },
  {
   "cell_type": "markdown",
   "id": "variable-canadian",
   "metadata": {
    "hidden": true
   },
   "source": [
    "```{admonition} コードの説明\n",
    ":class: dropdown\n",
    "\n",
    "1. `range(start, end, step)`は`start`から`end`までの整数を`step`の間隔で準備する。更に`list()`を使ってリストに変換し，`+[2019]`を使ってリストの最後に`2019`を追加している。\n",
    "2. 列`year`が`1950`と等しい行が`True`，そうでない行は`False`となる`Series`を`cond`に割り当てる。\n",
    "3. 1950年の行を抽出し，密度関数を表示する。また，その「軸」を`ax_`に割り当てる。\n",
    "4. 凡例の表示を`'1950'`（文字列）とする。\n",
    "5. 凡例の表示を指定する。\n",
    "6. `yr_list`に対しての`for`ループで1960から10年毎のループの開始。\n",
    "7. 列`year`が`y`と等しい行が`True`，そうでない行は`False`となる`Series`を`cond`に割り当てる。(2)で設定した`cond`は上書きされる。\n",
    "8. `y`の行を抽出し，密度関数を表示する。\n",
    "9. 凡例の表示を文字列に変換した`y`とする。`str()`は文字列に変換する関数。\n",
    "10. 凡例の表示を指定する。\n",
    "11. 「軸」を選ぶ引数`ax`には`ax_`を指定する。\n",
    "12. `ax_`のメソッドである`set_xlim()`は横軸の表示範囲を指定する。\n",
    "    * 最小値，最大値をリストもしくはタプルで指定する。\n",
    "    * `set_xlim()`が設定されない場合は，自動で設定される。\n",
    "```"
   ]
  },
  {
   "cell_type": "markdown",
   "id": "billion-indian",
   "metadata": {
    "hidden": true
   },
   "source": [
    "まず分布は左から右に移動しているが，これは世界経済が成長している結果である。次に気づくのが，分布が左に偏っているが少しずつ右への偏りに変化しているように見える。これを数値として確かめるために歪度（わいど; skewness）という概念を使おう。歪度は平均や標準偏差のように簡単に計算できる統計量であり，次のように定義される。\n",
    "\n",
    "$$\n",
    "S=\\frac{n}{(n-1)(n-2)}\n",
    "    \\sum_{i=1}^n\n",
    "    \\left(\n",
    "        \\frac{\n",
    "            x-\\overline{x}\n",
    "            }{s}\n",
    "    \\right)^3\n",
    "$$\n",
    "\n",
    "ここで$n$は標本の大きさ，$\\overline{x}$は標本平均，$s$は標本標準偏差である。{numref}`fig:7-skewness`を使って歪度を説明しよう。\n",
    "* $S>0$：「正の歪み」がある分布と呼ばれる。\n",
    "    * 「左に偏った」とも呼ばれる。\n",
    "    * 紛らわしいが，右裾が長くなっているため「右の歪み」とも呼ばれる。\n",
    "* $S<0$：「負の歪み」がある分布と呼ばれる。\n",
    "    * 「右に偏った」とも呼ばれる。\n",
    "    * 紛らわしいが，左裾が長くなっているため「左の歪み」があるとも呼ばれる。\n",
    "* $S=0$：左右対称分布"
   ]
  },
  {
   "cell_type": "markdown",
   "id": "permanent-clerk",
   "metadata": {
    "hidden": true
   },
   "source": [
    "```{figure} /images/skewness.jpeg\n",
    "---\n",
    "scale: 20%\n",
    "name: fig:7-skewness\n",
    "---\n",
    "Sの符号と分布の歪み（偏り）の関係\n",
    "```\n",
    "\n",
    "もしキャッチアップが起こると，一人当たりGDPが低い経済はより高い所得を得る経済に近づき，所得が比較的に高い国が増えることになる。従って，キャッチアップによって左側の分布から右側の分布に移り，それにつれて$S$は減少すると考えられる。では実際に歪度の推移を計算してみよう。"
   ]
  },
  {
   "cell_type": "code",
   "execution_count": 8,
   "id": "signed-tuesday",
   "metadata": {
    "hidden": true
   },
   "outputs": [
    {
     "data": {
      "image/png": "[encoded data removed]",
      "text/plain": [
       "<Figure size 432x288 with 1 Axes>"
      ]
     },
     "metadata": {
      "needs_background": "light"
     },
     "output_type": "display_data"
    }
   ],
   "source": [
    "year_list = df.loc[:,'year'].unique()\n",
    "\n",
    "skew_list = []\n",
    "\n",
    "for yr in year_list:                       # 1\n",
    "    \n",
    "    cond = ( df.loc[:,'year']==yr )        # 2\n",
    "    s = df.loc[cond, 'gdp_pc_log']         # 3\n",
    "    \n",
    "    # 歪度\n",
    "    skew_val = s.skew()                    # 4\n",
    "    skew_list.append( skew_val )           # 5\n",
    "\n",
    "ax_ = pd.DataFrame({'歪度':skew_list},      # 6\n",
    "                   index=year_list) \\\n",
    "                  .plot(marker='o')        # 7\n",
    "ax_.axhline(0, color='red')                # 8\n",
    "pass"
   ]
  },
  {
   "cell_type": "markdown",
   "id": "ranging-liberia",
   "metadata": {
    "hidden": true
   },
   "source": [
    "```{admonition} コードの説明\n",
    ":class: dropdown\n",
    "\n",
    "1. `year_list`に対して`for`ループの開始。\n",
    "2. 列`year`が`yr`と同じ場合は`True`となり，そうでない場合は`False`となる`Series`を返し`cond`に割り当てる。\n",
    "3. 列`gdp_pc_lo`で`cond`がTrue`となる行を`Series`として抽出し`s`に割り当てる。\n",
    "4. `s`のメソッド`.skew()`を使い，`s`の歪度を計算し`skew_val`に割り当てる。\n",
    "5. `skew_val`を`skew_list`に割り当てる。\n",
    "6. `skew_list`からなる`DataFrame`を作成し，`year_list`を行インデックスに指定する。また(8)で`.plot()`によって生成される「軸」を`ax_`に割り当てる。\n",
    "7. プロットのマーカーを`'o'`（点）に指定する。\n",
    "8. `ax_`のメソッド`.axhline()`を使い`0`に赤の横線を引く。\n",
    "```"
   ]
  },
  {
   "cell_type": "markdown",
   "id": "italian-copying",
   "metadata": {
    "hidden": true
   },
   "source": [
    "次の特徴がある。\n",
    "* 1970年以降は減少トレンドが確認できる。このことからキャッチアップが発生していることを示唆している。また1990年頃を境に「正の歪み」から「負の歪み」に変化している。\n",
    "* 1960年，1970年，1990年に上方・下方ジャンプが発生している。これは以下で確認するように，`gdp_pc_log`が`NaN`ではない国の数が大きく増加しているためである。\n",
    "* 1970年前だけを考えると，歪度は上昇トレンドとなっている。これも欠損値がない国の数の変化による影響とも考えられる。\n",
    "\n",
    "これらの点を考えるために`gdp_pc_log`が`NaN`ではない国の数を確認しよう。次のコードは，2019年に`gdp_pc_log`が欠損値ではない国の数を返している。"
   ]
  },
  {
   "cell_type": "code",
   "execution_count": 9,
   "id": "large-landing",
   "metadata": {
    "hidden": true
   },
   "outputs": [
    {
     "data": {
      "text/plain": [
       "183"
      ]
     },
     "execution_count": 9,
     "metadata": {},
     "output_type": "execute_result"
    }
   ],
   "source": [
    "cond = ( df.loc[:,'year']==2019 )        # 1\n",
    "df.loc[cond,'gdp_pc_log'].notna().sum()  # 2"
   ]
  },
  {
   "cell_type": "markdown",
   "id": "attached-revelation",
   "metadata": {
    "hidden": true
   },
   "source": [
    "```{admonition} コードの説明\n",
    ":class: dropdown\n",
    "\n",
    "`notna()`は要素が`NaN`かどうかを調べるメソッドである。要素が`NaN`でなければ`True`を返し，`NaN`であれば`False`を返す。`notna`は英語の`not na`のことであり，`na`は`not available`の略で欠損値のこと。`True`は`1`と数えられるので，メソッド`sum()`を使うことにより`True`の数，即ち，`NaN`ではない要素の数を返す。\n",
    "```"
   ]
  },
  {
   "cell_type": "markdown",
   "id": "sacred-stroke",
   "metadata": {
    "hidden": true
   },
   "source": [
    "次に`for`ループを使って全ての年で`gdp_pc_log`に欠損値ない国の数を確認してみる。"
   ]
  },
  {
   "cell_type": "code",
   "execution_count": 10,
   "id": "emotional-algebra",
   "metadata": {
    "hidden": true
   },
   "outputs": [
    {
     "data": {
      "image/png": "[encoded data removed]",
      "text/plain": [
       "<Figure size 432x288 with 1 Axes>"
      ]
     },
     "metadata": {
      "needs_background": "light"
     },
     "output_type": "display_data"
    }
   ],
   "source": [
    "notna_list = []\n",
    "\n",
    "for yr in year_list:\n",
    "    cond = ( df.loc[:,'year']==yr )                # 1\n",
    "    no = df.loc[cond, 'gdp_pc_log'].notna().sum()  # 2\n",
    "    notna_list.append(no)\n",
    "\n",
    "pd.DataFrame({'国数':notna_list}, index=year_list).plot()\n",
    "pass"
   ]
  },
  {
   "cell_type": "markdown",
   "id": "serial-transcript",
   "metadata": {
    "hidden": true
   },
   "source": [
    "```{admonition} コードの説明\n",
    ":class: dropdown\n",
    "\n",
    "1. 列`year`が`yr`と等しい行が`True`となり，そうでない行は`False`となる`Series`を返す。\n",
    "2. `gdp_pc_log`の列で`cond`が`True`の行を`Series`としてを返す。そのメソッド`.notna()`は欠損値でない場合は`True`を返し，欠損値の場合は`False`を返す。`.sum()`は`True`の数を返し`no`に割り当てる。\n",
    "```"
   ]
  },
  {
   "cell_type": "markdown",
   "id": "trained-vault",
   "metadata": {
    "hidden": true
   },
   "source": [
    "上の図から`gdp_pc_log`が欠損値でない国は増加しており，1960年，1970年，1990年に大きく増えている。データが整備されている国は典型的に先進国であり，後から含まれる国は比較的に所得が低い経済である。従って，貧しい国が所得分布に含まれることにより，分布は左側に引っ張られる傾向にある。特に，1950年から1960年には徐々に国の数は増えているが，それが歪度の上昇につながっていると考えられる。また1960年と1970年の国の数の急激な増加が歪度の上方ジャンプとして現れている。このようなことから，1970年までの歪度の上昇トレンドは，貧しい経済がPWTのデータセットに含まれることによって引き起こされており，豊かな国と比較して貧しい国が引き離されているからではない。一方で，1970年以降も国の数は膨らんでいるが，それにも関わらず歪度は減少傾向を示しているということはキャッチアップが発生していることを示唆している。典型的な例は，台湾，シンガポール，香港，韓国，中国やインドなどである。\n",
    "\n",
    "分布の形の変化を確認するために歪度を使ったが，キャッチアップを捉える統計量として変動係数を考えてみよう。変動係数は分布の広がりを示す統計量であり，次のように定義される。\n",
    "\n",
    "$$\n",
    "\\text{変動係数（Coefficient of Variation）}＝\\dfrac{\\text{標準偏差}}{\\text{平均}}\n",
    "$$\n",
    "\n",
    "変動係数は平均値１単位あたりの標準偏差を表しており，平均値を使って標準化することにより分布の幅の程度を比べることが可能となる。キャッチアップにより経済間お所得格差を示す変動係数は減少すると予想される。次のコードを使って変動係数の推移を計算してみよう。"
   ]
  },
  {
   "cell_type": "code",
   "execution_count": 11,
   "id": "manufactured-tyler",
   "metadata": {
    "hidden": true
   },
   "outputs": [],
   "source": [
    "cv_list = []   # 空のリスト\n",
    "\n",
    "for yr in year_list:\n",
    "    cond = ( df.loc[:,'year']==yr )\n",
    "    s = df.loc[cond, 'gdp_pc_log']\n",
    "    stdev = s.std()                 # 1\n",
    "    avr = s.mean()                  # 2\n",
    "    cv = stdev / avr                # 3\n",
    "    cv_list.append(cv)\n",
    "\n",
    "df_cv = pd.DataFrame({'CV':cv_list}, index=year_list)  # 4"
   ]
  },
  {
   "cell_type": "markdown",
   "id": "blank-concept",
   "metadata": {
    "hidden": true
   },
   "source": [
    "```{admonition} コードの説明\n",
    ":class: dropdown\n",
    "\n",
    "1. `s`は`cond`の条件を満たす`gdp_pc_log`の列の要素からなる`Series`だが，そのメソッド`.std()`を使い標準偏差を計算し`stdev`に割り当てる。\n",
    "2. `s`のメソッド`.mean()`を使い平均を計算し`avr`に割り当てる。\n",
    "3. 変動係数を計算し`cv`に割り当てる。\n",
    "4. `index=year_list`は行インデックスにyear_listを設定しており，それにより，次のコードでは自動的に横軸が年になる。\n",
    "```"
   ]
  },
  {
   "cell_type": "code",
   "execution_count": 12,
   "id": "anonymous-touch",
   "metadata": {
    "hidden": true
   },
   "outputs": [
    {
     "data": {
      "image/png": "[encoded data removed]",
      "text/plain": [
       "<Figure size 432x288 with 1 Axes>"
      ]
     },
     "metadata": {
      "needs_background": "light"
     },
     "output_type": "display_data"
    }
   ],
   "source": [
    "df_cv.plot()\n",
    "pass"
   ]
  },
  {
   "cell_type": "markdown",
   "id": "front-toilet",
   "metadata": {
    "hidden": true
   },
   "source": [
    "サンプルに含まれる国の数が徐々に増えており，その影響により変動係数は増える傾向にある。1990年ごろにはデータセットに含まれる国の数は安定し，その後直ぐに変動係数は減少し始めている。即ち，少なくとも1990年代半ば頃から変動係数で測る経済間の所得格差は減少している。変動係数を見る限りキャッチアップの効果が1990年代から現れていると言える。\n",
    "\n",
    "上で扱った変動係数は経済間における所得格差を表す指標として解釈することができるが，その場合次の点に注意する必要がある。\n",
    "* 分析の対象は国であり，それぞれの国の一人当たりGDPのみを考えた。中国やインドのように大きな国も，ルクセンブルクやシンガポールのように小さな国も１つの経済として扱っている。この場合の変動係数は，全ての国には一人だけしか住んでいないと仮定した場合の経済間の所得格差と同じであり，**国内**の人口や所得不平等やは全く考慮されていない。"
   ]
  },
  {
   "cell_type": "markdown",
   "id": "engaging-supplier",
   "metadata": {
    "heading_collapsed": true,
    "tags": [
     "remove-cell"
    ]
   },
   "source": [
    "## 所得収斂"
   ]
  },
  {
   "cell_type": "markdown",
   "id": "decreased-copying",
   "metadata": {
    "hidden": true
   },
   "source": [
    "(sec:9-convergence)=\n",
    "## 所得収斂"
   ]
  },
  {
   "cell_type": "markdown",
   "id": "injured-function",
   "metadata": {
    "heading_collapsed": true,
    "hidden": true
   },
   "source": [
    "### 説明"
   ]
  },
  {
   "cell_type": "markdown",
   "id": "accepting-tackle",
   "metadata": {
    "hidden": true
   },
   "source": [
    "ここでは問３を回帰分析の手法に基づき検討する。問３を捉えるにはどのような回帰式になれば良いだろうか？ヒントはソロー・モデルにある。式[](eq:8-kgrowth)（以下に再掲）は一人当たり資本ストックの成長率を示している。\n",
    "\n",
    "$$\n",
    "\\frac{k_{t+1}}{k_t}-1 = \\frac{sAk_t^{-(1-a)}-(n+d)}{1+n}\n",
    "$$ (eq:9-kgrowth)\n",
    "\n",
    "$k_t$が増加すると右辺は減少する。即ち，資本ストックが多い経済の資本の成長率は低く，資本ストックが少ない経済の資本の成長率は高いと予測する。では一人当たりGDPではどうだろう。式[](eq:8-ygrowth)（以下に再掲）が成長率を示すが，同様の結果である。\n",
    "\n",
    "$$\n",
    "\\frac{y_{t+1}}{y_t}-1\n",
    "=\\left(\\frac{k_{t+1}}{k_t}\\right)^{\\alpha}-1\n",
    "$$ (eq:9-ygrowth)\n",
    "\n",
    "$k_t$と$y_t$は同じ方向に動くので，所得水準が高ければ成長率は低く，所得水準が低ければ成長率は高くなることが分かる。この点を捉えるために，$T=t_0-t$期間のデータに基づく次の推定式が想定できる。\n",
    "\n",
    "$$\n",
    "(T\\text{期間の平均成長率})_i = a + b\\times(t_0\\text{における一人当たりGDP（対数）})_i + u_i\n",
    "$$ (eq:9-absolute_convergence)\n",
    "\n",
    "説明変数は初期時点（$t_0$）の一人当たりGDPであり，その後の$T$期間における平均成長率が左辺の被説明変数となっており，式[](eq:9-ygrowth)の関係を反映している。$i$は経済を表すとして推定値$\\hat{b}$が**負**の値であれば，キャッチアップが起こっていることが確認できることになる。次のように定義としてまとめよう。\n",
    "\n",
    "> ＜絶対的所得収斂＞\n",
    ">\n",
    "> 資本ストックが多い（豊かな）国の一人当たりGDPの成長率は低く，資本ストックが少ない（貧しい）国の一人当たりGDPの成長率は高い。\n",
    "\n",
    "絶対的所得収斂は，貧しい国が豊かな国をキャッチアップすることを意味している。"
   ]
  },
  {
   "cell_type": "markdown",
   "id": "appreciated-completion",
   "metadata": {
    "hidden": true
   },
   "source": [
    "ここで重要な注意点が一つある。マラソンを想像しよう。トップの選手が折り返し地点に達した時点で，最後尾の選手が走った距離はゴールまでの半分以下である。しかし最後尾の選手がトップ選手よりも速く走り，その状態が続けばゴールまでに追いつくか，もしくはゴールまでにトップ選手との距離を縮めることができる。このマラソンの話の中で前提になっているのが，「全ての選手にとってゴールは同じ」だということである。走った距離を一人当たりGDPの水準，走っている速度を成長率と考え所得収斂の話しに戻すと，マラソンのゴールに対応するのが長期均衡である定常状態である。定常状態が同じという状態は，式[](eq:8-kss)と[](eq:8-yss)が示す様に，５つのパラメータ（$s$，$A$，$a$，$n$，$d$）が同じ状態である。それが成立する場合にキャッチアップが発生することを意味しているのが絶対的所得収斂である。\n",
    "\n",
    "もう一度マラソンの話に戻そう。選手ごとにゴールが違ったらどうだろう。もうマラソンとは言えないが，選手が走った距離と走っている速度だけでは追いついているのかどうかを語れなくなり，他の情報が必要になる。特に，ゴールの位置，そしてコールまでの距離である。同様に，それぞれの経済のパラメータの値が異なり定常状態が違えば，キャチアップしているかは式[](eq:9-absolute_convergence)では判断できなくなる。では，定常状態の違いを捉える経済構造を反映する変数$X_i$を加えた次式であれば良いのだろうか。\n",
    "\n",
    "$$\n",
    "(T\\text{期間の平均成長率})_i = a + cX_i + b\\times(t_0\\text{における一人当たりGDP（対数）})_i + u_i\n",
    "$$ (eq:9-conditional_convergence)\n",
    "\n",
    "推定値$\\hat{b}$が**負**の値を取った場合の解釈を考えてみよう。変数$X_i$により，$\\hat{b}$は定常状態（ゴール）の位置や定常状態までの「距離」がコントロール（考慮）された推定値となっている。従って，推定値$\\hat{b}$は，定常状態までの残りの「距離」が遠ければ成長率は高く，残りの「距離」がが短ければ成長率は低い，ということを示している。これで経済間のキャッチアップを捉えているのだろうか。答えは「否」であり，マラソンと所得収斂とは決定的な違いがある。\n",
    "\n",
    "マラソンはゴールに到達する順番が重要である。選手毎にゴールの位置が違う「変形マラソン」でも同じである。一方，所得収斂では定常状態に到達する順番は重要ではない。重要なのな定常状態（ゴール）の**位置**である。長期的に所得が収斂するかは定常状態の位置で決定され，定常状態の到達順位は全く関係ない。従って，定常状態が異なることが前提となる式[](eq:9-conditional_convergence)の推定値$\\hat{b}$は問３についての解答とはならない。もちろん式[](eq:9-conditional_convergence)を推定する意味がないということではない。推定値$\\hat{c}$は，成長率に対する経済構造の違いを明らかにする事になる。"
   ]
  },
  {
   "cell_type": "markdown",
   "id": "optional-regular",
   "metadata": {
    "hidden": true
   },
   "source": [
    "```{admonition} 条件付き所得収斂\n",
    ":class: warning\n",
    "回帰式[](eq:9-conditional_convergence)の推定値$\\hat{b}$が統計的に有意な負の値を取る場合を**条件付き所得収斂**呼ぶ。しかし説明したように，所得収斂には無関係の値であり誤解を招きやすい用語となっている。\n",
    "```"
   ]
  },
  {
   "cell_type": "markdown",
   "id": "pacific-thanksgiving",
   "metadata": {
    "heading_collapsed": true,
    "hidden": true
   },
   "source": [
    "### 推定式の導出"
   ]
  },
  {
   "cell_type": "markdown",
   "id": "little-burning",
   "metadata": {
    "hidden": true
   },
   "source": [
    "推定式[](eq:9-absolute_convergence)と[](eq:9-conditional_convergence)はソロー・モデルに基づいている。具体的には，式[](eq:8-y_difference_eq)は，ソロー・モデルの均衡式を定常状態の近傍で線形近似して導出された$y_t$の差分方程式だが，この式を整理すると推定式が導出される。この節では導出方法を示すのが目的であり，技術的なものに興味がなければ次に進んでも良いだろう。\n",
    "\n",
    "式[](eq:8-y_difference_eq)を1期ずらして次のように書き換える。\n",
    "\n",
    "$$\n",
    "y_t-y_{t-1}=\\lambda(y_*-y_{t-1})\n",
    "$$\n",
    "\n",
    "更に両辺を$y_{t-1}$で割り，$\\log(1+x-1)\\approx x-1$の近似を使い整理すると次式となる。\n",
    "\n",
    "$$\n",
    "m_t=(1-\\lambda)m_{t-1}+\\lambda m_*\n",
    "$$\n",
    "\n",
    "ここで\n",
    "\n",
    "$$\n",
    "m_t\\equiv\\log(y_t)\n",
    "$$ (eq:9-mt)\n",
    "\n",
    "次に逐次的代入をおこなう。\n",
    "\n",
    "$$\n",
    "\\begin{align*}\n",
    "m_t\n",
    "&=(1-\\lambda)m_{t-1}+\\lambda m_* \\\\\n",
    "&=(1-\\lambda)[(1-\\lambda)m_{t-2}+\\lambda m_*]+\\lambda m_* \\\\\n",
    "&=(1-\\lambda)^2m_{t-2}+[(1-\\lambda) + 1]\\lambda m_* \\\\\n",
    "&=(1-\\lambda)^2[(1-\\lambda)m_{t-3}+\\lambda m_*]+[(1-\\lambda) + 1]\\lambda m_* \\\\\n",
    "&=(1-\\lambda)^3m_{t-3}+[(1-\\lambda)^2+(1-\\lambda)+ 1]\\lambda m_* \\\\\n",
    "&=\\quad\\vdots \\\\\n",
    "&=(1-\\lambda)^tm_{0}+\\lambda m_*\\sum_{i=0}^{t-1}(1-\\lambda)^i \\\\\n",
    "&=(1-\\lambda)^tm_{0}+\\left[1-(1-\\lambda)^t\\right]m_*\n",
    "\\end{align*}\n",
    "$$\n",
    "\n",
    "両辺から$m_0$を引き，$t$で割り，式[](eq:9-mt)を使うと次式を得る。\n",
    "\n",
    "$$\n",
    "\\frac{1}{t}\\log\\left(\\frac{y_t}{y_0}\\right)\n",
    "=a + b\\log(y_0)\n",
    "$$ (eq:9-regression)\n",
    "\n",
    "$$\n",
    "a\\equiv\\frac{1-(1-\\lambda)^t}{t}\\log(y_*)>0,\n",
    "$$ (eq:9-a)\n",
    "\n",
    "$$\n",
    "b\\equiv\\frac{(1-\\lambda)^t-1}{t}<0\n",
    "$$ (eq:9-b)\n",
    "\n",
    "式[](eq:9-regression)の左辺は$t$期間の一人当たりGDPの平均成長率であり，右辺には定数項と初期の一人当たりGDP（対数）が説明変数として配置されている。式[](eq:9-regression)が推定式[](eq:9-absolute_convergence)と[](eq:9-conditional_convergence)と同じであることは明白である。\n",
    "\n",
    "２つ重要な点がある。\n",
    "* 定数項$a$は一人当たりGDPの定常値$y_*$によって決定される。ソロー・モデルにおける定常値は式[](eq:8-yss)であり，パラメータである貯蓄率$s$，労働人口増加率$n$そして資本減耗率$d$に依存している。より一般的に考えると，定数項$a$は経済構造を捉えるあらゆる変数に依存しているとも考えられる。また式[](eq:8-lambda_g)で定義される$\\lambda$にも依存する。\n",
    "    * 推定式[](eq:9-absolute_convergence)は全てのパラメータが同じであることを仮定している。\n",
    "    * 推定式[](eq:9-conditional_convergence)は式[](eq:9-a)の違いを捉えるために$X_i$が含まれている。\n",
    "* パラメータ$b$は$\\lambda$に依存しており，次式を使い推定値$\\hat{b}$から収束速度$\\lambda$を計算できる。\n",
    "    $$\n",
    "    \\lambda=1-(1+bt)^{\\frac{1}{t}}\n",
    "    $$ (eq:9-lambdahat)"
   ]
  },
  {
   "cell_type": "markdown",
   "id": "intended-strategy",
   "metadata": {
    "heading_collapsed": true,
    "hidden": true
   },
   "source": [
    "### 推定結果の判断方法"
   ]
  },
  {
   "cell_type": "markdown",
   "id": "selected-chocolate",
   "metadata": {
    "hidden": true
   },
   "source": [
    "次の順序で推定する。\n",
    "1. 回帰式[](eq:9-absolute_convergence)推定する。\n",
    "    * $\\hat{b}$が負であり統計的有意性が高ければ，絶対的所得収斂を示唆する結果として次に進む。\n",
    "2. 回帰式[](eq:9-conditional_convergence)推定する。\n",
    "    * $\\hat{b}$が負であり統計的有意性が高く，また他の説明変数の有意性が低ければ絶対的所得収斂が成立すると判断する。\n",
    "    * その他の場合は絶対的所得収斂は成立しないと判断する。"
   ]
  },
  {
   "cell_type": "markdown",
   "id": "grateful-vector",
   "metadata": {
    "heading_collapsed": true,
    "hidden": true,
    "tags": [
     "remove-cell"
    ]
   },
   "source": [
    "### 単回帰分析：1970年〜2019年"
   ]
  },
  {
   "cell_type": "markdown",
   "id": "demographic-theory",
   "metadata": {
    "hidden": true
   },
   "source": [
    "(sec:9-simple_regression)=\n",
    "### 単回帰分析：1970年〜2019年"
   ]
  },
  {
   "cell_type": "markdown",
   "id": "appropriate-guess",
   "metadata": {
    "heading_collapsed": true,
    "hidden": true
   },
   "source": [
    "#### データ"
   ]
  },
  {
   "cell_type": "markdown",
   "id": "twenty-hardware",
   "metadata": {
    "hidden": true
   },
   "source": [
    "ここではPenn World Talbeに含まれる次の変数を使う。後で使う変数も含めてデータを整形することにしよう。\n",
    "\n",
    "* `rgdpna`：GDP\n",
    "    * 平均成長率の計算に使う\n",
    "* `cgdpo`：GDP\n",
    "    * 初期時点の一人当たりGDPの計算に使う\n",
    "* `emp`：雇用者数\n",
    "    * GDPを一人当たりに換算する際に使う。\n",
    "    * 平均増加率として定常状態を捉える変数として使う。\n",
    "* `csh_i`：GDPに対しての資本形成の比率\n",
    "    * 投資の対GDP比であり$s$の代わりに使う。\n",
    "    * 平均値を定常状態を捉える変数として使う。\n",
    "* `delta`：資本ストックの年平均減耗率\n",
    "    * 平均値を定常状態を捉える変数として使う。"
   ]
  },
  {
   "cell_type": "markdown",
   "id": "korean-preservation",
   "metadata": {
    "hidden": true
   },
   "source": [
    "最初に1970年のデータだけを抽出する。"
   ]
  },
  {
   "cell_type": "code",
   "execution_count": 13,
   "id": "temporal-compiler",
   "metadata": {
    "hidden": true
   },
   "outputs": [],
   "source": [
    "yr = 1970\n",
    "pwt = df.query('year >= @yr').copy()"
   ]
  },
  {
   "cell_type": "markdown",
   "id": "advisory-advisory",
   "metadata": {
    "heading_collapsed": true,
    "hidden": true
   },
   "source": [
    "##### 貯蓄率・労働人口成長率・資本減耗率の平均"
   ]
  },
  {
   "cell_type": "markdown",
   "id": "billion-newark",
   "metadata": {
    "hidden": true
   },
   "source": [
    "1970年〜2019年の貯蓄率，資本減耗率の平均，労働人口成長率を計算するが[ソロー・モデル](sec:8-data)の章で使ったコードを再利用する。もちろん`.groupby()`を使って計算することもできるが，全ての年で欠損値がない国だけを使いたいので，ここでは`.pivot()`を使うことにする。"
   ]
  },
  {
   "cell_type": "code",
   "execution_count": 14,
   "id": "organic-explorer",
   "metadata": {
    "hidden": true
   },
   "outputs": [],
   "source": [
    "# 平均貯蓄率の計算\n",
    "saving = pwt.pivot(index='year', columns='country', values='csh_i')\n",
    "saving = saving.dropna(axis='columns')\n",
    "saving = saving.mean().to_frame('saving_rate')\n",
    "\n",
    "# 資本減耗率の平均の計算\n",
    "depreciation = pwt.pivot(index='year', columns='country', values='delta')\n",
    "depreciation = depreciation.dropna(axis='columns')\n",
    "depreciation = depreciation.mean().to_frame('depreciation')\n",
    "\n",
    "# 労働人口成長率の平均の計算\n",
    "emp = pwt.pivot(index='year', columns='country', values='emp')\n",
    "emp = emp.dropna(axis='columns')\n",
    "emp_growth = ( ( emp.loc[2019,:]/emp.loc[yr,:] )**(1/(2019-yr+1))-1 \n",
    "             ).to_frame('emp_growth')"
   ]
  },
  {
   "cell_type": "markdown",
   "id": "periodic-kuwait",
   "metadata": {
    "heading_collapsed": true,
    "hidden": true
   },
   "source": [
    "##### 一人当たりGDP成長率の平均"
   ]
  },
  {
   "cell_type": "markdown",
   "id": "comic-bundle",
   "metadata": {
    "hidden": true
   },
   "source": [
    "労働人口成長率の平均の計算と同じ方法で計算しよう。まず一人当たりGDPの列を作成する。"
   ]
  },
  {
   "cell_type": "code",
   "execution_count": null,
   "id": "spiritual-paste",
   "metadata": {
    "hidden": true
   },
   "outputs": [],
   "source": [
    "pwt['rgdpna_pc'] = pwt.loc[:,'rgdpna']/pwt.loc[:,'emp']"
   ]
  },
  {
   "cell_type": "code",
   "execution_count": null,
   "id": "analyzed-lafayette",
   "metadata": {
    "hidden": true
   },
   "outputs": [],
   "source": [
    "rgdpna_pc = pwt.pivot(index='year', columns='country', values='rgdpna_pc')\n",
    "rgdpna_pc = rgdpna_pc.dropna(axis='columns')\n",
    "growth = ( ( rgdpna_pc.loc[2019,:]/rgdpna_pc.loc[yr,:] )**(1/(2019-yr+1))-1 \n",
    "         ).to_frame('gdp_pc_growth')"
   ]
  },
  {
   "cell_type": "markdown",
   "id": "restricted-faith",
   "metadata": {
    "heading_collapsed": true,
    "hidden": true
   },
   "source": [
    "##### 1970年の一人当たりGDP"
   ]
  },
  {
   "cell_type": "markdown",
   "id": "marine-tension",
   "metadata": {
    "hidden": true
   },
   "source": [
    "３つの列`country`，`cgdpo`，`emp`からなる回帰分析用の`DataFrame`として`df_convergence`を作成する。"
   ]
  },
  {
   "cell_type": "code",
   "execution_count": null,
   "id": "accredited-metro",
   "metadata": {
    "hidden": true
   },
   "outputs": [],
   "source": [
    "df_convergence = pwt.query('year == @yr').loc[:,['country','cgdpo','emp']]"
   ]
  },
  {
   "cell_type": "markdown",
   "id": "saved-alexander",
   "metadata": {
    "hidden": true
   },
   "source": [
    "`df_convergence`に上で作成した貯蓄率などの`DataFrame`を結合していくが，その前に1960年の一人当たりGDP（対数）の列を付け加えよう。"
   ]
  },
  {
   "cell_type": "code",
   "execution_count": null,
   "id": "worst-finland",
   "metadata": {
    "hidden": true
   },
   "outputs": [],
   "source": [
    "df_convergence['gdp_pc_init_log'] = np.log( pwt.loc[:,'cgdpo']/pwt.loc[:,'emp'] )"
   ]
  },
  {
   "cell_type": "markdown",
   "id": "congressional-still",
   "metadata": {
    "hidden": true
   },
   "source": [
    "必須ではないが，２つの列`country`と`gdp_pc_init`とだけからなる`DataFrame`に整形する。その際，欠損値がある行は削除し，`country`を行ラベルに設定する。"
   ]
  },
  {
   "cell_type": "code",
   "execution_count": null,
   "id": "rental-single",
   "metadata": {
    "hidden": true
   },
   "outputs": [],
   "source": [
    "df_convergence = df_convergence.loc[:,['country','gdp_pc_init_log']] \\\n",
    "                               .set_index('country') \\\n",
    "                               .dropna()"
   ]
  },
  {
   "cell_type": "markdown",
   "id": "veterinary-accent",
   "metadata": {
    "heading_collapsed": true,
    "hidden": true
   },
   "source": [
    "##### `DataFrame`の結合"
   ]
  },
  {
   "cell_type": "markdown",
   "id": "incorporate-edward",
   "metadata": {
    "hidden": true
   },
   "source": [
    "上で作成した`DataFrame`を結合するが，`df_convergence`にまとめることにする。"
   ]
  },
  {
   "cell_type": "code",
   "execution_count": null,
   "id": "consistent-surveillance",
   "metadata": {
    "hidden": true,
    "scrolled": true
   },
   "outputs": [],
   "source": [
    "for df_right in [saving, depreciation, emp_growth, growth]:\n",
    "    df_convergence = df_convergence.merge(df_right,\n",
    "                                          left_index=True,\n",
    "                                          right_index=True,\n",
    "                                          how='outer')"
   ]
  },
  {
   "cell_type": "markdown",
   "id": "shared-tolerance",
   "metadata": {
    "hidden": true
   },
   "source": [
    "最後に欠損値がある行は全て削除する。"
   ]
  },
  {
   "cell_type": "code",
   "execution_count": null,
   "id": "close-strand",
   "metadata": {
    "hidden": true
   },
   "outputs": [],
   "source": [
    "df_convergence = df_convergence.dropna()"
   ]
  },
  {
   "cell_type": "markdown",
   "id": "robust-coordinate",
   "metadata": {
    "heading_collapsed": true,
    "hidden": true
   },
   "source": [
    "#### 成長率の分布"
   ]
  },
  {
   "cell_type": "markdown",
   "id": "architectural-klein",
   "metadata": {
    "hidden": true
   },
   "source": [
    "平均成長率のヒストグラムを図示してみよう。"
   ]
  },
  {
   "cell_type": "code",
   "execution_count": null,
   "id": "statutory-frontier",
   "metadata": {
    "hidden": true
   },
   "outputs": [],
   "source": [
    "growth_average = df_convergence.loc[:,'gdp_pc_growth'].mean() # 1\n",
    "\n",
    "fig, ax = plt.subplots(tight_layout=True)\n",
    "ax.hist('gdp_pc_growth', data=df_convergence,            # 2 \n",
    "                         bins=25, edgecolor='k')         # 3\n",
    "ax.axvline(growth_average , c='red')                     # 4\n",
    "ax.set_ylabel('国の数', size=15)\n",
    "ax.set_title('赤い線は平均', size=15)                      # 5\n",
    "fig.suptitle(f'{len(df_convergence)}ヵ国の平均成長率 (%)',  # 6\n",
    "             size=20)\n",
    "pass"
   ]
  },
  {
   "cell_type": "markdown",
   "id": "spare-tradition",
   "metadata": {
    "hidden": true
   },
   "source": [
    "```{admonition} コードの説明\n",
    ":class: dropdown\n",
    "\n",
    "1. 平均成長率の平均を計算し，結果を変数`growth_average`に割り当てている。\n",
    "2. `.hist`はヒストグラムをプロットする`ax`のメソッド。\n",
    "    * 第一引数はプロットしたい列ラベル（ここでは`gdp_pc_growth`）\n",
    "    * `data`は使用する`DataFrame`を指定する（ここでは`df_convergence`）\n",
    "3. `bins`は階級の数を指定する引数（ここでは`25`）。`edgecolor`はヒストグラムの棒の枠線の色を指定する引数で，`k`は黒を示す。`black`としても構わない。\n",
    "4. `axvline()`は縦の線を引く`ax`のメソッド\n",
    "    * 第一引数は横軸の値\n",
    "    * `c`は色を指定する引数\n",
    "5. `plt.subplots()`によって「軸」が`ax`に割り当てられるが，「軸」のタイトルを設定する`ax`のメソッドが`.set_title()`。\n",
    "    * `size`はフォントの大きさを指定する。\n",
    "6. `plt.subplots()`によって「キャンバス」が`fig`に割り当てられるが，「キャンバス」のタイトルを設定する`fig`のメソッドが`.suptitle()`。\n",
    "    * `f-string`を使って`{}`の中に`len(df_reg)`を代入している。\n",
    "    * `size`はフォントの大きさを指定する。\n",
    "    \n",
    "上のヒストグラムは[発展会計](chap:5a-accounting)の章の「はじめに」で表示したヒストグラムと次の点で異なる。\n",
    "* `df_convergence`は1970年以降のデータを使っている，「はじめに」のヒストグラムは1960年以降のデータを使っている。\n",
    "* `df_convergence`では労働者一人当たりGDPの成長率を使っているが，「はじめに」のヒストグラムは人口一人当たりGDPの成長率を使っている。前者は生産性，後者厚生を表していると解釈できる。\n",
    "* `df_convergence`は`DataFrame`のメソッド`.pivot()`を使いデータ整形をおこなったが，「はじめに」のヒストグラムでは`DataFrame`のメソッド`.groupby`を使っており，それを使うと国ごとの統計量を簡単に計算することができる。詳細については[このサイト](https://pandas.pydata.org/pandas-docs/stable/reference/api/pandas.DataFrame.groupby.html)を参照するか，「pandas groupby」で検索してみよう。\n",
    "```"
   ]
  },
  {
   "cell_type": "markdown",
   "id": "quiet-habitat",
   "metadata": {
    "hidden": true
   },
   "source": [
    "何％の国で平均を下回るか確認してみよう。"
   ]
  },
  {
   "cell_type": "code",
   "execution_count": null,
   "id": "pleased-occasion",
   "metadata": {
    "hidden": true
   },
   "outputs": [],
   "source": [
    "( df_convergence.loc[:,'gdp_pc_growth'] < growth_average ).sum() / len(df_convergence)"
   ]
  },
  {
   "cell_type": "markdown",
   "id": "british-marine",
   "metadata": {
    "hidden": true
   },
   "source": [
    "約半分の国の成長率は平均より低いことになる。しかし上でも説明したが，キャッチアップが起こっているかは平均の成長率との比較では確認できない。一方で，平均成長率が負の国もあり，それらの国は経済が縮小しており先進国に追いついているとは言えない。では，**平均**で貧しい国は豊かな国に追いついているのだろうか？回帰分析で検討する。"
   ]
  },
  {
   "cell_type": "markdown",
   "id": "russian-trick",
   "metadata": {
    "heading_collapsed": true,
    "hidden": true,
    "tags": [
     "remove-cell"
    ]
   },
   "source": [
    "#### 結果"
   ]
  },
  {
   "cell_type": "markdown",
   "id": "referenced-billy",
   "metadata": {
    "hidden": true
   },
   "source": [
    "(sec:9-regression_result)=\n",
    "#### 結果"
   ]
  },
  {
   "cell_type": "code",
   "execution_count": null,
   "id": "earned-laser",
   "metadata": {
    "hidden": true
   },
   "outputs": [],
   "source": [
    "formula_absolute = 'gdp_pc_growth ~ gdp_pc_init_log'\n",
    "res_absolute = sm.ols(formula_absolute, data=df_convergence).fit()\n",
    "print(res_absolute.summary().tables[1])"
   ]
  },
  {
   "cell_type": "code",
   "execution_count": null,
   "id": "located-spider",
   "metadata": {
    "code_folding": [
     8
    ],
    "hidden": true
   },
   "outputs": [],
   "source": [
    "# 予測値の列の作成\n",
    "df_convergence['fitted_absolute'] = res_absolute.fittedvalues\n",
    "\n",
    "# 図示\n",
    "ax_ = df_convergence.plot(x='gdp_pc_init_log',\n",
    "                          y='gdp_pc_growth',\n",
    "                          kind='scatter')\n",
    "df_convergence.sort_values('fitted_absolute') \\\n",
    "              .plot(x='gdp_pc_init_log',\n",
    "                    y='fitted_absolute',\n",
    "                    color='red',\n",
    "                    ax=ax_)\n",
    "pass"
   ]
  },
  {
   "cell_type": "markdown",
   "id": "divided-antibody",
   "metadata": {
    "hidden": true
   },
   "source": [
    "絶対的所得収斂が発生していることを示唆する結果になっている。しかし注意が必要な点がある。定常状態の**位置**の問題である。この回帰分析結果は，全ての国で定常状態が同じだということは示しておらず，むしろ，定常状態が全ての国で同一という仮定の下での推定結果である。次に，たの変数を含めた重回帰分析をおこなう必要があるが，その前に推定結果から所得収束速度計算してみよう。"
   ]
  },
  {
   "cell_type": "markdown",
   "id": "attended-eating",
   "metadata": {
    "heading_collapsed": true,
    "hidden": true
   },
   "source": [
    "#### 推定値$\\hat{b}$の意味"
   ]
  },
  {
   "cell_type": "markdown",
   "id": "convenient-horror",
   "metadata": {
    "hidden": true
   },
   "source": [
    "実際に[上の回帰分析](sec:9-regression_result)の$b$の推定値を使って収束速度を計算してみることにする。"
   ]
  },
  {
   "cell_type": "code",
   "execution_count": null,
   "id": "ruled-cylinder",
   "metadata": {
    "hidden": true
   },
   "outputs": [],
   "source": [
    "period = 2019-yr+1\n",
    "bhat = res_absolute.params[1]\n",
    "speed1970 = 1-(1+bhat*period)**(1/period)\n",
    "\n",
    "print(f'収束速度は約{100*speed1970:.3f}％です')"
   ]
  },
  {
   "cell_type": "markdown",
   "id": "quiet-papua",
   "metadata": {
    "hidden": true
   },
   "source": [
    "この結果は，定常状態までの「距離」は年平均で約0.75％減少することを意味する。ではこの数字をどう理解すれば良いだろうか。仮にもし絶対的所得収斂が成立しているとすると，この数字は大きいのだろうか，小さいのだろうか。この点を探るために，2019年の米国と平均の一人当たりGDPを使って0.75％の意味を考えてみる。"
   ]
  },
  {
   "cell_type": "code",
   "execution_count": null,
   "id": "resident-lingerie",
   "metadata": {
    "hidden": true
   },
   "outputs": [],
   "source": [
    "pwt['gdp_pc'] = pwt.loc[:,'rgdpna']/pwt.loc[:,'emp']\n",
    "\n",
    "cond = ( pwt.loc[:,'year']==2019 )\n",
    "gdp_pc = pwt.loc[cond,'gdp_pc']\n",
    "no = len(gdp_pc)                                   # 1\n",
    "gdp_pc_mean = gdp_pc.mean()\n",
    "\n",
    "cond = ( (pwt.loc[:,'year']==2019) &               # 2\n",
    "         (pwt.loc[:,'countrycode']=='USA') )\n",
    "gdp_pc_us = pwt.loc[cond,'gdp_pc'].to_numpy()[0]   # 3\n",
    "\n",
    "print('\\n--- 2019年の一人当たりGDP ---------\\n\\n'\n",
    "     f'{no}ヵ国の平均：\\t{gdp_pc_mean:.1f}\\n'        # 4\n",
    "     f'米国：\\t\\t{gdp_pc_us:.1f}\\n'\n",
    "     f'米国は平均の{gdp_pc_us/gdp_pc_mean:.1f}倍')"
   ]
  },
  {
   "cell_type": "markdown",
   "id": "anticipated-great",
   "metadata": {
    "hidden": true
   },
   "source": [
    "```{admonition} コードの説明\n",
    ":class: dropdown\n",
    "\n",
    "1. `len()`は`DataFrame`の行数を返す。\n",
    "2. `cond`は`True/False`の`Series`\n",
    "    * 右辺は２行にまたがっているので，右辺の一番外側の`()`が必要となる。\n",
    "    * `&`を使っているため`pwt.loc[:,'year']==2019`と`pwt.loc[:,'countrycode']=='USA'`はそれぞれ`()`に入れる。\n",
    "3. `pwt.loc[cond,'gdp_pc']`は`Series`を返すため，`.to_numpy()`で`Numpy`の`array`に変換し`0`番目の要素を抽出する。その抽出した値を`gdp_pc_us`に割り当てる。\n",
    "4. `f-string`を使い`{}`に`no`，`gdp_pc_mean`，`gdp_pc_us`，`gdp_pc_us/gdp_pc_mean`の値を代入している。`:.1f`は小数点第一位までの表示を指定している。また`\\t`はタブ。\n",
    "```"
   ]
  },
  {
   "cell_type": "markdown",
   "id": "alpha-bailey",
   "metadata": {
    "hidden": true
   },
   "source": [
    "この数字を使って，`n`年後に平均の経済が2019年の米国との所得格差を何％縮めることができるかを計算してみよう。まず次の変数を使って簡単な数式を考えてみよう。\n",
    "* $s$：収束速度（率）\n",
    "* $x_0$：所得格差\n",
    "* $x_t$：$t$期に残る所得差\n",
    "\n",
    "1年後の格差は\n",
    "\n",
    "$$x_1=x_0-sx_0=(1-s)x_0$$\n",
    "\n",
    "であり，一般的には\n",
    "\n",
    "$$x_{t}=(1-s)x_{t-1}$$\n",
    "\n",
    "逐次的に代入すると次式となる。\n",
    "\n",
    "$$x_{t}=(1-s)^tx_{0}$$\n",
    "\n",
    "この式を使って`n`年後に2019年当時の格差が何％残っているかを関数としてまとめる。"
   ]
  },
  {
   "cell_type": "code",
   "execution_count": null,
   "id": "framed-andorra",
   "metadata": {
    "hidden": true
   },
   "outputs": [],
   "source": [
    "def remaining_percent(n, s=speed1970):\n",
    "    \n",
    "    x0 = gdp_pc_us-gdp_pc_mean\n",
    "    x = ( 1-s )**n*x0\n",
    "    \n",
    "    return 100*x/x0"
   ]
  },
  {
   "cell_type": "markdown",
   "id": "advanced-walter",
   "metadata": {
    "hidden": true
   },
   "source": [
    "`for`ループを使って計算してみる。"
   ]
  },
  {
   "cell_type": "code",
   "execution_count": null,
   "id": "coupled-concentration",
   "metadata": {
    "hidden": true
   },
   "outputs": [],
   "source": [
    "print('\\n--- X年後に残る2019年当時の所得格差 ----------\\n')\n",
    "\n",
    "for n in [10,20,50,100,200,300,500,1000]:\n",
    "    print(f'{n}年後：{remaining_percent(n):.2f}％')"
   ]
  },
  {
   "cell_type": "markdown",
   "id": "persistent-saturday",
   "metadata": {
    "hidden": true
   },
   "source": [
    "この計算から収束速度0.75％の意味が理解できるたと思う。仮に絶対的所得収斂が成立したとしても，経済間の所得格差の解消には気が遠くなる程長い時間が掛かることを意味している。もちろんこの予測は過去50年間の経験がそのまま続いたらの話であり，GAFAやAI，中国の台頭やコロナ禍など今後様々な不確定要因が重なることを想定すると，この予測どおりにはならないだろうが，経済間の所得格差の解消は長い道のりであることは間違いなさそうである。"
   ]
  },
  {
   "cell_type": "markdown",
   "id": "grateful-supervision",
   "metadata": {
    "heading_collapsed": true,
    "hidden": true,
    "tags": [
     "remove-cell"
    ]
   },
   "source": [
    "### 重回帰分析：1970年〜2019年"
   ]
  },
  {
   "cell_type": "markdown",
   "id": "excess-garden",
   "metadata": {
    "hidden": true
   },
   "source": [
    "(sec:9-multiple_regression)=\n",
    "### 重回帰分析：1970年〜2019年"
   ]
  },
  {
   "cell_type": "markdown",
   "id": "owned-cinema",
   "metadata": {
    "hidden": true
   },
   "source": [
    "[単回帰分析](sec:9-simple_regression)では絶対的所得収斂を示唆する結果が示された。しかし推定結果は，貯蓄率など全ての経済構造が同じだと仮定し推定をおこなった。この仮定を取り除いた場合，初期の一人当たりGDPの推定値$\\hat{b}$は統計的有意性を保つことができるだろうか。そして他の変数の統計的有意性はどうだろうか。この点を確認するために，重回帰分析をおこなう。"
   ]
  },
  {
   "cell_type": "code",
   "execution_count": null,
   "id": "humanitarian-minister",
   "metadata": {
    "hidden": true,
    "scrolled": true
   },
   "outputs": [],
   "source": [
    "formula_conditional = ( 'gdp_pc_growth ~ saving_rate +'\n",
    "                                        'emp_growth +'\n",
    "                                        'depreciation +'\n",
    "                                        'gdp_pc_init_log' )\n",
    "\n",
    "res_conditional = sm.ols(formula_conditional, data=df_convergence).fit()\n",
    "\n",
    "print(res_conditional.summary().tables[1])"
   ]
  },
  {
   "cell_type": "markdown",
   "id": "egyptian-biodiversity",
   "metadata": {
    "hidden": true
   },
   "source": [
    "```{admonition} コードの説明\n",
    ":class: dropdown\n",
    "\n",
    "`formula_conditional`に回帰式が割り当てられているが，右辺は文字列が複数行にまたがっている。この場合は両端を`()`で囲み，文字列を一行毎`'`と`'`で囲む必要がある。もちろんシングル・クオート`'`の代わりにダブル・クオート`\"`を使っても良い。\n",
    "```"
   ]
  },
  {
   "cell_type": "markdown",
   "id": "auburn-mistake",
   "metadata": {
    "hidden": true
   },
   "source": [
    "まず推定値の符号に関するソロー・モデルの予測を考えるために，式[](eq:8-kss)，[](eq:8-lambda)，[](eq:9-a)を使って定数項$a$を３つのパラメータで表してみる。\n",
    "\n",
    "$$\n",
    "a\\equiv\\frac{1}{t}\n",
    "\\left[\n",
    "1-\\left(\n",
    "    1-\\frac{(1-a)(n+d)}{1+n}\n",
    "    \\right)^t\n",
    "\\right]\n",
    "\\times\n",
    "\\log\n",
    "\\left(\n",
    "     \\frac{As}{n+d}\n",
    "\\right)^{\\frac{1}{1-a}}\n",
    "$$ \n",
    "\n",
    "この式から次のことが分かる。\n",
    "* $a$は$s$の増加関数 $\\Rightarrow$ `saving_rate`の係数は正の値と予想される。\n",
    "* $a$は$n$の単調関数ではない $\\Rightarrow$ `emp_growth`の係数に関する予想は不明確。\n",
    "* $a$は$d$の単調関数ではない $\\Rightarrow$ `depreciation`の係数に関する予想は不明確。\n",
    "\n",
    "この予想に基づいて係数の統計的有意性を検討しよう。全ての係数の$p$値は非常に小さく統計的な有意性は高い。データに含まれている全ての経済の定常値が同じとは言えない。従って，絶対的所得収斂が成立していると判断できない。"
   ]
  },
  {
   "cell_type": "markdown",
   "id": "friendly-division",
   "metadata": {
    "heading_collapsed": true,
    "hidden": true
   },
   "source": [
    "### 単回帰分析：`for`ループで回帰分析"
   ]
  },
  {
   "cell_type": "markdown",
   "id": "allied-shift",
   "metadata": {
    "hidden": true
   },
   "source": [
    "上の単回帰・重回帰分析は1970年〜2019年のデータを使っている。他の期間ではどうだろうか。例えば，1980年〜2019年。一回ずつ推定するのも面倒なので`for`ループを使って一気に計算してみよう。もしかすると何か見えて来るかも知れない。最終年は全てのパターンで2019年として推定期間は次のようにしよう。\n",
    "* 1950~2019年\n",
    "* 1951~2019年\n",
    "* ・・・\n",
    "* ・・・\n",
    "* 1980~2019年\n",
    "* ・・・\n",
    "* ・・・\n",
    "* 2008~2019年\n",
    "* 2009~2019年\n",
    "\n",
    "まず単回帰の場合を考え次の３つのステップに分けてコードを書いていく。\n",
    "1. 引数`yr`に初期時点の一人当たりGDPの年（例えば，1950）を指定すると，回帰分析用の`DataFrame`を返す`data_for_regression(yr)`という関数を作成する。\n",
    "1. `for`ループで`data_for_regression(yr)`から生成される`DataFrame`を使い，次の４つの変数の推移を示す変数からなる`DataFrame`を作成する。\n",
    "    * 初期時点の一人当たりGDP（対数）の係数の推定値\n",
    "    * $p$値\n",
    "    * 決定係数\n",
    "    * 標本に含まれる国数\n",
    "1. ４つの変数の時系列プロット"
   ]
  },
  {
   "cell_type": "markdown",
   "id": "heard-ocean",
   "metadata": {
    "hidden": true
   },
   "source": [
    "ステップ１の`data_for_regression(yr)`は基本的に上で使ったコードを関数としてまとめることで作成する。重回帰分析も後で行うので，貯蓄率などの平均値も含む`DataFrame`を返す関数とする。"
   ]
  },
  {
   "cell_type": "code",
   "execution_count": null,
   "id": "spectacular-illinois",
   "metadata": {
    "hidden": true
   },
   "outputs": [],
   "source": [
    "def data_for_regression(yr):\n",
    "\n",
    "    # === 変数リスト ======================\n",
    "    var = ['country','year','rgdpna','cgdpo','emp','csh_i','delta']  \n",
    "    \n",
    "    # === 初期の変数を抽出 ======================\n",
    "    pwt = df.query('year >= @yr').loc[:, var]\n",
    "    \n",
    "    # === 平均貯蓄率の計算 ======================\n",
    "    saving = pwt.pivot(index='year', columns='country', values='csh_i')\n",
    "    saving = saving.dropna(axis='columns')\n",
    "    saving = saving.mean().to_frame('saving_rate')\n",
    "\n",
    "    # === 資本減耗率の平均の計算 ======================\n",
    "    depreciation = pwt.pivot(index='year', columns='country', values='delta')\n",
    "    depreciation = depreciation.dropna(axis='columns')\n",
    "    depreciation = depreciation.mean().to_frame('depreciation')\n",
    "\n",
    "    # === 労働人口成長率の平均の計算 ======================\n",
    "    emp = pwt.pivot(index='year', columns='country', values='emp')\n",
    "    emp = emp.dropna(axis='columns')\n",
    "    emp_growth = ( ( emp.loc[2019,:]/emp.loc[yr,:] )**(1/(2019-yr+1))-1 \n",
    "                 ).to_frame('emp_growth')\n",
    "    \n",
    "    # === 一人当たりGDP成長率の平均の計算 ======================\n",
    "    pwt['rgdpna_pc'] = pwt.loc[:,'rgdpna']/pwt.loc[:,'emp']\n",
    "    rgdpna_pc = pwt.pivot(index='year', columns='country', values='rgdpna_pc')\n",
    "    rgdpna_pc = rgdpna_pc.dropna(axis='columns')\n",
    "    growth = ( ( rgdpna_pc.loc[2019,:]/rgdpna_pc.loc[yr,:] )**(1/(2019-yr+1))-1 \n",
    "             ).to_frame('gdp_pc_growth')\n",
    "    \n",
    "    # === 初期の一人当たりGDPの計算 ======================\n",
    "    df_convergence = pwt.query('year == @yr').loc[:,['country','cgdpo','emp']]    \n",
    "    df_convergence['gdp_pc_init_log'] = np.log( pwt.loc[:,'cgdpo']/pwt.loc[:,'emp'] )\n",
    "    df_convergence = df_convergence.loc[:,['country','gdp_pc_init_log']] \\\n",
    "                                   .set_index('country') \\\n",
    "                                   .dropna()\n",
    "    \n",
    "    # === DataFrameの結合 ======================\n",
    "    for df_right in [saving, depreciation, emp_growth, growth]:\n",
    "        df_convergence = df_convergence.merge(df_right,\n",
    "                                              left_index=True,\n",
    "                                              right_index=True,\n",
    "                                              how='outer')\n",
    "\n",
    "    return df_convergence.dropna()"
   ]
  },
  {
   "cell_type": "markdown",
   "id": "roman-interim",
   "metadata": {
    "hidden": true
   },
   "source": [
    "`yr=1970`として関数を実行して内容を確認してみよう。"
   ]
  },
  {
   "cell_type": "code",
   "execution_count": null,
   "id": "exceptional-booking",
   "metadata": {
    "hidden": true
   },
   "outputs": [],
   "source": [
    "data_for_regression(1970).head()"
   ]
  },
  {
   "cell_type": "markdown",
   "id": "moving-template",
   "metadata": {
    "hidden": true
   },
   "source": [
    "ステップ２として，`for`ループを使って４つの変数からなる`DataFrame`を作成する。"
   ]
  },
  {
   "cell_type": "code",
   "execution_count": null,
   "id": "formed-brunei",
   "metadata": {
    "hidden": true
   },
   "outputs": [],
   "source": [
    "b_coef_list = []     # 1\n",
    "b_pval_list = []     # 2\n",
    "rsquared_list = []   # 3\n",
    "nobs_list = []       # 4\n",
    "yr_list = []         # 5\n",
    "\n",
    "formula = 'gdp_pc_growth ~ gdp_pc_init_log' # 6\n",
    "\n",
    "for yr in range(1950, 2010):                # 7\n",
    "    \n",
    "    df0 = data_for_regression(yr)           # 8 \n",
    "    res = sm.ols(formula, data=df0).fit()   # 9\n",
    "    c = res.params                          # 10\n",
    "    p = res.pvalues                         # 11\n",
    "    \n",
    "    b_coef_list.append( c[1] )              # 12\n",
    "    b_pval_list.append( p[1] )              # 13\n",
    "\n",
    "    rsquared_list.append( res.rsquared )    # 14\n",
    "    nobs_list.append( int(res.nobs) )       # 15\n",
    "    yr_list.append(yr)                      # 16\n",
    "\n",
    "                                            # 17\n",
    "df_simple_result = pd.DataFrame({'初期の一人当たりGDPの係数':b_coef_list,\n",
    "                                 'p値（初期の一人当たりGDP）':b_pval_list,\n",
    "                                 '決定係数':rsquared_list,\n",
    "                                 '国の数':nobs_list},\n",
    "                                 index=yr_list)"
   ]
  },
  {
   "cell_type": "markdown",
   "id": "interstate-reception",
   "metadata": {
    "hidden": true
   },
   "source": [
    "```{admonition} コードの説明\n",
    ":class: dropdown\n",
    "\n",
    "1. 初期の一人当たりGDP（対数）の係数の推定値を格納する空のリスト\n",
    "2. 初期の一人当たりGDP（対数）p値を格納する空のリスト\n",
    "3. 決定係数を格納する空のリスト\n",
    "4. 標本の大きさ（国数）を格納する空のリスト\n",
    "5. 回帰分析で初期時点の`year`を格納する空のリスト\n",
    "6. 回帰式。`for`ループの中では同じ回帰式を使うので`for`ループの外に配置している。\n",
    "7. 1950-2009年を初期時点とする`for`ループの開始\n",
    "8. `data_for_regression(yr)`を使い`yr`を初期時点として回帰分析に使う`DataFrame`を`df0`に割り当てる。\n",
    "9. 回帰分析の計算結果を`res`に割り当てる。\n",
    "10. `res`の属性`.params`（推定値の値）を`c`に割り当てる。\n",
    "11. `res`の属性`.pvalues`（p値）を`p`に割り当てる。\n",
    "12. `c`の一番目の要素を`b_coef_list`に追加する。\n",
    "13. `p`の一番目の要素を`b_pval_list`に追加する。\n",
    "14. `res`の属性`.rsquared`は決定係数を返す。それを`rsquared_list`に追加する。\n",
    "15. `res`の属性`.nobs`は標本の大きさ（国数と同じ）を返す。それを`nobs_list`に追加する。\n",
    "16. 初期に使った`yr`を`yr_list`に追加する。\n",
    "17. `for`ループの結果を使い`DataFrame`を作成し`df_simple_result`に割り当てる。\n",
    "```"
   ]
  },
  {
   "cell_type": "markdown",
   "id": "secret-college",
   "metadata": {
    "hidden": true
   },
   "source": [
    "作成した`DataFrame`を確認してみる。"
   ]
  },
  {
   "cell_type": "code",
   "execution_count": null,
   "id": "emotional-investing",
   "metadata": {
    "hidden": true
   },
   "outputs": [],
   "source": [
    "df_simple_result.head(3)"
   ]
  },
  {
   "cell_type": "markdown",
   "id": "formal-prototype",
   "metadata": {
    "hidden": true
   },
   "source": [
    "それぞれの列には計算した変数が並んでおり，行インデックスには年が配置されている。初期時点を1970年とする結果を確かめてみよう。"
   ]
  },
  {
   "cell_type": "code",
   "execution_count": null,
   "id": "assigned-thousand",
   "metadata": {
    "hidden": true
   },
   "outputs": [],
   "source": [
    "df_simple_result.loc[[1970],:]"
   ]
  },
  {
   "cell_type": "markdown",
   "id": "flush-plumbing",
   "metadata": {
    "hidden": true
   },
   "source": [
    "[上の](sec:9-multiple_regression)の結果と同じになることが確認できる。"
   ]
  },
  {
   "cell_type": "markdown",
   "id": "thorough-magic",
   "metadata": {
    "hidden": true
   },
   "source": [
    "ステップ３として`df_reg_result`のメソッド`.plot()`を使い時系列データをプロットする。"
   ]
  },
  {
   "cell_type": "code",
   "execution_count": null,
   "id": "starting-mercy",
   "metadata": {
    "hidden": true
   },
   "outputs": [],
   "source": [
    "df_simple_result.plot(subplots=True, figsize=(6,8))\n",
    "pass"
   ]
  },
  {
   "cell_type": "markdown",
   "id": "irish-montana",
   "metadata": {
    "hidden": true
   },
   "source": [
    "一番上の図から初期の一人当たりGDPの係数の推定値は全て負の値となることがわかる。しかし二番目の図からわかるように，1950年年代半ばまでの推定値の統計的優位性低いが，それ以降は高いようだ。1955年以降だけを表示してみよう。"
   ]
  },
  {
   "cell_type": "code",
   "execution_count": null,
   "id": "upset-bumper",
   "metadata": {
    "hidden": true
   },
   "outputs": [],
   "source": [
    "col_name = df_simple_result.columns[1]  # 1\n",
    "\n",
    "ax_ = df_simple_result.loc[1955:,col_name].plot()\n",
    "ax_.axhline(0.05, c='red')              # 2\n",
    "ax_.set_title('初期時点の一人当たりGDPの係数のp値', size=18)\n",
    "pass"
   ]
  },
  {
   "cell_type": "markdown",
   "id": "egyptian-diana",
   "metadata": {
    "hidden": true
   },
   "source": [
    "```{admonition} コードの説明\n",
    ":class: dropdown\n",
    "\n",
    "1. $p$値が格納される列のラベルは`p値（初期の一人当たりGDP）`であり，これを直接書くには面倒であり，また全角を使うのを極力避けたい。その為に列ラベルを抽出している。`.columns`は列ラベルを返する属性であり，その一番目の要素が目的の列ラベルである。\n",
    "2. `.axhline()`は横線を引くメソッド。\n",
    "```"
   ]
  },
  {
   "cell_type": "markdown",
   "id": "friendly-myanmar",
   "metadata": {
    "hidden": true
   },
   "source": [
    "推定値は0となる帰無仮説を5%の優位水準で棄却できる。即ち，少なくとも1955年以降は絶対的所得収斂を示唆している。"
   ]
  },
  {
   "cell_type": "markdown",
   "id": "increasing-solution",
   "metadata": {
    "heading_collapsed": true,
    "hidden": true,
    "tags": [
     "remove-cell"
    ]
   },
   "source": [
    "### 重回帰分析：`for`ループで回帰分析"
   ]
  },
  {
   "cell_type": "markdown",
   "id": "buried-romance",
   "metadata": {
    "hidden": true
   },
   "source": [
    "(sec:9-multiple_for_loop)=\n",
    "### 重回帰分析：`for`ループで回帰分析"
   ]
  },
  {
   "cell_type": "markdown",
   "id": "naval-software",
   "metadata": {
    "hidden": true
   },
   "source": [
    "次のステップとして定常状態に関する３つの変数を追加して回帰分析をおこなう。ここでも`for`ループを使い，最終的にはプロットで結果を確認することにする。基本的には`for`ループを使った単回帰分析と同じ方法をとるが，ステップ１の関数`data_for_regression(yr)`は重回帰分析でもそのまま使えるので，ステップ２から始める。次のコードは上で使ったコードの修正版である。新たに追加した箇所だけに番号を振って説明することにする。"
   ]
  },
  {
   "cell_type": "code",
   "execution_count": null,
   "id": "breathing-inflation",
   "metadata": {
    "hidden": true
   },
   "outputs": [],
   "source": [
    "saving_coef_list = []                            # 1\n",
    "saving_pval_list = []                            # 2\n",
    "emp_growth_coef_list = []                        # 3\n",
    "emp_growth_pval_list = []                        # 4\n",
    "depreciation_coef_list = []                      # 5\n",
    "depreciation_pval_list = []                      # 6\n",
    "b_coef_list = []\n",
    "b_pval_list = []\n",
    "rsquared_list = []\n",
    "nobs_list = []\n",
    "yr_list = []\n",
    "\n",
    "formula = ( 'gdp_pc_growth ~ saving_rate +'      # 7\n",
    "                            'emp_growth +'\n",
    "                            'depreciation +'\n",
    "                            'gdp_pc_init_log' )\n",
    "\n",
    "for yr in range(1950, 2010):\n",
    "    \n",
    "    df0 = data_for_regression(yr)\n",
    "    res = sm.ols(formula, data=df0).fit()\n",
    "    c = res.params\n",
    "    p = res.pvalues\n",
    "        \n",
    "    saving_coef_list.append( c[1] )              # 8\n",
    "    saving_pval_list.append( p[1] )              # 9\n",
    "    \n",
    "    emp_growth_coef_list.append( c[2] )          # 10\n",
    "    emp_growth_pval_list.append( p[2] )          # 11\n",
    "    \n",
    "    depreciation_coef_list.append( c[3] )        # 12\n",
    "    depreciation_pval_list.append( p[3] )        # 13\n",
    "    \n",
    "    b_coef_list.append( c[4] )                   # 14\n",
    "    b_pval_list.append( p[4] )                   # 15\n",
    "\n",
    "    rsquared_list.append( res.rsquared )\n",
    "    nobs_list.append( int(res.nobs) )\n",
    "    yr_list.append(yr)\n",
    "\n",
    "                                                 # 16\n",
    "df_multiple_result = pd.DataFrame({'貯蓄率の係数':saving_coef_list,\n",
    "                                   'p値（貯蓄率）':saving_pval_list,\n",
    "                                   '労働人口増加率の係数':emp_growth_coef_list,\n",
    "                                   'p値（労働人口増加率）':emp_growth_pval_list,\n",
    "                                   '資本減耗率の係数':depreciation_coef_list,\n",
    "                                   'p値（資本減耗率）':depreciation_pval_list,\n",
    "                                   '初期の一人当たりGDPの係数':b_coef_list,\n",
    "                                   'p値（初期の一人当たりGDP）':b_pval_list,\n",
    "                                   '決定係数':rsquared_list,\n",
    "                                   '国の数':nobs_list},\n",
    "                                   index=yr_list)"
   ]
  },
  {
   "cell_type": "markdown",
   "id": "pleased-death",
   "metadata": {
    "hidden": true
   },
   "source": [
    "```{admonition} コードの説明\n",
    ":class: dropdown\n",
    "\n",
    "1. 貯蓄率$s$の係数を格納する空のリスト。\n",
    "2. 貯蓄率$s$の$p$値を格納する空のリスト。\n",
    "3. 労働人口増加率$n$の係数を格納する空のリスト。\n",
    "4. 労働人口増加率$n$の$p$値を格納する空のリスト。\n",
    "5. 資本減耗率$d$の係数を格納する空のリスト。\n",
    "6. 資本減耗率$d$の$p$値を格納する空のリスト。\n",
    "7. 回帰式が複数行に続いているので，右辺の両端に`()`を使っている。また文字列は一行ずつ`'`と`'`で囲むこと。もちろんシングル・クオート`'`の代わりにダブル・クオート`\"`を使っても良い。\n",
    "8. `c`には推定値が`Series`として入っているので，`c[1]`で$s$の推定値を取得し`saving_coef_list`に割り当てる。\n",
    "9. `p`には$p$値が`Series`として入っているので，`p[1}`で$s$の$p$値を取得し`saving_pval_list`に割り当てる。\n",
    "10. `c[2]`で$n$の推定値を取得し`emp_growth_coef_list`に割り当てる。\n",
    "11. `p[2]`で$n$の$p$値を取得し`emp_growth_pval_list`に割り当てる。\n",
    "12. `c[3]`で$d$の推定値を取得し`depreciation_coef_list`に割り当てる。\n",
    "13. `p[3]`で$d$の$p$値を取得し`depreciation_pval_list`に割り当てる。\n",
    "14. `c[4]`で初期時点の一人当たりGDPの係数の推定値を取得し`b_coef_list`に割り当てる。\n",
    "15. `p[4]`で初期時点の一人当たりGDPの係数の$p$値を取得し`b_pval_list`に割り当てる。\n",
    "16. `for`ループの結果を使い`DataFrame`を作成し`df_multiple_result`に割り当てる。\n",
    "```"
   ]
  },
  {
   "cell_type": "markdown",
   "id": "cross-father",
   "metadata": {
    "hidden": true
   },
   "source": [
    "作成した`DataFrame`を確認してみる。"
   ]
  },
  {
   "cell_type": "code",
   "execution_count": null,
   "id": "planned-universe",
   "metadata": {
    "hidden": true
   },
   "outputs": [],
   "source": [
    "df_multiple_result.head(3)"
   ]
  },
  {
   "cell_type": "markdown",
   "id": "expired-reynolds",
   "metadata": {
    "hidden": true
   },
   "source": [
    "定常状態に関連する変数の推定値と$p$値が追加されているのが確認できる。"
   ]
  },
  {
   "cell_type": "code",
   "execution_count": null,
   "id": "flexible-madness",
   "metadata": {
    "hidden": true
   },
   "outputs": [],
   "source": [
    "df_multiple_result.loc[[1970],:]"
   ]
  },
  {
   "cell_type": "markdown",
   "id": "authentic-horizon",
   "metadata": {
    "hidden": true
   },
   "source": [
    "[上の](sec:9-regression_result)の結果と同じになることが確認できる。"
   ]
  },
  {
   "cell_type": "markdown",
   "id": "injured-scope",
   "metadata": {
    "hidden": true
   },
   "source": [
    "ステップ３として`df_multiple_result`のメソッド`.plot()`を使い時系列データをプロットする。"
   ]
  },
  {
   "cell_type": "code",
   "execution_count": null,
   "id": "acute-penguin",
   "metadata": {
    "hidden": true
   },
   "outputs": [],
   "source": [
    "df_multiple_result.iloc[:,list(range(0,8))].plot(                # 1\n",
    "                                                 subplots=True,  # 2\n",
    "                                                 layout=(4,2),   # 3\n",
    "                                                 figsize=(10,8)) # 4\n",
    "pass"
   ]
  },
  {
   "cell_type": "markdown",
   "id": "received-fiction",
   "metadata": {
    "hidden": true
   },
   "source": [
    "````{admonition} コードの説明\n",
    ":class: dropdown\n",
    "\n",
    "1. `DataFrame`には10の列があるが，ここでは８つだけ表示するために`.iloc`を使っている。この場合，列をインデックスで指定する必要がある。`[0,1,2,3,4,5,6,7,8]`を作成するために`range(0,9)`で0~8の整数を準備し関数`list()`を使ってリストに変換している。次の内包表記でも同じ結果となる。\n",
    "```\n",
    "[i for i in range(0,9)]\n",
    "```\n",
    "2. `subplots=True`として複数の「軸」を表示している。\n",
    "3. `layout=(4,2)`は４つの行と２の列の形で「軸」が表示されるようにレイアウトを指定している。\n",
    "4. `figsize=(10,8)`はキャンバスの大きさを指定している。\n",
    "````"
   ]
  },
  {
   "cell_type": "markdown",
   "id": "superb-wisconsin",
   "metadata": {
    "hidden": true
   },
   "source": [
    "係数の符号は資本減耗率以外は期待どおりである。$p$値に関しては，1950年半ばから2000年頃までの全ての変数の統計的有意性は高い。従って，それぞれの期間で絶対的所得収斂が成立しているとは判断できない。"
   ]
  },
  {
   "cell_type": "markdown",
   "id": "sealed-festival",
   "metadata": {
    "heading_collapsed": true
   },
   "source": [
    "## クラブ収斂"
   ]
  },
  {
   "cell_type": "markdown",
   "id": "jewish-reservation",
   "metadata": {
    "hidden": true
   },
   "source": [
    "[「所得分布の推移」の節](sec:9-distribution)ではキャッチアップを示唆する結果が示された。一方，[「所得収斂」の節](sec:9-convergence)では絶対的所得収斂のエビデンスはなかった。相反する結果をどのように解釈すれば良いのだろうか。一つの可能性は「クラブ収斂」という概念である。世界全ての経済の定常状態が同じだと仮定するのは無理があると感じるの当たり前かも知れない。日本を含むOECD諸国とサブサハラ・アフリカ地域の国の違いを漠然と考えても，納得できるかも知れない。しかし，ある特性を共有する国では定常状態が概ね同じだとする仮定が成り立つかも知れない。典型的な例がOECD諸国である。ある「クラブ」に属している国の中で所得収斂が発生して，それが世界全体の所得分布の変化に現れている可能性も否定できない。ここではこの問題に焦点を当て，クラブ収斂があるかを確認する。国の集合である「クラブ」は様々な特徴でグループ化できるので，多くの組み合わせがあり得る。ここでは`py4macro`モジュールのPenn World Tableの変数を使い代表的なグループを考察するが，読者はここでは考えないグループ化を試してみてはどうだろうか。"
   ]
  },
  {
   "cell_type": "markdown",
   "id": "written-watson",
   "metadata": {
    "hidden": true
   },
   "source": [
    "まず関数`data_for_regression()`を修正して，あるグループからデータを抽出できる関数を定義する。新たな関数名は`data_for_regression_group`として次の５つの引数がある。\n",
    "* `yr`：初期時点の年（以前と同じ）\n",
    "* `oecd`：1990年代に始まった中央ヨーロッパへの拡大前にOECDメンバー国だけを抽出する場合は`1`（整数），その他の国を選択する場合は`0`（整数）を設定する。\n",
    "* `income_group`：世界銀行は所得水準に従って国を次の４つに分けている。それぞれを選択する場合は文字列で指定する。\n",
    "    * `High income`\n",
    "    * `Upper middle income`\n",
    "    * `Lower middle income`\n",
    "    * `Low income`\n",
    "* `region`：世界銀行が国・地域に従って分けた７つのグループ。それぞれを選択する場合は文字列で指定する。\n",
    "    * `East Asia & Pacific`\n",
    "    * `Europe & Central Asia`\n",
    "    * `Latin America & Caribbean`\n",
    "    * `Middle East & North Africa`\n",
    "    * `North America`\n",
    "    * `South Asia`\n",
    "    * `Sub-Saharan Africa`\n",
    "* `continent`：南極以外の6大陸。それぞれを選択する場合は文字列で指定する。\n",
    "    * `Africa`\n",
    "    * `Asia`\n",
    "    * `Australia`\n",
    "    * `Europe`   \n",
    "    * `North America`\n",
    "    * `South America`"
   ]
  },
  {
   "cell_type": "markdown",
   "id": "catholic-collectible",
   "metadata": {
    "hidden": true
   },
   "source": [
    "＜注意＞\n",
    "* グループを指定する引数４つは同時に指定することはできない。\n",
    "* グループを指定する引数を指定しな場合は，`data_for_regression()`と同じようにデータがある国は全て含まれる。\n",
    "\n",
    "＜例＞\n",
    "1. 1980年のOECD以外の国全てのデータを抽出する場合：\n",
    "    ```\n",
    "    data_for_regression_group(1980, oecd=0)\n",
    "    ```\n",
    "1. 1960年の`region`が`Latin America & Caribbean`の場合：\n",
    "    ```\n",
    "    data_for_regression_group(1960, region='Latin America & Caribbean')\n",
    "    ```"
   ]
  },
  {
   "cell_type": "code",
   "execution_count": null,
   "id": "occupational-fabric",
   "metadata": {
    "hidden": true
   },
   "outputs": [],
   "source": [
    "def data_for_regression_group(yr, oecd=None,          # 修正\n",
    "                                  income_group=None,  # 修正\n",
    "                                  region=None,        # 修正\n",
    "                                  continent=None):    # 修正\n",
    "\n",
    "    # === 変数リスト ======================\n",
    "    var = ['country','year','rgdpna','cgdpo','emp','csh_i','delta']  \n",
    "    \n",
    "    # === 初期の変数を抽出 ====================== 修正\n",
    "    if (oecd==None) & (income_group==None) & (region==None) & (continent==None):\n",
    "        pwt = df.query('year >= @yr').loc[:, var]\n",
    "        \n",
    "    elif (oecd != None) & (income_group==None) & (region==None) & (continent==None):\n",
    "        if oecd==1:\n",
    "            pwt = df.query('year >= @yr & oecd == 1').loc[:, var]\n",
    "        elif oecd==0:\n",
    "            pwt = df.query('year >= @yr & oecd == 0').loc[:, var]\n",
    "        else:\n",
    "            print('引数を確認しましょう (^o^)/')\n",
    "        \n",
    "    elif (oecd==None) & (income_group != None) & (region==None) & (continent==None):\n",
    "        if income_group not in ['High income',\n",
    "                                'Upper middle income',\n",
    "                                'Lower middle income',\n",
    "                                'Low income']:\n",
    "            print('引数を確認しましょう (^o^)/')\n",
    "        else:\n",
    "            pwt = df.query('year >= @yr & income_group == @income_group').loc[:, var]\n",
    "        \n",
    "    elif (oecd==None) & (income_group==None) & (region != None) & (continent==None):\n",
    "        if region not in ['East Asia & Pacific',\n",
    "                           'Europe & Central Asia',\n",
    "                           'Latin America & Caribbean',\n",
    "                           'Middle East & North Africa',\n",
    "                           'North America',\n",
    "                           'South Asia',\n",
    "                           'Sub-Saharan Africa']:\n",
    "            print('引数を確認しましょう (^o^)/')\n",
    "        else:\n",
    "            pwt = df.query('year >= @yr & region == @region').loc[:, var]\n",
    "        \n",
    "    elif (oecd==None) & (income_group==None) & (region==None) & (continent != None):\n",
    "        if continent not in ['Africa',\n",
    "                             'Asia',\n",
    "                             'Australia',\n",
    "                             'Europe',\n",
    "                             'North America',\n",
    "                             'South America']:\n",
    "            print('引数を確認しましょう (^o^)/')\n",
    "        else:\n",
    "            pwt = df.query('year >= @yr & continent == @continent').loc[:, var]\n",
    "    \n",
    "    else:\n",
    "        print('何かおかしいですよ。引数を確認しましょう (^o^)/')\n",
    "\n",
    "    # === 平均貯蓄率の計算 ======================\n",
    "    saving = pwt.pivot(index='year', columns='country', values='csh_i')\n",
    "    saving = saving.dropna(axis='columns')\n",
    "    saving = saving.mean().to_frame('saving_rate')\n",
    "\n",
    "    # === 資本減耗率の平均の計算 ======================\n",
    "    depreciation = pwt.pivot(index='year', columns='country', values='delta')\n",
    "    depreciation = depreciation.dropna(axis='columns')\n",
    "    depreciation = depreciation.mean().to_frame('depreciation')\n",
    "\n",
    "    # === 労働人口成長率の平均の計算 ======================\n",
    "    emp = pwt.pivot(index='year', columns='country', values='emp')\n",
    "    emp = emp.dropna(axis='columns')\n",
    "    emp_growth = ( ( emp.loc[2019,:]/emp.loc[yr,:] )**(1/(2019-yr+1))-1 \n",
    "                 ).to_frame('emp_growth')\n",
    "    \n",
    "    # === 一人当たりGDP成長率の平均の計算 ======================\n",
    "    pwt['rgdpna_pc'] = pwt.loc[:,'rgdpna']/pwt.loc[:,'emp']\n",
    "    rgdpna_pc = pwt.pivot(index='year', columns='country', values='rgdpna_pc')\n",
    "    rgdpna_pc = rgdpna_pc.dropna(axis='columns')\n",
    "    growth = ( ( rgdpna_pc.loc[2019,:]/rgdpna_pc.loc[yr,:] )**(1/(2019-yr+1))-1 \n",
    "             ).to_frame('gdp_pc_growth')\n",
    "    \n",
    "    # === 初期の一人当たりGDPの計算 ======================\n",
    "    df_convergence = pwt.query('year == @yr').loc[:,['country','cgdpo','emp']]    \n",
    "    df_convergence['gdp_pc_init_log'] = np.log( pwt.loc[:,'cgdpo']/pwt.loc[:,'emp'] )\n",
    "    df_convergence = df_convergence.loc[:,['country','gdp_pc_init_log']] \\\n",
    "                                   .set_index('country') \\\n",
    "                                   .dropna()\n",
    "    \n",
    "    # === DataFrameの結合 ======================\n",
    "    for df_right in [saving, depreciation, emp_growth, growth]:\n",
    "        df_convergence = df_convergence.merge(df_right,\n",
    "                                              left_index=True,\n",
    "                                              right_index=True,\n",
    "                                              how='outer')\n",
    "\n",
    "    return df_convergence.dropna()  # 修正"
   ]
  },
  {
   "cell_type": "markdown",
   "id": "significant-income",
   "metadata": {
    "hidden": true
   },
   "source": [
    "```{admonition} コードの説明\n",
    ":class: dropdown\n",
    "\n",
    "`data_for_regression`と異なる箇所は次の２点：\n",
    "* `# 修正`ある５箇所\n",
    "* `# === 初期の変数を抽出 ====================== 修正`とある箇所\n",
    "    * 授業の範囲を超えそうなので説明は割愛する\n",
    "```"
   ]
  },
  {
   "cell_type": "markdown",
   "id": "reported-learning",
   "metadata": {
    "hidden": true
   },
   "source": [
    "実際に，1980年の`oecd=1`として関数を実行して内容を確認してみよう。"
   ]
  },
  {
   "cell_type": "code",
   "execution_count": null,
   "id": "wrapped-proposition",
   "metadata": {
    "hidden": true,
    "tags": [
     "output_scroll"
    ]
   },
   "outputs": [],
   "source": [
    "data_for_regression_group(1980, oecd=1)"
   ]
  },
  {
   "cell_type": "markdown",
   "id": "alleged-safety",
   "metadata": {
    "hidden": true
   },
   "source": [
    "先進国だけが並んでいることが確認できる。\n",
    "\n",
    "次に，`data_for_regression_group()`で整形されたデータに基づいて回帰分析をおこなうが，何回も計算しやすいように回帰分析結果を`DataFrame`として返す関数を定義する。関数を利用することにより，簡単に色々な「クラブ」のパターンを試すことが可能となる。関数の中身は[重回帰分析：`for`ループで回帰分析](sec:9-multiple_for_loop)で使った`for`ループのコードを３箇所だけ変更して再利用する。"
   ]
  },
  {
   "cell_type": "code",
   "execution_count": null,
   "id": "angry-routine",
   "metadata": {
    "hidden": true
   },
   "outputs": [],
   "source": [
    "def regression_result(**kwargs):                      # 1\n",
    "\n",
    "    saving_coef_list = []\n",
    "    saving_pval_list = []\n",
    "    emp_growth_coef_list = []\n",
    "    emp_growth_pval_list = []\n",
    "    depreciation_coef_list = []\n",
    "    depreciation_pval_list = []\n",
    "    b_coef_list = []\n",
    "    b_pval_list = []\n",
    "    rsquared_list = []\n",
    "    nobs_list = []\n",
    "    yr_list = []\n",
    "\n",
    "    formula = ( 'gdp_pc_growth ~ saving_rate +'\n",
    "                                'emp_growth +'\n",
    "                                'depreciation +'\n",
    "                                'gdp_pc_init_log' )\n",
    "\n",
    "    for yr in range(1950, 2010):\n",
    "\n",
    "        df0 = data_for_regression_group(yr, **kwargs)  # 2\n",
    "        res = sm.ols(formula, data=df0).fit()\n",
    "        c = res.params\n",
    "        p = res.pvalues\n",
    "\n",
    "        saving_coef_list.append( c[1] )\n",
    "        saving_pval_list.append( p[1] )\n",
    "\n",
    "        emp_growth_coef_list.append( c[2] )\n",
    "        emp_growth_pval_list.append( p[2] )\n",
    "\n",
    "        depreciation_coef_list.append( c[3] )\n",
    "        depreciation_pval_list.append( p[3] )\n",
    "\n",
    "        b_coef_list.append( c[4] )\n",
    "        b_pval_list.append( p[4] )\n",
    "\n",
    "        rsquared_list.append( res.rsquared )\n",
    "        nobs_list.append( int(res.nobs) )\n",
    "        yr_list.append(yr)\n",
    "\n",
    "    return pd.DataFrame({'貯蓄率の係数':saving_coef_list,   # 3\n",
    "                         'p値（貯蓄率）':saving_pval_list,\n",
    "                         '労働人口増加率の係数':emp_growth_coef_list,\n",
    "                         'p値（労働人口増加率）':emp_growth_pval_list,\n",
    "                         '資本減耗率の係数':depreciation_coef_list,\n",
    "                         'p値（資本減耗率）':depreciation_pval_list,\n",
    "                         '初期の一人当たりGDPの係数':b_coef_list,\n",
    "                         'p値（初期の一人当たりGDP）':b_pval_list,\n",
    "                         '決定係数':rsquared_list,\n",
    "                         '国の数':nobs_list},\n",
    "                         index=yr_list)"
   ]
  },
  {
   "cell_type": "markdown",
   "id": "greatest-jacob",
   "metadata": {
    "hidden": true
   },
   "source": [
    "````{admonition} コードの説明\n",
    ":class: dropdown\n",
    "\n",
    "1. 関数なので`def`を使うが，重要なのは引数`**kwargs`。「キーワード引数ならなんでも書いて良いよ」いう意味で，全てのキーワード引数は`**kwargs`に格納される。ここでのキーワード引数は関数`data_for_regression_group()`を想定している。(2)を確認しよう。\n",
    "2. (1)で設定されたキーワード引数は`**kwargs`に入っているので，それを`data_for_regression_group()`の引数として設定している。`data_for_regression_group()`が想定しないキーワード引数が`**kwargs`に入っていると`data_for_regression_group()`はエラーなどを出す事になる。次のように使う。\n",
    "    ```\n",
    "    regression_result(continent='Europe')\n",
    "    ```\n",
    "   この場合，`**kwargs`に`continent='Europe'`が格納され，`data_for_regression_group()`に渡される事になる。\n",
    "3. `DataFrame`を直接返すようにしようとなっている。\n",
    "````"
   ]
  },
  {
   "cell_type": "markdown",
   "id": "knowing-cursor",
   "metadata": {
    "hidden": true
   },
   "source": [
    "準備ができたので，実際に回帰分析をしてみよう。まず`oecd`諸国だけを抽出し結果をプロットする。"
   ]
  },
  {
   "cell_type": "code",
   "execution_count": null,
   "id": "combined-denmark",
   "metadata": {
    "hidden": true
   },
   "outputs": [],
   "source": [
    "regression_result(oecd=1).iloc[:,list(range(0,8))] \\\n",
    "                         .plot(subplots=True,\n",
    "                               layout=(4,2),\n",
    "                               figsize=(10,8))\n",
    "pass"
   ]
  },
  {
   "cell_type": "markdown",
   "id": "touched-helicopter",
   "metadata": {
    "hidden": true
   },
   "source": [
    "貯蓄率と労働人口増加率の係数がマイナスなる場合もあり，統計的有意性も低い。一方で資本減耗率の有意性はある程度高い。単回帰分析で確認できるが，初期の一人当たりGDPの係数はマイナスで有意性も高い。全ての経済を使うケースよりも所得収斂により近い結果である。\n",
    "\n",
    "次に`region`で`East Asia & Pacific`を考えてみよう。"
   ]
  },
  {
   "cell_type": "code",
   "execution_count": null,
   "id": "intended-sculpture",
   "metadata": {
    "hidden": true
   },
   "outputs": [],
   "source": [
    "asia = regression_result(region='East Asia & Pacific')\n",
    "asia.iloc[:,list(range(0,8))].plot(subplots=True, layout=(4,2), figsize=(10,8))\n",
    "pass"
   ]
  },
  {
   "cell_type": "markdown",
   "id": "plain-player",
   "metadata": {
    "hidden": true
   },
   "source": [
    "`East Asia & Pacific`では所得収斂が発生していること示している。初期の一人当たりGDPの$p$値が5％以下になるのは何年からか確認してみよう。"
   ]
  },
  {
   "cell_type": "code",
   "execution_count": null,
   "id": "unavailable-evidence",
   "metadata": {
    "hidden": true
   },
   "outputs": [],
   "source": [
    "cond = ( asia.iloc[:,7] < 0.05 )  # 1\n",
    "asia.loc[cond,:].index            # 2"
   ]
  },
  {
   "cell_type": "markdown",
   "id": "laughing-chester",
   "metadata": {
    "hidden": true
   },
   "source": [
    "```{admonition} コートの説明\n",
    ":class: dropdown\n",
    "\n",
    "1. 第７列目（初期の一人当たりGDPの$p$値）の要素が0.05より小さい場合は`True`，そうでない場合は`False`を返す。\n",
    "2. (1)で`True`の行を抽出し，`.index`を使い行ラベルを取得している。\n",
    "```"
   ]
  },
  {
   "cell_type": "markdown",
   "id": "enhanced-browse",
   "metadata": {
    "hidden": true
   },
   "source": [
    "[「所得分布の推移」の節](sec:9-distribution)におけるキャッチアップを示唆する結果の裏では，クラブ収斂のメカニズムが動いていると考えられる。他の「クラブ」のデータを使って確認してみよう。"
   ]
  }
 ],
 "metadata": {
  "celltoolbar": "Tags",
  "kernelspec": {
   "display_name": "Python 3 (ipykernel)",
   "language": "python",
   "name": "python3"
  },
  "language_info": {
   "codemirror_mode": {
    "name": "ipython",
    "version": 3
   },
   "file_extension": ".py",
   "mimetype": "text/x-python",
   "name": "python",
   "nbconvert_exporter": "python",
   "pygments_lexer": "ipython3",
   "version": "3.9.0"
  }
 },
 "nbformat": 4,
 "nbformat_minor": 5
}
