{
 "cells": [
  {
   "cell_type": "markdown",
   "id": "1ad76abe",
   "metadata": {},
   "source": [
    "(chap:19-ppp)=\n",
    "# 一物一価と購買力平価"
   ]
  },
  {
   "cell_type": "markdown",
   "id": "412625a4",
   "metadata": {},
   "source": [
    "<div name=\"html-admonition\" style=\"font-size: 0.8em\">\n",
    "<input type=\"button\" onclick=\"location.href='https://translate.google.com/translate?hl=&sl=ja&tl=en&u='+window.location;\" value=\"Google translation\" style=\"color:#ffffff;background-color:#008080; height:25px\" onmouseover=\"this.style.background='#99ccff'\" onmouseout=\"this.style.background='#008080'\"/> in English or the language of your choice.\n",
    "</div><br>"
   ]
  },
  {
   "cell_type": "code",
   "execution_count": 1,
   "id": "a28f8b43",
   "metadata": {},
   "outputs": [
    {
     "name": "stdout",
     "output_type": "stream",
     "text": [
      "Intel MKL WARNING: Support of Intel(R) Streaming SIMD Extensions 4.2 (Intel(R) SSE4.2) enabled only processors has been deprecated. Intel oneAPI Math Kernel Library 2025.0 will require Intel(R) Advanced Vector Extensions (Intel(R) AVX) instructions.\n",
      "Intel MKL WARNING: Support of Intel(R) Streaming SIMD Extensions 4.2 (Intel(R) SSE4.2) enabled only processors has been deprecated. Intel oneAPI Math Kernel Library 2025.0 will require Intel(R) Advanced Vector Extensions (Intel(R) AVX) instructions.\n"
     ]
    }
   ],
   "source": [
    "import japanize_matplotlib\n",
    "import numpy as np\n",
    "import matplotlib.pyplot as plt\n",
    "import pandas as pd\n",
    "import py4macro\n",
    "import statsmodels.formula.api as smf\n",
    "\n",
    "# 警告メッセージを非表示\n",
    "import warnings\n",
    "warnings.filterwarnings(\"ignore\")"
   ]
  },
  {
   "cell_type": "markdown",
   "id": "7c0ddd8c",
   "metadata": {
    "heading_collapsed": true
   },
   "source": [
    "## はじめに"
   ]
  },
  {
   "cell_type": "markdown",
   "id": "b1c416cc",
   "metadata": {
    "hidden": true
   },
   "source": [
    "通常，経済の生活水準の指標には一人当たりGDPが使われる。データはそれぞれの国が集めており，日本では[内閣府](https://www.esri.cao.go.jp/jp/sna/menu.html)がGDP関連のデータを公表している。当たり前だが，GDPなどの変数はその経済の貨幣単位で表される。自国通貨建てのデータは国内で使うには十分だが，他国と比較する場合は共通の貨幣で表す必要がある。例えば，日本と米国の生活水準や政府の教育関連支出額の違いを知るためには，両国のデータを円もしくは米ドルに返還する必要がある。また，変数の水準だけではなく成長率を考える際も同様である。\n",
    "\n",
    "では，ある通貨を他の通貨単位に換算する際，新聞やインターネットで見る市場為替レートを使えば良いのだろうか。答えは否である。その理由を理解するのが本章の１つの目的となる。異なる経済のデータを比べる際は購買力平価（PPP; Purchasing Power Parity）と呼ばれる「為替レート」を使う必要がある。実際，`py4macro`モジュールに含まれるデータセット`pwt`（Penn World Table）はPPPで換算したマクロデータを使っている。\n",
    "\n",
    "以下では、まずPPPと関連が深い一物一価の法則について国内のデータを使い考える。その後，経済間のデータとしてビッグマック（マクドナルドのハンバーガー）のデータを使い経済間での一物一価を考察する。また一般物価水準についても考察し，経済間で一般物価水準が異なる要因として所得水準を考え，所得水準の影響が大きいことを明らかにする。特に，所得水準の影響により，市場為替レートを使い計算した一人当たりGDPの比較をおこなうと，経済間の所得格差が歪められることになる。そのような歪みを排除して経済間の生活水準を比べるためには，PPPレートを使う必要があることを示す。"
   ]
  },
  {
   "cell_type": "markdown",
   "id": "40565151",
   "metadata": {
    "hidden": true
   },
   "source": [
    "````{note}\n",
    "私たちの周りには価格が法的に定められたものがある。例えば，\n",
    "\n",
    "* 鉄道運賃(JR，通学定期，JR西日本，幹線，高校，20km)：38,650円（2023年4月）\n",
    "\n",
    "この価格は鉄道事業法（昭和６１年法律第９２号）に基づいている。以下では，法律ではなく**市場**によって価格が決まる財・サービスを考える。\n",
    "````"
   ]
  },
  {
   "cell_type": "markdown",
   "id": "3647d0a7",
   "metadata": {
    "heading_collapsed": true
   },
   "source": [
    "## 国内での一物一価"
   ]
  },
  {
   "cell_type": "markdown",
   "id": "67b8284d",
   "metadata": {
    "heading_collapsed": true,
    "hidden": true
   },
   "source": [
    "### 説明"
   ]
  },
  {
   "cell_type": "markdown",
   "id": "f01be3ad",
   "metadata": {
    "hidden": true
   },
   "source": [
    "一物一価の法則とは，市場の働きにより同質財・サービスは同じ価格で販売される，ということを意味する。直感的に説明するために，A市とB市で同質財が販売されているとしよう（A市を１つの市場，B市をもう１つの市場と考えると良いだろう）。話を簡単にするために，輸送費用，取引費用や価格の硬直性など市場の「摩擦」が無い理想的な状況の下，A市では80円で，B市では100円で販売されているとしよう。B市で高値で商品が売れるのであれば，A市で安く購入してB市で80円＜価格＜100円の価格で売れば利潤を得ることができる。例えば，ある企業はA市で財をX個仕入れて，それをB市で販売する場合，利潤$\\pi$は次式となる。\n",
    "\n",
    "$$\n",
    "\\pi=p_BX-p_AX=\\left(p_B-p_A\\right)X>0\n",
    "$$ (eq:19-1)\n",
    "\n",
    "ここで$p_BX$が総収入であり，$p_AX$が総費用である。$p_B<p_A$が成立する限り$\\pi>0$となる。一方で，利潤があれば，同様のことをする企業が参入する。この様な裁定取引により，A市での需要が増加し価格が上昇する。一方，B市では供給が増えるので価格は下落する。参入は利潤がなくなるまで続くことになり，最終的には財の価格は収斂することになる。即ち，\n",
    "\n",
    "$$\n",
    "\\pi=0\\quad\\Rightarrow\\quad\n",
    "p_B=p_A\n",
    "$$ (eq:19-2)\n",
    "\n",
    "このように，一物一価は非常に直感的な概念である。では，データではどのようになっているのだろうか。以下では[小売物価統計調査（動向編）](https://www.stat.go.jp/data/kouri/doukou/index.html)のデータを用いる。使うデータはチョコレート，アイスクリーム，ガソリンの2022年平均価格であり，`pandas`を使って[e-Stat（政府統計の総合窓口）](https://www.e-stat.go.jp/)から直接ダウンロードする。"
   ]
  },
  {
   "cell_type": "markdown",
   "id": "2b69f82b",
   "metadata": {
    "hidden": true
   },
   "source": [
    "```{note}\n",
    "手動でダウンロードする場合は，次の順番でリンクを辿っていけば良いだろう。\n",
    "* [小売物価統計調査（動向編）](https://www.stat.go.jp/data/kouri/doukou/index.html) → `調査の結果`をクリック → `全品目：平成13年(2001年)～2022年`をクリック → `2022年報`をクリック → `統計表`をクリック → `2022年`をクリック\n",
    "    * チョコレートとアイスクリームのデータは`【09】「1701 ようかん」 ～ 「1784 ゼリー」`の右側にある`EXCEL`をクリックするとダウンロードできる。\n",
    "    * ガソリンは`【26】「7691 鉄道運賃」 ～ 「7413 通信料」`の右側にある`EXCEL`をクリックするとダウンロードできる。\n",
    "```"
   ]
  },
  {
   "cell_type": "markdown",
   "id": "b0c31a03",
   "metadata": {
    "heading_collapsed": true,
    "hidden": true
   },
   "source": [
    "### チョコレート"
   ]
  },
  {
   "cell_type": "markdown",
   "id": "9c16de09",
   "metadata": {
    "hidden": true
   },
   "source": [
    "> 板チョコレート，50～55g，「明治ミルクチョコレート」，「ロッテガーナミルクチョコレート」又は「森永ミルクチョコレート」\n",
    "\n",
    "このチョコレートの定義に従って作成されたデータをダウンロードし，変数`choco`に`DateFrame`として割り当てる。"
   ]
  },
  {
   "cell_type": "code",
   "execution_count": 2,
   "id": "422bb8da",
   "metadata": {
    "hidden": true
   },
   "outputs": [],
   "source": [
    "url_choco = 'https://www.e-stat.go.jp/stat-search/file-download?statInfId=000040047298&fileKind=0'\n",
    "choco = pd.read_excel(url_choco, sheet_name='1761チョコレート',\n",
    "                      skiprows=15, usecols=[8,10])"
   ]
  },
  {
   "cell_type": "markdown",
   "id": "7c6a9fa6",
   "metadata": {
    "hidden": true
   },
   "source": [
    "```{admonition} 🐍 コードの説明\n",
    ":class: dropdown\n",
    "* `pd.read_excel()`はExcelファイルを読み込む関数\n",
    "    * `url_choco`：その上のURLを文字列としてファイルを指定する引数（URLでなくてもファイル名でも良い）\n",
    "    * `sheet_name`：Excelのシート名を指定する引数\n",
    "    * `skiprows`：最初の何行を飛ばして読み込むかを指定する引数\n",
    "    * `usecols`：何番目の列を読み込むかを指定する引数\n",
    "* `pd.read_excel()`を使うにはモジュール`openpyxl`が事前にインストールされている必要がある。[参照リンク](https://pypi.org/project/openpyxl/)。\n",
    "```"
   ]
  },
  {
   "cell_type": "markdown",
   "id": "a1cc4a23",
   "metadata": {
    "hidden": true
   },
   "source": [
    "最初の５行を表示してみよう。"
   ]
  },
  {
   "cell_type": "code",
   "execution_count": 3,
   "id": "123b147f",
   "metadata": {
    "hidden": true
   },
   "outputs": [
    {
     "data": {
      "text/html": [
       "<div>\n",
       "<style scoped>\n",
       "    .dataframe tbody tr th:only-of-type {\n",
       "        vertical-align: middle;\n",
       "    }\n",
       "\n",
       "    .dataframe tbody tr th {\n",
       "        vertical-align: top;\n",
       "    }\n",
       "\n",
       "    .dataframe thead th {\n",
       "        text-align: right;\n",
       "    }\n",
       "</style>\n",
       "<table border=\"1\" class=\"dataframe\">\n",
       "  <thead>\n",
       "    <tr style=\"text-align: right;\">\n",
       "      <th></th>\n",
       "      <th>地域</th>\n",
       "      <th>年平均</th>\n",
       "    </tr>\n",
       "  </thead>\n",
       "  <tbody>\n",
       "    <tr>\n",
       "      <th>0</th>\n",
       "      <td>札幌市</td>\n",
       "      <td>227</td>\n",
       "    </tr>\n",
       "    <tr>\n",
       "      <th>1</th>\n",
       "      <td>函館市</td>\n",
       "      <td>211</td>\n",
       "    </tr>\n",
       "    <tr>\n",
       "      <th>2</th>\n",
       "      <td>旭川市</td>\n",
       "      <td>209</td>\n",
       "    </tr>\n",
       "    <tr>\n",
       "      <th>3</th>\n",
       "      <td>青森市</td>\n",
       "      <td>220</td>\n",
       "    </tr>\n",
       "    <tr>\n",
       "      <th>4</th>\n",
       "      <td>八戸市</td>\n",
       "      <td>225</td>\n",
       "    </tr>\n",
       "  </tbody>\n",
       "</table>\n",
       "</div>"
      ],
      "text/plain": [
       "    地域  年平均\n",
       "0  札幌市  227\n",
       "1  函館市  211\n",
       "2  旭川市  209\n",
       "3  青森市  220\n",
       "4  八戸市  225"
      ]
     },
     "execution_count": 3,
     "metadata": {},
     "output_type": "execute_result"
    }
   ],
   "source": [
    "choco.head()"
   ]
  },
  {
   "cell_type": "markdown",
   "id": "b05623c8",
   "metadata": {
    "hidden": true
   },
   "source": [
    "列ラベルが全角になっている。そのままでも良いが，ここでは次の様に半角に変更する。"
   ]
  },
  {
   "cell_type": "code",
   "execution_count": 4,
   "id": "5be7a16f",
   "metadata": {
    "hidden": true
   },
   "outputs": [],
   "source": [
    "choco.columns = ['area', 'price']"
   ]
  },
  {
   "cell_type": "markdown",
   "id": "988fe488",
   "metadata": {
    "hidden": true
   },
   "source": [
    "次にデータ型や欠損値を調べてみよう。"
   ]
  },
  {
   "cell_type": "code",
   "execution_count": 5,
   "id": "c59fd5ea",
   "metadata": {
    "hidden": true,
    "scrolled": true
   },
   "outputs": [
    {
     "name": "stdout",
     "output_type": "stream",
     "text": [
      "<class 'pandas.core.frame.DataFrame'>\n",
      "RangeIndex: 81 entries, 0 to 80\n",
      "Data columns (total 2 columns):\n",
      " #   Column  Non-Null Count  Dtype \n",
      "---  ------  --------------  ----- \n",
      " 0   area    81 non-null     object\n",
      " 1   price   81 non-null     int64 \n",
      "dtypes: int64(1), object(1)\n",
      "memory usage: 1.4+ KB\n"
     ]
    }
   ],
   "source": [
    "choco.info()"
   ]
  },
  {
   "cell_type": "markdown",
   "id": "76052519",
   "metadata": {
    "hidden": true
   },
   "source": [
    "どのような地域が含まれているか確認してみよう。"
   ]
  },
  {
   "cell_type": "code",
   "execution_count": 6,
   "id": "8e3c7f2f",
   "metadata": {
    "hidden": true,
    "tags": [
     "output_scroll"
    ]
   },
   "outputs": [
    {
     "data": {
      "text/plain": [
       "['札幌市',\n",
       " '函館市',\n",
       " '旭川市',\n",
       " '青森市',\n",
       " '八戸市',\n",
       " '盛岡市',\n",
       " '仙台市',\n",
       " '秋田市',\n",
       " '山形市',\n",
       " '福島市',\n",
       " '郡山市',\n",
       " '水戸市',\n",
       " '日立市',\n",
       " '宇都宮市',\n",
       " '小山市',\n",
       " '前橋市',\n",
       " 'さいたま市',\n",
       " '熊谷市',\n",
       " '川口市',\n",
       " '所沢市',\n",
       " '千葉市',\n",
       " '佐倉市',\n",
       " '浦安市',\n",
       " '東京都区部',\n",
       " '八王子市',\n",
       " '立川市',\n",
       " '府中市',\n",
       " '横浜市',\n",
       " '川崎市',\n",
       " '相模原市',\n",
       " '横須賀市',\n",
       " '新潟市',\n",
       " '長岡市',\n",
       " '富山市',\n",
       " '金沢市',\n",
       " '福井市',\n",
       " '甲府市',\n",
       " '長野市',\n",
       " '松本市',\n",
       " '岐阜市',\n",
       " '静岡市',\n",
       " '浜松市',\n",
       " '富士市',\n",
       " '名古屋市',\n",
       " '岡崎市',\n",
       " '津市',\n",
       " '松阪市',\n",
       " '大津市',\n",
       " '京都市',\n",
       " '大阪市',\n",
       " '堺市',\n",
       " '枚方市',\n",
       " '東大阪市',\n",
       " '神戸市',\n",
       " '姫路市',\n",
       " '西宮市',\n",
       " '伊丹市',\n",
       " '奈良市',\n",
       " '和歌山市',\n",
       " '鳥取市',\n",
       " '松江市',\n",
       " '岡山市',\n",
       " '広島市',\n",
       " '福山市',\n",
       " '山口市',\n",
       " '宇部市',\n",
       " '徳島市',\n",
       " '高松市',\n",
       " '松山市',\n",
       " '今治市',\n",
       " '高知市',\n",
       " '福岡市',\n",
       " '北九州市',\n",
       " '佐賀市',\n",
       " '長崎市',\n",
       " '佐世保市',\n",
       " '熊本市',\n",
       " '大分市',\n",
       " '宮崎市',\n",
       " '鹿児島市',\n",
       " '那覇市']"
      ]
     },
     "execution_count": 6,
     "metadata": {},
     "output_type": "execute_result"
    }
   ],
   "source": [
    "choco['area'].tolist()"
   ]
  },
  {
   "cell_type": "markdown",
   "id": "abdb92e0",
   "metadata": {
    "hidden": true
   },
   "source": [
    "兵庫県からは神戸市，姫路市，西宮市，伊丹市が含まれている。\n",
    "\n",
    "記述統計も確認しよう。"
   ]
  },
  {
   "cell_type": "code",
   "execution_count": 7,
   "id": "71f80439",
   "metadata": {
    "hidden": true
   },
   "outputs": [
    {
     "data": {
      "text/plain": [
       "count     81.000000\n",
       "mean     217.604938\n",
       "std        8.204692\n",
       "min      192.000000\n",
       "25%      212.000000\n",
       "50%      218.000000\n",
       "75%      223.000000\n",
       "max      242.000000\n",
       "Name: price, dtype: float64"
      ]
     },
     "execution_count": 7,
     "metadata": {},
     "output_type": "execute_result"
    }
   ],
   "source": [
    "choco['price'].describe()"
   ]
  },
  {
   "cell_type": "code",
   "execution_count": 8,
   "id": "f4ffe17b",
   "metadata": {
    "hidden": true,
    "tags": [
     "remove-cell"
    ]
   },
   "outputs": [
    {
     "data": {
      "text/plain": [
       "192"
      ]
     },
     "metadata": {
      "scrapbook": {
       "mime_prefix": "",
       "name": "choco_min_glued"
      }
     },
     "output_type": "display_data"
    },
    {
     "data": {
      "text/plain": [
       "242"
      ]
     },
     "metadata": {
      "scrapbook": {
       "mime_prefix": "",
       "name": "choco_max_glued"
      }
     },
     "output_type": "display_data"
    },
    {
     "data": {
      "text/plain": [
       "50"
      ]
     },
     "metadata": {
      "scrapbook": {
       "mime_prefix": "",
       "name": "choco_diff_glued"
      }
     },
     "output_type": "display_data"
    }
   ],
   "source": [
    "from myst_nb import glue\n",
    "choco_min = int( choco['price'].describe()['min'] )\n",
    "choco_max = int( choco['price'].describe()['max'] )\n",
    "choco_diff = choco_max - choco_min\n",
    "glue(\"choco_min_glued\", choco_min)\n",
    "glue(\"choco_max_glued\", choco_max)\n",
    "glue(\"choco_diff_glued\", choco_diff)"
   ]
  },
  {
   "cell_type": "markdown",
   "id": "0bddc734",
   "metadata": {
    "hidden": true
   },
   "source": [
    "最安値は{glue:text}`choco_min_glued`円，最高値は{glue:text}`choco_max_glued`円であり，その差は{glue:text}`choco_diff_glued`円！"
   ]
  },
  {
   "cell_type": "markdown",
   "id": "86b27842",
   "metadata": {
    "hidden": true
   },
   "source": [
    "価格の分布を調べるために，平均からの乖離率を計算しよう。\n",
    "\n",
    "$$\n",
    "\\pi_i\n",
    "=\\frac{P_i}{\\overline{P}}-1\n",
    "$$ (eq:19-choco)\n",
    "\n",
    "ここで$i$は地域を表しており，$\\overline{P}$は$P_i$の平均である。新たな列`mean_deviation`として追加しよう。"
   ]
  },
  {
   "cell_type": "code",
   "execution_count": 9,
   "id": "39a89634",
   "metadata": {
    "hidden": true
   },
   "outputs": [],
   "source": [
    "choco['mean_deviation'] =  choco['price'] / choco['price'].mean() - 1"
   ]
  },
  {
   "cell_type": "code",
   "execution_count": 10,
   "id": "b499eab3",
   "metadata": {
    "hidden": true
   },
   "outputs": [
    {
     "data": {
      "image/png": "[encoded data removed]",
      "text/plain": [
       "<Figure size 640x480 with 1 Axes>"
      ]
     },
     "metadata": {},
     "output_type": "display_data"
    }
   ],
   "source": [
    "choco['mean_deviation'].hist(bins=12, ec='white')\n",
    "pass"
   ]
  },
  {
   "cell_type": "markdown",
   "id": "893e3b04",
   "metadata": {
    "hidden": true
   },
   "source": [
    "`0`は平均と等しいという意味である。`0.10`は平均より`10`％高い価格であり，`-0.10`は平均より`10`％安いチョコレートである。明らかに一物一価は成立していない。"
   ]
  },
  {
   "cell_type": "markdown",
   "id": "dfe6ad34",
   "metadata": {
    "hidden": true
   },
   "source": [
    "価格のばらつき具合を確認するために標準偏差を計算しよう。"
   ]
  },
  {
   "cell_type": "code",
   "execution_count": 11,
   "id": "e66f7196",
   "metadata": {
    "hidden": true
   },
   "outputs": [
    {
     "data": {
      "text/plain": [
       "0.03770453161138014"
      ]
     },
     "execution_count": 11,
     "metadata": {},
     "output_type": "execute_result"
    }
   ],
   "source": [
    "choco['mean_deviation'].std()"
   ]
  },
  {
   "cell_type": "markdown",
   "id": "b7af792c",
   "metadata": {
    "hidden": true
   },
   "source": [
    "乖離率[](eq:19-choco)の標準偏差は次式で定義される変動係数（Coefficient of Variation）と等しい。\n",
    "\n",
    "$$\n",
    "P_iの変動係数=\\frac{P_iの標準偏差}{P_iの平均}\n",
    "$$ (eq:19-cc)\n",
    "\n",
    "試しに変動係数を直接計算してみよう。"
   ]
  },
  {
   "cell_type": "code",
   "execution_count": 12,
   "id": "f2dd1114",
   "metadata": {
    "hidden": true
   },
   "outputs": [
    {
     "data": {
      "text/plain": [
       "0.03770453161138013"
      ]
     },
     "execution_count": 12,
     "metadata": {},
     "output_type": "execute_result"
    }
   ],
   "source": [
    "choco['price'].std() / choco['price'].mean()"
   ]
  },
  {
   "cell_type": "markdown",
   "id": "8dac9cb5",
   "metadata": {
    "hidden": true
   },
   "source": [
    "同じ値である。変動係数の利点は，変数の平均で除している為，単位（ここでは，円）や平均の大小に関係なく，異なるデータのばらつき具合を比べることができることである。"
   ]
  },
  {
   "cell_type": "markdown",
   "id": "0f4bf604",
   "metadata": {
    "hidden": true
   },
   "source": [
    "最後に，チョコレートが最安値の地域はどこか確認してみよう。"
   ]
  },
  {
   "cell_type": "code",
   "execution_count": 13,
   "id": "bc2c0165",
   "metadata": {
    "hidden": true
   },
   "outputs": [
    {
     "data": {
      "text/html": [
       "<div>\n",
       "<style scoped>\n",
       "    .dataframe tbody tr th:only-of-type {\n",
       "        vertical-align: middle;\n",
       "    }\n",
       "\n",
       "    .dataframe tbody tr th {\n",
       "        vertical-align: top;\n",
       "    }\n",
       "\n",
       "    .dataframe thead th {\n",
       "        text-align: right;\n",
       "    }\n",
       "</style>\n",
       "<table border=\"1\" class=\"dataframe\">\n",
       "  <thead>\n",
       "    <tr style=\"text-align: right;\">\n",
       "      <th></th>\n",
       "      <th>area</th>\n",
       "      <th>price</th>\n",
       "      <th>mean_deviation</th>\n",
       "    </tr>\n",
       "  </thead>\n",
       "  <tbody>\n",
       "    <tr>\n",
       "      <th>7</th>\n",
       "      <td>秋田市</td>\n",
       "      <td>192</td>\n",
       "      <td>-0.117667</td>\n",
       "    </tr>\n",
       "  </tbody>\n",
       "</table>\n",
       "</div>"
      ],
      "text/plain": [
       "  area  price  mean_deviation\n",
       "7  秋田市    192       -0.117667"
      ]
     },
     "execution_count": 13,
     "metadata": {},
     "output_type": "execute_result"
    }
   ],
   "source": [
    "cond = ( choco['price']==choco['price'].min() )\n",
    "choco.loc[cond,:]"
   ]
  },
  {
   "cell_type": "code",
   "execution_count": 14,
   "id": "60cd8a10",
   "metadata": {
    "hidden": true,
    "tags": [
     "remove-cell"
    ]
   },
   "outputs": [
    {
     "data": {
      "text/plain": [
       "'秋田市'"
      ]
     },
     "metadata": {
      "scrapbook": {
       "mime_prefix": "",
       "name": "area_min_glued"
      }
     },
     "output_type": "display_data"
    },
    {
     "data": {
      "text/plain": [
       "11.766708271871096"
      ]
     },
     "metadata": {
      "scrapbook": {
       "mime_prefix": "",
       "name": "choco_mean_dev_glued"
      }
     },
     "output_type": "display_data"
    }
   ],
   "source": [
    "from myst_nb import glue\n",
    "cond = ( choco['price']==choco['price'].min() )\n",
    "area_min = choco.loc[cond,'area'].iloc[0]\n",
    "choco_mean_dev = -100*choco.loc[cond,'mean_deviation'].iloc[0]\n",
    "glue(\"area_min_glued\", area_min)\n",
    "glue(\"choco_mean_dev_glued\", choco_mean_dev)"
   ]
  },
  {
   "cell_type": "markdown",
   "id": "d52debfb",
   "metadata": {
    "hidden": true
   },
   "source": [
    "{glue:text}`area_min_glued`ではチョコレートが平均よりも約{glue:text}`choco_mean_dev_glued:.1f`％も安い。（甘党の楽園かも！？）"
   ]
  },
  {
   "cell_type": "markdown",
   "id": "99fbafd9",
   "metadata": {
    "heading_collapsed": true,
    "hidden": true
   },
   "source": [
    "### アイスクリーム"
   ]
  },
  {
   "cell_type": "markdown",
   "id": "d21906e7",
   "metadata": {
    "hidden": true
   },
   "source": [
    "アイスクリームの定義\n",
    "> バニラアイスクリーム，カップ入り（110mL入り），「ハーゲンダッツ バニラ」\n",
    "\n",
    "データをダウンロードして，変数`ice`に割り当てよう。"
   ]
  },
  {
   "cell_type": "code",
   "execution_count": 15,
   "id": "5f1d8daf",
   "metadata": {
    "hidden": true
   },
   "outputs": [],
   "source": [
    "url_ice = 'https://www.e-stat.go.jp/stat-search/file-download?statInfId=000040047298&fileKind=0'\n",
    "ice = pd.read_excel(url_ice, sheet_name='1782アイスクリーム', \n",
    "                    skiprows=15, usecols=[8,10])"
   ]
  },
  {
   "cell_type": "markdown",
   "id": "43e77e46",
   "metadata": {
    "hidden": true
   },
   "source": [
    "最初の５行の表示"
   ]
  },
  {
   "cell_type": "code",
   "execution_count": 16,
   "id": "cef4cedd",
   "metadata": {
    "hidden": true
   },
   "outputs": [
    {
     "data": {
      "text/html": [
       "<div>\n",
       "<style scoped>\n",
       "    .dataframe tbody tr th:only-of-type {\n",
       "        vertical-align: middle;\n",
       "    }\n",
       "\n",
       "    .dataframe tbody tr th {\n",
       "        vertical-align: top;\n",
       "    }\n",
       "\n",
       "    .dataframe thead th {\n",
       "        text-align: right;\n",
       "    }\n",
       "</style>\n",
       "<table border=\"1\" class=\"dataframe\">\n",
       "  <thead>\n",
       "    <tr style=\"text-align: right;\">\n",
       "      <th></th>\n",
       "      <th>地域</th>\n",
       "      <th>年平均</th>\n",
       "    </tr>\n",
       "  </thead>\n",
       "  <tbody>\n",
       "    <tr>\n",
       "      <th>0</th>\n",
       "      <td>札幌市</td>\n",
       "      <td>296</td>\n",
       "    </tr>\n",
       "    <tr>\n",
       "      <th>1</th>\n",
       "      <td>函館市</td>\n",
       "      <td>286</td>\n",
       "    </tr>\n",
       "    <tr>\n",
       "      <th>2</th>\n",
       "      <td>旭川市</td>\n",
       "      <td>281</td>\n",
       "    </tr>\n",
       "    <tr>\n",
       "      <th>3</th>\n",
       "      <td>青森市</td>\n",
       "      <td>260</td>\n",
       "    </tr>\n",
       "    <tr>\n",
       "      <th>4</th>\n",
       "      <td>八戸市</td>\n",
       "      <td>258</td>\n",
       "    </tr>\n",
       "  </tbody>\n",
       "</table>\n",
       "</div>"
      ],
      "text/plain": [
       "    地域  年平均\n",
       "0  札幌市  296\n",
       "1  函館市  286\n",
       "2  旭川市  281\n",
       "3  青森市  260\n",
       "4  八戸市  258"
      ]
     },
     "execution_count": 16,
     "metadata": {},
     "output_type": "execute_result"
    }
   ],
   "source": [
    "ice.head()"
   ]
  },
  {
   "cell_type": "markdown",
   "id": "8e74120f",
   "metadata": {
    "hidden": true
   },
   "source": [
    "列ラベルの変更"
   ]
  },
  {
   "cell_type": "code",
   "execution_count": 17,
   "id": "9d69c529",
   "metadata": {
    "hidden": true
   },
   "outputs": [],
   "source": [
    "ice.columns = ['area', 'price']"
   ]
  },
  {
   "cell_type": "markdown",
   "id": "6cb1e731",
   "metadata": {
    "hidden": true
   },
   "source": [
    "データの確認"
   ]
  },
  {
   "cell_type": "code",
   "execution_count": 18,
   "id": "540047b7",
   "metadata": {
    "hidden": true
   },
   "outputs": [
    {
     "name": "stdout",
     "output_type": "stream",
     "text": [
      "<class 'pandas.core.frame.DataFrame'>\n",
      "RangeIndex: 81 entries, 0 to 80\n",
      "Data columns (total 2 columns):\n",
      " #   Column  Non-Null Count  Dtype \n",
      "---  ------  --------------  ----- \n",
      " 0   area    81 non-null     object\n",
      " 1   price   81 non-null     int64 \n",
      "dtypes: int64(1), object(1)\n",
      "memory usage: 1.4+ KB\n"
     ]
    }
   ],
   "source": [
    "ice.info()"
   ]
  },
  {
   "cell_type": "markdown",
   "id": "3e067a10",
   "metadata": {
    "hidden": true
   },
   "source": [
    "記述統計"
   ]
  },
  {
   "cell_type": "code",
   "execution_count": 19,
   "id": "76d0fa62",
   "metadata": {
    "hidden": true
   },
   "outputs": [
    {
     "data": {
      "text/plain": [
       "count     81.000000\n",
       "mean     263.888889\n",
       "std       18.672172\n",
       "min      210.000000\n",
       "25%      258.000000\n",
       "50%      267.000000\n",
       "75%      276.000000\n",
       "max      300.000000\n",
       "Name: price, dtype: float64"
      ]
     },
     "execution_count": 19,
     "metadata": {},
     "output_type": "execute_result"
    }
   ],
   "source": [
    "ice['price'].describe()"
   ]
  },
  {
   "cell_type": "code",
   "execution_count": 20,
   "id": "2d67e583",
   "metadata": {
    "hidden": true,
    "tags": [
     "remove-cell"
    ]
   },
   "outputs": [
    {
     "data": {
      "text/plain": [
       "210"
      ]
     },
     "metadata": {
      "scrapbook": {
       "mime_prefix": "",
       "name": "ice_min_glued"
      }
     },
     "output_type": "display_data"
    },
    {
     "data": {
      "text/plain": [
       "300"
      ]
     },
     "metadata": {
      "scrapbook": {
       "mime_prefix": "",
       "name": "ice_max_glued"
      }
     },
     "output_type": "display_data"
    },
    {
     "data": {
      "text/plain": [
       "90"
      ]
     },
     "metadata": {
      "scrapbook": {
       "mime_prefix": "",
       "name": "ice_diff_glued"
      }
     },
     "output_type": "display_data"
    }
   ],
   "source": [
    "from myst_nb import glue\n",
    "ice_min = int( ice['price'].describe()['min'] )\n",
    "ice_max = int( ice['price'].describe()['max'] )\n",
    "ice_diff = ice_max - ice_min\n",
    "glue(\"ice_min_glued\", ice_min)\n",
    "glue(\"ice_max_glued\", ice_max)\n",
    "glue(\"ice_diff_glued\", ice_diff)"
   ]
  },
  {
   "cell_type": "markdown",
   "id": "e462265c",
   "metadata": {
    "hidden": true
   },
   "source": [
    "最安値は{glue:text}`ice_min_glued`円，最高値は{glue:text}`ice_max_glued`円であり，その差は{glue:text}`ice_diff_glued`円！（著者のように）ハーゲンダッツ好きにとっては無視できない価格差である。"
   ]
  },
  {
   "cell_type": "code",
   "execution_count": 21,
   "id": "2df0a6c7",
   "metadata": {
    "hidden": true,
    "scrolled": false
   },
   "outputs": [
    {
     "data": {
      "image/png": "[encoded data removed]",
      "text/plain": [
       "<Figure size 640x480 with 1 Axes>"
      ]
     },
     "metadata": {},
     "output_type": "display_data"
    }
   ],
   "source": [
    "ice['mean_deviation'] =  ice['price'] / ice['price'].mean() - 1\n",
    "\n",
    "ice['mean_deviation'].hist(bins=16, ec='white')\n",
    "pass"
   ]
  },
  {
   "cell_type": "code",
   "execution_count": 22,
   "id": "7d4377d7",
   "metadata": {
    "hidden": true,
    "tags": [
     "remove-cell"
    ]
   },
   "outputs": [
    {
     "data": {
      "text/plain": [
       "20.421052631578952"
      ]
     },
     "metadata": {
      "scrapbook": {
       "mime_prefix": "",
       "name": "ice_mean_dev_glued"
      }
     },
     "output_type": "display_data"
    }
   ],
   "source": [
    "from myst_nb import glue\n",
    "cond = ( ice['price']==ice['price'].min() )\n",
    "ice_mean_dev = -100*ice.loc[cond,'mean_deviation'].iloc[0]\n",
    "glue('ice_mean_dev_glued',ice_mean_dev)"
   ]
  },
  {
   "cell_type": "markdown",
   "id": "3f3c15e7",
   "metadata": {
    "hidden": true
   },
   "source": [
    "安いところは平均よりも約{glue:text}`ice_mean_dev_glued:.0f`％もお得！いずれにしろ，一物一価は成立していない。"
   ]
  },
  {
   "cell_type": "markdown",
   "id": "ad9f794c",
   "metadata": {
    "hidden": true
   },
   "source": [
    "価格のばらつき具合を確認するために標準偏差（変動係数）を計算してみよう。"
   ]
  },
  {
   "cell_type": "code",
   "execution_count": 23,
   "id": "512f2db5",
   "metadata": {
    "hidden": true
   },
   "outputs": [
    {
     "data": {
      "text/plain": [
       "0.0707577036906862"
      ]
     },
     "execution_count": 23,
     "metadata": {},
     "output_type": "execute_result"
    }
   ],
   "source": [
    "ice['mean_deviation'].std()"
   ]
  },
  {
   "cell_type": "markdown",
   "id": "3d9f8631",
   "metadata": {
    "hidden": true
   },
   "source": [
    "チョコレートと比較すると価格のばらつきが大きい。\n",
    "\n",
    "安い地域と高い地域を確認してみよう。"
   ]
  },
  {
   "cell_type": "code",
   "execution_count": 24,
   "id": "ccd647fe",
   "metadata": {
    "hidden": true
   },
   "outputs": [
    {
     "data": {
      "text/html": [
       "<div>\n",
       "<style scoped>\n",
       "    .dataframe tbody tr th:only-of-type {\n",
       "        vertical-align: middle;\n",
       "    }\n",
       "\n",
       "    .dataframe tbody tr th {\n",
       "        vertical-align: top;\n",
       "    }\n",
       "\n",
       "    .dataframe thead th {\n",
       "        text-align: right;\n",
       "    }\n",
       "</style>\n",
       "<table border=\"1\" class=\"dataframe\">\n",
       "  <thead>\n",
       "    <tr style=\"text-align: right;\">\n",
       "      <th></th>\n",
       "      <th>area</th>\n",
       "      <th>price</th>\n",
       "      <th>mean_deviation</th>\n",
       "    </tr>\n",
       "  </thead>\n",
       "  <tbody>\n",
       "    <tr>\n",
       "      <th>80</th>\n",
       "      <td>那覇市</td>\n",
       "      <td>300</td>\n",
       "      <td>0.136842</td>\n",
       "    </tr>\n",
       "    <tr>\n",
       "      <th>0</th>\n",
       "      <td>札幌市</td>\n",
       "      <td>296</td>\n",
       "      <td>0.121684</td>\n",
       "    </tr>\n",
       "    <tr>\n",
       "      <th>35</th>\n",
       "      <td>福井市</td>\n",
       "      <td>289</td>\n",
       "      <td>0.095158</td>\n",
       "    </tr>\n",
       "    <tr>\n",
       "      <th>60</th>\n",
       "      <td>松江市</td>\n",
       "      <td>288</td>\n",
       "      <td>0.091368</td>\n",
       "    </tr>\n",
       "    <tr>\n",
       "      <th>1</th>\n",
       "      <td>函館市</td>\n",
       "      <td>286</td>\n",
       "      <td>0.083789</td>\n",
       "    </tr>\n",
       "    <tr>\n",
       "      <th>...</th>\n",
       "      <td>...</td>\n",
       "      <td>...</td>\n",
       "      <td>...</td>\n",
       "    </tr>\n",
       "    <tr>\n",
       "      <th>15</th>\n",
       "      <td>前橋市</td>\n",
       "      <td>232</td>\n",
       "      <td>-0.120842</td>\n",
       "    </tr>\n",
       "    <tr>\n",
       "      <th>21</th>\n",
       "      <td>佐倉市</td>\n",
       "      <td>223</td>\n",
       "      <td>-0.154947</td>\n",
       "    </tr>\n",
       "    <tr>\n",
       "      <th>22</th>\n",
       "      <td>浦安市</td>\n",
       "      <td>216</td>\n",
       "      <td>-0.181474</td>\n",
       "    </tr>\n",
       "    <tr>\n",
       "      <th>37</th>\n",
       "      <td>長野市</td>\n",
       "      <td>211</td>\n",
       "      <td>-0.200421</td>\n",
       "    </tr>\n",
       "    <tr>\n",
       "      <th>38</th>\n",
       "      <td>松本市</td>\n",
       "      <td>210</td>\n",
       "      <td>-0.204211</td>\n",
       "    </tr>\n",
       "  </tbody>\n",
       "</table>\n",
       "<p>81 rows × 3 columns</p>\n",
       "</div>"
      ],
      "text/plain": [
       "   area  price  mean_deviation\n",
       "80  那覇市    300        0.136842\n",
       "0   札幌市    296        0.121684\n",
       "35  福井市    289        0.095158\n",
       "60  松江市    288        0.091368\n",
       "1   函館市    286        0.083789\n",
       "..  ...    ...             ...\n",
       "15  前橋市    232       -0.120842\n",
       "21  佐倉市    223       -0.154947\n",
       "22  浦安市    216       -0.181474\n",
       "37  長野市    211       -0.200421\n",
       "38  松本市    210       -0.204211\n",
       "\n",
       "[81 rows x 3 columns]"
      ]
     },
     "execution_count": 24,
     "metadata": {},
     "output_type": "execute_result"
    }
   ],
   "source": [
    "ice.sort_values(by='price', ascending=False)"
   ]
  },
  {
   "cell_type": "markdown",
   "id": "2a4a6ff5",
   "metadata": {
    "hidden": true
   },
   "source": [
    "この順番を見て何か言えることがあるだろうか。考えてみよう！"
   ]
  },
  {
   "cell_type": "markdown",
   "id": "b9a17c97",
   "metadata": {
    "heading_collapsed": true,
    "hidden": true
   },
   "source": [
    "### ガソリン"
   ]
  },
  {
   "cell_type": "markdown",
   "id": "fca0cc8c",
   "metadata": {
    "hidden": true
   },
   "source": [
    "ガソリンの定義\n",
    "> レギュラー・ガソリン１L\n",
    "\n",
    "変数`gas`に`DataFrame`として割り当てよう。"
   ]
  },
  {
   "cell_type": "code",
   "execution_count": 25,
   "id": "f8b0902b",
   "metadata": {
    "hidden": true
   },
   "outputs": [],
   "source": [
    "url_gas = 'https://www.e-stat.go.jp/stat-search/file-download?statInfId=000040047335&fileKind=0'\n",
    "gas = pd.read_excel(url_gas, sheet_name='7301ガソリン', \n",
    "                    skiprows=15, usecols=[8,10])"
   ]
  },
  {
   "cell_type": "markdown",
   "id": "fc3bc60b",
   "metadata": {
    "hidden": true
   },
   "source": [
    "最初の５行の表示"
   ]
  },
  {
   "cell_type": "code",
   "execution_count": 26,
   "id": "ff1f04b9",
   "metadata": {
    "hidden": true
   },
   "outputs": [
    {
     "data": {
      "text/html": [
       "<div>\n",
       "<style scoped>\n",
       "    .dataframe tbody tr th:only-of-type {\n",
       "        vertical-align: middle;\n",
       "    }\n",
       "\n",
       "    .dataframe tbody tr th {\n",
       "        vertical-align: top;\n",
       "    }\n",
       "\n",
       "    .dataframe thead th {\n",
       "        text-align: right;\n",
       "    }\n",
       "</style>\n",
       "<table border=\"1\" class=\"dataframe\">\n",
       "  <thead>\n",
       "    <tr style=\"text-align: right;\">\n",
       "      <th></th>\n",
       "      <th>地域</th>\n",
       "      <th>年平均</th>\n",
       "    </tr>\n",
       "  </thead>\n",
       "  <tbody>\n",
       "    <tr>\n",
       "      <th>0</th>\n",
       "      <td>札幌市</td>\n",
       "      <td>167</td>\n",
       "    </tr>\n",
       "    <tr>\n",
       "      <th>1</th>\n",
       "      <td>函館市</td>\n",
       "      <td>167</td>\n",
       "    </tr>\n",
       "    <tr>\n",
       "      <th>2</th>\n",
       "      <td>旭川市</td>\n",
       "      <td>169</td>\n",
       "    </tr>\n",
       "    <tr>\n",
       "      <th>3</th>\n",
       "      <td>青森市</td>\n",
       "      <td>166</td>\n",
       "    </tr>\n",
       "    <tr>\n",
       "      <th>4</th>\n",
       "      <td>八戸市</td>\n",
       "      <td>164</td>\n",
       "    </tr>\n",
       "  </tbody>\n",
       "</table>\n",
       "</div>"
      ],
      "text/plain": [
       "    地域  年平均\n",
       "0  札幌市  167\n",
       "1  函館市  167\n",
       "2  旭川市  169\n",
       "3  青森市  166\n",
       "4  八戸市  164"
      ]
     },
     "execution_count": 26,
     "metadata": {},
     "output_type": "execute_result"
    }
   ],
   "source": [
    "gas.head()"
   ]
  },
  {
   "cell_type": "markdown",
   "id": "3a6544cd",
   "metadata": {
    "hidden": true
   },
   "source": [
    "列ラベルの変更"
   ]
  },
  {
   "cell_type": "code",
   "execution_count": 27,
   "id": "3fabcf40",
   "metadata": {
    "hidden": true
   },
   "outputs": [],
   "source": [
    "gas.columns = ['area', 'price']"
   ]
  },
  {
   "cell_type": "markdown",
   "id": "f21f804a",
   "metadata": {
    "hidden": true
   },
   "source": [
    "データの詳細"
   ]
  },
  {
   "cell_type": "code",
   "execution_count": 28,
   "id": "a0de9a9f",
   "metadata": {
    "hidden": true
   },
   "outputs": [
    {
     "name": "stdout",
     "output_type": "stream",
     "text": [
      "<class 'pandas.core.frame.DataFrame'>\n",
      "RangeIndex: 81 entries, 0 to 80\n",
      "Data columns (total 2 columns):\n",
      " #   Column  Non-Null Count  Dtype \n",
      "---  ------  --------------  ----- \n",
      " 0   area    81 non-null     object\n",
      " 1   price   81 non-null     int64 \n",
      "dtypes: int64(1), object(1)\n",
      "memory usage: 1.4+ KB\n"
     ]
    }
   ],
   "source": [
    "gas.info()"
   ]
  },
  {
   "cell_type": "markdown",
   "id": "4275c9f2",
   "metadata": {
    "hidden": true
   },
   "source": [
    "記述統計"
   ]
  },
  {
   "cell_type": "code",
   "execution_count": 29,
   "id": "cfaeb133",
   "metadata": {
    "hidden": true,
    "scrolled": true
   },
   "outputs": [
    {
     "data": {
      "text/plain": [
       "count     81.000000\n",
       "mean     170.604938\n",
       "std        4.718790\n",
       "min      160.000000\n",
       "25%      168.000000\n",
       "50%      170.000000\n",
       "75%      174.000000\n",
       "max      184.000000\n",
       "Name: price, dtype: float64"
      ]
     },
     "execution_count": 29,
     "metadata": {},
     "output_type": "execute_result"
    }
   ],
   "source": [
    "gas['price'].describe()"
   ]
  },
  {
   "cell_type": "code",
   "execution_count": 30,
   "id": "d77be44e",
   "metadata": {
    "hidden": true,
    "tags": [
     "remove-cell"
    ]
   },
   "outputs": [
    {
     "data": {
      "text/plain": [
       "160"
      ]
     },
     "metadata": {
      "scrapbook": {
       "mime_prefix": "",
       "name": "gas_min_glued"
      }
     },
     "output_type": "display_data"
    },
    {
     "data": {
      "text/plain": [
       "184"
      ]
     },
     "metadata": {
      "scrapbook": {
       "mime_prefix": "",
       "name": "gas_max_glued"
      }
     },
     "output_type": "display_data"
    },
    {
     "data": {
      "text/plain": [
       "24"
      ]
     },
     "metadata": {
      "scrapbook": {
       "mime_prefix": "",
       "name": "gas_diff_glued"
      }
     },
     "output_type": "display_data"
    }
   ],
   "source": [
    "from myst_nb import glue\n",
    "gas_min = int( gas['price'].describe()['min'] )\n",
    "gas_max = int( gas['price'].describe()['max'] )\n",
    "gas_diff = gas_max - gas_min\n",
    "glue(\"gas_min_glued\", gas_min)\n",
    "glue(\"gas_max_glued\", gas_max)\n",
    "glue(\"gas_diff_glued\", gas_diff)"
   ]
  },
  {
   "cell_type": "markdown",
   "id": "c33bf661",
   "metadata": {
    "hidden": true
   },
   "source": [
    "最安値は{glue:text}`gas_min_glued`円，最高値は{glue:text}`gas_max_glued`円であり，その差は{glue:text}`gas_diff_glued`円。平均からの乖離のヒストグラムをプロットしよう。"
   ]
  },
  {
   "cell_type": "code",
   "execution_count": 31,
   "id": "b2532387",
   "metadata": {
    "hidden": true
   },
   "outputs": [
    {
     "data": {
      "image/png": "[encoded data removed]",
      "text/plain": [
       "<Figure size 640x480 with 1 Axes>"
      ]
     },
     "metadata": {},
     "output_type": "display_data"
    }
   ],
   "source": [
    "gas['mean_deviation'] = gas['price'] / gas['price'].mean() - 1\n",
    "\n",
    "gas['mean_deviation'].hist(ec='white')\n",
    "pass"
   ]
  },
  {
   "cell_type": "code",
   "execution_count": 32,
   "id": "b6a72867",
   "metadata": {
    "hidden": true,
    "tags": [
     "remove-cell"
    ]
   },
   "outputs": [
    {
     "data": {
      "text/plain": [
       "6.216079311093425"
      ]
     },
     "metadata": {
      "scrapbook": {
       "mime_prefix": "",
       "name": "gas_mean_dev_min_glued"
      }
     },
     "output_type": "display_data"
    },
    {
     "data": {
      "text/plain": [
       "7.8515087922425675"
      ]
     },
     "metadata": {
      "scrapbook": {
       "mime_prefix": "",
       "name": "gas_mean_dev_max_glued"
      }
     },
     "output_type": "display_data"
    }
   ],
   "source": [
    "from myst_nb import glue\n",
    "cond = ( gas['mean_deviation']==gas['mean_deviation'].min() )\n",
    "gas_mean_dev_min = -100*gas.loc[cond,'mean_deviation'].iloc[0]\n",
    "cond = ( gas['mean_deviation']==gas['mean_deviation'].max() )\n",
    "gas_mean_dev_max = 100*gas.loc[cond,'mean_deviation'].iloc[0]\n",
    "glue('gas_mean_dev_min_glued',gas_mean_dev_min)\n",
    "glue('gas_mean_dev_max_glued',gas_mean_dev_max)"
   ]
  },
  {
   "cell_type": "markdown",
   "id": "b8b89adb",
   "metadata": {
    "hidden": true
   },
   "source": [
    "平均から高くても約{glue:text}`gas_mean_dev_max_glued:.1f`％，安くても約{glue:text}`gas_mean_dev_min_glued:.1f`％程しか違わない。標準偏差（変動係数）を計算してみよう。"
   ]
  },
  {
   "cell_type": "code",
   "execution_count": 33,
   "id": "4753c83d",
   "metadata": {
    "hidden": true
   },
   "outputs": [
    {
     "data": {
      "text/plain": [
       "0.027659161861784246"
      ]
     },
     "execution_count": 33,
     "metadata": {},
     "output_type": "execute_result"
    }
   ],
   "source": [
    "gas['mean_deviation'].std()"
   ]
  },
  {
   "cell_type": "markdown",
   "id": "781b2faf",
   "metadata": {
    "hidden": true
   },
   "source": [
    "アイスクリームよりも価格のばらつきは小さい。直感的に，ガソリンスタンドへは車やバイクで行くことになり，消費者が価格を比較し少しでも安いスタンドへ行く費用が安いためかも知れない。\n",
    "\n",
    "最高値の地域は？"
   ]
  },
  {
   "cell_type": "code",
   "execution_count": 34,
   "id": "7816f63b",
   "metadata": {
    "hidden": true
   },
   "outputs": [
    {
     "data": {
      "text/html": [
       "<div>\n",
       "<style scoped>\n",
       "    .dataframe tbody tr th:only-of-type {\n",
       "        vertical-align: middle;\n",
       "    }\n",
       "\n",
       "    .dataframe tbody tr th {\n",
       "        vertical-align: top;\n",
       "    }\n",
       "\n",
       "    .dataframe thead th {\n",
       "        text-align: right;\n",
       "    }\n",
       "</style>\n",
       "<table border=\"1\" class=\"dataframe\">\n",
       "  <thead>\n",
       "    <tr style=\"text-align: right;\">\n",
       "      <th></th>\n",
       "      <th>area</th>\n",
       "      <th>price</th>\n",
       "      <th>mean_deviation</th>\n",
       "    </tr>\n",
       "  </thead>\n",
       "  <tbody>\n",
       "    <tr>\n",
       "      <th>77</th>\n",
       "      <td>大分市</td>\n",
       "      <td>184</td>\n",
       "      <td>0.078515</td>\n",
       "    </tr>\n",
       "  </tbody>\n",
       "</table>\n",
       "</div>"
      ],
      "text/plain": [
       "   area  price  mean_deviation\n",
       "77  大分市    184        0.078515"
      ]
     },
     "execution_count": 34,
     "metadata": {},
     "output_type": "execute_result"
    }
   ],
   "source": [
    "cond = ( gas['price']==gas['price'].max() )\n",
    "gas.loc[cond,:]"
   ]
  },
  {
   "cell_type": "markdown",
   "id": "cb38c1aa",
   "metadata": {
    "heading_collapsed": true,
    "hidden": true
   },
   "source": [
    "### 結論"
   ]
  },
  {
   "cell_type": "markdown",
   "id": "ba33f12c",
   "metadata": {
    "hidden": true
   },
   "source": [
    "データを見る限り一物一価の法則は成立していない。主な理由は，前提となっている条件が満たされていないためである。冒頭でA市とB市の例を挙げたが，離れている場合は輸送費用がかかる。また，距離が遠くなれば情報の収集にもコストが掛かることになるだろうし，市場が異なれば取引費用も違ってくるかも知れない。このような費用を財１単位当たりで$\\tau$と表すと，利潤[](eq:19-1)は次式となる。\n",
    "\n",
    "$$\n",
    "\\pi=p_BX-p_AX-\\tau X=\\left(p_B-p_A-\\tau\\right)X\n",
    "$$ (eq:19-3)\n",
    "\n",
    "ここで，$\\tau X$が輸送費用などを捉えている。利潤がゼロになるまで企業が参入したとしても，\n",
    "\n",
    "$$\n",
    "\\pi=0\\quad\\Rightarrow\\quad p_B=p_A+\\tau\n",
    "$$ (eq:19-4)\n",
    "\n",
    "となり，A市の財ががB市よりも安いままの状態が続くことになる。"
   ]
  },
  {
   "cell_type": "markdown",
   "id": "cc3f4f60",
   "metadata": {
    "heading_collapsed": true,
    "tags": [
     "remove-cell"
    ]
   },
   "source": [
    "## 経済間での一物一価：Big Mac"
   ]
  },
  {
   "cell_type": "markdown",
   "id": "0f726eb0",
   "metadata": {
    "hidden": true
   },
   "source": [
    "(sec:19-bigmac)=\n",
    "## 経済間での一物一価：Big Mac"
   ]
  },
  {
   "cell_type": "markdown",
   "id": "3784f324",
   "metadata": {
    "heading_collapsed": true,
    "hidden": true
   },
   "source": [
    "### はじめに"
   ]
  },
  {
   "cell_type": "markdown",
   "id": "e6fa6e4a",
   "metadata": {
    "hidden": true
   },
   "source": [
    "国内市場では一物一価の法則は成立しないことが分かった。では，経済間ではどうだろうか。国際貿易の輸送費用は更に高く，国境を跨ぐ情報伝達も時間がかかり，ビジネス慣例が違うことにより取引費用もかさむだろう。更には，そもそも貿易されない財・サービス（例えば，理髪）が存在し，裁定取引が成立しない。このように考えると，経済間でも一物一価の法則が成り立たないことは明らかだろう。\n",
    "\n",
    "しかし，２つ疑問点が残る。第１に，経済間における価格の散らばりの程度はどれくらいなのだろうか。国内市場よりも経済間の価格差の方が大きいと推測できるが，変動係数で考えるとどれほどの差が存在するのだろうか。２倍もしくは10倍だろうか？第２に，経済間の所得格差は大きく，日本の一人当たりGDPの5％に満たない国も存在する（[発展会計](chap:5a-accounting)を参照）。所得格差は財・サービスの需要の大きさに反映される。正常財であれば，所得が高い経済の需要は高くなり，価格は高くなるのではないかと想像できる。また所得が高い国では生産性も高い。実際，生産性が高く（従って，所得が高い）経済では価格が高い傾向になることが知られている。この節では，世界中で概ね同質財と考えられるマクドナルドのハンバーガーBig Macを取り上げ，これらの問いを考察する。"
   ]
  },
  {
   "cell_type": "markdown",
   "id": "63cecc02",
   "metadata": {
    "hidden": true
   },
   "source": [
    "```{admonition} Big Macの違い\n",
    "国毎にBig Macは多少の違いがあるようだ。[このリンクを参照](https://en.wikipedia.org/wiki/Big_Mac_Index#Comparison_issues)。\n",
    "```"
   ]
  },
  {
   "cell_type": "markdown",
   "id": "f65cfb13",
   "metadata": {
    "heading_collapsed": true,
    "hidden": true
   },
   "source": [
    "### データ"
   ]
  },
  {
   "cell_type": "markdown",
   "id": "c7978e96",
   "metadata": {
    "hidden": true
   },
   "source": [
    "`py4etrics`に含まれるデータ・セット`bigmac`を使って議論を進める。まず含まれる変数の定義を表示してみよう。"
   ]
  },
  {
   "cell_type": "code",
   "execution_count": 35,
   "id": "1f777c75",
   "metadata": {
    "hidden": true
   },
   "outputs": [
    {
     "name": "stdout",
     "output_type": "stream",
     "text": [
      "\n",
      "    | `year`: 年（2000年〜2023年）\n",
      "    | `country`: 国名\n",
      "    | `iso`: ISO国コード\n",
      "    | `currency_code`: 通貨コード\n",
      "    | `price_local`: Big Macの価格（自国通貨単位）\n",
      "    | `exr`: 名目為替レート（自国通貨単位/米ドル）\n",
      "    | `gdppc_local`: 名目一人当たりGDP（自国通貨単位）\n",
      "    |\n",
      "    | * 年次データ\n",
      "    |\n",
      "    | ＜出典＞\n",
      "    | https://github.com/TheEconomist/big-mac-data (Copyright The Economist)\n"
     ]
    }
   ],
   "source": [
    "py4macro.data('bigmac', description=True)"
   ]
  },
  {
   "cell_type": "markdown",
   "id": "a0b720b4",
   "metadata": {
    "hidden": true
   },
   "source": [
    "データセットを変数`bigmac`に割り当てて，最初の5行を表示してみる。"
   ]
  },
  {
   "cell_type": "code",
   "execution_count": 36,
   "id": "4a4f8604",
   "metadata": {
    "hidden": true
   },
   "outputs": [
    {
     "data": {
      "text/html": [
       "<div>\n",
       "<style scoped>\n",
       "    .dataframe tbody tr th:only-of-type {\n",
       "        vertical-align: middle;\n",
       "    }\n",
       "\n",
       "    .dataframe tbody tr th {\n",
       "        vertical-align: top;\n",
       "    }\n",
       "\n",
       "    .dataframe thead th {\n",
       "        text-align: right;\n",
       "    }\n",
       "</style>\n",
       "<table border=\"1\" class=\"dataframe\">\n",
       "  <thead>\n",
       "    <tr style=\"text-align: right;\">\n",
       "      <th></th>\n",
       "      <th>year</th>\n",
       "      <th>country</th>\n",
       "      <th>iso</th>\n",
       "      <th>currency_code</th>\n",
       "      <th>price_local</th>\n",
       "      <th>exr</th>\n",
       "      <th>gdppc_local</th>\n",
       "    </tr>\n",
       "    <tr>\n",
       "      <th></th>\n",
       "      <th></th>\n",
       "      <th></th>\n",
       "      <th></th>\n",
       "      <th></th>\n",
       "      <th></th>\n",
       "      <th></th>\n",
       "      <th></th>\n",
       "    </tr>\n",
       "  </thead>\n",
       "  <tbody>\n",
       "    <tr>\n",
       "      <th>0</th>\n",
       "      <td>2000</td>\n",
       "      <td>Argentina</td>\n",
       "      <td>ARG</td>\n",
       "      <td>ARS</td>\n",
       "      <td>2.50</td>\n",
       "      <td>1.00</td>\n",
       "      <td>8709.072</td>\n",
       "    </tr>\n",
       "    <tr>\n",
       "      <th>1</th>\n",
       "      <td>2000</td>\n",
       "      <td>Australia</td>\n",
       "      <td>AUS</td>\n",
       "      <td>AUD</td>\n",
       "      <td>2.59</td>\n",
       "      <td>1.68</td>\n",
       "      <td>33722.920</td>\n",
       "    </tr>\n",
       "    <tr>\n",
       "      <th>2</th>\n",
       "      <td>2000</td>\n",
       "      <td>Brazil</td>\n",
       "      <td>BRA</td>\n",
       "      <td>BRL</td>\n",
       "      <td>2.95</td>\n",
       "      <td>1.79</td>\n",
       "      <td>6351.375</td>\n",
       "    </tr>\n",
       "    <tr>\n",
       "      <th>3</th>\n",
       "      <td>2000</td>\n",
       "      <td>Canada</td>\n",
       "      <td>CAN</td>\n",
       "      <td>CAD</td>\n",
       "      <td>2.85</td>\n",
       "      <td>1.47</td>\n",
       "      <td>33191.468</td>\n",
       "    </tr>\n",
       "    <tr>\n",
       "      <th>4</th>\n",
       "      <td>2000</td>\n",
       "      <td>Switzerland</td>\n",
       "      <td>CHE</td>\n",
       "      <td>CHF</td>\n",
       "      <td>5.90</td>\n",
       "      <td>1.70</td>\n",
       "      <td>62742.041</td>\n",
       "    </tr>\n",
       "  </tbody>\n",
       "</table>\n",
       "</div>"
      ],
      "text/plain": [
       "   year      country  iso currency_code  price_local   exr  gdppc_local\n",
       "                                                                       \n",
       "0  2000    Argentina  ARG           ARS         2.50  1.00     8709.072\n",
       "1  2000    Australia  AUS           AUD         2.59  1.68    33722.920\n",
       "2  2000       Brazil  BRA           BRL         2.95  1.79     6351.375\n",
       "3  2000       Canada  CAN           CAD         2.85  1.47    33191.468\n",
       "4  2000  Switzerland  CHE           CHF         5.90  1.70    62742.041"
      ]
     },
     "execution_count": 36,
     "metadata": {},
     "output_type": "execute_result"
    }
   ],
   "source": [
    "bigmac = py4macro.data('bigmac')\n",
    "bigmac.head()"
   ]
  },
  {
   "cell_type": "markdown",
   "id": "93e9bef0",
   "metadata": {
    "hidden": true
   },
   "source": [
    "このでは2023年のデータを使う。2023年のデータだけを抽出し`bigmac`に再割り当てしよう。"
   ]
  },
  {
   "cell_type": "code",
   "execution_count": 37,
   "id": "44005f74",
   "metadata": {
    "hidden": true
   },
   "outputs": [],
   "source": [
    "cond = ( bigmac['year']==2023 )\n",
    "bigmac = bigmac.loc[cond,:].copy()"
   ]
  },
  {
   "cell_type": "markdown",
   "id": "767c1a71",
   "metadata": {
    "hidden": true
   },
   "source": [
    "```{admonition} コードの説明\n",
    ":class: dropdown\n",
    "[ここで説明](https://py4basics.github.io/things_to_note.html#pandas)している問題を避けるために，メソッド`.copy()`を使っている。ここで使わなくても問題はないが，使わなければ警告が表示されることになる。\n",
    "```"
   ]
  },
  {
   "cell_type": "markdown",
   "id": "968c6bb9",
   "metadata": {
    "hidden": true
   },
   "source": [
    "それぞれの変数のデータ型と欠損値を確認しよう。"
   ]
  },
  {
   "cell_type": "code",
   "execution_count": 38,
   "id": "e45c51bc",
   "metadata": {
    "hidden": true,
    "scrolled": true
   },
   "outputs": [
    {
     "name": "stdout",
     "output_type": "stream",
     "text": [
      "<class 'pandas.core.frame.DataFrame'>\n",
      "Index: 72 entries, 1159 to 1230\n",
      "Data columns (total 7 columns):\n",
      " #   Column         Non-Null Count  Dtype  \n",
      "---  ------         --------------  -----  \n",
      " 0   year           72 non-null     int64  \n",
      " 1   country        72 non-null     object \n",
      " 2   iso            72 non-null     object \n",
      " 3   currency_code  72 non-null     object \n",
      " 4   price_local    72 non-null     float64\n",
      " 5   exr            72 non-null     float64\n",
      " 6   gdppc_local    71 non-null     float64\n",
      "dtypes: float64(3), int64(1), object(3)\n",
      "memory usage: 4.5+ KB\n"
     ]
    }
   ],
   "source": [
    "bigmac.info()"
   ]
  },
  {
   "cell_type": "markdown",
   "id": "4ccbedb8",
   "metadata": {
    "hidden": true
   },
   "source": [
    "`gdppc_local`に一つ欠損値があるだけである。どの国か調べてみよう。"
   ]
  },
  {
   "cell_type": "code",
   "execution_count": 39,
   "id": "1fe1fe61",
   "metadata": {
    "hidden": true
   },
   "outputs": [
    {
     "data": {
      "text/html": [
       "<div>\n",
       "<style scoped>\n",
       "    .dataframe tbody tr th:only-of-type {\n",
       "        vertical-align: middle;\n",
       "    }\n",
       "\n",
       "    .dataframe tbody tr th {\n",
       "        vertical-align: top;\n",
       "    }\n",
       "\n",
       "    .dataframe thead th {\n",
       "        text-align: right;\n",
       "    }\n",
       "</style>\n",
       "<table border=\"1\" class=\"dataframe\">\n",
       "  <thead>\n",
       "    <tr style=\"text-align: right;\">\n",
       "      <th></th>\n",
       "      <th>year</th>\n",
       "      <th>country</th>\n",
       "      <th>iso</th>\n",
       "      <th>currency_code</th>\n",
       "      <th>price_local</th>\n",
       "      <th>exr</th>\n",
       "      <th>gdppc_local</th>\n",
       "    </tr>\n",
       "    <tr>\n",
       "      <th></th>\n",
       "      <th></th>\n",
       "      <th></th>\n",
       "      <th></th>\n",
       "      <th></th>\n",
       "      <th></th>\n",
       "      <th></th>\n",
       "      <th></th>\n",
       "    </tr>\n",
       "  </thead>\n",
       "  <tbody>\n",
       "    <tr>\n",
       "      <th>1198</th>\n",
       "      <td>2023</td>\n",
       "      <td>Lebanon</td>\n",
       "      <td>LBN</td>\n",
       "      <td>LBP</td>\n",
       "      <td>430000.0</td>\n",
       "      <td>85500.0</td>\n",
       "      <td>NaN</td>\n",
       "    </tr>\n",
       "  </tbody>\n",
       "</table>\n",
       "</div>"
      ],
      "text/plain": [
       "      year  country  iso currency_code  price_local      exr  gdppc_local\n",
       "                                                                         \n",
       "1198  2023  Lebanon  LBN           LBP     430000.0  85500.0          NaN"
      ]
     },
     "execution_count": 39,
     "metadata": {},
     "output_type": "execute_result"
    }
   ],
   "source": [
    "cond = bigmac['gdppc_local'].isna()\n",
    "bigmac.loc[cond,:]"
   ]
  },
  {
   "cell_type": "code",
   "execution_count": 40,
   "id": "6d3ee2bf",
   "metadata": {
    "hidden": true,
    "tags": [
     "remove-cell"
    ]
   },
   "outputs": [
    {
     "data": {
      "text/plain": [
       "'Lebanon'"
      ]
     },
     "metadata": {
      "scrapbook": {
       "mime_prefix": "",
       "name": "country_nan_glued"
      }
     },
     "output_type": "display_data"
    }
   ],
   "source": [
    "from myst_nb import glue\n",
    "cond = bigmac['gdppc_local'].isna()\n",
    "country_nan = bigmac.loc[cond,'country'].iloc[0]\n",
    "glue('country_nan_glued',country_nan)"
   ]
  },
  {
   "cell_type": "markdown",
   "id": "27c60abb",
   "metadata": {
    "hidden": true
   },
   "source": [
    "{glue:text}`country_nan_glued`に欠損値がある。"
   ]
  },
  {
   "cell_type": "markdown",
   "id": "c5a9085a",
   "metadata": {
    "heading_collapsed": true,
    "hidden": true
   },
   "source": [
    "### 一物一価"
   ]
  },
  {
   "cell_type": "markdown",
   "id": "793f2e05",
   "metadata": {
    "hidden": true
   },
   "source": [
    "これから行う作業を説明するために変数を定義しよう。\n",
    "* $P_i=$ $i$国のBig Macの価格（自国通貨）\n",
    "    * $P_{\\text{JP}}=$ 日本のBig Macの価格（円）\n",
    "    * $P_{\\text{US}}=$ 米国のBig Macの価格（米ドル）\n",
    "    * `bigmac`の列`price_local`に対応\n",
    "* $e_i=$ 名目為替レート（$i$国通貨/米ドル）\n",
    "    * $e_{\\text{JP}}=$ 名目為替レート（円/米ドル）\n",
    "    * $e_{\\text{US}}=1$\n",
    "    * `bigmac`の列`exr`に対応\n",
    "\n",
    "これらの変数を使うと，$i$国のBig Macの米ドル表示価格は次式で計算できる。\n",
    "\n",
    "$$\n",
    "i\\text{国のBig Macのドル価格：}\\;\\dfrac{P_i}{e_i}\n",
    "$$ (eq:19-5)\n",
    "\n",
    "一物一価が成立する場合は$\\dfrac{P_i}{e_i}$と$P_{\\text{US}}$（ドル表示）が等しくなる。"
   ]
  },
  {
   "cell_type": "markdown",
   "id": "807e19fa",
   "metadata": {
    "hidden": true
   },
   "source": [
    "````{hint}\n",
    "単位を確認することで為替レートが入る数式を簡単に理解できる。例えは，$c_i$を$i$国の通貨単位として，[](eq:19-5)の右辺を単位で表してみよう。\n",
    "\n",
    "```{math}\n",
    "\\dfrac{c_i}{c_i/\\$}=\\$\n",
    "```\n",
    "\n",
    "となり，単位が米ドルになっているのが分かる。また，式[](eq:19-8)の右辺を考えてみよう。\n",
    "\n",
    "```{math}\n",
    "e_{i\\text{JP}}=\\dfrac{c_i/\\$}{¥/\\$}=\\frac{c_i}{¥}\n",
    "```\n",
    "\n",
    "１円に対する$i$国の貨幣単位になっている。次に，実質為替レート[](eq:19-rexr)の右辺を単位で表してみよう。\n",
    "\n",
    "```{math}\n",
    "\\dfrac{\\dfrac{c_i}{\\$}$}{c_i}\n",
    "```\n",
    "\n",
    "となり，貨幣単位がキャンセルされて無くなってしまう。実質為替レートは，実質変数であり貨幣単位から独立しているためである。\n",
    "````"
   ]
  },
  {
   "cell_type": "markdown",
   "id": "754f75b8",
   "metadata": {
    "hidden": true
   },
   "source": [
    "このまま$i$国と米国を考えて議論を進めることもできるが，以下では円を基準に置いて分析を進めよう。その場合，$i$国のBig Macの円表示価格は次式で計算できる。\n",
    "\n",
    "$$\n",
    "i\\text{国のBig Macの円価格}\n",
    "=\\dfrac{P_i}{e_{i\\text{JP}}}\n",
    "$$ (eq:19-6a)\n",
    "\n",
    "ここで\n",
    "\n",
    "$$\n",
    "e_{i\\text{JP}}\\equiv\\frac{e_i}{e_{\\text{JP}}}\n",
    "\\qquad\\left(\\text{単位：}\n",
    "\\dfrac{i\\text{国の通貨}/\\text{米ドル}}{\\text{円}/\\text{米ドル}}\n",
    "=\\dfrac{i\\text{国の通貨}}{\\text{円}}\n",
    "\\right)\n",
    "$$ (eq:19-8)\n",
    "\n",
    "は$i$国通貨/円の市場為替レートである。$\\dfrac{P_i}{e_{iJP}}$と$P_{\\text{JP}}$（円表示）が等しくなると一物一価の成立となるが，そうならないことをデータで確認することになる。"
   ]
  },
  {
   "cell_type": "markdown",
   "id": "6c40ece2",
   "metadata": {
    "hidden": true
   },
   "source": [
    "国内財と同様に，平均価格を基準にし乖離率を考えることもできるが，日本と比べてどれだけ違うかを計算するために，ここでは日本のBig Macの価格に対しての乖離率を考える。\n",
    "\n",
    "$$\n",
    "i\\text{国価格の日本価格からの乖離率（円）}=\\dfrac{P_i/e_{i\\text{JP}}}{P_{\\text{JP}}}-1\n",
    "$$ (eq:19-7)"
   ]
  },
  {
   "cell_type": "markdown",
   "id": "cc515ba1",
   "metadata": {
    "hidden": true
   },
   "source": [
    "まず式[](eq:19-7)を計算するために，変数`ejp`に円/ドル為替レートを割り当てよう。"
   ]
  },
  {
   "cell_type": "code",
   "execution_count": 41,
   "id": "04253d0e",
   "metadata": {
    "hidden": true
   },
   "outputs": [
    {
     "data": {
      "text/plain": [
       "142.08"
      ]
     },
     "execution_count": 41,
     "metadata": {},
     "output_type": "execute_result"
    }
   ],
   "source": [
    "cond = ( bigmac['iso']=='JPN' )\n",
    "ejp = bigmac.loc[cond,'exr'].iloc[0]\n",
    "ejp"
   ]
  },
  {
   "cell_type": "markdown",
   "id": "8fa33ff1",
   "metadata": {
    "hidden": true
   },
   "source": [
    "`ejp`，`local_price`，`exr`を使い各国のBig Macを円表示に変換し，新たな列`yen_price`として`bigmac`に追加しよう。"
   ]
  },
  {
   "cell_type": "code",
   "execution_count": 42,
   "id": "11948490",
   "metadata": {
    "hidden": true
   },
   "outputs": [],
   "source": [
    "bigmac['price_yen'] = ( bigmac['price_local']/bigmac['exr'] )*ejp"
   ]
  },
  {
   "cell_type": "markdown",
   "id": "dffb4899",
   "metadata": {
    "hidden": true
   },
   "source": [
    "日本の価格を確認してみよう。"
   ]
  },
  {
   "cell_type": "code",
   "execution_count": 43,
   "id": "667d9658",
   "metadata": {
    "hidden": true,
    "scrolled": true
   },
   "outputs": [
    {
     "data": {
      "text/html": [
       "<div>\n",
       "<style scoped>\n",
       "    .dataframe tbody tr th:only-of-type {\n",
       "        vertical-align: middle;\n",
       "    }\n",
       "\n",
       "    .dataframe tbody tr th {\n",
       "        vertical-align: top;\n",
       "    }\n",
       "\n",
       "    .dataframe thead th {\n",
       "        text-align: right;\n",
       "    }\n",
       "</style>\n",
       "<table border=\"1\" class=\"dataframe\">\n",
       "  <thead>\n",
       "    <tr style=\"text-align: right;\">\n",
       "      <th></th>\n",
       "      <th>price_local</th>\n",
       "      <th>price_yen</th>\n",
       "    </tr>\n",
       "    <tr>\n",
       "      <th></th>\n",
       "      <th></th>\n",
       "      <th></th>\n",
       "    </tr>\n",
       "  </thead>\n",
       "  <tbody>\n",
       "    <tr>\n",
       "      <th>1195</th>\n",
       "      <td>450.0</td>\n",
       "      <td>450.0</td>\n",
       "    </tr>\n",
       "  </tbody>\n",
       "</table>\n",
       "</div>"
      ],
      "text/plain": [
       "      price_local  price_yen\n",
       "                            \n",
       "1195        450.0      450.0"
      ]
     },
     "execution_count": 43,
     "metadata": {},
     "output_type": "execute_result"
    }
   ],
   "source": [
    "cond = ( bigmac['iso']=='JPN' )\n",
    "bigmac.loc[cond,['price_local','price_yen']]"
   ]
  },
  {
   "cell_type": "code",
   "execution_count": 44,
   "id": "23e955e2",
   "metadata": {
    "hidden": true,
    "tags": [
     "remove-cell"
    ]
   },
   "outputs": [
    {
     "data": {
      "text/plain": [
       "450"
      ]
     },
     "metadata": {
      "scrapbook": {
       "mime_prefix": "",
       "name": "bigmac_jp_glued"
      }
     },
     "output_type": "display_data"
    }
   ],
   "source": [
    "from myst_nb import glue\n",
    "cond = ( bigmac['iso']=='JPN' )\n",
    "bigmac_jp = int( bigmac.loc[cond,'price_yen'].iloc[0] )\n",
    "glue(\"bigmac_jp_glued\", bigmac_jp)"
   ]
  },
  {
   "cell_type": "markdown",
   "id": "0829b9dc",
   "metadata": {
    "hidden": true
   },
   "source": [
    "米国の価格はどうだろう。"
   ]
  },
  {
   "cell_type": "code",
   "execution_count": 45,
   "id": "6cb897b1",
   "metadata": {
    "hidden": true
   },
   "outputs": [
    {
     "data": {
      "text/html": [
       "<div>\n",
       "<style scoped>\n",
       "    .dataframe tbody tr th:only-of-type {\n",
       "        vertical-align: middle;\n",
       "    }\n",
       "\n",
       "    .dataframe tbody tr th {\n",
       "        vertical-align: top;\n",
       "    }\n",
       "\n",
       "    .dataframe thead th {\n",
       "        text-align: right;\n",
       "    }\n",
       "</style>\n",
       "<table border=\"1\" class=\"dataframe\">\n",
       "  <thead>\n",
       "    <tr style=\"text-align: right;\">\n",
       "      <th></th>\n",
       "      <th>price_local</th>\n",
       "      <th>price_yen</th>\n",
       "    </tr>\n",
       "    <tr>\n",
       "      <th></th>\n",
       "      <th></th>\n",
       "      <th></th>\n",
       "    </tr>\n",
       "  </thead>\n",
       "  <tbody>\n",
       "    <tr>\n",
       "      <th>1227</th>\n",
       "      <td>5.58</td>\n",
       "      <td>792.8064</td>\n",
       "    </tr>\n",
       "  </tbody>\n",
       "</table>\n",
       "</div>"
      ],
      "text/plain": [
       "      price_local  price_yen\n",
       "                            \n",
       "1227         5.58   792.8064"
      ]
     },
     "execution_count": 45,
     "metadata": {},
     "output_type": "execute_result"
    }
   ],
   "source": [
    "cond = ( bigmac['iso']=='USA' )\n",
    "bigmac.loc[cond,['price_local','price_yen']]"
   ]
  },
  {
   "cell_type": "markdown",
   "id": "f09a8acb",
   "metadata": {
    "hidden": true
   },
   "source": [
    "日本の価格{glue:text}`bigmac_jp_glued`円と比べると，米国でのBig Macの価格は少し高く感じる。記述統計を確認してみよう。"
   ]
  },
  {
   "cell_type": "code",
   "execution_count": 46,
   "id": "e91c0d75",
   "metadata": {
    "hidden": true
   },
   "outputs": [
    {
     "data": {
      "text/plain": [
       "count      72.000000\n",
       "mean      647.528212\n",
       "std       170.350146\n",
       "min       339.076894\n",
       "25%       505.350594\n",
       "50%       666.820588\n",
       "75%       767.585089\n",
       "max      1098.155390\n",
       "Name: price_yen, dtype: float64"
      ]
     },
     "execution_count": 46,
     "metadata": {},
     "output_type": "execute_result"
    }
   ],
   "source": [
    "bigmac['price_yen'].describe()"
   ]
  },
  {
   "cell_type": "code",
   "execution_count": 47,
   "id": "78177197",
   "metadata": {
    "hidden": true,
    "tags": [
     "remove-cell"
    ]
   },
   "outputs": [
    {
     "data": {
      "text/plain": [
       "339"
      ]
     },
     "metadata": {
      "scrapbook": {
       "mime_prefix": "",
       "name": "bigmac_min_glued"
      }
     },
     "output_type": "display_data"
    },
    {
     "data": {
      "text/plain": [
       "1098"
      ]
     },
     "metadata": {
      "scrapbook": {
       "mime_prefix": "",
       "name": "bigmac_max_glued"
      }
     },
     "output_type": "display_data"
    },
    {
     "data": {
      "text/plain": [
       "759"
      ]
     },
     "metadata": {
      "scrapbook": {
       "mime_prefix": "",
       "name": "bigmac_diff_glued"
      }
     },
     "output_type": "display_data"
    },
    {
     "data": {
      "text/plain": [
       "647"
      ]
     },
     "metadata": {
      "scrapbook": {
       "mime_prefix": "",
       "name": "bigmac_mean_glued"
      }
     },
     "output_type": "display_data"
    }
   ],
   "source": [
    "from myst_nb import glue\n",
    "bigmac_min = int( bigmac['price_yen'].describe()['min'] )\n",
    "bigmac_max = int( bigmac['price_yen'].describe()['max'] )\n",
    "bigmac_diff = bigmac_max - bigmac_min\n",
    "bigmac_mean = int( bigmac['price_yen'].describe()['mean'] )\n",
    "glue(\"bigmac_min_glued\", bigmac_min)\n",
    "glue(\"bigmac_max_glued\", bigmac_max)\n",
    "glue(\"bigmac_diff_glued\", bigmac_diff)\n",
    "glue(\"bigmac_mean_glued\", bigmac_mean)"
   ]
  },
  {
   "cell_type": "markdown",
   "id": "34e472d7",
   "metadata": {
    "hidden": true
   },
   "source": [
    "最安値{glue:text}`bigmac_min_glued`と最高値{glue:text}`bigmac_max_glued`には大きな差（{glue:text}`bigmac_diff_glued`円）があることが分かる。平均価格{glue:text}`bigmac_mean_glued`円は日本の価格{glue:text}`bigmac_jp_glued`円を上回っている。\n",
    "\n",
    "次に，日本の価格からの乖離率を計算しよう。"
   ]
  },
  {
   "cell_type": "code",
   "execution_count": 48,
   "id": "e8817c5c",
   "metadata": {
    "hidden": true
   },
   "outputs": [],
   "source": [
    "# 日本の価格\n",
    "cond = ( bigmac['iso']=='JPN')\n",
    "yen_price_jpn = bigmac.loc[cond,'price_yen'].iloc[0]\n",
    "\n",
    "# 米国の価格に対してi国の価格の乖離率\n",
    "bigmac['price_yen_deviation'] = bigmac['price_yen'] / yen_price_jpn - 1"
   ]
  },
  {
   "cell_type": "markdown",
   "id": "1eaac6ca",
   "metadata": {
    "hidden": true
   },
   "source": [
    "ヒストグラムをプロットする。"
   ]
  },
  {
   "cell_type": "code",
   "execution_count": 49,
   "id": "f3a6c5bf",
   "metadata": {
    "hidden": true
   },
   "outputs": [
    {
     "data": {
      "image/png": "[encoded data removed]",
      "text/plain": [
       "<Figure size 640x480 with 1 Axes>"
      ]
     },
     "metadata": {},
     "output_type": "display_data"
    }
   ],
   "source": [
    "bigmac['price_yen_deviation'].hist(ec='white')\n",
    "pass"
   ]
  },
  {
   "cell_type": "markdown",
   "id": "34e74297",
   "metadata": {
    "hidden": true
   },
   "source": [
    "`0.0`が日本となる。一番高い国を調べてみよう。"
   ]
  },
  {
   "cell_type": "code",
   "execution_count": 50,
   "id": "1f5f0aa4",
   "metadata": {
    "hidden": true
   },
   "outputs": [
    {
     "data": {
      "text/html": [
       "<div>\n",
       "<style scoped>\n",
       "    .dataframe tbody tr th:only-of-type {\n",
       "        vertical-align: middle;\n",
       "    }\n",
       "\n",
       "    .dataframe tbody tr th {\n",
       "        vertical-align: top;\n",
       "    }\n",
       "\n",
       "    .dataframe thead th {\n",
       "        text-align: right;\n",
       "    }\n",
       "</style>\n",
       "<table border=\"1\" class=\"dataframe\">\n",
       "  <thead>\n",
       "    <tr style=\"text-align: right;\">\n",
       "      <th></th>\n",
       "      <th>country</th>\n",
       "      <th>price_yen</th>\n",
       "      <th>price_yen_deviation</th>\n",
       "    </tr>\n",
       "    <tr>\n",
       "      <th></th>\n",
       "      <th></th>\n",
       "      <th></th>\n",
       "      <th></th>\n",
       "    </tr>\n",
       "  </thead>\n",
       "  <tbody>\n",
       "    <tr>\n",
       "      <th>1168</th>\n",
       "      <td>Switzerland</td>\n",
       "      <td>1098.15539</td>\n",
       "      <td>1.440345</td>\n",
       "    </tr>\n",
       "  </tbody>\n",
       "</table>\n",
       "</div>"
      ],
      "text/plain": [
       "          country   price_yen  price_yen_deviation\n",
       "                                                  \n",
       "1168  Switzerland  1098.15539             1.440345"
      ]
     },
     "execution_count": 50,
     "metadata": {},
     "output_type": "execute_result"
    }
   ],
   "source": [
    "cond = ( bigmac['price_yen'] == bigmac['price_yen'].max() )\n",
    "bigmac.loc[cond,['country','price_yen','price_yen_deviation']]"
   ]
  },
  {
   "cell_type": "code",
   "execution_count": 51,
   "id": "55d2c7c5",
   "metadata": {
    "hidden": true,
    "tags": [
     "remove-cell"
    ]
   },
   "outputs": [
    {
     "data": {
      "text/plain": [
       "'Switzerland'"
      ]
     },
     "metadata": {
      "scrapbook": {
       "mime_prefix": "",
       "name": "bigmac_max_country_glued"
      }
     },
     "output_type": "display_data"
    },
    {
     "data": {
      "text/plain": [
       "1098.1553902059181"
      ]
     },
     "metadata": {
      "scrapbook": {
       "mime_prefix": "",
       "name": "bigmac_max_price_glued"
      }
     },
     "output_type": "display_data"
    }
   ],
   "source": [
    "from myst_nb import glue\n",
    "cond = ( bigmac['price_yen'] == bigmac['price_yen'].max() )\n",
    "bigmac_max_country = bigmac.loc[cond,'country'].iloc[0]\n",
    "bigmac_max_price = bigmac.loc[cond,'price_yen'].iloc[0]\n",
    "glue(\"bigmac_max_country_glued\", bigmac_max_country)\n",
    "glue(\"bigmac_max_price_glued\", bigmac_max_price)"
   ]
  },
  {
   "cell_type": "markdown",
   "id": "cd22b5b4",
   "metadata": {
    "hidden": true
   },
   "source": [
    "{glue:text}`bigmac_max_country_glued`の価格は約{glue:text}`bigmac_max_price_glued:.0f`円となっている。次に，価格が最も低い国を表示してみよう。"
   ]
  },
  {
   "cell_type": "code",
   "execution_count": 52,
   "id": "d3a56573",
   "metadata": {
    "hidden": true
   },
   "outputs": [
    {
     "data": {
      "text/html": [
       "<div>\n",
       "<style scoped>\n",
       "    .dataframe tbody tr th:only-of-type {\n",
       "        vertical-align: middle;\n",
       "    }\n",
       "\n",
       "    .dataframe tbody tr th {\n",
       "        vertical-align: top;\n",
       "    }\n",
       "\n",
       "    .dataframe thead th {\n",
       "        text-align: right;\n",
       "    }\n",
       "</style>\n",
       "<table border=\"1\" class=\"dataframe\">\n",
       "  <thead>\n",
       "    <tr style=\"text-align: right;\">\n",
       "      <th></th>\n",
       "      <th>country</th>\n",
       "      <th>price_yen</th>\n",
       "      <th>price_yen_deviation</th>\n",
       "    </tr>\n",
       "    <tr>\n",
       "      <th></th>\n",
       "      <th></th>\n",
       "      <th></th>\n",
       "      <th></th>\n",
       "    </tr>\n",
       "  </thead>\n",
       "  <tbody>\n",
       "    <tr>\n",
       "      <th>1224</th>\n",
       "      <td>Taiwan</td>\n",
       "      <td>339.076894</td>\n",
       "      <td>-0.246496</td>\n",
       "    </tr>\n",
       "  </tbody>\n",
       "</table>\n",
       "</div>"
      ],
      "text/plain": [
       "     country   price_yen  price_yen_deviation\n",
       "                                             \n",
       "1224  Taiwan  339.076894            -0.246496"
      ]
     },
     "execution_count": 52,
     "metadata": {},
     "output_type": "execute_result"
    }
   ],
   "source": [
    "cond = ( bigmac['price_yen']==bigmac['price_yen'].min() )\n",
    "bigmac.loc[cond,['country','price_yen','price_yen_deviation']]"
   ]
  },
  {
   "cell_type": "code",
   "execution_count": 53,
   "id": "a6fff582",
   "metadata": {
    "hidden": true,
    "tags": [
     "remove-cell"
    ]
   },
   "outputs": [
    {
     "data": {
      "text/plain": [
       "'Taiwan'"
      ]
     },
     "metadata": {
      "scrapbook": {
       "mime_prefix": "",
       "name": "bigmac_min_country_glued"
      }
     },
     "output_type": "display_data"
    },
    {
     "data": {
      "text/plain": [
       "24.64957917680938"
      ]
     },
     "metadata": {
      "scrapbook": {
       "mime_prefix": "",
       "name": "bigmac_min_deviation_glued"
      }
     },
     "output_type": "display_data"
    }
   ],
   "source": [
    "from myst_nb import glue\n",
    "cond = ( bigmac['price_yen']==bigmac['price_yen'].min() )\n",
    "bigmac_min_country = bigmac.loc[cond,'country'].iloc[0]\n",
    "bigmac_min_deviation = -100*bigmac.loc[cond,'price_yen_deviation'].iloc[0]\n",
    "glue(\"bigmac_min_country_glued\", bigmac_min_country)\n",
    "glue(\"bigmac_min_deviation_glued\", bigmac_min_deviation)"
   ]
  },
  {
   "cell_type": "markdown",
   "id": "53dbca7f",
   "metadata": {
    "hidden": true
   },
   "source": [
    "{glue:text}`bigmac_min_country_glued`が一番安く，日本より約{glue:text}`bigmac_min_deviation_glued:.1f`％も安価である。"
   ]
  },
  {
   "cell_type": "markdown",
   "id": "ced19a23",
   "metadata": {
    "hidden": true
   },
   "source": [
    "明らかにBig Macの一物一価は成立していない。\n",
    "\n",
    "価格のばらつき具合を確認し，上で確認した国内財の価格と比較するために，変動係数（平均からの乖離の標準偏差と同じ）を計算しよう。"
   ]
  },
  {
   "cell_type": "code",
   "execution_count": 54,
   "id": "8aa319de",
   "metadata": {
    "hidden": true
   },
   "outputs": [
    {
     "data": {
      "text/plain": [
       "0.2630775659462129"
      ]
     },
     "execution_count": 54,
     "metadata": {},
     "output_type": "execute_result"
    }
   ],
   "source": [
    "bigmac['price_yen'].std() / bigmac['price_yen'].mean()"
   ]
  },
  {
   "cell_type": "code",
   "execution_count": 55,
   "id": "036fb820",
   "metadata": {
    "hidden": true,
    "tags": [
     "remove-cell"
    ]
   },
   "outputs": [
    {
     "data": {
      "text/plain": [
       "0.2630775659462129"
      ]
     },
     "metadata": {
      "scrapbook": {
       "mime_prefix": "",
       "name": "bigmac_cv_glued"
      }
     },
     "output_type": "display_data"
    }
   ],
   "source": [
    "from myst_nb import glue\n",
    "bigmac_cv = bigmac['price_yen'].std() / bigmac['price_yen'].mean()\n",
    "glue(\"bigmac_cv_glued\", bigmac_cv)"
   ]
  },
  {
   "cell_type": "markdown",
   "id": "c9175b36",
   "metadata": {
    "hidden": true
   },
   "source": [
    "国内のチョコレート，アイスクリーム，ガソリン価格の標準偏差よりも非常に大きな値となっている。\n",
    "\n",
    "理由として次のことが言えるだろう。\n",
    "* Big Macは消耗財であり，貿易されずに生産された地域で消費される。言い換えると，消耗財が故に輸送費用は非常に高い非貿易財である。\n",
    "* 非貿易財の場合，国境を超えた競争が妨げられる。神戸のマクドナルドは，ロンドンやシンガポールのマクドナルドと価格競争をしているとは言い難い。"
   ]
  },
  {
   "cell_type": "markdown",
   "id": "c2ef0b6b",
   "metadata": {
    "heading_collapsed": true,
    "hidden": true
   },
   "source": [
    "### 所得の影響"
   ]
  },
  {
   "cell_type": "markdown",
   "id": "fd366f98",
   "metadata": {
    "hidden": true
   },
   "source": [
    "価格が最も高い`15`カ国国をリストアップしてみよう。"
   ]
  },
  {
   "cell_type": "code",
   "execution_count": 56,
   "id": "9c580d4e",
   "metadata": {
    "hidden": true
   },
   "outputs": [
    {
     "data": {
      "text/html": [
       "<div>\n",
       "<style scoped>\n",
       "    .dataframe tbody tr th:only-of-type {\n",
       "        vertical-align: middle;\n",
       "    }\n",
       "\n",
       "    .dataframe tbody tr th {\n",
       "        vertical-align: top;\n",
       "    }\n",
       "\n",
       "    .dataframe thead th {\n",
       "        text-align: right;\n",
       "    }\n",
       "</style>\n",
       "<table border=\"1\" class=\"dataframe\">\n",
       "  <thead>\n",
       "    <tr style=\"text-align: right;\">\n",
       "      <th></th>\n",
       "      <th>country</th>\n",
       "      <th>price_yen</th>\n",
       "      <th>price_yen_deviation</th>\n",
       "    </tr>\n",
       "    <tr>\n",
       "      <th></th>\n",
       "      <th></th>\n",
       "      <th></th>\n",
       "      <th></th>\n",
       "    </tr>\n",
       "  </thead>\n",
       "  <tbody>\n",
       "    <tr>\n",
       "      <th>1168</th>\n",
       "      <td>Switzerland</td>\n",
       "      <td>1098.155390</td>\n",
       "      <td>1.440345</td>\n",
       "    </tr>\n",
       "    <tr>\n",
       "      <th>1207</th>\n",
       "      <td>Norway</td>\n",
       "      <td>983.106806</td>\n",
       "      <td>1.184682</td>\n",
       "    </tr>\n",
       "    <tr>\n",
       "      <th>1226</th>\n",
       "      <td>Uruguay</td>\n",
       "      <td>974.413346</td>\n",
       "      <td>1.165363</td>\n",
       "    </tr>\n",
       "    <tr>\n",
       "      <th>1180</th>\n",
       "      <td>Finland</td>\n",
       "      <td>932.067608</td>\n",
       "      <td>1.071261</td>\n",
       "    </tr>\n",
       "    <tr>\n",
       "      <th>1193</th>\n",
       "      <td>Italy</td>\n",
       "      <td>908.570106</td>\n",
       "      <td>1.019045</td>\n",
       "    </tr>\n",
       "    <tr>\n",
       "      <th>1160</th>\n",
       "      <td>Argentina</td>\n",
       "      <td>851.628372</td>\n",
       "      <td>0.892507</td>\n",
       "    </tr>\n",
       "    <tr>\n",
       "      <th>1174</th>\n",
       "      <td>Germany</td>\n",
       "      <td>836.511097</td>\n",
       "      <td>0.858914</td>\n",
       "    </tr>\n",
       "    <tr>\n",
       "      <th>1206</th>\n",
       "      <td>Netherlands</td>\n",
       "      <td>834.944597</td>\n",
       "      <td>0.855432</td>\n",
       "    </tr>\n",
       "    <tr>\n",
       "      <th>1181</th>\n",
       "      <td>France</td>\n",
       "      <td>830.245096</td>\n",
       "      <td>0.844989</td>\n",
       "    </tr>\n",
       "    <tr>\n",
       "      <th>1179</th>\n",
       "      <td>Euro area</td>\n",
       "      <td>827.112096</td>\n",
       "      <td>0.838027</td>\n",
       "    </tr>\n",
       "    <tr>\n",
       "      <th>1221</th>\n",
       "      <td>Sweden</td>\n",
       "      <td>814.957088</td>\n",
       "      <td>0.811016</td>\n",
       "    </tr>\n",
       "    <tr>\n",
       "      <th>1177</th>\n",
       "      <td>Spain</td>\n",
       "      <td>814.580095</td>\n",
       "      <td>0.810178</td>\n",
       "    </tr>\n",
       "    <tr>\n",
       "      <th>1175</th>\n",
       "      <td>Denmark</td>\n",
       "      <td>802.961253</td>\n",
       "      <td>0.784358</td>\n",
       "    </tr>\n",
       "    <tr>\n",
       "      <th>1191</th>\n",
       "      <td>Ireland</td>\n",
       "      <td>798.915093</td>\n",
       "      <td>0.775367</td>\n",
       "    </tr>\n",
       "    <tr>\n",
       "      <th>1227</th>\n",
       "      <td>United States</td>\n",
       "      <td>792.806400</td>\n",
       "      <td>0.761792</td>\n",
       "    </tr>\n",
       "  </tbody>\n",
       "</table>\n",
       "</div>"
      ],
      "text/plain": [
       "            country    price_yen  price_yen_deviation\n",
       "                                                     \n",
       "1168    Switzerland  1098.155390             1.440345\n",
       "1207         Norway   983.106806             1.184682\n",
       "1226        Uruguay   974.413346             1.165363\n",
       "1180        Finland   932.067608             1.071261\n",
       "1193          Italy   908.570106             1.019045\n",
       "1160      Argentina   851.628372             0.892507\n",
       "1174        Germany   836.511097             0.858914\n",
       "1206    Netherlands   834.944597             0.855432\n",
       "1181         France   830.245096             0.844989\n",
       "1179      Euro area   827.112096             0.838027\n",
       "1221         Sweden   814.957088             0.811016\n",
       "1177          Spain   814.580095             0.810178\n",
       "1175        Denmark   802.961253             0.784358\n",
       "1191        Ireland   798.915093             0.775367\n",
       "1227  United States   792.806400             0.761792"
      ]
     },
     "execution_count": 56,
     "metadata": {},
     "output_type": "execute_result"
    }
   ],
   "source": [
    "bigmac_sorted = (\n",
    "                 bigmac.sort_values('price_yen',ascending=False)\n",
    "                    .loc[:,['country','price_yen','price_yen_deviation']]\n",
    ")\n",
    "bigmac_sorted.head(15)"
   ]
  },
  {
   "cell_type": "markdown",
   "id": "a0a355a8",
   "metadata": {
    "hidden": true
   },
   "source": [
    "```{admonition} コードの説明\n",
    ":class: dropdown\n",
    "丸括弧`()`の中にコードを書く場合，任意の箇所で改行してもエラーにはならない。1行で長いコードを書く場合に便利なので覚えておこう！\n",
    "```"
   ]
  },
  {
   "cell_type": "markdown",
   "id": "b91d4d94",
   "metadata": {
    "hidden": true
   },
   "source": [
    "全て所得が高い先進国となっている。価格が最も安い`10`カ国を確認してみよう。"
   ]
  },
  {
   "cell_type": "code",
   "execution_count": 57,
   "id": "b22babc6",
   "metadata": {
    "hidden": true
   },
   "outputs": [
    {
     "data": {
      "text/html": [
       "<div>\n",
       "<style scoped>\n",
       "    .dataframe tbody tr th:only-of-type {\n",
       "        vertical-align: middle;\n",
       "    }\n",
       "\n",
       "    .dataframe tbody tr th {\n",
       "        vertical-align: top;\n",
       "    }\n",
       "\n",
       "    .dataframe thead th {\n",
       "        text-align: right;\n",
       "    }\n",
       "</style>\n",
       "<table border=\"1\" class=\"dataframe\">\n",
       "  <thead>\n",
       "    <tr style=\"text-align: right;\">\n",
       "      <th></th>\n",
       "      <th>country</th>\n",
       "      <th>price_yen</th>\n",
       "      <th>price_yen_deviation</th>\n",
       "    </tr>\n",
       "    <tr>\n",
       "      <th></th>\n",
       "      <th></th>\n",
       "      <th></th>\n",
       "      <th></th>\n",
       "    </tr>\n",
       "  </thead>\n",
       "  <tbody>\n",
       "    <tr>\n",
       "      <th>1185</th>\n",
       "      <td>Hong Kong</td>\n",
       "      <td>419.023683</td>\n",
       "      <td>-0.068836</td>\n",
       "    </tr>\n",
       "    <tr>\n",
       "      <th>1204</th>\n",
       "      <td>Malaysia</td>\n",
       "      <td>414.360612</td>\n",
       "      <td>-0.079199</td>\n",
       "    </tr>\n",
       "    <tr>\n",
       "      <th>1225</th>\n",
       "      <td>Ukraine</td>\n",
       "      <td>403.948396</td>\n",
       "      <td>-0.102337</td>\n",
       "    </tr>\n",
       "    <tr>\n",
       "      <th>1212</th>\n",
       "      <td>Philippines</td>\n",
       "      <td>400.954028</td>\n",
       "      <td>-0.108991</td>\n",
       "    </tr>\n",
       "    <tr>\n",
       "      <th>1230</th>\n",
       "      <td>South Africa</td>\n",
       "      <td>398.666873</td>\n",
       "      <td>-0.114074</td>\n",
       "    </tr>\n",
       "    <tr>\n",
       "      <th>1228</th>\n",
       "      <td>Venezuela</td>\n",
       "      <td>386.278992</td>\n",
       "      <td>-0.141602</td>\n",
       "    </tr>\n",
       "    <tr>\n",
       "      <th>1176</th>\n",
       "      <td>Egypt</td>\n",
       "      <td>372.141633</td>\n",
       "      <td>-0.173019</td>\n",
       "    </tr>\n",
       "    <tr>\n",
       "      <th>1190</th>\n",
       "      <td>India</td>\n",
       "      <td>361.035298</td>\n",
       "      <td>-0.197699</td>\n",
       "    </tr>\n",
       "    <tr>\n",
       "      <th>1189</th>\n",
       "      <td>Indonesia</td>\n",
       "      <td>358.026525</td>\n",
       "      <td>-0.204385</td>\n",
       "    </tr>\n",
       "    <tr>\n",
       "      <th>1224</th>\n",
       "      <td>Taiwan</td>\n",
       "      <td>339.076894</td>\n",
       "      <td>-0.246496</td>\n",
       "    </tr>\n",
       "  </tbody>\n",
       "</table>\n",
       "</div>"
      ],
      "text/plain": [
       "           country   price_yen  price_yen_deviation\n",
       "                                                   \n",
       "1185     Hong Kong  419.023683            -0.068836\n",
       "1204      Malaysia  414.360612            -0.079199\n",
       "1225       Ukraine  403.948396            -0.102337\n",
       "1212   Philippines  400.954028            -0.108991\n",
       "1230  South Africa  398.666873            -0.114074\n",
       "1228     Venezuela  386.278992            -0.141602\n",
       "1176         Egypt  372.141633            -0.173019\n",
       "1190         India  361.035298            -0.197699\n",
       "1189     Indonesia  358.026525            -0.204385\n",
       "1224        Taiwan  339.076894            -0.246496"
      ]
     },
     "execution_count": 57,
     "metadata": {},
     "output_type": "execute_result"
    }
   ],
   "source": [
    "bigmac_sorted.tail(10)"
   ]
  },
  {
   "cell_type": "markdown",
   "id": "61f96051",
   "metadata": {
    "hidden": true
   },
   "source": [
    "貧しい国が並んでいる。実は，この結果は偶然ではない。Big Macの価格と所得の散布図を使い相関関係を確かめてみるために，円表示の一人当たりGDPを計算しよう。新たな列`gdppc_yen`を作成する"
   ]
  },
  {
   "cell_type": "code",
   "execution_count": 58,
   "id": "17592f66",
   "metadata": {
    "hidden": true
   },
   "outputs": [],
   "source": [
    "bigmac['gdppc_yen'] = ( bigmac['gdppc_local']/bigmac['exr'] )*ejp"
   ]
  },
  {
   "cell_type": "markdown",
   "id": "c3010243",
   "metadata": {
    "hidden": true
   },
   "source": [
    "散布図をプロットしよう。"
   ]
  },
  {
   "cell_type": "code",
   "execution_count": 59,
   "id": "b032fd24",
   "metadata": {
    "hidden": true
   },
   "outputs": [
    {
     "data": {
      "image/png": "[encoded data removed]",
      "text/plain": [
       "<Figure size 640x480 with 1 Axes>"
      ]
     },
     "metadata": {},
     "output_type": "display_data"
    }
   ],
   "source": [
    "ax = bigmac.plot('gdppc_yen', 'price_yen', kind='scatter', logx=True)\n",
    "ax.set_xlabel('一人当たり実質GDP（円，対数）', fontsize=15)\n",
    "ax.set_ylabel('Big Mac価格（円）', fontsize=15)\n",
    "pass"
   ]
  },
  {
   "cell_type": "markdown",
   "id": "ab2c2af2",
   "metadata": {
    "hidden": true
   },
   "source": [
    "```{admonition} コードの説明\n",
    ":class: dropdown\n",
    "１行目の`logx=True`は，横軸の変数`gdppc_yen`を対数化することを指定している。もし縦軸も対数化したければ`logy=True`を使うと良いだろう。これらの引数を使うことにより，対数化した変数を`bigmac`に追加することなく図示できる。便利なので覚えておこう！\n",
    "```"
   ]
  },
  {
   "cell_type": "markdown",
   "id": "410e204c",
   "metadata": {
    "hidden": true
   },
   "source": [
    "明らかに所得が高い国ではBig Macの価格は高くなっている。理由は，市場為替レートを使い円に変換していることに起因する。この現象の経済学的な含意については後ほど議論することにする。"
   ]
  },
  {
   "cell_type": "markdown",
   "id": "316db767",
   "metadata": {
    "hidden": true
   },
   "source": [
    "```{note}\n",
    "価格水準と所得の正の関係は経済間だけではなく，国内のデータでも観測されている。[Cheung and Fujii (2014)](https://academic.oup.com/oep/article-abstract/66/4/1070/2912951)は日本のデータを使い，都道府県の価格と所得の間に正の相関があることを報告している。\n",
    "```"
   ]
  },
  {
   "cell_type": "markdown",
   "id": "ceba412e",
   "metadata": {
    "heading_collapsed": true
   },
   "source": [
    "## 購買力平価と物価水準の分布"
   ]
  },
  {
   "cell_type": "markdown",
   "id": "69ef4782",
   "metadata": {
    "heading_collapsed": true,
    "hidden": true
   },
   "source": [
    "### PPPとは"
   ]
  },
  {
   "cell_type": "markdown",
   "id": "72a9955e",
   "metadata": {
    "hidden": true
   },
   "source": [
    "前節の分析から分かったことは，市場為替レートで各国のBig Macの価格を共通貨幣単位（上の例では円）で表し価格を比べてみると，一物一価は成立していないということである。また，国内財と比較して分布の幅は大きいことも確認できた。今度は逆に，Big Macの一物一価が成立する場合の交換レートはどのように定義されるかを考えてみよう。\n",
    "\n",
    "$$\n",
    "\\frac{P_i}{e_{i}^{\\text{BM}}}=P_{\\text{US}}\n",
    "$$ (eq:19-a)\n",
    "\n",
    "$e_{i}^{\\text{BM}}$がBig Macの一物一価レートであり，単位は「$i$国通貨/米ドル」である。左辺では$e_{i}^{\\text{BM}}$により$i$国通貨表示の価格$P_i$が米ドルに換算され，右辺の$P_{\\text{US}}$と等価となっている。この式を書き換えると\n",
    "\n",
    "$$\n",
    "e_{i}^{\\text{BM}}=\\frac{P_i}{P_{\\text{US}}}\n",
    "$$ (eq:19-aa)\n",
    "\n",
    "となる。"
   ]
  },
  {
   "cell_type": "markdown",
   "id": "f40696ff",
   "metadata": {
    "hidden": true
   },
   "source": [
    "Big Macだけではなく財・サービスの種類を大幅に広げて，上述の考えを適用したのが購買力平価（PPP, Purchasing Power Parity）レートである。それぞれの経済で消費される同じような典型的な共通の財・サービスを集めて大きなバスケット（大きな籠）に入れることを想像しよう。多くの財・サービスが入ったバスケットを１つの財（合成財）として考え，バスケット財と呼ぶことにしよう。バスケット財に含まれる様々な財の価格は各経済で異なることになり，その結果，バスケット財の価格も異なる。バスケット財には多種多様の財・サービスが含まれているため，その価格を各国の一般物価水準と考えることができる。購買力平価（PPP）レートとは，バスケット財が等価となる為替レートとして算出される。次式は$i$国の対米国PPPレートである。\n",
    "\n",
    "$$\n",
    "\\varepsilon_i=\\frac{P_i}{P_{\\text{US}}}\n",
    "$$ (eq:19-20)\n",
    "\n",
    "* $P_i$：$i$国の自国通貨価格で表した一般物価水準（バスケット財の価格）\n",
    "* $P_{\\text{US}}$：米国の自国通貨価格（米ドル）で表した一般物価水準（バスケット財の価格）\n",
    "* $\\varepsilon_i$：$i$国のPPPレート（$i$国通貨/米ドル）"
   ]
  },
  {
   "cell_type": "markdown",
   "id": "a487eae9",
   "metadata": {
    "hidden": true
   },
   "source": [
    "式[](eq:19-20)について４つ説明を加える。\n",
    "1. 右辺の単位は$i$国の通貨/ドルとなり，$e_i^{\\text{BM}}$と同じ単位である。実際，$\\varepsilon_i$は為替レートの一種であり，市場為替レートと異なるため特別な呼称「購買力平価レート」が付いている。\n",
    "1. 上の式は$P_i/\\varepsilon_i=P_{\\text{US}}$と書くことができる。この式の右辺は米国のバスケット財の価格，即ち，一般物価水準であり，左辺は$i$国のバスケット財，即ち，一般物価水準を米ドルに換算した価格である。等号は，それらが等しいことを意味しており，その意味では，バスケット財の一物一価が成立する場合の為替レートということになる。まとめると，PPPレートは次のように解釈することができる。\n",
    "    > 購買力平価レート$\\varepsilon_i$は，バスケット財の一物一価が成立する（一般物価水準が同じになる）ために必要な為替レート（注意：バスケット財に含まれる個々の財・サービスの価格が全て等しいとは限らない。）\n",
    "1. 次の変数を考えよう。\n",
    "    * $Q_i$と$Q_{\\text{US}}$：$i$国と米国でのバスケット財の数量\n",
    "    * $P_i$と$P_{\\text{US}}$：$i$国と米国でのバスケット財の価格\n",
    "    * $M_i$：$i$国の自国通貨の数量\n",
    "    * $M_{\\text{US}}$：米ドルの数量\n",
    "    \n",
    "    それぞれの通貨はバスケット財の支出に使われる場合を考えると次の関係になる。\n",
    "    \n",
    "    $$\n",
    "    M_i=P_iQ_i,\\qquad M_{\\text{US}}=P_{\\text{US}}Q_{\\text{US}}\n",
    "    $$ (eq:19-ppp0)\n",
    "    \n",
    "    またバスケット財で測ったそれぞれの通貨の購買力は次式で表される。\n",
    "\n",
    "    $$\n",
    "    \\frac{M_i}{P_i}=Q_i,\\qquad \\frac{M_{\\text{US}}}{P_{\\text{US}}}=Q_{\\text{US}}\n",
    "    $$ (eq:19-ppp1)\n",
    "    \n",
    "    それぞれの通貨の購買力が等しくなる場合，$Q_i=Q_{\\text{US}}$が成立する。即ち，\n",
    "    \n",
    "    $$\n",
    "    \\frac{M_i}{P_i}=\\frac{M_{\\text{US}}}{P_{\\text{US}}}\n",
    "    \\qquad\\Rightarrow\\qquad\n",
    "    \\frac{M_i}{M_{\\text{US}}}=\\frac{P_i}{P_{\\text{US}}}\n",
    "    $$ (eq:19-ppp2)\n",
    "    \n",
    "    となる。右の式の左辺は，１米ドルと$i$国通貨の交換レート（単位は$i$国通貨/１米ドル）を表している。それを$\\varepsilon_i$と置き換えるとPPPレート\n",
    "    \n",
    "    $$\n",
    "    \\varepsilon_i=\\frac{P_i}{P_{\\text{US}}}\n",
    "    $$ (eq:19-ppp3)\n",
    "    \n",
    "    となる。このことから次のように解釈できる。\n",
    "    > 購買力平価レート$\\varepsilon_i$は２つの通貨の購買力を等しくする交換レート\n",
    "        \n",
    "1. 実質為替レートは次式で与えられる。\n",
    "\n",
    "    $$\n",
    "    \\eta_i=\\frac{e_iP_{\\text{US}}}{P_i}=\\frac{e_i}{\\varepsilon_i}\n",
    "    $$ (eq:19-rexr)\n",
    "\n",
    "    ここで$\\varepsilon_i$は式[](eq:19-20)で与えられるPPPレートであり，$e_i$は市場為替レートである。更に，\n",
    "\n",
    "    $$\n",
    "    \\eta_i=1\n",
    "    \\quad\\Leftrightarrow\\quad\n",
    "    e_i=\\varepsilon_i\n",
    "    $$ (eq:19-rexrA)\n",
    "    \n",
    "    が成立することになる。即ち，実質為替レートが`1`の場合に$e_i=\\varepsilon_i$となり，「購買力平価が成立した」という。"
   ]
  },
  {
   "cell_type": "markdown",
   "id": "80d5d99b",
   "metadata": {
    "hidden": true
   },
   "source": [
    "```{note}\n",
    "PPPレートは次のようにも解釈できる。式[](eq:19-rexr)と[](eq:19-rexr)から，PPPの下では次式が成立する。\n",
    "\n",
    "$$\n",
    "1=\\frac{P_i/\\varepsilon_i}{P_{\\text{US}}}\n",
    "$$ (eq:19-21)\n",
    "\n",
    "分子の$P_i$の単位は「$i$国の通貨」であり，$\\varepsilon_i$の単位は「$i$国の通貨/ドル」となるため，分子の単位はドルとなることが分かる（$i$国の通貨単位がキャンセルされる）。分母の単位はもちろん米ドルである。更に，次のように書き換えよう。\n",
    "\n",
    "$$\n",
    "1=\\frac{1万ドル/P_{\\text{US}}}{1万ドル/(P_i/\\varepsilon_i)}\n",
    "$$ (eq:19-22)\n",
    "\n",
    "分子は1万ドルで米国のバスケット財をいくつ購入できるかを表しており，それが米ドルの購買力である。同様に，分母は1万ドルで購入できる$i$国のバスケット財の数量を表し，$i$国のバスケット財で測った米ドルの購買力となる。即ち，右辺は1万ドルの米国での購買力と$i$国での購買力の割合となる。右辺が`1`と等しいということは，1万ドルの米国での購買力と$i$国での購買力は同じだということを意味する。\n",
    "```"
   ]
  },
  {
   "cell_type": "markdown",
   "id": "dfee6c68",
   "metadata": {
    "hidden": true
   },
   "source": [
    "以上の説明から，一物一価の法則と購買力平価が密接に関係していることは直感的に理解できるだろう。以下では，バスケット財の価格は経済間で大きく異なり，購買力平価は成立していないことを示す。更には，その原因と含意についても考察することにする。"
   ]
  },
  {
   "cell_type": "markdown",
   "id": "e0407287",
   "metadata": {
    "heading_collapsed": true,
    "hidden": true
   },
   "source": [
    "### PPPレートと市場為替レートのデータ"
   ]
  },
  {
   "cell_type": "markdown",
   "id": "aa424036",
   "metadata": {
    "heading_collapsed": true,
    "hidden": true
   },
   "source": [
    "#### 使用するデータ"
   ]
  },
  {
   "cell_type": "markdown",
   "id": "b7056432",
   "metadata": {
    "hidden": true
   },
   "source": [
    "経済間のバスケット財の価格の違いを確認するために，`py4macro`モジュールに含まれるPenn World Tableのデータセットを使う。"
   ]
  },
  {
   "cell_type": "code",
   "execution_count": 60,
   "id": "a063bad0",
   "metadata": {
    "hidden": true
   },
   "outputs": [],
   "source": [
    "pwt = py4macro.data('pwt')"
   ]
  },
  {
   "cell_type": "markdown",
   "id": "381995d3",
   "metadata": {
    "hidden": true
   },
   "source": [
    "変数の定義を確認しておこう。"
   ]
  },
  {
   "cell_type": "code",
   "execution_count": 61,
   "id": "5d4038b0",
   "metadata": {
    "hidden": true,
    "tags": [
     "output_scroll"
    ]
   },
   "outputs": [
    {
     "data": {
      "text/html": [
       "<div>\n",
       "<style scoped>\n",
       "    .dataframe tbody tr th:only-of-type {\n",
       "        vertical-align: middle;\n",
       "    }\n",
       "\n",
       "    .dataframe tbody tr th {\n",
       "        vertical-align: top;\n",
       "    }\n",
       "\n",
       "    .dataframe thead th {\n",
       "        text-align: right;\n",
       "    }\n",
       "</style>\n",
       "<table border=\"1\" class=\"dataframe\">\n",
       "  <thead>\n",
       "    <tr style=\"text-align: right;\">\n",
       "      <th></th>\n",
       "      <th>Variable definition</th>\n",
       "    </tr>\n",
       "    <tr>\n",
       "      <th></th>\n",
       "      <th></th>\n",
       "    </tr>\n",
       "  </thead>\n",
       "  <tbody>\n",
       "    <tr>\n",
       "      <th>Identifier variables</th>\n",
       "      <td>NaN</td>\n",
       "    </tr>\n",
       "    <tr>\n",
       "      <th>countrycode</th>\n",
       "      <td>3-letter ISO country code</td>\n",
       "    </tr>\n",
       "    <tr>\n",
       "      <th>country</th>\n",
       "      <td>Country name</td>\n",
       "    </tr>\n",
       "    <tr>\n",
       "      <th>currency_unit</th>\n",
       "      <td>Currency unit</td>\n",
       "    </tr>\n",
       "    <tr>\n",
       "      <th>year</th>\n",
       "      <td>Year</td>\n",
       "    </tr>\n",
       "    <tr>\n",
       "      <th>Real GDP, employment and population levels</th>\n",
       "      <td>NaN</td>\n",
       "    </tr>\n",
       "    <tr>\n",
       "      <th>rgdpe</th>\n",
       "      <td>Expenditure-side real GDP at chained PPPs (in mil. 2017US$)</td>\n",
       "    </tr>\n",
       "    <tr>\n",
       "      <th>rgdpo</th>\n",
       "      <td>Output-side real GDP at chained PPPs (in mil. 2017US$)</td>\n",
       "    </tr>\n",
       "    <tr>\n",
       "      <th>pop</th>\n",
       "      <td>Population (in millions)</td>\n",
       "    </tr>\n",
       "    <tr>\n",
       "      <th>emp</th>\n",
       "      <td>Number of persons engaged (in millions)</td>\n",
       "    </tr>\n",
       "    <tr>\n",
       "      <th>avh</th>\n",
       "      <td>Average annual hours worked by persons engaged</td>\n",
       "    </tr>\n",
       "    <tr>\n",
       "      <th>hc</th>\n",
       "      <td>Human capital index, based on years of schooling and returns to education; see Human capital in PWT9.</td>\n",
       "    </tr>\n",
       "    <tr>\n",
       "      <th>Current price GDP, capital and TFP</th>\n",
       "      <td>NaN</td>\n",
       "    </tr>\n",
       "    <tr>\n",
       "      <th>ccon</th>\n",
       "      <td>Real consumption of households and government, at current PPPs (in mil. 2017US$)</td>\n",
       "    </tr>\n",
       "    <tr>\n",
       "      <th>cda</th>\n",
       "      <td>Real domestic absorption, (real consumption plus investment), at current PPPs (in mil. 2017US$)</td>\n",
       "    </tr>\n",
       "    <tr>\n",
       "      <th>cgdpe</th>\n",
       "      <td>Expenditure-side real GDP at current PPPs (in mil. 2017US$)</td>\n",
       "    </tr>\n",
       "    <tr>\n",
       "      <th>cgdpo</th>\n",
       "      <td>Output-side real GDP at current PPPs (in mil. 2017US$)</td>\n",
       "    </tr>\n",
       "    <tr>\n",
       "      <th>cn</th>\n",
       "      <td>Capital stock at current PPPs (in mil. 2017US$)</td>\n",
       "    </tr>\n",
       "    <tr>\n",
       "      <th>ck</th>\n",
       "      <td>Capital services levels at current PPPs (USA=1)</td>\n",
       "    </tr>\n",
       "    <tr>\n",
       "      <th>ctfp</th>\n",
       "      <td>TFP level at current PPPs (USA=1)</td>\n",
       "    </tr>\n",
       "    <tr>\n",
       "      <th>cwtfp</th>\n",
       "      <td>Welfare-relevant TFP levels at current PPPs (USA=1)</td>\n",
       "    </tr>\n",
       "    <tr>\n",
       "      <th>National accounts-based variables</th>\n",
       "      <td>NaN</td>\n",
       "    </tr>\n",
       "    <tr>\n",
       "      <th>rgdpna</th>\n",
       "      <td>Real GDP at constant 2017 national prices (in mil. 2017US$)</td>\n",
       "    </tr>\n",
       "    <tr>\n",
       "      <th>rconna</th>\n",
       "      <td>Real consumption at constant 2017 national prices (in mil. 2017US$)</td>\n",
       "    </tr>\n",
       "    <tr>\n",
       "      <th>rdana</th>\n",
       "      <td>Real domestic absorption at constant 2017 national prices (in mil. 2017US$)</td>\n",
       "    </tr>\n",
       "    <tr>\n",
       "      <th>rnna</th>\n",
       "      <td>Capital stock at constant 2017 national prices (in mil. 2017US$)</td>\n",
       "    </tr>\n",
       "    <tr>\n",
       "      <th>rkna</th>\n",
       "      <td>Capital services at constant 2017 national prices (2017=1)</td>\n",
       "    </tr>\n",
       "    <tr>\n",
       "      <th>rtfpna</th>\n",
       "      <td>TFP at constant national prices (2017=1)</td>\n",
       "    </tr>\n",
       "    <tr>\n",
       "      <th>rwtfpna</th>\n",
       "      <td>Welfare-relevant TFP at constant national prices (2017=1)</td>\n",
       "    </tr>\n",
       "    <tr>\n",
       "      <th>labsh</th>\n",
       "      <td>Share of labour compensation in GDP at current national prices</td>\n",
       "    </tr>\n",
       "    <tr>\n",
       "      <th>irr</th>\n",
       "      <td>Real internal rate of return</td>\n",
       "    </tr>\n",
       "    <tr>\n",
       "      <th>delta</th>\n",
       "      <td>Average depreciation rate of the capital stock</td>\n",
       "    </tr>\n",
       "    <tr>\n",
       "      <th>Exchange rates and GDP price levels</th>\n",
       "      <td>NaN</td>\n",
       "    </tr>\n",
       "    <tr>\n",
       "      <th>xr</th>\n",
       "      <td>Exchange rate, national currency/USD (market+estimated)</td>\n",
       "    </tr>\n",
       "    <tr>\n",
       "      <th>pl_con</th>\n",
       "      <td>Price level of CCON (PPP/XR), price level of USA GDPo in 2017=1</td>\n",
       "    </tr>\n",
       "    <tr>\n",
       "      <th>pl_da</th>\n",
       "      <td>Price level of CDA (PPP/XR), price level of USA GDPo in 2017=1</td>\n",
       "    </tr>\n",
       "    <tr>\n",
       "      <th>pl_gdpo</th>\n",
       "      <td>Price level of CGDPo (PPP/XR), price level of USA GDPo in 2017=1</td>\n",
       "    </tr>\n",
       "    <tr>\n",
       "      <th>Data information variables</th>\n",
       "      <td>NaN</td>\n",
       "    </tr>\n",
       "    <tr>\n",
       "      <th>i_cig</th>\n",
       "      <td>0/1/2/3/4: relative price data for consumption, investment and government is extrapolated (0), benchmark (1), interpolated (2), ICP PPP timeseries: benchmark or interpolated (3) or  ICP PPP timeseries: extrapolated (4)</td>\n",
       "    </tr>\n",
       "    <tr>\n",
       "      <th>i_xm</th>\n",
       "      <td>0/1/2: relative price data for exports and imports is extrapolated (0), benchmark (1) or interpolated (2)</td>\n",
       "    </tr>\n",
       "    <tr>\n",
       "      <th>i_xr</th>\n",
       "      <td>0/1: the exchange rate is market-based (0) or estimated (1)</td>\n",
       "    </tr>\n",
       "    <tr>\n",
       "      <th>i_outlier</th>\n",
       "      <td>0/1: the observation on pl_gdpe or pl_gdpo is not an outlier (0) or an outlier (1)</td>\n",
       "    </tr>\n",
       "    <tr>\n",
       "      <th>i_irr</th>\n",
       "      <td>0/1/2/3: the observation for irr is not an outlier (0), may be biased due to a low capital share (1), hit the lower bound of 1 percent (2), or is an outlier (3)</td>\n",
       "    </tr>\n",
       "    <tr>\n",
       "      <th>cor_exp</th>\n",
       "      <td>Correlation between expenditure shares of the country and the US (benchmark observations only)</td>\n",
       "    </tr>\n",
       "    <tr>\n",
       "      <th>statcap</th>\n",
       "      <td>Statistical capacity indicator (source: World Bank, developing countries only)</td>\n",
       "    </tr>\n",
       "    <tr>\n",
       "      <th>Shares in CGDPo</th>\n",
       "      <td>NaN</td>\n",
       "    </tr>\n",
       "    <tr>\n",
       "      <th>csh_c</th>\n",
       "      <td>Share of household consumption at current PPPs</td>\n",
       "    </tr>\n",
       "    <tr>\n",
       "      <th>csh_i</th>\n",
       "      <td>Share of gross capital formation at current PPPs</td>\n",
       "    </tr>\n",
       "    <tr>\n",
       "      <th>csh_g</th>\n",
       "      <td>Share of government consumption at current PPPs</td>\n",
       "    </tr>\n",
       "    <tr>\n",
       "      <th>csh_x</th>\n",
       "      <td>Share of merchandise exports at current PPPs</td>\n",
       "    </tr>\n",
       "    <tr>\n",
       "      <th>csh_m</th>\n",
       "      <td>Share of merchandise imports at current PPPs</td>\n",
       "    </tr>\n",
       "    <tr>\n",
       "      <th>csh_r</th>\n",
       "      <td>Share of residual trade and GDP statistical discrepancy at current PPPs</td>\n",
       "    </tr>\n",
       "    <tr>\n",
       "      <th>Price levels, expenditure categories and capital</th>\n",
       "      <td>NaN</td>\n",
       "    </tr>\n",
       "    <tr>\n",
       "      <th>pl_c</th>\n",
       "      <td>Price level of household consumption,  price level of USA GDPo in 2017=1</td>\n",
       "    </tr>\n",
       "    <tr>\n",
       "      <th>pl_i</th>\n",
       "      <td>Price level of capital formation,  price level of USA GDPo in 2017=1</td>\n",
       "    </tr>\n",
       "    <tr>\n",
       "      <th>pl_g</th>\n",
       "      <td>Price level of government consumption,  price level of USA GDPo in 2017=1</td>\n",
       "    </tr>\n",
       "    <tr>\n",
       "      <th>pl_x</th>\n",
       "      <td>Price level of exports, price level of USA GDPo in 2017=1</td>\n",
       "    </tr>\n",
       "    <tr>\n",
       "      <th>pl_m</th>\n",
       "      <td>Price level of imports, price level of USA GDPo in 2017=1</td>\n",
       "    </tr>\n",
       "    <tr>\n",
       "      <th>pl_n</th>\n",
       "      <td>Price level of the capital stock, price level of USA in 2017=1</td>\n",
       "    </tr>\n",
       "    <tr>\n",
       "      <th>pl_k</th>\n",
       "      <td>Price level of the capital services, price level of USA=1</td>\n",
       "    </tr>\n",
       "  </tbody>\n",
       "</table>\n",
       "</div>"
      ],
      "text/plain": [
       "                                                                                                                                                                                                                                                         Variable definition\n",
       "                                                                                                                                                                                                                                                                            \n",
       "Identifier variables                                                                                                                                                                                                                                                     NaN\n",
       "countrycode                                                                                                                                                                                                                                        3-letter ISO country code\n",
       "country                                                                                                                                                                                                                                                         Country name\n",
       "currency_unit                                                                                                                                                                                                                                                  Currency unit\n",
       "year                                                                                                                                                                                                                                                                    Year\n",
       "Real GDP, employment and population levels                                                                                                                                                                                                                               NaN\n",
       "rgdpe                                                                                                                                                                                                            Expenditure-side real GDP at chained PPPs (in mil. 2017US$)\n",
       "rgdpo                                                                                                                                                                                                                 Output-side real GDP at chained PPPs (in mil. 2017US$)\n",
       "pop                                                                                                                                                                                                                                                 Population (in millions)\n",
       "emp                                                                                                                                                                                                                                  Number of persons engaged (in millions)\n",
       "avh                                                                                                                                                                                                                           Average annual hours worked by persons engaged\n",
       "hc                                                                                                                                                                     Human capital index, based on years of schooling and returns to education; see Human capital in PWT9.\n",
       "Current price GDP, capital and TFP                                                                                                                                                                                                                                       NaN\n",
       "ccon                                                                                                                                                                                        Real consumption of households and government, at current PPPs (in mil. 2017US$)\n",
       "cda                                                                                                                                                                          Real domestic absorption, (real consumption plus investment), at current PPPs (in mil. 2017US$)\n",
       "cgdpe                                                                                                                                                                                                            Expenditure-side real GDP at current PPPs (in mil. 2017US$)\n",
       "cgdpo                                                                                                                                                                                                                 Output-side real GDP at current PPPs (in mil. 2017US$)\n",
       "cn                                                                                                                                                                                                                           Capital stock at current PPPs (in mil. 2017US$)\n",
       "ck                                                                                                                                                                                                                           Capital services levels at current PPPs (USA=1)\n",
       "ctfp                                                                                                                                                                                                                                       TFP level at current PPPs (USA=1)\n",
       "cwtfp                                                                                                                                                                                                                    Welfare-relevant TFP levels at current PPPs (USA=1)\n",
       "National accounts-based variables                                                                                                                                                                                                                                        NaN\n",
       "rgdpna                                                                                                                                                                                                           Real GDP at constant 2017 national prices (in mil. 2017US$)\n",
       "rconna                                                                                                                                                                                                   Real consumption at constant 2017 national prices (in mil. 2017US$)\n",
       "rdana                                                                                                                                                                                            Real domestic absorption at constant 2017 national prices (in mil. 2017US$)\n",
       "rnna                                                                                                                                                                                                        Capital stock at constant 2017 national prices (in mil. 2017US$)\n",
       "rkna                                                                                                                                                                                                              Capital services at constant 2017 national prices (2017=1)\n",
       "rtfpna                                                                                                                                                                                                                              TFP at constant national prices (2017=1)\n",
       "rwtfpna                                                                                                                                                                                                            Welfare-relevant TFP at constant national prices (2017=1)\n",
       "labsh                                                                                                                                                                                                         Share of labour compensation in GDP at current national prices\n",
       "irr                                                                                                                                                                                                                                             Real internal rate of return\n",
       "delta                                                                                                                                                                                                                         Average depreciation rate of the capital stock\n",
       "Exchange rates and GDP price levels                                                                                                                                                                                                                                      NaN\n",
       "xr                                                                                                                                                                                                                   Exchange rate, national currency/USD (market+estimated)\n",
       "pl_con                                                                                                                                                                                                       Price level of CCON (PPP/XR), price level of USA GDPo in 2017=1\n",
       "pl_da                                                                                                                                                                                                         Price level of CDA (PPP/XR), price level of USA GDPo in 2017=1\n",
       "pl_gdpo                                                                                                                                                                                                     Price level of CGDPo (PPP/XR), price level of USA GDPo in 2017=1\n",
       "Data information variables                                                                                                                                                                                                                                               NaN\n",
       "i_cig                                             0/1/2/3/4: relative price data for consumption, investment and government is extrapolated (0), benchmark (1), interpolated (2), ICP PPP timeseries: benchmark or interpolated (3) or  ICP PPP timeseries: extrapolated (4)\n",
       "i_xm                                                                                                                                                               0/1/2: relative price data for exports and imports is extrapolated (0), benchmark (1) or interpolated (2)\n",
       "i_xr                                                                                                                                                                                                             0/1: the exchange rate is market-based (0) or estimated (1)\n",
       "i_outlier                                                                                                                                                                                 0/1: the observation on pl_gdpe or pl_gdpo is not an outlier (0) or an outlier (1)\n",
       "i_irr                                                                                                       0/1/2/3: the observation for irr is not an outlier (0), may be biased due to a low capital share (1), hit the lower bound of 1 percent (2), or is an outlier (3)\n",
       "cor_exp                                                                                                                                                                       Correlation between expenditure shares of the country and the US (benchmark observations only)\n",
       "statcap                                                                                                                                                                                       Statistical capacity indicator (source: World Bank, developing countries only)\n",
       "Shares in CGDPo                                                                                                                                                                                                                                                          NaN\n",
       "csh_c                                                                                                                                                                                                                         Share of household consumption at current PPPs\n",
       "csh_i                                                                                                                                                                                                                       Share of gross capital formation at current PPPs\n",
       "csh_g                                                                                                                                                                                                                        Share of government consumption at current PPPs\n",
       "csh_x                                                                                                                                                                                                                           Share of merchandise exports at current PPPs\n",
       "csh_m                                                                                                                                                                                                                           Share of merchandise imports at current PPPs\n",
       "csh_r                                                                                                                                                                                                Share of residual trade and GDP statistical discrepancy at current PPPs\n",
       "Price levels, expenditure categories and capital                                                                                                                                                                                                                         NaN\n",
       "pl_c                                                                                                                                                                                                Price level of household consumption,  price level of USA GDPo in 2017=1\n",
       "pl_i                                                                                                                                                                                                    Price level of capital formation,  price level of USA GDPo in 2017=1\n",
       "pl_g                                                                                                                                                                                               Price level of government consumption,  price level of USA GDPo in 2017=1\n",
       "pl_x                                                                                                                                                                                                               Price level of exports, price level of USA GDPo in 2017=1\n",
       "pl_m                                                                                                                                                                                                               Price level of imports, price level of USA GDPo in 2017=1\n",
       "pl_n                                                                                                                                                                                                          Price level of the capital stock, price level of USA in 2017=1\n",
       "pl_k                                                                                                                                                                                                               Price level of the capital services, price level of USA=1"
      ]
     },
     "metadata": {},
     "output_type": "display_data"
    }
   ],
   "source": [
    "py4macro.data('pwt', description=True)"
   ]
  },
  {
   "cell_type": "markdown",
   "id": "b2876ecb",
   "metadata": {
    "hidden": true
   },
   "source": [
    "以下の分析では次の変数を使う。\n",
    "* `xr`：市場為替レート（名目，$i$国通貨/米ドル）\n",
    "* `pl_gdpo`：`cgdpo`の計算に使った相対物価水準（米ドル，2017年の米国の値=`1`）\n",
    "* `cgdpo`：産出データに基づいGDP（2017年百万米ドル）\n",
    "    * 時系列的には名目（ある年での経済間の生産能力（水準）の比較に適している）\n",
    "    * `pl_gdpo`を使って計算している"
   ]
  },
  {
   "cell_type": "markdown",
   "id": "33580143",
   "metadata": {
    "hidden": true
   },
   "source": [
    "```{note}\n",
    "`cgdpo`は産出データに基づいたGDPだが，その代わりに支出データに基づいた`cgdpe`を使うこともできる。その場合，相対物価水準の変数には`pl_da`を使う必要がある。試してみよう！\n",
    "```"
   ]
  },
  {
   "cell_type": "markdown",
   "id": "f3de17e1",
   "metadata": {
    "hidden": true
   },
   "source": [
    "`pwt`の中にはPPPレートのデータは含まれていないが，`xr`と`pl_gdpo`を使い次のように計算することができる。`pl_gdpo`は次式に従い計算されている。\n",
    "\n",
    "$$\n",
    "\\text{(列 pl_gdpo)}=\\frac{\\epsilon_i}{e_i}\n",
    "=\\frac{P_i}{P_{\\text{US}}e_i}\n",
    "$$ (eq:19-30)\n",
    "\n",
    "ここで$\\epsilon_i$は式[](eq:19-20)で与えられるPPPレートであり，$e_i$は市場為替レートとなる。従って，$e_i$に列`xr`を使い次式でPPPレートを計算することができる。\n",
    "\n",
    "$$\n",
    "\\epsilon_i=\\text{(列 pl_gdpo)}\\times\\text{(列 xr)}\n",
    "$$ (eq:19-31)\n",
    "\n",
    "この式に従って，新たな列`ppp`を`pwt`に追加しよう。"
   ]
  },
  {
   "cell_type": "code",
   "execution_count": 62,
   "id": "b98086ca",
   "metadata": {
    "hidden": true
   },
   "outputs": [],
   "source": [
    "pwt['ppp'] = pwt['pl_gdpo'] * pwt['xr']"
   ]
  },
  {
   "cell_type": "markdown",
   "id": "dc7170bc",
   "metadata": {
    "heading_collapsed": true,
    "hidden": true
   },
   "source": [
    "#### 例：日本"
   ]
  },
  {
   "cell_type": "markdown",
   "id": "9bfd9340",
   "metadata": {
    "hidden": true
   },
   "source": [
    "まず，PPPレートと市場為替レートがどれほど違うかを日本の時系列データで確認するために，日本のデータのみを抽出する。日本のPPPと市場為替レートをプロットしてみよう。"
   ]
  },
  {
   "cell_type": "code",
   "execution_count": 63,
   "id": "5388d34a",
   "metadata": {
    "hidden": true
   },
   "outputs": [
    {
     "data": {
      "image/png": "[encoded data removed]",
      "text/plain": [
       "<Figure size 640x480 with 1 Axes>"
      ]
     },
     "metadata": {},
     "output_type": "display_data"
    }
   ],
   "source": [
    "cond = ( pwt['countrycode']=='JPN' )\n",
    "ax = pwt.loc[cond,:].plot(x='year', y=['ppp','xr'], label=['PPP','市場為替レート'])\n",
    "ax.set_ylabel('円/米ドル\\n'+\n",
    "              r'強い（増価）$\\longleftarrow\\quad\\longrightarrow$弱い（減価）', fontsize=13)\n",
    "pass"
   ]
  },
  {
   "cell_type": "markdown",
   "id": "e9bcf69c",
   "metadata": {
    "hidden": true
   },
   "source": [
    "```{note}\n",
    "上のプロットの縦軸は円/米ドルであり，値が低く（高く）なると円は強く（弱く）なる。増価，減価とも表現される。分かりにくいようであれば，次のように考えてみてはどうだろう。\n",
    "* 為替レートが100円/ドルということは，100円で１ドルを買うことができる。\n",
    "* 為替レートが80円/ドルの場合は，80円で１ドルを買うことができる。即ち，より安くドルを買うことができるので，円の購買力は高くなる。そういう意味で，円は強くなった（増価した）と言える。\n",
    "* 為替レートが120円/ドルの場合は，120円で１ドルを買うことになる。即ち，より高い価格でドルを買うことになるので，円の購買力は低下している。そういう意味で，円は弱くなった（減価した）と言える。\n",
    "```\n",
    "\n",
    "このプロットから次のことが言える。市場為替レートは1973年2月14日に変動相場制へ移行するまで360円/１米ドルで固定されていた。1980年代半ば頃までは，PPPレートと比べて市場為替レートは高い値となっている。従って，PPPレートを基準とすると円はドルに対して弱すぎる，即ち，過小評価されていたことが分かる。長期的にはPPPレートと為替レートは収斂したことが確認できる。しかし，1980年代半ば以降，市場為替レートはPPPレートの周りを上下していおり，ある程度の乖離は解消されていない。\n",
    "\n",
    "このように，PPPレートと市場為替レートは乖離することが常であり，異なる要因によって決定されるためである。PPPは式[](eq:19-20)が示すように財・サービスの価格の比率であり，一般物価水準そしてその変化率（インフレ率）も持続性が高い（粘着生）ためPPPの動きは緩やかである。一方，市場為替レートは貨幣単位の比率であり，国際収支の状況にも大きく依存する。国際収支には（１）経常収支（財・サービスの収支など），（２）資本移転等収支（例えば，特許権などの知的財産権），（３）金融収支（直接投資，証券投資，金融派生商品など金融資産に伴う取引）があるが，特に（２）と（３）は一般物価水準との関係は少なくとも短期的には弱い。従って，市場為替レートは経済情報や政治状況，更には，中央銀行総裁や政治家の発言で影響を受け大きく瞬時に変動することがある。しかし，上の日本のレートのプロットが示すように，長期的には乖離が持続的に拡大するような発散は起きていない。1980年代半ばまでの時系列データが示すように，お互いに時間をかけて収束する経済メカニズムが裏で働いていると考えられる。"
   ]
  },
  {
   "cell_type": "markdown",
   "id": "157bbf94",
   "metadata": {
    "hidden": true
   },
   "source": [
    "上のプロットではPPPレートと市場為替レートを別々にプロットしたが，一つの指標としてまとめる方が分かりやすい場合もある。式[](eq:19-rexr)を使い日本の実質為替レート$\\eta_{\\text{JP}}$を考えてみよ。\n",
    "\n",
    "$$\n",
    "\\eta_{\\text{JP}}\n",
    "=\\frac{e_{\\text{JP}}P_{\\text{US}}}{P_{\\text{JP}}}\n",
    "=\\frac{e_{\\text{JP}}}{\\varepsilon_{\\text{JP}}}\n",
    "$$ (eq:19-23)\n",
    "\n",
    "ここで$e_{\\text{JP}}$は市場為替レート（円/米ドル）であり，$\\varepsilon_{\\text{JP}}$はPPPレートである。この式から次のことが分かる。\n",
    "* $\\eta_{\\text{JP}}=1\\quad\\Rightarrow\\quad e_{\\text{JP}}=\\varepsilon_{\\text{JP}}$\n",
    "    * 購買力平価の成立\n",
    "    * 日本のバスケット財１単位で米国のバスケット財１単位を購入できる（等価で交換できる）。\n",
    "* $\\eta_{\\text{JP}}<1\\quad\\Rightarrow\\quad e_{\\text{JP}}<\\varepsilon_{\\text{JP}}$\n",
    "    * PPPレートと比較しては強すぎる（過大評価）\n",
    "    * 例えば，$\\eta_{\\text{JP}}=1/2$の場合，日本のバスケット財１単位で米国のバスケット財２単位も購入できる（交換できる）。そういう意味で，円の購買力は高過ぎる（強過ぎる）。\n",
    "* $\\eta_{\\text{JP}}>1\\quad\\Rightarrow\\quad e_{\\text{JP}}>\\varepsilon_{\\text{JP}}$\n",
    "    * PPPレートと比較して円は弱すぎる（過小評価）\n",
    "    * 例えば，$\\eta_{\\text{JP}}=2$の場合，日本のバスケット財１単位で米国のバスケット財１/２単位しか購入できない（交換できない）。そういう意味で，円の購買力は低過ぎる（弱過ぎる）"
   ]
  },
  {
   "cell_type": "markdown",
   "id": "bbbea97f",
   "metadata": {
    "hidden": true
   },
   "source": [
    "式[](eq:19-30)と[](eq:19-23)を比べると，$\\eta_{\\text{JP}}$は`pl_gdpo`の逆数となることがわかる。実質為替レートを新たな列`real_xr`として`pwt`に追加しよう。"
   ]
  },
  {
   "cell_type": "code",
   "execution_count": 64,
   "id": "5d33c76f",
   "metadata": {
    "hidden": true
   },
   "outputs": [],
   "source": [
    "pwt['real_xr'] = 1 / pwt['pl_gdpo']"
   ]
  },
  {
   "cell_type": "markdown",
   "id": "807630c8",
   "metadata": {
    "hidden": true
   },
   "source": [
    "1980年以降のデータをプロットしよう。"
   ]
  },
  {
   "cell_type": "code",
   "execution_count": 65,
   "id": "9729c518",
   "metadata": {
    "hidden": true
   },
   "outputs": [
    {
     "data": {
      "image/png": "[encoded data removed]",
      "text/plain": [
       "<Figure size 640x480 with 1 Axes>"
      ]
     },
     "metadata": {},
     "output_type": "display_data"
    }
   ],
   "source": [
    "cond_jp = ( pwt['countrycode']=='JPN' )\n",
    "cond_yr = ( pwt['year']>=1980 )\n",
    "cond = cond_jp & cond_yr\n",
    "ax = pwt.loc[cond,:].plot(x='year', y='real_xr', legend=False)\n",
    "ax.axhline(1, color='red')\n",
    "ax.set_title('実質為替レート（円/米ドル）', fontsize=20)\n",
    "pass"
   ]
  },
  {
   "cell_type": "markdown",
   "id": "c65e9051",
   "metadata": {
    "hidden": true
   },
   "source": [
    "この図は，上の図の情報を実質為替レート（円/ドル）としてまとめている。実質為替レートでも，縦軸での円安・円高の方向は同じとなることに注意しよう。1980年代半ばまで円高に動いていること（増価）が分かる。"
   ]
  },
  {
   "cell_type": "markdown",
   "id": "ba06ce9b",
   "metadata": {
    "hidden": true
   },
   "source": [
    "```{note}\n",
    "[国際通貨研究所では円（対米ドル）の購買力平価](https://www.iima.or.jp/research/ppp.html)を公表しているが，`pwt`のデータとは大きく異なる。理由は，それぞれの目的とアプローチが違うためである。Penn World Tableで使うPPPは，共通の財・サービスの分類に基づいた[国際比較プログラム](https://www.worldbank.org/en/programs/icp)（International Comparison Programme：省略ICP）により計算された情報を使っており，参加国（2017年には176カ国）のGDPや支出項目が比較可能になるPPPの算出を目的としている。従って，大掛かりな作業が必要であり，毎年ではなく数年に一度公表される（1970年, 1973年, 1975年, 1980年, 1985, 1993年, 2005年, 2011年, 2017年）。Penn World Tableのデータでは，それ以外の年は内挿（interpolate）もしくは外挿（extrapolate）することによりPPPを計算している。一方，国際通貨研究所で公表しているPPPは，1973年を基準としてシンプルに日米の消費者物価指数などを使って算出されており，指数の計算に使われる財・サービスは厳密に共通化されている訳ではない。後者は円ドル市場為替相場の予測や日本経済の国際競争力を知る上では有用な情報となるだろう。\n",
    "```"
   ]
  },
  {
   "cell_type": "markdown",
   "id": "af458300",
   "metadata": {
    "heading_collapsed": true,
    "hidden": true
   },
   "source": [
    "### 相対一般物価水準の分布"
   ]
  },
  {
   "cell_type": "markdown",
   "id": "c7d8284e",
   "metadata": {
    "hidden": true
   },
   "source": [
    "Big Macは世界中で消費され，世界中のBig Macは概ね同質と考えることができる。そのような財でさえ一物一価が成立していないことを考えると，バスケット財の一物一価の成立を疑いたくなる。実際，以下で示すように，データは一般物価の等価は成立しない。では，\n",
    "> バスケット財の価格（一般物価水準）はどのような分布になっているのだろうか。\n",
    "\n",
    "この問を考察するために，米国を基準とする米ドル表示の相対一般物価水準考えることにする。相対価格で考える利点は，その分布をPPPレートと市場為替レートを使うことにより簡単に計算できることである。"
   ]
  },
  {
   "cell_type": "markdown",
   "id": "037ecb85",
   "metadata": {
    "hidden": true
   },
   "source": [
    "式[](eq:19-30)から列`pl_gdpo`の定義は次のようになっている。\n",
    "\n",
    "$$\n",
    "\\begin{align*}\n",
    "\\text{列 pl_gdpo}\n",
    "&=\n",
    "\\frac{P_i/e_i}{P_{\\text{US}}}=\n",
    "\\frac{i\\text{国のバスケット財のドル価格}}{\\text{米国のバスケット財のドル価格（2017年）}}\\\\\n",
    "&=\\text{米国（2017年）を基準とした}i\\text{国のバスケット財の相対価格（一般物価水準の比率）}\n",
    "\\end{align*}\n",
    "$$ (eq:19-plgdpo)\n",
    "\n",
    "相対一般物価水準の分布を調べるためには`pl_gdpo`を使えば良いということだ。まず2019年のデータを抽出して`pwt19`に割り当てよう。"
   ]
  },
  {
   "cell_type": "code",
   "execution_count": 66,
   "id": "9a5f7fe1",
   "metadata": {
    "hidden": true
   },
   "outputs": [],
   "source": [
    "cond = ( pwt['year']==2019 )\n",
    "pwt19 = pwt.loc[cond,:].copy()"
   ]
  },
  {
   "cell_type": "markdown",
   "id": "a0929cd7",
   "metadata": {
    "hidden": true
   },
   "source": [
    "`pl_gdpo`が欠損値ではない国の数を確認しておこう。"
   ]
  },
  {
   "cell_type": "code",
   "execution_count": 67,
   "id": "48983458",
   "metadata": {
    "hidden": true
   },
   "outputs": [
    {
     "data": {
      "text/plain": [
       "183"
      ]
     },
     "execution_count": 67,
     "metadata": {},
     "output_type": "execute_result"
    }
   ],
   "source": [
    "pwt19['pl_gdpo'].notna().sum()"
   ]
  },
  {
   "cell_type": "markdown",
   "id": "6d14bbf4",
   "metadata": {
    "hidden": true
   },
   "source": [
    "このデータを使い相対価格のヒストグラムをプロットするが，視覚的に確認し易いように対数化した列を作成し図示する。（試しに，対数を使う目的を理解するために`pl_gdpo`のヒストグラムと比べてみてはどうだろう。）"
   ]
  },
  {
   "cell_type": "code",
   "execution_count": 68,
   "id": "fd1b9c10",
   "metadata": {
    "hidden": true
   },
   "outputs": [
    {
     "data": {
      "image/png": "[encoded data removed]",
      "text/plain": [
       "<Figure size 640x480 with 1 Axes>"
      ]
     },
     "metadata": {},
     "output_type": "display_data"
    }
   ],
   "source": [
    "pwt19['pl_gdpo_log'] = np.log( pwt19['pl_gdpo'] )\n",
    "\n",
    "pwt19['pl_gdpo_log'].plot(kind='hist', ec='white')\n",
    "pass"
   ]
  },
  {
   "cell_type": "markdown",
   "id": "a6aa9433",
   "metadata": {
    "hidden": true
   },
   "source": [
    "次のような解釈となる。\n",
    "* `0`と等しい場合：米国の2017年の物価水準と同じ\n",
    "* `0`を上回る場合：米国の2017年の物価水準を上回る\n",
    "* `0`を下回る場合：米国の2017年の物価水準を下回る\n",
    "\n",
    "その内訳を確認してみよう。"
   ]
  },
  {
   "cell_type": "code",
   "execution_count": 69,
   "id": "46df0893",
   "metadata": {
    "hidden": true
   },
   "outputs": [
    {
     "name": "stdout",
     "output_type": "stream",
     "text": [
      "相対一般物価水準が１以上の国の数： 22\n",
      "相対一般物価水準が１未満の国の数：161\n"
     ]
    }
   ],
   "source": [
    "cond = ( pwt19['pl_gdpo_log']>=0 )\n",
    "print(f'相対一般物価水準が１以上の国の数：{pwt19.loc[cond,:].shape[0]:>3}')\n",
    "print(f'相対一般物価水準が１未満の国の数：{pwt19.loc[~cond,:].shape[0]:>3}')"
   ]
  },
  {
   "cell_type": "markdown",
   "id": "99590644",
   "metadata": {
    "hidden": true
   },
   "source": [
    "```{admonition} コードの説明\n",
    ":class: dropdown\n",
    "最後の行に`~cond`となっているが，`~`はビット演算子の一つである。`cond`は`True`もしくは`False`が要素となる`Series`であるが，`~`を`cond`の前に付けると全ての真偽値を反転（`True`は`False`に，`False`は`True`に）させる。ビット演算子には他に`&`，`|`，`^`，などがある。\n",
    "```"
   ]
  },
  {
   "cell_type": "markdown",
   "id": "955c7a70",
   "metadata": {
    "hidden": true
   },
   "source": [
    "一般物価水準の相対価格の分布には大きな偏りが確認できる。`pl_gdpo`（対数ではない）の記述統計を表示してみよう。"
   ]
  },
  {
   "cell_type": "code",
   "execution_count": 70,
   "id": "df4263e2",
   "metadata": {
    "hidden": true
   },
   "outputs": [
    {
     "data": {
      "text/plain": [
       "count    183.000000\n",
       "mean       0.691109\n",
       "std        1.385720\n",
       "min        0.139218\n",
       "25%        0.395466\n",
       "50%        0.490066\n",
       "75%        0.741123\n",
       "max       18.842592\n",
       "Name: pl_gdpo, dtype: float64"
      ]
     },
     "execution_count": 70,
     "metadata": {},
     "output_type": "execute_result"
    }
   ],
   "source": [
    "pwt19['pl_gdpo'].describe()"
   ]
  },
  {
   "cell_type": "code",
   "execution_count": 71,
   "id": "d2014035",
   "metadata": {
    "hidden": true,
    "tags": [
     "remove-cell"
    ]
   },
   "outputs": [
    {
     "data": {
      "text/plain": [
       "13.9218270778656"
      ]
     },
     "metadata": {
      "scrapbook": {
       "mime_prefix": "",
       "name": "pwt19_price_min_glued"
      }
     },
     "output_type": "display_data"
    },
    {
     "data": {
      "text/plain": [
       "18.842592239379883"
      ]
     },
     "metadata": {
      "scrapbook": {
       "mime_prefix": "",
       "name": "pwt19_price_max_glued"
      }
     },
     "output_type": "display_data"
    }
   ],
   "source": [
    "from myst_nb import glue\n",
    "pwt19_describe = pwt19['pl_gdpo'].describe()\n",
    "pwt19_price_min = 100*pwt19_describe['min']\n",
    "pwt19_price_max = pwt19_describe['max']\n",
    "glue(\"pwt19_price_min_glued\", pwt19_price_min)\n",
    "glue(\"pwt19_price_max_glued\", pwt19_price_max)"
   ]
  },
  {
   "cell_type": "markdown",
   "id": "9b7d337b",
   "metadata": {
    "hidden": true
   },
   "source": [
    "価格水準が最も低い国は米国（2017年）の物価水準の約{glue:text}`pwt19_price_min_glued:.1f`％しかなく，最も高い国は米国（2017年）の約{glue:text}`pwt19_price_max_glued:.1f`倍も高い。上位5カ国を表示してみよう。"
   ]
  },
  {
   "cell_type": "code",
   "execution_count": 72,
   "id": "99d727a4",
   "metadata": {
    "hidden": true
   },
   "outputs": [
    {
     "data": {
      "text/html": [
       "<div>\n",
       "<style scoped>\n",
       "    .dataframe tbody tr th:only-of-type {\n",
       "        vertical-align: middle;\n",
       "    }\n",
       "\n",
       "    .dataframe tbody tr th {\n",
       "        vertical-align: top;\n",
       "    }\n",
       "\n",
       "    .dataframe thead th {\n",
       "        text-align: right;\n",
       "    }\n",
       "</style>\n",
       "<table border=\"1\" class=\"dataframe\">\n",
       "  <thead>\n",
       "    <tr style=\"text-align: right;\">\n",
       "      <th></th>\n",
       "      <th>country</th>\n",
       "      <th>pl_gdpo</th>\n",
       "    </tr>\n",
       "  </thead>\n",
       "  <tbody>\n",
       "    <tr>\n",
       "      <th>12389</th>\n",
       "      <td>Venezuela (Bolivarian Republic of)</td>\n",
       "      <td>18.842592</td>\n",
       "    </tr>\n",
       "    <tr>\n",
       "      <th>1609</th>\n",
       "      <td>Bermuda</td>\n",
       "      <td>2.309026</td>\n",
       "    </tr>\n",
       "    <tr>\n",
       "      <th>11199</th>\n",
       "      <td>Turks and Caicos Islands</td>\n",
       "      <td>1.894385</td>\n",
       "    </tr>\n",
       "    <tr>\n",
       "      <th>209</th>\n",
       "      <td>Anguilla</td>\n",
       "      <td>1.572530</td>\n",
       "    </tr>\n",
       "    <tr>\n",
       "      <th>3079</th>\n",
       "      <td>Cayman Islands</td>\n",
       "      <td>1.491452</td>\n",
       "    </tr>\n",
       "  </tbody>\n",
       "</table>\n",
       "</div>"
      ],
      "text/plain": [
       "                                  country    pl_gdpo\n",
       "12389  Venezuela (Bolivarian Republic of)  18.842592\n",
       "1609                              Bermuda   2.309026\n",
       "11199            Turks and Caicos Islands   1.894385\n",
       "209                              Anguilla   1.572530\n",
       "3079                       Cayman Islands   1.491452"
      ]
     },
     "execution_count": 72,
     "metadata": {},
     "output_type": "execute_result"
    }
   ],
   "source": [
    "pwt19.sort_values('pl_gdpo',ascending=False)[['country','pl_gdpo']].head()"
   ]
  },
  {
   "cell_type": "markdown",
   "id": "20525b89",
   "metadata": {
    "hidden": true
   },
   "source": [
    "ベネズエラの`pl_gdpo`の値は突出している。[ベネズエラの2018年のインフレは1,700,000％（年率）のハイパーインフレ](https://en.wikipedia.org/wiki/Hyperinflation_in_Venezuela)が発生しており，その影響かもしれないが，他の経済の傾向と大きく異なる「外れ値」の可能性を払拭できない。以下ではベネズエラを除外して分析を進めることにする。"
   ]
  },
  {
   "cell_type": "code",
   "execution_count": 73,
   "id": "b2936cec",
   "metadata": {
    "hidden": true
   },
   "outputs": [],
   "source": [
    "cond = ~( pwt19['countrycode']=='VEN' )\n",
    "pwt19 = pwt19.loc[cond,:].copy()"
   ]
  },
  {
   "cell_type": "markdown",
   "id": "b8a03b69",
   "metadata": {
    "hidden": true
   },
   "source": [
    "ベネズエラを除いたデータで`pl_gdpo`の変動係数を計算してみよう。"
   ]
  },
  {
   "cell_type": "code",
   "execution_count": 74,
   "id": "c25672af",
   "metadata": {
    "hidden": true
   },
   "outputs": [
    {
     "data": {
      "text/plain": [
       "0.5361108623656162"
      ]
     },
     "execution_count": 74,
     "metadata": {},
     "output_type": "execute_result"
    }
   ],
   "source": [
    "pwt19['pl_gdpo'].std() / pwt19['pl_gdpo'].mean()"
   ]
  },
  {
   "cell_type": "markdown",
   "id": "7452fffd",
   "metadata": {
    "hidden": true
   },
   "source": [
    "この値をBig Macの値と比べてみよう。Big Macの変動係数は{glue:text}`bigmac_cv_glued:.3f`であり，`0.3`にも満たない。バスケット財に含まれる財・サービスはBig Mac程規格が統一されていないことを考えると一般物価水準の変動係数が大きいことは理解できるのではないだろうか。"
   ]
  },
  {
   "cell_type": "markdown",
   "id": "4484855a",
   "metadata": {
    "hidden": true
   },
   "source": [
    "````{note}\n",
    "上で計算したBig Mac価格の変動係数は，相対価格ではなくBig Mac価格（円表示）の変動係数である。米国のBig Mac価格に対する相対価格の変動係数を次のコードで計算することができるが，同じ値を返すことになる。\n",
    "```\n",
    "bigmac['price_dollar'] = bigmac['price_local'] / bigmac['exr']\n",
    "cond = ( bigmac['iso']=='USA' )\n",
    "bigmac['relative_price_dollar'] = bigmac['price_dollar'] / bigmac.loc[cond,'price_dollar'].iloc[0]\n",
    "bigmac['relative_price_dollar'].std() /bigmac['relative_price_dollar'].mean()\n",
    "```\n",
    "````"
   ]
  },
  {
   "cell_type": "markdown",
   "id": "aad8450d",
   "metadata": {
    "heading_collapsed": true
   },
   "source": [
    "## 物価水準に対する所得の影響"
   ]
  },
  {
   "cell_type": "markdown",
   "id": "639f4d19",
   "metadata": {
    "heading_collapsed": true,
    "hidden": true
   },
   "source": [
    "### 所得の影響"
   ]
  },
  {
   "cell_type": "markdown",
   "id": "f93b40b7",
   "metadata": {
    "hidden": true
   },
   "source": [
    "相対物価水準のヒストグラムをプロットしたが，どのような国がどのような順番並んでいるか表示してみよう。表示するリストを見やすくするために，183カ国全てを表示せずに，行`avh`（人的資本ストック）に欠損値がない国だけを表示しよう。このルールに特別な意味はないが，国の数を減らすには丁度良いだろう。"
   ]
  },
  {
   "cell_type": "markdown",
   "id": "2632a531",
   "metadata": {
    "hidden": true
   },
   "source": [
    "```{admonition} コードの説明\n",
    ":class: dropdown\n",
    "* `#1`：`.dropna(subset=['avh`])`を使い列`avh`に欠損値がある行のみを削除し，`.sort_values('pl_gdpo_log')`によって`pl_gdpo_log`の昇順に並び替えた`DataFrame`を`pwt19_dropped`に割り当てている。\n",
    "* `#2`：`.stem()`はステムプロットを表示するメソッドであり，横軸に列`country`，縦軸に`pl_gdpo_log`を指定している。\n",
    "* `#3`：`orientation`はステムプロットの向きを横向きに指定する引数。この引数により，縦軸・横軸が逆になる。\n",
    "* `#4`：`bottom`は値の基準を指定する引数。ここでは`0`に赤い線が引かれる。\n",
    "* `#5`：`data`は使用するデータを指定する。\n",
    "* `#6`：横軸の値範囲を指定している。\n",
    "* `#7`：`.axhline()`は横線を表示するメソッド。`Japan`は縦軸の`Japan`で横線を引くことを指定し，`linestyle=':'`は点線を\n",
    "指定している。\n",
    "* `#8`：`pwt19_dropped.shape[0]`で`pwt19_dropped`の行数を抽出し，`f-string`を使い`結果を表示している。\n",
    "```"
   ]
  },
  {
   "cell_type": "code",
   "execution_count": 75,
   "id": "005e823e",
   "metadata": {
    "hidden": true
   },
   "outputs": [
    {
     "name": "stdout",
     "output_type": "stream",
     "text": [
      "このプロットには66カ国が含まれる。\n"
     ]
    },
    {
     "data": {
      "image/png": "[encoded data removed]",
      "text/plain": [
       "<Figure size 600x1300 with 1 Axes>"
      ]
     },
     "metadata": {},
     "output_type": "display_data"
    }
   ],
   "source": [
    "#1\n",
    "pwt19_dropped = pwt19.dropna(subset=['avh']).sort_values('pl_gdpo_log')\n",
    "\n",
    "fig, ax = plt.subplots(figsize=(6,13))\n",
    "ax.stem('country', 'pl_gdpo_log',      #2\n",
    "        orientation='horizontal',      #3\n",
    "        bottom=0,                      #4\n",
    "        data=pwt19_dropped)            #5\n",
    "ax.set_xlim(-1.5,0.5)                  #6\n",
    "ax.set_title('米国の2017年の物価水準と比較して\\n'+\n",
    "             r'低い $\\longleftarrow\\quad$2019年の物価水準$\\quad\\longrightarrow$ 高い',\n",
    "             size=17)\n",
    "ax.axhline('Japan', linestyle=':')     #7\n",
    "\n",
    "#8\n",
    "print(f'このプロットには{pwt19_dropped.shape[0]}カ国が含まれる。')"
   ]
  },
  {
   "cell_type": "markdown",
   "id": "8da4866c",
   "metadata": {
    "hidden": true
   },
   "source": [
    "リストの上には所得が高い国が列挙されており，所得が低い国はリストの下の方にある。この傾向はBig Macの場合と同じである。\n",
    "\n",
    "物価水準と所得の関係を散布図を使って確認するために，一人当たりGDPとその対数値を新たな列`cgdpo_pc`と`cgdpo_pc_log`を追加しよう。"
   ]
  },
  {
   "cell_type": "code",
   "execution_count": 76,
   "id": "be48f8e4",
   "metadata": {
    "hidden": true
   },
   "outputs": [],
   "source": [
    "pwt19['cgdpo_pc'] = pwt19['cgdpo']/pwt19['pop']\n",
    "pwt19['cgdpo_pc_log'] = np.log( pwt19['cgdpo_pc'] )"
   ]
  },
  {
   "cell_type": "markdown",
   "id": "bc8a92de",
   "metadata": {
    "hidden": true
   },
   "source": [
    "また`pl_gdpo`の対数の値を新たな列`pl_gdpo_log`として追加しよう。"
   ]
  },
  {
   "cell_type": "code",
   "execution_count": 77,
   "id": "baf94ff8",
   "metadata": {
    "hidden": true
   },
   "outputs": [],
   "source": [
    "pwt19['pl_gdpo_log'] = np.log( pwt19['pl_gdpo'] )"
   ]
  },
  {
   "cell_type": "markdown",
   "id": "912e5f6a",
   "metadata": {
    "hidden": true
   },
   "source": [
    "`cgdpo_pc_log`を横軸にして`pl_gdpo_log`の散布図を表示しよう。"
   ]
  },
  {
   "cell_type": "code",
   "execution_count": 78,
   "id": "863fe467",
   "metadata": {
    "hidden": true,
    "scrolled": true
   },
   "outputs": [
    {
     "data": {
      "image/png": "[encoded data removed]",
      "text/plain": [
       "<Figure size 640x480 with 1 Axes>"
      ]
     },
     "metadata": {},
     "output_type": "display_data"
    }
   ],
   "source": [
    "ax = pwt19.plot('cgdpo_pc_log', 'pl_gdpo_log', kind='scatter')\n",
    "ax.set_xlabel('一人当たりGDP（対数，百万米ドル）', fontsize=15)\n",
    "ax.set_ylabel('米国の2017年価格を基準とした\\n2019年相対価格（対数）', fontsize=15)\n",
    "pass"
   ]
  },
  {
   "cell_type": "markdown",
   "id": "bca579d5",
   "metadata": {
    "hidden": true
   },
   "source": [
    "直線トレンドを想像してみよう。明らかに右上がりであり，所得が高い経済ほど物価水準が高いことが確認できる。これは**バラッサ・サミュエルソン効果**と呼ばれる。直感的には，所得が高い経済の生産性と価格は高く，多くが貿易財である。一方，所得が低い国の非貿易財（例えば，不動産）やサービス（例えば，散髪）は比較的に安い。右上がりの直線トレンドはそれらの反映と考えられる。\n",
    "\n",
    "しかし，非線形のトレンドを想像するとどうだろう。U字のトレンドを描くことができないだろうか。所得が高い経済では右上がりとなるが，所得が低い経済では逆に緩やかな右下がりとなり，U字の底が一人当たりGDP（対数）が`8.8`辺りだろうか。この場合，バラッサ・サミュエルソン効果は所得が比較的高い経済では強く現れるが，所得が低い経済では弱いと解釈できる。\n",
    "\n",
    "このような非線形の相関を考慮して，次節では所得の効果の推定をおこなうことにする。"
   ]
  },
  {
   "cell_type": "markdown",
   "id": "76176a3d",
   "metadata": {
    "heading_collapsed": true,
    "hidden": true
   },
   "source": [
    "### 所得効果の分離"
   ]
  },
  {
   "cell_type": "markdown",
   "id": "5e82614a",
   "metadata": {
    "hidden": true
   },
   "source": [
    "ここで考える問題は\n",
    "> 1. 所得効果を他の影響からどのように分離することができるだろうか。\n",
    "> 2. 所得効果は価格の散らばりの何％を説明できるだろうか。\n",
    "\n",
    "ここでは，まず問題１について考える。相対価格の決定要因は次式に従って分解できると仮定しよう。\n",
    "\n",
    "$$\n",
    "p_i= D_i^{\\text{所得}}D_i^{\\text{その他}}\\\\\n",
    "$$ (eq:19-9)\n",
    "\n",
    "* $p_i\\equiv\\dfrac{P_{i}/e_i}{P_{\\text{US}}}$：相対価格\n",
    "* $D_i^{\\text{所得}}$：所得効果の部分\n",
    "* $D_i^{\\text{その他}}$：所得以外の要因によって決まる部分"
   ]
  },
  {
   "cell_type": "markdown",
   "id": "f9c0887d",
   "metadata": {
    "hidden": true
   },
   "source": [
    "２つの項については次の仮定を置く。\n",
    "\n",
    "$$\n",
    "D_i^{\\text{所得}}=x_i^{b+c\\log(x_i)},\n",
    "\\qquad\n",
    "D_i^{\\text{その他}}=e^{a+u_i}\n",
    "$$ (eq:19-11)\n",
    "\n",
    "* $x_i=\\dfrac{i\\text{国の一人当たりGDP（米ドル）}}{\\text{米国の一人当たりGDP（米ドル）}}$\n",
    "* $b$：所得効果の強さを捉えるパラメーター\n",
    "* $c$：所得効果の非線形の効果を捉えるパラメーター\n",
    "* $a$：その他の要因によって決定される定数\n",
    "* $u_i$：その他のランダムな要因（誤差項）\n",
    "\n",
    "（注意） $D_i^{\\text{所得}}$の右辺にある$x_i$の指数は$b+c\\log(x_i)$となっているが，$c\\log(x_i)$が上述のU字型の相関関係を捉える項となる。"
   ]
  },
  {
   "cell_type": "markdown",
   "id": "116a83c0",
   "metadata": {
    "hidden": true
   },
   "source": [
    "式[](eq:19-9)に対数を取ると次式となる。\n",
    "\n",
    "$$\n",
    "\\log\\left(p_i\\right)=d_i^{\\text{所得}}+d_i^{\\text{その他}}\n",
    "$$ (eq:19-10)\n",
    "\n",
    "* $d_i^{\\text{所得}}\\equiv\\log\\left(D_i^{\\text{所得}}\\right)\n",
    "=\\left[b+c\\log\\left(x_i\\right)\\right]\\log\\left(x_i\\right)\n",
    "=b\\log(x_i)+c\\left[\\log\\left(x_i\\right)\\right]^2$\n",
    "* $d_i^{\\text{その他}}\\equiv\\log\\left(D_i^{\\text{その他}}\\right)=a+u_i$\n",
    "\n",
    "式[](eq:19-10)を回帰式として次のようにまとめることができる。\n",
    "\n",
    "$$\n",
    "\\log\\left(p_i\\right)=a+b\\log\\left(x_i\\right)+c\\left[\\log\\left(x_i\\right)\\right]^2+u_i\n",
    "$$ (eq:19-12)"
   ]
  },
  {
   "cell_type": "markdown",
   "id": "c9aff110",
   "metadata": {
    "hidden": true
   },
   "source": [
    "式[](eq:19-12)をOLS推定し，$\\hat{a}$，$\\hat{b}$，$\\hat{c}$をパラメーターの推定値，$\\hat{u}_i$を残差とすると，次式が成立する。\n",
    "\n",
    "$$\n",
    "\\log\\left(p_i\\right)=\\hat{a}+\\hat{b}\\log\\left(x_i\\right)\n",
    "+\\hat{c}\\left[\\log\\left(x_i\\right)\\right]^2+\\hat{u}_i\n",
    "$$ (eq:19-13)\n",
    "\n",
    "これらの推定値を使い，次のように$\\log\\left(p_i\\right)$を２つの要因にに分解することができる。\n",
    "\n",
    "$$\n",
    "\\log\\left(p_i\\right)=\n",
    "\\hat{d}_i^{\\text{所得}}\n",
    "+\\hat{d}_i^{\\text{その他}}\n",
    "$$ (eq:19-14)\n",
    "\n",
    "ここで\n",
    "* $\\hat{d}_i^{\\text{所得}}=\\hat{b}\\log\\left(x_i\\right)+\\hat{c}\\left[\\log\\left(x_i\\right)\\right]^2$\n",
    "* $\\hat{d}_i^{\\text{その他}}=\\hat{a}+\\hat{u}_i$\n",
    "\n",
    "以下では$\\hat{d}_i^{\\text{所得}}$と$\\hat{d}_i^{\\text{その他}}$を計算し，それぞれの要因によって発生する相対価格の対数$\\log\\left(p_i\\right)$のばらつき具合（具体的には，分散）を確認することにする。"
   ]
  },
  {
   "cell_type": "markdown",
   "id": "95548114",
   "metadata": {
    "hidden": true
   },
   "source": [
    "```{note}\n",
    "なぜ$\\hat{a}$は$\\hat{D}_i^{\\text{その他}}$に含まれるか考えてみよう。式[](eq:19-12)の代わりに次の定数項のみの推定式を使って$a$を推定したとしよう。\n",
    "\n",
    "$$\n",
    "\\log\\left(p_i\\right)=a+u_i\n",
    "$$\n",
    "\n",
    "[Pythonで学ぶ計量経済学](https://py4etrics.github.io/13_Dummies.html)で説明しているように，この場合の推定値$\\overline{a}$は$\\log\\left(y_i\\right)$の平均と等しい。ここで重要な点は，$\\overline{a}$は所得効果を含んだ$y_i$の平均値だということである。一方，推定式[](eq:19-12)には$x_i$が入っているため，定数項の推定値$\\hat{a}$は，所得効果を取り除いた後の$y_i$の平均値という解釈が成り立つ。この考え方に従うと，$\\log\\left(y_i\\right)$の平均値$\\overline{a}$は次の２つに分解することができる。\n",
    "* $\\overline{a}-\\hat{a}$：$y_i$の平均値における所得効果の部分\n",
    "* $\\hat{a}$：$y_i$の平均値におけるその他の部分\n",
    "\n",
    "この解釈に基づき，$\\hat{a}$は$\\hat{D}_i^{\\text{その他}}$に含めている。\n",
    "```"
   ]
  },
  {
   "cell_type": "markdown",
   "id": "05a96845",
   "metadata": {
    "heading_collapsed": true,
    "hidden": true
   },
   "source": [
    "### 推定"
   ]
  },
  {
   "cell_type": "markdown",
   "id": "d9ca16da",
   "metadata": {
    "hidden": true
   },
   "source": [
    "OLSを使って式[](eq:19-12)を推定するが，まず$\\log\\left(x_i\\right)$と$[\\log\\left(x_i\\right)]^2$の変数に使う値を作成する。"
   ]
  },
  {
   "cell_type": "code",
   "execution_count": 79,
   "id": "801ad5e1",
   "metadata": {
    "hidden": true
   },
   "outputs": [],
   "source": [
    "cond = ( pwt19['countrycode']=='USA' )\n",
    "pwt19['cgdpo_pc_ratio_log'] = ( pwt19['cgdpo_pc_log'] -\n",
    "                                pwt19.loc[cond,'cgdpo_pc_log'].iloc[0] )\n",
    "pwt19['cgdpo_pc_ratio_log_2'] = pwt19['cgdpo_pc_ratio_log']**2"
   ]
  },
  {
   "cell_type": "markdown",
   "id": "b6939bd1",
   "metadata": {
    "hidden": true
   },
   "source": [
    "この２変数を使い回帰式を推定する。"
   ]
  },
  {
   "cell_type": "code",
   "execution_count": 80,
   "id": "97eb4cba",
   "metadata": {
    "hidden": true
   },
   "outputs": [
    {
     "name": "stdout",
     "output_type": "stream",
     "text": [
      "Intel MKL WARNING: Support of Intel(R) Streaming SIMD Extensions 4.2 (Intel(R) SSE4.2) enabled only processors has been deprecated. Intel oneAPI Math Kernel Library 2025.0 will require Intel(R) Advanced Vector Extensions (Intel(R) AVX) instructions.\n",
      "                            OLS Regression Results                            \n",
      "==============================================================================\n",
      "Dep. Variable:            pl_gdpo_log   R-squared:                       0.390\n",
      "Model:                            OLS   Adj. R-squared:                  0.384\n",
      "No. Observations:                 182   F-statistic:                     57.32\n",
      "Covariance Type:            nonrobust   Prob (F-statistic):           5.76e-20\n",
      "========================================================================================\n",
      "                           coef    std err          t      P>|t|      [0.025      0.975]\n",
      "----------------------------------------------------------------------------------------\n",
      "Intercept               -0.1121      0.059     -1.889      0.060      -0.229       0.005\n",
      "cgdpo_pc_ratio_log       0.5386      0.073      7.346      0.000       0.394       0.683\n",
      "cgdpo_pc_ratio_log_2     0.0838      0.019      4.362      0.000       0.046       0.122\n",
      "========================================================================================\n",
      "\n",
      "Notes:\n",
      "[1] Standard Errors assume that the covariance matrix of the errors is correctly specified.\n"
     ]
    }
   ],
   "source": [
    "formula = 'pl_gdpo_log ~ cgdpo_pc_ratio_log + cgdpo_pc_ratio_log_2'\n",
    "res = smf.ols(formula, data=pwt19).fit()\n",
    "print(res.summary(slim=True))"
   ]
  },
  {
   "cell_type": "markdown",
   "id": "506f12d6",
   "metadata": {
    "hidden": true
   },
   "source": [
    "$\\hat{b}$と$\\hat{c}$の統計的な優位性は非常に高い。また$\\hat{c}>0$はU字型のトレンドを示している。"
   ]
  },
  {
   "cell_type": "markdown",
   "id": "541dbdda",
   "metadata": {
    "hidden": true
   },
   "source": [
    "データの散布図に回帰線を重ねて表示して当てはまり具合を視覚的に確認してみることにしよう。式[](eq:19-9)から予測値は\n",
    "\n",
    "$$\n",
    "\\log\\left(\\hat{p}_i\\right)=\\hat{a}+\\hat{b}\\log\\left(x_i\\right)\n",
    "+\\hat{c}\\left[\\log\\left(x_i\\right)\\right]^2\n",
    "$$\n",
    "\n",
    "となる。この式を使い，予測値の値を新たな列として`pwt19`に追加しよう。"
   ]
  },
  {
   "cell_type": "code",
   "execution_count": 81,
   "id": "4af94cfb",
   "metadata": {
    "hidden": true
   },
   "outputs": [],
   "source": [
    "# パラメーターの推定値\n",
    "ahat = res.params.iloc[0]\n",
    "bhat = res.params.iloc[1]\n",
    "chat = res.params.iloc[2]\n",
    "\n",
    "# 予測値\n",
    "pwt19['fitted'] = ( ahat+\n",
    "                    bhat*pwt19['cgdpo_pc_ratio_log']+\n",
    "                    chat*pwt19['cgdpo_pc_ratio_log_2']\n",
    "                  )"
   ]
  },
  {
   "cell_type": "markdown",
   "id": "52f9d167",
   "metadata": {
    "hidden": true
   },
   "source": [
    "プロットしてみよう。"
   ]
  },
  {
   "cell_type": "code",
   "execution_count": 82,
   "id": "4322503a",
   "metadata": {
    "hidden": true
   },
   "outputs": [
    {
     "data": {
      "image/png": "[encoded data removed]",
      "text/plain": [
       "<Figure size 640x480 with 1 Axes>"
      ]
     },
     "metadata": {},
     "output_type": "display_data"
    }
   ],
   "source": [
    "# 散布図\n",
    "ax = pwt19.plot('cgdpo_pc_ratio_log', 'pl_gdpo_log', kind='scatter')\n",
    "ax.set_xlabel('米国を基準とした一人当たりGDP（対数，2019年）', fontsize=15)\n",
    "ax.set_ylabel('米国の2017年価格を基準とした\\n2019年相対価格（対数）', fontsize=15)\n",
    "\n",
    "# 回帰曲線\n",
    "ax.plot('cgdpo_pc_ratio_log', 'fitted', color='red',\n",
    "        data=pwt19.sort_values('cgdpo_pc_ratio_log'))  #1\n",
    "pass"
   ]
  },
  {
   "cell_type": "markdown",
   "id": "870687cb",
   "metadata": {
    "hidden": true
   },
   "source": [
    "```{admonition} コードの説明\n",
    ":class: dropdown\n",
    "`#1`の`pwt19.sort_values('cgdpo_pc_ratio_log'))`は，列`cgdpo_pc_ratio_log`の値に従って`pwt19`を昇順に並び替えている。これによりスムーズな回帰曲線を表示できるようになる。並び替えないとどうなるか試してみよう。\n",
    "```"
   ]
  },
  {
   "cell_type": "markdown",
   "id": "35b819d4",
   "metadata": {
    "hidden": true
   },
   "source": [
    "### ヒストグラムの比較"
   ]
  },
  {
   "cell_type": "markdown",
   "id": "6add1591",
   "metadata": {
    "hidden": true
   },
   "source": [
    "式[](eq:19-14)にある３つの項$\\log\\left(p_i\\right)$，$\\hat{d}_i^{\\text{所得}}$，$\\hat{d}_i^{\\text{その他}}$のヒストグラムを比較してみよう。まず，$\\hat{d}_i^{\\text{所得}}$と$\\hat{d}_i^{\\text{その他}}$の定義に基づいて`pwt19`に新たな列を作成しよう。"
   ]
  },
  {
   "cell_type": "code",
   "execution_count": 83,
   "id": "1027a8f9",
   "metadata": {
    "hidden": true
   },
   "outputs": [],
   "source": [
    "# 所得の影響\n",
    "pwt19['income_effect'] = ( bhat*pwt19['cgdpo_pc_ratio_log']+\n",
    "                           chat*pwt19['cgdpo_pc_ratio_log_2']\n",
    "                         )\n",
    "\n",
    "# 所得以外の効果\n",
    "pwt19['other_effect'] = ahat+res.resid"
   ]
  },
  {
   "cell_type": "markdown",
   "id": "b4706a58",
   "metadata": {
    "hidden": true
   },
   "source": [
    "３つの変数のヒストグラムを並べて表示する。"
   ]
  },
  {
   "cell_type": "code",
   "execution_count": 84,
   "id": "1765e6a9",
   "metadata": {
    "hidden": true
   },
   "outputs": [
    {
     "data": {
      "image/png": "[encoded data removed]",
      "text/plain": [
       "<Figure size 600x1000 with 3 Axes>"
      ]
     },
     "metadata": {},
     "output_type": "display_data"
    }
   ],
   "source": [
    "col_lst = ['pl_gdpo_log','income_effect','other_effect']\n",
    "title_lst = ['相対価格（対数）','所得効果（対数）','その他の効果（対数）']\n",
    "\n",
    "ax = pwt19[col_lst].plot(kind='hist',\n",
    "                         bins=20,\n",
    "                         ec='white',\n",
    "                         subplots=True,\n",
    "                         legend=False,\n",
    "                         figsize=(6,10))\n",
    "\n",
    "for i, s in enumerate(title_lst):\n",
    "    ax[i].set_title(s, fontsize=18)\n",
    "    ax[i].axvline(0, color='k', linestyle=':')\n",
    "pass"
   ]
  },
  {
   "cell_type": "markdown",
   "id": "95bbdd6f",
   "metadata": {
    "hidden": true
   },
   "source": [
    "`0.0`（縦の点線）で$\\dfrac{P_i/e_i}{P_{\\text{US}}}=1$となることに注意しよう。次のことが言える。\n",
    "* 所得とその他の効果を足し合わせることで一番上の相対価格の分布となる。言い換えると，相対価格の分布から所得効果を取り除くことにより一番下のその他の効果となる。\n",
    "* 所得効果の分布の最頻値は負の値となっており，米国の物価水準より低い経済において所得効果が大きいということを意味する。\n",
    "* その他の効果は`0.0`を中心に分布している。若干，相対価格が低い階級に国の数が多いように見える。"
   ]
  },
  {
   "cell_type": "markdown",
   "id": "9b98e6dd",
   "metadata": {
    "heading_collapsed": true,
    "hidden": true
   },
   "source": [
    "### 所得効果の大きさ"
   ]
  },
  {
   "cell_type": "markdown",
   "id": "ecfcf210",
   "metadata": {
    "hidden": true
   },
   "source": [
    "ここでは次の問いを考察する。\n",
    "> 相対価格のばらつきの何割が所得効果に起因するのだろうか。"
   ]
  },
  {
   "cell_type": "markdown",
   "id": "c44376ad",
   "metadata": {
    "hidden": true
   },
   "source": [
    "$y_i=\\log\\left(p_i\\right)$として式[](eq:19-9)を再掲する。\n",
    "\n",
    "$$\n",
    "y_i= d_i^{\\text{所得}}+ d_i^{\\text{その他}}\\\\\n",
    "$$ (eq:19-15)\n",
    "\n",
    "この式の両辺の分散を次のように計算することにより，所得効果の割合を計算することが可能となる。まず，$p_i$の分散を$d_i^{\\text{所得}}$と$d_i^{\\text{その他}}$の分散に分解しよう。\n",
    "\n",
    "$$\n",
    "\\begin{align*}\n",
    "\\text{Var}(y_i)\n",
    "&=\\text{Var}\\left(\\hat{d}_i^{\\text{所得}}+\\hat{d}_i^{\\text{その他}}\\right)\\\\\n",
    "&=\\text{Var}\\left(\\hat{d}_i^{\\text{所得}}\\right)+\n",
    "    \\text{Var}\\left(\\hat{d}_i^{\\text{その他}}\\right)+\n",
    "    2\\text{Cov}\\left(\\hat{d}_i^{\\text{所得}},\\hat{d}_i^{\\text{その他}}\\right)\\\\\n",
    "&=\\underbrace{\n",
    "    \\text{Var}\\left(\\hat{d}_i^{\\text{所得}}\\right)+\n",
    "    \\text{Cov}\\left(\\hat{d}_i^{\\text{所得}},\\hat{d}_i^{\\text{その他}}\\right)\n",
    "    }_{\\text{所得効果}}+\n",
    "  \\underbrace{\n",
    "    \\text{Var}\\left(\\hat{d}_i^{\\text{その他}}\\right)+\n",
    "    \\text{Cov}\\left(\\hat{d}_i^{\\text{所得}},\\hat{d}_i^{\\text{その他}}\\right)\n",
    "    }_{\\text{その他の効果}}\n",
    "\\end{align*}\n",
    "$$ (eq:19-16)\n",
    "\n",
    "上の計算では，$d_i^{\\text{所得}}$と$d_i^{\\text{その他}}$の共分散が存在するため，それを所得とその他に等分している。"
   ]
  },
  {
   "cell_type": "markdown",
   "id": "6ced32d9",
   "metadata": {
    "hidden": true
   },
   "source": [
    "更に，この結果を次のように書き直すことができる（[「回帰分析」の章](sec:6-regression-da)を参照）。\n",
    "\n",
    "$$\n",
    "\\begin{align*}\n",
    "\\left(\n",
    "\\begin{split}\n",
    "&\\text{所得効果}\\\\\n",
    "&\\text{の割合}\n",
    "\\end{split}\n",
    "\\right)\n",
    "&=\\frac{\n",
    "      \\text{Var}\\left(\\hat{d}_i^{\\text{所得}}\\right)+\n",
    "    \\text{Cov}\\left(\\hat{d}_i^{\\text{所得}},\\hat{d}_i^{\\text{その他}}\\right)\n",
    "    }{\n",
    "    \\text{Var}(y_i)}\n",
    "=\\frac{\n",
    "    \\text{Cov}\\left(y_i,\\hat{d}_i^{\\text{所得}}\\right)\n",
    "    }{\n",
    "    \\text{Var}(y_i)}\n",
    "\\end{align*}\n",
    "$$ (eq:19-17)"
   ]
  },
  {
   "cell_type": "markdown",
   "id": "ca2ee29f",
   "metadata": {
    "hidden": true
   },
   "source": [
    "$$\n",
    "\\begin{align*}\n",
    "\\left(\n",
    "\\begin{split}\n",
    "&\\text{その他の効果}\\\\\n",
    "&\\text{の割合}\n",
    "\\end{split}\n",
    "\\right)\n",
    "&=\\frac{\n",
    "      \\text{Var}\\left(\\hat{d}_i^{\\text{その他}}\\right)+\n",
    "    \\text{Cov}\\left(\\hat{d}_i^{\\text{所得}},\\hat{d}_i^{\\text{その他}}\\right)\n",
    "    }{\n",
    "    \\text{Var}(y_i)}\n",
    "=\\frac{\n",
    "    \\text{Cov}\\left(y_i,\\hat{d}_i^{\\text{その他}}\\right)\n",
    "    }{\n",
    "    \\text{Var}(y_i)}\n",
    "\\end{align*}\n",
    "$$ (eq:19-18)\n",
    "\n",
    "この式に従って計算してみよう。"
   ]
  },
  {
   "cell_type": "code",
   "execution_count": 85,
   "id": "3b5473d0",
   "metadata": {
    "hidden": true,
    "scrolled": true
   },
   "outputs": [
    {
     "name": "stdout",
     "output_type": "stream",
     "text": [
      "Intel MKL WARNING: Support of Intel(R) Streaming SIMD Extensions 4.2 (Intel(R) SSE4.2) enabled only processors has been deprecated. Intel oneAPI Math Kernel Library 2025.0 will require Intel(R) Advanced Vector Extensions (Intel(R) AVX) instructions.\n",
      "Intel MKL WARNING: Support of Intel(R) Streaming SIMD Extensions 4.2 (Intel(R) SSE4.2) enabled only processors has been deprecated. Intel oneAPI Math Kernel Library 2025.0 will require Intel(R) Advanced Vector Extensions (Intel(R) AVX) instructions.\n"
     ]
    },
    {
     "data": {
      "text/plain": [
       "0.39041607482876517"
      ]
     },
     "execution_count": 85,
     "metadata": {},
     "output_type": "execute_result"
    }
   ],
   "source": [
    "# 所得効果の割合\n",
    "income = pwt19[['pl_gdpo_log','income_effect']]\n",
    "income.cov().iloc[0,1] / income.cov().iloc[0,0]"
   ]
  },
  {
   "cell_type": "code",
   "execution_count": 86,
   "id": "48b0aae3",
   "metadata": {
    "hidden": true,
    "tags": [
     "remove-cell"
    ]
   },
   "outputs": [
    {
     "name": "stdout",
     "output_type": "stream",
     "text": [
      "Intel MKL WARNING: Support of Intel(R) Streaming SIMD Extensions 4.2 (Intel(R) SSE4.2) enabled only processors has been deprecated. Intel oneAPI Math Kernel Library 2025.0 will require Intel(R) Advanced Vector Extensions (Intel(R) AVX) instructions.\n",
      "Intel MKL WARNING: Support of Intel(R) Streaming SIMD Extensions 4.2 (Intel(R) SSE4.2) enabled only processors has been deprecated. Intel oneAPI Math Kernel Library 2025.0 will require Intel(R) Advanced Vector Extensions (Intel(R) AVX) instructions.\n"
     ]
    },
    {
     "data": {
      "text/plain": [
       "39.041607482876515"
      ]
     },
     "metadata": {
      "scrapbook": {
       "mime_prefix": "",
       "name": "income_effect_glued"
      }
     },
     "output_type": "display_data"
    }
   ],
   "source": [
    "from myst_nb import glue\n",
    "income = pwt19[['pl_gdpo_log','income_effect']]\n",
    "income_effect = 100*income.cov().iloc[0,1] / income.cov().iloc[0,0]\n",
    "glue(\"income_effect_glued\", income_effect)"
   ]
  },
  {
   "cell_type": "code",
   "execution_count": 87,
   "id": "7bbceb75",
   "metadata": {
    "hidden": true
   },
   "outputs": [
    {
     "name": "stdout",
     "output_type": "stream",
     "text": [
      "Intel MKL WARNING: Support of Intel(R) Streaming SIMD Extensions 4.2 (Intel(R) SSE4.2) enabled only processors has been deprecated. Intel oneAPI Math Kernel Library 2025.0 will require Intel(R) Advanced Vector Extensions (Intel(R) AVX) instructions.\n",
      "Intel MKL WARNING: Support of Intel(R) Streaming SIMD Extensions 4.2 (Intel(R) SSE4.2) enabled only processors has been deprecated. Intel oneAPI Math Kernel Library 2025.0 will require Intel(R) Advanced Vector Extensions (Intel(R) AVX) instructions.\n"
     ]
    },
    {
     "data": {
      "text/plain": [
       "0.6095839251712347"
      ]
     },
     "execution_count": 87,
     "metadata": {},
     "output_type": "execute_result"
    }
   ],
   "source": [
    "# 所得以外の効果の割合\n",
    "other = pwt19[['pl_gdpo_log','other_effect']]\n",
    "other.cov().iloc[0,1] / other.cov().iloc[0,0]"
   ]
  },
  {
   "cell_type": "markdown",
   "id": "a397c949",
   "metadata": {
    "hidden": true
   },
   "source": [
    "分散の割合で考えた場合，所得効果は全体の約{glue:text}`income_effect_glued:.0f`％を占めている。一般物価水準の一物一価が成立しない大きな理由が所得の差ということが明らかになった。一方で，所得以外の要因も大きな影響を及ぼしている。「その他」の要因は大きく２つに分けることができる。\n",
    "* 財・サービスの貿易（国際収支における貿易・サービス収支に該当）\n",
    "    * 国境をまたぐ国際貿易での輸送費用は非常に大きく，一物一価の大きな妨げとなっている。\n",
    "    * Big Macのように非貿易財（例えば，教育，建設，不動産，政府サービス）も存在する。輸送費用は著しく大きいため，貿易されない財と考えることができる。非貿易財の存在は経済間の一物一価の妨げとなっている。\n",
    "    * 一般物価水準を説明する上でバスケット財という合成財を考えた。しかし，全ての国で全く同じ財がある訳ではない。また，一般物価水準を計算する上で，各国の支出データを使いウェイトを算出し加重平均を計算することになるが，経済によって支出割合は異なるためウェイトも異なることになる。\n",
    "* 経済間の金融取引（国際収支における金融収支などに該当）\n",
    "    * 経済間では財・サービスだけではなく金融資本の取引がおこなわれる。例えば，直接投資，証券投資，金融派生商品などである。長期的な投資だけではなく，短期的な投資や投機も含まれるため，資金が瞬時に動くことになり市場為替レートが大きな影響を受けることになる。"
   ]
  },
  {
   "cell_type": "markdown",
   "id": "ea95db9d",
   "metadata": {
    "hidden": true
   },
   "source": [
    "````{note}\n",
    "式[](eq:19-17)は次のように書き直すことも可能である。\n",
    "\n",
    "```{math}\n",
    ":label: eq:19-19\n",
    "\\begin{align*}\n",
    "\\left(\n",
    "\\begin{split}\n",
    "&\\text{所得効果}\\\\\n",
    "&\\text{の割合}\n",
    "\\end{split}\n",
    "\\right)\n",
    "&=\\frac{\n",
    "    \\text{Cov}\\left(y_i,\\hat{d}_i^{\\text{所得}}\\right)\n",
    "    }{\n",
    "    \\text{Var}(y_i)}\n",
    "=\\frac{\n",
    "    \\text{Cov}\\left(y_i-\\hat{u}_i+\\hat{u}_i,\\hat{b}x_i+\\hat{a}-\\hat{a}\\right)\n",
    "    }{\n",
    "    \\text{Var}(y_i)}\\\\\n",
    "&=\\frac{\n",
    "    \\text{Cov}\\left(\\hat{p}_i+\\hat{u}_i,\\hat{y}_i-\\hat{a}\\right)\n",
    "    }{\n",
    "    \\text{Var}(y_i)}\\\\\n",
    "&=\\frac{\n",
    "    \\text{Cov}\\left(\\hat{y}_i,\\hat{y}_i\\right)\n",
    "    -\\text{Cov}\\left(\\hat{y}_i,\\hat{a}\\right)\n",
    "    +\\text{Cov}\\left(\\hat{u}_i,\\hat{y}_i\\right)\n",
    "    -\\text{Cov}\\left(\\hat{u}_i,\\hat{a}\\right)\n",
    "    }{\n",
    "    \\text{Var}(y_i)}\\\\\n",
    "&=\\frac{\n",
    "    \\text{Cov}(\\hat{y}_i,\\hat{y}_i)\n",
    "    }{\n",
    "    \\text{Var}(y_i)}\n",
    "=\\frac{\n",
    "    \\text{Var}(\\hat{y}_i)\n",
    "    }{\n",
    "    \\text{Var}(y_i)}\n",
    "=R^2\\;\\text{（決定係数）}\n",
    "\\end{align*}\n",
    "```\n",
    "回帰分析の結果が含まれる`res`を使って確認してみよう。\n",
    "```\n",
    "res.rsquared\n",
    "```\n",
    "上で計算した所得効果の割合と等しいことが確認できるはずだ。\n",
    "````"
   ]
  },
  {
   "cell_type": "markdown",
   "id": "33fc0f87",
   "metadata": {
    "heading_collapsed": true
   },
   "source": [
    "## 所得効果の含意"
   ]
  },
  {
   "cell_type": "markdown",
   "id": "3f1a605d",
   "metadata": {
    "hidden": true
   },
   "source": [
    "### PPPレートと市場為替レート：再考"
   ]
  },
  {
   "cell_type": "markdown",
   "id": "337eae62",
   "metadata": {
    "hidden": true
   },
   "source": [
    "上の分析で一般物価水準が経済によって大きく異なることを示すために，式[](eq:19-plgdpo)を使った。その式を式[](eq:19-30)と[](eq:19-rexr)を使って次のように表すことができる。\n",
    "\n",
    "$$\n",
    "\\begin{align*}\n",
    "\\text{(列 pl_gdpo)}\n",
    "&=\n",
    "\\frac{P_i/e_i}{P_{\\text{US}}}\\\\\n",
    "&=\\text{米国（2017年）を基準とした}i\\text{国のバスケット財の相対価格}\\\\\n",
    "&=\\frac{1}{\\eta_i}=\\frac{\\varepsilon_i}{e_i}\n",
    "\\end{align*}\n",
    "$$ (eq:19-plgdpoA)\n",
    "\n",
    "即ち，相対一般物価水準はPPPレートと市場為替レートに分解することができるということであり，経済間での相対一般物価水準の違いは，PPPレートと市場為替レートの乖離として現れるということである。この点を踏まえると，次のことが分かる。\n",
    "* `pl_gdpo`$=1$：$\\varepsilon_{i}=e_{i}$\n",
    "    * $i$国の物価水準は米国と同じ場合，PPPレートと市場為替レートは同じ。\n",
    "* `pl_gdpo`$>1$：$\\varepsilon_{i}>e_{i}$\n",
    "    * $i$国の物価水準は米国よりも高い場合，PPPレートと比較して$i$国の通貨は強すぎる。\n",
    "* `pl_gdpo`$<1$：$\\varepsilon_{i}<e_{i}$\n",
    "    * $i$国の物価水準は米国よりも低い場合，PPPレートと比較して$i$国の通貨は弱すぎる。"
   ]
  },
  {
   "cell_type": "markdown",
   "id": "c5613a18",
   "metadata": {
    "hidden": true
   },
   "source": [
    "更に，相対一般物価水準の違いは所得水準の違いに大きな影響を受けることが明らかになったが，式[](eq:19-plgdpoA)によると，所得効果はPPPレートと市場為替レートの乖離にも大きな影響を与えることが分かる。次のようにまとめることができる。\n",
    "> 所得が高い経済の通貨は強く，所得が低い経済の通貨は弱い傾向となっている。"
   ]
  },
  {
   "cell_type": "markdown",
   "id": "bc5e0889",
   "metadata": {
    "heading_collapsed": true,
    "hidden": true
   },
   "source": [
    "### ペン効果"
   ]
  },
  {
   "cell_type": "markdown",
   "id": "da90e2e1",
   "metadata": {
    "hidden": true
   },
   "source": [
    "PPPレートと市場為替レートの乖離は所得水準に影響されることが明らかになったが，その経済学的な含意は次のようにまとめることができる。\n",
    "\n",
    "> 市場為替レートを使いGDPを評価すると，貧しい国の貧しさは誇張される。\n",
    "\n",
    "これは**ペン効果**と呼ばれる。英語ではPenn Effectと呼ばれ，Pennは本章で使ったデータセットPenn World TableのPennから来ている。"
   ]
  },
  {
   "cell_type": "markdown",
   "id": "adce6d1a",
   "metadata": {
    "hidden": true
   },
   "source": [
    "ペン効果を簡単な数値例で説明するために，Big Macだけを生産する２国を考えてみよう。A国は豊かな経済であり，B国は貧しい経済としよう。A国は年間$Y_A=10$個のBig Mac，B国は$Y_B=5$個のBig Macを生産している。A国の貨幣単位は$\\$_A$であり，B国の貨幣は$\\$_B$とし，価格は$P_A=\\$_A10$，$P_B=\\$_B10$としよう。それぞれの自国通貨で評価すると，A国のGDPは$10\\times\\$_A10=\\$_A100$であり，A国のGDPは$5\\times\\$_B10=\\$_B50$である。\n",
    "\n",
    "この場合，PPPレートは\n",
    "\n",
    "$$\n",
    "\\varepsilon_{B/A}=\\frac{P_B}{P_A}=\\frac{10}{10}=1\n",
    "\\quad\\text{（単位：$\\$_B/\\$_A$）}\n",
    "$$ (eq:19-b00)\n",
    "\n",
    "となる。まず，一物一価が成立したとしよう。この場合，市場為替レートを$e_{B/A}$（単位：$\\$_B/\\$_A$）とすると，$\\varepsilon_{B/A}=e_{B/A}=1$が成立することになり，A国の通貨$\\$_A$で表した相対価格は\n",
    "\n",
    "$$\n",
    "\\frac{P_B/e_{B/A}}{P_A}=\\frac{10/1}{10}=1\n",
    "$$ (eq:19-b2)\n",
    "\n",
    "となる。購買力平価が成立する場合のGDPの比率は次のようになる。\n",
    "\n",
    "$$\n",
    "\\frac{Y_BP_B/e_{B/A}}{Y_AP_A}=\\frac{5\\times10/1}{10\\times10}=\\frac{50}{100}=\\frac{1}{2}\n",
    "$$ (eq:19-b3)\n",
    "\n",
    "B国のGDPはA国の半分ということだ。"
   ]
  },
  {
   "cell_type": "markdown",
   "id": "b55c7734",
   "metadata": {
    "hidden": true
   },
   "source": [
    "次に，ペン効果を導入する。所得の影響により為替レートは$e_{B/A}=2$と仮定しよう。即ち，B国は比較的に貧しいため，B国の通貨は弱いという仮定である。この場合，A国の通貨$\\$_A$で表した相対価格は\n",
    "\n",
    "$$\n",
    "\\frac{P_B/e_{B/A}}{P_A}=\\frac{10/2}{10}=\\frac{5}{10}=\\frac{1}{2}<1\n",
    "$$ (eq:19-b0)\n",
    "\n",
    "となり，A国の価格がB国よりも高く一物一価は成立しない。上述のデータと合致したパターン（豊かな国の価格が高い）となっている。相対的なGDPを計算してみよう。\n",
    "\n",
    "$$\n",
    "\\frac{Y_BP_B/e_{B/A}}{Y_AP_A}=\\frac{5\\times10/2}{10\\times10}=\\frac{25}{100}=\\frac{1}{4}\n",
    "$$ (eq:19-b1)\n",
    "\n",
    "B国のGDPはA国の25％しかない。所得効果がない購買力平価が成立する場合の50％と対照的であり，ペン効果により所得格差が誇張されている。"
   ]
  },
  {
   "cell_type": "markdown",
   "id": "6d069838",
   "metadata": {
    "heading_collapsed": true,
    "hidden": true
   },
   "source": [
    "### 一人当たりGDPの分布"
   ]
  },
  {
   "cell_type": "markdown",
   "id": "1c0bbb9a",
   "metadata": {
    "hidden": true
   },
   "source": [
    "上の数値例をデータを使って確認してみよう。ここでは`pwt19`を使い，PPPレートで計算された一人当たりGDPと市場為替レートに基づいた一人当たりGDPを計算し比較する。\n",
    "\n",
    "変数`cgdpo_pc`はPPPレートで計算した一人当たりGDP（2017年米ドル）である。具体的に説明するために，次の変数を定義しよう。\n",
    "* $Y_i$：$i$国の産出量\n",
    "* $P_i$：$i$国の貨幣表示の物価水準\n",
    "* $L_i$：$i$国の人口\n",
    "* $\\varepsilon_i$：１米ドル当たりの$i$国のPPPレート\n",
    "\n",
    "`cgdpo_pc`は次のように計算されている。\n",
    "\n",
    "$$\n",
    "\\text{(列 cgdpo_pc)}=\\frac{P_iY_i/L_i}{\\varepsilon_i}\n",
    "$$ (eq:19-p0)\n",
    "\n",
    "`pwt19`に市場為替レートのGDPを新たな列`cgdpo_pc_xr`として追加するとしよう。`cgdpo_pc`を使うと次の計算となる。\n",
    "\n",
    "$$\n",
    "\\text{(列 cgdpo_pc_xr)}\n",
    "=\\frac{P_iY_i/L_i}{\\varepsilon_i}\\times\\frac{\\varepsilon_i}{e_i}\n",
    "=\\text{(列 cgdpo_pc)}\\times\\frac{\\text{(列 ppp)}}{\\text{(列 xr)}}\n",
    "$$ (eq:19-p0A)\n",
    "\n",
    "列`cgdpo_pc_xr`を追加する。"
   ]
  },
  {
   "cell_type": "code",
   "execution_count": 88,
   "id": "6a498654",
   "metadata": {
    "hidden": true
   },
   "outputs": [],
   "source": [
    "pwt19['cgdpo_pc_xr'] = pwt19['cgdpo_pc'] * pwt19['ppp'] / pwt19['xr']"
   ]
  },
  {
   "cell_type": "markdown",
   "id": "f505549e",
   "metadata": {
    "hidden": true
   },
   "source": [
    "対数値も作成しておこう。"
   ]
  },
  {
   "cell_type": "code",
   "execution_count": 89,
   "id": "76319c5f",
   "metadata": {
    "hidden": true
   },
   "outputs": [],
   "source": [
    "pwt19['cgdpo_pc_xr_log'] = np.log( pwt19['cgdpo_pc_xr'] )"
   ]
  },
  {
   "cell_type": "markdown",
   "id": "58ba881d",
   "metadata": {
    "hidden": true
   },
   "source": [
    "まず散布図を使ってペン効果を確かめてみる。"
   ]
  },
  {
   "cell_type": "code",
   "execution_count": 90,
   "id": "2c0e85b9",
   "metadata": {
    "hidden": true
   },
   "outputs": [
    {
     "data": {
      "image/png": "[encoded data removed]",
      "text/plain": [
       "<Figure size 640x480 with 1 Axes>"
      ]
     },
     "metadata": {},
     "output_type": "display_data"
    }
   ],
   "source": [
    "ax = pwt19.plot('cgdpo_pc_log','cgdpo_pc_xr_log', kind='scatter')\n",
    "ax.axline((9, 9), (10, 10), color='red', label='45度線')  #1\n",
    "ax.set_xlabel('一人当たりGDP（PPPレート）', fontsize=13)\n",
    "ax.set_ylabel('一人当たりGDP（市場為替レート）', fontsize=13)\n",
    "ax.legend()\n",
    "pass"
   ]
  },
  {
   "cell_type": "markdown",
   "id": "147a3a69",
   "metadata": {
    "hidden": true
   },
   "source": [
    "```{admonition} コードの説明\n",
    ":class: dropdown\n",
    "* `#1`：`.axline()`は直線を表示するメソッドであり，引数で指定された座標２つを通過する直線がプロットされる。`(9,9)`は横軸`9`と縦軸`9`の座標であり，`(10,10)`は横軸`10`と縦軸`10`の座標となる。\n",
    "```"
   ]
  },
  {
   "cell_type": "markdown",
   "id": "efc01ba7",
   "metadata": {
    "hidden": true
   },
   "source": [
    "横軸はPPPレートで計算した一人当たりGDPであり，縦軸には市場為替レートに基づく一人当たりGDPとなっている。それぞれのレートで計算した一人当たりGDPが等しければ45度線（赤線）上に観測値は並んでいるはずである。しかし，観測値は45度線よりも下に位置する傾向があり，特に所得が低い経済においては顕著である。即ち，市場為替レートを使い計算した一人当たりGDPは低く算出される傾向にあり，所得が低い経済においてその傾向は強い。"
   ]
  },
  {
   "cell_type": "markdown",
   "id": "0ca36cd6",
   "metadata": {
    "hidden": true
   },
   "source": [
    "一人当たりGDPの分布を図示するためにカーネル密度推定をプロットしよう。（直感的には，カーネル密度推定とはヒストグラムの情報を使い，そのサンプルを生成した連続的な分布を推定する方法と考えれば良いだろう。）"
   ]
  },
  {
   "cell_type": "code",
   "execution_count": 91,
   "id": "bc6e1679",
   "metadata": {
    "hidden": true
   },
   "outputs": [
    {
     "data": {
      "image/png": "[encoded data removed]",
      "text/plain": [
       "<Figure size 640x480 with 1 Axes>"
      ]
     },
     "metadata": {},
     "output_type": "display_data"
    }
   ],
   "source": [
    "ax = pwt19[['cgdpo_pc_log','cgdpo_pc_xr_log']].plot(kind='kde')\n",
    "ax.legend(['PPPレート','市場為替レート'], fontsize=13)\n",
    "ax.set_title('一人当たりGDP（米ドル，対数）', fontsize=20)\n",
    "pass"
   ]
  },
  {
   "cell_type": "markdown",
   "id": "58c222d1",
   "metadata": {
    "hidden": true
   },
   "source": [
    "PPPレートGDPと比べて市場為替レートGDPは全体的に左（小さい値）にシフトしている。所得が中程度の国が減少し，所得が低い国が増加している。"
   ]
  },
  {
   "cell_type": "markdown",
   "id": "a63a9d6d",
   "metadata": {
    "hidden": true
   },
   "source": [
    "記述統計を比べてみよう。"
   ]
  },
  {
   "cell_type": "code",
   "execution_count": 92,
   "id": "71301c15",
   "metadata": {
    "hidden": true
   },
   "outputs": [
    {
     "data": {
      "text/html": [
       "<div>\n",
       "<style scoped>\n",
       "    .dataframe tbody tr th:only-of-type {\n",
       "        vertical-align: middle;\n",
       "    }\n",
       "\n",
       "    .dataframe tbody tr th {\n",
       "        vertical-align: top;\n",
       "    }\n",
       "\n",
       "    .dataframe thead th {\n",
       "        text-align: right;\n",
       "    }\n",
       "</style>\n",
       "<table border=\"1\" class=\"dataframe\">\n",
       "  <thead>\n",
       "    <tr style=\"text-align: right;\">\n",
       "      <th></th>\n",
       "      <th>市場為替レートGDP</th>\n",
       "      <th>PPPレートGDP</th>\n",
       "    </tr>\n",
       "  </thead>\n",
       "  <tbody>\n",
       "    <tr>\n",
       "      <th>count</th>\n",
       "      <td>182.000000</td>\n",
       "      <td>182.000000</td>\n",
       "    </tr>\n",
       "    <tr>\n",
       "      <th>mean</th>\n",
       "      <td>8.837957</td>\n",
       "      <td>9.479314</td>\n",
       "    </tr>\n",
       "    <tr>\n",
       "      <th>std</th>\n",
       "      <td>1.459575</td>\n",
       "      <td>1.137809</td>\n",
       "    </tr>\n",
       "    <tr>\n",
       "      <th>min</th>\n",
       "      <td>5.562148</td>\n",
       "      <td>6.678289</td>\n",
       "    </tr>\n",
       "    <tr>\n",
       "      <th>25%</th>\n",
       "      <td>7.733357</td>\n",
       "      <td>8.665637</td>\n",
       "    </tr>\n",
       "    <tr>\n",
       "      <th>50%</th>\n",
       "      <td>8.898444</td>\n",
       "      <td>9.585708</td>\n",
       "    </tr>\n",
       "    <tr>\n",
       "      <th>75%</th>\n",
       "      <td>10.056103</td>\n",
       "      <td>10.372745</td>\n",
       "    </tr>\n",
       "    <tr>\n",
       "      <th>max</th>\n",
       "      <td>11.676471</td>\n",
       "      <td>11.611350</td>\n",
       "    </tr>\n",
       "  </tbody>\n",
       "</table>\n",
       "</div>"
      ],
      "text/plain": [
       "       市場為替レートGDP   PPPレートGDP\n",
       "count  182.000000  182.000000\n",
       "mean     8.837957    9.479314\n",
       "std      1.459575    1.137809\n",
       "min      5.562148    6.678289\n",
       "25%      7.733357    8.665637\n",
       "50%      8.898444    9.585708\n",
       "75%     10.056103   10.372745\n",
       "max     11.676471   11.611350"
      ]
     },
     "execution_count": 92,
     "metadata": {},
     "output_type": "execute_result"
    }
   ],
   "source": [
    "#1\n",
    "stats_ppp = pwt19['cgdpo_pc_log'].describe().to_frame('PPPレートGDP')\n",
    "stats_xr = pwt19['cgdpo_pc_xr_log'].describe().to_frame('市場為替レートGDP')\n",
    "\n",
    "pd.concat([stats_xr,stats_ppp], axis='columns')  #2"
   ]
  },
  {
   "cell_type": "markdown",
   "id": "d77c1af4",
   "metadata": {
    "hidden": true
   },
   "source": [
    "```{admonition} コードの説明\n",
    ":class: dropdown\n",
    "* `#1`：`.describe()`は記述統計を`Series`として返すメソッド。`to_frame('PPPレートGDP')`は`Series`を`DataFrame`に変換するメソッドであり，引数'PPPレートGDP'を列ラベルに使う。\n",
    "* `#2`：`pd.concat()`は`Pandas`の`DataFrame`を結合する関数。\n",
    "    * 引数`[stats_xr,stats_ppp]`は結合する`DataFrame`をリストとして指定する。\n",
    "    * `axis='columns'`は各`DataFrame`を列として結合することを指定している。\n",
    "    * （注意）`pd.concat()`は行ラベルが合っているかはチェックしない。上のコードでは，行ラベルが同じだと分かっているので問題ないが，行ラベルが異なる`DataFrame`を結合する場合は`pd.merge()`を使うことを勧める。\n",
    "```"
   ]
  },
  {
   "cell_type": "markdown",
   "id": "d09fb7d7",
   "metadata": {
    "hidden": true
   },
   "source": [
    "上の結果をまとめると次のようになる。市場為替レートを使うことにより，\n",
    "* GDPの平均，最小値，25％分位数，中央値，75％分位数は減少している。\n",
    "* GDPの標準偏差と最大値は増加している。\n",
    "\n",
    "これらは市場為替レートにより経済間の不平等が大きく計測されていることを示唆する。不平等の一つに変動係数（Coefficient of Variation）があるが（式[](eq:19-cc)を参照），それを使って比較してみよ。\n",
    "\n",
    "変動係数が大きければ，所得不平等は大きいことを意味する。"
   ]
  },
  {
   "cell_type": "code",
   "execution_count": 93,
   "id": "3e81e449",
   "metadata": {
    "hidden": true
   },
   "outputs": [
    {
     "name": "stdout",
     "output_type": "stream",
     "text": [
      "--- GDPの変動係数 ---\n",
      "PPPレート：   0.120\n",
      "市場為替レート：0.165\n"
     ]
    }
   ],
   "source": [
    "cc_ppp = pwt19['cgdpo_pc_log'].std()/pwt19['cgdpo_pc_log'].mean()\n",
    "cc_xr = pwt19['cgdpo_pc_xr_log'].std()/pwt19['cgdpo_pc_xr_log'].mean()\n",
    "\n",
    "print('--- GDPの変動係数 ---')\n",
    "print(f'PPPレート：{cc_ppp:>8.3f}')\n",
    "print(f'市場為替レート：{cc_xr:.3f}')"
   ]
  },
  {
   "cell_type": "markdown",
   "id": "20a8cb09",
   "metadata": {
    "hidden": true
   },
   "source": [
    "市場為替レートに含まれる所得の影響がペン効果として現れていることが確認できる。"
   ]
  },
  {
   "cell_type": "markdown",
   "id": "ed7a6eb0",
   "metadata": {
    "heading_collapsed": true
   },
   "source": [
    "## まとめ"
   ]
  },
  {
   "cell_type": "markdown",
   "id": "2b10cce1",
   "metadata": {
    "hidden": true
   },
   "source": [
    "* 国内市場で財・サービスの一物一価は成立していない。\n",
    "* 経済間でBig Macの価格の一物一価は成立していない。\n",
    "* 経済間で一般物価水準は異なる。\n",
    "* 購買力平価レートは２つの通貨の購買力を等しくする交換レート。\n",
    "* 所得が高い（低い）経済の一般物価水準は高い（低い）傾向にある（所得効果）。\n",
    "* 所得効果により，所得が低い経済の通貨は購買力平価レートと比べて弱い傾向にある。\n",
    "* 市場為替レートを使い共通通貨で一人当たりGDPを比較すると，所得が低い経済の貧しさは誇張される。"
   ]
  }
 ],
 "metadata": {
  "celltoolbar": "Tags",
  "kernelspec": {
   "display_name": "Python 3 (ipykernel)",
   "language": "python",
   "name": "python3"
  },
  "language_info": {
   "codemirror_mode": {
    "name": "ipython",
    "version": 3
   },
   "file_extension": ".py",
   "mimetype": "text/x-python",
   "name": "python",
   "nbconvert_exporter": "python",
   "pygments_lexer": "ipython3",
   "version": "3.11.5"
  }
 },
 "nbformat": 4,
 "nbformat_minor": 5
}
