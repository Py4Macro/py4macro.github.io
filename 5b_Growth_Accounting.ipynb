{
 "cells": [
  {
   "cell_type": "markdown",
   "metadata": {},
   "source": [
    "(chap:5b-accounting)=\n",
    "# 成長会計"
   ]
  },
  {
   "cell_type": "markdown",
   "metadata": {},
   "source": [
    "<div name=\"html-admonition\" style=\"font-size: 0.8em\">\n",
    "<input type=\"button\" onclick=\"location.href='https://translate.google.com/translate?hl=&sl=ja&tl=en&u='+window.location;\" value=\"Google translation\" style=\"color:#ffffff;background-color:#008080; height:25px\" onmouseover=\"this.style.background='#99ccff'\" onmouseout=\"this.style.background='#008080'\"/> in English or the language of your choice.\n",
    "</div><br>"
   ]
  },
  {
   "cell_type": "code",
   "execution_count": null,
   "metadata": {},
   "outputs": [],
   "source": [
    "import japanize_matplotlib\n",
    "import matplotlib.pyplot as plt\n",
    "import numpy as np\n",
    "import pandas as pd\n",
    "import py4macro"
   ]
  },
  {
   "cell_type": "markdown",
   "metadata": {
    "heading_collapsed": true
   },
   "source": [
    "## はじめに"
   ]
  },
  {
   "cell_type": "markdown",
   "metadata": {
    "hidden": true
   },
   "source": [
    "この章では次の問を考える。\n",
    "\n",
    "> （問２）なぜ国々の経済成長率は大きく異なるのか？\n",
    "\n",
    "この問を**成長会計**と呼ばれる手法を使って考察する。この手法も発展会計と同様に，一人当たりGDPの**変化率**（即ち、経済成長率）を全要素生産性と蓄積生産要素に分解し、それぞれの寄与度を考察することにより問２の「なぜ」を考える。"
   ]
  },
  {
   "cell_type": "markdown",
   "metadata": {
    "heading_collapsed": true
   },
   "source": [
    "## 成長率について"
   ]
  },
  {
   "cell_type": "markdown",
   "metadata": {
    "hidden": true
   },
   "source": [
    "$t$時点の生産関数を\n",
    "\n",
    "$$\n",
    "y_t=A_tk_t^a\\left(h_tH_t\\right)^{1-a}\n",
    "$$\n",
    "\n",
    "としよう。$t$時点と$t+1$時点の生産関数を使うと\n",
    "\n",
    "$$\n",
    "\\frac{y_{t+1}}{y_t}=\\frac{A_{t+1}}{A_t}\n",
    "\\left(\\frac{k_{t+1}}{k_t}\\right)^a\n",
    "\\left(\\frac{h_{t+1}H_{t+1}}{h_tH_t}\\right)^{1-a}\n",
    "$$\n",
    "\n",
    "となる。ここで\n",
    "\n",
    "$$\n",
    "1+g_x\\equiv\\frac{x_{t+1}}{x_t}\n",
    "$$\n",
    "\n",
    "とすると，$g_x$は$x$の成長率（例えば、0.02）である。これにより、\n",
    "\n",
    "$$\n",
    "    1+g_y=(1+g_A)(1+g_k)^a\\left[(1+g_h)(1+g_H)\\right]^{1-a}\n",
    "$$\n",
    "\n",
    "となり、対数化すると\n",
    "\n",
    "$$\n",
    "    \\log(1+g_y)=\\log(1+g_A)+a\\log(1+g_k)+(1-a)\\left[\\log(1+g_h)+\\log(1+g_H)\\right]\n",
    "$$\n",
    "\n",
    "となる。また成長率が十分に小さい場合（例えば、0.02）、次式で近似することが可能となる。\n",
    "\n",
    "$$\n",
    "\\log(1+g_x)\\approx g_x\n",
    "$$ (eq:gx_approx)"
   ]
  },
  {
   "cell_type": "code",
   "execution_count": null,
   "metadata": {
    "hidden": true
   },
   "outputs": [],
   "source": [
    "np.log(1+0.02)"
   ]
  },
  {
   "cell_type": "markdown",
   "metadata": {
    "hidden": true
   },
   "source": [
    "即ち、\n",
    "\n",
    "$$\n",
    "    g_y=g_A+ag_k+(1-a)(g_h+g_H)\n",
    "$$ (eq:5-growth-of-y)\n",
    "\n",
    "となる。"
   ]
  },
  {
   "cell_type": "markdown",
   "metadata": {
    "hidden": true
   },
   "source": [
    "この式に基づき，成長会計，即ち，どの要素がどれだけ一人当たりGDPの成長率に貢献しているかを計算することになる。\n",
    "\n",
    "次に変数の平均成長率の計算方法を説明する。ある変数$x$が毎年$g_x$の率（例えば，`0.02`）で$n$年間成長したとしよう。初期の$x=x_0$に対する$n$年後の比率を考えると，次式が成立する。\n",
    "\n",
    "$$\n",
    "\\frac{x_{n}}{x_{0}}=\n",
    "\\frac{x_1}{x_{0}}\\cdot\n",
    "\\frac{x_2}{x_{1}}\\cdot\n",
    "\\frac{x_3}{x_{2}}\\cdot\n",
    "\\cdots\n",
    "\\frac{x_{n-2}}{x_{n-3}}\\cdot\n",
    "\\frac{x_{n-1}}{x_{n-2}}\\cdot\n",
    "\\frac{x_n}{x_{n-1}}\n",
    "=(1+g_x)^{n}\n",
    "$$ (eq:5-growth_average-expanded)\n",
    "\n",
    "$g_x$は一定なので$g_x$は年間平均成長率と等しい。このことを踏まえ[](eq:5-growth_average-expanded)の両辺を$1/n$乗すると次式となる。\n",
    "\n",
    "$$\n",
    "\\left(\\frac{x_n}{x_0}\\right)^{\\frac{1}{n}}=1+g_x\n",
    "$$\n",
    "\n",
    "即ち，$1+g_x$は$\\dfrac{x_n}{x_0}$の幾何平均であり，平均成長率$g_x$はこの式を使い計算できる。\n",
    "\n",
    "$$\n",
    "g_x=\n",
    "\\left(\n",
    "\\dfrac{x_{n}}{x_{0}}\n",
    "\\right)^{\\frac{1}{n}}-1\n",
    "$$ (eq:5-growth_average)\n",
    "\n",
    "この場合，算術平均ではなく**幾何平均**を使うことに注意しよう。また**毎期毎期の成長率が違っても同じ結果[](eq:5-growth_average)が成立する**ことも覚えておこう。\n",
    "\n",
    "更に，年間平均成長率を計算する場合，[](eq:5-growth_average-expanded)の両辺を対数化し式[](eq:gx_approx)の近似を使うこともできる。\n",
    "\n",
    "$$\n",
    "\\begin{align*}\n",
    "\\ln\\left(\\frac{x_n}{x_0}\\right)\n",
    "&=\\ln\\left(1+g_x\\right)^n \\\\\n",
    "&\\Downarrow\n",
    "\\end{align*}\n",
    "$$\n",
    "\n",
    "$$\n",
    "g_x\\approx\\frac{1}{n}\\ln\\left(\\frac{x_n}{x_0}\\right)\n",
    "$$ (eq:5-growth_average-2)\n",
    "\n",
    "$g_x$が十分に小さい場合は，[](eq:5-growth_average)と[](eq:5-growth_average-2)のどちらを使っても大きな差は出ない。重要な点は，どちらかの一つの方法を計算の対象全てに一貫して使うことであり，以下では[式](eq:5-growth-of-y)と[式](eq:5-growth_average-2)を使って計算する。\n",
    "\n",
    "例：$x_0=10$，$x_n=30$，$n=50$"
   ]
  },
  {
   "cell_type": "code",
   "execution_count": null,
   "metadata": {
    "hidden": true
   },
   "outputs": [],
   "source": [
    "x0 = 10\n",
    "xn = 30\n",
    "n  = 50\n",
    "\n",
    "houhou1 = (xn/x0)**(1/n)-1\n",
    "houhou2 = ( np.log(xn)-np.log(x0) )/n\n",
    "\n",
    "print(f'方法１：{houhou1:}\\n方法２：{houhou2}')"
   ]
  },
  {
   "cell_type": "markdown",
   "metadata": {
    "hidden": true
   },
   "source": [
    "```{admonition} コードの説明\n",
    ":class: dropdown\n",
    "\n",
    "* `f`は以前説明した`f-string`である。`houhou1`と`houhou2`にそれぞれの値を代入している。\n",
    "* `\\n`は改行を意味する。\n",
    "```"
   ]
  },
  {
   "cell_type": "markdown",
   "metadata": {},
   "source": [
    "## 平均成長率の計算"
   ]
  },
  {
   "cell_type": "markdown",
   "metadata": {},
   "source": [
    "まずPenn World Tableを読み込み，国のリストを作成しよう"
   ]
  },
  {
   "cell_type": "code",
   "execution_count": null,
   "metadata": {},
   "outputs": [],
   "source": [
    "df = py4macro.data('pwt')\n",
    "country_list = df.loc[:,'country'].unique()"
   ]
  },
  {
   "cell_type": "markdown",
   "metadata": {},
   "source": [
    "データに含まれる次の変数を使う。\n",
    "* `rgdpna`：実質GDP\n",
    "    * 経済成長を考える上で適している\n",
    "* `emp`：雇用者数\n",
    "* `rkna`：物的資本サービス\n",
    "* `hc`：人的資本の指標\n",
    "    * 教育年数と教育の収益から計算されている"
   ]
  },
  {
   "cell_type": "markdown",
   "metadata": {},
   "source": [
    "以下で計算する変数とは次のように対応している。\n",
    "* 一人当たりGDP：$y_i\\equiv\\dfrac{Y_i}{L_i}=$ `rgdpna`/`emp`\n",
    "* 一人当たり資本：$k_i\\equiv\\dfrac{K_i}{L_i}=$ `rkna`/`emp`\n",
    "* 労働者一人当たり人的資本サービス：$h_iH_i=$ `avh`x`hc`\n",
    "* 資本の所得シャア：$\\alpha=1/3$（仮定）\n",
    "* 蓄積生産要素：$k_i^{\\alpha}\\left(h_iH_i\\right)^{1-\\alpha}$\n",
    "* 全要素生産性：$A_i=\\dfrac{y_i}{k_i^{\\alpha}\\left(h_iH_i\\right)^{1-\\alpha}}$\n",
    "\n",
    "それぞれの変数を計算しよう。"
   ]
  },
  {
   "cell_type": "code",
   "execution_count": null,
   "metadata": {},
   "outputs": [],
   "source": [
    "# 資本の所得シャア\n",
    "a=1/3.0\n",
    "\n",
    "# 一人当たりGDP\n",
    "df['gdppc'] = df['rgdpna'] / df['emp']\n",
    "\n",
    "# 資本割合\n",
    "\n",
    "df['kpc'] = df['rkna'] / df['emp']\n",
    "\n",
    "# 蓄積生産要素\n",
    "df['factors'] = df['kpc']**a * ( df['avh']*df['hc'] )**(1-a)\n",
    "\n",
    "# 全要素生産性\n",
    "df['tfp'] = df['gdppc'] / df['factors']"
   ]
  },
  {
   "cell_type": "markdown",
   "metadata": {},
   "source": [
    "これらの変数を使い，1999年から2019年の20年間の`rgdp_pc`、`k_pc`、`avh`，`hc`の平均成長率を計算するが，まずそのための準備として関数を作成する。次の`calculate_growth`関数は，`country`（国）の`var`（変数）の平均成長率を返す。"
   ]
  },
  {
   "cell_type": "code",
   "execution_count": null,
   "metadata": {},
   "outputs": [],
   "source": [
    "def calculate_growth(country, var):\n",
    "    \"\"\"\n",
    "    引数：\n",
    "        country: 国名（文字列; 例えば，'Japan'）\n",
    "        var: 変数名（文字列; 例えば，`gdppc`）\n",
    "    戻り値：\n",
    "        `country`における`var`の平均成長率（浮動小数点型）\n",
    "    \"\"\"\n",
    "\n",
    "    start = 1999        #1\n",
    "    end = 2019          #2\n",
    "    t = end-start       #3\n",
    "\n",
    "    cond1 = ( df.loc[:,'country']==country ) #4\n",
    "    cond2 = ( df.loc[:,'year']==start )      #5\n",
    "    cond3 = ( df.loc[:,'year']==end )        #6\n",
    "\n",
    "    cond_start = ( cond1 & cond2 )           #7\n",
    "    cond_end = ( cond1 & cond3 )             #8\n",
    "\n",
    "    df_start = df.loc[cond_start,:]   #9\n",
    "    df_end = df.loc[cond_end,:]       #10\n",
    "\n",
    "    g = (1/t)*np.log( df_end[var].iloc[0]/df_start[var].iloc[0] ) #11\n",
    "    \n",
    "    return 100*g   #12"
   ]
  },
  {
   "cell_type": "markdown",
   "metadata": {},
   "source": [
    "```{admonition} コードの説明\n",
    ":class: dropdown\n",
    "\n",
    "* `#1`：最初の年を指定\n",
    "* `#2`：最後の年を指定\n",
    "* `#3`：何年間かを計算\n",
    "* `#4`：国を選択する際の条件であり`#7`と`#8`で使う\n",
    "* `#5`：最初の年を選択する際の条件であり`#7`で使う\n",
    "* `#6`：最後の年を選択する際の条件であり``#8`で使う\n",
    "* `#7`：最初の年と国を選択する際の条件であり`#9`で`df_start`を作成する際に使う\n",
    "* `#8`：最後の年と国を選択する際の条件であり`#10`で`df_end`を作成する際に使う\n",
    "* `#9`：最初の年の`DataFrame`を抽出\n",
    "* `#10`：最後の年の`DataFrame`を抽出\n",
    "* `#11`：平均成長率を計算する。\n",
    "    * `df_end[v]`と`df_start[v]`は列ラベル`v`の列を抽出しており、`Series`として返される。\n",
    "    * `.iat[0]`は`Series`の`0`番目の数値を取り出すメソッド\n",
    "    * 成長率を計算し`g`に割り当てる。\n",
    "* `#12`：％表示にして返す\n",
    "```"
   ]
  },
  {
   "cell_type": "markdown",
   "metadata": {},
   "source": [
    "例として，日本の一人当たりGDPの平均成長率を計算してみよう。"
   ]
  },
  {
   "cell_type": "code",
   "execution_count": null,
   "metadata": {},
   "outputs": [],
   "source": [
    "calculate_growth('Japan','gdppc')"
   ]
  },
  {
   "cell_type": "markdown",
   "metadata": {},
   "source": [
    "次に，`calculate_growth`関数を使いいっきに全ての国の４つの変数の平均成長率を計算する。`for`ループが二重（入れ子）になっている。"
   ]
  },
  {
   "cell_type": "code",
   "execution_count": null,
   "metadata": {},
   "outputs": [],
   "source": [
    "var_list = ['gdppc','kpc','avh','hc']   #1\n",
    "\n",
    "growth_dict = {}            #2\n",
    "\n",
    "for v in var_list:          #3\n",
    "    \n",
    "    growth_list = []        #4\n",
    "    \n",
    "    for c in country_list:  #5\n",
    "        \n",
    "        g = calculate_growth(c, v)  #6\n",
    "        \n",
    "        growth_list.append(g)       #7\n",
    "            \n",
    "    growth_dict[v] = growth_list    #8\n",
    "\n",
    "df_growth = pd.DataFrame({'country':country_list,         #9\n",
    "                          'gdppc':growth_dict['gdppc'],   #10\n",
    "                          'kpc':growth_dict['kpc'],\n",
    "                          'avh':growth_dict['avh'],\n",
    "                          'hc':growth_dict['hc']})"
   ]
  },
  {
   "cell_type": "markdown",
   "metadata": {},
   "source": [
    "```{admonition} コードの説明\n",
    ":class: dropdown\n",
    "\n",
    "* `#1`：成長率を計算する対象となる変数リスト\n",
    "* `#2`：空の辞書。次の形になるように(1)の平均成長率のリストを格納する。\n",
    "    * キー：変数名（`gdppc`、`kpc`、`hc`）\n",
    "    * 値：それぞれの国の成長率からなるリスト\n",
    "* `#3`：`var_list`に対しての`for`ループ。１回目のループでは`dgppc`について計算する。\n",
    "* `#4`：空リスト（役割は以下で説明）\n",
    "* `#5`：`country_list`に対しての`for`ループ。(3)の１回目の`for`ループで変数`dgppc`に対して`country_list`にある国の成長率を下に続くコードを使って計算する。\n",
    "* `#6`：`calculate_growth`関数を使い，国`c`の変数`v`の平均成長率を計算し`g`に割り当てる。\n",
    "* `#7`：計算した成長率を(4)のリストに追加する。\n",
    "* `#8`：ループが終わると、(4)のリストを(2)の辞書に追加する。\n",
    "    * 辞書に追加する際に変数名`v`を指定することにより、次のペアのデータが追加される\n",
    "        * キー：変数名（`rgdppc`、`kpc`、`hc`）\n",
    "        * 値：それぞれの国の成長率のリスト\n",
    "    * `#3`の`for`ループの次の変数に移り、3.以下で説明した作業が繰り返される。\n",
    "* `#9`：`country_list`を`DataFrame`の列に設定\n",
    "* `#10`：`gdppc`の成長率を`DataFrame`の列に設定するが，その際，`growth_dict['キー']`で`growth_dic`の`キー`にあるリストを抽出している。\n",
    "    * 下の３行は`kpc`，`avh`，`hc`に対して同じ作業を行なっている。\n",
    "    * 新たに作成される`DataFrame`は変数`df_growth`に割り当てられる。\n",
    "```"
   ]
  },
  {
   "cell_type": "markdown",
   "metadata": {},
   "source": [
    "`df_growth`の最初の５行を表示してみよう。"
   ]
  },
  {
   "cell_type": "code",
   "execution_count": null,
   "metadata": {},
   "outputs": [],
   "source": [
    "df_growth.head()"
   ]
  },
  {
   "cell_type": "markdown",
   "metadata": {},
   "source": [
    "````{note}\n",
    "`DataFrame`にはグループ計算用のメソッド`groupby`が備わっており，それを使うとより短いコードで`df_growth`を作成することができる。\n",
    "```\n",
    "def calc_growth(x):\n",
    "    return (1/(len(x)-1))*np.log( x.iloc[-1] / x.iloc[0] )\n",
    "\n",
    "cond1 = ( 1999 <= df['year'] )\n",
    "cond2 = ( 2019 >= df['year'] )\n",
    "cond = cond1 & cond2\n",
    "df_growth = 100 * df.loc[cond,:].groupby('country')[['gdppc','kpc','avh','hc']].agg(calc_growth)\n",
    "```\n",
    "[ここを参考にしよう。](https://py4basics.github.io/3_Pandas.html#id35)\n",
    "````"
   ]
  },
  {
   "cell_type": "markdown",
   "metadata": {},
   "source": [
    "`gdppc`の成長率のヒストグラムをプロットするが，ここでは`DataFrame`のメソッド`plot()`を使う。まず使用する列を選んでメソッド`plot()`の引数に`kind='hist'`を指定するだけである。`bins=20`は階級（棒）の数を指定する引数（デフォルトは`10`）と理解すれば良いだろう。"
   ]
  },
  {
   "cell_type": "code",
   "execution_count": null,
   "metadata": {},
   "outputs": [],
   "source": [
    "df_growth['gdppc'].plot(kind='hist',bins=15)\n",
    "pass"
   ]
  },
  {
   "cell_type": "markdown",
   "metadata": {},
   "source": [
    "多くの国はプラスの経済成長を遂げているが，マイナイス成長の経済も存在する。平均成長率がマイナスの国数を計算してみよう。"
   ]
  },
  {
   "cell_type": "code",
   "execution_count": null,
   "metadata": {},
   "outputs": [],
   "source": [
    "cond = ( df_growth.loc[:,'gdppc']<0 )\n",
    "len(df_growth.loc[cond,:])"
   ]
  },
  {
   "cell_type": "markdown",
   "metadata": {},
   "source": [
    "最も平均成長率が低い経済の国名を探してみよう。"
   ]
  },
  {
   "cell_type": "code",
   "execution_count": null,
   "metadata": {},
   "outputs": [],
   "source": [
    "df_growth_sorted = df_growth.sort_values('gdppc')\n",
    "df_growth_sorted.head()"
   ]
  },
  {
   "cell_type": "markdown",
   "metadata": {},
   "source": [
    "ここで使ったメソッド`sort_values()`は，引数の列を基準に昇順に並べ替える。引数に`ascending=False`を使うと，降順に並び替えることができる。"
   ]
  },
  {
   "cell_type": "code",
   "execution_count": null,
   "metadata": {
    "tags": [
     "hide-input"
    ]
   },
   "outputs": [],
   "source": [
    "print( '上のヒストグラムで最も成長率が低い国は'\n",
    "      f'{df_growth_sorted.iloc[0,0]}である。')"
   ]
  },
  {
   "cell_type": "markdown",
   "metadata": {},
   "source": [
    "`df_growth_sorted`から分かるように，他の変数には欠損値が含まれているので`NaN`がある行は全て削除する。"
   ]
  },
  {
   "cell_type": "code",
   "execution_count": null,
   "metadata": {},
   "outputs": [],
   "source": [
    "df_growth = df_growth.dropna()"
   ]
  },
  {
   "cell_type": "markdown",
   "metadata": {},
   "source": [
    "残った国数を確認してみよう。"
   ]
  },
  {
   "cell_type": "code",
   "execution_count": null,
   "metadata": {},
   "outputs": [],
   "source": [
    "len(df_growth)"
   ]
  },
  {
   "cell_type": "markdown",
   "metadata": {},
   "source": [
    "## 蓄積生産要素の成長率"
   ]
  },
  {
   "cell_type": "markdown",
   "metadata": {},
   "source": [
    "次に，下の式を使って蓄積生産要素の成長率を計算しよう。\n",
    "\n",
    "$$\n",
    "g_{\\text{factors}}=ag_k+(1-a)(g_h+g_H)\n",
    "$$\n",
    "\n",
    "結果を`df_growth`に追加するが，その際、$a=\\dfrac{1}{3}$と仮定する。"
   ]
  },
  {
   "cell_type": "code",
   "execution_count": null,
   "metadata": {},
   "outputs": [],
   "source": [
    "df_growth.loc[:,'factors'] = (1/3)*df_growth['kpc']+(1-1/3)*( df_growth['avh']+df_growth['hc'] )"
   ]
  },
  {
   "cell_type": "markdown",
   "metadata": {},
   "source": [
    "`factors`の成長率のヒストグラムを図示する。"
   ]
  },
  {
   "cell_type": "code",
   "execution_count": null,
   "metadata": {},
   "outputs": [],
   "source": [
    "df_growth['factors'].plot(kind='hist',bins=15)\n",
    "pass"
   ]
  },
  {
   "cell_type": "markdown",
   "metadata": {},
   "source": [
    "マイナスの成長率の国数を調べてみよう。"
   ]
  },
  {
   "cell_type": "code",
   "execution_count": null,
   "metadata": {},
   "outputs": [],
   "source": [
    "cond = ( df_growth.loc[:,'factors']<0 )\n",
    "len(df_growth.loc[cond,:])"
   ]
  },
  {
   "cell_type": "markdown",
   "metadata": {},
   "source": [
    "## 全要素生産性"
   ]
  },
  {
   "cell_type": "markdown",
   "metadata": {},
   "source": [
    "全要素生産性は残差として計算される。\n",
    "\n",
    "$$\n",
    "g_A=g_y-g_{\\text{factors}}\n",
    "$$"
   ]
  },
  {
   "cell_type": "code",
   "execution_count": null,
   "metadata": {},
   "outputs": [],
   "source": [
    "df_growth['tfp'] = df_growth['gdppc'] - df_growth['factors']"
   ]
  },
  {
   "cell_type": "markdown",
   "metadata": {},
   "source": [
    "`tfp`の成長率のヒストグラムを図示してみよう。"
   ]
  },
  {
   "cell_type": "code",
   "execution_count": null,
   "metadata": {},
   "outputs": [],
   "source": [
    "df_growth['tfp'].plot(kind='hist',bins=15)\n",
    "pass"
   ]
  },
  {
   "cell_type": "markdown",
   "metadata": {},
   "source": [
    "蓄積生産要素と比べると全要素生産性の成長率はよりマイナスに広がっている。TFP成長率がマイナスの国の数を確認してみよう。"
   ]
  },
  {
   "cell_type": "code",
   "execution_count": null,
   "metadata": {},
   "outputs": [],
   "source": [
    "cond = ( df_growth.loc[:,'tfp']<0 )\n",
    "len(df_growth.loc[cond,:])"
   ]
  },
  {
   "cell_type": "markdown",
   "metadata": {},
   "source": [
    "蓄積要素生産性のマイナス成長率の国数と比べると10倍である。"
   ]
  },
  {
   "cell_type": "markdown",
   "metadata": {
    "heading_collapsed": true
   },
   "source": [
    "## 全要素生産性と蓄積生産要素の貢献度"
   ]
  },
  {
   "cell_type": "markdown",
   "metadata": {
    "hidden": true
   },
   "source": [
    "全要素生産性と蓄積生産要素のどちらが成長率に貢献しているのだろうか。まず図を使って比較してみよう。"
   ]
  },
  {
   "cell_type": "code",
   "execution_count": null,
   "metadata": {
    "hidden": true
   },
   "outputs": [],
   "source": [
    "df_growth[['tfp','factors']].plot(kind='hist',bins=20,alpha=0.5)\n",
    "pass"
   ]
  },
  {
   "cell_type": "markdown",
   "metadata": {
    "hidden": true
   },
   "source": [
    "```{admonition} コードの説明\n",
    ":class: dropdown\n",
    "* ２つの列を選択することにより，同じ図に２つのヒストグラムが表示できるようになる。\n",
    "* 引数`alpha`は図の透過度を指定する。0から1の間の値が指定可能で，デフォルトは1（透過なし）。\n",
    "```"
   ]
  },
  {
   "cell_type": "markdown",
   "metadata": {
    "hidden": true
   },
   "source": [
    "図から次のことがわかる。蓄積生産要素の成長率は正の値になる傾向がある。即ち，殆どの経済で蓄積生産要素による経済成長が起こっているということである。一方，全要素生産性の成長率はマイナスへの広がりがあり，成長を妨げる要因になっているようである。\n",
    "\n",
    "次に，一人当たりGDPの成長率に対する全要素生産性の貢献度を数量化するが，２つの方法を考えよう。"
   ]
  },
  {
   "cell_type": "markdown",
   "metadata": {
    "heading_collapsed": true,
    "hidden": true
   },
   "source": [
    "### 方法１"
   ]
  },
  {
   "cell_type": "markdown",
   "metadata": {
    "hidden": true
   },
   "source": [
    "全要素生産性の貢献度を次の式で計算する。\n",
    "\n",
    "$$\n",
    "100\\times\\frac{g_{A}}{g_y}\n",
    "$$"
   ]
  },
  {
   "cell_type": "code",
   "execution_count": null,
   "metadata": {
    "hidden": true
   },
   "outputs": [],
   "source": [
    "df_growth['tfp_contribution'] = 100 * df_growth['tfp']/df_growth['gdppc']"
   ]
  },
  {
   "cell_type": "markdown",
   "metadata": {
    "hidden": true
   },
   "source": [
    "全要素生産性の貢献度が`50`％以上の国はデータセット全体の何％を占めるかを計算しよう。"
   ]
  },
  {
   "cell_type": "code",
   "execution_count": null,
   "metadata": {
    "hidden": true
   },
   "outputs": [],
   "source": [
    "cond = ( df_growth.loc[:,'tfp_contribution']>=50 )\n",
    "100 * len(df_growth.loc[cond,:]) / len(df_growth)"
   ]
  },
  {
   "cell_type": "code",
   "execution_count": null,
   "metadata": {
    "hidden": true,
    "tags": [
     "remove-cell"
    ]
   },
   "outputs": [],
   "source": [
    "from myst_nb import glue\n",
    "tfp_contribution_more_than_50 = round(100 * len(df_growth.query('50<=tfp_contribution')) / len(df_growth),1)\n",
    "glue(\"tfp_contribution_more_than_50\", tfp_contribution_more_than_50,display=False)"
   ]
  },
  {
   "cell_type": "markdown",
   "metadata": {
    "hidden": true
   },
   "source": [
    "約{glue:}`tfp_contribution_more_than_50`％の国で全要素生産性がより大きな貢献をしている。"
   ]
  },
  {
   "cell_type": "markdown",
   "metadata": {
    "heading_collapsed": true,
    "hidden": true
   },
   "source": [
    "### 方法２"
   ]
  },
  {
   "cell_type": "markdown",
   "metadata": {
    "hidden": true
   },
   "source": [
    "２つ目の方法として発展会計で使った方法を考える。\n",
    "\n",
    "$$\n",
    "g_{yi} = g_{Ai} + g_{\\text{factors},i}\n",
    "$$\n",
    "\n",
    "従って、分散を計算すると\n",
    "\n",
    "$$\n",
    "\\text{Var}\\left(g_{yi}\\right)=\n",
    "\\text{Var}\\left(g_{Ai}\\right)+\n",
    "\\text{Var}\\left(g_{\\text{factors},i}\\right)\n",
    "+2\\text{Cov}\\left(g_{Ai},g_{\\text{factors},i}\\right)\n",
    "$$\n",
    "\n",
    "となり、次式を定義することができる。\n",
    "\n",
    "$$\n",
    "\\begin{align*}\n",
    "\\text{全要素生産性の寄与度}&=\n",
    "\\dfrac{\n",
    "    \\text{Var}\\left(g_{Ai}\\right)+\n",
    "    \\text{Cov}\\left(g_{Ai},g_{\\text{factors},i}\\right)\n",
    "    }{\n",
    "    \\text{Var}\\left(g_{yi}\\right)\n",
    "    } \\\\\n",
    "\\text{生産要素の寄与度}&=\n",
    "\\dfrac{\n",
    "    \\text{Var}\\left(g_{\\text{factors},i}\\right)+\n",
    "    \\text{Cov}\\left(g_{Ai},g_{\\text{factors},i}\\right)\n",
    "    }{\n",
    "    \\text{Var}\\left(g_{yi}\\right)\n",
    "    }    \n",
    "\\end{align*}\n",
    "$$\n",
    "\n",
    "これらの式に従って計算してみよう。"
   ]
  },
  {
   "cell_type": "code",
   "execution_count": null,
   "metadata": {
    "hidden": true
   },
   "outputs": [],
   "source": [
    "# それぞれの変数を設定\n",
    "gdppc_growth   = df_growth['gdppc']\n",
    "tfp_growth     = df_growth['tfp']\n",
    "factors_growth = df_growth['factors']\n",
    "\n",
    "# 分散・共分散の計算\n",
    "gdppc_growth_var       = gdppc_growth.var()\n",
    "tfp_growth_var         = tfp_growth.var()\n",
    "factors_growth_var     = factors_growth.var()\n",
    "tfp_factors_growth_cov = np.cov(tfp_growth, factors_growth)[0,1]"
   ]
  },
  {
   "cell_type": "markdown",
   "metadata": {
    "hidden": true
   },
   "source": [
    "````{hint}\n",
    "`tfp_factors_growth_cov`は次のコードでも計算できる。\n",
    "```\n",
    "df_growth.loc[:,['tfp','factors']].cov().iloc[0,1]\n",
    "```\n",
    "````"
   ]
  },
  {
   "cell_type": "markdown",
   "metadata": {
    "hidden": true
   },
   "source": [
    "**全要素生産性の寄与度**"
   ]
  },
  {
   "cell_type": "code",
   "execution_count": null,
   "metadata": {
    "hidden": true
   },
   "outputs": [],
   "source": [
    "(tfp_growth_var + tfp_factors_growth_cov) / gdppc_growth_var"
   ]
  },
  {
   "cell_type": "markdown",
   "metadata": {
    "hidden": true
   },
   "source": [
    "**蓄積生産要素の寄与度**"
   ]
  },
  {
   "cell_type": "code",
   "execution_count": null,
   "metadata": {
    "hidden": true
   },
   "outputs": [],
   "source": [
    "(factors_growth_var+ tfp_factors_growth_cov) / gdppc_growth_var"
   ]
  },
  {
   "cell_type": "markdown",
   "metadata": {
    "hidden": true
   },
   "source": [
    "蓄積生産要素と全要素生産性の寄与度は概ね6対4の割合でであることが確認できる。この結果は両変数の成長率のヒストグラムからも伺える。全要素生産性の方がより幅広く変化しているようである。いずれにしろ，蓄積生産要素と全要素生産性ともに一人当たりGDPの成長に大きく貢献していることが確認できる。"
   ]
  },
  {
   "cell_type": "markdown",
   "metadata": {
    "heading_collapsed": true
   },
   "source": [
    "## 表の作成"
   ]
  },
  {
   "cell_type": "markdown",
   "metadata": {
    "hidden": true
   },
   "source": [
    "結果を表としてまとめてみる。右端の列は方法１の結果を使っている。"
   ]
  },
  {
   "cell_type": "code",
   "execution_count": null,
   "metadata": {
    "hidden": true
   },
   "outputs": [],
   "source": [
    "country_table = ['Japan', 'United Kingdom','United States', 'Norway',\n",
    "                'Singapore','Peru','India','China']\n",
    "\n",
    "cond = df_growth['country'].isin(country_table)\n",
    "\n",
    "col = ['country','gdppc','factors','tfp','tfp_contribution']\n",
    "\n",
    "df_growth.loc[cond,col].set_index('country') \\\n",
    "         .sort_values('gdppc', ascending=False) \\\n",
    "         .round(2) \\\n",
    "         .rename(columns={'gdppc':'一人当たりGDPの成長率',\n",
    "                          'factors':'蓄積生産要素の成長率',\n",
    "                          'tfp':'全要素生産性の成長率',\n",
    "                          'tfp_contribution':'全要素生産性の寄与度(％)'})"
   ]
  },
  {
   "cell_type": "markdown",
   "metadata": {
    "hidden": true
   },
   "source": [
    "ここでの全要素生産性の寄与度は，一人当たりGDPの成長率のうち何％がTFPによるものかを示している。この表を見ると，日本の全要素生産性の寄与度は非常に大きい。このデータは1999~2019年のデータであり，それ以前ではどうだったのかを含めて，次節では年代を区切って日本の経済成長を考察してみることにする。"
   ]
  },
  {
   "cell_type": "markdown",
   "metadata": {
    "heading_collapsed": true
   },
   "source": [
    "## 日本"
   ]
  },
  {
   "cell_type": "markdown",
   "metadata": {
    "hidden": true
   },
   "source": [
    "日本の年代別に成長率を考えてみよう。まず次の関数を作成するが，これは`calculate_growth`関数を「日本仕様」に少しだけ修正したものとなっており，中身はほとんど同じである。大きな違いは引数に`start`と`end`を加えてことである。"
   ]
  },
  {
   "cell_type": "code",
   "execution_count": null,
   "metadata": {
    "hidden": true
   },
   "outputs": [],
   "source": [
    "def jp_calculate_growth(var, start, end):\n",
    "    \"\"\"\n",
    "    引数：\n",
    "        var: 変数名（文字列; 例えば，`gdppc`）\n",
    "        start: 最初の年（整数型）\n",
    "        end: 最後の年（整数型）\n",
    "    戻り値：\n",
    "        日本における`var`の平均成長率（浮動小数点型）\n",
    "    \"\"\"\n",
    "\n",
    "    t = end-start\n",
    "\n",
    "    cond1 = ( df.loc[:,'country']=='Japan' )\n",
    "    cond2 = ( df.loc[:,'year']==start )\n",
    "    cond3 = ( df.loc[:,'year']==end )\n",
    "\n",
    "    cond_start = ( cond1 & cond2 )\n",
    "    cond_end = ( cond1 & cond3 )\n",
    "\n",
    "    df_start = df.loc[cond_start,:]\n",
    "    df_end = df.loc[cond_end,:]\n",
    "\n",
    "    g = (1/t)*np.log( df_end[var].iloc[0]/df_start[var].iloc[0] )\n",
    "    \n",
    "    return 100*g"
   ]
  },
  {
   "cell_type": "markdown",
   "metadata": {
    "hidden": true
   },
   "source": [
    "`jp_calculate_growth`関数を使い`start`から`end`まで4つ変数の平均成長率を計算する関数を作成する。"
   ]
  },
  {
   "cell_type": "code",
   "execution_count": null,
   "metadata": {
    "hidden": true
   },
   "outputs": [],
   "source": [
    "def jp_growth_decomposition(start, end):\n",
    "    \"\"\"引数：\n",
    "        start（int）: 開始年\n",
    "        end（int）: 最終年\n",
    "        \n",
    "       返り値：次の変数の成長率とTFPの寄与度からなるリスト\n",
    "                一人当たりGDP\n",
    "                一人当たり物的資本\n",
    "                平均労働時間\n",
    "                人的資本\n",
    "                全要素生産性（TFP）\"\"\"\n",
    "\n",
    "    var_list = ['gdppc','kpc','avh','hc']\n",
    "        \n",
    "    g_list = []\n",
    "    \n",
    "    # ========== var_listの変数の平均成長率を計算しg_listに追加する ==========\n",
    "    for v in var_list:\n",
    "        \n",
    "        g = jp_calculate_growth(v, start, end)\n",
    "        g_list.append(g)\n",
    "        \n",
    "    # ========== 蓄積生産要素の平均成長率を計算しg_listに追加する ==========\n",
    "    factors = (1/3)*g_list[1]+(1-1/3)*( g_list[2]+g_list[3] )\n",
    "    g_list.append(factors)\n",
    "    \n",
    "    # ========== 全要素生産性の平均成長率を計算しg_listに追加する ==========\n",
    "    tfp = g_list[0]-factors\n",
    "    g_list.append(tfp)\n",
    "\n",
    "    # ========== 全要素生産性の寄与度を計算しg_listに追加する ==========\n",
    "    tfp_contribution = 100*tfp/g_list[0]\n",
    "    g_list.append(tfp_contribution)\n",
    "    \n",
    "    return g_list"
   ]
  },
  {
   "cell_type": "markdown",
   "metadata": {
    "hidden": true
   },
   "source": [
    "この関数を使って`DataFrame`を作成する。"
   ]
  },
  {
   "cell_type": "code",
   "execution_count": null,
   "metadata": {
    "hidden": true
   },
   "outputs": [],
   "source": [
    "dic = {}                                          # 1\n",
    "\n",
    "yr_list = ['1950s','1960s','1970s',               # 2\n",
    "           '1980s','1990s','2000s','2010s']\n",
    "\n",
    "for yr in yr_list:                                # 3\n",
    "    start = int(yr[:4])                           # 4\n",
    "    end = start+9                                 # 5\n",
    "    dic[yr] = jp_growth_decomposition(start,end)  # 6\n",
    "\n",
    "\n",
    "idx = ['gdppc_growth','kpc_growth',               # 7\n",
    "       'avh_growth','hc_growth','factors_growth',\n",
    "       'tfp_growth','tfp_contribution']\n",
    "\n",
    "df_jp = pd.DataFrame(dic, index=idx)              # 8\n",
    "df_jp"
   ]
  },
  {
   "cell_type": "markdown",
   "metadata": {
    "hidden": true
   },
   "source": [
    "````{admonition} コードの説明\n",
    ":class: dropdown\n",
    "\n",
    "1~6のコードは次のコードを`for`ループとして書いている。\n",
    "```\n",
    "dic = {'1950s':jp_growth_decomposition(1950,1959),\n",
    "       '1960s':jp_growth_decomposition(1960,1969),\n",
    "       '1970s':jp_growth_decomposition(1970,1979),\n",
    "       '1980s':jp_growth_decomposition(1980,1989),\n",
    "       '1990s':jp_growth_decomposition(1990,1999),\n",
    "       '2000s':jp_growth_decomposition(2000,2010),\n",
    "       '2010s':jp_growth_decomposition(2010,2019)}\n",
    "\n",
    "```\n",
    "1. 空の辞書`dic`を作成する。\n",
    "2. `dic`のキーになる値のリストを作成する。\n",
    "3. `yr_list`に対しての`for`ループ。\n",
    "4. 関数`jp_growth_decomposition()`の引数として使用する開始年を作成する。\n",
    "    * 右辺の`yr`は5つの文字からなる文字列であり，`yr[:4]`は最初の4文字を抽出する。それを整数に変換するために`int()`を使っている。\n",
    "    * 右辺の開始年を変数`start`に割り当てる。\n",
    "5. 関数`jp_growth_decomposition()`の引数として使用する最終年を作成する。\n",
    "    * 右辺では`start`の9年後を最終年としている。\n",
    "    * 右辺の最終年を変数`end`に割り当てる。\n",
    "6. `dic`のキー`yr`に対応する値として`jp_growth_decomposition(start,end)`の返り値を`設定する。\n",
    "7. (8)で`DataFrame`を作成するが，その行ラベルに使うリストを作成する。\n",
    "8. `dic`を使い`DataFrame`を作成する。\n",
    "````"
   ]
  },
  {
   "cell_type": "markdown",
   "metadata": {
    "hidden": true
   },
   "source": [
    "値を確認するだけであればこのままでも良いが，棒グラフを作成するために列と行を入れ替えることにする。`df_jp`のメソッド`.transpose()`を使う。"
   ]
  },
  {
   "cell_type": "code",
   "execution_count": null,
   "metadata": {
    "hidden": true
   },
   "outputs": [],
   "source": [
    "df_jp = df_jp.transpose()\n",
    "df_jp"
   ]
  },
  {
   "cell_type": "markdown",
   "metadata": {
    "hidden": true
   },
   "source": [
    "1950年代に欠損値があるが，そのまま議論を進めよう。まず一人当たりGDP成長率`gdp_pc_growth`を棒グラフとして表示してみよう。表示したい列を選択し，引数に`kind='bar'`を選択するだけである。"
   ]
  },
  {
   "cell_type": "code",
   "execution_count": null,
   "metadata": {
    "hidden": true
   },
   "outputs": [],
   "source": [
    "df_jp['gdppc_growth'].plot(kind='bar')\n",
    "pass"
   ]
  },
  {
   "cell_type": "markdown",
   "metadata": {
    "hidden": true
   },
   "source": [
    "1960年代をピークに成長率は下降線をたどっている。\n",
    "\n",
    "次にヒストグラムに異なる変数を並べて表示してみる。この場合も、表示したい変数を先に選び`kind='bar'`を指定するだけである。"
   ]
  },
  {
   "cell_type": "code",
   "execution_count": null,
   "metadata": {
    "hidden": true
   },
   "outputs": [],
   "source": [
    "df_jp.iloc[:,[0,-3,-2]].plot(kind='bar')\n",
    "pass"
   ]
  },
  {
   "cell_type": "markdown",
   "metadata": {
    "hidden": true
   },
   "source": [
    "以下では，全要素生産性と蓄積生産要素の成長率に焦点を当て議論を進めるために`dropna()`を使って1950年代のデータは削除する。"
   ]
  },
  {
   "cell_type": "code",
   "execution_count": null,
   "metadata": {
    "hidden": true
   },
   "outputs": [],
   "source": [
    "df_jp = df_jp.dropna()"
   ]
  },
  {
   "cell_type": "markdown",
   "metadata": {
    "hidden": true
   },
   "source": [
    "上の棒グラフで，引数`stacked=True`を設定すると棒を積み重ねて表示することができる。"
   ]
  },
  {
   "cell_type": "code",
   "execution_count": null,
   "metadata": {
    "hidden": true
   },
   "outputs": [],
   "source": [
    "df_jp.iloc[:,[-3,-2]].plot(kind='bar', stacked=True)\n",
    "pass"
   ]
  },
  {
   "cell_type": "markdown",
   "metadata": {
    "hidden": true
   },
   "source": [
    "次のグラフでは，一人当たりGDPの線グラフと一緒に表示している。"
   ]
  },
  {
   "cell_type": "code",
   "execution_count": null,
   "metadata": {
    "hidden": true
   },
   "outputs": [],
   "source": [
    "ax_ = df_jp.iloc[:,0].plot(marker='o',color='k', legend=True)\n",
    "df_jp.iloc[:,[-3,-2]].plot(kind='bar', stacked=True, legend=True, ax=ax_)\n",
    "pass"
   ]
  },
  {
   "cell_type": "markdown",
   "metadata": {
    "hidden": true
   },
   "source": [
    "1990年代に入ると，それ以前と比べて全要素生産性の成長率の下落が著しく，一人当たりGDPの成長率に大きく影響している。「失われた10年」の原因と主張する研究者もいる。"
   ]
  }
 ],
 "metadata": {
  "celltoolbar": "Tags",
  "kernelspec": {
   "display_name": "Python 3 (ipykernel)",
   "language": "python",
   "name": "python3"
  },
  "language_info": {
   "codemirror_mode": {
    "name": "ipython",
    "version": 3
   },
   "file_extension": ".py",
   "mimetype": "text/x-python",
   "name": "python",
   "nbconvert_exporter": "python",
   "pygments_lexer": "ipython3",
   "version": "3.10.4"
  }
 },
 "nbformat": 4,
 "nbformat_minor": 4
}
