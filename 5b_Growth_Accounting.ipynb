{
 "cells": [
  {
   "cell_type": "markdown",
   "metadata": {},
   "source": [
    "(chap:5b-accounting)=\n",
    "# 成長会計"
   ]
  },
  {
   "cell_type": "markdown",
   "metadata": {},
   "source": [
    "<div name=\"html-admonition\" style=\"font-size: 0.8em\">\n",
    "<input type=\"button\" onclick=\"location.href='https://translate.google.com/translate?hl=&sl=ja&tl=en&u='+window.location;\" value=\"Google translation\" style=\"color:#ffffff;background-color:#008080; height:25px\" onmouseover=\"this.style.background='#99ccff'\" onmouseout=\"this.style.background='#008080'\"/> in English or the language of your choice.\n",
    "</div><br>"
   ]
  },
  {
   "cell_type": "code",
   "execution_count": 1,
   "metadata": {},
   "outputs": [],
   "source": [
    "import japanize_matplotlib\n",
    "import matplotlib.pyplot as plt\n",
    "import numpy as np\n",
    "import pandas as pd\n",
    "import py4macro\n",
    "\n",
    "# numpy v1の表示を使用\n",
    "np.set_printoptions(legacy='1.21')\n",
    "# 警告メッセージを非表示\n",
    "import warnings\n",
    "warnings.filterwarnings(\"ignore\")"
   ]
  },
  {
   "cell_type": "markdown",
   "metadata": {
    "heading_collapsed": true,
    "jp-MarkdownHeadingCollapsed": true
   },
   "source": [
    "## はじめに"
   ]
  },
  {
   "cell_type": "markdown",
   "metadata": {
    "hidden": true
   },
   "source": [
    "この章では次の問を考える。\n",
    "\n",
    "> （問２）なぜ国々の経済成長率は大きく異なるのか？\n",
    "\n",
    "この問を**成長会計**と呼ばれる手法を使って考察する。この手法も発展会計と同様に，一人当たりGDPの**変化率**（即ち、経済成長率）を全要素生産性と蓄積生産要素に分解し、それぞれの寄与度を考察することにより問２の「なぜ」を考える。"
   ]
  },
  {
   "cell_type": "markdown",
   "metadata": {
    "heading_collapsed": true,
    "jp-MarkdownHeadingCollapsed": true
   },
   "source": [
    "## 成長率について"
   ]
  },
  {
   "cell_type": "markdown",
   "metadata": {
    "hidden": true
   },
   "source": [
    "$t$時点の生産関数を\n",
    "\n",
    "$$\n",
    "y_t=A_tk_t^a\\left(h_tH_t\\right)^{1-a}\n",
    "$$\n",
    "\n",
    "としよう。$t$時点と$t+1$時点の生産関数を使うと\n",
    "\n",
    "$$\n",
    "\\frac{y_{t+1}}{y_t}=\\frac{A_{t+1}}{A_t}\n",
    "\\left(\\frac{k_{t+1}}{k_t}\\right)^a\n",
    "\\left(\\frac{h_{t+1}H_{t+1}}{h_tH_t}\\right)^{1-a}\n",
    "$$\n",
    "\n",
    "となる。ここで\n",
    "\n",
    "$$\n",
    "1+g_x\\equiv\\frac{x_{t+1}}{x_t}\n",
    "$$\n",
    "\n",
    "とすると，$g_x$は$x$の成長率（例えば、0.02）である。これにより、\n",
    "\n",
    "$$\n",
    "1+g_y=(1+g_A)(1+g_k)^a\\left[(1+g_h)(1+g_H)\\right]^{1-a}\n",
    "$$\n",
    "\n",
    "となり、対数化すると\n",
    "\n",
    "$$\n",
    "\\log(1+g_y)=\\log(1+g_A)+a\\log(1+g_k)+(1-a)\\left[\\log(1+g_h)+\\log(1+g_H)\\right]\n",
    "$$\n",
    "\n",
    "となる。また成長率が十分に小さい場合（例えば、0.02）、次式で近似することが可能となる。\n",
    "\n",
    "$$\n",
    "\\log(1+g_x)\\approx g_x\n",
    "$$\n",
    "(eq:gx_approx)"
   ]
  },
  {
   "cell_type": "code",
   "execution_count": 2,
   "metadata": {
    "hidden": true
   },
   "outputs": [
    {
     "data": {
      "text/plain": [
       "0.01980262729617973"
      ]
     },
     "execution_count": 2,
     "metadata": {},
     "output_type": "execute_result"
    }
   ],
   "source": [
    "np.log( 1+0.02 )"
   ]
  },
  {
   "cell_type": "markdown",
   "metadata": {
    "hidden": true
   },
   "source": [
    "即ち、\n",
    "\n",
    "$$\n",
    "g_y=g_A+ag_k+(1-a)(g_h+g_H)\n",
    "$$\n",
    "(eq:5-growth-of-y)\n",
    "\n",
    "となる。"
   ]
  },
  {
   "cell_type": "markdown",
   "metadata": {
    "hidden": true
   },
   "source": [
    "この式に基づき，成長会計，即ち，どの要素がどれだけ一人当たりGDPの成長率に貢献しているかを計算することになる。\n",
    "\n",
    "次に変数の平均成長率の計算方法を説明する。ある変数$x$が毎年$g_x$の率（例えば，`0.02`）で$n$年間成長したとしよう。初期の$x=x_0$に対する$n$年後の比率を考えると，次式が成立する。\n",
    "\n",
    "$$\n",
    "\\frac{x_{n}}{x_{0}}=\n",
    "\\frac{x_1}{x_{0}}\\cdot\n",
    "\\frac{x_2}{x_{1}}\\cdot\n",
    "\\frac{x_3}{x_{2}}\\cdot\n",
    "\\cdots\n",
    "\\frac{x_{n-2}}{x_{n-3}}\\cdot\n",
    "\\frac{x_{n-1}}{x_{n-2}}\\cdot\n",
    "\\frac{x_n}{x_{n-1}}\n",
    "=(1+g_x)^{n}\n",
    "$$\n",
    "(eq:5-growth_average-expanded)\n",
    "\n",
    "$g_x$は一定なので$g_x$は年間平均成長率と等しい。このことを踏まえ[](eq:5-growth_average-expanded)の両辺を$1/n$乗すると次式となる。\n",
    "\n",
    "$$\n",
    "\\left(\\frac{x_n}{x_0}\\right)^{\\frac{1}{n}}=1+g_x\n",
    "$$\n",
    "\n",
    "即ち，$1+g_x$は$\\dfrac{x_n}{x_0}$の幾何平均であり，平均成長率$g_x$はこの式を使い計算できる。\n",
    "\n",
    "$$\n",
    "g_x=\n",
    "\\left(\n",
    "\\dfrac{x_{n}}{x_{0}}\n",
    "\\right)^{\\frac{1}{n}}-1\n",
    "$$\n",
    "(eq:5-growth_average)\n",
    "\n",
    "この場合，算術平均ではなく**幾何平均**を使うことに注意しよう。また**毎期毎期の成長率が違っても同じ結果[](eq:5-growth_average)が成立する**ことも覚えておこう。\n",
    "\n",
    "更に，年間平均成長率を計算する場合，[](eq:5-growth_average-expanded)の両辺を対数化し式[](eq:gx_approx)の近似を使うこともできる。\n",
    "\n",
    "$$\n",
    "\\begin{align*}\n",
    "\\ln\\left(\\frac{x_n}{x_0}\\right)\n",
    "&=\\ln\\left(1+g_x\\right)^n \\\\\n",
    "&\\Downarrow\n",
    "\\end{align*}\n",
    "$$\n",
    "\n",
    "$$\n",
    "g_x\\approx\\frac{1}{n}\\ln\\left(\\frac{x_n}{x_0}\\right)\n",
    "$$\n",
    "(eq:5-growth_average-2)\n",
    "\n",
    "$g_x$が十分に小さい場合は，[](eq:5-growth_average)と[](eq:5-growth_average-2)のどちらを使っても大きな差は出ない。重要な点は，どちらかの一つの方法を計算の対象全てに一貫して使うことであり，以下では[式](eq:5-growth-of-y)と[式](eq:5-growth_average-2)を使って計算する。\n",
    "\n",
    "例：$x_0=10$，$x_n=30$，$n=50$"
   ]
  },
  {
   "cell_type": "code",
   "execution_count": 3,
   "metadata": {
    "hidden": true
   },
   "outputs": [
    {
     "name": "stdout",
     "output_type": "stream",
     "text": [
      "方法１：0.022215413278477092\n",
      "方法２：0.02197224577336219\n"
     ]
    }
   ],
   "source": [
    "x0 = 10\n",
    "xn = 30\n",
    "n  = 50\n",
    "\n",
    "houhou1 = ( xn / x0 )**(1/n) - 1\n",
    "houhou2 = ( np.log(xn) - np.log(x0) ) / n\n",
    "\n",
    "print(f'方法１：{houhou1:}\\n方法２：{houhou2}')"
   ]
  },
  {
   "cell_type": "markdown",
   "metadata": {
    "hidden": true
   },
   "source": [
    "```{admonition} コードの説明\n",
    ":class: dropdown\n",
    "\n",
    "* `f`は以前説明した`f-string`である。`houhou1`と`houhou2`にそれぞれの値を代入している。\n",
    "* `\\n`は改行を意味する。\n",
    "```"
   ]
  },
  {
   "cell_type": "markdown",
   "metadata": {},
   "source": [
    "## 平均成長率の計算"
   ]
  },
  {
   "cell_type": "markdown",
   "metadata": {},
   "source": [
    "まずPenn World Tableを読み込み，国のリストを作成しよう"
   ]
  },
  {
   "cell_type": "code",
   "execution_count": 4,
   "metadata": {},
   "outputs": [],
   "source": [
    "df = py4macro.data('pwt')\n",
    "\n",
    "country_lst = df.loc[:,'country'].unique()"
   ]
  },
  {
   "cell_type": "markdown",
   "metadata": {},
   "source": [
    "データに含まれる次の変数を使う。\n",
    "* `rgdpna`：実質GDP\n",
    "    * 経済成長を考える上で適している\n",
    "* `emp`：雇用者数\n",
    "* `rkna`：物的資本サービス\n",
    "* `hc`：人的資本の指標\n",
    "    * 教育年数と教育の収益から計算されている"
   ]
  },
  {
   "cell_type": "markdown",
   "metadata": {},
   "source": [
    "以下で計算する変数とは次のように対応している。\n",
    "* 一人当たりGDP：$y_i\\equiv\\dfrac{Y_i}{L_i}=$ `rgdpna`/`emp`\n",
    "* 一人当たり資本：$k_i\\equiv\\dfrac{K_i}{L_i}=$ `rkna`/`emp`\n",
    "* 労働者一人当たり人的資本サービス：$h_iH_i=$ `avh`x`hc`\n",
    "* 資本の所得シャア：$\\alpha=1/3$（仮定）\n",
    "* 蓄積生産要素：$k_i^{\\alpha}\\left(h_iH_i\\right)^{1-\\alpha}$\n",
    "* 全要素生産性：$A_i=\\dfrac{y_i}{k_i^{\\alpha}\\left(h_iH_i\\right)^{1-\\alpha}}$\n",
    "\n",
    "それぞれの変数を計算しよう。"
   ]
  },
  {
   "cell_type": "code",
   "execution_count": 5,
   "metadata": {},
   "outputs": [],
   "source": [
    "# 資本の所得シャア\n",
    "a=1/3.0\n",
    "\n",
    "# 一人当たりGDP\n",
    "df['y'] = df['rgdpna'] / df['emp']\n",
    "\n",
    "# 資本割合\n",
    "\n",
    "df['k'] = df['rkna'] / df['emp']\n",
    "\n",
    "# 蓄積生産要素\n",
    "df['factors'] = df['k']**a * ( df['avh']*df['hc'] )**(1-a)\n",
    "\n",
    "# 全要素生産性\n",
    "df['tfp'] = df['y'] / df['factors']"
   ]
  },
  {
   "cell_type": "markdown",
   "metadata": {},
   "source": [
    "これらの変数を使い，1999年から2019年の20年間の`y`、`k`、`avh`，`hc`の平均成長率を計算するが，まずそのための準備として関数を作成する。次の`calculate_growth`関数は，`country`（国）の`var`（変数）の平均成長率を返す。"
   ]
  },
  {
   "cell_type": "code",
   "execution_count": 6,
   "metadata": {},
   "outputs": [],
   "source": [
    "def calculate_growth(country, var, start=1999, end=2019, df=df):\n",
    "\n",
    "    \"\"\"\n",
    "    引数：\n",
    "        country: 国名（文字列; 例えば，'Japan'）\n",
    "        var: 変数名（文字列; 例えば，`y`）\n",
    "    戻り値：\n",
    "        `country`における`var`の平均成長率（浮動小数点型）\n",
    "    \"\"\"\n",
    "\n",
    "    t = end - start                          #1\n",
    "\n",
    "    cond1 = ( df.loc[:,'country']==country ) #2\n",
    "    cond2 = ( df.loc[:,'year']==start )      #3\n",
    "    cond3 = ( df.loc[:,'year']==end )        #4\n",
    "\n",
    "    cond_start = ( cond1 & cond2 )           #5\n",
    "    cond_end = ( cond1 & cond3 )             #6\n",
    "\n",
    "    df_start = df.loc[cond_start,:]          #7\n",
    "    df_end = df.loc[cond_end,:]              #8\n",
    "\n",
    "    g = (1/t) * np.log( df_end[var].iloc[0] / df_start[var].iloc[0] ) #9\n",
    "    \n",
    "    return 100 * g   #10"
   ]
  },
  {
   "cell_type": "markdown",
   "metadata": {},
   "source": [
    "```{admonition} コードの説明\n",
    ":class: dropdown\n",
    "\n",
    "* `#1`：何年間かを計算\n",
    "* `#2`：国を選択する際の条件であり`#5`と`#6`で使う\n",
    "* `#3`：最初の年を選択する際の条件であり`#5`で使う\n",
    "* `#5`：最後の年を選択する際の条件であり``#6`で使う\n",
    "* `#6`：最初の年と国を選択する際の条件であり`#7`で`df_start`を作成する際に使う\n",
    "* `#7`：最後の年と国を選択する際の条件であり`#8`で`df_end`を作成する際に使う\n",
    "* `#8`：最初の年の`DataFrame`を抽出\n",
    "* `#9`：最後の年の`DataFrame`を抽出\n",
    "* `#10`：平均成長率を計算する。\n",
    "    * `df_end[var]`と`df_start[var]`は列ラベル`var`の列を抽出しており、`Series`として返される。\n",
    "    * `.iloc[0]`は`Series`の`0`番目の数値を取り出すメソッド\n",
    "    * 成長率を計算し`g`に割り当てる。\n",
    "* `#11`：％表示にして返す\n",
    "```"
   ]
  },
  {
   "cell_type": "markdown",
   "metadata": {},
   "source": [
    "例として，日本の一人当たりGDPの平均成長率を計算してみよう。"
   ]
  },
  {
   "cell_type": "code",
   "execution_count": 7,
   "metadata": {},
   "outputs": [
    {
     "data": {
      "text/plain": [
       "0.6242925604611884"
      ]
     },
     "execution_count": 7,
     "metadata": {},
     "output_type": "execute_result"
    }
   ],
   "source": [
    "calculate_growth('Japan','y')"
   ]
  },
  {
   "cell_type": "markdown",
   "metadata": {},
   "source": [
    "次に，`calculate_growth`関数を使いいっきに全ての国の４つの変数の平均成長率を計算する。`for`ループが二重（入れ子）になっている。"
   ]
  },
  {
   "cell_type": "code",
   "execution_count": 8,
   "metadata": {},
   "outputs": [],
   "source": [
    "var_lst = ['y','k','avh','hc']   #1\n",
    "\n",
    "growth_dic = {}             #2\n",
    "\n",
    "for v in var_lst:           #3\n",
    "    \n",
    "    growth_lst = []         #4\n",
    "    \n",
    "    for c in country_lst:   #5\n",
    "        \n",
    "        g = calculate_growth(c, v)  #6\n",
    "        \n",
    "        growth_lst.append(g)        #7\n",
    "            \n",
    "    growth_dic[v] = growth_lst      #8\n",
    "\n",
    "df_growth = pd.DataFrame({'country':country_lst,         #9\n",
    "                          'y':growth_dic['y'],   #10\n",
    "                          'k':growth_dic['k'],\n",
    "                          'avh':growth_dic['avh'],\n",
    "                          'hc':growth_dic['hc']})"
   ]
  },
  {
   "cell_type": "markdown",
   "metadata": {},
   "source": [
    "```{admonition} コードの説明\n",
    ":class: dropdown\n",
    "\n",
    "* `#1`：成長率を計算する対象となる変数リスト\n",
    "* `#2`：空の辞書。次の形になるように(1)の平均成長率のリストを格納する。\n",
    "    * キー：変数名（`y`、`k`、`hc`）\n",
    "    * 値：それぞれの国の成長率からなるリスト\n",
    "* `#3`：`var_lst`に対しての`for`ループ。１回目のループでは`y`について計算する。\n",
    "* `#4`：空リスト（役割は以下で説明）\n",
    "* `#5`：`country_lst`に対しての`for`ループ。(3)の１回目の`for`ループで変数`y`に対して`country_lst`にある国の成長率を下に続くコードを使って計算する。\n",
    "* `#6`：`calculate_growth`関数を使い，国`c`の変数`v`の平均成長率を計算し`g`に割り当てる。\n",
    "* `#7`：計算した成長率を(4)のリストに追加する。\n",
    "* `#8`：ループが終わると、(4)のリストを(2)の辞書に追加する。\n",
    "    * 辞書に追加する際に変数名`v`を指定することにより、次のペアのデータが追加される\n",
    "        * キー：変数名（`y`、`k`、`hc`）\n",
    "        * 値：それぞれの国の成長率のリスト\n",
    "    * `#3`の`for`ループの次の変数に移り、3.以下で説明した作業が繰り返される。\n",
    "* `#9`：`country_lst`を`DataFrame`の列に設定\n",
    "* `#10`：`y`の成長率を`DataFrame`の列に設定するが，その際，`growth_dic['キー']`で`growth_dic`の`キー`にあるリストを抽出している。\n",
    "    * 下の３行は`k`，`avh`，`hc`に対して同じ作業を行なっている。\n",
    "    * 新たに作成される`DataFrame`は変数`df_growth`に割り当てられる。\n",
    "```"
   ]
  },
  {
   "cell_type": "markdown",
   "metadata": {},
   "source": [
    "`df_growth`の最初の５行を表示してみよう。"
   ]
  },
  {
   "cell_type": "code",
   "execution_count": 9,
   "metadata": {},
   "outputs": [
    {
     "data": {
      "text/html": [
       "<div>\n",
       "<style scoped>\n",
       "    .dataframe tbody tr th:only-of-type {\n",
       "        vertical-align: middle;\n",
       "    }\n",
       "\n",
       "    .dataframe tbody tr th {\n",
       "        vertical-align: top;\n",
       "    }\n",
       "\n",
       "    .dataframe thead th {\n",
       "        text-align: right;\n",
       "    }\n",
       "</style>\n",
       "<table border=\"1\" class=\"dataframe\">\n",
       "  <thead>\n",
       "    <tr style=\"text-align: right;\">\n",
       "      <th></th>\n",
       "      <th>country</th>\n",
       "      <th>y</th>\n",
       "      <th>k</th>\n",
       "      <th>avh</th>\n",
       "      <th>hc</th>\n",
       "    </tr>\n",
       "  </thead>\n",
       "  <tbody>\n",
       "    <tr>\n",
       "      <th>0</th>\n",
       "      <td>Aruba</td>\n",
       "      <td>-0.138284</td>\n",
       "      <td>3.101398</td>\n",
       "      <td>NaN</td>\n",
       "      <td>NaN</td>\n",
       "    </tr>\n",
       "    <tr>\n",
       "      <th>1</th>\n",
       "      <td>Angola</td>\n",
       "      <td>1.929675</td>\n",
       "      <td>-0.188248</td>\n",
       "      <td>NaN</td>\n",
       "      <td>0.732205</td>\n",
       "    </tr>\n",
       "    <tr>\n",
       "      <th>2</th>\n",
       "      <td>Anguilla</td>\n",
       "      <td>NaN</td>\n",
       "      <td>NaN</td>\n",
       "      <td>NaN</td>\n",
       "      <td>NaN</td>\n",
       "    </tr>\n",
       "    <tr>\n",
       "      <th>3</th>\n",
       "      <td>Albania</td>\n",
       "      <td>3.525447</td>\n",
       "      <td>NaN</td>\n",
       "      <td>NaN</td>\n",
       "      <td>0.386450</td>\n",
       "    </tr>\n",
       "    <tr>\n",
       "      <th>4</th>\n",
       "      <td>United Arab Emirates</td>\n",
       "      <td>-2.090208</td>\n",
       "      <td>NaN</td>\n",
       "      <td>NaN</td>\n",
       "      <td>0.335412</td>\n",
       "    </tr>\n",
       "  </tbody>\n",
       "</table>\n",
       "</div>"
      ],
      "text/plain": [
       "                country         y         k  avh        hc\n",
       "0                 Aruba -0.138284  3.101398  NaN       NaN\n",
       "1                Angola  1.929675 -0.188248  NaN  0.732205\n",
       "2              Anguilla       NaN       NaN  NaN       NaN\n",
       "3               Albania  3.525447       NaN  NaN  0.386450\n",
       "4  United Arab Emirates -2.090208       NaN  NaN  0.335412"
      ]
     },
     "execution_count": 9,
     "metadata": {},
     "output_type": "execute_result"
    }
   ],
   "source": [
    "df_growth.head()"
   ]
  },
  {
   "cell_type": "markdown",
   "metadata": {},
   "source": [
    "````{note}\n",
    "`DataFrame`にはグループ計算用のメソッド`groupby`が備わっており，それを使うとより短いコードで`df_growth`を作成することができる。\n",
    "```\n",
    "def calc_growth(x):\n",
    "    return (1/(len(x)-1))*np.log( x.iloc[-1] / x.iloc[0] )\n",
    "\n",
    "cond1 = ( 1999 <= df['year'] )\n",
    "cond2 = ( 2019 >= df['year'] )\n",
    "cond = cond1 & cond2\n",
    "df_growth = 100 * df.loc[cond,:].groupby('country')[['y','k','avh','hc']].agg(calc_growth)\n",
    "```\n",
    "[ここを参考にしよう。](https://py4basics.github.io/3_Pandas.html#id35)\n",
    "````"
   ]
  },
  {
   "cell_type": "markdown",
   "metadata": {},
   "source": [
    "`y`の成長率のヒストグラムをプロットするが，ここでは`DataFrame`のメソッド`plot()`を使う。まず使用する列を選んでメソッド`plot()`の引数に`kind='hist'`を指定するだけである。他の引数：\n",
    "* `bins=20`：階級（棒）の数を指定する引数（デフォルトは`10`）\n",
    "* `edgecolor='white'`もしくは`ec='white'`：は棒の枠の色をしてする。ここでは白を使っている。"
   ]
  },
  {
   "cell_type": "code",
   "execution_count": 10,
   "metadata": {},
   "outputs": [
    {
     "data": {
      "image/png": "[encoded data removed]",
      "text/plain": [
       "<Figure size 640x480 with 1 Axes>"
      ]
     },
     "metadata": {},
     "output_type": "display_data"
    }
   ],
   "source": [
    "df_growth.plot.hist(y='y', bins=15, edgecolor='white')\n",
    "pass"
   ]
  },
  {
   "cell_type": "markdown",
   "metadata": {},
   "source": [
    "多くの国はプラスの経済成長を遂げているが，マイナイス成長の経済も存在する。平均成長率がマイナスの国数を計算してみよう。"
   ]
  },
  {
   "cell_type": "code",
   "execution_count": 11,
   "metadata": {},
   "outputs": [
    {
     "data": {
      "text/plain": [
       "29"
      ]
     },
     "execution_count": 11,
     "metadata": {},
     "output_type": "execute_result"
    }
   ],
   "source": [
    "cond = ( df_growth.loc[:,'y']<0 )\n",
    "len(df_growth.loc[cond,:])"
   ]
  },
  {
   "cell_type": "markdown",
   "metadata": {},
   "source": [
    "最も平均成長率が低い経済の国名を探してみよう。"
   ]
  },
  {
   "cell_type": "code",
   "execution_count": 12,
   "metadata": {},
   "outputs": [
    {
     "data": {
      "text/html": [
       "<div>\n",
       "<style scoped>\n",
       "    .dataframe tbody tr th:only-of-type {\n",
       "        vertical-align: middle;\n",
       "    }\n",
       "\n",
       "    .dataframe tbody tr th {\n",
       "        vertical-align: top;\n",
       "    }\n",
       "\n",
       "    .dataframe thead th {\n",
       "        text-align: right;\n",
       "    }\n",
       "</style>\n",
       "<table border=\"1\" class=\"dataframe\">\n",
       "  <thead>\n",
       "    <tr style=\"text-align: right;\">\n",
       "      <th></th>\n",
       "      <th>country</th>\n",
       "      <th>y</th>\n",
       "      <th>k</th>\n",
       "      <th>avh</th>\n",
       "      <th>hc</th>\n",
       "    </tr>\n",
       "  </thead>\n",
       "  <tbody>\n",
       "    <tr>\n",
       "      <th>176</th>\n",
       "      <td>Venezuela (Bolivarian Republic of)</td>\n",
       "      <td>-4.749982</td>\n",
       "      <td>-0.583572</td>\n",
       "      <td>NaN</td>\n",
       "      <td>1.560305</td>\n",
       "    </tr>\n",
       "    <tr>\n",
       "      <th>179</th>\n",
       "      <td>Yemen</td>\n",
       "      <td>-4.072836</td>\n",
       "      <td>NaN</td>\n",
       "      <td>NaN</td>\n",
       "      <td>2.328553</td>\n",
       "    </tr>\n",
       "    <tr>\n",
       "      <th>130</th>\n",
       "      <td>Oman</td>\n",
       "      <td>-3.330238</td>\n",
       "      <td>-0.217700</td>\n",
       "      <td>NaN</td>\n",
       "      <td>NaN</td>\n",
       "    </tr>\n",
       "    <tr>\n",
       "      <th>4</th>\n",
       "      <td>United Arab Emirates</td>\n",
       "      <td>-2.090208</td>\n",
       "      <td>NaN</td>\n",
       "      <td>NaN</td>\n",
       "      <td>0.335412</td>\n",
       "    </tr>\n",
       "    <tr>\n",
       "      <th>158</th>\n",
       "      <td>Syrian Arab Republic</td>\n",
       "      <td>-1.849972</td>\n",
       "      <td>NaN</td>\n",
       "      <td>NaN</td>\n",
       "      <td>1.051994</td>\n",
       "    </tr>\n",
       "  </tbody>\n",
       "</table>\n",
       "</div>"
      ],
      "text/plain": [
       "                                country         y         k  avh        hc\n",
       "176  Venezuela (Bolivarian Republic of) -4.749982 -0.583572  NaN  1.560305\n",
       "179                               Yemen -4.072836       NaN  NaN  2.328553\n",
       "130                                Oman -3.330238 -0.217700  NaN       NaN\n",
       "4                  United Arab Emirates -2.090208       NaN  NaN  0.335412\n",
       "158                Syrian Arab Republic -1.849972       NaN  NaN  1.051994"
      ]
     },
     "execution_count": 12,
     "metadata": {},
     "output_type": "execute_result"
    }
   ],
   "source": [
    "df_growth_sorted = df_growth.sort_values('y')\n",
    "df_growth_sorted.head()"
   ]
  },
  {
   "cell_type": "markdown",
   "metadata": {},
   "source": [
    "ここで使ったメソッド`sort_values()`は，引数の列を基準に昇順に並べ替える。引数に`ascending=False`を使うと，降順に並び替えることができる。"
   ]
  },
  {
   "cell_type": "code",
   "execution_count": 13,
   "metadata": {
    "tags": [
     "hide-input"
    ]
   },
   "outputs": [
    {
     "name": "stdout",
     "output_type": "stream",
     "text": [
      "上のヒストグラムで最も成長率が低い国はVenezuela (Bolivarian Republic of)である。\n"
     ]
    }
   ],
   "source": [
    "print( '上のヒストグラムで最も成長率が低い国は'\n",
    "      f'{df_growth_sorted.iloc[0,0]}である。')"
   ]
  },
  {
   "cell_type": "markdown",
   "metadata": {},
   "source": [
    "`df_growth_sorted`から分かるように，他の変数には欠損値が含まれているので`NaN`がある行は全て削除する。"
   ]
  },
  {
   "cell_type": "code",
   "execution_count": 14,
   "metadata": {},
   "outputs": [],
   "source": [
    "df_growth = df_growth.dropna().copy()"
   ]
  },
  {
   "cell_type": "markdown",
   "metadata": {},
   "source": [
    "残った国数を確認してみよう。"
   ]
  },
  {
   "cell_type": "code",
   "execution_count": 15,
   "metadata": {},
   "outputs": [
    {
     "data": {
      "text/plain": [
       "60"
      ]
     },
     "execution_count": 15,
     "metadata": {},
     "output_type": "execute_result"
    }
   ],
   "source": [
    "len(df_growth)"
   ]
  },
  {
   "cell_type": "markdown",
   "metadata": {
    "jp-MarkdownHeadingCollapsed": true
   },
   "source": [
    "## 蓄積生産要素の成長率"
   ]
  },
  {
   "cell_type": "markdown",
   "metadata": {},
   "source": [
    "次に，下の式を使って蓄積生産要素の成長率を計算しよう。\n",
    "\n",
    "$$\n",
    "g_{\\text{factors}}=ag_k+(1-a)(g_h+g_H)\n",
    "$$\n",
    "\n",
    "結果を`df_growth`に追加するが，その際、$a=\\dfrac{1}{3}$と仮定する。"
   ]
  },
  {
   "cell_type": "code",
   "execution_count": 16,
   "metadata": {},
   "outputs": [],
   "source": [
    "df_growth['factors'] = (\n",
    "    (1/3) * df_growth['k'] +\n",
    "    (1-1/3) * ( df_growth['avh'] + df_growth['hc'] )\n",
    ")"
   ]
  },
  {
   "cell_type": "markdown",
   "metadata": {},
   "source": [
    "`factors`の成長率のヒストグラムを図示する。"
   ]
  },
  {
   "cell_type": "code",
   "execution_count": 17,
   "metadata": {},
   "outputs": [
    {
     "data": {
      "image/png": "[encoded data removed]",
      "text/plain": [
       "<Figure size 640x480 with 1 Axes>"
      ]
     },
     "metadata": {},
     "output_type": "display_data"
    }
   ],
   "source": [
    "df_growth.plot.hist(y='factors', bins=15, ec='white')\n",
    "pass"
   ]
  },
  {
   "cell_type": "markdown",
   "metadata": {},
   "source": [
    "マイナスの成長率の国数を調べてみよう。"
   ]
  },
  {
   "cell_type": "code",
   "execution_count": 18,
   "metadata": {},
   "outputs": [
    {
     "data": {
      "text/plain": [
       "0"
      ]
     },
     "execution_count": 18,
     "metadata": {},
     "output_type": "execute_result"
    }
   ],
   "source": [
    "cond = ( df_growth.loc[:,'factors']<0 )\n",
    "len(df_growth.loc[cond,:])"
   ]
  },
  {
   "cell_type": "markdown",
   "metadata": {
    "jp-MarkdownHeadingCollapsed": true
   },
   "source": [
    "## 全要素生産性の成長率"
   ]
  },
  {
   "cell_type": "markdown",
   "metadata": {},
   "source": [
    "全要素生産性は残差として計算される。\n",
    "\n",
    "$$\n",
    "g_A=g_y-g_{\\text{factors}}\n",
    "$$"
   ]
  },
  {
   "cell_type": "code",
   "execution_count": 19,
   "metadata": {},
   "outputs": [],
   "source": [
    "df_growth['tfp'] = df_growth['y'] - df_growth['factors']"
   ]
  },
  {
   "cell_type": "markdown",
   "metadata": {},
   "source": [
    "`tfp`の成長率のヒストグラムを図示してみよう。"
   ]
  },
  {
   "cell_type": "code",
   "execution_count": 20,
   "metadata": {},
   "outputs": [
    {
     "data": {
      "image/png": "[encoded data removed]",
      "text/plain": [
       "<Figure size 640x480 with 1 Axes>"
      ]
     },
     "metadata": {},
     "output_type": "display_data"
    }
   ],
   "source": [
    "df_growth.plot.hist(y='tfp', bins=15, ec='white')\n",
    "pass"
   ]
  },
  {
   "cell_type": "markdown",
   "metadata": {},
   "source": [
    "蓄積生産要素と比べると全要素生産性の成長率はよりマイナスに広がっている。TFP成長率がマイナスの国の数を確認してみよう。"
   ]
  },
  {
   "cell_type": "code",
   "execution_count": 21,
   "metadata": {},
   "outputs": [
    {
     "data": {
      "text/plain": [
       "13"
      ]
     },
     "execution_count": 21,
     "metadata": {},
     "output_type": "execute_result"
    }
   ],
   "source": [
    "cond = ( df_growth.loc[:,'tfp']<0 )\n",
    "len(df_growth.loc[cond,:])"
   ]
  },
  {
   "cell_type": "markdown",
   "metadata": {
    "heading_collapsed": true
   },
   "source": [
    "## 各国の全要素生産性の寄与度"
   ]
  },
  {
   "cell_type": "markdown",
   "metadata": {
    "hidden": true
   },
   "source": [
    "全要素生産性と蓄積生産要素のどちらが成長率に貢献しているのだろうか。まず図を使って比較してみよう。"
   ]
  },
  {
   "cell_type": "code",
   "execution_count": 22,
   "metadata": {
    "hidden": true
   },
   "outputs": [
    {
     "data": {
      "image/png": "[encoded data removed]",
      "text/plain": [
       "<Figure size 640x480 with 1 Axes>"
      ]
     },
     "metadata": {},
     "output_type": "display_data"
    }
   ],
   "source": [
    "df_growth.plot.hist(y=['tfp','factors'], bins=20, alpha=0.5, ec='white')\n",
    "pass"
   ]
  },
  {
   "cell_type": "markdown",
   "metadata": {
    "hidden": true
   },
   "source": [
    "```{admonition} コードの説明\n",
    ":class: dropdown\n",
    "* ２つの列を選択することにより，同じ図に２つのヒストグラムが表示できるようになる。\n",
    "* 引数`alpha`は図の透過度を指定する。0から1の間の値が指定可能で，デフォルトは1（透過なし）。\n",
    "```"
   ]
  },
  {
   "cell_type": "markdown",
   "metadata": {
    "hidden": true
   },
   "source": [
    "図から次のことがわかる。蓄積生産要素の成長率は正の値になる傾向がある。即ち，殆どの経済で蓄積生産要素による経済成長が起こっているということである。一方，全要素生産性の成長率はマイナスへの広がりがあり，成長を妨げる要因になっているようである。\n",
    "\n",
    "次に，一人当たりGDPの成長率に対する全要素生産性の貢献度を数量化するが，まず，全要素生産性の成長率が一人当たりGDPの成長率の半分以上を占める国はデータセット全体の何％を占めるかを計算してみよう。"
   ]
  },
  {
   "cell_type": "code",
   "execution_count": 23,
   "metadata": {
    "hidden": true
   },
   "outputs": [
    {
     "name": "stdout",
     "output_type": "stream",
     "text": [
      "全要素生産性の成長率が一人当たりGDPの成長率の半分以上を占める国の割合：45.0%\n"
     ]
    }
   ],
   "source": [
    "# tfpの成長率とyの成長率の比率\n",
    "df_growth['tfp_y_ratio'] = 100 * df_growth['tfp'] / df_growth['y']\n",
    "\n",
    "cond = ( df_growth.loc[:,'tfp_y_ratio']>=50 )\n",
    "v = len(df_growth.loc[cond,:]) / len(df_growth)\n",
    "print(f'全要素生産性の成長率が一人当たりGDPの成長率の半分以上を占める国の割合：{v:.1%}')"
   ]
  },
  {
   "cell_type": "markdown",
   "metadata": {
    "hidden": true
   },
   "source": [
    "```{admonition} コードの説明\n",
    ":class: dropdown\n",
    "`f-string`を使って`{v:.1%}`の`v`の値を表示しているが，`:.1%`の部分は値を％表示にし小数点第一位まで表示することを指定している。\n",
    "```"
   ]
  },
  {
   "cell_type": "markdown",
   "metadata": {
    "hidden": true
   },
   "source": [
    "全要素生産性の重要性を示す結果と言って良いだろう。"
   ]
  },
  {
   "cell_type": "markdown",
   "metadata": {
    "heading_collapsed": true,
    "hidden": true
   },
   "source": [
    "## 一人当たりGDPの成長率に対する寄与度"
   ]
  },
  {
   "cell_type": "markdown",
   "metadata": {
    "hidden": true
   },
   "source": [
    "[発展会計](chap:5a-accounting)で分散分解を使い，一人当たりGDPの成長率に対する全要素生産性と蓄積生産要素の寄与度を考える。\n",
    "経済の成長率は次式で与えられる。\n",
    "\n",
    "$$\n",
    "g_{y} = g_{A} + g_{\\text{factors}}\n",
    "$$\n",
    "(eq:gy-gA-ffactors)"
   ]
  },
  {
   "cell_type": "markdown",
   "metadata": {
    "hidden": true
   },
   "source": [
    "左辺の$g_{y}$の分散を次のように書き換えよう。\n",
    "\n",
    "$$\n",
    "\\begin{aligned}\n",
    "\\text{Var}\\left(g_{y}\\right)\n",
    "&=\\text{Cov}\\left(g_{y},g_{y}\\right)\\\\\n",
    "&=\\text{Cov}\\left(g_{y},g_{A} + g_{\\text{factors}}\\right)\\\\\n",
    "&=\\text{Cov}\\left(g_{y},g_{A}\\right)+\\text{Cov}\\left(g_{y},g_{\\text{factors}}\\right)\n",
    "\\end{aligned}\n",
    "$$\n",
    "(eq:Var_gyi)\n",
    "\n",
    "一人当たりGDPの成長率の分散は全要素生産性と蓄積生産要素との共分散に分解できることを示している。\n",
    "更に，両辺を$\\text{Var}\\left(g_{y}\\right)$で割ると"
   ]
  },
  {
   "cell_type": "markdown",
   "metadata": {
    "hidden": true
   },
   "source": [
    "$$\n",
    "1=\\text{全要素生産性の寄与度}+\\text{蓄積生産要素の寄与度}\n",
    "$$\n",
    "\n",
    "となる。ここで、各寄与度は次のように定義される。\n",
    "\n",
    "$$\n",
    "\\begin{align*}\n",
    "\\text{全要素生産性の寄与度}&=\n",
    "\\dfrac{\n",
    "    \\text{Cov}\\left(g_{y},g_{A}\\right)\n",
    "    }{\n",
    "    \\text{Var}\\left(g_{y}\\right)\n",
    "    } \\\\\n",
    "\\text{蓄積生産要素の寄与度}&=\n",
    "\\dfrac{\n",
    "    \\text{Cov}\\left(g_{y},g_{\\text{factors}}\\right)\n",
    "    }{\n",
    "    \\text{Var}\\left(g_{y}\\right)\n",
    "    }    \n",
    "\\end{align*}\n",
    "$$"
   ]
  },
  {
   "cell_type": "markdown",
   "metadata": {
    "hidden": true
   },
   "source": [
    "分母と分子にある分散と共分散を計算しよう。"
   ]
  },
  {
   "cell_type": "code",
   "execution_count": 24,
   "metadata": {},
   "outputs": [
    {
     "data": {
      "text/html": [
       "<div>\n",
       "<style scoped>\n",
       "    .dataframe tbody tr th:only-of-type {\n",
       "        vertical-align: middle;\n",
       "    }\n",
       "\n",
       "    .dataframe tbody tr th {\n",
       "        vertical-align: top;\n",
       "    }\n",
       "\n",
       "    .dataframe thead th {\n",
       "        text-align: right;\n",
       "    }\n",
       "</style>\n",
       "<table border=\"1\" class=\"dataframe\">\n",
       "  <thead>\n",
       "    <tr style=\"text-align: right;\">\n",
       "      <th></th>\n",
       "      <th>y</th>\n",
       "      <th>tfp</th>\n",
       "      <th>factors</th>\n",
       "    </tr>\n",
       "  </thead>\n",
       "  <tbody>\n",
       "    <tr>\n",
       "      <th>y</th>\n",
       "      <td>1.978414</td>\n",
       "      <td>1.145627</td>\n",
       "      <td>0.832787</td>\n",
       "    </tr>\n",
       "    <tr>\n",
       "      <th>tfp</th>\n",
       "      <td>1.145627</td>\n",
       "      <td>0.846498</td>\n",
       "      <td>0.299129</td>\n",
       "    </tr>\n",
       "    <tr>\n",
       "      <th>factors</th>\n",
       "      <td>0.832787</td>\n",
       "      <td>0.299129</td>\n",
       "      <td>0.533658</td>\n",
       "    </tr>\n",
       "  </tbody>\n",
       "</table>\n",
       "</div>"
      ],
      "text/plain": [
       "                y       tfp   factors\n",
       "y        1.978414  1.145627  0.832787\n",
       "tfp      1.145627  0.846498  0.299129\n",
       "factors  0.832787  0.299129  0.533658"
      ]
     },
     "execution_count": 24,
     "metadata": {},
     "output_type": "execute_result"
    }
   ],
   "source": [
    "cols = ['y', 'tfp', 'factors']\n",
    "vcov = df_growth[cols].cov()\n",
    "vcov"
   ]
  },
  {
   "cell_type": "markdown",
   "metadata": {},
   "source": [
    "対角線にある値は各変数の分散となり，その他が各変数間の共分散となる。"
   ]
  },
  {
   "cell_type": "code",
   "execution_count": 25,
   "metadata": {
    "hidden": true
   },
   "outputs": [],
   "source": [
    "# yの分散\n",
    "y_growth_var = vcov.iloc[0,0]\n",
    "\n",
    "# 共分散\n",
    "y_tfp_growth_cov = vcov.iloc[0,1]\n",
    "y_factors_growth_cov = vcov.iloc[0,2]"
   ]
  },
  {
   "cell_type": "markdown",
   "metadata": {
    "hidden": true
   },
   "source": [
    "**全要素生産性の寄与度**"
   ]
  },
  {
   "cell_type": "code",
   "execution_count": 26,
   "metadata": {
    "hidden": true
   },
   "outputs": [
    {
     "data": {
      "text/plain": [
       "0.5790633151326813"
      ]
     },
     "execution_count": 26,
     "metadata": {},
     "output_type": "execute_result"
    }
   ],
   "source": [
    "y_tfp_growth_cov / y_growth_var"
   ]
  },
  {
   "cell_type": "markdown",
   "metadata": {
    "hidden": true
   },
   "source": [
    "**蓄積生産要素の寄与度**"
   ]
  },
  {
   "cell_type": "code",
   "execution_count": 27,
   "metadata": {
    "hidden": true
   },
   "outputs": [
    {
     "data": {
      "text/plain": [
       "0.4209366848673188"
      ]
     },
     "execution_count": 27,
     "metadata": {},
     "output_type": "execute_result"
    }
   ],
   "source": [
    "y_factors_growth_cov / y_growth_var"
   ]
  },
  {
   "cell_type": "markdown",
   "metadata": {
    "hidden": true
   },
   "source": [
    "蓄積生産要素と全要素生産性の寄与度は概ね6対4の割合でであることが確認できる。\n",
    "即ち，一人当たりGDPの成長率の半分以上は全要素生産性に起因することを意味する。\n",
    "この結果は両変数の成長率のヒストグラムからも伺える。\n",
    "全要素生産性の方がより幅広く変化しているようである。\n",
    "いずれにしろ，蓄積生産要素と全要素生産性ともに一人当たりGDPの成長に大きく貢献していることが確認できる。"
   ]
  },
  {
   "cell_type": "markdown",
   "metadata": {
    "heading_collapsed": true
   },
   "source": [
    "## 表の作成"
   ]
  },
  {
   "cell_type": "markdown",
   "metadata": {
    "hidden": true
   },
   "source": [
    "数カ国だけ取り出して表としてまとめてみよう。"
   ]
  },
  {
   "cell_type": "code",
   "execution_count": 28,
   "metadata": {
    "hidden": true
   },
   "outputs": [
    {
     "data": {
      "text/html": [
       "<div>\n",
       "<style scoped>\n",
       "    .dataframe tbody tr th:only-of-type {\n",
       "        vertical-align: middle;\n",
       "    }\n",
       "\n",
       "    .dataframe tbody tr th {\n",
       "        vertical-align: top;\n",
       "    }\n",
       "\n",
       "    .dataframe thead th {\n",
       "        text-align: right;\n",
       "    }\n",
       "</style>\n",
       "<table border=\"1\" class=\"dataframe\">\n",
       "  <thead>\n",
       "    <tr style=\"text-align: right;\">\n",
       "      <th></th>\n",
       "      <th>一人当たりGDPの成長率(％)</th>\n",
       "      <th>蓄積生産要素の成長率(％)</th>\n",
       "      <th>TFPの成長率(％)</th>\n",
       "      <th>TFPの寄与度(％)</th>\n",
       "    </tr>\n",
       "    <tr>\n",
       "      <th>country</th>\n",
       "      <th></th>\n",
       "      <th></th>\n",
       "      <th></th>\n",
       "      <th></th>\n",
       "    </tr>\n",
       "  </thead>\n",
       "  <tbody>\n",
       "    <tr>\n",
       "      <th>China</th>\n",
       "      <td>6.07</td>\n",
       "      <td>4.24</td>\n",
       "      <td>1.83</td>\n",
       "      <td>30.08</td>\n",
       "    </tr>\n",
       "    <tr>\n",
       "      <th>India</th>\n",
       "      <td>5.17</td>\n",
       "      <td>3.05</td>\n",
       "      <td>2.12</td>\n",
       "      <td>40.96</td>\n",
       "    </tr>\n",
       "    <tr>\n",
       "      <th>Peru</th>\n",
       "      <td>2.42</td>\n",
       "      <td>1.45</td>\n",
       "      <td>0.97</td>\n",
       "      <td>40.16</td>\n",
       "    </tr>\n",
       "    <tr>\n",
       "      <th>Singapore</th>\n",
       "      <td>1.72</td>\n",
       "      <td>2.06</td>\n",
       "      <td>-0.34</td>\n",
       "      <td>-19.85</td>\n",
       "    </tr>\n",
       "    <tr>\n",
       "      <th>United States</th>\n",
       "      <td>1.34</td>\n",
       "      <td>0.64</td>\n",
       "      <td>0.70</td>\n",
       "      <td>52.08</td>\n",
       "    </tr>\n",
       "    <tr>\n",
       "      <th>United Kingdom</th>\n",
       "      <td>0.77</td>\n",
       "      <td>0.61</td>\n",
       "      <td>0.16</td>\n",
       "      <td>21.29</td>\n",
       "    </tr>\n",
       "    <tr>\n",
       "      <th>Japan</th>\n",
       "      <td>0.62</td>\n",
       "      <td>0.27</td>\n",
       "      <td>0.36</td>\n",
       "      <td>57.12</td>\n",
       "    </tr>\n",
       "    <tr>\n",
       "      <th>Norway</th>\n",
       "      <td>0.61</td>\n",
       "      <td>0.72</td>\n",
       "      <td>-0.12</td>\n",
       "      <td>-19.56</td>\n",
       "    </tr>\n",
       "  </tbody>\n",
       "</table>\n",
       "</div>"
      ],
      "text/plain": [
       "                一人当たりGDPの成長率(％)  蓄積生産要素の成長率(％)  TFPの成長率(％)  TFPの寄与度(％)\n",
       "country                                                               \n",
       "China                      6.07           4.24        1.83       30.08\n",
       "India                      5.17           3.05        2.12       40.96\n",
       "Peru                       2.42           1.45        0.97       40.16\n",
       "Singapore                  1.72           2.06       -0.34      -19.85\n",
       "United States              1.34           0.64        0.70       52.08\n",
       "United Kingdom             0.77           0.61        0.16       21.29\n",
       "Japan                      0.62           0.27        0.36       57.12\n",
       "Norway                     0.61           0.72       -0.12      -19.56"
      ]
     },
     "execution_count": 28,
     "metadata": {},
     "output_type": "execute_result"
    }
   ],
   "source": [
    "country_table = ['Japan', 'United Kingdom','United States', 'Norway',\n",
    "                'Singapore','Peru','India','China']\n",
    "\n",
    "cond = df_growth['country'].isin(country_table)\n",
    "\n",
    "col = ['country','y','factors','tfp','tfp_y_ratio']\n",
    "\n",
    "df_growth.loc[cond,col].set_index('country') \\\n",
    "         .sort_values('y', ascending=False) \\\n",
    "         .round(2) \\\n",
    "         .rename(columns={'y':'一人当たりGDPの成長率(％)',\n",
    "                          'factors':'蓄積生産要素の成長率(％)',\n",
    "                          'tfp':'TFPの成長率(％)',\n",
    "                          'tfp_y_ratio':'TFPの寄与度(％)'})"
   ]
  },
  {
   "cell_type": "markdown",
   "metadata": {
    "hidden": true
   },
   "source": [
    "右端の全要素生産性（TFP）の寄与度は，上で計算した`tfp_y_ratio`を使っており，一人当たりGDPの成長率のうち何％がTFPによるものかを示している。\n",
    "この表から次の事が分かる。\n",
    "* 全要素生産性の成長率が負の経済もあるため，TFPの寄与度が負になっている場合もある。その場合，蓄積生産要素の寄与度`100`％以上になる。\n",
    "* 日本の全要素生産性の寄与度は非常に大きい。\n",
    "\n",
    "このデータは1999~2019年のデータであり，それ以前ではどうだったのかを含めて，次節では年代を区切って日本の経済成長を考察してみることにする。"
   ]
  },
  {
   "cell_type": "markdown",
   "metadata": {
    "heading_collapsed": true
   },
   "source": [
    "## 日本"
   ]
  },
  {
   "cell_type": "markdown",
   "metadata": {
    "hidden": true
   },
   "source": [
    "日本の年代別に成長率を考えてみよう。まず次の関数を作成する。"
   ]
  },
  {
   "cell_type": "code",
   "execution_count": 29,
   "metadata": {
    "hidden": true
   },
   "outputs": [],
   "source": [
    "def jp_growth_decomposition(start, end):\n",
    "    \"\"\"引数：\n",
    "        start（int）: 開始年\n",
    "        end（int）: 最終年\n",
    "        \n",
    "       返り値：次の変数の成長率とTFPの寄与度からなるリスト\n",
    "                一人当たりGDP\n",
    "                一人当たり物的資本\n",
    "                平均労働時間\n",
    "                人的資本\n",
    "                全要素生産性（TFP）\"\"\"\n",
    "\n",
    "    var_lst = ['y', 'k', 'avh', 'hc']\n",
    "        \n",
    "    g_lst = []\n",
    "    \n",
    "    # ========== var_listの変数の平均成長率を計算しg_listに追加する ==========\n",
    "    for v in var_lst:\n",
    "        \n",
    "        g = calculate_growth(country='Japan', var=v, start=start, end=end)\n",
    "        g_lst.append(g)\n",
    "        \n",
    "    # ========== 蓄積生産要素の平均成長率を計算しg_listに追加する ==========\n",
    "    factors = (1/3) * g_lst[1] + (1-1/3) * ( g_lst[2]+g_lst[3] )\n",
    "    g_lst.append(factors)\n",
    "    \n",
    "    # ========== 全要素生産性の平均成長率を計算しg_listに追加する ==========\n",
    "    tfp = g_lst[0] - factors\n",
    "    g_lst.append(tfp)\n",
    "\n",
    "    # ========== 全要素生産性の寄与度を計算しg_listに追加する ==========\n",
    "    tfp_contribution = 100 * tfp / g_lst[0]\n",
    "    g_lst.append(tfp_contribution)\n",
    "    \n",
    "    return g_lst"
   ]
  },
  {
   "cell_type": "markdown",
   "metadata": {
    "hidden": true
   },
   "source": [
    "この関数を使って`DataFrame`を作成する。"
   ]
  },
  {
   "cell_type": "code",
   "execution_count": 30,
   "metadata": {
    "hidden": true
   },
   "outputs": [
    {
     "data": {
      "text/html": [
       "<div>\n",
       "<style scoped>\n",
       "    .dataframe tbody tr th:only-of-type {\n",
       "        vertical-align: middle;\n",
       "    }\n",
       "\n",
       "    .dataframe tbody tr th {\n",
       "        vertical-align: top;\n",
       "    }\n",
       "\n",
       "    .dataframe thead th {\n",
       "        text-align: right;\n",
       "    }\n",
       "</style>\n",
       "<table border=\"1\" class=\"dataframe\">\n",
       "  <thead>\n",
       "    <tr style=\"text-align: right;\">\n",
       "      <th></th>\n",
       "      <th>1950s</th>\n",
       "      <th>1960s</th>\n",
       "      <th>1970s</th>\n",
       "      <th>1980s</th>\n",
       "      <th>1990s</th>\n",
       "      <th>2000s</th>\n",
       "      <th>2010s</th>\n",
       "    </tr>\n",
       "  </thead>\n",
       "  <tbody>\n",
       "    <tr>\n",
       "      <th>y_growth</th>\n",
       "      <td>5.655810</td>\n",
       "      <td>8.226415</td>\n",
       "      <td>3.756609</td>\n",
       "      <td>3.573876</td>\n",
       "      <td>0.900981</td>\n",
       "      <td>0.219960</td>\n",
       "      <td>0.307585</td>\n",
       "    </tr>\n",
       "    <tr>\n",
       "      <th>k_growth</th>\n",
       "      <td>NaN</td>\n",
       "      <td>10.634742</td>\n",
       "      <td>8.042348</td>\n",
       "      <td>5.030082</td>\n",
       "      <td>3.975190</td>\n",
       "      <td>1.526388</td>\n",
       "      <td>0.116887</td>\n",
       "    </tr>\n",
       "    <tr>\n",
       "      <th>avh_growth</th>\n",
       "      <td>0.668095</td>\n",
       "      <td>-0.133169</td>\n",
       "      <td>-0.340568</td>\n",
       "      <td>-0.067613</td>\n",
       "      <td>-1.017606</td>\n",
       "      <td>-0.619595</td>\n",
       "      <td>-0.564995</td>\n",
       "    </tr>\n",
       "    <tr>\n",
       "      <th>hc_growth</th>\n",
       "      <td>1.257113</td>\n",
       "      <td>0.804446</td>\n",
       "      <td>0.708988</td>\n",
       "      <td>0.558892</td>\n",
       "      <td>0.515371</td>\n",
       "      <td>0.442203</td>\n",
       "      <td>0.302941</td>\n",
       "    </tr>\n",
       "    <tr>\n",
       "      <th>factors_growth</th>\n",
       "      <td>NaN</td>\n",
       "      <td>3.992432</td>\n",
       "      <td>2.926396</td>\n",
       "      <td>2.004213</td>\n",
       "      <td>0.990240</td>\n",
       "      <td>0.390535</td>\n",
       "      <td>-0.135740</td>\n",
       "    </tr>\n",
       "    <tr>\n",
       "      <th>tfp_growth</th>\n",
       "      <td>NaN</td>\n",
       "      <td>4.233982</td>\n",
       "      <td>0.830212</td>\n",
       "      <td>1.569663</td>\n",
       "      <td>-0.089259</td>\n",
       "      <td>-0.170575</td>\n",
       "      <td>0.443326</td>\n",
       "    </tr>\n",
       "    <tr>\n",
       "      <th>tfp_contribution</th>\n",
       "      <td>NaN</td>\n",
       "      <td>51.468135</td>\n",
       "      <td>22.100051</td>\n",
       "      <td>43.920461</td>\n",
       "      <td>-9.906831</td>\n",
       "      <td>-77.547931</td>\n",
       "      <td>144.130973</td>\n",
       "    </tr>\n",
       "  </tbody>\n",
       "</table>\n",
       "</div>"
      ],
      "text/plain": [
       "                     1950s      1960s      1970s      1980s     1990s  \\\n",
       "y_growth          5.655810   8.226415   3.756609   3.573876  0.900981   \n",
       "k_growth               NaN  10.634742   8.042348   5.030082  3.975190   \n",
       "avh_growth        0.668095  -0.133169  -0.340568  -0.067613 -1.017606   \n",
       "hc_growth         1.257113   0.804446   0.708988   0.558892  0.515371   \n",
       "factors_growth         NaN   3.992432   2.926396   2.004213  0.990240   \n",
       "tfp_growth             NaN   4.233982   0.830212   1.569663 -0.089259   \n",
       "tfp_contribution       NaN  51.468135  22.100051  43.920461 -9.906831   \n",
       "\n",
       "                      2000s       2010s  \n",
       "y_growth           0.219960    0.307585  \n",
       "k_growth           1.526388    0.116887  \n",
       "avh_growth        -0.619595   -0.564995  \n",
       "hc_growth          0.442203    0.302941  \n",
       "factors_growth     0.390535   -0.135740  \n",
       "tfp_growth        -0.170575    0.443326  \n",
       "tfp_contribution -77.547931  144.130973  "
      ]
     },
     "execution_count": 30,
     "metadata": {},
     "output_type": "execute_result"
    }
   ],
   "source": [
    "dic = {}                                          # 1\n",
    "\n",
    "yr_lst = ['1950s','1960s','1970s',                # 2\n",
    "           '1980s','1990s','2000s','2010s']\n",
    "\n",
    "for yr in yr_lst:                                 # 3\n",
    "    start = int(yr[:4])                           # 4\n",
    "    end = start+9                                 # 5\n",
    "    dic[yr] = jp_growth_decomposition(start, end) # 6\n",
    "\n",
    "\n",
    "idx = ['y_growth','k_growth',               # 7\n",
    "       'avh_growth','hc_growth','factors_growth',\n",
    "       'tfp_growth','tfp_contribution']\n",
    "\n",
    "df_jp = pd.DataFrame(dic, index=idx)              # 8\n",
    "df_jp"
   ]
  },
  {
   "cell_type": "markdown",
   "metadata": {
    "hidden": true
   },
   "source": [
    "````{admonition} コードの説明\n",
    ":class: dropdown\n",
    "\n",
    "1~6のコードは次のコードを`for`ループとして書いている。\n",
    "```\n",
    "dic = {'1950s':jp_growth_decomposition(1950,1959),\n",
    "       '1960s':jp_growth_decomposition(1960,1969),\n",
    "       '1970s':jp_growth_decomposition(1970,1979),\n",
    "       '1980s':jp_growth_decomposition(1980,1989),\n",
    "       '1990s':jp_growth_decomposition(1990,1999),\n",
    "       '2000s':jp_growth_decomposition(2000,2010),\n",
    "       '2010s':jp_growth_decomposition(2010,2019)}\n",
    "\n",
    "```\n",
    "1. 空の辞書`dic`を作成する。\n",
    "2. `dic`のキーになる値のリストを作成する。\n",
    "3. `yr_lst`に対しての`for`ループ。\n",
    "4. 関数`jp_growth_decomposition()`の引数として使用する開始年を作成する。\n",
    "    * 右辺の`yr`は5つの文字からなる文字列であり，`yr[:4]`は最初の4文字を抽出する。それを整数に変換するために`int()`を使っている。\n",
    "    * 右辺の開始年を変数`start`に割り当てる。\n",
    "5. 関数`jp_growth_decomposition()`の引数として使用する最終年を作成する。\n",
    "    * 右辺では`start`の9年後を最終年としている。\n",
    "    * 右辺の最終年を変数`end`に割り当てる。\n",
    "6. `dic`のキー`yr`に対応する値として`jp_growth_decomposition(start,end)`の返り値を`設定する。\n",
    "7. (8)で`DataFrame`を作成するが，その行ラベルに使うリストを作成する。\n",
    "8. `dic`を使い`DataFrame`を作成する。\n",
    "````"
   ]
  },
  {
   "cell_type": "markdown",
   "metadata": {
    "hidden": true
   },
   "source": [
    "値を確認するだけであればこのままでも良いが，棒グラフを作成するために列と行を入れ替えることにする。`df_jp`のメソッド`.transpose()`を使う。"
   ]
  },
  {
   "cell_type": "code",
   "execution_count": 31,
   "metadata": {
    "hidden": true,
    "scrolled": true
   },
   "outputs": [
    {
     "data": {
      "text/html": [
       "<div>\n",
       "<style scoped>\n",
       "    .dataframe tbody tr th:only-of-type {\n",
       "        vertical-align: middle;\n",
       "    }\n",
       "\n",
       "    .dataframe tbody tr th {\n",
       "        vertical-align: top;\n",
       "    }\n",
       "\n",
       "    .dataframe thead th {\n",
       "        text-align: right;\n",
       "    }\n",
       "</style>\n",
       "<table border=\"1\" class=\"dataframe\">\n",
       "  <thead>\n",
       "    <tr style=\"text-align: right;\">\n",
       "      <th></th>\n",
       "      <th>y_growth</th>\n",
       "      <th>k_growth</th>\n",
       "      <th>avh_growth</th>\n",
       "      <th>hc_growth</th>\n",
       "      <th>factors_growth</th>\n",
       "      <th>tfp_growth</th>\n",
       "      <th>tfp_contribution</th>\n",
       "    </tr>\n",
       "  </thead>\n",
       "  <tbody>\n",
       "    <tr>\n",
       "      <th>1950s</th>\n",
       "      <td>5.655810</td>\n",
       "      <td>NaN</td>\n",
       "      <td>0.668095</td>\n",
       "      <td>1.257113</td>\n",
       "      <td>NaN</td>\n",
       "      <td>NaN</td>\n",
       "      <td>NaN</td>\n",
       "    </tr>\n",
       "    <tr>\n",
       "      <th>1960s</th>\n",
       "      <td>8.226415</td>\n",
       "      <td>10.634742</td>\n",
       "      <td>-0.133169</td>\n",
       "      <td>0.804446</td>\n",
       "      <td>3.992432</td>\n",
       "      <td>4.233982</td>\n",
       "      <td>51.468135</td>\n",
       "    </tr>\n",
       "    <tr>\n",
       "      <th>1970s</th>\n",
       "      <td>3.756609</td>\n",
       "      <td>8.042348</td>\n",
       "      <td>-0.340568</td>\n",
       "      <td>0.708988</td>\n",
       "      <td>2.926396</td>\n",
       "      <td>0.830212</td>\n",
       "      <td>22.100051</td>\n",
       "    </tr>\n",
       "    <tr>\n",
       "      <th>1980s</th>\n",
       "      <td>3.573876</td>\n",
       "      <td>5.030082</td>\n",
       "      <td>-0.067613</td>\n",
       "      <td>0.558892</td>\n",
       "      <td>2.004213</td>\n",
       "      <td>1.569663</td>\n",
       "      <td>43.920461</td>\n",
       "    </tr>\n",
       "    <tr>\n",
       "      <th>1990s</th>\n",
       "      <td>0.900981</td>\n",
       "      <td>3.975190</td>\n",
       "      <td>-1.017606</td>\n",
       "      <td>0.515371</td>\n",
       "      <td>0.990240</td>\n",
       "      <td>-0.089259</td>\n",
       "      <td>-9.906831</td>\n",
       "    </tr>\n",
       "    <tr>\n",
       "      <th>2000s</th>\n",
       "      <td>0.219960</td>\n",
       "      <td>1.526388</td>\n",
       "      <td>-0.619595</td>\n",
       "      <td>0.442203</td>\n",
       "      <td>0.390535</td>\n",
       "      <td>-0.170575</td>\n",
       "      <td>-77.547931</td>\n",
       "    </tr>\n",
       "    <tr>\n",
       "      <th>2010s</th>\n",
       "      <td>0.307585</td>\n",
       "      <td>0.116887</td>\n",
       "      <td>-0.564995</td>\n",
       "      <td>0.302941</td>\n",
       "      <td>-0.135740</td>\n",
       "      <td>0.443326</td>\n",
       "      <td>144.130973</td>\n",
       "    </tr>\n",
       "  </tbody>\n",
       "</table>\n",
       "</div>"
      ],
      "text/plain": [
       "       y_growth   k_growth  avh_growth  hc_growth  factors_growth  tfp_growth  \\\n",
       "1950s  5.655810        NaN    0.668095   1.257113             NaN         NaN   \n",
       "1960s  8.226415  10.634742   -0.133169   0.804446        3.992432    4.233982   \n",
       "1970s  3.756609   8.042348   -0.340568   0.708988        2.926396    0.830212   \n",
       "1980s  3.573876   5.030082   -0.067613   0.558892        2.004213    1.569663   \n",
       "1990s  0.900981   3.975190   -1.017606   0.515371        0.990240   -0.089259   \n",
       "2000s  0.219960   1.526388   -0.619595   0.442203        0.390535   -0.170575   \n",
       "2010s  0.307585   0.116887   -0.564995   0.302941       -0.135740    0.443326   \n",
       "\n",
       "       tfp_contribution  \n",
       "1950s               NaN  \n",
       "1960s         51.468135  \n",
       "1970s         22.100051  \n",
       "1980s         43.920461  \n",
       "1990s         -9.906831  \n",
       "2000s        -77.547931  \n",
       "2010s        144.130973  "
      ]
     },
     "execution_count": 31,
     "metadata": {},
     "output_type": "execute_result"
    }
   ],
   "source": [
    "df_jp = df_jp.transpose()\n",
    "df_jp"
   ]
  },
  {
   "cell_type": "markdown",
   "metadata": {
    "hidden": true
   },
   "source": [
    "1950年代に欠損値があるが，そのまま議論を進めよう。まず一人当たりGDP成長率`gdp_pc_growth`を棒グラフとして表示してみよう。表示したい列を選択し，引数に`kind='bar'`を選択するだけである。"
   ]
  },
  {
   "cell_type": "code",
   "execution_count": 32,
   "metadata": {
    "hidden": true
   },
   "outputs": [
    {
     "data": {
      "image/png": "[encoded data removed]",
      "text/plain": [
       "<Figure size 640x480 with 1 Axes>"
      ]
     },
     "metadata": {},
     "output_type": "display_data"
    }
   ],
   "source": [
    "df_jp.plot.bar(y='y_growth')\n",
    "pass"
   ]
  },
  {
   "cell_type": "markdown",
   "metadata": {
    "hidden": true
   },
   "source": [
    "1960年代をピークに成長率は下降線をたどっている。\n",
    "\n",
    "次にヒストグラムに異なる変数を並べて表示してみる。この場合も、表示したい変数を先に選び`kind='bar'`を指定するだけである。"
   ]
  },
  {
   "cell_type": "code",
   "execution_count": 33,
   "metadata": {
    "hidden": true
   },
   "outputs": [
    {
     "data": {
      "image/png": "[encoded data removed]",
      "text/plain": [
       "<Figure size 640x480 with 1 Axes>"
      ]
     },
     "metadata": {},
     "output_type": "display_data"
    }
   ],
   "source": [
    "cols = ['y_growth', 'factors_growth', 'tfp_growth']\n",
    "df_jp.plot.bar(y=cols)\n",
    "pass"
   ]
  },
  {
   "cell_type": "markdown",
   "metadata": {
    "hidden": true
   },
   "source": [
    "以下では，全要素生産性と蓄積生産要素の成長率に焦点を当て議論を進めるために`dropna()`を使って1950年代のデータは削除する。"
   ]
  },
  {
   "cell_type": "code",
   "execution_count": 34,
   "metadata": {
    "hidden": true
   },
   "outputs": [],
   "source": [
    "df_jp = df_jp.dropna()"
   ]
  },
  {
   "cell_type": "markdown",
   "metadata": {
    "hidden": true
   },
   "source": [
    "上の棒グラフで，引数`stacked=True`を設定すると棒を積み重ねて表示することができる。"
   ]
  },
  {
   "cell_type": "code",
   "execution_count": 35,
   "metadata": {
    "hidden": true
   },
   "outputs": [
    {
     "data": {
      "image/png": "[encoded data removed]",
      "text/plain": [
       "<Figure size 640x480 with 1 Axes>"
      ]
     },
     "metadata": {},
     "output_type": "display_data"
    }
   ],
   "source": [
    "df_jp.plot.bar(y=cols[1:], stacked=True)\n",
    "pass"
   ]
  },
  {
   "cell_type": "markdown",
   "metadata": {
    "hidden": true
   },
   "source": [
    "次のグラフでは，一人当たりGDPの線グラフと一緒に表示している。"
   ]
  },
  {
   "cell_type": "code",
   "execution_count": 36,
   "metadata": {
    "hidden": true
   },
   "outputs": [
    {
     "data": {
      "image/png": "[encoded data removed]",
      "text/plain": [
       "<Figure size 640x480 with 1 Axes>"
      ]
     },
     "metadata": {},
     "output_type": "display_data"
    }
   ],
   "source": [
    "ax_ = df_jp.plot(y=cols[0], marker='o',color='k', legend=True)\n",
    "df_jp.plot.bar(y=cols[1:], stacked=True, legend=True, ax=ax_)\n",
    "pass"
   ]
  },
  {
   "cell_type": "markdown",
   "metadata": {
    "hidden": true
   },
   "source": [
    "1990年代に入ると，それ以前と比べて全要素生産性の成長率の下落が著しく，一人当たりGDPの成長率に大きく影響している。「失われた10年」の原因と主張する研究者もいる。"
   ]
  }
 ],
 "metadata": {
  "celltoolbar": "Tags",
  "kernelspec": {
   "display_name": "Python 3 (ipykernel)",
   "language": "python",
   "name": "python3"
  },
  "language_info": {
   "codemirror_mode": {
    "name": "ipython",
    "version": 3
   },
   "file_extension": ".py",
   "mimetype": "text/x-python",
   "name": "python",
   "nbconvert_exporter": "python",
   "pygments_lexer": "ipython3",
   "version": "3.11.9"
  }
 },
 "nbformat": 4,
 "nbformat_minor": 4
}
