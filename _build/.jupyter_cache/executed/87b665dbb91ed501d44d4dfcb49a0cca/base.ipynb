{
 "cells": [
  {
   "cell_type": "code",
   "execution_count": 1,
   "id": "vietnamese-encounter",
   "metadata": {},
   "outputs": [
    {
     "name": "stdout",
     "output_type": "stream",
     "text": [
      "Version: 2021年06月05日\n"
     ]
    }
   ],
   "source": [
    "import datetime\n",
    "dt = datetime.datetime.now()\n",
    "print('Version:',dt.strftime('%Y年%m月%d日'))"
   ]
  },
  {
   "cell_type": "code",
   "execution_count": 2,
   "id": "adaptive-result",
   "metadata": {},
   "outputs": [
    {
     "name": "stdout",
     "output_type": "stream",
     "text": [
      "Python        3.8.5\n",
      "gapminder     0.1\n",
      "matplotlib    3.3.4\n",
      "numba         0.51.2\n",
      "numpy         1.19.2\n",
      "pandas        1.2.2\n",
      "py4macro      0.3.1\n",
      "scipy         1.6.0\n",
      "see           1.4.1\n",
      "statsmodels   0.12.1\n",
      "wooldridge    0.4.2\n"
     ]
    }
   ],
   "source": [
    "import gapminder, matplotlib, numba, numpy, pandas, py4macro, scipy, see, statsmodels, wooldridge\n",
    "from platform import python_version\n",
    "\n",
    "packages = ['Python', 'gapminder', 'matplotlib', 'numba', 'numpy','pandas', 'py4macro', 'scipy','see', 'statsmodels', 'wooldridge']\n",
    "versions = [python_version(),gapminder.__version__, matplotlib.__version__, numba.__version__, numpy.__version__, pandas.__version__, py4macro.__version__, scipy.__version__, see.__version__, statsmodels.__version__, wooldridge.__version__]\n",
    "\n",
    "for pack, ver in zip(packages, versions):\n",
    "    print('{0:14}{1}'.format(pack,ver))"
   ]
  }
 ],
 "metadata": {
  "jupytext": {
   "text_representation": {
    "extension": ".md",
    "format_name": "myst"
   }
  },
  "kernelspec": {
   "display_name": "Python 3",
   "language": "python",
   "name": "python3"
  },
  "language_info": {
   "codemirror_mode": {
    "name": "ipython",
    "version": 3
   },
   "file_extension": ".py",
   "mimetype": "text/x-python",
   "name": "python",
   "nbconvert_exporter": "python",
   "pygments_lexer": "ipython3",
   "version": "3.8.5"
  },
  "source_map": [
   10,
   20,
   24,
   59,
   68
  ]
 },
 "nbformat": 4,
 "nbformat_minor": 5
}