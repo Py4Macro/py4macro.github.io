{
 "cells": [
  {
   "cell_type": "code",
   "execution_count": 1,
   "id": "legal-electronics",
   "metadata": {},
   "outputs": [
    {
     "name": "stdout",
     "output_type": "stream",
     "text": [
      "Version: 2021年07月04日\n"
     ]
    }
   ],
   "source": [
    "import datetime\n",
    "dt = datetime.datetime.now()\n",
    "print('Version:',dt.strftime('%Y年%m月%d日'))"
   ]
  },
  {
   "cell_type": "code",
   "execution_count": 2,
   "id": "weighted-transformation",
   "metadata": {},
   "outputs": [
    {
     "name": "stdout",
     "output_type": "stream",
     "text": [
      "Python        3.8.5\n",
      "matplotlib    3.3.4\n",
      "numpy         1.19.2\n",
      "pandas        1.2.2\n",
      "py4macro      0.5.0\n",
      "scipy         1.6.0\n",
      "see           1.4.1\n",
      "statsmodels   0.12.1\n",
      "wooldridge    0.4.2\n"
     ]
    }
   ],
   "source": [
    "import matplotlib, numpy, pandas, py4macro, scipy, see, statsmodels, wooldridge\n",
    "from platform import python_version\n",
    "\n",
    "packages = ['Python', 'matplotlib', 'numpy','pandas', 'py4macro', 'scipy','see', 'statsmodels', 'wooldridge']\n",
    "versions = [python_version(), matplotlib.__version__, numpy.__version__, pandas.__version__, py4macro.__version__, scipy.__version__, see.__version__, statsmodels.__version__, wooldridge.__version__]\n",
    "\n",
    "for pack, ver in zip(packages, versions):\n",
    "    print('{0:14}{1}'.format(pack,ver))"
   ]
  }
 ],
 "metadata": {
  "jupytext": {
   "text_representation": {
    "extension": ".md",
    "format_name": "myst"
   }
  },
  "kernelspec": {
   "display_name": "Python 3",
   "language": "python",
   "name": "python3"
  },
  "language_info": {
   "codemirror_mode": {
    "name": "ipython",
    "version": 3
   },
   "file_extension": ".py",
   "mimetype": "text/x-python",
   "name": "python",
   "nbconvert_exporter": "python",
   "pygments_lexer": "ipython3",
   "version": "3.8.5"
  },
  "source_map": [
   10,
   22,
   26,
   108,
   117
  ]
 },
 "nbformat": 4,
 "nbformat_minor": 5
}