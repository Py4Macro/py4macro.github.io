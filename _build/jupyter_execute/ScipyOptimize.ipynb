{
 "cells": [
  {
   "cell_type": "markdown",
   "metadata": {},
   "source": [
    "# 解の求め方と最適化問題"
   ]
  },
  {
   "cell_type": "code",
   "execution_count": 1,
   "metadata": {},
   "outputs": [],
   "source": [
    "import numpy as np\n",
    "import scipy.optimize as op\n",
    "import pandas as pd"
   ]
  },
  {
   "cell_type": "markdown",
   "metadata": {},
   "source": [
    "## はじめに"
   ]
  },
  {
   "cell_type": "markdown",
   "metadata": {},
   "source": [
    "線形の方程式の解を求めることは比較的簡単である。１変数の場合は簡単に式を変形できる。変数が複数ある場合でも，[「連立一次方程式の解」の節](sec:2-simultaneousEq)で説明したように，`numpy.linalg`を使えば簡単に解を求めることができる。例えば，[差分方程式と経済分析](chap:7-differenceEq)で扱った45度線モデルと蜘蛛の巣モデルは線形であるため、長期的な均衡の値を簡単に計算することができる。またソロー・モデルも線形ではないが、定常状態の資本ストック（$k_*$）について解くことができるので、長期的な値を計算することが可能である。しかし非線形モデルによっては、長期的均衡の値を簡単に求めることができない場合もあり、その場合に使う手法をここで説明する。\n",
    "\n",
    "コードを書いて非線形の方程式の解を求めるには色々な方法があるり，ここではその代表的な方法の考え方についてまず説明する。その後`SciPy`（「サイパイ」と読み，Scientific Pythonの略）というパッケージにある`optimize`というモジュールを紹介する。`SciPy`は`NumPy`の大幅な拡張版と理解して良いだろう。`SciPy`を読み込むと`NumPy`の関数などを利用できるようになる。しかし`SciPy`は大きなパッケージであり，全てを読み込む必要もない。従って，`NumPy`を読み込んで`SciPy`のサブパッケージや関数を読み込むということで十分であろう。そして`SciPy`のモジュール`optimize`に非線形の方程式の解を簡単に求めることができる関数が含まれている。もちろんこれらの関数は線形の方程式の解を求める為にも使える。また`scipy.optimize`には最適化問題のための関数も用意されており，`Python`で経済学を学ぶ為には必須となるツールと言えるだろう。消費者の効用最大化問題やソロー・モデルの資本の黄金律水準などに応用して使い方を説明する。"
   ]
  },
  {
   "cell_type": "markdown",
   "metadata": {
    "heading_collapsed": true
   },
   "source": [
    "## 解の求め方と考え方"
   ]
  },
  {
   "cell_type": "markdown",
   "metadata": {
    "heading_collapsed": true,
    "hidden": true
   },
   "source": [
    "### Bisection法"
   ]
  },
  {
   "cell_type": "markdown",
   "metadata": {
    "heading_collapsed": true,
    "hidden": true
   },
   "source": [
    "#### 説明"
   ]
  },
  {
   "cell_type": "markdown",
   "metadata": {
    "hidden": true
   },
   "source": [
    "Bisection法の考え方について説明するために，次の関数を考えよう。\n",
    "\n",
    "$$f(x)=x^3+4x^2-3$$"
   ]
  },
  {
   "cell_type": "code",
   "execution_count": 2,
   "metadata": {
    "hidden": true
   },
   "outputs": [],
   "source": [
    "def f(x):\n",
    "    return x**3 + 4*x**2 -3"
   ]
  },
  {
   "cell_type": "markdown",
   "metadata": {
    "hidden": true
   },
   "source": [
    "次に３つの変数`a`，`b`，`c`に下の値を割り当てる。"
   ]
  },
  {
   "cell_type": "code",
   "execution_count": 3,
   "metadata": {
    "hidden": true
   },
   "outputs": [],
   "source": [
    "a = -3.0\n",
    "b = -0.5\n",
    "c = 0.5*(a+b)"
   ]
  },
  {
   "cell_type": "markdown",
   "metadata": {
    "hidden": true
   },
   "source": [
    "$x$が`a`，`b`，`c`の値を取る場合の$f(x)$の値を計算してみよう。"
   ]
  },
  {
   "cell_type": "code",
   "execution_count": 4,
   "metadata": {
    "hidden": true
   },
   "outputs": [
    {
     "data": {
      "text/plain": [
       "(6.0, -2.125, 3.890625)"
      ]
     },
     "execution_count": 4,
     "metadata": {},
     "output_type": "execute_result"
    }
   ],
   "source": [
    "f(a), f(b), f(c)"
   ]
  },
  {
   "cell_type": "markdown",
   "metadata": {
    "hidden": true
   },
   "source": [
    "これらの情報を図示すると次のようになる。"
   ]
  },
  {
   "cell_type": "code",
   "execution_count": 5,
   "metadata": {
    "hidden": true
   },
   "outputs": [
    {
     "data": {
      "image/png": "[encoded data removed]",
      "text/plain": [
       "<Figure size 432x288 with 1 Axes>"
      ]
     },
     "metadata": {
      "filenames": {
       "image/png": "/Users/tetsu/Documents/My_Simulation/Python/JupyterBooks/py4macro.github.io/_build/jupyter_execute/ScipyOptimize_14_0.png"
      },
      "needs_background": "light"
     },
     "output_type": "display_data"
    }
   ],
   "source": [
    "x = np.linspace(-3.1, 0, 100)          # 1\n",
    "\n",
    "df1 = pd.DataFrame({'X':x, 'Y':f(x)})  # 2\n",
    "\n",
    "ax = df1.plot('X','Y')     # 3\n",
    "\n",
    "ax.axhline(0, c='orange')  # 4\n",
    "ax.text(a,-1,\"a\")          # 5\n",
    "ax.text(b,-1,\"b\")\n",
    "ax.text(c,-1,\"c\")\n",
    "ax.scatter([a,b,c], [f(a), f(b),f(c)], s=50, c='k')  # 6\n",
    "ax.scatter([a,b,c], [0,0,0], s=50, c='red')\n",
    "pass"
   ]
  },
  {
   "cell_type": "markdown",
   "metadata": {
    "hidden": true
   },
   "source": [
    "```{admonition} コードの説明\n",
    ":class: dropdown\n",
    "\n",
    "1. `-3.1`から`0`から等間隔で`100`の値を生成し横軸に設定する。\n",
    "2. `x`と`f(x)`の値からなる`DataFrame`の作成。\n",
    "3. `X`を横軸、`Y`を縦軸に指定し`f(x)`の曲線をプロットする。また図の軸を`ax`とする。\n",
    "4. `ax`のメソッド`axhline(<横軸の値>)`を使い`ax`に平行線を表示する。`c='orange'`は色を指定する引数。\n",
    "5. `ax`のメソッド`text(<横軸の値>,<縦軸の値>,<表示する文字>)`を使い`ax`に文字を表示する。\n",
    "6. `ax`のメソッド`scatter()`を使い`ax`に点を表示する。\n",
    "    * 第１引数：横軸の値のリスト\n",
    "    * 第２引数：縦軸の値のリスト\n",
    "    * 第３引数：点のサイズ\n",
    "    * 第４引数：点の色\n",
    "```"
   ]
  },
  {
   "cell_type": "markdown",
   "metadata": {
    "hidden": true
   },
   "source": [
    "＜`bisection`方の考え方＞\n",
    "* [中間値の定理](https://ja.wikipedia.org/wiki/中間値の定理)に基づく。\n",
    "* `f(a)`と`f(b)`の符号が異なり`f(x)`が連続関数である場合、`a`と`b`の間には`f(x)`がゼロになる`x`の値が必ず存在する。（一般的には，`f(x)`がゼロになる`x`の値は奇数個存在することになる。）\n",
    "* 上の図の`c=(a+b)/2`は`a`と`b`の平均値であり、次の３つの可能性がある。\n",
    "    1. `f(c)=0`\n",
    "        * この場合は解が求められたことになる。\n",
    "    1. `f(c)>0`\n",
    "        * （上の図のように）`f(c)`と`f(a)`が同じ符号であるため、次は`c`と`b`の間で同様の計算をおこなう。例えば，`d=(c+b)/2`を計算する。\n",
    "    1. `f(c)<0`\n",
    "        * （上の図とは異なるが）`f(c)`と`f(a)`は異なる符号であるため、次は`a`と`c`の間で同様の計算をおこなう。例えば，`d=(a+c)/2`を計算する。\n",
    "* このように`f(x)=0`となる`x`を「挟み撃ち」するように計算プロセスを続けると`f(x)=0`を満たす`x`の値に十分に近い値を求めることができる。\n",
    "\n",
    "＜注意点＞\n",
    "* 計算には`a`と`b`のように１つの根を挟む２点が必要となる。\n",
    "* 挟んだ根だけを求めることになる。\n",
    "* 求めた値は近似となる。\n",
    "* 求めた値は収束値なので収束する速度が一つの「壁」になり得る。"
   ]
  },
  {
   "cell_type": "markdown",
   "metadata": {
    "heading_collapsed": true,
    "hidden": true
   },
   "source": [
    "#### 手計算"
   ]
  },
  {
   "cell_type": "markdown",
   "metadata": {
    "hidden": true
   },
   "source": [
    "実際にコードを書き，Bisection法の考え理解しよう。次の関数を定義する。"
   ]
  },
  {
   "cell_type": "code",
   "execution_count": 6,
   "metadata": {
    "hidden": true
   },
   "outputs": [],
   "source": [
    "def my_bisect(f,a,b,N):\n",
    "    \"\"\" [a,b]におけるf(x)=0の近似解（bisection法）   # 1\n",
    "    \n",
    "    引数\n",
    "    ----------\n",
    "    f : f(x)=0の連続関数\n",
    "    a,b : 根を挟む初期の値\n",
    "    N : 中間値を計算するプロセスの回数\n",
    "\n",
    "    返り値\n",
    "    -------\n",
    "    N回ループ後の解の近似値\n",
    "    * f(a)*f(b) >= 0 の場合、メッセージが返される。\n",
    "    * c=(a+b)/2とし、f(a)、f(b)、f(c)が同じ符号の場合、メッセージが返される。\n",
    "    \"\"\"\n",
    "    \n",
    "    if f(a)*f(b) >= 0:       # 2\n",
    "        print(\"f(a)とf(b)は同じ符号です。a、bの値を変えてください。\")\n",
    "        return None\n",
    "    \n",
    "    a_ = a                   # 3\n",
    "    b_ = b                   # 4\n",
    "    \n",
    "    for n in range(N):       # 5\n",
    "        \n",
    "        c_ = (a_ + b_)/2     # 6\n",
    "        fc = f(c_)           # 7\n",
    "        \n",
    "        if f(a_)*fc < 0:     # 8\n",
    "            b_ = c_\n",
    "            \n",
    "        elif f(b_)*fc < 0:   # 9\n",
    "            a_ = c_\n",
    "            \n",
    "        elif fc == 0:        # 10\n",
    "            print(\"正確な根が求められました。\")\n",
    "            return c_\n",
    "        \n",
    "        else:                # 11\n",
    "            print(\"計算に失敗しました。\")\n",
    "            return None\n",
    "        \n",
    "    print(f'{N}回ループ後の値です。')\n",
    "        \n",
    "    return (a_ + b_)/2       # 12"
   ]
  },
  {
   "cell_type": "markdown",
   "metadata": {
    "hidden": true
   },
   "source": [
    "```{admonition} コードの説明\n",
    ":class: dropdown\n",
    "\n",
    "1. `\"\"\"`と`\"\"\"`で挟んだ領域は`docstring`と呼ばれ、関数の説明をする。書かなくても良いが、自分が忘れた頃に関数のコードを読むことになるかもしれないので、書く方がオススメ。\n",
    "2. `f(a)`と`f(b)`の符号が同じ場合は計算を中止する。\n",
    "3. `bisection`法では根を挟む２つの変数が必要だが、計算を繰り返す毎に両変数がアップデートされる。そのアップデート用の変数として`a_`と`b_`の初期値を`a`と`b`に設定している。\n",
    "4. (3)を参照。\n",
    "5. `N`回の`for`ループとして中間値を計算する。\n",
    "6. 中間値を計算して変数`c_`に割り当てる。\n",
    "7. 中間値での関数の値を変数`fc`に割り当てる。\n",
    "8. 中間値と`a_`での関数の符号が異なる場合、`c_`を`b_`に割り当てる（アップデートする）。（`a_`は以前と同じ値。）\n",
    "9. 中間値と`b_`での関数の符号が異なる場合、`c_`を`a_`に割り当てる（アップデートする）。（`b_`は以前と同じ値。）\n",
    "10. 中間値である`c_`での関数の値が`0`の場合、近似ではなく正確な根が求められることになる。その旨を立てるメッセージを表示し，`c_`の値を返す。\n",
    "11. その他の場合は計算の失敗となる。その旨のメッセージを表示し，`None`を返す。\n",
    "12. `N`回のループ終了後に`a_`と`b_`の中間値として根の近似値が返される。\n",
    "```"
   ]
  },
  {
   "cell_type": "markdown",
   "metadata": {
    "hidden": true
   },
   "source": [
    "次の例を使って実際に計算してみよう。"
   ]
  },
  {
   "cell_type": "code",
   "execution_count": 7,
   "metadata": {
    "hidden": true
   },
   "outputs": [],
   "source": [
    "def f_ex1(x):\n",
    "    return x**2 - 2"
   ]
  },
  {
   "cell_type": "markdown",
   "metadata": {
    "hidden": true
   },
   "source": [
    "`f_ex1`には次の正と負の２つの解が存在する。"
   ]
  },
  {
   "cell_type": "code",
   "execution_count": 8,
   "metadata": {
    "hidden": true
   },
   "outputs": [
    {
     "data": {
      "text/plain": [
       "(1.4142135623730951, -1.4142135623730951)"
      ]
     },
     "execution_count": 8,
     "metadata": {},
     "output_type": "execute_result"
    }
   ],
   "source": [
    "np.sqrt(2), -np.sqrt(2)"
   ]
  },
  {
   "cell_type": "markdown",
   "metadata": {
    "hidden": true
   },
   "source": [
    "まず$x>0$の解を計算してみよう。"
   ]
  },
  {
   "cell_type": "code",
   "execution_count": 9,
   "metadata": {
    "hidden": true
   },
   "outputs": [
    {
     "name": "stdout",
     "output_type": "stream",
     "text": [
      "10回ループ後の値です。\n"
     ]
    },
    {
     "data": {
      "text/plain": [
       "1.4150390625"
      ]
     },
     "execution_count": 9,
     "metadata": {},
     "output_type": "execute_result"
    }
   ],
   "source": [
    "my_bisect(f_ex1, 0, 2, 10)"
   ]
  },
  {
   "cell_type": "markdown",
   "metadata": {
    "hidden": true
   },
   "source": [
    "次に$x<0$の解をしてみる。"
   ]
  },
  {
   "cell_type": "code",
   "execution_count": 10,
   "metadata": {
    "hidden": true
   },
   "outputs": [
    {
     "name": "stdout",
     "output_type": "stream",
     "text": [
      "10回ループ後の値です。\n"
     ]
    },
    {
     "data": {
      "text/plain": [
       "-1.4150390625"
      ]
     },
     "execution_count": 10,
     "metadata": {},
     "output_type": "execute_result"
    }
   ],
   "source": [
    "my_bisect(f_ex1, -2, 0, 10)"
   ]
  },
  {
   "cell_type": "markdown",
   "metadata": {
    "hidden": true
   },
   "source": [
    "`N`の値が変わると根の近似値がどう変化するか試してみよう。\n",
    "\n",
    "次の場合は計算に失敗する。"
   ]
  },
  {
   "cell_type": "code",
   "execution_count": 11,
   "metadata": {
    "hidden": true
   },
   "outputs": [
    {
     "name": "stdout",
     "output_type": "stream",
     "text": [
      "f(a)とf(b)は同じ符号です。a、bの値を変えてください。\n"
     ]
    }
   ],
   "source": [
    "my_bisect(f_ex1, -2, 2, 10)"
   ]
  },
  {
   "cell_type": "markdown",
   "metadata": {
    "heading_collapsed": true,
    "hidden": true
   },
   "source": [
    "#### `Scipy`の関数"
   ]
  },
  {
   "cell_type": "markdown",
   "metadata": {
    "hidden": true
   },
   "source": [
    "上で考えた`my_bisect()`関数は，解法の考えを理解するために使ったが，実際にBisection法を使う場合は，`SciPy`パッケージの`optimize`モジュールに用意されている`bisect()`関数を使おう。基本的な考えは同じであり，`my_bisect()`より格段に洗練された関数と考えれば良いだろう。またBisection法だけではなく他にも様々な方法があり，その一つであるBrent法に基づく関数もここで紹介することにする。"
   ]
  },
  {
   "cell_type": "markdown",
   "metadata": {
    "heading_collapsed": true,
    "hidden": true
   },
   "source": [
    "##### `bisect`関数 "
   ]
  },
  {
   "cell_type": "markdown",
   "metadata": {
    "hidden": true
   },
   "source": [
    "使い方は、上で定義した`my_bisect`関数と基本的に同じであり、近似値が十分に近い数値になるように`for`ループ回数の引数`N`は自動で決定される。\n",
    "\n",
    "```\n",
    "bisect(f, a, b)\n",
    "```\n",
    "* `f`：評価の対象となる関数名\n",
    "* `a`：解探査区間の最小値\n",
    "* `b`：解探査区間の最大値"
   ]
  },
  {
   "cell_type": "code",
   "execution_count": 12,
   "metadata": {
    "hidden": true
   },
   "outputs": [
    {
     "data": {
      "text/plain": [
       "1.4142135623715149"
      ]
     },
     "execution_count": 12,
     "metadata": {},
     "output_type": "execute_result"
    }
   ],
   "source": [
    "op.bisect(f_ex1, 0, 2)"
   ]
  },
  {
   "cell_type": "code",
   "execution_count": 13,
   "metadata": {
    "hidden": true
   },
   "outputs": [
    {
     "data": {
      "text/plain": [
       "-1.4142135623715149"
      ]
     },
     "execution_count": 13,
     "metadata": {},
     "output_type": "execute_result"
    }
   ],
   "source": [
    "op.bisect(f_ex1, -2, 0)"
   ]
  },
  {
   "cell_type": "markdown",
   "metadata": {
    "heading_collapsed": true,
    "hidden": true
   },
   "source": [
    "##### `brentq`関数"
   ]
  },
  {
   "cell_type": "markdown",
   "metadata": {
    "hidden": true
   },
   "source": [
    "`brentq`関数はBrent法に基づいており、`bisect`関数を拡張した手法（ここでは説明を割愛）である。より安定的により速く解への収束が可能となっている。基本的に使い方は`bisect`と同じである。\n",
    "\n",
    "\n",
    "```\n",
    "brentq(f, a, b)\n",
    "```\n",
    "* `f`：評価の対象となる関数名\n",
    "* `a`：解探査区間の最小値\n",
    "* `b`：解探査区間の最大値"
   ]
  },
  {
   "cell_type": "code",
   "execution_count": 14,
   "metadata": {
    "hidden": true
   },
   "outputs": [
    {
     "data": {
      "text/plain": [
       "1.4142135623731364"
      ]
     },
     "execution_count": 14,
     "metadata": {},
     "output_type": "execute_result"
    }
   ],
   "source": [
    "op.brentq(f_ex1, 0, 2)"
   ]
  },
  {
   "cell_type": "code",
   "execution_count": 15,
   "metadata": {
    "hidden": true
   },
   "outputs": [
    {
     "data": {
      "text/plain": [
       "-1.4142135623730951"
      ]
     },
     "execution_count": 15,
     "metadata": {},
     "output_type": "execute_result"
    }
   ],
   "source": [
    "op.brentq(f_ex1, -2, 0)"
   ]
  },
  {
   "cell_type": "markdown",
   "metadata": {
    "hidden": true
   },
   "source": [
    "`bisect`と`brentq`のどちらを使っても良いが、`brentq`を使うことを推奨する。"
   ]
  },
  {
   "cell_type": "markdown",
   "metadata": {
    "heading_collapsed": true,
    "hidden": true
   },
   "source": [
    "### Newton法"
   ]
  },
  {
   "cell_type": "markdown",
   "metadata": {
    "heading_collapsed": true,
    "hidden": true
   },
   "source": [
    "#### 説明"
   ]
  },
  {
   "cell_type": "markdown",
   "metadata": {
    "hidden": true
   },
   "source": [
    "ここではもう一つの解法であるNewton法について説明する。図にある関数`f(x)`を考えよう。$x_1$での傾きは$f^{\\prime}(x_1)$であり、次の式が成り立つことが確認できる。\n",
    "\n",
    "$$\n",
    "f^{\\prime}(x_0)=\\dfrac{f(x_0)}{x_0-x_1}\n",
    "\\quad\\Rightarrow\\quad\n",
    "x_1 = x_0 - \\dfrac{f(x_0)}{f^{\\prime}(x_0)}\n",
    "$$\n",
    "\n",
    "```{figure} /images/newton.jpeg\n",
    "---\n",
    "scale: 30%\n",
    "name: fig:scipy-newton\n",
    "---\n",
    "Newton法\n",
    "```\n",
    "\n",
    "即ち、$x_0$が与えられ$f^{\\prime}(x_0)$が分かれば、$x_1$を求めることができる。更に、$x_1$が与えられ、$f^{\\prime}(x_1)$が分かれば、$x_2$を求めることができる。一般的には次の差分方程式が成り立つことになる。\n",
    "\n",
    "$$\n",
    "x_{t+1} = x_t - \\dfrac{f(x_t)}{f^{\\prime}(x_t)}\n",
    "$$ (eq:scipy-newton)\n",
    "\n",
    "この式に従って$x_{t+1}$の計算を続けると、$x_{t+1}$は$f(x)=0$を満たす$x$に漸近的に近づいていき、根に十分に近い値を計算することが可能となる。"
   ]
  },
  {
   "cell_type": "markdown",
   "metadata": {
    "hidden": true
   },
   "source": [
    "＜コメント＞\n",
    "* 求めた値は近似となる。\n",
    "* `bisec`関数と`brentq`関数よりも早い率で解に収束する特徴がある。\n",
    "* `bisec`関数と`brentq`関数と違って、必ず解を求めることができるとは限らない。解探索の`x`の初期値の設定が重要となる。"
   ]
  },
  {
   "cell_type": "markdown",
   "metadata": {
    "heading_collapsed": true,
    "hidden": true
   },
   "source": [
    "#### 手計算"
   ]
  },
  {
   "cell_type": "markdown",
   "metadata": {
    "hidden": true
   },
   "source": [
    "Newton法の基本的な考えを説明するために式[](fig:scipy-newton)を捉える関数を定義しよう。"
   ]
  },
  {
   "cell_type": "code",
   "execution_count": 16,
   "metadata": {
    "hidden": true
   },
   "outputs": [],
   "source": [
    "def my_newton(f,Df,x0,N):\n",
    "    \"\"\" Newton法でf(x)=0の根を近似する。\n",
    "\n",
    "    引数\n",
    "    ----------\n",
    "    f : f(x)=0の関数名f\n",
    "    Df : f(x)の導関数\n",
    "    x0 : 解探索の初期のxの値\n",
    "    N : ループの回数\n",
    "\n",
    "    返り値\n",
    "    -------\n",
    "    根の近似値\n",
    "    Df(x) == 0の場合は None がメッセージが表示される。\n",
    "    \"\"\"\n",
    "    \n",
    "    x_ = x0              # 1\n",
    "    \n",
    "    for n in range(N):   # 2\n",
    "        \n",
    "        fx = f(x_)       # 3\n",
    "        Dfx = Df(x_)     # 4\n",
    "        \n",
    "        if Dfx == 0:     # 5\n",
    "            print('導関数はゼロです。解は見つかりませんでした')\n",
    "            return None\n",
    "        \n",
    "        else:            # 6\n",
    "            x_ = x_ - fx/Dfx\n",
    "\n",
    "    print(f'{N}回ループ後の値です。')\n",
    "    return x_            # 7"
   ]
  },
  {
   "cell_type": "markdown",
   "metadata": {
    "hidden": true
   },
   "source": [
    "```{admonition} コードの説明\n",
    ":class: dropdown\n",
    "\n",
    "1. $x$の初期値の設定。また、式[](fig:scipy-newton)の左辺の値$x_{1+t}$は計算を繰り返す毎にアップデートされるが、そのアップデート用の変数として`x_`を使う事になる。\n",
    "2. `for`ループを`N`回行う。\n",
    "3. `x_`での関数`f(x)`の値を`fx`に割り当てる。 \n",
    "4. `x_`での導関数`Df(x)`の値を`Dfx`に割り当てる。 \n",
    "5. 導関数`Dfx`がゼロになる場合は計算不可能なので，その旨のメッセージを表示し、`None`を返す。\n",
    "6. 導関数`Dfx`がゼロでなければ、式[](fig:scipy-newton)に従って計算し、`x_`をアップデートする。\n",
    "7. 近似解`x_`を返す。\n",
    "```"
   ]
  },
  {
   "cell_type": "markdown",
   "metadata": {
    "hidden": true
   },
   "source": [
    "例として`f_ex(x)`を使うが、まず導関数を定義する。"
   ]
  },
  {
   "cell_type": "code",
   "execution_count": 17,
   "metadata": {
    "hidden": true
   },
   "outputs": [],
   "source": [
    "def Df_ex1(x):\n",
    "    return 2*x"
   ]
  },
  {
   "cell_type": "markdown",
   "metadata": {
    "hidden": true
   },
   "source": [
    "まず$x>0$の解を求めよう。"
   ]
  },
  {
   "cell_type": "code",
   "execution_count": 18,
   "metadata": {
    "hidden": true
   },
   "outputs": [
    {
     "name": "stdout",
     "output_type": "stream",
     "text": [
      "10回ループ後の値です。\n"
     ]
    },
    {
     "data": {
      "text/plain": [
       "1.414213562373095"
      ]
     },
     "execution_count": 18,
     "metadata": {},
     "output_type": "execute_result"
    }
   ],
   "source": [
    "my_newton(f_ex1, Df_ex1, 1, 10)"
   ]
  },
  {
   "cell_type": "markdown",
   "metadata": {
    "hidden": true
   },
   "source": [
    "次に$x<0$の解を求める。"
   ]
  },
  {
   "cell_type": "code",
   "execution_count": 19,
   "metadata": {
    "hidden": true
   },
   "outputs": [
    {
     "name": "stdout",
     "output_type": "stream",
     "text": [
      "10回ループ後の値です。\n"
     ]
    },
    {
     "data": {
      "text/plain": [
       "-1.414213562373095"
      ]
     },
     "execution_count": 19,
     "metadata": {},
     "output_type": "execute_result"
    }
   ],
   "source": [
    "my_newton(f_ex1, Df_ex1, -1, 10)"
   ]
  },
  {
   "cell_type": "markdown",
   "metadata": {
    "hidden": true
   },
   "source": [
    "次は計算に失敗するケースとなる。"
   ]
  },
  {
   "cell_type": "code",
   "execution_count": 20,
   "metadata": {
    "hidden": true
   },
   "outputs": [
    {
     "name": "stdout",
     "output_type": "stream",
     "text": [
      "導関数はゼロです。解は見つかりませんでした\n"
     ]
    }
   ],
   "source": [
    "my_newton(f_ex1, Df_ex1, 0, 10)"
   ]
  },
  {
   "cell_type": "markdown",
   "metadata": {
    "heading_collapsed": true,
    "hidden": true
   },
   "source": [
    "#### `Scipy`の関数"
   ]
  },
  {
   "cell_type": "markdown",
   "metadata": {
    "hidden": true
   },
   "source": [
    "`Scipy`パッケージの`optimize`モジュールには`newton`法の関数が用意されており、説明で使った手計算の`my_newton()`関数と比べると格段に洗練れている。使い方は簡単で、引数に関数と`x`の初期値を指定するだけであり、近似の誤差とループの回数は自動的に設定される。\n",
    "\n",
    "```\n",
    "newton(f, x0)\n",
    "```\n",
    "* `f`：評価の対象となる関数名\n",
    "* `x0`：解探査の初期値"
   ]
  },
  {
   "cell_type": "code",
   "execution_count": 21,
   "metadata": {
    "hidden": true
   },
   "outputs": [
    {
     "data": {
      "text/plain": [
       "1.414213562373095"
      ]
     },
     "execution_count": 21,
     "metadata": {},
     "output_type": "execute_result"
    }
   ],
   "source": [
    "op.newton(f_ex1, 1)"
   ]
  },
  {
   "cell_type": "code",
   "execution_count": 22,
   "metadata": {
    "hidden": true
   },
   "outputs": [
    {
     "data": {
      "text/plain": [
       "-1.414213562373095"
      ]
     },
     "execution_count": 22,
     "metadata": {},
     "output_type": "execute_result"
    }
   ],
   "source": [
    "op.newton(f_ex1, -1)"
   ]
  },
  {
   "cell_type": "markdown",
   "metadata": {
    "hidden": true
   },
   "source": [
    "またリストとして`x`の初期値を複数設定することも可能である。"
   ]
  },
  {
   "cell_type": "code",
   "execution_count": 23,
   "metadata": {
    "hidden": true
   },
   "outputs": [
    {
     "data": {
      "text/plain": [
       "array([1.41421356, 1.41421356])"
      ]
     },
     "execution_count": 23,
     "metadata": {},
     "output_type": "execute_result"
    }
   ],
   "source": [
    "op.newton(f_ex1, [1,10])"
   ]
  },
  {
   "cell_type": "markdown",
   "metadata": {
    "hidden": true
   },
   "source": [
    "これを利用して、複数の根を同時に計算することも可能となる。"
   ]
  },
  {
   "cell_type": "code",
   "execution_count": 24,
   "metadata": {
    "hidden": true
   },
   "outputs": [
    {
     "data": {
      "text/plain": [
       "array([-1.41421356,  1.41421356])"
      ]
     },
     "execution_count": 24,
     "metadata": {},
     "output_type": "execute_result"
    }
   ],
   "source": [
    "op.newton(f_ex1, [-1,1])"
   ]
  },
  {
   "cell_type": "markdown",
   "metadata": {
    "heading_collapsed": true,
    "hidden": true
   },
   "source": [
    "### マクロ経済学への応用"
   ]
  },
  {
   "cell_type": "markdown",
   "metadata": {
    "heading_collapsed": true,
    "hidden": true
   },
   "source": [
    "#### 45度線モデル"
   ]
  },
  {
   "cell_type": "markdown",
   "metadata": {
    "hidden": true
   },
   "source": [
    "ケインズの45度線モデルでは，所得$Y$以外の変数は外生変数として所得が決定されるマクロ経済学の基本的なモデルである。次の記号・仮定を使う。\n",
    "\n",
    "* 所得：$Y$\n",
    "* 計画支出：$E=C(Y)+I+G$\n",
    "* 消費関数：$C(Y)=d+cY^{a}$\n",
    "    * 自発的消費：$d=10$\n",
    "    * 限界消費性向：$c=0.7$\n",
    "    * $\\alpha=0.7$\n",
    "* 投資：$I=15$\n",
    "* 政府支出：$G=10$\n",
    "* 均衡：$E=Y$\n",
    "\n",
    "１つの式でまとめると次式となる。\n",
    "\n",
    "$$\n",
    "0= Y -\\left(I+G+C(Y)\\right)\\equiv h_0(Y)\n",
    "$$\n",
    "\n",
    "この式をプロットするために，次のパラメータの下での`h0()`関数を定義する。\n",
    "```\n",
    "a = 0.5\n",
    "c = 0.7\n",
    "d = 10\n",
    "i = 15\n",
    "g = 10\n",
    "```"
   ]
  },
  {
   "cell_type": "code",
   "execution_count": 25,
   "metadata": {
    "hidden": true
   },
   "outputs": [],
   "source": [
    "def h0(y):\n",
    "    \n",
    "    a = 0.8\n",
    "    c = 0.7\n",
    "    d = 10\n",
    "    i = 15\n",
    "    g = 10\n",
    "\n",
    "    return y - (i + g + d + c*y**a)"
   ]
  },
  {
   "cell_type": "markdown",
   "metadata": {
    "hidden": true
   },
   "source": [
    "プロットしてみよう。"
   ]
  },
  {
   "cell_type": "code",
   "execution_count": 26,
   "metadata": {
    "hidden": true
   },
   "outputs": [
    {
     "data": {
      "image/png": "[encoded data removed]",
      "text/plain": [
       "<Figure size 432x288 with 1 Axes>"
      ]
     },
     "metadata": {
      "filenames": {
       "image/png": "/Users/tetsu/Documents/My_Simulation/Python/JupyterBooks/py4macro.github.io/_build/jupyter_execute/ScipyOptimize_71_0.png"
      },
      "needs_background": "light"
     },
     "output_type": "display_data"
    }
   ],
   "source": [
    "yy = np.linspace(20,100,100)\n",
    "\n",
    "df1 = pd.DataFrame({'Y':yy, 'h0(Y)':h0(yy)})\n",
    "\n",
    "ax_ = df1.plot('Y','h0(Y)')\n",
    "ax_.axhline(0,c='red')\n",
    "pass"
   ]
  },
  {
   "cell_type": "markdown",
   "metadata": {
    "hidden": true
   },
   "source": [
    "`h0(y)`関数は右上りとなっている。傾きを直感的に説明すると次のようになる。`Y`が増加すると，当たり前だが所得`Y`は線形的に増加する。一方で，計画支出の一部である消費も増加するが，`a`は0.5に設定されているため，増加分は逓減している。したがって，所得と計画支出の差は上昇することになる。\n",
    "\n",
    "均衡の$Y$を計算してみよう。\n",
    "\n",
    "＜Bisection法＞"
   ]
  },
  {
   "cell_type": "code",
   "execution_count": 27,
   "metadata": {
    "hidden": true
   },
   "outputs": [
    {
     "data": {
      "text/plain": [
       "51.35063858666513"
      ]
     },
     "execution_count": 27,
     "metadata": {},
     "output_type": "execute_result"
    }
   ],
   "source": [
    "op.bisect(h0, 40, 60)"
   ]
  },
  {
   "cell_type": "markdown",
   "metadata": {
    "hidden": true
   },
   "source": [
    "＜Brent法＞"
   ]
  },
  {
   "cell_type": "code",
   "execution_count": 28,
   "metadata": {
    "hidden": true
   },
   "outputs": [
    {
     "data": {
      "text/plain": [
       "51.35063858666476"
      ]
     },
     "execution_count": 28,
     "metadata": {},
     "output_type": "execute_result"
    }
   ],
   "source": [
    "op.brentq(h0, 40, 60)"
   ]
  },
  {
   "cell_type": "markdown",
   "metadata": {
    "hidden": true
   },
   "source": [
    "＜Newton法＞"
   ]
  },
  {
   "cell_type": "code",
   "execution_count": 29,
   "metadata": {
    "hidden": true
   },
   "outputs": [
    {
     "data": {
      "text/plain": [
       "51.35063858666476"
      ]
     },
     "execution_count": 29,
     "metadata": {},
     "output_type": "execute_result"
    }
   ],
   "source": [
    "op.newton(h0, 40)"
   ]
  },
  {
   "cell_type": "markdown",
   "metadata": {
    "heading_collapsed": true,
    "hidden": true
   },
   "source": [
    "#### IS曲線の導出"
   ]
  },
  {
   "cell_type": "markdown",
   "metadata": {
    "hidden": true
   },
   "source": [
    "ここでも45度線モデルを使い財市場の均衡で決定される所得$Y$を考えるが，投資は利子率$r$の非線形の減少関数と仮定する。この仮定により，利子率$r$を所与とした所得の均衡を考えることが可能となり，非線形の$IS$曲線をプロットすることができる。\n",
    "\n",
    "45度線モデルの投資$I$を次のように変更する。\n",
    "\n",
    "$$\n",
    "I = \\dfrac{j}{r^{b}}\n",
    "$$\n",
    "\n",
    "* $r=$ 実質利子率\n",
    "* $j=15$\n",
    "* $b=0.5$\n",
    "\n",
    "均衡式は次式で与えられる。\n",
    "\n",
    "$$\n",
    "0=Y-\\left( \\dfrac{j}{r^{b}}+G+C(Y) \\right)\\equiv h_1(Y)\n",
    "$$\n",
    "\n",
    "まず関数を再定義するが，$y$と$r$を引数とする。"
   ]
  },
  {
   "cell_type": "code",
   "execution_count": 30,
   "metadata": {
    "hidden": true
   },
   "outputs": [],
   "source": [
    "def h1(y,r):\n",
    "    \n",
    "    a = 0.8\n",
    "    b = 0.5\n",
    "    c = 0.7\n",
    "    d = 10\n",
    "    i = 15\n",
    "    j = 15\n",
    "    g = 10\n",
    "\n",
    "    return y - ( j/r**b + i + g + d + c*y**a )"
   ]
  },
  {
   "cell_type": "markdown",
   "metadata": {
    "hidden": true
   },
   "source": [
    "$r$の複数の値を設定する。"
   ]
  },
  {
   "cell_type": "code",
   "execution_count": 31,
   "metadata": {
    "hidden": true
   },
   "outputs": [],
   "source": [
    "r_arr = np.linspace(0.01, 0.1, 100)"
   ]
  },
  {
   "cell_type": "markdown",
   "metadata": {
    "hidden": true
   },
   "source": [
    "次に`for`ループを使い、財市場での均衡が成立する`r`と`Y`の組み合わせを計算する。"
   ]
  },
  {
   "cell_type": "code",
   "execution_count": 32,
   "metadata": {
    "hidden": true
   },
   "outputs": [],
   "source": [
    "y_list = []\n",
    "\n",
    "for r in r_arr:\n",
    "    y = op.newton(h1, 30, args=(r,))    # 1\n",
    "    y_list.append(y)\n",
    "\n",
    "df2 = pd.DataFrame({'Y':y_list, 'r':r_arr})"
   ]
  },
  {
   "cell_type": "markdown",
   "metadata": {
    "hidden": true
   },
   "source": [
    "```{admonition} コードの説明\n",
    ":class: dropdown\n",
    "\n",
    "1. 関数`h1(y,r)`には`y`と`r`の２つの引数がある。一方、関数`newton()`では`h1()`の第一引数の値を計算することを想定しており，「その他の引数」は`args`で指定する必要がある。この機能を利用することにより、`r`を所与として`h1(y,r)=0`となる`y`の値を計算することが可能となる。`args`を指定する際、タプル`()`で「その他の引数」を指定し、それが１つの場合は`(r,)`のように`,`を付け加える必要がある（基本的にタプルは`,`で定義されるため）。\n",
    "```"
   ]
  },
  {
   "cell_type": "code",
   "execution_count": 33,
   "metadata": {
    "hidden": true
   },
   "outputs": [
    {
     "data": {
      "image/png": "[encoded data removed]",
      "text/plain": [
       "<Figure size 432x288 with 1 Axes>"
      ]
     },
     "metadata": {
      "filenames": {
       "image/png": "/Users/tetsu/Documents/My_Simulation/Python/JupyterBooks/py4macro.github.io/_build/jupyter_execute/ScipyOptimize_86_0.png"
      },
      "needs_background": "light"
     },
     "output_type": "display_data"
    }
   ],
   "source": [
    "df2.plot('Y','r')\n",
    "pass"
   ]
  },
  {
   "cell_type": "markdown",
   "metadata": {
    "heading_collapsed": true,
    "hidden": true
   },
   "source": [
    "#### ソロー・モデル"
   ]
  },
  {
   "cell_type": "markdown",
   "metadata": {
    "hidden": true
   },
   "source": [
    "モデルの簡単な説明は[「ソロー・モデル」の章](chap:9-solow)を参照してほしい。\n",
    "\n",
    "* 産出量：$y_t$\n",
    "* 資本ストック：$k_t$\n",
    "* 労働：$l_t=1$（労働人口増加率は`0`）\n",
    "* 貯蓄率：$0<s<1$\n",
    "* 資本減耗率：$0<d<1$\n",
    "* 生産性：$A>0$\n",
    "* 生産関数：$y_t=Ak_t^a$\n",
    "* 資本の蓄積方程式：\n",
    "    \n",
    "    $$\n",
    "    k_{t+1} = sAk_t^a + (1-d)k_t\n",
    "    $$\n",
    "    \n",
    "* 定常状態での$k_t$：$k_*$\n",
    "    \n",
    "    $$\n",
    "    0 = sAk_*^a + (1-d)k_* - k_* \\equiv m(k_*)\n",
    "    $$\n",
    "    \n",
    "パラメターを次の値とする"
   ]
  },
  {
   "cell_type": "code",
   "execution_count": 34,
   "metadata": {
    "hidden": true
   },
   "outputs": [],
   "source": [
    "s = 0.2\n",
    "a = 0.3\n",
    "d = 0.1\n",
    "A = 10"
   ]
  },
  {
   "cell_type": "markdown",
   "metadata": {
    "hidden": true
   },
   "source": [
    "$k$の定常状態$k_*$は次式で定義される。\n",
    "\n",
    "$$\n",
    "0 = sAk_*^a + (1-d)k_* - k_{*}\n",
    "$$ (eq:scipy-kss)\n",
    "\n",
    "この方程式の解を求めるが，関数`kss()`を定義しよう。"
   ]
  },
  {
   "cell_type": "code",
   "execution_count": 35,
   "metadata": {
    "hidden": true
   },
   "outputs": [],
   "source": [
    "def kss(k):\n",
    "    return s*A*k**a + (1-d)*k - k"
   ]
  },
  {
   "cell_type": "markdown",
   "metadata": {
    "hidden": true
   },
   "source": [
    "まず式[](eq:scipy-kss)をプロットするが，そのために$k$の値を設定しよう。"
   ]
  },
  {
   "cell_type": "code",
   "execution_count": 36,
   "metadata": {
    "hidden": true
   },
   "outputs": [],
   "source": [
    "k_arr = np.linspace(0,100, 1000)"
   ]
  },
  {
   "cell_type": "markdown",
   "metadata": {
    "hidden": true
   },
   "source": [
    "`for`ループで`kss(k_*)`を計算し、結果を`DataFrame`に格納する。"
   ]
  },
  {
   "cell_type": "code",
   "execution_count": 37,
   "metadata": {
    "hidden": true
   },
   "outputs": [],
   "source": [
    "k_list = []\n",
    "\n",
    "for k in k_arr:\n",
    "    k_list.append(kss(k))\n",
    "\n",
    "df3 = pd.DataFrame({'k':k_arr, 'kss(k)':k_list})"
   ]
  },
  {
   "cell_type": "code",
   "execution_count": 38,
   "metadata": {
    "hidden": true
   },
   "outputs": [
    {
     "data": {
      "image/png": "[encoded data removed]",
      "text/plain": [
       "<Figure size 432x288 with 1 Axes>"
      ]
     },
     "metadata": {
      "filenames": {
       "image/png": "/Users/tetsu/Documents/My_Simulation/Python/JupyterBooks/py4macro.github.io/_build/jupyter_execute/ScipyOptimize_96_0.png"
      },
      "needs_background": "light"
     },
     "output_type": "display_data"
    }
   ],
   "source": [
    "ax_ = df3.plot('k', 'kss(k)')\n",
    "ax_.axhline(0, c='red')\n",
    "pass"
   ]
  },
  {
   "cell_type": "markdown",
   "metadata": {
    "hidden": true
   },
   "source": [
    "`scipy.optimize`を使い定常状態$k_*$を計算してみよう。\n",
    "\n",
    "＜Bisection法＞"
   ]
  },
  {
   "cell_type": "code",
   "execution_count": 39,
   "metadata": {
    "hidden": true
   },
   "outputs": [
    {
     "data": {
      "text/plain": [
       "72.21281575281978"
      ]
     },
     "execution_count": 39,
     "metadata": {},
     "output_type": "execute_result"
    }
   ],
   "source": [
    "op.bisect(kss, 60, 100)"
   ]
  },
  {
   "cell_type": "markdown",
   "metadata": {
    "hidden": true
   },
   "source": [
    "＜Brent法＞"
   ]
  },
  {
   "cell_type": "code",
   "execution_count": 40,
   "metadata": {
    "hidden": true
   },
   "outputs": [
    {
     "data": {
      "text/plain": [
       "72.21281575282009"
      ]
     },
     "execution_count": 40,
     "metadata": {},
     "output_type": "execute_result"
    }
   ],
   "source": [
    "op.brentq(kss, 60, 100)"
   ]
  },
  {
   "cell_type": "markdown",
   "metadata": {
    "hidden": true
   },
   "source": [
    "＜Newton法＞"
   ]
  },
  {
   "cell_type": "code",
   "execution_count": 41,
   "metadata": {
    "hidden": true,
    "scrolled": true
   },
   "outputs": [
    {
     "data": {
      "text/plain": [
       "72.21281575281984"
      ]
     },
     "execution_count": 41,
     "metadata": {},
     "output_type": "execute_result"
    }
   ],
   "source": [
    "op.newton(kss, 60)"
   ]
  },
  {
   "cell_type": "markdown",
   "metadata": {
    "heading_collapsed": true,
    "hidden": true
   },
   "source": [
    "#### 投資"
   ]
  },
  {
   "cell_type": "markdown",
   "metadata": {
    "hidden": true
   },
   "source": [
    "企業の投資問題を考える。初期投資`fc`を投入すると$T$期間$\\pi$の利潤を得るとする。実質利子率は$r$とすると$T$期間の利潤の現在価値の合計は次のようになる。\n",
    "\n",
    "$$\n",
    "\\int_0^{T}e^{-rt}\\pi dt=\\frac{\\pi}{r}\\left(1-e^{-Tr}\\right)\n",
    "$$\n",
    "\n",
    "パラメータは次の値としよう"
   ]
  },
  {
   "cell_type": "code",
   "execution_count": 42,
   "metadata": {
    "hidden": true
   },
   "outputs": [],
   "source": [
    "r = 0.07\n",
    "pi = 10\n",
    "fc = 100"
   ]
  },
  {
   "cell_type": "markdown",
   "metadata": {
    "hidden": true
   },
   "source": [
    "問題：\n",
    ">「投資の正味現在価値（net present value）がゼロになるにはどれだけ長く事業が続く必要があるか？」"
   ]
  },
  {
   "cell_type": "markdown",
   "metadata": {
    "hidden": true
   },
   "source": [
    "利潤の正味現在価値は\n",
    "\n",
    "$$\n",
    "\\frac{\\pi}{r}\\left(1-e^{-Tr}\\right)-fc\n",
    "$$\n",
    "\n",
    "で与えられる。この式を捉える関数を作成しよう。"
   ]
  },
  {
   "cell_type": "code",
   "execution_count": 43,
   "metadata": {
    "hidden": true
   },
   "outputs": [],
   "source": [
    "def npv(x):\n",
    "    return (1-np.exp(-x*r))*pi/r - fc"
   ]
  },
  {
   "cell_type": "markdown",
   "metadata": {
    "hidden": true
   },
   "source": [
    "Newton法を使い`npv()`がゼロになる$T$を計算する。"
   ]
  },
  {
   "cell_type": "code",
   "execution_count": 44,
   "metadata": {
    "hidden": true
   },
   "outputs": [
    {
     "data": {
      "text/plain": [
       "17.19961149037052"
      ]
     },
     "execution_count": 44,
     "metadata": {},
     "output_type": "execute_result"
    }
   ],
   "source": [
    "op.newton(npv,10)"
   ]
  },
  {
   "cell_type": "markdown",
   "metadata": {
    "heading_collapsed": true
   },
   "source": [
    "## 最適化問題：１変数の場合"
   ]
  },
  {
   "cell_type": "markdown",
   "metadata": {
    "heading_collapsed": true,
    "hidden": true
   },
   "source": [
    "### 説明"
   ]
  },
  {
   "cell_type": "markdown",
   "metadata": {
    "hidden": true
   },
   "source": [
    "最適化問題は経済学の根幹をなすが、ここでは`scipy.optimize`の`minimize_scalar`関数の使い方を簡単に説明する。様々な引数が用意されているが、基本的には次のようなコードの書き方となる。\n",
    "\n",
    "1. デフォルトではBrent法が使われる。\n",
    "    ```\n",
    "    minimize_scalar(f, bracket=(a,b))\n",
    "    ```\n",
    "    * `f`は最小化したい関数名\n",
    "    * `bracket`は計算の初期値を指定する引数であり、省略可能。初期値を設定する場合は２つ必要である。関数を最小化すると思われる`x`に対して必ずしも`a<x<b`が満たされるように`a`と`b`の値を設定する必要はなく、下で定義する`f_ex2`の例が示すように、必ずしも区間内に解があるとは限らない。\n",
    "1. Bounded法を使う場合\n",
    "    ```\n",
    "    minimize_scalar(f, method='bounded', bounds=(a,b))\n",
    "    ```\n",
    "    * `f`：最小化したい関数名\n",
    "    * `method`：計算手法を指定する引数であり、`bounded`を指定する（デフォルトは`brent`）。\n",
    "    * `bounds`は関数を最大化する`x`の値を探す区間を指定する引数であり、`a`は区間の最小値、`b`は区間の最大値（裏でBrent法が使われており、関数を最小化する`x`の探索は`bounds`で指定した区間に限られる）\n",
    "\n",
    "＜２つの注意点＞\n",
    "1. 返り値は、関数を最小化する変数の値だけではなく、様々な情報が整理されたオブジェクトとして返される。\n",
    "1. 最大化のための関数は用意されていない。従って、最大化したい関数にマイナスの符号をつけて`minimize_scalar()`関数を評価する必要がある。"
   ]
  },
  {
   "cell_type": "markdown",
   "metadata": {
    "heading_collapsed": true,
    "hidden": true
   },
   "source": [
    "### 例１"
   ]
  },
  {
   "cell_type": "markdown",
   "metadata": {
    "hidden": true
   },
   "source": [
    "`f_ex1`関数を例として考えよう。最小化される`x`を計算する。"
   ]
  },
  {
   "cell_type": "code",
   "execution_count": 45,
   "metadata": {
    "hidden": true
   },
   "outputs": [
    {
     "data": {
      "text/plain": [
       "     fun: -2.0\n",
       "    nfev: 40\n",
       "     nit: 36\n",
       " success: True\n",
       "       x: 9.803862664247969e-09"
      ]
     },
     "execution_count": 45,
     "metadata": {},
     "output_type": "execute_result"
    }
   ],
   "source": [
    "res1 = op.minimize_scalar(f_ex1)\n",
    "res1"
   ]
  },
  {
   "cell_type": "markdown",
   "metadata": {
    "hidden": true
   },
   "source": [
    "この返り値の中で重要なのは次の３つである。\n",
    "* `fun`（１行目）：最小化された場合の関数の値\n",
    "* `success`（最後から２行目）：計算が成功したかどうかを示す。\n",
    "    * `True`：成功\n",
    "    * `False`：失敗\n",
    "* `x`（最後）：関数を最小化する変数の値\n",
    "\n",
    "それぞれは次のように属性としてアクセスできる。"
   ]
  },
  {
   "cell_type": "code",
   "execution_count": 46,
   "metadata": {
    "hidden": true
   },
   "outputs": [
    {
     "data": {
      "text/plain": [
       "-2.0"
      ]
     },
     "execution_count": 46,
     "metadata": {},
     "output_type": "execute_result"
    }
   ],
   "source": [
    "res1.fun"
   ]
  },
  {
   "cell_type": "code",
   "execution_count": 47,
   "metadata": {
    "hidden": true
   },
   "outputs": [
    {
     "data": {
      "text/plain": [
       "True"
      ]
     },
     "execution_count": 47,
     "metadata": {},
     "output_type": "execute_result"
    }
   ],
   "source": [
    "res1.success"
   ]
  },
  {
   "cell_type": "code",
   "execution_count": 48,
   "metadata": {
    "hidden": true
   },
   "outputs": [
    {
     "data": {
      "text/plain": [
       "9.803862664247969e-09"
      ]
     },
     "execution_count": 48,
     "metadata": {},
     "output_type": "execute_result"
    }
   ],
   "source": [
    "res1.x"
   ]
  },
  {
   "cell_type": "markdown",
   "metadata": {
    "heading_collapsed": true,
    "hidden": true
   },
   "source": [
    "### 例２"
   ]
  },
  {
   "cell_type": "markdown",
   "metadata": {
    "hidden": true
   },
   "source": [
    "次に最小値が複数ある場合を考えよう。"
   ]
  },
  {
   "cell_type": "code",
   "execution_count": 49,
   "metadata": {
    "hidden": true
   },
   "outputs": [],
   "source": [
    "def f_ex2(x):\n",
    "    return x**4 - x**2"
   ]
  },
  {
   "cell_type": "markdown",
   "metadata": {
    "hidden": true
   },
   "source": [
    "まずこの関数を図示しよう。"
   ]
  },
  {
   "cell_type": "code",
   "execution_count": 50,
   "metadata": {
    "hidden": true
   },
   "outputs": [
    {
     "data": {
      "image/png": "[encoded data removed]",
      "text/plain": [
       "<Figure size 432x288 with 1 Axes>"
      ]
     },
     "metadata": {
      "filenames": {
       "image/png": "/Users/tetsu/Documents/My_Simulation/Python/JupyterBooks/py4macro.github.io/_build/jupyter_execute/ScipyOptimize_125_0.png"
      },
      "needs_background": "light"
     },
     "output_type": "display_data"
    }
   ],
   "source": [
    "xx = np.linspace(-1.1, 1.1, 100)\n",
    "df_ex2 = pd.DataFrame({'X':xx, 'f_ex2':f_ex2(xx)})\n",
    "ax_ = df_ex2.plot('X','f_ex2')\n",
    "ax_.axhline(0,c='red')\n",
    "pass"
   ]
  },
  {
   "cell_type": "markdown",
   "metadata": {
    "hidden": true
   },
   "source": [
    "まず`method`のデフォルトである`brent`法を使ってみよう。解が２つあるため、次のコードでは`Python`が選んだ解しか求めることができない。"
   ]
  },
  {
   "cell_type": "code",
   "execution_count": 51,
   "metadata": {
    "hidden": true
   },
   "outputs": [
    {
     "data": {
      "text/plain": [
       "     fun: -0.24999999999999994\n",
       "    nfev: 15\n",
       "     nit: 11\n",
       " success: True\n",
       "       x: 0.7071067853059209"
      ]
     },
     "execution_count": 51,
     "metadata": {},
     "output_type": "execute_result"
    }
   ],
   "source": [
    "res2 = op.minimize_scalar(f_ex2)\n",
    "res2"
   ]
  },
  {
   "cell_type": "markdown",
   "metadata": {
    "hidden": true
   },
   "source": [
    "次に引数`bracket`を使ってみよう。"
   ]
  },
  {
   "cell_type": "code",
   "execution_count": 52,
   "metadata": {
    "hidden": true
   },
   "outputs": [
    {
     "data": {
      "text/plain": [
       "     fun: -0.24999999999999994\n",
       "    nfev: 16\n",
       "     nit: 12\n",
       " success: True\n",
       "       x: -0.7071067842613271"
      ]
     },
     "execution_count": 52,
     "metadata": {},
     "output_type": "execute_result"
    }
   ],
   "source": [
    "res3 = op.minimize_scalar(f_ex2, bracket=(-1,-0.5))\n",
    "res3"
   ]
  },
  {
   "cell_type": "markdown",
   "metadata": {
    "hidden": true
   },
   "source": [
    "しかし次の２つ例は`bracket`内に必ず解が存在するとは限らないことを示している。"
   ]
  },
  {
   "cell_type": "code",
   "execution_count": 53,
   "metadata": {
    "hidden": true
   },
   "outputs": [
    {
     "data": {
      "text/plain": [
       "     fun: -0.25\n",
       "    nfev: 14\n",
       "     nit: 10\n",
       " success: True\n",
       "       x: -0.7071067804088556"
      ]
     },
     "execution_count": 53,
     "metadata": {},
     "output_type": "execute_result"
    }
   ],
   "source": [
    "res3 = op.minimize_scalar(f_ex2, bracket=(-1,-0.8))\n",
    "res3"
   ]
  },
  {
   "cell_type": "code",
   "execution_count": 54,
   "metadata": {
    "hidden": true
   },
   "outputs": [
    {
     "data": {
      "text/plain": [
       "     fun: -0.25\n",
       "    nfev: 16\n",
       "     nit: 12\n",
       " success: True\n",
       "       x: 0.7071067805303989"
      ]
     },
     "execution_count": 54,
     "metadata": {},
     "output_type": "execute_result"
    }
   ],
   "source": [
    "res3 = op.minimize_scalar(f_ex2, bracket=(-1,-0.1))\n",
    "res3"
   ]
  },
  {
   "cell_type": "markdown",
   "metadata": {
    "hidden": true
   },
   "source": [
    "「ん？」と思うかもしれないが、`brent`のアルゴリズムがそのようになっているので、その性質を覚えるしかない。\n",
    "\n",
    "一方、`method='bounded'`を使うと、`bounds`で指定された区間の解が探索される。"
   ]
  },
  {
   "cell_type": "code",
   "execution_count": 55,
   "metadata": {
    "hidden": true
   },
   "outputs": [
    {
     "data": {
      "text/plain": [
       "     fun: -0.24999999999998732\n",
       " message: 'Solution found.'\n",
       "    nfev: 10\n",
       "  status: 0\n",
       " success: True\n",
       "       x: -0.707106701474177"
      ]
     },
     "execution_count": 55,
     "metadata": {},
     "output_type": "execute_result"
    }
   ],
   "source": [
    "res4 = op.minimize_scalar(f_ex2, method='bounded', bounds=(-1,0))\n",
    "res4"
   ]
  },
  {
   "cell_type": "markdown",
   "metadata": {
    "heading_collapsed": true,
    "hidden": true
   },
   "source": [
    "### ソロー・モデル：黄金律"
   ]
  },
  {
   "cell_type": "markdown",
   "metadata": {
    "hidden": true
   },
   "source": [
    "資本の黄金律水準とは、長期均衡において一人当たり消費を最大化する資本ストックであり、貯蓄率$s$に依存している。それを示すために、まず定常状態の資本ストック$k_*$をパラメータで示すが，次式は式[](eq:scipy-kss)から導出できる。\n",
    "\n",
    "$$\n",
    "k_*=\\left(\n",
    "        \\frac{As}{d}\n",
    "    \\right)^{\\frac{1}{1-a}}\n",
    "$$\n",
    "\n",
    "更に、定常状態での一人当たりGDPと消費は次式で与えられる。\n",
    "\n",
    "$$\n",
    "y_*=Ak_*^{a}\n",
    "\\quad\n",
    "c_*=(1-s)y_*\n",
    "$$\n",
    "\n",
    "これらを使うと、一人当たり消費を貯蓄率の関数として表すことができる。\n",
    "\n",
    "$$\n",
    "c=(1-s)A\\left(\\frac{As}{d}\\right)^{\\frac{a}{1-a}}\n",
    "$$\n",
    "\n",
    "関数として定義し図示してみよう。"
   ]
  },
  {
   "cell_type": "code",
   "execution_count": 56,
   "metadata": {
    "hidden": true
   },
   "outputs": [
    {
     "data": {
      "image/png": "[encoded data removed]",
      "text/plain": [
       "<Figure size 432x288 with 1 Axes>"
      ]
     },
     "metadata": {
      "filenames": {
       "image/png": "/Users/tetsu/Documents/My_Simulation/Python/JupyterBooks/py4macro.github.io/_build/jupyter_execute/ScipyOptimize_137_0.png"
      },
      "needs_background": "light"
     },
     "output_type": "display_data"
    }
   ],
   "source": [
    "# sの値\n",
    "s_arr = np.linspace(0,1,100)\n",
    "\n",
    "# 消費関数\n",
    "def c(s):\n",
    "    return (1-s)*A*(A*s/d)**(a/(1-a))\n",
    "\n",
    "# 消費の値を入れるリスト\n",
    "c_list = []\n",
    "\n",
    "# 消費の計算\n",
    "for s in s_arr:\n",
    "    c_list.append(c(s))\n",
    "\n",
    "# DataFrameの作成\n",
    "df4 = pd.DataFrame({'s':s_arr, 'c(s)':c_list})\n",
    "\n",
    "# プロット\n",
    "df4.plot('s','c(s)')\n",
    "pass"
   ]
  },
  {
   "cell_type": "markdown",
   "metadata": {
    "hidden": true
   },
   "source": [
    "次に一人当たり消費を最大化する貯蓄率を求めるために関数を定義する。"
   ]
  },
  {
   "cell_type": "code",
   "execution_count": 57,
   "metadata": {
    "hidden": true
   },
   "outputs": [],
   "source": [
    "def c_minus(s):\n",
    "    return -(1-s)*A*(A*s/d)**(a/(1-a))"
   ]
  },
  {
   "cell_type": "markdown",
   "metadata": {
    "hidden": true
   },
   "source": [
    "最大化するためにマイナスの符号が追加されていることに留意しよう。"
   ]
  },
  {
   "cell_type": "markdown",
   "metadata": {
    "hidden": true
   },
   "source": [
    "デフォルトのBrent法を使い消費を最大化する貯蓄率$s$を求める。"
   ]
  },
  {
   "cell_type": "code",
   "execution_count": 58,
   "metadata": {
    "hidden": true
   },
   "outputs": [
    {
     "data": {
      "text/plain": [
       "     fun: -30.071147877019232\n",
       "    nfev: 17\n",
       "     nit: 13\n",
       " success: True\n",
       "       x: 0.30000000024161544"
      ]
     },
     "execution_count": 58,
     "metadata": {},
     "output_type": "execute_result"
    }
   ],
   "source": [
    "op.minimize_scalar(c_minus)"
   ]
  },
  {
   "cell_type": "markdown",
   "metadata": {
    "hidden": true
   },
   "source": [
    "Bounded法でも同じ解が求められる。"
   ]
  },
  {
   "cell_type": "code",
   "execution_count": 59,
   "metadata": {
    "hidden": true
   },
   "outputs": [
    {
     "data": {
      "text/plain": [
       "     fun: -30.071147877017722\n",
       " message: 'Solution found.'\n",
       "    nfev: 9\n",
       "  status: 0\n",
       " success: True\n",
       "       x: 0.2999998786598638"
      ]
     },
     "execution_count": 59,
     "metadata": {},
     "output_type": "execute_result"
    }
   ],
   "source": [
    "op.minimize_scalar(c_minus, method='bounded', bounds=(0, 1))"
   ]
  },
  {
   "cell_type": "markdown",
   "metadata": {
    "heading_collapsed": true,
    "hidden": true
   },
   "source": [
    "### 労働供給問題"
   ]
  },
  {
   "cell_type": "markdown",
   "metadata": {
    "hidden": true
   },
   "source": [
    "ミクロ経済学で学ぶ消費者の労働供給問題を考えよう。消費者は消費財と余暇の２財を消費し，効用を最大化する消費財と余暇を選択すると考える。\n",
    "\n",
    "変数の定義：\n",
    "* $u$：効用\n",
    "* $c$：消費\n",
    "* $l$：労働供給（24時間のパーセント）\n",
    "* $p$：消費財の価格\n",
    "* $w$：賃金\n",
    "* $1$：24時間を100%として。\n",
    "* $1-l$：余暇\n",
    "\n",
    "* 効用関数：\n",
    "    \n",
    "    $$u=a\\ln(c)+(1-a)\\ln(1-l)$$\n",
    "    \n",
    "* 制約式：\n",
    "\n",
    "    $$pc=wl$$ (eq:scipy-pcwl)\n",
    "\n",
    "制約式のもとで消費者は$c$と$l$を選択し効用を最大化する。\n",
    "\n",
    "＜解法＞\n",
    "* 制約式を効用関数に代入する\n",
    "\n",
    "    $$\\max_{l}\\;a\\ln\\left(\\frac{wl}{p}\\right)+(1-a)\\ln(1-l)$$\n",
    "\n",
    "  これにより効用は$l$の関数になり，`.minimize_scalar()`が使える形になっている。\n",
    "\n",
    "次の値を仮定する。"
   ]
  },
  {
   "cell_type": "code",
   "execution_count": 60,
   "metadata": {
    "hidden": true
   },
   "outputs": [],
   "source": [
    "a = 0.6\n",
    "p = 1\n",
    "w = 10"
   ]
  },
  {
   "cell_type": "markdown",
   "metadata": {
    "hidden": true
   },
   "source": [
    "目的関数（最大化する対象となる関数）を定義する。"
   ]
  },
  {
   "cell_type": "code",
   "execution_count": 61,
   "metadata": {
    "hidden": true
   },
   "outputs": [],
   "source": [
    "def u_minus(l):\n",
    "    return -( a*np.log(w*l/p)+(1-a)*np.log(1-l) )"
   ]
  },
  {
   "cell_type": "markdown",
   "metadata": {
    "hidden": true
   },
   "source": [
    "効用を最大化する。"
   ]
  },
  {
   "cell_type": "code",
   "execution_count": 62,
   "metadata": {
    "hidden": true
   },
   "outputs": [
    {
     "data": {
      "text/plain": [
       "     fun: -0.7085393887825051\n",
       " message: 'Solution found.'\n",
       "    nfev: 9\n",
       "  status: 0\n",
       " success: True\n",
       "       x: 0.5999985035112788"
      ]
     },
     "execution_count": 62,
     "metadata": {},
     "output_type": "execute_result"
    }
   ],
   "source": [
    "res_u = op.minimize_scalar(u_minus, method='bounded', bounds=(0,1))\n",
    "res_u"
   ]
  },
  {
   "cell_type": "code",
   "execution_count": 63,
   "metadata": {
    "hidden": true
   },
   "outputs": [
    {
     "name": "stdout",
     "output_type": "stream",
     "text": [
      "最適な労働供給は0.60である。\n"
     ]
    }
   ],
   "source": [
    "print(f'最適な労働供給は{res_u.x:.2f}である。')"
   ]
  },
  {
   "cell_type": "markdown",
   "metadata": {
    "hidden": true
   },
   "source": [
    "予算制約式から消費量は\n",
    "\n",
    "$$\n",
    "c=\\frac{wl}{p}\n",
    "$$ (eq:scipy-c)\n",
    "\n",
    "となるので，"
   ]
  },
  {
   "cell_type": "code",
   "execution_count": 64,
   "metadata": {
    "hidden": true
   },
   "outputs": [
    {
     "name": "stdout",
     "output_type": "stream",
     "text": [
      "最適な消費量は6.00である。\n"
     ]
    }
   ],
   "source": [
    "print(f'最適な消費量は{res_u.x*w/p:.2f}である。')"
   ]
  },
  {
   "cell_type": "code",
   "execution_count": 65,
   "metadata": {
    "hidden": true
   },
   "outputs": [
    {
     "name": "stdout",
     "output_type": "stream",
     "text": [
      "最大化された効用水準は0.71である。\n"
     ]
    }
   ],
   "source": [
    "print(f'最大化された効用水準は{-res_u.fun:.2f}である。')"
   ]
  },
  {
   "cell_type": "markdown",
   "metadata": {
    "hidden": true
   },
   "source": [
    "結果を図示するために、効用関数を$c$で解くと次式となる。\n",
    "\n",
    "$$\n",
    "c=\n",
    "\\left(\n",
    "    \\frac{e^u}{(1-l)^{1-a}}\n",
    "\\right)^{\\frac{1}{a}}\n",
    "$$ (eq:scipy-cc)\n",
    "\n",
    "この関数を捉える関数を作成しよう。"
   ]
  },
  {
   "cell_type": "code",
   "execution_count": 66,
   "metadata": {
    "hidden": true
   },
   "outputs": [],
   "source": [
    "def c_utility(l):\n",
    "    return ( np.exp(-res_u.fun)/(1-l)**(1-a) )**(1/a)"
   ]
  },
  {
   "cell_type": "markdown",
   "metadata": {
    "hidden": true
   },
   "source": [
    "プロットするために図の横軸になる労働供給$l$の値を生成する。"
   ]
  },
  {
   "cell_type": "code",
   "execution_count": 67,
   "metadata": {
    "hidden": true
   },
   "outputs": [],
   "source": [
    "l_arr = np.linspace(0,0.999,100)"
   ]
  },
  {
   "cell_type": "markdown",
   "metadata": {
    "hidden": true
   },
   "source": [
    "（注意）次のコードで$l=1$になると警告が出てしまう。理由は式[](eq:scipy-cc)の右辺の分母がゼロになるためである。それを避けるために，`0`から`0.999`の間の値を100個生成している。"
   ]
  },
  {
   "cell_type": "markdown",
   "metadata": {
    "hidden": true
   },
   "source": [
    "これらを使い、無差別曲線の値を計算する。この際、`res_u.fun`を利用する（マイナスになることに注意しよう）。"
   ]
  },
  {
   "cell_type": "code",
   "execution_count": 68,
   "metadata": {
    "hidden": true
   },
   "outputs": [],
   "source": [
    "c_utility_list = []\n",
    "\n",
    "for l in l_arr:\n",
    "    c_utility_list.append(c_utility(l))"
   ]
  },
  {
   "cell_type": "markdown",
   "metadata": {
    "hidden": true
   },
   "source": [
    "次に制約線の値を生成する。"
   ]
  },
  {
   "cell_type": "code",
   "execution_count": 69,
   "metadata": {
    "hidden": true
   },
   "outputs": [],
   "source": [
    "c_constraint_list = []\n",
    "\n",
    "for l in l_arr:\n",
    "    c_constraint_list.append(w*l/p)"
   ]
  },
  {
   "cell_type": "markdown",
   "metadata": {
    "hidden": true
   },
   "source": [
    "ここで式[](eq:scipy-c)を使っている。\n",
    "\n",
    "値を`DataFrame`にまとめる。"
   ]
  },
  {
   "cell_type": "code",
   "execution_count": 70,
   "metadata": {
    "hidden": true
   },
   "outputs": [],
   "source": [
    "df_5 = pd.DataFrame({'l':l_arr,\n",
    "                     'c_utility':c_utility_list,\n",
    "                     'c_constraint':c_constraint_list})"
   ]
  },
  {
   "cell_type": "markdown",
   "metadata": {
    "hidden": true
   },
   "source": [
    "`df_5`を使いプロットする。"
   ]
  },
  {
   "cell_type": "code",
   "execution_count": 71,
   "metadata": {
    "hidden": true
   },
   "outputs": [
    {
     "data": {
      "image/png": "[encoded data removed]",
      "text/plain": [
       "<Figure size 432x288 with 1 Axes>"
      ]
     },
     "metadata": {
      "filenames": {
       "image/png": "/Users/tetsu/Documents/My_Simulation/Python/JupyterBooks/py4macro.github.io/_build/jupyter_execute/ScipyOptimize_168_0.png"
      },
      "needs_background": "light"
     },
     "output_type": "display_data"
    }
   ],
   "source": [
    "ax_ = df_5.plot('l','c_utility')       # 1\n",
    "df_5.plot('l','c_constraint', ax=ax_)  # 2\n",
    "ax_.set_ylim([0,20])                   # 3\n",
    "pass"
   ]
  },
  {
   "cell_type": "markdown",
   "metadata": {
    "hidden": true
   },
   "source": [
    "```{admonition} コードの説明\n",
    ":class: dropdown\n",
    "\n",
    "1. プロットの軸を`ax_`に割り当てている。\n",
    "2. 制約式のずを同じ軸に表示するために引数`ax=ax_`を使い、軸を`ax_`に指定している。\n",
    "3. `set_ylim()`は軸`ax_`のメソッドであり、縦軸の表示範囲を指定する。\n",
    "```"
   ]
  },
  {
   "cell_type": "markdown",
   "metadata": {
    "heading_collapsed": true
   },
   "source": [
    "## 最適化問題：２変数の場合"
   ]
  },
  {
   "cell_type": "markdown",
   "metadata": {
    "heading_collapsed": true,
    "hidden": true
   },
   "source": [
    "### 説明"
   ]
  },
  {
   "cell_type": "markdown",
   "metadata": {
    "hidden": true
   },
   "source": [
    "２変数の場合は`minimize`関数を使う。様々な引数が用意されているが、基本的には次のようなコードの書き方となる。\n",
    "\n",
    "```\n",
    "minimize(f, x0, bounds=(a,b), constraints)\n",
    "```\n",
    "* `f`は最小化したい関数名\n",
    "    * `f(x)`のように引数は`x`１つで書く必要があり、`x`を`array`と理解すれば良いだろう（例を参照）。\n",
    "* `bounds`（指定しなくても良い）は関数を最大化する`x`の値を探す区間を指定する引数である。\n",
    "    * `a`は区間の最小値、`b`は区間の最大値を指し、次のように設定する。\n",
    "        ```\n",
    "        [(変数１の最小値, 変数１の最大値), (変数２の最小値, 変数２の最大値)]\n",
    "        ```\n",
    "    * 指定しない箇所は`None`とする。例えば、非負の値に限定したい場合は`[(0,None),(0,None)]`とする。\n",
    "    * 裏でBrent法が使われており、関数を最小化する`x`の探索は`bounds`で指定した区間に限られる。\n",
    "* `constraints`（指定しなくても良い）は制約式。\n",
    "    * １つの制約式を１つの辞書として設定する。また制約式が複数ある場合は、それぞれに辞書を作成し、複数の辞書からなるリストもしくはタプルとして設定する。\n",
    "    * 詳細は例３と例４を参照\n",
    "\n",
    "＜２つの注意点＞\n",
    "1. 返り値は、関数を最小化るる変数の値だけではなく、様々な情報が整理されたオブジェクトとして返される。\n",
    "1. 最大化のための関数は用意されていない。従って、最大化した関数にマイナスの符号をつけて`minimize()`関数を評価する必要がある。"
   ]
  },
  {
   "cell_type": "markdown",
   "metadata": {
    "heading_collapsed": true,
    "hidden": true
   },
   "source": [
    "### 例１"
   ]
  },
  {
   "cell_type": "markdown",
   "metadata": {
    "hidden": true
   },
   "source": [
    "次の最小化問題を考えよう。\n",
    "\n",
    "$$\n",
    "\\min_{y,z}\\; y^2+2zy+z^2+10\n",
    "$$\n",
    "\n",
    "まず関数を定義するが、次の点に留意すること。\n",
    "* `f_ex3`の引数`x`を`array`として考える。\n",
    "* `x`の第0要素を`y`とし、第1要素を`z`とする。\n",
    "* 次のようなイメージ\n",
    "    ```\n",
    "    x = np.array(y,z)\n",
    "    ```"
   ]
  },
  {
   "cell_type": "code",
   "execution_count": 72,
   "metadata": {
    "hidden": true
   },
   "outputs": [],
   "source": [
    "def f_ex3(x):   # 1\n",
    "    y = x[0]    # 2\n",
    "    z = x[1]    # 3\n",
    "    return y**2 + y*z + z**2 + 10  # 4"
   ]
  },
  {
   "cell_type": "markdown",
   "metadata": {
    "hidden": true
   },
   "source": [
    "```{admonition} コードの説明\n",
    ":class: dropdown\n",
    "\n",
    "1. 関数`f_ex3`の引数`x`を`array`と想定する。\n",
    "2. `x`の第0要素を`y`に割り当てる。\n",
    "3. `x`の第1要素を`z`に割り当てる。\n",
    "4. 最大化する関数を返す。\n",
    "```"
   ]
  },
  {
   "cell_type": "markdown",
   "metadata": {
    "hidden": true
   },
   "source": [
    "次に解探索の初期値を設定しよう。"
   ]
  },
  {
   "cell_type": "code",
   "execution_count": 73,
   "metadata": {
    "hidden": true
   },
   "outputs": [],
   "source": [
    "x0 = [0.3, 0.5]"
   ]
  },
  {
   "cell_type": "markdown",
   "metadata": {
    "hidden": true
   },
   "source": [
    "`x0`の第0要素は`y`の初期値、第1要素は`z`の初期値となる。これは関数`f_ex3`の引数である`x`の要素の順番に対応している。"
   ]
  },
  {
   "cell_type": "code",
   "execution_count": 74,
   "metadata": {
    "hidden": true
   },
   "outputs": [
    {
     "data": {
      "text/plain": [
       "      fun: 10.000000000001792\n",
       " hess_inv: array([[ 0.66873401, -0.33559015],\n",
       "       [-0.33559015,  0.66913043]])\n",
       "      jac: array([-1.07288361e-06,  1.54972076e-06])\n",
       "  message: 'Optimization terminated successfully.'\n",
       "     nfev: 12\n",
       "      nit: 3\n",
       "     njev: 4\n",
       "   status: 0\n",
       "  success: True\n",
       "        x: array([-1.26041337e-06,  1.40562889e-06])"
      ]
     },
     "execution_count": 74,
     "metadata": {},
     "output_type": "execute_result"
    }
   ],
   "source": [
    "res3 = op.minimize(f_ex3, x0=x0)\n",
    "res3"
   ]
  },
  {
   "cell_type": "markdown",
   "metadata": {
    "hidden": true
   },
   "source": [
    "この返り値の中で重要なのは次の４つである。\n",
    "* `fun`（１行目）：最小化された場合の関数の値\n",
    "* `message`（５行目）:「最適化は成功した」というメッセージ\n",
    "* `success`（最後から２行目）：計算が成功したかどうかを示すブール値。\n",
    "    * `True`：計算成功\n",
    "    * `False`：計算失敗\n",
    "* `x`（最後）：関数を最小化する変数の値\n",
    "    * 第0要素は`y`の値、第1要素は`z`の値\n",
    "\n",
    "それぞれは次のように属性としてアクセスできる。"
   ]
  },
  {
   "cell_type": "code",
   "execution_count": 75,
   "metadata": {
    "hidden": true
   },
   "outputs": [
    {
     "data": {
      "text/plain": [
       "10.000000000001792"
      ]
     },
     "execution_count": 75,
     "metadata": {},
     "output_type": "execute_result"
    }
   ],
   "source": [
    "res3.fun"
   ]
  },
  {
   "cell_type": "code",
   "execution_count": 76,
   "metadata": {
    "hidden": true
   },
   "outputs": [
    {
     "data": {
      "text/plain": [
       "'Optimization terminated successfully.'"
      ]
     },
     "execution_count": 76,
     "metadata": {},
     "output_type": "execute_result"
    }
   ],
   "source": [
    "res3.message"
   ]
  },
  {
   "cell_type": "code",
   "execution_count": 77,
   "metadata": {
    "hidden": true
   },
   "outputs": [
    {
     "data": {
      "text/plain": [
       "True"
      ]
     },
     "execution_count": 77,
     "metadata": {},
     "output_type": "execute_result"
    }
   ],
   "source": [
    "res3.success"
   ]
  },
  {
   "cell_type": "code",
   "execution_count": 78,
   "metadata": {
    "hidden": true
   },
   "outputs": [
    {
     "data": {
      "text/plain": [
       "array([-1.26041337e-06,  1.40562889e-06])"
      ]
     },
     "execution_count": 78,
     "metadata": {},
     "output_type": "execute_result"
    }
   ],
   "source": [
    "res3.x"
   ]
  },
  {
   "cell_type": "markdown",
   "metadata": {
    "heading_collapsed": true,
    "hidden": true
   },
   "source": [
    "### 例２"
   ]
  },
  {
   "cell_type": "markdown",
   "metadata": {
    "hidden": true
   },
   "source": [
    "次の最大化問題を考えよう。\n",
    "\n",
    "$$\n",
    "\\max_{y,z}\\; -z^2-y^2+zy+z+y\n",
    "$$\n",
    "\n",
    "まず関数を定義するが，例１と同様に次の点に要注意。\n",
    "* `f_ex4`の引数`x`は`array`として考える。\n",
    "* `x`の第0要素を`y`とし、第1要素を`z`とする。\n",
    "* 次のようなイメージ\n",
    "    ```\n",
    "    x = np.array(y,z)\n",
    "    ```\n",
    "* 返り値にマイナスの符号が追加されている。"
   ]
  },
  {
   "cell_type": "code",
   "execution_count": 79,
   "metadata": {
    "hidden": true
   },
   "outputs": [],
   "source": [
    "def f_ex4(x):\n",
    "    y = x[0]\n",
    "    z = x[1]\n",
    "    return -( -z**2-y**2+z*y+z+y )"
   ]
  },
  {
   "cell_type": "markdown",
   "metadata": {
    "hidden": true
   },
   "source": [
    "次に解探索の初期値を設定する。"
   ]
  },
  {
   "cell_type": "code",
   "execution_count": 80,
   "metadata": {
    "hidden": true
   },
   "outputs": [],
   "source": [
    "x0 = [0.5, 0.5]"
   ]
  },
  {
   "cell_type": "markdown",
   "metadata": {
    "hidden": true
   },
   "source": [
    "解探索の初期値として`[0.5, 0.5]`を設定し計算する。"
   ]
  },
  {
   "cell_type": "code",
   "execution_count": 81,
   "metadata": {
    "hidden": true
   },
   "outputs": [
    {
     "data": {
      "text/plain": [
       "      fun: -0.9999999999999998\n",
       " hess_inv: array([[1, 0],\n",
       "       [0, 1]])\n",
       "      jac: array([0., 0.])\n",
       "  message: 'Optimization terminated successfully.'\n",
       "     nfev: 6\n",
       "      nit: 1\n",
       "     njev: 2\n",
       "   status: 0\n",
       "  success: True\n",
       "        x: array([0.99999999, 0.99999999])"
      ]
     },
     "execution_count": 81,
     "metadata": {},
     "output_type": "execute_result"
    }
   ],
   "source": [
    "res4 = op.minimize(f_ex4, x0=[0.5, 0.5])\n",
    "res4"
   ]
  },
  {
   "cell_type": "markdown",
   "metadata": {
    "heading_collapsed": true,
    "hidden": true
   },
   "source": [
    "### 例３"
   ]
  },
  {
   "cell_type": "markdown",
   "metadata": {
    "hidden": true
   },
   "source": [
    "ここでは制約付き最大化問題を考える。次の制約のもとで例２の`f_ex4`を最大化するとしよう。\n",
    "\n",
    "$$\n",
    "y+z=1\n",
    "$$\n",
    "\n",
    "制約式の導入を４つのステップに分けて説明する。\n",
    "\n",
    "**＜ステップ１＞**<br>\n",
    "制約式を捉えるコード書くために、左辺が非負となるように書き換える。\n",
    "\n",
    "$$\n",
    "y+z-1=0\n",
    "$$\n",
    "\n",
    "**＜ステップ２＞**<br>\n",
    "この式の左辺が返り値となる関数を定義する。"
   ]
  },
  {
   "cell_type": "code",
   "execution_count": 82,
   "metadata": {
    "hidden": true
   },
   "outputs": [],
   "source": [
    "def f_const(x):\n",
    "    y = x[0]\n",
    "    z = x[1]\n",
    "    return x[0]+x[1]-1"
   ]
  },
  {
   "cell_type": "markdown",
   "metadata": {
    "hidden": true
   },
   "source": [
    "ここでも引数`x`は`array`と想定しており，第0要素を`y`に，第1要素を`z`に割り当てている。\n",
    "\n",
    "**＜ステップ３＞**<br>\n",
    "この関数を使い次のように引数`constraints`に設定する変数を作成する。"
   ]
  },
  {
   "cell_type": "code",
   "execution_count": 83,
   "metadata": {
    "hidden": true
   },
   "outputs": [],
   "source": [
    "const = {'type':'eq', 'fun': f_const}"
   ]
  },
  {
   "cell_type": "markdown",
   "metadata": {
    "hidden": true
   },
   "source": [
    "右辺は辞書となっており、キーと値の２つのペアがある。\n",
    "* `type`：制約式のタイプを指定するキー。\n",
    "    * `eq`：制約式が等号の場合。\n",
    "    * `ineq`：制約式が不等号の場合。    \n",
    "* `fun`：制約式を指定するキー。\n",
    "    * `f_const`：制約式の関数名\n",
    "    \n",
    "**＜ステップ４＞**<br>\n",
    "引数`constraints`に変数`const`を指定し計算する（初期値を`[5.0, 0.6]`とする）。"
   ]
  },
  {
   "cell_type": "code",
   "execution_count": 84,
   "metadata": {
    "hidden": true
   },
   "outputs": [
    {
     "data": {
      "text/plain": [
       "     fun: -0.7499999999999016\n",
       "     jac: array([-0.50000054, -0.49999945])\n",
       " message: 'Optimization terminated successfully'\n",
       "    nfev: 13\n",
       "     nit: 4\n",
       "    njev: 4\n",
       "  status: 0\n",
       " success: True\n",
       "       x: array([0.49999982, 0.50000018])"
      ]
     },
     "execution_count": 84,
     "metadata": {},
     "output_type": "execute_result"
    }
   ],
   "source": [
    "res5 = op.minimize(f_ex4, x0=[5.0, 0.6], constraints=const)\n",
    "res5"
   ]
  },
  {
   "cell_type": "code",
   "execution_count": 85,
   "metadata": {
    "hidden": true
   },
   "outputs": [
    {
     "name": "stdout",
     "output_type": "stream",
     "text": [
      "yは0.5であり、zは0.5です。\n"
     ]
    }
   ],
   "source": [
    "print(f'yは{res5.x[0]:.1f}であり、zは{res5.x[1]:.1f}です。')"
   ]
  },
  {
   "cell_type": "markdown",
   "metadata": {
    "hidden": true
   },
   "source": [
    "`y`の値と`z`の値は制約式を満たすことがわかる。また制約式がない場合と比べて、`y`の値と`z`の値は異なり、最大化された関数の値も異なる。"
   ]
  },
  {
   "cell_type": "code",
   "execution_count": 86,
   "metadata": {
    "hidden": true
   },
   "outputs": [
    {
     "name": "stdout",
     "output_type": "stream",
     "text": [
      "制約式がない場合の関数の最大値は1.00であり、制約がある場合は0.75となる。\n"
     ]
    }
   ],
   "source": [
    "print(f'制約式がない場合の関数の最大値は{-res4.fun:.2f}であり、制約がある場合は{-res5.fun:.2f}となる。')"
   ]
  },
  {
   "cell_type": "markdown",
   "metadata": {
    "heading_collapsed": true,
    "hidden": true
   },
   "source": [
    "### 例４"
   ]
  },
  {
   "cell_type": "markdown",
   "metadata": {
    "hidden": true
   },
   "source": [
    "制約が不等式の場合を簡単に説明する。例３の制約式を\n",
    "\n",
    "$$\n",
    "y+z\\leq 1\n",
    "$$\n",
    "\n",
    "としよう。\n",
    "\n",
    "**＜ステップ１＞**<br>\n",
    "左辺が非負になるように書き換えると\n",
    "\n",
    "$$\n",
    "1-y-z\\geq 0\n",
    "$$\n",
    "\n",
    "となる。\n",
    "\n",
    "**＜ステップ２＞**<br>\n",
    "この不等式の左辺を制約式としてコードを書くが、上の`f_const`と異なることがわかる。"
   ]
  },
  {
   "cell_type": "code",
   "execution_count": 87,
   "metadata": {
    "hidden": true
   },
   "outputs": [],
   "source": [
    "def f_const_ineq(x):\n",
    "    y = x[0]\n",
    "    z = x[1]\n",
    "    return 1-x[0]-x[1]"
   ]
  },
  {
   "cell_type": "markdown",
   "metadata": {
    "hidden": true
   },
   "source": [
    "**＜ステップ３＞**<br>\n",
    "この場合の引数`constraint`に使う辞書は次のようになる。"
   ]
  },
  {
   "cell_type": "code",
   "execution_count": 88,
   "metadata": {
    "hidden": true
   },
   "outputs": [],
   "source": [
    "const_ineq = {'type':'ineq', 'fun': f_const_ineq}"
   ]
  },
  {
   "cell_type": "markdown",
   "metadata": {
    "hidden": true
   },
   "source": [
    "`const`との違いは、キー`type`に対応する値が`ineq`になっており、`fun`には`f_const_ineq`が指定されている。\n",
    "\n",
    "**＜ステップ４＞**<br>\n",
    "計算すると同じ結果になることが確認できる。"
   ]
  },
  {
   "cell_type": "code",
   "execution_count": 89,
   "metadata": {
    "hidden": true
   },
   "outputs": [
    {
     "data": {
      "text/plain": [
       "     fun: -0.7499999999999043\n",
       "     jac: array([-0.50000052, -0.49999944])\n",
       " message: 'Optimization terminated successfully'\n",
       "    nfev: 13\n",
       "     nit: 4\n",
       "    njev: 4\n",
       "  status: 0\n",
       " success: True\n",
       "       x: array([0.49999982, 0.50000018])"
      ]
     },
     "execution_count": 89,
     "metadata": {},
     "output_type": "execute_result"
    }
   ],
   "source": [
    "op.minimize(f_ex4, x0=[5.0, 0.6], constraints=const_ineq)"
   ]
  },
  {
   "cell_type": "markdown",
   "metadata": {
    "hidden": true
   },
   "source": [
    "当たり前だが例３の解と同じになっている。"
   ]
  },
  {
   "cell_type": "markdown",
   "metadata": {
    "heading_collapsed": true,
    "hidden": true
   },
   "source": [
    "### 労働供給問題"
   ]
  },
  {
   "cell_type": "markdown",
   "metadata": {
    "hidden": true
   },
   "source": [
    "労働供給問題を再考する。まず効用関数を設定し直そう。"
   ]
  },
  {
   "cell_type": "code",
   "execution_count": 90,
   "metadata": {
    "hidden": true
   },
   "outputs": [],
   "source": [
    "def u(x):\n",
    "    c = x[0]\n",
    "    l = x[1]\n",
    "    return -( a*np.log(c)+(1-a)*np.log(1-l) )"
   ]
  },
  {
   "cell_type": "markdown",
   "metadata": {
    "hidden": true
   },
   "source": [
    "次に制約式[](eq:scipy-pcwl)だが、下のように書き換えることができる。\n",
    "\n",
    "$$\n",
    "pc=wl\n",
    "\\quad\n",
    "\\Rightarrow\n",
    "\\quad\n",
    "wl-pc=0\n",
    "$$\n",
    "\n",
    "これを使い制約式を定義する。"
   ]
  },
  {
   "cell_type": "code",
   "execution_count": 91,
   "metadata": {
    "hidden": true
   },
   "outputs": [],
   "source": [
    "def budget(x):\n",
    "    c = x[0]\n",
    "    l = x[1]\n",
    "    return w*x[1]-p*x[0]"
   ]
  },
  {
   "cell_type": "markdown",
   "metadata": {
    "hidden": true
   },
   "source": [
    "引数`constraint`に使う辞書は次のように書くことができる。"
   ]
  },
  {
   "cell_type": "code",
   "execution_count": 92,
   "metadata": {
    "hidden": true
   },
   "outputs": [],
   "source": [
    "const = {'type':'eq', 'fun': budget}"
   ]
  },
  {
   "cell_type": "markdown",
   "metadata": {
    "hidden": true
   },
   "source": [
    "また経済理論から次のことが明らかである。\n",
    "* `c`は非負\n",
    "* `l`は0と1の間にある\n",
    "\n",
    "この情報を引数`bounds`に設定するが、次のような書き方となる。\n",
    "```\n",
    "[(cの最小値、cの最大値), (lの最小値、lの最大値)]\n",
    "```\n",
    "ここで`c`と`l`の順番は関数`budget`の引数`x`に対応しており，それぞれの要素の値は\n",
    "* `c`の最小値：0\n",
    "* `c`の最大値：$w/p$\n",
    "* `l`の最小値：0\n",
    "* `l`の最大値：1\n",
    "\n",
    "となる。これらの値を使い引数`bounds`に設定する値を次のようにする。"
   ]
  },
  {
   "cell_type": "code",
   "execution_count": 93,
   "metadata": {
    "hidden": true
   },
   "outputs": [],
   "source": [
    "bnds = [(0,w/p),(0,1)]"
   ]
  },
  {
   "cell_type": "code",
   "execution_count": 94,
   "metadata": {
    "hidden": true
   },
   "outputs": [
    {
     "data": {
      "text/plain": [
       "     fun: -0.7085392478935648\n",
       "     jac: array([-0.09995668,  1.00065053])\n",
       " message: 'Optimization terminated successfully'\n",
       "    nfev: 18\n",
       "     nit: 6\n",
       "    njev: 6\n",
       "  status: 0\n",
       " success: True\n",
       "       x: array([6.00260037, 0.60026004])"
      ]
     },
     "execution_count": 94,
     "metadata": {},
     "output_type": "execute_result"
    }
   ],
   "source": [
    "# 初期値\n",
    "x0 = [4.0, 0.3]\n",
    "\n",
    "# 計算\n",
    "op.minimize(u, x0, bounds=bnds, constraints=const)"
   ]
  },
  {
   "cell_type": "markdown",
   "metadata": {
    "hidden": true
   },
   "source": [
    "`minimize_scalar()`で解いた値と同じであることが確認できる。"
   ]
  },
  {
   "cell_type": "markdown",
   "metadata": {
    "hidden": true
   },
   "source": [
    "### 練習問題"
   ]
  },
  {
   "cell_type": "markdown",
   "metadata": {
    "hidden": true
   },
   "source": [
    "予算制約式が不等号の場合の労働供給問題を解きなさい。"
   ]
  }
 ],
 "metadata": {
  "kernelspec": {
   "display_name": "Python 3",
   "language": "python",
   "name": "python3"
  },
  "language_info": {
   "codemirror_mode": {
    "name": "ipython",
    "version": 3
   },
   "file_extension": ".py",
   "mimetype": "text/x-python",
   "name": "python",
   "nbconvert_exporter": "python",
   "pygments_lexer": "ipython3",
   "version": "3.8.5"
  }
 },
 "nbformat": 4,
 "nbformat_minor": 4
}