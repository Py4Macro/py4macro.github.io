{
 "cells": [
  {
   "cell_type": "markdown",
   "metadata": {},
   "source": [
    "# 法則・曲線・増加率"
   ]
  },
  {
   "cell_type": "markdown",
   "metadata": {},
   "source": [
    "<div name=\"html-admonition\" style=\"font-size: 0.8em\">\n",
    "<input type=\"button\" onclick=\"location.href='https://translate.google.com/translate?hl=&sl=ja&tl=en&u='+window.location;\" value=\"Google translation\" style=\"color:#ffffff;background-color:#008080; height:25px\" onmouseover=\"this.style.background='#99ccff'\" onmouseout=\"this.style.background='#008080'\"/> in English or the language of your choice.\n",
    "</div><br>"
   ]
  },
  {
   "cell_type": "code",
   "execution_count": 1,
   "metadata": {},
   "outputs": [
    {
     "name": "stderr",
     "output_type": "stream",
     "text": [
      "<frozen importlib._bootstrap>:228: RuntimeWarning: scipy._lib.messagestream.MessageStream size changed, may indicate binary incompatibility. Expected 56 from C header, got 64 from PyObject\n"
     ]
    }
   ],
   "source": [
    "import japanize_matplotlib\n",
    "import numpy as np\n",
    "import matplotlib.pyplot as plt\n",
    "import pandas as pd\n",
    "import py4macro\n",
    "import statsmodels.formula.api as sm\n",
    "from see import see"
   ]
  },
  {
   "cell_type": "markdown",
   "metadata": {
    "heading_collapsed": true
   },
   "source": [
    "## はじめに"
   ]
  },
  {
   "cell_type": "markdown",
   "metadata": {
    "hidden": true
   },
   "source": [
    "前章では経済のデータを人の「言動」に例えて説明したが，その比喩をもう少し考えてみよう。「言動」にはパターンがあり，その人の心を映し出しているとも考えられる。例えば，心の優しい人は電車やバスで重い荷物を持つ老人や小さな子を持つ女性に席を譲る回数が多いかも知れない。「あの子が好きだ！」とは決して口に出さない男の子でも，その思いを示唆するような発言や行動があるかも知れない。同じように，経済の「真のメカニズム」の反映としてデータには何らかのパターンが現れる。そのパターンを見つけることに経済学者は時間を割いてきたし，見出したパターンの中には経済を理解する上で非常に重要なヒント隠されている場合がある。ここでは代表的な次のデータのパターンを考える。\n",
    "* オークンの法則\n",
    "* フィリップス曲線\n",
    "* マネー・ストックの増加率とインフレーションの関係\n",
    "\n",
    "マクロ経済学を勉強した人にとっては必ずと言っていいほど，知名度が高いデータのパターンではないだろうか。これらから「真のメカニズム」の動きが垣間見える事になる。\n",
    "\n",
    "一方で「真のメカニズム」は不変ではないかも知れない。経済は人が営む活動であり，人が変われば「真のメカニズム」も影響を受けると考えられる。技術進歩（例えば，ビットコイン）や価値観の変化（例えば，「昭和の価値観」から「平成・令和の価値観」への移り変わり），政府・日銀の政策やコロナ禍などの大きなショックは人の行動の変化に影響すると考えるのが自然である。例えば，2020年代の「真のメカニズム」は1970年代のそれとは異なる可能性を拭えない。データを見る際は，そのような変化がないかを注意深く見ることも重要になるだろう。"
   ]
  },
  {
   "cell_type": "markdown",
   "metadata": {
    "heading_collapsed": true
   },
   "source": [
    "## オークンの法則"
   ]
  },
  {
   "cell_type": "markdown",
   "metadata": {
    "heading_collapsed": true,
    "hidden": true
   },
   "source": [
    "### 説明"
   ]
  },
  {
   "cell_type": "markdown",
   "metadata": {
    "hidden": true
   },
   "source": [
    "この節で使用する記号：\n",
    "* $Y_t$：GDP\n",
    "* $\\bar{Y}_t$：産出量の自然率水準（もしくは長期的GDP、潜在的GDP）\n",
    "* $u_t$：失業率\n",
    "* $\\bar{u}_t$：自然失業率（もしくは長期的失業率）\n",
    "\n",
    "オークンの法則は経験則として次の関係を表す。\n",
    "\n",
    "$$\n",
    "\\frac{Y_t-\\bar{Y}_t}{\\bar{Y}_t}=-b\\left( u_t-\\bar{u}_t\\right),\\quad b>0\n",
    "$$ (eq:11-okun)\n",
    "\n",
    "左辺はGDPの自然率水準からの乖離率（自然率水準を何％上回るかを示す）であり，右辺は失業率の自然率からの乖離（自然失業率を何％ポイント上回るかを示す）である。即ち，GDPと失業率の長期的な値からの乖離には負の関係が存在することを意味している。労働者が生産投入といこと考えると，直感的にも受け入れ易い関係ではないだろうか。では失業率の乖離が1%ポイント上昇するとGDPの乖離率は何%減少するのだろうか。この問いについては，データを使いパラメータ`b`を推定する必要がる。難しい点は、$\\bar{Y}_t$と$\\bar{u}_t$が観測されないため推定する必要があることである。この点を回避するために、オークンの法則を変数の変化で表す場合もあるが、ここでは上の式を考える。$\\bar{Y}_t$と$\\bar{u}_t$の推定には様々な洗練された手法があるが、ここでは簡便的にHodrick–Prescottフィルターを使って計算したトレンドを$\\bar{Y}$と$\\bar{u}$とし，トレンドからの乖離を上の式の左辺と右辺に使う。"
   ]
  },
  {
   "cell_type": "markdown",
   "metadata": {
    "hidden": true
   },
   "source": [
    "以前使ったデータを使うが，次の節でインフレ率について扱うので３つの変数`gdp`，`unemployment_rate`，`inflation`を読み込むことにする。"
   ]
  },
  {
   "cell_type": "code",
   "execution_count": 2,
   "metadata": {
    "hidden": true
   },
   "outputs": [],
   "source": [
    "df = py4macro.data('jpn-q').loc[:,['gdp','unemployment_rate','inflation']]"
   ]
  },
  {
   "cell_type": "code",
   "execution_count": 3,
   "metadata": {
    "hidden": true
   },
   "outputs": [
    {
     "name": "stdout",
     "output_type": "stream",
     "text": [
      "<class 'pandas.core.frame.DataFrame'>\n",
      "DatetimeIndex: 168 entries, 1980-03-31 to 2021-12-31\n",
      "Data columns (total 3 columns):\n",
      " #   Column             Non-Null Count  Dtype  \n",
      "---  ------             --------------  -----  \n",
      " 0   gdp                168 non-null    float64\n",
      " 1   unemployment_rate  168 non-null    float64\n",
      " 2   inflation          168 non-null    float64\n",
      "dtypes: float64(3)\n",
      "memory usage: 5.2 KB\n"
     ]
    }
   ],
   "source": [
    "df.info()"
   ]
  },
  {
   "cell_type": "markdown",
   "metadata": {
    "heading_collapsed": true,
    "hidden": true,
    "tags": [
     "remove-cell"
    ]
   },
   "source": [
    "### 失業率の特徴"
   ]
  },
  {
   "cell_type": "markdown",
   "metadata": {
    "hidden": true
   },
   "source": [
    "(sec:11-unemployment)=\n",
    "### 失業率の特徴"
   ]
  },
  {
   "cell_type": "markdown",
   "metadata": {
    "hidden": true
   },
   "source": [
    "ここでは失業率の特徴を考える。まず図示してみよう。"
   ]
  },
  {
   "cell_type": "code",
   "execution_count": 4,
   "metadata": {
    "hidden": true,
    "jupyter": {
     "outputs_hidden": true
    }
   },
   "outputs": [
    {
     "data": {
      "image/png": "[encoded data removed]",
      "text/plain": [
       "<Figure size 432x288 with 1 Axes>"
      ]
     },
     "metadata": {
      "needs_background": "light"
     },
     "output_type": "display_data"
    }
   ],
   "source": [
    "df['unemployment_rate'].plot()\n",
    "pass"
   ]
  },
  {
   "cell_type": "markdown",
   "metadata": {
    "hidden": true
   },
   "source": [
    "最初に気づく点は，[前章](chap:10-gdp)で説明した持続性（変化が正（もしくは負）であれば正（もしくは負）の期間が続く傾向にある特徴）が高いとことである。実際，メソッド`.autocorr()`を使い自己相関係数を計算すると非常に高い値が返される。"
   ]
  },
  {
   "cell_type": "code",
   "execution_count": 5,
   "metadata": {
    "hidden": true,
    "jupyter": {
     "outputs_hidden": true
    }
   },
   "outputs": [
    {
     "data": {
      "text/plain": [
       "0.9919258402544139"
      ]
     },
     "execution_count": 5,
     "metadata": {},
     "output_type": "execute_result"
    }
   ],
   "source": [
    "df['unemployment_rate'].autocorr()"
   ]
  },
  {
   "cell_type": "markdown",
   "metadata": {
    "hidden": true
   },
   "source": [
    "次に，GDPのトレンドからの乖離（％）と失業率のトレンドからの乖離（％ポイント）を比べてみる。まず失業に関する変数を作成するが，対数を取らずに差分をトレンドからの乖離とする。"
   ]
  },
  {
   "cell_type": "code",
   "execution_count": 6,
   "metadata": {
    "hidden": true,
    "jupyter": {
     "outputs_hidden": true
    }
   },
   "outputs": [],
   "source": [
    "df['u_rate_trend'] = py4macro.trend(df['unemployment_rate'])\n",
    "df['u_rate_cycle'] = df['unemployment_rate'] - df['u_rate_trend']"
   ]
  },
  {
   "cell_type": "markdown",
   "metadata": {
    "hidden": true
   },
   "source": [
    "ここで作成した変数は次の変数を表している。\n",
    "* `unemployment_rate_cycle`：$u_t-\\bar{u}_t$\n",
    "* $\\bar{u}_t$：トレンド失業率\n",
    "\n",
    "次にGDPのトレンドからの乖離率を計算しよう。\n",
    "* `gdp_cycle`：$\\dfrac{Y_t}{\\bar{Y}_t}-1\n",
    "                \\approx\n",
    "                \\log\\left(\\dfrac{Y_t}{\\bar{Y}_t}\\right)\n",
    "                =\\log(Y_t) - \\log(\\bar{Y}_t)\n",
    "                $\n",
    "* $\\bar{Y}_t$：トレンドGDP"
   ]
  },
  {
   "cell_type": "code",
   "execution_count": 7,
   "metadata": {
    "hidden": true
   },
   "outputs": [],
   "source": [
    "df['gdp_cycle'] = 100*( \n",
    "                       np.log(df['gdp']) - py4macro.trend( np.log(df['gdp']) )\n",
    "                      )"
   ]
  },
  {
   "cell_type": "markdown",
   "metadata": {
    "hidden": true
   },
   "source": [
    "GDPの乖離と重ねて動きを確認してみる。"
   ]
  },
  {
   "cell_type": "code",
   "execution_count": 8,
   "metadata": {
    "hidden": true,
    "jupyter": {
     "outputs_hidden": true
    }
   },
   "outputs": [
    {
     "data": {
      "image/png": "[encoded data removed]",
      "text/plain": [
       "<Figure size 432x288 with 2 Axes>"
      ]
     },
     "metadata": {
      "needs_background": "light"
     },
     "output_type": "display_data"
    }
   ],
   "source": [
    "df.loc[:,['u_rate_cycle','gdp_cycle']].plot(secondary_y='u_rate_cycle')\n",
    "pass"
   ]
  },
  {
   "cell_type": "markdown",
   "metadata": {
    "hidden": true
   },
   "source": [
    "概ね逆方向に上下していることがわかる。またバブル景気の崩壊後やリーマン・ショック後に，２変数は逆方向に大きく動いていることも確認できる。相関度を確かめるために，`df`のメソッド`corr()`を使い相関係数を計算しよう。"
   ]
  },
  {
   "cell_type": "code",
   "execution_count": 9,
   "metadata": {
    "hidden": true,
    "jupyter": {
     "outputs_hidden": true
    }
   },
   "outputs": [
    {
     "data": {
      "text/html": [
       "<div>\n",
       "<style scoped>\n",
       "    .dataframe tbody tr th:only-of-type {\n",
       "        vertical-align: middle;\n",
       "    }\n",
       "\n",
       "    .dataframe tbody tr th {\n",
       "        vertical-align: top;\n",
       "    }\n",
       "\n",
       "    .dataframe thead th {\n",
       "        text-align: right;\n",
       "    }\n",
       "</style>\n",
       "<table border=\"1\" class=\"dataframe\">\n",
       "  <thead>\n",
       "    <tr style=\"text-align: right;\">\n",
       "      <th></th>\n",
       "      <th>u_rate_cycle</th>\n",
       "      <th>gdp_cycle</th>\n",
       "    </tr>\n",
       "  </thead>\n",
       "  <tbody>\n",
       "    <tr>\n",
       "      <th>u_rate_cycle</th>\n",
       "      <td>1.000000</td>\n",
       "      <td>-0.627466</td>\n",
       "    </tr>\n",
       "    <tr>\n",
       "      <th>gdp_cycle</th>\n",
       "      <td>-0.627466</td>\n",
       "      <td>1.000000</td>\n",
       "    </tr>\n",
       "  </tbody>\n",
       "</table>\n",
       "</div>"
      ],
      "text/plain": [
       "              u_rate_cycle  gdp_cycle\n",
       "u_rate_cycle      1.000000  -0.627466\n",
       "gdp_cycle        -0.627466   1.000000"
      ]
     },
     "execution_count": 9,
     "metadata": {},
     "output_type": "execute_result"
    }
   ],
   "source": [
    "df.loc[:,['u_rate_cycle','gdp_cycle']].corr()"
   ]
  },
  {
   "cell_type": "markdown",
   "metadata": {
    "hidden": true
   },
   "source": [
    "右上と左下の値が２変数の相関係数であり，値は約`-0.63`は強い逆相関を意味する。\n",
    "\n",
    "また上の図から持続性が高いことが伺える。自己相関係数を計算してみよう。"
   ]
  },
  {
   "cell_type": "code",
   "execution_count": 10,
   "metadata": {
    "hidden": true,
    "jupyter": {
     "outputs_hidden": true
    }
   },
   "outputs": [
    {
     "data": {
      "text/plain": [
       "0.6808888095459289"
      ]
     },
     "execution_count": 10,
     "metadata": {},
     "output_type": "execute_result"
    }
   ],
   "source": [
    "df['gdp_cycle'].autocorr()"
   ]
  },
  {
   "cell_type": "code",
   "execution_count": 11,
   "metadata": {
    "hidden": true,
    "jupyter": {
     "outputs_hidden": true
    }
   },
   "outputs": [
    {
     "data": {
      "text/plain": [
       "0.8760250306482034"
      ]
     },
     "execution_count": 11,
     "metadata": {},
     "output_type": "execute_result"
    }
   ],
   "source": [
    "df['u_rate_cycle'].autocorr()"
   ]
  },
  {
   "cell_type": "markdown",
   "metadata": {
    "hidden": true
   },
   "source": [
    "両変数ともトレンドからの乖離は持続性が非常に高いと言える。"
   ]
  },
  {
   "cell_type": "markdown",
   "metadata": {
    "heading_collapsed": true,
    "hidden": true
   },
   "source": [
    "### 回帰分析"
   ]
  },
  {
   "cell_type": "markdown",
   "metadata": {
    "hidden": true
   },
   "source": [
    "では実際に式[](eq:11-okun)のスロープ変数$b$を推定してみよう。\n"
   ]
  },
  {
   "cell_type": "code",
   "execution_count": 12,
   "metadata": {
    "hidden": true,
    "jupyter": {
     "outputs_hidden": true
    }
   },
   "outputs": [],
   "source": [
    "formula = 'gdp_cycle ~ u_rate_cycle'   # 1\n",
    "model = sm.ols(formula, data=df)       # 2\n",
    "result = model.fit()                   # 3"
   ]
  },
  {
   "cell_type": "markdown",
   "metadata": {
    "hidden": true
   },
   "source": [
    "```{admonition} コードの説明\n",
    ":class: dropdown\n",
    "\n",
    "1. 回帰式を文字列で作成し変数`formula`に割り当てる。\n",
    "2. `sm`の関数`.ols`を使い最小二乗法の準備をし，変数`model`に割り当てる。\n",
    "    * 引数は(1)の`formula`と`data`に使用する`DataFrame`（ここでは`df_okun`）を指定する。\n",
    "3. `model`のメソッド`.fit()`を使い自動計算し，その結果を`result`に割り当てる。\n",
    "```\n",
    "\n",
    "`result`のメソッド`.summary()`を使い結果を表として表示しよう。"
   ]
  },
  {
   "cell_type": "code",
   "execution_count": 13,
   "metadata": {
    "hidden": true
   },
   "outputs": [
    {
     "name": "stdout",
     "output_type": "stream",
     "text": [
      "                            OLS Regression Results                            \n",
      "==============================================================================\n",
      "Dep. Variable:              gdp_cycle   R-squared:                       0.394\n",
      "Model:                            OLS   Adj. R-squared:                  0.390\n",
      "Method:                 Least Squares   F-statistic:                     107.8\n",
      "Date:                Sun, 16 Apr 2023   Prob (F-statistic):           8.95e-20\n",
      "Time:                        13:05:59   Log-Likelihood:                -261.32\n",
      "No. Observations:                 168   AIC:                             526.6\n",
      "Df Residuals:                     166   BIC:                             532.9\n",
      "Df Model:                           1                                         \n",
      "Covariance Type:            nonrobust                                         \n",
      "================================================================================\n",
      "                   coef    std err          t      P>|t|      [0.025      0.975]\n",
      "--------------------------------------------------------------------------------\n",
      "Intercept     3.854e-11      0.089   4.33e-10      1.000      -0.176       0.176\n",
      "u_rate_cycle    -4.0106      0.386    -10.383      0.000      -4.773      -3.248\n",
      "==============================================================================\n",
      "Omnibus:                      104.252   Durbin-Watson:                   1.095\n",
      "Prob(Omnibus):                  0.000   Jarque-Bera (JB):              989.767\n",
      "Skew:                          -2.099   Prob(JB):                    1.19e-215\n",
      "Kurtosis:                      14.125   Cond. No.                         4.34\n",
      "==============================================================================\n",
      "\n",
      "Notes:\n",
      "[1] Standard Errors assume that the covariance matrix of the errors is correctly specified.\n"
     ]
    }
   ],
   "source": [
    "print(result.summary())"
   ]
  },
  {
   "cell_type": "markdown",
   "metadata": {
    "hidden": true
   },
   "source": [
    "表の中段から次のことがわかる。\n",
    "* 定数項の推定値は非常に小さい。即ち、失業率の乖離がゼロある場合、GDPの乖離率もぜろになることを示しており、定数項がない式[](eq:11-okun)と整合的であることわかる。\n",
    "* パラメータ`b`の推定値は負の値となっていおり、失業率が自然失業率を上回るとGDP乖離率は減少することが確認できる。\n",
    "\n",
    "＜コメント＞\n",
    "* Durbin-Watson比は誤差項に正の自己相関が疑われことを示しており，$t$検定の解釈には注意が必要となるが，この点ついての議論は割愛する。"
   ]
  },
  {
   "cell_type": "markdown",
   "metadata": {
    "hidden": true
   },
   "source": [
    "回帰分析の結果を踏まえると，失業率の乖離が`x`％ポイントの場合にGDPのトレンドからの乖離率（％）を計算する関数は次のようになる。"
   ]
  },
  {
   "cell_type": "code",
   "execution_count": 14,
   "metadata": {
    "hidden": true,
    "jupyter": {
     "outputs_hidden": true
    }
   },
   "outputs": [],
   "source": [
    "def growth_deviation(x):\n",
    "    g = result.params[0]+result.params[1]*x\n",
    "    print(f'失業率の乖離が{x:.1f}％ポイントの場合のGDPのトレンドからの乖離率は約{g:.2f}です。')"
   ]
  },
  {
   "cell_type": "markdown",
   "metadata": {
    "hidden": true
   },
   "source": [
    "`x`が１％ポイントの場合を考えよう。"
   ]
  },
  {
   "cell_type": "code",
   "execution_count": 15,
   "metadata": {
    "hidden": true,
    "jupyter": {
     "outputs_hidden": true
    }
   },
   "outputs": [
    {
     "name": "stdout",
     "output_type": "stream",
     "text": [
      "失業率の乖離が1.0％ポイントの場合のGDPのトレンドからの乖離率は約-4.01です。\n"
     ]
    }
   ],
   "source": [
    "growth_deviation(1)"
   ]
  },
  {
   "cell_type": "markdown",
   "metadata": {
    "hidden": true
   },
   "source": [
    "この値を解釈してみよう。失業率が1％ポイント乖離するとしよう。GDPの乖離率は約`-4.1`％になることを示しているが、この値は非常に大きい。例えば、上のプロットで示したGDPのトレンドからの乖離率を考えてみよう。バブル崩壊時の乖離率は約`2.6`％，リーマン・ショック時では約`6`％，コロナ禍では`7.7`％である。これは日本の雇用制度を反映していると考えられる。またトレンドを計算する際に使ったHodrick–Prescottフィルターの影響もあるだろう。"
   ]
  },
  {
   "cell_type": "markdown",
   "metadata": {
    "hidden": true
   },
   "source": [
    "次に、標本の散布図に回帰直線を重ねて表示してみる。まず`result`の属性`.fittedvalues`を使い非説明変数の予測値を抽出することができるので、`df`に`fitted`のラベルを使って新たな列として追加する。"
   ]
  },
  {
   "cell_type": "code",
   "execution_count": 16,
   "metadata": {
    "hidden": true,
    "jupyter": {
     "outputs_hidden": true
    }
   },
   "outputs": [],
   "source": [
    "df['fitted_okun'] = result.fittedvalues"
   ]
  },
  {
   "cell_type": "markdown",
   "metadata": {
    "hidden": true
   },
   "source": [
    "図を重ねて表示する。"
   ]
  },
  {
   "cell_type": "code",
   "execution_count": 17,
   "metadata": {
    "hidden": true,
    "jupyter": {
     "outputs_hidden": true
    }
   },
   "outputs": [
    {
     "data": {
      "image/png": "[encoded data removed]",
      "text/plain": [
       "<Figure size 432x288 with 1 Axes>"
      ]
     },
     "metadata": {
      "needs_background": "light"
     },
     "output_type": "display_data"
    }
   ],
   "source": [
    "ax_ = df.plot(x='u_rate_cycle',\n",
    "              y='gdp_cycle',\n",
    "              kind='scatter')\n",
    "\n",
    "df.plot(x='u_rate_cycle',\n",
    "        y='fitted_okun',\n",
    "        kind='line',\n",
    "        color='red',\n",
    "        ax=ax_)\n",
    "pass"
   ]
  },
  {
   "cell_type": "markdown",
   "metadata": {
    "hidden": true
   },
   "source": [
    "````{note}\n",
    "係数の推定値は、`result`の属性`params`でアクセスできることを説明したが、この値を使い次のコードで`gdp_cycle`の予測値を計算することも可能である。\n",
    "```\n",
    "ahat = result.params[0]\n",
    "bhat = result.params[1]\n",
    "df['fitted'] = ahat + bhat * df['u_rate_cycle']\n",
    "```\n",
    "````"
   ]
  },
  {
   "cell_type": "markdown",
   "metadata": {
    "hidden": true
   },
   "source": [
    "プロットの下中央にある２点がリーマン・ショックとコロナ禍によるGDPの乖離率である。この２点に関連して次のことが言える。GDPの乖離率の観点から考えると，２つのショックは「外れ値」的な存在であり，大きなショックだったことがうかがえる。一方，2つのショックに伴う失業率の乖離は大きくなく，`0`に近い値となっている。これはGDPに対するショックが，失業率に影響を及ぼすには時間的なラグが発生することの反映であろう。その結果，回帰直線の傾きに対する影響は限定的だと言える（例えば，失業率の乖離が`0.8`近傍であれば，傾きは絶対値でより大きな値となっていただろう）。従って，傾きが約`-4.1`という結果は，数少ない大きなショックによって大きく影響を受けたものではないとして理解して良いだろう。"
   ]
  },
  {
   "cell_type": "markdown",
   "metadata": {
    "heading_collapsed": true
   },
   "source": [
    "## フィリップス曲線"
   ]
  },
  {
   "cell_type": "markdown",
   "metadata": {
    "heading_collapsed": true,
    "hidden": true
   },
   "source": [
    "### 説明"
   ]
  },
  {
   "cell_type": "markdown",
   "metadata": {
    "hidden": true
   },
   "source": [
    "マクロ経済学を学んだ人にとって最も馴染み深い関係の一つがフィリップス曲線（PC曲線）ではないだろうか。失業率とインフレ率の関係を示すが，典型的なPC曲線は次式で与えられる。\n",
    "\n",
    "$$\n",
    "\\pi_t=\\text{E}\\pi_t-b(u_t-\\bar{u})+v,\\quad b>0\n",
    "$$ (eq:11-phillips)\n",
    "\n",
    "* $\\pi_t$：インフレ率\n",
    "* $\\text{E}\\pi_t$：期待インフレ率\n",
    "* $u_t$：失業率\n",
    "* $\\bar{u}$：自然失業率（長期的な失業率）\n",
    "* $v$：供給サイドのショック\n",
    "\n",
    "通常，式[](eq:11-phillips)では分析の簡単化のために自然失業率$\\bar{u}$はトレンドであり一定と仮定され，その周辺を経済が変動すると考える。\n",
    "\n",
    "失業率の特徴については[「失業率の特徴」](sec:11-unemployment)の節で議論したので，以下では式[](eq:11-phillips)の左辺にあるインフレ率について考えることにする。"
   ]
  },
  {
   "cell_type": "markdown",
   "metadata": {
    "heading_collapsed": true,
    "hidden": true
   },
   "source": [
    "### インフレ率の特徴"
   ]
  },
  {
   "cell_type": "markdown",
   "metadata": {
    "hidden": true
   },
   "source": [
    "上で使用した`df`に`inflation`が含まれているので図示してみよう。"
   ]
  },
  {
   "cell_type": "code",
   "execution_count": 18,
   "metadata": {
    "hidden": true,
    "jupyter": {
     "outputs_hidden": true
    }
   },
   "outputs": [
    {
     "data": {
      "image/png": "[encoded data removed]",
      "text/plain": [
       "<Figure size 432x288 with 1 Axes>"
      ]
     },
     "metadata": {
      "needs_background": "light"
     },
     "output_type": "display_data"
    }
   ],
   "source": [
    "df.loc[:,['inflation']].plot()\n",
    "pass"
   ]
  },
  {
   "cell_type": "markdown",
   "metadata": {
    "hidden": true
   },
   "source": [
    "上下しているのが，過去約35年間は非常に安定している。図から持続性が強いことがわかるが，実際に計算してみよう。"
   ]
  },
  {
   "cell_type": "code",
   "execution_count": 19,
   "metadata": {
    "hidden": true
   },
   "outputs": [
    {
     "data": {
      "text/plain": [
       "0.9486542725385114"
      ]
     },
     "execution_count": 19,
     "metadata": {},
     "output_type": "execute_result"
    }
   ],
   "source": [
    "df.loc[:,'inflation'].autocorr()"
   ]
  },
  {
   "cell_type": "markdown",
   "metadata": {
    "hidden": true
   },
   "source": [
    "`0.949`は非常に高い持続性を意味しており，インフレが増加すると持続傾向にあることがわかる。次にトレンドからの乖離（％ポイント）を計算し，GDPのトレンドからの乖離と重ねて図示してみよう。"
   ]
  },
  {
   "cell_type": "code",
   "execution_count": 20,
   "metadata": {
    "hidden": true,
    "jupyter": {
     "outputs_hidden": true
    }
   },
   "outputs": [
    {
     "data": {
      "image/png": "[encoded data removed]",
      "text/plain": [
       "<Figure size 432x288 with 1 Axes>"
      ]
     },
     "metadata": {
      "needs_background": "light"
     },
     "output_type": "display_data"
    }
   ],
   "source": [
    "df['inflation_trend'] = py4macro.trend(df['inflation'])\n",
    "df['inflation_cycle'] = df['inflation'] - df['inflation_trend']\n",
    "\n",
    "df[['gdp_cycle','inflation_cycle']].plot()\n",
    "pass"
   ]
  },
  {
   "cell_type": "markdown",
   "metadata": {
    "hidden": true
   },
   "source": [
    "同じ方向に動く傾向が確認できる。相関係数を計算してみる。"
   ]
  },
  {
   "cell_type": "code",
   "execution_count": 21,
   "metadata": {
    "hidden": true,
    "jupyter": {
     "outputs_hidden": true
    }
   },
   "outputs": [
    {
     "data": {
      "text/html": [
       "<div>\n",
       "<style scoped>\n",
       "    .dataframe tbody tr th:only-of-type {\n",
       "        vertical-align: middle;\n",
       "    }\n",
       "\n",
       "    .dataframe tbody tr th {\n",
       "        vertical-align: top;\n",
       "    }\n",
       "\n",
       "    .dataframe thead th {\n",
       "        text-align: right;\n",
       "    }\n",
       "</style>\n",
       "<table border=\"1\" class=\"dataframe\">\n",
       "  <thead>\n",
       "    <tr style=\"text-align: right;\">\n",
       "      <th></th>\n",
       "      <th>inflation_cycle</th>\n",
       "      <th>gdp_cycle</th>\n",
       "    </tr>\n",
       "  </thead>\n",
       "  <tbody>\n",
       "    <tr>\n",
       "      <th>inflation_cycle</th>\n",
       "      <td>1.000000</td>\n",
       "      <td>0.308714</td>\n",
       "    </tr>\n",
       "    <tr>\n",
       "      <th>gdp_cycle</th>\n",
       "      <td>0.308714</td>\n",
       "      <td>1.000000</td>\n",
       "    </tr>\n",
       "  </tbody>\n",
       "</table>\n",
       "</div>"
      ],
      "text/plain": [
       "                 inflation_cycle  gdp_cycle\n",
       "inflation_cycle         1.000000   0.308714\n",
       "gdp_cycle               0.308714   1.000000"
      ]
     },
     "execution_count": 21,
     "metadata": {},
     "output_type": "execute_result"
    }
   ],
   "source": [
    "df[['inflation_cycle','gdp_cycle']].corr()"
   ]
  },
  {
   "cell_type": "markdown",
   "metadata": {
    "hidden": true
   },
   "source": [
    "絶対値でみると失業程ではないが，正の相関性があることが確認できる。この結果から，インフレ率と失業率の負の相関が予測される。次に、自己相関係数を確認する。"
   ]
  },
  {
   "cell_type": "code",
   "execution_count": 22,
   "metadata": {
    "hidden": true,
    "jupyter": {
     "outputs_hidden": true
    }
   },
   "outputs": [
    {
     "data": {
      "text/plain": [
       "0.7771024330909483"
      ]
     },
     "execution_count": 22,
     "metadata": {},
     "output_type": "execute_result"
    }
   ],
   "source": [
    "df['inflation_cycle'].autocorr()"
   ]
  },
  {
   "cell_type": "markdown",
   "metadata": {
    "hidden": true
   },
   "source": [
    "トレンドからの乖離も強い持続性があることを示している。"
   ]
  },
  {
   "cell_type": "markdown",
   "metadata": {
    "heading_collapsed": true,
    "hidden": true
   },
   "source": [
    "### フラット化するフィリップス曲線"
   ]
  },
  {
   "cell_type": "markdown",
   "metadata": {
    "hidden": true
   },
   "source": [
    "まずインフレ率と失業率の散布図をプロットしよう。"
   ]
  },
  {
   "cell_type": "code",
   "execution_count": 23,
   "metadata": {
    "hidden": true,
    "jupyter": {
     "outputs_hidden": true
    }
   },
   "outputs": [
    {
     "data": {
      "image/png": "[encoded data removed]",
      "text/plain": [
       "<Figure size 432x288 with 1 Axes>"
      ]
     },
     "metadata": {
      "needs_background": "light"
     },
     "output_type": "display_data"
    }
   ],
   "source": [
    "df.plot(x='unemployment_rate', y='inflation', kind='scatter')\n",
    "pass"
   ]
  },
  {
   "cell_type": "markdown",
   "metadata": {
    "hidden": true
   },
   "source": [
    "右下がりであり式[](eq:11-phillips)と整合的にみえる。上の散布図に１つの曲線を描いてそれをPC曲線と呼ぶこともできるだろう。一方で，次の問題を考えてみよう。\n",
    "1. 過去40年間，フィリプス曲線は変化した可能性はないのか。即ち，真のメカニズムが変わりながら生成されたデータが表示されているのではないか，という問題である。\n",
    "2. 式[](eq:11-phillips)には期待インフレ率がり，また供給サイドのショックもあり得る（例えば，コロナ禍）。それらをどう考えるかという問題がある。\n",
    "\n",
    "第二の問題を扱うことはこのサイトの範囲を超えるので，ここでは扱わず議論を進めることにする。以下では第一の問題を考察してみよう。\n",
    "\n",
    "景気循環のマクロ経済学での短期は何ヶ月または何年以下で，長期は何年以上なのだろうか。実は，曖昧で学者・学派によって見解が別れる事になる。ここでは10年間は長期に入ると考えることにする（多くの経済学者は同意するだろう）。この考えに基づき，10年毎のデータを検討しPC曲線に変化があるかどうかを確かめることにする。"
   ]
  },
  {
   "cell_type": "markdown",
   "metadata": {
    "hidden": true
   },
   "source": [
    "まず10年毎のデータを使うために，次のコードを使い新たな列`decade`を`df`に追加しよう。"
   ]
  },
  {
   "cell_type": "code",
   "execution_count": 24,
   "metadata": {
    "hidden": true
   },
   "outputs": [
    {
     "data": {
      "text/plain": [
       "\n",
       "1980-03-31    1980\n",
       "1980-06-30    1980\n",
       "1980-09-30    1980\n",
       "1980-12-31    1980\n",
       "1981-03-31    1980\n",
       "              ... \n",
       "2020-12-31    2020\n",
       "2021-03-31    2020\n",
       "2021-06-30    2020\n",
       "2021-09-30    2020\n",
       "2021-12-31    2020\n",
       "Name: decade, Length: 168, dtype: int64"
      ]
     },
     "execution_count": 24,
     "metadata": {},
     "output_type": "execute_result"
    }
   ],
   "source": [
    "df['decade'] = df.index.year // 10 * 10\n",
    "df['decade']"
   ]
  },
  {
   "cell_type": "markdown",
   "metadata": {
    "hidden": true
   },
   "source": [
    "````{admonition} コードの説明\n",
    ":class: dropdown\n",
    "`df.index`は行ラベルを抽出するが，その属性`.year`は行ラベルから年だけを抽出する。年を切り捨て除算演算子`//`を使い次の様に変換する\n",
    "```\n",
    "1980 →　198\n",
    "1981 →　198\n",
    "1982 →　198\n",
    "...\n",
    "```\n",
    "更に，それぞれの数字を`*10`により`10`倍することにより，次のような変換となる。\n",
    "```\n",
    "1980 →　1980\n",
    "1981 →　1980\n",
    "1982 →　1980\n",
    "...\n",
    "```\n",
    "それを新たな列`decade`に割り当てている。\n",
    "````"
   ]
  },
  {
   "cell_type": "markdown",
   "metadata": {
    "hidden": true
   },
   "source": [
    "新たな列と`for`ループを使い，式[](eq:11-phillips)の係数$a$と$b$を推定してみよう。大きな差が無ければ，フィリップス曲線は概ね一定だと考えることができる。"
   ]
  },
  {
   "cell_type": "code",
   "execution_count": 25,
   "metadata": {
    "hidden": true
   },
   "outputs": [],
   "source": [
    "decade_list = list( range(1980, 2011, 10) )       #1\n",
    "\n",
    "a_list = []   #2\n",
    "b_list = []   #3\n",
    "\n",
    "for d in decade_list:                             #4\n",
    "    cond = ( df['decade'] == d )                  #5\n",
    "    res = sm.ols('inflation ~ unemployment_rate', #6\n",
    "                 data=df.loc[cond,:]).fit()       #7\n",
    "    \n",
    "    df[f'{d}年代データ'] = res.fittedvalues          #8\n",
    "    a_list.append(res.params[0])                  #9\n",
    "    b_list.append(res.params[1])                  #10"
   ]
  },
  {
   "cell_type": "markdown",
   "metadata": {
    "hidden": true
   },
   "source": [
    "```{admonition} コードの説明\n",
    ":class: dropdown\n",
    "\n",
    "* `#1`：`1980`，`1990`，`2000`，`2010`の4つの要素からなるリストを`decade_list`に割り当てる。\n",
    "* `#2`：定数項の推定値を格納する空のリスト。\n",
    "* `#3`：スロープ係数の推定値を格納する空のリスト。\n",
    "* `#4`：`decade_list`を使い`for`ループを開始。\n",
    "* `#5`：列`decade`が`d`と等しい行のみが`True`になる条件を`cond`に割り当てる。\n",
    "* `#6`：OLS推定の結果を`res`に割り当てる。\n",
    "* `#7`：OLS推定に使用する`DataFrame`を指定するが，`.loc[cond,:]`を使い10年間だけのデータを抽出する。\n",
    "* `#8`：`res.fittedvalues`はOLSの予測値だが，新たな列として`df`に追加している。\n",
    "    * 列ラベルとして`1980年代データ`のように設定しており，下でプロットする際の凡例に使うためである。\n",
    "    * `f-string`を使うために`f`を置き`{}`の中に文字列を代入している。\n",
    "* `#9`：`res.params`はOLS推定値の`Series`を返すので，その0番目の要素（定数項）を`a_list`に追加している。\n",
    "* `#10`：`res.params`はOLS推定値の`Series`を返すので，その1番目の要素（スロープ係数）を`b_list`に追加している。\n",
    "```"
   ]
  },
  {
   "cell_type": "markdown",
   "metadata": {
    "hidden": true
   },
   "source": [
    "結果を`print`関数を使い表示する。"
   ]
  },
  {
   "cell_type": "code",
   "execution_count": 26,
   "metadata": {
    "hidden": true
   },
   "outputs": [
    {
     "name": "stdout",
     "output_type": "stream",
     "text": [
      "--- 定数項の推定値 -------------\n",
      "\n",
      "1980年代：18.58\n",
      "1990年代： 4.37\n",
      "2000年代： 4.58\n",
      "2010年代： 2.11\n",
      "\n",
      "--- スロープ係数の推定値 --------\n",
      "\n",
      "1980年代：-6.43\n",
      "1990年代：-1.04\n",
      "2000年代：-1.03\n",
      "2010年代：-0.48\n"
     ]
    }
   ],
   "source": [
    "print('--- 定数項の推定値 -------------\\n')\n",
    "\n",
    "for d, a in zip(decade_list, a_list):\n",
    "    print(f'{d}年代：{a:>5.2f}')\n",
    "    \n",
    "    \n",
    "print('\\n--- スロープ係数の推定値 --------\\n')\n",
    "\n",
    "for d, b in zip(decade_list, b_list):\n",
    "    print(f'{d}年代：{b:.2f}')"
   ]
  },
  {
   "cell_type": "markdown",
   "metadata": {
    "hidden": true
   },
   "source": [
    "定数項の推定値もスロープ係数の推定値も変化が大きく，特に1980年代の値とそれ以降の値の差が顕著である。傾きが緩やかになっているので，PC曲線のフラット化（需給ギャップに対してのインフレ率の弾性値の低下）と呼ばれている。研究では，日本だけではなく欧米でもPC曲線のフラット化が指摘されている。プロットして確認してみよう。"
   ]
  },
  {
   "cell_type": "code",
   "execution_count": 27,
   "metadata": {
    "hidden": true
   },
   "outputs": [
    {
     "data": {
      "image/png": "[encoded data removed]",
      "text/plain": [
       "<Figure size 432x288 with 1 Axes>"
      ]
     },
     "metadata": {
      "needs_background": "light"
     },
     "output_type": "display_data"
    }
   ],
   "source": [
    "color_list = ['orange','black', 'blue', 'red'] # 1\n",
    "\n",
    "fig, ax = plt.subplots()\n",
    "\n",
    "for d, c in zip(decade_list, color_list):\n",
    "    \n",
    "    cond = ( df['decade'] == d )\n",
    "    \n",
    "    ax.scatter('unemployment_rate',\n",
    "               'inflation',\n",
    "               data=df.loc[cond,:],\n",
    "               edgecolor=c,                    # 2\n",
    "               facecolor='white',              # 3\n",
    "               label='')\n",
    "\n",
    "    ax.plot('unemployment_rate',\n",
    "           f'{d}年代データ',\n",
    "            data=df.loc[cond,:].sort_values(f'{d}年代データ'),\n",
    "            color=c,                           # 4\n",
    "            linewidth=2                        # 5\n",
    "            )\n",
    "\n",
    "ax.set_title('フラット化するフィリップス曲線', size=20)\n",
    "ax.set_xlabel('失業率', fontsize=15)\n",
    "ax.set_ylabel('インフレ率', fontsize=15)\n",
    "ax.legend()\n",
    "pass"
   ]
  },
  {
   "cell_type": "markdown",
   "metadata": {
    "hidden": true
   },
   "source": [
    "```{admonition} コードの説明\n",
    ":class: dropdown\n",
    "\n",
    "1. 色のリスト\n",
    "    * `['orange','k', 'b', 'r']`としてもOK。\n",
    "2. `edgecolor`は散布図の円形マーカーの縁の色を指定する引数。\n",
    "3. `facecolor`は散布図の円形マーカーの内側の色を指定する引数。\n",
    "4. `color`は直線の色を指定する引数。\n",
    "5. `linewidth`は直線幅を指定する引数。\n",
    "```"
   ]
  },
  {
   "cell_type": "markdown",
   "metadata": {
    "hidden": true
   },
   "source": [
    "````{admonition} 上の図をDataFrameのメソッド.plot()を使い図示する方法\n",
    ":class: dropdown\n",
    "\n",
    "```\n",
    "ax = df.iloc[0:0,:].plot.scatter('unemployment_rate', 'inflation', label='')\n",
    "\n",
    "for d, c in zip(decade_list, color_list):\n",
    "    \n",
    "    cond = ( df['decade'] == d )\n",
    "    \n",
    "    ax.scatter('unemployment_rate',\n",
    "               'inflation',\n",
    "               data=df.loc[cond,:],\n",
    "               edgecolor=c,\n",
    "               facecolor='white',\n",
    "               label='')\n",
    "\n",
    "    ax.plot('unemployment_rate',\n",
    "           f'{d}年代データ',\n",
    "            data=df.loc[cond,:].sort_values(f'{d}年代データ'),\n",
    "            color=c,\n",
    "            linewidth=2\n",
    "            )\n",
    "\n",
    "ax.set_title('フラット化するフィリップス曲線', size=20)\n",
    "ax.set_xlabel('失業率', fontsize=15)\n",
    "ax.set_ylabel('インフレ率', fontsize=15)\n",
    "ax.legend()\n",
    "```\n",
    "````"
   ]
  },
  {
   "cell_type": "markdown",
   "metadata": {
    "hidden": true
   },
   "source": [
    "時間が経つにつれてPC曲線は右に横滑りしていることが確認できる。失業率に対してのインフレ率の反応が鈍くなっていることを示しているが，フラット化の原因は定かではなく，活発な研究がおこなわれている。原因として次の点が指摘されている。\n",
    "1. 中央銀行の政策決定の透明化や政策のアナウンスメント，フォーワード・ガイダンス（将来の政策についてのガイダンス）などにより，中央銀行の物価安定（インフレ安定）重視のスタンスが民間に十分に浸透したと考えられる。失業が変化しても，インフレ率のの安定化を図る中央銀行の政策スタンスが民間の期待に織り込まれ，インフレ率の変化は小さくなったと思われる。この解釈が正しければ，日銀は素晴らしい仕事をしたということである。\n",
    "2. グローバル化や規制改革により競争環境が変化し（例えば，需要曲線の変化や寡占化），その結果，企業の価格設定行動がも変化したためである。\n",
    "3. 1980年代のPC曲線の傾きは，データ上では大きく見えるが，真のPC曲線はフラットだったという解釈である。上の散布図は観測されたデータを単純にプロットしただけであり，データだけを見てもその裏にあるデータ生成メカニズムは分からない。更には，1980年代にインフレ率が急に減少しているが，インフレ率の下落はPC曲線の下方シフトとして発生したと考えられ，それがデータ上ではPC曲線の急な傾きとして観測されているに過ぎない。\n",
    "4. PC曲線は直線ではなく非線形であり，失業率が高くなると傾きが緩やかになる。直感的には次のように理解できる。企業にとって価格改定にはコストがかかる。従って，インフレ率が高い場合は企業は価格改定をしないと損をするのでより頻繁に価格を上昇させる。一方，インフレ率が低いと，価格改定しない場合の損失は大きくないので，価格の変化は頻繁に起こらなくなる。\n",
    "\n",
    "解釈１〜３によると，「真のメカニズム」が変化したと考えることができる。一方，解釈４では「真のメカニズム」は変わらないという事になる。どの解釈がより妥当なのだろうか。非常に難しい問題であり，その解明が経済学の進歩につながる事は言うまでもない。（データと整合的な解釈が複数存在することは経済学でよくあることである。）\n",
    "\n",
    "経済学に関するジョークに，真っ暗な部屋で黒猫を探す経済学者が登場するものがある。それを模して黒猫がPC曲線だとしよう。最初に黒猫の小さな可愛い鳴き声が聞こえ，５分後にまた同じ方向から鳴き声が聞こえたとする。それだけで，黒猫がいた場所が少しでも変わったかどうかを判断するとした場合，様々な解釈が成立する。「右に10cm動いているようだ。」「いや左に5cm。」「1m程右に動いて元の位置に戻っている。」「そもそも猫は2匹いて，最初の黒猫は他の場所に移り，もう一匹の三毛猫が鳴いたのではないか。」「2回目の鳴き声は幻聴だ。」非常に難しそうである。"
   ]
  },
  {
   "cell_type": "markdown",
   "metadata": {
    "hidden": true
   },
   "source": [
    "```{admonition} 黒猫のジョーク\n",
    ":class: note, dropdown\n",
    "\n",
    "A mathematician, a theoretical economist and an econometrician are asked to find a black cat (who doesn't really exist) in a closed room with the lights off: \n",
    "* The mathematician (数学者) gets crazy trying to find a black cat that doesn't exist inside the darkened room and ends up in a psychiatric hospital. \n",
    "* The theoretical economist (理論経済学者) is unable to catch the black cat that doesn't exist inside the darkened room, but exits the room proudly proclaiming that he can construct a model to describe all his movements with extreme accuracy. \n",
    "* The econometrician (計量経済学者，特に経済データを用いて実証研究をする学者) walks securely into the darkened room, spend one hour looking for the black cat that doesn't exits and shouts from inside the room that he has it catched by the neck.\" \n",
    "\n",
    "[経済学のジョークのGoogle検索結果](https://www.google.co.jp/search?q=economics+jokes)\n",
    "```"
   ]
  },
  {
   "cell_type": "markdown",
   "metadata": {
    "heading_collapsed": true
   },
   "source": [
    "## インフレ率とマネーストックの増加率"
   ]
  },
  {
   "cell_type": "markdown",
   "metadata": {
    "heading_collapsed": true,
    "hidden": true
   },
   "source": [
    "### 説明"
   ]
  },
  {
   "cell_type": "markdown",
   "metadata": {
    "hidden": true
   },
   "source": [
    "貨幣数量説は次式で表される。\n",
    "\n",
    "$$\n",
    "P_tY_t=M_tV_t\n",
    "$$ (eq:11-qtm)\n",
    "\n",
    "* $P_t$：一般物価水準\n",
    "    * ある期間（1年間）で取引された財の集計物価水準\n",
    "* $Y_t$：実質支出（GDP）\n",
    "    * ある期間（1年間）で取引された財に対する実質支出額\n",
    "* $M_t$：マネーストック\n",
    "    * ある期間（1年間）平均で流通した貨幣量\n",
    "* $V_t$：貨幣の流通速度\n",
    "    * ある期間（1年間）平均で貨幣１単位が何回使用されたかを示す"
   ]
  },
  {
   "cell_type": "markdown",
   "metadata": {
    "hidden": true
   },
   "source": [
    "式[](eq:11-qtm)に対数を取り時間微分すると次式となる。\n",
    "\n",
    "$$\n",
    "\\pi_t+g_t=m_t+v_t\n",
    "$$ (eq:11-qtm_growth)\n",
    "\n",
    "ここで\n",
    "* $\\pi_t=\\dfrac{\\dot{P}_t}{P_t}$：インフレ率\n",
    "* $g_t=\\dfrac{\\dot{Y_t}}{Y_t}$：実質GDPの成長率\n",
    "* $m_t\\equiv\\dfrac{\\dot{M}_t}{M_t}$：マネーストックの増加率\n",
    "* $v_t=\\dfrac{\\dot{V}_t}{V_t}$：貨幣の流通速度の変化率\n",
    "\n",
    "式[](eq:11-qtm)は恒等式であり，式[](eq:11-qtm_growth)も常に成り立つ関係である。ここで長期均衡を考えてみよう。GDPは供給サイドで決定され，成長率は一定（$g_t=\\overline{g}$）としよう（ソロー・モデルを考えてみよう）。更に貨幣の流通速度は一定とする。この仮定のもと式[](eq:11-qtm_growth)は次式としてまとめることができる。\n",
    "\n",
    "$$\n",
    "\\pi_t = m_t-\\overline{g}\n",
    "$$ (eq:11-qtm_growth_long)"
   ]
  },
  {
   "cell_type": "markdown",
   "metadata": {
    "hidden": true
   },
   "source": [
    "この式によると，**長期的**なインフレ率はマネーストックの増加率によって決定される。この節では，式[](eq:11-qtm_growth_long)の予測がデータと整合的かどうかを議論する。次の２つのデータ・セットを使いこの問題を考察する。\n",
    "* 日本の時系列データ\n",
    "* 世界経済のパネル・データ\n",
    "\n",
    "手法としては散布図と回帰直線の傾きに基づいて正の相関があるかを考える。"
   ]
  },
  {
   "cell_type": "markdown",
   "metadata": {
    "heading_collapsed": true,
    "hidden": true
   },
   "source": [
    "### 日本の時系列データ"
   ]
  },
  {
   "cell_type": "markdown",
   "metadata": {
    "heading_collapsed": true,
    "hidden": true
   },
   "source": [
    "#### 説明"
   ]
  },
  {
   "cell_type": "markdown",
   "metadata": {
    "hidden": true
   },
   "source": [
    "`py4macro`には`jpn-money`というデータ・セットが含まれており，その内容は次のコードで確認できる。"
   ]
  },
  {
   "cell_type": "code",
   "execution_count": 28,
   "metadata": {
    "hidden": true
   },
   "outputs": [
    {
     "name": "stdout",
     "output_type": "stream",
     "text": [
      "\n",
      "    | `cpi`: 消費者物価指数\n",
      "    |   * 2015年の値を`100`\n",
      "    |   * 季節調整済み\n",
      "    | `money`: マネーストック（M1）\n",
      "    |   * 2015年の値を`100`\n",
      "    |   * 季節調整済み\n",
      "    |\n",
      "    | * 月次データ\n",
      "    | * 1955年1月〜2021年12月\n",
      "    | * 行ラベル：毎月の最終日\n",
      "    |\n",
      "    | ＜出典＞\n",
      "    | OECD Main Economic Indicators\n"
     ]
    }
   ],
   "source": [
    "py4macro.data('jpn-money', description=1)"
   ]
  },
  {
   "cell_type": "markdown",
   "metadata": {
    "hidden": true
   },
   "source": [
    "1955年1月から2021年4月までの月次データであり，消費者物価指数とマネーストックの２つの変数が含まれている。マネーストックにはM1が使われており，現金通貨と要求払預金(預入期間の設定がなく自由に出し入れができる預金のことであり，普通預金が典型的な例)で構成される。詳しくは[マネーストック統計の解説](https://www.boj.or.jp/statistics/outline/exp/data/exms01.pdf)を参考にしてほしい。M1を使う大きな理由は長い時系列データが存在することであり，長期的な関係である式[](eq:11-qtm_growth_long)を考えるには適しているためである。\n",
    "\n",
    "一方で長い時系列データであれば長期的な関係を捉えることができるという訳ではない。ここでの長期的な関係とは，ある作用が発生した後，その効果が現れるのに時間が掛かるという意味である。例えば，今日マネーストックの増加率が上昇したとしても，明日すぐにインフレ率の上昇につながるという訳ではなく，その効果が浸透しデータの数字に現れるまで数ヶ月掛かる事になる。この点を示すために次のステップで進めることにする。\n",
    "1. 月次データを変換して次のデータを作成する。\n",
    "    * 四半期データ\n",
    "    * 年次データ\n",
    "    * 1期を3年とするデータ（ここでは「3年次データ」と呼ぶ）\n",
    "2. 月次データを含む４つのデータ・セットを使い，２変数の散布図と回帰分析をおこなう。"
   ]
  },
  {
   "cell_type": "markdown",
   "metadata": {
    "heading_collapsed": true,
    "hidden": true
   },
   "source": [
    "#### `resample()`"
   ]
  },
  {
   "cell_type": "markdown",
   "metadata": {
    "hidden": true
   },
   "source": [
    "まず四半期データへの変換を考えよう。１四半期には３ヶ月の値があり，その平均を１四半期の値とする。同様に，年次データおよび3年次データに変換する場合は，12ヶ月間もしくは36ヶ月間の値を使い平均を計算することになる。このような計算は「連続的な時系列のグループ計算」として捉えることができる。グループ計算のメソッドに`groupby`があるが，カテゴリー変数に基づいてグループ分けするので，この問題に使うことはできない。その代わりに，時系列用グループ計算メソッドとして`resample`が用意されている。ここでは`resample`の使い方を紹介するが，異なる方法として移動平均を使うことも可能であり，興味がある人は[こちらを参照してみよう](https://py4basics.github.io/Moving_Average.html)。\n",
    "\n",
    "```{note}\n",
    "`resample`はグループ計算だけではなく，その「逆の計算」もすることができるがここでは触れない。以下では，「時系列グループ計算用」としてのみ考える。\n",
    "```\n",
    "\n",
    "`resample`の使い方を説明するために，次の`DataFrame`（変数名は`df_ex`）を考えよう。"
   ]
  },
  {
   "cell_type": "code",
   "execution_count": 29,
   "metadata": {
    "hidden": true,
    "tags": [
     "hide-input"
    ]
   },
   "outputs": [],
   "source": [
    "date_index = pd.date_range('2020-01-31','2021-12-31', freq='M')\n",
    "df_ex = pd.DataFrame({'X':list(range(10,120+1,10))*2,\n",
    "                      'Y':np.random.normal(5,1,size=12*2)},index=date_index)"
   ]
  },
  {
   "cell_type": "code",
   "execution_count": 30,
   "metadata": {
    "hidden": true,
    "tags": [
     "output_scroll"
    ]
   },
   "outputs": [
    {
     "data": {
      "text/html": [
       "<div>\n",
       "<style scoped>\n",
       "    .dataframe tbody tr th:only-of-type {\n",
       "        vertical-align: middle;\n",
       "    }\n",
       "\n",
       "    .dataframe tbody tr th {\n",
       "        vertical-align: top;\n",
       "    }\n",
       "\n",
       "    .dataframe thead th {\n",
       "        text-align: right;\n",
       "    }\n",
       "</style>\n",
       "<table border=\"1\" class=\"dataframe\">\n",
       "  <thead>\n",
       "    <tr style=\"text-align: right;\">\n",
       "      <th></th>\n",
       "      <th>X</th>\n",
       "      <th>Y</th>\n",
       "    </tr>\n",
       "  </thead>\n",
       "  <tbody>\n",
       "    <tr>\n",
       "      <th>2020-01-31</th>\n",
       "      <td>10</td>\n",
       "      <td>6.459087</td>\n",
       "    </tr>\n",
       "    <tr>\n",
       "      <th>2020-02-29</th>\n",
       "      <td>20</td>\n",
       "      <td>3.640094</td>\n",
       "    </tr>\n",
       "    <tr>\n",
       "      <th>2020-03-31</th>\n",
       "      <td>30</td>\n",
       "      <td>5.349174</td>\n",
       "    </tr>\n",
       "    <tr>\n",
       "      <th>2020-04-30</th>\n",
       "      <td>40</td>\n",
       "      <td>4.420843</td>\n",
       "    </tr>\n",
       "    <tr>\n",
       "      <th>2020-05-31</th>\n",
       "      <td>50</td>\n",
       "      <td>4.662933</td>\n",
       "    </tr>\n",
       "    <tr>\n",
       "      <th>2020-06-30</th>\n",
       "      <td>60</td>\n",
       "      <td>4.897591</td>\n",
       "    </tr>\n",
       "    <tr>\n",
       "      <th>2020-07-31</th>\n",
       "      <td>70</td>\n",
       "      <td>5.371042</td>\n",
       "    </tr>\n",
       "    <tr>\n",
       "      <th>2020-08-31</th>\n",
       "      <td>80</td>\n",
       "      <td>4.637756</td>\n",
       "    </tr>\n",
       "    <tr>\n",
       "      <th>2020-09-30</th>\n",
       "      <td>90</td>\n",
       "      <td>6.788344</td>\n",
       "    </tr>\n",
       "    <tr>\n",
       "      <th>2020-10-31</th>\n",
       "      <td>100</td>\n",
       "      <td>3.192981</td>\n",
       "    </tr>\n",
       "    <tr>\n",
       "      <th>2020-11-30</th>\n",
       "      <td>110</td>\n",
       "      <td>3.791696</td>\n",
       "    </tr>\n",
       "    <tr>\n",
       "      <th>2020-12-31</th>\n",
       "      <td>120</td>\n",
       "      <td>4.307237</td>\n",
       "    </tr>\n",
       "    <tr>\n",
       "      <th>2021-01-31</th>\n",
       "      <td>10</td>\n",
       "      <td>5.822227</td>\n",
       "    </tr>\n",
       "    <tr>\n",
       "      <th>2021-02-28</th>\n",
       "      <td>20</td>\n",
       "      <td>4.087630</td>\n",
       "    </tr>\n",
       "    <tr>\n",
       "      <th>2021-03-31</th>\n",
       "      <td>30</td>\n",
       "      <td>5.633877</td>\n",
       "    </tr>\n",
       "    <tr>\n",
       "      <th>2021-04-30</th>\n",
       "      <td>40</td>\n",
       "      <td>4.528608</td>\n",
       "    </tr>\n",
       "    <tr>\n",
       "      <th>2021-05-31</th>\n",
       "      <td>50</td>\n",
       "      <td>5.503009</td>\n",
       "    </tr>\n",
       "    <tr>\n",
       "      <th>2021-06-30</th>\n",
       "      <td>60</td>\n",
       "      <td>7.417069</td>\n",
       "    </tr>\n",
       "    <tr>\n",
       "      <th>2021-07-31</th>\n",
       "      <td>70</td>\n",
       "      <td>6.223933</td>\n",
       "    </tr>\n",
       "    <tr>\n",
       "      <th>2021-08-31</th>\n",
       "      <td>80</td>\n",
       "      <td>4.575817</td>\n",
       "    </tr>\n",
       "    <tr>\n",
       "      <th>2021-09-30</th>\n",
       "      <td>90</td>\n",
       "      <td>4.504058</td>\n",
       "    </tr>\n",
       "    <tr>\n",
       "      <th>2021-10-31</th>\n",
       "      <td>100</td>\n",
       "      <td>2.981003</td>\n",
       "    </tr>\n",
       "    <tr>\n",
       "      <th>2021-11-30</th>\n",
       "      <td>110</td>\n",
       "      <td>5.484320</td>\n",
       "    </tr>\n",
       "    <tr>\n",
       "      <th>2021-12-31</th>\n",
       "      <td>120</td>\n",
       "      <td>4.910425</td>\n",
       "    </tr>\n",
       "  </tbody>\n",
       "</table>\n",
       "</div>"
      ],
      "text/plain": [
       "              X         Y\n",
       "2020-01-31   10  6.459087\n",
       "2020-02-29   20  3.640094\n",
       "2020-03-31   30  5.349174\n",
       "2020-04-30   40  4.420843\n",
       "2020-05-31   50  4.662933\n",
       "2020-06-30   60  4.897591\n",
       "2020-07-31   70  5.371042\n",
       "2020-08-31   80  4.637756\n",
       "2020-09-30   90  6.788344\n",
       "2020-10-31  100  3.192981\n",
       "2020-11-30  110  3.791696\n",
       "2020-12-31  120  4.307237\n",
       "2021-01-31   10  5.822227\n",
       "2021-02-28   20  4.087630\n",
       "2021-03-31   30  5.633877\n",
       "2021-04-30   40  4.528608\n",
       "2021-05-31   50  5.503009\n",
       "2021-06-30   60  7.417069\n",
       "2021-07-31   70  6.223933\n",
       "2021-08-31   80  4.575817\n",
       "2021-09-30   90  4.504058\n",
       "2021-10-31  100  2.981003\n",
       "2021-11-30  110  5.484320\n",
       "2021-12-31  120  4.910425"
      ]
     },
     "execution_count": 30,
     "metadata": {},
     "output_type": "execute_result"
    }
   ],
   "source": [
    "df_ex"
   ]
  },
  {
   "cell_type": "markdown",
   "metadata": {
    "hidden": true
   },
   "source": [
    "`df_ex`には時系列用の行ラベルがが使われており，毎月の最後の日がラベルとなっている。列`X`には`10`から`120`までの整数が昇順に並んでおり，`Y`にはランダムは値が並んでいる。\n",
    "\n",
    "２つのステップに分けて説明する。\n",
    "\n",
    "**ステップ１**：グループ化の期間を指定する<br>\n",
    "最初のステップでは，グループ化する期間を引数として`.resample()`を実行する。指定する期間は次のように文字列として指定する。\n",
    "* `A`もしくは`Y`：１年を基準としてグループ化\n",
    "* `Q`：四半期を基準としてグループ化\n",
    "* `M`：１ヶ月を基準としてグループ化\n",
    "    * 3ヶ月であれば`3M`，１年であれば`12M`とできるが，`Q`と`A`（`Y`）と挙動が少し異なるので注意が必要である。\n",
    "\n",
    "`df_ex`を四半期でグループ化するには次のようになる。"
   ]
  },
  {
   "cell_type": "code",
   "execution_count": 31,
   "metadata": {
    "hidden": true
   },
   "outputs": [
    {
     "data": {
      "text/plain": [
       "<pandas.core.resample.DatetimeIndexResampler object at 0x7fc9c2503bb0>"
      ]
     },
     "execution_count": 31,
     "metadata": {},
     "output_type": "execute_result"
    }
   ],
   "source": [
    "df_ex.resample('Q')"
   ]
  },
  {
   "cell_type": "markdown",
   "metadata": {
    "hidden": true
   },
   "source": [
    "このコードは`DataFrame`を返すわけではない。返すのは時系列グループ計算用のオブジェクトであり，それを使ってグループ計算をおこなう事になる。\n",
    "\n",
    "**ステップ２**：計算内容を指定する。<br>\n",
    "どのような計算をしたいかを指定する。ここではメソッド.mean()を使って指定した期間内の平均を計算してみよう。"
   ]
  },
  {
   "cell_type": "code",
   "execution_count": 32,
   "metadata": {
    "hidden": true
   },
   "outputs": [
    {
     "data": {
      "text/html": [
       "<div>\n",
       "<style scoped>\n",
       "    .dataframe tbody tr th:only-of-type {\n",
       "        vertical-align: middle;\n",
       "    }\n",
       "\n",
       "    .dataframe tbody tr th {\n",
       "        vertical-align: top;\n",
       "    }\n",
       "\n",
       "    .dataframe thead th {\n",
       "        text-align: right;\n",
       "    }\n",
       "</style>\n",
       "<table border=\"1\" class=\"dataframe\">\n",
       "  <thead>\n",
       "    <tr style=\"text-align: right;\">\n",
       "      <th></th>\n",
       "      <th>X</th>\n",
       "      <th>Y</th>\n",
       "    </tr>\n",
       "  </thead>\n",
       "  <tbody>\n",
       "    <tr>\n",
       "      <th>2020-03-31</th>\n",
       "      <td>20.0</td>\n",
       "      <td>5.149452</td>\n",
       "    </tr>\n",
       "    <tr>\n",
       "      <th>2020-06-30</th>\n",
       "      <td>50.0</td>\n",
       "      <td>4.660456</td>\n",
       "    </tr>\n",
       "    <tr>\n",
       "      <th>2020-09-30</th>\n",
       "      <td>80.0</td>\n",
       "      <td>5.599047</td>\n",
       "    </tr>\n",
       "    <tr>\n",
       "      <th>2020-12-31</th>\n",
       "      <td>110.0</td>\n",
       "      <td>3.763971</td>\n",
       "    </tr>\n",
       "    <tr>\n",
       "      <th>2021-03-31</th>\n",
       "      <td>20.0</td>\n",
       "      <td>5.181245</td>\n",
       "    </tr>\n",
       "    <tr>\n",
       "      <th>2021-06-30</th>\n",
       "      <td>50.0</td>\n",
       "      <td>5.816229</td>\n",
       "    </tr>\n",
       "    <tr>\n",
       "      <th>2021-09-30</th>\n",
       "      <td>80.0</td>\n",
       "      <td>5.101270</td>\n",
       "    </tr>\n",
       "    <tr>\n",
       "      <th>2021-12-31</th>\n",
       "      <td>110.0</td>\n",
       "      <td>4.458583</td>\n",
       "    </tr>\n",
       "  </tbody>\n",
       "</table>\n",
       "</div>"
      ],
      "text/plain": [
       "                X         Y\n",
       "2020-03-31   20.0  5.149452\n",
       "2020-06-30   50.0  4.660456\n",
       "2020-09-30   80.0  5.599047\n",
       "2020-12-31  110.0  3.763971\n",
       "2021-03-31   20.0  5.181245\n",
       "2021-06-30   50.0  5.816229\n",
       "2021-09-30   80.0  5.101270\n",
       "2021-12-31  110.0  4.458583"
      ]
     },
     "execution_count": 32,
     "metadata": {},
     "output_type": "execute_result"
    }
   ],
   "source": [
    "df_ex.resample('Q').mean()"
   ]
  },
  {
   "cell_type": "markdown",
   "metadata": {
    "hidden": true
   },
   "source": [
    "行ラベルには四半期の最後の日が使われている。列`X`に並んでいる数字から，毎四半期の期間内平均であることが確認できる。\n",
    "\n",
    "次のコードは年平均を計算している。"
   ]
  },
  {
   "cell_type": "code",
   "execution_count": 33,
   "metadata": {
    "hidden": true
   },
   "outputs": [
    {
     "data": {
      "text/html": [
       "<div>\n",
       "<style scoped>\n",
       "    .dataframe tbody tr th:only-of-type {\n",
       "        vertical-align: middle;\n",
       "    }\n",
       "\n",
       "    .dataframe tbody tr th {\n",
       "        vertical-align: top;\n",
       "    }\n",
       "\n",
       "    .dataframe thead th {\n",
       "        text-align: right;\n",
       "    }\n",
       "</style>\n",
       "<table border=\"1\" class=\"dataframe\">\n",
       "  <thead>\n",
       "    <tr style=\"text-align: right;\">\n",
       "      <th></th>\n",
       "      <th>X</th>\n",
       "      <th>Y</th>\n",
       "    </tr>\n",
       "  </thead>\n",
       "  <tbody>\n",
       "    <tr>\n",
       "      <th>2020-12-31</th>\n",
       "      <td>65.0</td>\n",
       "      <td>4.793231</td>\n",
       "    </tr>\n",
       "    <tr>\n",
       "      <th>2021-12-31</th>\n",
       "      <td>65.0</td>\n",
       "      <td>5.139332</td>\n",
       "    </tr>\n",
       "  </tbody>\n",
       "</table>\n",
       "</div>"
      ],
      "text/plain": [
       "               X         Y\n",
       "2020-12-31  65.0  4.793231\n",
       "2021-12-31  65.0  5.139332"
      ]
     },
     "execution_count": 33,
     "metadata": {},
     "output_type": "execute_result"
    }
   ],
   "source": [
    "df_ex.resample('A').mean()"
   ]
  },
  {
   "cell_type": "markdown",
   "metadata": {
    "hidden": true
   },
   "source": [
    "平均以外にも様々な計算ができるようになっている。`see()`関数を使って属性を調べてみよう。"
   ]
  },
  {
   "cell_type": "code",
   "execution_count": 34,
   "metadata": {
    "hidden": true
   },
   "outputs": [
    {
     "data": {
      "text/plain": [
       "    .*                []                <                 <=                ==\n",
       "    !=                >                 >=                dir()\n",
       "    hash()            iter()            len()             repr()\n",
       "    str()             .X                .Y                .agg()\n",
       "    .aggregate()      .apply()          .asfreq()         .ax\n",
       "    .backfill()       .bfill()          .binner           .count()\n",
       "    .ffill()          .fillna()         .first()          .get_group()\n",
       "    .groupby          .groups           .indices          .interpolate()\n",
       "    .kind             .last()           .max()            .mean()\n",
       "    .median()         .min()            .ndim             .nearest()\n",
       "    .ngroups          .nunique()        .ohlc()           .pad()\n",
       "    .pipe()           .plot()           .prod()           .quantile()\n",
       "    .sem()            .size()           .std()            .sum()\n",
       "    .transform()      .var()"
      ]
     },
     "execution_count": 34,
     "metadata": {},
     "output_type": "execute_result"
    }
   ],
   "source": [
    "see(df_ex.resample('A'))"
   ]
  },
  {
   "cell_type": "markdown",
   "metadata": {
    "hidden": true
   },
   "source": [
    "主なメソッドとして次を挙げることができる（これらの計算で欠損値は無視される）。\n",
    "* `mean()`：平均\n",
    "* `median()`：中央値\n",
    "* `max()`：最大値\n",
    "* `min()`：最小値\n",
    "* `std()`：標準偏差\n",
    "* `var()`：分散\n",
    "* `sum()`：合計\n",
    "* `first()`：最初の値\n",
    "* `last()`：最後の値\n",
    "* `count()`：要素数\n",
    "\n",
    "このリストにない計算をしたい場合は，上のリストにある.agg()（aggregate()も同じ）を使い`NumPy`や自作の関数を指定することができる。例えば，変動係数（coefficient of variation）を計算したいとしよう。"
   ]
  },
  {
   "cell_type": "code",
   "execution_count": 35,
   "metadata": {
    "hidden": true
   },
   "outputs": [],
   "source": [
    "def cv(x):\n",
    "    return x.std() / x.mean()"
   ]
  },
  {
   "cell_type": "markdown",
   "metadata": {
    "hidden": true
   },
   "source": [
    "この関数の`x`は，時系列グループ計算で取り出された`Series`もしくは`DataFrame`と考えれば良いだろう。使い方は簡単で，`.agg()`の引数として`cv`を指定するだけである。"
   ]
  },
  {
   "cell_type": "code",
   "execution_count": 36,
   "metadata": {
    "hidden": true
   },
   "outputs": [
    {
     "data": {
      "text/html": [
       "<div>\n",
       "<style scoped>\n",
       "    .dataframe tbody tr th:only-of-type {\n",
       "        vertical-align: middle;\n",
       "    }\n",
       "\n",
       "    .dataframe tbody tr th {\n",
       "        vertical-align: top;\n",
       "    }\n",
       "\n",
       "    .dataframe thead th {\n",
       "        text-align: right;\n",
       "    }\n",
       "</style>\n",
       "<table border=\"1\" class=\"dataframe\">\n",
       "  <thead>\n",
       "    <tr style=\"text-align: right;\">\n",
       "      <th></th>\n",
       "      <th>X</th>\n",
       "      <th>Y</th>\n",
       "    </tr>\n",
       "  </thead>\n",
       "  <tbody>\n",
       "    <tr>\n",
       "      <th>2020-12-31</th>\n",
       "      <td>0.5547</td>\n",
       "      <td>0.224337</td>\n",
       "    </tr>\n",
       "    <tr>\n",
       "      <th>2021-12-31</th>\n",
       "      <td>0.5547</td>\n",
       "      <td>0.221368</td>\n",
       "    </tr>\n",
       "  </tbody>\n",
       "</table>\n",
       "</div>"
      ],
      "text/plain": [
       "                 X         Y\n",
       "2020-12-31  0.5547  0.224337\n",
       "2021-12-31  0.5547  0.221368"
      ]
     },
     "execution_count": 36,
     "metadata": {},
     "output_type": "execute_result"
    }
   ],
   "source": [
    "df_ex.resample('A').agg(cv)"
   ]
  },
  {
   "cell_type": "markdown",
   "metadata": {
    "hidden": true
   },
   "source": [
    "```{warning}\n",
    "`.agg()`の引数は`cv`であり`cv(x)`ではない。関数名だけを`.agg()`に渡し，`.agg()`が渡された関数を実行するというイメージである。`cv(x)`を引数に使うと，`cv(x)`を実行した**結果**を`.agg()`に渡すことになりエラーとなってしまう。\n",
    "```"
   ]
  },
  {
   "cell_type": "markdown",
   "metadata": {
    "heading_collapsed": true,
    "hidden": true
   },
   "source": [
    "#### データの作成"
   ]
  },
  {
   "cell_type": "markdown",
   "metadata": {
    "hidden": true
   },
   "source": [
    "では実際に`jpn-money`のデータを使いデータを整形しよう。まず月次データを読み込み`month`に割り当てる。"
   ]
  },
  {
   "cell_type": "code",
   "execution_count": 37,
   "metadata": {
    "hidden": true,
    "scrolled": true
   },
   "outputs": [
    {
     "data": {
      "text/html": [
       "<div>\n",
       "<style scoped>\n",
       "    .dataframe tbody tr th:only-of-type {\n",
       "        vertical-align: middle;\n",
       "    }\n",
       "\n",
       "    .dataframe tbody tr th {\n",
       "        vertical-align: top;\n",
       "    }\n",
       "\n",
       "    .dataframe thead th {\n",
       "        text-align: right;\n",
       "    }\n",
       "</style>\n",
       "<table border=\"1\" class=\"dataframe\">\n",
       "  <thead>\n",
       "    <tr style=\"text-align: right;\">\n",
       "      <th></th>\n",
       "      <th>cpi</th>\n",
       "      <th>money</th>\n",
       "    </tr>\n",
       "    <tr>\n",
       "      <th></th>\n",
       "      <th></th>\n",
       "      <th></th>\n",
       "    </tr>\n",
       "  </thead>\n",
       "  <tbody>\n",
       "    <tr>\n",
       "      <th>2021-08-31</th>\n",
       "      <td>101.618532</td>\n",
       "      <td>158.215194</td>\n",
       "    </tr>\n",
       "    <tr>\n",
       "      <th>2021-09-30</th>\n",
       "      <td>101.729035</td>\n",
       "      <td>158.977241</td>\n",
       "    </tr>\n",
       "    <tr>\n",
       "      <th>2021-10-31</th>\n",
       "      <td>101.401104</td>\n",
       "      <td>160.060574</td>\n",
       "    </tr>\n",
       "    <tr>\n",
       "      <th>2021-11-30</th>\n",
       "      <td>101.956670</td>\n",
       "      <td>161.054055</td>\n",
       "    </tr>\n",
       "    <tr>\n",
       "      <th>2021-12-31</th>\n",
       "      <td>102.045185</td>\n",
       "      <td>161.869633</td>\n",
       "    </tr>\n",
       "  </tbody>\n",
       "</table>\n",
       "</div>"
      ],
      "text/plain": [
       "                   cpi       money\n",
       "                                  \n",
       "2021-08-31  101.618532  158.215194\n",
       "2021-09-30  101.729035  158.977241\n",
       "2021-10-31  101.401104  160.060574\n",
       "2021-11-30  101.956670  161.054055\n",
       "2021-12-31  102.045185  161.869633"
      ]
     },
     "execution_count": 37,
     "metadata": {},
     "output_type": "execute_result"
    }
   ],
   "source": [
    "month = py4macro.data('jpn-money')\n",
    "month.tail()"
   ]
  },
  {
   "cell_type": "markdown",
   "metadata": {
    "hidden": true
   },
   "source": [
    "いつもの通り`.info()`を使ってデータの内容を確認しよう。"
   ]
  },
  {
   "cell_type": "code",
   "execution_count": 38,
   "metadata": {
    "hidden": true
   },
   "outputs": [
    {
     "name": "stdout",
     "output_type": "stream",
     "text": [
      "<class 'pandas.core.frame.DataFrame'>\n",
      "DatetimeIndex: 804 entries, 1955-01-31 to 2021-12-31\n",
      "Data columns (total 2 columns):\n",
      " #   Column  Non-Null Count  Dtype  \n",
      "---  ------  --------------  -----  \n",
      " 0   cpi     804 non-null    float64\n",
      " 1   money   804 non-null    float64\n",
      "dtypes: float64(2)\n",
      "memory usage: 18.8 KB\n"
     ]
    }
   ],
   "source": [
    "month.info()"
   ]
  },
  {
   "cell_type": "markdown",
   "metadata": {
    "hidden": true
   },
   "source": [
    "行ラベルが`DatetimeIndex`となっており，時系列データ用に設定されていることが分かる。\n",
    "\n",
    "四半期データに変換して変数`quarter`に割り当てることにする。"
   ]
  },
  {
   "cell_type": "code",
   "execution_count": 39,
   "metadata": {
    "hidden": true
   },
   "outputs": [],
   "source": [
    "quarter = month.resample('Q').mean()"
   ]
  },
  {
   "cell_type": "markdown",
   "metadata": {
    "hidden": true
   },
   "source": [
    "これで３ヶ月の値の平均からなる四半期データを作成した事になる。確かめてみよう。"
   ]
  },
  {
   "cell_type": "code",
   "execution_count": 40,
   "metadata": {
    "hidden": true
   },
   "outputs": [
    {
     "data": {
      "text/html": [
       "<div>\n",
       "<style scoped>\n",
       "    .dataframe tbody tr th:only-of-type {\n",
       "        vertical-align: middle;\n",
       "    }\n",
       "\n",
       "    .dataframe tbody tr th {\n",
       "        vertical-align: top;\n",
       "    }\n",
       "\n",
       "    .dataframe thead th {\n",
       "        text-align: right;\n",
       "    }\n",
       "</style>\n",
       "<table border=\"1\" class=\"dataframe\">\n",
       "  <thead>\n",
       "    <tr style=\"text-align: right;\">\n",
       "      <th></th>\n",
       "      <th>cpi</th>\n",
       "      <th>money</th>\n",
       "    </tr>\n",
       "    <tr>\n",
       "      <th></th>\n",
       "      <th></th>\n",
       "      <th></th>\n",
       "    </tr>\n",
       "  </thead>\n",
       "  <tbody>\n",
       "    <tr>\n",
       "      <th>1955-03-31</th>\n",
       "      <td>17.236707</td>\n",
       "      <td>0.347656</td>\n",
       "    </tr>\n",
       "    <tr>\n",
       "      <th>1955-06-30</th>\n",
       "      <td>16.874004</td>\n",
       "      <td>0.357257</td>\n",
       "    </tr>\n",
       "    <tr>\n",
       "      <th>1955-09-30</th>\n",
       "      <td>17.035517</td>\n",
       "      <td>0.384201</td>\n",
       "    </tr>\n",
       "    <tr>\n",
       "      <th>1955-12-31</th>\n",
       "      <td>16.875107</td>\n",
       "      <td>0.400080</td>\n",
       "    </tr>\n",
       "    <tr>\n",
       "      <th>1956-03-31</th>\n",
       "      <td>17.108284</td>\n",
       "      <td>0.394544</td>\n",
       "    </tr>\n",
       "  </tbody>\n",
       "</table>\n",
       "</div>"
      ],
      "text/plain": [
       "                  cpi     money\n",
       "                               \n",
       "1955-03-31  17.236707  0.347656\n",
       "1955-06-30  16.874004  0.357257\n",
       "1955-09-30  17.035517  0.384201\n",
       "1955-12-31  16.875107  0.400080\n",
       "1956-03-31  17.108284  0.394544"
      ]
     },
     "execution_count": 40,
     "metadata": {},
     "output_type": "execute_result"
    }
   ],
   "source": [
    "quarter.head()"
   ]
  },
  {
   "cell_type": "markdown",
   "metadata": {
    "hidden": true
   },
   "source": [
    "四半期の最後の日が行ラベルになっていることが分かる。同様に，年次データ作成しよう。"
   ]
  },
  {
   "cell_type": "code",
   "execution_count": 41,
   "metadata": {
    "hidden": true
   },
   "outputs": [
    {
     "data": {
      "text/html": [
       "<div>\n",
       "<style scoped>\n",
       "    .dataframe tbody tr th:only-of-type {\n",
       "        vertical-align: middle;\n",
       "    }\n",
       "\n",
       "    .dataframe tbody tr th {\n",
       "        vertical-align: top;\n",
       "    }\n",
       "\n",
       "    .dataframe thead th {\n",
       "        text-align: right;\n",
       "    }\n",
       "</style>\n",
       "<table border=\"1\" class=\"dataframe\">\n",
       "  <thead>\n",
       "    <tr style=\"text-align: right;\">\n",
       "      <th></th>\n",
       "      <th>cpi</th>\n",
       "      <th>money</th>\n",
       "    </tr>\n",
       "    <tr>\n",
       "      <th></th>\n",
       "      <th></th>\n",
       "      <th></th>\n",
       "    </tr>\n",
       "  </thead>\n",
       "  <tbody>\n",
       "    <tr>\n",
       "      <th>1955-12-31</th>\n",
       "      <td>17.005334</td>\n",
       "      <td>0.372299</td>\n",
       "    </tr>\n",
       "    <tr>\n",
       "      <th>1956-12-31</th>\n",
       "      <td>17.072603</td>\n",
       "      <td>0.424722</td>\n",
       "    </tr>\n",
       "    <tr>\n",
       "      <th>1957-12-31</th>\n",
       "      <td>17.601583</td>\n",
       "      <td>0.478435</td>\n",
       "    </tr>\n",
       "    <tr>\n",
       "      <th>1958-12-31</th>\n",
       "      <td>17.517496</td>\n",
       "      <td>0.505580</td>\n",
       "    </tr>\n",
       "    <tr>\n",
       "      <th>1959-12-31</th>\n",
       "      <td>17.707073</td>\n",
       "      <td>0.588486</td>\n",
       "    </tr>\n",
       "  </tbody>\n",
       "</table>\n",
       "</div>"
      ],
      "text/plain": [
       "                  cpi     money\n",
       "                               \n",
       "1955-12-31  17.005334  0.372299\n",
       "1956-12-31  17.072603  0.424722\n",
       "1957-12-31  17.601583  0.478435\n",
       "1958-12-31  17.517496  0.505580\n",
       "1959-12-31  17.707073  0.588486"
      ]
     },
     "execution_count": 41,
     "metadata": {},
     "output_type": "execute_result"
    }
   ],
   "source": [
    "annual = month.resample('A').mean()\n",
    "annual.head()"
   ]
  },
  {
   "cell_type": "markdown",
   "metadata": {
    "hidden": true
   },
   "source": [
    "１年の最後の日が行ラベルになっている。次に３年次データを作成しよう。"
   ]
  },
  {
   "cell_type": "code",
   "execution_count": 42,
   "metadata": {
    "hidden": true
   },
   "outputs": [
    {
     "data": {
      "text/html": [
       "<div>\n",
       "<style scoped>\n",
       "    .dataframe tbody tr th:only-of-type {\n",
       "        vertical-align: middle;\n",
       "    }\n",
       "\n",
       "    .dataframe tbody tr th {\n",
       "        vertical-align: top;\n",
       "    }\n",
       "\n",
       "    .dataframe thead th {\n",
       "        text-align: right;\n",
       "    }\n",
       "</style>\n",
       "<table border=\"1\" class=\"dataframe\">\n",
       "  <thead>\n",
       "    <tr style=\"text-align: right;\">\n",
       "      <th></th>\n",
       "      <th>cpi</th>\n",
       "      <th>money</th>\n",
       "    </tr>\n",
       "    <tr>\n",
       "      <th></th>\n",
       "      <th></th>\n",
       "      <th></th>\n",
       "    </tr>\n",
       "  </thead>\n",
       "  <tbody>\n",
       "    <tr>\n",
       "      <th>1957-12-31</th>\n",
       "      <td>17.226506</td>\n",
       "      <td>0.425152</td>\n",
       "    </tr>\n",
       "    <tr>\n",
       "      <th>1960-12-31</th>\n",
       "      <td>17.854861</td>\n",
       "      <td>0.599932</td>\n",
       "    </tr>\n",
       "    <tr>\n",
       "      <th>1963-12-31</th>\n",
       "      <td>20.666763</td>\n",
       "      <td>1.039100</td>\n",
       "    </tr>\n",
       "    <tr>\n",
       "      <th>1966-12-31</th>\n",
       "      <td>24.291933</td>\n",
       "      <td>1.641735</td>\n",
       "    </tr>\n",
       "    <tr>\n",
       "      <th>1969-12-31</th>\n",
       "      <td>28.080477</td>\n",
       "      <td>2.570458</td>\n",
       "    </tr>\n",
       "  </tbody>\n",
       "</table>\n",
       "</div>"
      ],
      "text/plain": [
       "                  cpi     money\n",
       "                               \n",
       "1957-12-31  17.226506  0.425152\n",
       "1960-12-31  17.854861  0.599932\n",
       "1963-12-31  20.666763  1.039100\n",
       "1966-12-31  24.291933  1.641735\n",
       "1969-12-31  28.080477  2.570458"
      ]
     },
     "execution_count": 42,
     "metadata": {},
     "output_type": "execute_result"
    }
   ],
   "source": [
    "annual3 = month.resample('36M',closed='left',label='right').mean()     # 1\n",
    "annual3.index = annual3.index - pd.tseries.frequencies.to_offset('M')  # 2\n",
    "annual3.head()"
   ]
  },
  {
   "cell_type": "markdown",
   "metadata": {
    "hidden": true
   },
   "source": [
    "このコードは`quarter`と`annual`のコード少し異なる。コードの具体的な説明は割愛するが，何をしているかを簡単に説明する。１行目の引数`36M`は36ヶ月を意味している。`3A`とすることもできるが，変わった挙動をするので月数（つきすう）を使っている。また引数`closed='left'`と`label='right'`が追加されているが，`quarter`と`annual`と同様の計算・表示になるようにするためである。２行目は行ラベルが３年次の最後の日になるように設定している。"
   ]
  },
  {
   "cell_type": "markdown",
   "metadata": {
    "hidden": true
   },
   "source": [
    "次にインフレ率とマネーストックの増加率の変化を計算し，新たな列としてそれぞれの`DataFrame`に追加しよう。増加率の公式に従ってコードを書いても良いが，`DataFrame`のメソッド`.pct_change()`を紹介する。これは名前が示すように（percent changeの略）列の変化率を計算するメソッドである。ここで注意が必要な点は，`.pct_change()`はデフォルトで前期比の増加率を返す。例えば，次のコードは`cpi`の前月と比べた増加率を計算している。\n",
    "```\n",
    "month.loc[:,'cpi'].pct_change()\n",
    "```\n",
    "同年同期比の増加率を計算したい場合は，12ヶ月前の値と比べたいので引数に`12`を指定すれば良い。例として，`quarter`で`cpi`の同年同期比のインフレ率を計算する場合は次のようになる。\n",
    "```\n",
    "month.loc[:,'cpi'].pct_change(4)\n",
    "```\n",
    "以下では，デフォルトで`.pct_change()`を使い計算する。"
   ]
  },
  {
   "cell_type": "code",
   "execution_count": 43,
   "metadata": {
    "hidden": true
   },
   "outputs": [],
   "source": [
    "df_list = [month, quarter, annual, annual3]\n",
    "\n",
    "for df in df_list:\n",
    "    df['inflation'] = df.loc[:,'cpi'].pct_change()\n",
    "    df['money_growth'] = df.loc[:,'money'].pct_change()"
   ]
  },
  {
   "cell_type": "markdown",
   "metadata": {
    "hidden": true
   },
   "source": [
    "`month`を確認してみよう。"
   ]
  },
  {
   "cell_type": "code",
   "execution_count": 44,
   "metadata": {
    "hidden": true
   },
   "outputs": [
    {
     "data": {
      "text/html": [
       "<div>\n",
       "<style scoped>\n",
       "    .dataframe tbody tr th:only-of-type {\n",
       "        vertical-align: middle;\n",
       "    }\n",
       "\n",
       "    .dataframe tbody tr th {\n",
       "        vertical-align: top;\n",
       "    }\n",
       "\n",
       "    .dataframe thead th {\n",
       "        text-align: right;\n",
       "    }\n",
       "</style>\n",
       "<table border=\"1\" class=\"dataframe\">\n",
       "  <thead>\n",
       "    <tr style=\"text-align: right;\">\n",
       "      <th></th>\n",
       "      <th>cpi</th>\n",
       "      <th>money</th>\n",
       "      <th>inflation</th>\n",
       "      <th>money_growth</th>\n",
       "    </tr>\n",
       "    <tr>\n",
       "      <th></th>\n",
       "      <th></th>\n",
       "      <th></th>\n",
       "      <th></th>\n",
       "      <th></th>\n",
       "    </tr>\n",
       "  </thead>\n",
       "  <tbody>\n",
       "    <tr>\n",
       "      <th>1955-01-31</th>\n",
       "      <td>17.219573</td>\n",
       "      <td>0.347029</td>\n",
       "      <td>NaN</td>\n",
       "      <td>NaN</td>\n",
       "    </tr>\n",
       "    <tr>\n",
       "      <th>1955-02-28</th>\n",
       "      <td>17.351247</td>\n",
       "      <td>0.350938</td>\n",
       "      <td>0.007647</td>\n",
       "      <td>0.011264</td>\n",
       "    </tr>\n",
       "    <tr>\n",
       "      <th>1955-03-31</th>\n",
       "      <td>17.139301</td>\n",
       "      <td>0.345003</td>\n",
       "      <td>-0.012215</td>\n",
       "      <td>-0.016910</td>\n",
       "    </tr>\n",
       "    <tr>\n",
       "      <th>1955-04-30</th>\n",
       "      <td>16.964259</td>\n",
       "      <td>0.353125</td>\n",
       "      <td>-0.010213</td>\n",
       "      <td>0.023541</td>\n",
       "    </tr>\n",
       "    <tr>\n",
       "      <th>1955-05-31</th>\n",
       "      <td>16.720857</td>\n",
       "      <td>0.354401</td>\n",
       "      <td>-0.014348</td>\n",
       "      <td>0.003613</td>\n",
       "    </tr>\n",
       "  </tbody>\n",
       "</table>\n",
       "</div>"
      ],
      "text/plain": [
       "                  cpi     money  inflation  money_growth\n",
       "                                                        \n",
       "1955-01-31  17.219573  0.347029        NaN           NaN\n",
       "1955-02-28  17.351247  0.350938   0.007647      0.011264\n",
       "1955-03-31  17.139301  0.345003  -0.012215     -0.016910\n",
       "1955-04-30  16.964259  0.353125  -0.010213      0.023541\n",
       "1955-05-31  16.720857  0.354401  -0.014348      0.003613"
      ]
     },
     "execution_count": 44,
     "metadata": {},
     "output_type": "execute_result"
    }
   ],
   "source": [
    "month.head()"
   ]
  },
  {
   "cell_type": "markdown",
   "metadata": {
    "hidden": true
   },
   "source": [
    "行`1955-01-01`の`inflation`と`money_growth`の値は`NaN`となっている。これは前期の値がないためである。"
   ]
  },
  {
   "cell_type": "markdown",
   "metadata": {
    "heading_collapsed": true,
    "hidden": true
   },
   "source": [
    "#### 散布図とトレンド線"
   ]
  },
  {
   "cell_type": "markdown",
   "metadata": {
    "hidden": true
   },
   "source": [
    "`for`ループを使ってOLSの計算とプロットを同時におこなおう。"
   ]
  },
  {
   "cell_type": "code",
   "execution_count": 45,
   "metadata": {
    "hidden": true
   },
   "outputs": [
    {
     "data": {
      "image/png": "[encoded data removed]",
      "text/plain": [
       "<Figure size 432x288 with 1 Axes>"
      ]
     },
     "metadata": {
      "needs_background": "light"
     },
     "output_type": "display_data"
    },
    {
     "data": {
      "image/png": "[encoded data removed]",
      "text/plain": [
       "<Figure size 432x288 with 1 Axes>"
      ]
     },
     "metadata": {
      "needs_background": "light"
     },
     "output_type": "display_data"
    },
    {
     "data": {
      "image/png": "[encoded data removed]",
      "text/plain": [
       "<Figure size 432x288 with 1 Axes>"
      ]
     },
     "metadata": {
      "needs_background": "light"
     },
     "output_type": "display_data"
    },
    {
     "data": {
      "image/png": "[encoded data removed]",
      "text/plain": [
       "<Figure size 432x288 with 1 Axes>"
      ]
     },
     "metadata": {
      "needs_background": "light"
     },
     "output_type": "display_data"
    }
   ],
   "source": [
    "title_list = ['月次データ','四半期データ','年次データ','3年次データ']    # 1\n",
    "\n",
    "for df, t in zip(df_list,title_list):\n",
    "    \n",
    "    res = sm.ols('inflation ~ money_growth', data=df).fit()    # 2\n",
    "    df['トレンド'] = res.fittedvalues                            # 3\n",
    "    \n",
    "    ax_ = df.plot('money_growth', 'inflation', kind='scatter') # 4\n",
    "    df.sort_values('トレンド').plot('money_growth','トレンド',     # 5\n",
    "                                   color='r', ax=ax_)          # 6\n",
    "    ax_.set_title(f'{t}\\n'                                     # 7\n",
    "                  f'スロープ係数：{res.params[1]:.3f}\\n'           # 8\n",
    "                  f'p値：{res.pvalues[1]:.3f}\\n'                # 9\n",
    "                  f'調整済み決定係数：{res.rsquared_adj:.3f}',      # 10\n",
    "                  size=18, loc='left')                         # 11"
   ]
  },
  {
   "cell_type": "markdown",
   "metadata": {
    "hidden": true
   },
   "source": [
    "```{admonition} コード説明\n",
    ":class: dropdown\n",
    "\n",
    "1. それぞれのプロットのタイトルのリスト。\n",
    "2. 最小二乗法の結果を変数`res`に割り当てる。\n",
    "3. `res.fittedvalues`はOLSの予測値であり，新たな列としてそれぞれの`DataFrame`に追加する。その際の列名を`トレンド`とする。\n",
    "4. 散布図を描き，生成される「軸」を`ax_`に割り当てる。\n",
    "5. トレンド線を描く。`.sort_values('トレンド')`を使って列`トレンド`を昇順に並び替える。\n",
    "6. `color='r'`は色を赤に指定する。\n",
    "7. `ax=ax_`はトレンド線を描く際，「軸」`ax_`を使うことをしてしている。`f-string`を使ってタイトルを`{t}`に代入している。\n",
    "8. `f-string`を使ってスロープ係数の推定値を代入している。\n",
    "    * `.pvalues`は推定値を抽出する`res`のメソッドであり，１番目の要素であるスロープ係数を`[1]`で指定している。\n",
    "    * `:.3f`は小数点第三位まで表示することを指定している。\n",
    "9. p値に関して(8)と同じことを行なっている。\n",
    "10. 調整済み決定係数に対して(8)と同じことを行なっている。\n",
    "11. `loc`はタイトルの位置を設定する引数。\n",
    "    * `'left'`は左寄せ\n",
    "    * `'right'`は右寄せ\n",
    "    * `'center'`は中央（デフォルト）\n",
    "```"
   ]
  },
  {
   "cell_type": "markdown",
   "metadata": {
    "hidden": true
   },
   "source": [
    "上の図とOLSの推定結果から次のことが分かる。\n",
    "* 全てのケースで統計的優位性は高い。\n",
    "* データの期間が長くなるとともに，スロープ係数の値が増加し，調整済み決定係数も高くなっている。\n",
    "\n",
    "これらのことからマネーストックの変化の影響は，より長い期間をかけてインフレへの影響が発生していることが伺える。この結果は，式[](eq:11-qtm_growth_long)は長期的に成立することと整合的であると言えそうだ。\n",
    "\n",
    "一方で，式[](eq:11-qtm_growth_long)は係数が`1`になることを予測しているが，上の4つのケースの係数は全て`1`よりも低い値となっている。この点を念頭に，次の節では日本だけではなく`170`国以上のデータを使い，問題を再検討することにする。また，OLS結果は因果関係を示しておらず単なる相関関係を表していることは念頭に置いておこう。\n",
    "\n",
    "```{note}\n",
    "４つの図の縦軸・横軸の値を比べると，データが長くなるにつれて値が大きくなることがわかる。期間が長くなると増加率も上昇するということである。注意してほしいのは，増加率が上昇したために正の相関が強くなったという訳ではなく，増加率がより高くなっても正の相関は弱いまま，もしくは相関が存在しない場合もあり得る。図が示しているのは，データの期間が長くなると正の相関が「炙り出される」ということである。\n",
    "```"
   ]
  },
  {
   "cell_type": "markdown",
   "metadata": {
    "hidden": true
   },
   "source": [
    "### 世界経済のパネルデータ"
   ]
  },
  {
   "cell_type": "markdown",
   "metadata": {
    "heading_collapsed": true,
    "hidden": true
   },
   "source": [
    "#### 説明"
   ]
  },
  {
   "cell_type": "markdown",
   "metadata": {
    "hidden": true
   },
   "source": [
    "前節では日本のデータを使い，インフレ率に対するマネーストック増加率の影響が現れるには時間が掛かることを示した。一方でトレンド線の傾き（回帰分析のスロープ）は１よりも小さいが，式[](eq:11-qtm_growth_long)は線形であり，$m_t$の計数は１である。即ち，マネーストックの増加率が1％上昇するとインフレ率も1％増加するという予測である。データと理論予測の齟齬をどう考えれば良いだろうか。一つの問題はノイズである。年次データであっても3年次データであってもその期間に短期的なありとあらゆるランダムな要素（ノイズ）が含まれている。ノイズは正や負の両方の影響があると考えられ，その分変化が激しいと思われる。長期的な関係は，正と負の影響が相殺し，その結果残った関係と考えることができる。この考えをデータで捉えるためにデータ全体の平均を計算すれば良いことになる。しかし前節で使用した日本の1955年から2020年のデータを使い，インフレ率とマネーストトック増加率の平均を計算すると，標本の大きさは`１`となってしまう。これではどうしようもないので，国数を増やし，観測値を増やす必要がある。従って，ここでは世界経済のパネルデータを使い２変数の関係を探ることにする。"
   ]
  },
  {
   "cell_type": "markdown",
   "metadata": {
    "hidden": true
   },
   "source": [
    "`py4macro`に含まれる`world-money`というデータ・セットを使うが，その内容は次のコードで確認できる。"
   ]
  },
  {
   "cell_type": "code",
   "execution_count": 46,
   "metadata": {
    "hidden": true
   },
   "outputs": [
    {
     "name": "stdout",
     "output_type": "stream",
     "text": [
      "\n",
      "    | `iso`: ISO国名コード\n",
      "    | `country`: 国名\n",
      "    | `year`: 年\n",
      "    | `income_group`: 世界銀行が定義する所得グループ\n",
      "    |   * High income\n",
      "    |   * Upper Middle income\n",
      "    |   * Lower Middle income\n",
      "    |   * Low income\n",
      "    | `money`: マネーストック（M1）\n",
      "    | `deflator`: GDPディフレーター\n",
      "    |\n",
      "    | * 年次データ\n",
      "    |\n",
      "    | ＜注意点＞\n",
      "    | * `money`と`deflator`が10年間以上連続で欠損値がない経済（177ヵ国）のみが含まれている。\n",
      "    | * 国によって含まれるデータの`year`が異なる。\n",
      "    | * 所得グループに関する情報\n",
      "    |   https://datahelpdesk.worldbank.org/knowledgebase/articles/906519-world-bank-country-and-lending-groups\n",
      "    |\n",
      "    | ＜出典＞\n",
      "    | World Bank Development Indicators\n"
     ]
    }
   ],
   "source": [
    "py4macro.data('world-money',description=1)"
   ]
  },
  {
   "cell_type": "markdown",
   "metadata": {
    "hidden": true
   },
   "source": [
    "国によってデータが使える期間が異なることに注意しよう。"
   ]
  },
  {
   "cell_type": "markdown",
   "metadata": {
    "hidden": true
   },
   "source": [
    "まず変数`world`にデータを割り当てる。"
   ]
  },
  {
   "cell_type": "code",
   "execution_count": 47,
   "metadata": {
    "hidden": true,
    "scrolled": true
   },
   "outputs": [
    {
     "data": {
      "text/html": [
       "<div>\n",
       "<style scoped>\n",
       "    .dataframe tbody tr th:only-of-type {\n",
       "        vertical-align: middle;\n",
       "    }\n",
       "\n",
       "    .dataframe tbody tr th {\n",
       "        vertical-align: top;\n",
       "    }\n",
       "\n",
       "    .dataframe thead th {\n",
       "        text-align: right;\n",
       "    }\n",
       "</style>\n",
       "<table border=\"1\" class=\"dataframe\">\n",
       "  <thead>\n",
       "    <tr style=\"text-align: right;\">\n",
       "      <th></th>\n",
       "      <th>iso</th>\n",
       "      <th>country</th>\n",
       "      <th>year</th>\n",
       "      <th>income_group</th>\n",
       "      <th>money</th>\n",
       "      <th>deflator</th>\n",
       "    </tr>\n",
       "  </thead>\n",
       "  <tbody>\n",
       "    <tr>\n",
       "      <th>0</th>\n",
       "      <td>ALB</td>\n",
       "      <td>Albania</td>\n",
       "      <td>1994</td>\n",
       "      <td>Upper middle income</td>\n",
       "      <td>3.876590e+10</td>\n",
       "      <td>35.739368</td>\n",
       "    </tr>\n",
       "    <tr>\n",
       "      <th>1</th>\n",
       "      <td>ALB</td>\n",
       "      <td>Albania</td>\n",
       "      <td>1995</td>\n",
       "      <td>Upper middle income</td>\n",
       "      <td>5.925260e+10</td>\n",
       "      <td>39.302820</td>\n",
       "    </tr>\n",
       "    <tr>\n",
       "      <th>2</th>\n",
       "      <td>ALB</td>\n",
       "      <td>Albania</td>\n",
       "      <td>1996</td>\n",
       "      <td>Upper middle income</td>\n",
       "      <td>9.040510e+10</td>\n",
       "      <td>54.305537</td>\n",
       "    </tr>\n",
       "    <tr>\n",
       "      <th>3</th>\n",
       "      <td>ALB</td>\n",
       "      <td>Albania</td>\n",
       "      <td>1997</td>\n",
       "      <td>Upper middle income</td>\n",
       "      <td>9.166720e+10</td>\n",
       "      <td>60.409306</td>\n",
       "    </tr>\n",
       "    <tr>\n",
       "      <th>4</th>\n",
       "      <td>ALB</td>\n",
       "      <td>Albania</td>\n",
       "      <td>1998</td>\n",
       "      <td>Upper middle income</td>\n",
       "      <td>8.372854e+10</td>\n",
       "      <td>64.475001</td>\n",
       "    </tr>\n",
       "  </tbody>\n",
       "</table>\n",
       "</div>"
      ],
      "text/plain": [
       "   iso  country  year         income_group         money   deflator\n",
       "0  ALB  Albania  1994  Upper middle income  3.876590e+10  35.739368\n",
       "1  ALB  Albania  1995  Upper middle income  5.925260e+10  39.302820\n",
       "2  ALB  Albania  1996  Upper middle income  9.040510e+10  54.305537\n",
       "3  ALB  Albania  1997  Upper middle income  9.166720e+10  60.409306\n",
       "4  ALB  Albania  1998  Upper middle income  8.372854e+10  64.475001"
      ]
     },
     "execution_count": 47,
     "metadata": {},
     "output_type": "execute_result"
    }
   ],
   "source": [
    "world = py4macro.data('world-money')\n",
    "world.head()"
   ]
  },
  {
   "cell_type": "markdown",
   "metadata": {
    "hidden": true
   },
   "source": [
    "いつも通り`.info()`を使って内容を確かめてみよう。"
   ]
  },
  {
   "cell_type": "code",
   "execution_count": 48,
   "metadata": {
    "hidden": true
   },
   "outputs": [
    {
     "name": "stdout",
     "output_type": "stream",
     "text": [
      "<class 'pandas.core.frame.DataFrame'>\n",
      "RangeIndex: 6584 entries, 0 to 6583\n",
      "Data columns (total 6 columns):\n",
      " #   Column        Non-Null Count  Dtype  \n",
      "---  ------        --------------  -----  \n",
      " 0   iso           6584 non-null   object \n",
      " 1   country       6584 non-null   object \n",
      " 2   year          6584 non-null   int64  \n",
      " 3   income_group  6584 non-null   object \n",
      " 4   money         6584 non-null   float64\n",
      " 5   deflator      6584 non-null   float64\n",
      "dtypes: float64(2), int64(1), object(3)\n",
      "memory usage: 308.8+ KB\n"
     ]
    }
   ],
   "source": [
    "world.info()"
   ]
  },
  {
   "cell_type": "markdown",
   "metadata": {
    "hidden": true
   },
   "source": [
    "欠損値はないことが確認できる。"
   ]
  },
  {
   "cell_type": "markdown",
   "metadata": {
    "heading_collapsed": true,
    "hidden": true
   },
   "source": [
    "#### 変化率の計算"
   ]
  },
  {
   "cell_type": "markdown",
   "metadata": {
    "hidden": true
   },
   "source": [
    "`world`には経済ごとに10年以上に渡ってインフレ率とマネーストック増加率が含まれている。国ごとの変数の変化率を計算するには，以前紹介した`.pivot()`を使うことも可能だが，少し回りくどい計算になっている。ここでは異なる方法として`.groupby()`を紹介する。`.groupby()`はグループ内で何らかの計算をする際に非常に便利なメソッドである。次のステップに従って説明する。\n",
    "1. `DataFram`をどの変数でグループ化するかを指定し，グループ化計算用のオブジェクトを用意する。\n",
    "    * ここでは経済ごとの平均を計算したいので，国`iso`（もしくは`country`）でグループ化する。\n",
    "1. グループ計算したい列を選ぶ。\n",
    "    * ここでは`money`と`deflation`となる。\n",
    "1. どのような計算をしたいのかを指定する。\n",
    "    * ここでは増加率なので`.pct_change()`を使う。\n",
    "\n",
    "**＜ステップ１＞**<br>\n",
    "グループ化用のオブジェクトの作成するためには`DataFrame`のメソッド`.groupby()`を使い，その引数にグループ化用の列を指定する。ここでは`world`を`iso`でグループ化した変数`world_group`に割り当てる。"
   ]
  },
  {
   "cell_type": "code",
   "execution_count": 49,
   "metadata": {
    "hidden": true
   },
   "outputs": [
    {
     "data": {
      "text/plain": [
       "<pandas.core.groupby.generic.DataFrameGroupBy object at 0x7fc9808c4100>"
      ]
     },
     "execution_count": 49,
     "metadata": {},
     "output_type": "execute_result"
    }
   ],
   "source": [
    "world_group = world.groupby('iso')\n",
    "world_group"
   ]
  },
  {
   "cell_type": "markdown",
   "metadata": {
    "hidden": true
   },
   "source": [
    "`DataFrameGroupBy object`が生成されたことを知らせるメッセージである。このオブジェクトは`world`自体をグループ化計算用に変換したものであり，`DataFrame`のように`.loc[]`などのメソッドは用意されていないので注意しよう。"
   ]
  },
  {
   "cell_type": "markdown",
   "metadata": {
    "hidden": true
   },
   "source": [
    "**＜ステップ２＞**<br>\n",
    "グループ計算したいのは`money`と`deflator`である。同時に指定しても構わないが，ここでは一つずつ指定することにする。例として`money`を考えよう。列を指定するには`[]`を使う。"
   ]
  },
  {
   "cell_type": "code",
   "execution_count": 50,
   "metadata": {
    "hidden": true
   },
   "outputs": [
    {
     "data": {
      "text/plain": [
       "<pandas.core.groupby.generic.SeriesGroupBy object at 0x7fc9c252a970>"
      ]
     },
     "execution_count": 50,
     "metadata": {},
     "output_type": "execute_result"
    }
   ],
   "source": [
    "world_group['money']"
   ]
  },
  {
   "cell_type": "markdown",
   "metadata": {
    "hidden": true
   },
   "source": [
    "`SeriesGroupBy object`が生成されたことを知らせるメッセージである。ステップ１で生成された`DataFrameGroupBy object`から`money`の箇所を取り出したグループ計算用オブジェクトである。`Series`となっていることから分かるように，`iso`でグループ化され列`money`専用のグループ計算オブジェクトである。"
   ]
  },
  {
   "cell_type": "markdown",
   "metadata": {
    "hidden": true
   },
   "source": [
    "**＜ステップ３＞**<br>\n",
    "グループ計算に平均を使いたいので，ステップ２のオブジェクトに`.pct_change()`をつか加えるだけである。"
   ]
  },
  {
   "cell_type": "code",
   "execution_count": 51,
   "metadata": {
    "hidden": true
   },
   "outputs": [
    {
     "data": {
      "text/plain": [
       "0            NaN\n",
       "1       0.528472\n",
       "2       0.525758\n",
       "3       0.013960\n",
       "4      -0.086603\n",
       "          ...   \n",
       "6579    1.700756\n",
       "6580   -0.538285\n",
       "6581   -0.547881\n",
       "6582    0.479342\n",
       "6583    0.936070\n",
       "Name: money, Length: 6584, dtype: float64"
      ]
     },
     "execution_count": 51,
     "metadata": {},
     "output_type": "execute_result"
    }
   ],
   "source": [
    "world_group['money'].pct_change()"
   ]
  },
  {
   "cell_type": "markdown",
   "metadata": {
    "hidden": true
   },
   "source": [
    "返されたのは国ごとに計算されたマネーストック増加率である。`Series`として返されているが，行の並びは`world`と同じである。従って，次のコードでマネーストック増加率の列を`world`に追加できる。"
   ]
  },
  {
   "cell_type": "code",
   "execution_count": 52,
   "metadata": {
    "hidden": true
   },
   "outputs": [
    {
     "data": {
      "text/html": [
       "<div>\n",
       "<style scoped>\n",
       "    .dataframe tbody tr th:only-of-type {\n",
       "        vertical-align: middle;\n",
       "    }\n",
       "\n",
       "    .dataframe tbody tr th {\n",
       "        vertical-align: top;\n",
       "    }\n",
       "\n",
       "    .dataframe thead th {\n",
       "        text-align: right;\n",
       "    }\n",
       "</style>\n",
       "<table border=\"1\" class=\"dataframe\">\n",
       "  <thead>\n",
       "    <tr style=\"text-align: right;\">\n",
       "      <th></th>\n",
       "      <th>iso</th>\n",
       "      <th>country</th>\n",
       "      <th>year</th>\n",
       "      <th>income_group</th>\n",
       "      <th>money</th>\n",
       "      <th>deflator</th>\n",
       "      <th>money_growth</th>\n",
       "    </tr>\n",
       "  </thead>\n",
       "  <tbody>\n",
       "    <tr>\n",
       "      <th>0</th>\n",
       "      <td>ALB</td>\n",
       "      <td>Albania</td>\n",
       "      <td>1994</td>\n",
       "      <td>Upper middle income</td>\n",
       "      <td>3.876590e+10</td>\n",
       "      <td>35.739368</td>\n",
       "      <td>NaN</td>\n",
       "    </tr>\n",
       "    <tr>\n",
       "      <th>1</th>\n",
       "      <td>ALB</td>\n",
       "      <td>Albania</td>\n",
       "      <td>1995</td>\n",
       "      <td>Upper middle income</td>\n",
       "      <td>5.925260e+10</td>\n",
       "      <td>39.302820</td>\n",
       "      <td>52.847219</td>\n",
       "    </tr>\n",
       "    <tr>\n",
       "      <th>2</th>\n",
       "      <td>ALB</td>\n",
       "      <td>Albania</td>\n",
       "      <td>1996</td>\n",
       "      <td>Upper middle income</td>\n",
       "      <td>9.040510e+10</td>\n",
       "      <td>54.305537</td>\n",
       "      <td>52.575752</td>\n",
       "    </tr>\n",
       "    <tr>\n",
       "      <th>3</th>\n",
       "      <td>ALB</td>\n",
       "      <td>Albania</td>\n",
       "      <td>1997</td>\n",
       "      <td>Upper middle income</td>\n",
       "      <td>9.166720e+10</td>\n",
       "      <td>60.409306</td>\n",
       "      <td>1.396050</td>\n",
       "    </tr>\n",
       "    <tr>\n",
       "      <th>4</th>\n",
       "      <td>ALB</td>\n",
       "      <td>Albania</td>\n",
       "      <td>1998</td>\n",
       "      <td>Upper middle income</td>\n",
       "      <td>8.372854e+10</td>\n",
       "      <td>64.475001</td>\n",
       "      <td>-8.660303</td>\n",
       "    </tr>\n",
       "  </tbody>\n",
       "</table>\n",
       "</div>"
      ],
      "text/plain": [
       "   iso  country  year         income_group         money   deflator  \\\n",
       "0  ALB  Albania  1994  Upper middle income  3.876590e+10  35.739368   \n",
       "1  ALB  Albania  1995  Upper middle income  5.925260e+10  39.302820   \n",
       "2  ALB  Albania  1996  Upper middle income  9.040510e+10  54.305537   \n",
       "3  ALB  Albania  1997  Upper middle income  9.166720e+10  60.409306   \n",
       "4  ALB  Albania  1998  Upper middle income  8.372854e+10  64.475001   \n",
       "\n",
       "   money_growth  \n",
       "0           NaN  \n",
       "1     52.847219  \n",
       "2     52.575752  \n",
       "3      1.396050  \n",
       "4     -8.660303  "
      ]
     },
     "execution_count": 52,
     "metadata": {},
     "output_type": "execute_result"
    }
   ],
   "source": [
    "world['money_growth'] = world_group['money'].pct_change()*100\n",
    "world.head()"
   ]
  },
  {
   "cell_type": "markdown",
   "metadata": {
    "hidden": true
   },
   "source": [
    "列`money_growth`が最後に追加さている。Albaniaの最初の行である0番目の行は`NaN`になっているが，増加率を計算する際に発生している。同様に，全ての国の最初の行には`NaN`が入っている（確かめてみよう）。\n",
    "\n",
    "次にインフレ率を計算する。次のコードは上で説明した手順を１行で書いている。"
   ]
  },
  {
   "cell_type": "code",
   "execution_count": 53,
   "metadata": {
    "hidden": true
   },
   "outputs": [],
   "source": [
    "world['inflation'] = world_group['deflator'].pct_change()*100"
   ]
  },
  {
   "cell_type": "markdown",
   "metadata": {
    "hidden": true
   },
   "source": [
    "試しに，日本のデータだけを抽出してみよう。"
   ]
  },
  {
   "cell_type": "code",
   "execution_count": 54,
   "metadata": {
    "hidden": true,
    "tags": [
     "output_scroll"
    ]
   },
   "outputs": [
    {
     "data": {
      "text/html": [
       "<div>\n",
       "<style scoped>\n",
       "    .dataframe tbody tr th:only-of-type {\n",
       "        vertical-align: middle;\n",
       "    }\n",
       "\n",
       "    .dataframe tbody tr th {\n",
       "        vertical-align: top;\n",
       "    }\n",
       "\n",
       "    .dataframe thead th {\n",
       "        text-align: right;\n",
       "    }\n",
       "</style>\n",
       "<table border=\"1\" class=\"dataframe\">\n",
       "  <thead>\n",
       "    <tr style=\"text-align: right;\">\n",
       "      <th></th>\n",
       "      <th>iso</th>\n",
       "      <th>country</th>\n",
       "      <th>year</th>\n",
       "      <th>income_group</th>\n",
       "      <th>money</th>\n",
       "      <th>deflator</th>\n",
       "      <th>money_growth</th>\n",
       "      <th>inflation</th>\n",
       "    </tr>\n",
       "  </thead>\n",
       "  <tbody>\n",
       "    <tr>\n",
       "      <th>3022</th>\n",
       "      <td>JPN</td>\n",
       "      <td>Japan</td>\n",
       "      <td>1961</td>\n",
       "      <td>High income</td>\n",
       "      <td>4.102000e+12</td>\n",
       "      <td>24.337971</td>\n",
       "      <td>NaN</td>\n",
       "      <td>NaN</td>\n",
       "    </tr>\n",
       "    <tr>\n",
       "      <th>3023</th>\n",
       "      <td>JPN</td>\n",
       "      <td>Japan</td>\n",
       "      <td>1962</td>\n",
       "      <td>High income</td>\n",
       "      <td>6.090000e+12</td>\n",
       "      <td>25.360063</td>\n",
       "      <td>48.464164</td>\n",
       "      <td>4.199578</td>\n",
       "    </tr>\n",
       "    <tr>\n",
       "      <th>3024</th>\n",
       "      <td>JPN</td>\n",
       "      <td>Japan</td>\n",
       "      <td>1963</td>\n",
       "      <td>High income</td>\n",
       "      <td>7.702000e+12</td>\n",
       "      <td>26.757522</td>\n",
       "      <td>26.469622</td>\n",
       "      <td>5.510469</td>\n",
       "    </tr>\n",
       "    <tr>\n",
       "      <th>3025</th>\n",
       "      <td>JPN</td>\n",
       "      <td>Japan</td>\n",
       "      <td>1964</td>\n",
       "      <td>High income</td>\n",
       "      <td>8.704000e+12</td>\n",
       "      <td>28.183351</td>\n",
       "      <td>13.009608</td>\n",
       "      <td>5.328706</td>\n",
       "    </tr>\n",
       "    <tr>\n",
       "      <th>3026</th>\n",
       "      <td>JPN</td>\n",
       "      <td>Japan</td>\n",
       "      <td>1965</td>\n",
       "      <td>High income</td>\n",
       "      <td>1.028700e+13</td>\n",
       "      <td>29.631090</td>\n",
       "      <td>18.187040</td>\n",
       "      <td>5.136857</td>\n",
       "    </tr>\n",
       "    <tr>\n",
       "      <th>3027</th>\n",
       "      <td>JPN</td>\n",
       "      <td>Japan</td>\n",
       "      <td>1966</td>\n",
       "      <td>High income</td>\n",
       "      <td>1.171600e+13</td>\n",
       "      <td>31.104013</td>\n",
       "      <td>13.891319</td>\n",
       "      <td>4.970869</td>\n",
       "    </tr>\n",
       "    <tr>\n",
       "      <th>3028</th>\n",
       "      <td>JPN</td>\n",
       "      <td>Japan</td>\n",
       "      <td>1967</td>\n",
       "      <td>High income</td>\n",
       "      <td>1.336900e+13</td>\n",
       "      <td>32.813300</td>\n",
       "      <td>14.108911</td>\n",
       "      <td>5.495390</td>\n",
       "    </tr>\n",
       "    <tr>\n",
       "      <th>3029</th>\n",
       "      <td>JPN</td>\n",
       "      <td>Japan</td>\n",
       "      <td>1968</td>\n",
       "      <td>High income</td>\n",
       "      <td>1.515500e+13</td>\n",
       "      <td>34.427341</td>\n",
       "      <td>13.359264</td>\n",
       "      <td>4.918863</td>\n",
       "    </tr>\n",
       "    <tr>\n",
       "      <th>3030</th>\n",
       "      <td>JPN</td>\n",
       "      <td>Japan</td>\n",
       "      <td>1969</td>\n",
       "      <td>High income</td>\n",
       "      <td>1.828200e+13</td>\n",
       "      <td>35.953642</td>\n",
       "      <td>20.633454</td>\n",
       "      <td>4.433399</td>\n",
       "    </tr>\n",
       "    <tr>\n",
       "      <th>3031</th>\n",
       "      <td>JPN</td>\n",
       "      <td>Japan</td>\n",
       "      <td>1970</td>\n",
       "      <td>High income</td>\n",
       "      <td>2.421400e+13</td>\n",
       "      <td>44.213162</td>\n",
       "      <td>32.447216</td>\n",
       "      <td>22.972693</td>\n",
       "    </tr>\n",
       "    <tr>\n",
       "      <th>3032</th>\n",
       "      <td>JPN</td>\n",
       "      <td>Japan</td>\n",
       "      <td>1971</td>\n",
       "      <td>High income</td>\n",
       "      <td>3.097200e+13</td>\n",
       "      <td>46.464210</td>\n",
       "      <td>27.909474</td>\n",
       "      <td>5.091352</td>\n",
       "    </tr>\n",
       "    <tr>\n",
       "      <th>3033</th>\n",
       "      <td>JPN</td>\n",
       "      <td>Japan</td>\n",
       "      <td>1972</td>\n",
       "      <td>High income</td>\n",
       "      <td>3.857900e+13</td>\n",
       "      <td>49.068260</td>\n",
       "      <td>24.560894</td>\n",
       "      <td>5.604422</td>\n",
       "    </tr>\n",
       "    <tr>\n",
       "      <th>3034</th>\n",
       "      <td>JPN</td>\n",
       "      <td>Japan</td>\n",
       "      <td>1973</td>\n",
       "      <td>High income</td>\n",
       "      <td>4.561100e+13</td>\n",
       "      <td>55.302577</td>\n",
       "      <td>18.227533</td>\n",
       "      <td>12.705396</td>\n",
       "    </tr>\n",
       "    <tr>\n",
       "      <th>3035</th>\n",
       "      <td>JPN</td>\n",
       "      <td>Japan</td>\n",
       "      <td>1974</td>\n",
       "      <td>High income</td>\n",
       "      <td>5.106500e+13</td>\n",
       "      <td>66.811071</td>\n",
       "      <td>11.957642</td>\n",
       "      <td>20.810050</td>\n",
       "    </tr>\n",
       "    <tr>\n",
       "      <th>3036</th>\n",
       "      <td>JPN</td>\n",
       "      <td>Japan</td>\n",
       "      <td>1975</td>\n",
       "      <td>High income</td>\n",
       "      <td>5.684700e+13</td>\n",
       "      <td>71.606396</td>\n",
       "      <td>11.322824</td>\n",
       "      <td>7.177441</td>\n",
       "    </tr>\n",
       "    <tr>\n",
       "      <th>3037</th>\n",
       "      <td>JPN</td>\n",
       "      <td>Japan</td>\n",
       "      <td>1976</td>\n",
       "      <td>High income</td>\n",
       "      <td>6.381800e+13</td>\n",
       "      <td>77.340555</td>\n",
       "      <td>12.262740</td>\n",
       "      <td>8.007886</td>\n",
       "    </tr>\n",
       "    <tr>\n",
       "      <th>3038</th>\n",
       "      <td>JPN</td>\n",
       "      <td>Japan</td>\n",
       "      <td>1977</td>\n",
       "      <td>High income</td>\n",
       "      <td>6.893500e+13</td>\n",
       "      <td>82.560351</td>\n",
       "      <td>8.018114</td>\n",
       "      <td>6.749107</td>\n",
       "    </tr>\n",
       "    <tr>\n",
       "      <th>3039</th>\n",
       "      <td>JPN</td>\n",
       "      <td>Japan</td>\n",
       "      <td>1978</td>\n",
       "      <td>High income</td>\n",
       "      <td>7.797000e+13</td>\n",
       "      <td>86.361230</td>\n",
       "      <td>13.106550</td>\n",
       "      <td>4.603758</td>\n",
       "    </tr>\n",
       "    <tr>\n",
       "      <th>3040</th>\n",
       "      <td>JPN</td>\n",
       "      <td>Japan</td>\n",
       "      <td>1979</td>\n",
       "      <td>High income</td>\n",
       "      <td>8.071200e+13</td>\n",
       "      <td>88.737573</td>\n",
       "      <td>3.516737</td>\n",
       "      <td>2.751631</td>\n",
       "    </tr>\n",
       "    <tr>\n",
       "      <th>3041</th>\n",
       "      <td>JPN</td>\n",
       "      <td>Japan</td>\n",
       "      <td>1980</td>\n",
       "      <td>High income</td>\n",
       "      <td>7.930300e+13</td>\n",
       "      <td>93.563108</td>\n",
       "      <td>-1.745713</td>\n",
       "      <td>5.437984</td>\n",
       "    </tr>\n",
       "    <tr>\n",
       "      <th>3042</th>\n",
       "      <td>JPN</td>\n",
       "      <td>Japan</td>\n",
       "      <td>1981</td>\n",
       "      <td>High income</td>\n",
       "      <td>8.678700e+13</td>\n",
       "      <td>96.301543</td>\n",
       "      <td>9.437222</td>\n",
       "      <td>2.926833</td>\n",
       "    </tr>\n",
       "    <tr>\n",
       "      <th>3043</th>\n",
       "      <td>JPN</td>\n",
       "      <td>Japan</td>\n",
       "      <td>1982</td>\n",
       "      <td>High income</td>\n",
       "      <td>9.193400e+13</td>\n",
       "      <td>97.981975</td>\n",
       "      <td>5.930612</td>\n",
       "      <td>1.744969</td>\n",
       "    </tr>\n",
       "    <tr>\n",
       "      <th>3044</th>\n",
       "      <td>JPN</td>\n",
       "      <td>Japan</td>\n",
       "      <td>1983</td>\n",
       "      <td>High income</td>\n",
       "      <td>9.198900e+13</td>\n",
       "      <td>98.908551</td>\n",
       "      <td>0.059826</td>\n",
       "      <td>0.945660</td>\n",
       "    </tr>\n",
       "    <tr>\n",
       "      <th>3045</th>\n",
       "      <td>JPN</td>\n",
       "      <td>Japan</td>\n",
       "      <td>1984</td>\n",
       "      <td>High income</td>\n",
       "      <td>9.812700e+13</td>\n",
       "      <td>100.365852</td>\n",
       "      <td>6.672537</td>\n",
       "      <td>1.473382</td>\n",
       "    </tr>\n",
       "    <tr>\n",
       "      <th>3046</th>\n",
       "      <td>JPN</td>\n",
       "      <td>Japan</td>\n",
       "      <td>1985</td>\n",
       "      <td>High income</td>\n",
       "      <td>1.010060e+14</td>\n",
       "      <td>101.630611</td>\n",
       "      <td>2.933953</td>\n",
       "      <td>1.260150</td>\n",
       "    </tr>\n",
       "    <tr>\n",
       "      <th>3047</th>\n",
       "      <td>JPN</td>\n",
       "      <td>Japan</td>\n",
       "      <td>1986</td>\n",
       "      <td>High income</td>\n",
       "      <td>1.112170e+14</td>\n",
       "      <td>103.269102</td>\n",
       "      <td>10.109300</td>\n",
       "      <td>1.612202</td>\n",
       "    </tr>\n",
       "    <tr>\n",
       "      <th>3048</th>\n",
       "      <td>JPN</td>\n",
       "      <td>Japan</td>\n",
       "      <td>1987</td>\n",
       "      <td>High income</td>\n",
       "      <td>1.166330e+14</td>\n",
       "      <td>103.106047</td>\n",
       "      <td>4.869759</td>\n",
       "      <td>-0.157894</td>\n",
       "    </tr>\n",
       "    <tr>\n",
       "      <th>3049</th>\n",
       "      <td>JPN</td>\n",
       "      <td>Japan</td>\n",
       "      <td>1988</td>\n",
       "      <td>High income</td>\n",
       "      <td>1.262110e+14</td>\n",
       "      <td>103.750762</td>\n",
       "      <td>8.212084</td>\n",
       "      <td>0.625293</td>\n",
       "    </tr>\n",
       "    <tr>\n",
       "      <th>3050</th>\n",
       "      <td>JPN</td>\n",
       "      <td>Japan</td>\n",
       "      <td>1989</td>\n",
       "      <td>High income</td>\n",
       "      <td>1.299050e+14</td>\n",
       "      <td>105.938752</td>\n",
       "      <td>2.926845</td>\n",
       "      <td>2.108890</td>\n",
       "    </tr>\n",
       "    <tr>\n",
       "      <th>3051</th>\n",
       "      <td>JPN</td>\n",
       "      <td>Japan</td>\n",
       "      <td>1990</td>\n",
       "      <td>High income</td>\n",
       "      <td>1.350370e+14</td>\n",
       "      <td>108.698779</td>\n",
       "      <td>3.950579</td>\n",
       "      <td>2.605305</td>\n",
       "    </tr>\n",
       "    <tr>\n",
       "      <th>3052</th>\n",
       "      <td>JPN</td>\n",
       "      <td>Japan</td>\n",
       "      <td>1991</td>\n",
       "      <td>High income</td>\n",
       "      <td>1.428830e+14</td>\n",
       "      <td>111.881314</td>\n",
       "      <td>5.810259</td>\n",
       "      <td>2.927848</td>\n",
       "    </tr>\n",
       "    <tr>\n",
       "      <th>3053</th>\n",
       "      <td>JPN</td>\n",
       "      <td>Japan</td>\n",
       "      <td>1992</td>\n",
       "      <td>High income</td>\n",
       "      <td>1.477900e+14</td>\n",
       "      <td>113.745972</td>\n",
       "      <td>3.434278</td>\n",
       "      <td>1.666639</td>\n",
       "    </tr>\n",
       "    <tr>\n",
       "      <th>3054</th>\n",
       "      <td>JPN</td>\n",
       "      <td>Japan</td>\n",
       "      <td>1993</td>\n",
       "      <td>High income</td>\n",
       "      <td>1.575810e+14</td>\n",
       "      <td>114.392473</td>\n",
       "      <td>6.624941</td>\n",
       "      <td>0.568373</td>\n",
       "    </tr>\n",
       "    <tr>\n",
       "      <th>3055</th>\n",
       "      <td>JPN</td>\n",
       "      <td>Japan</td>\n",
       "      <td>1994</td>\n",
       "      <td>High income</td>\n",
       "      <td>1.641370e+14</td>\n",
       "      <td>114.696203</td>\n",
       "      <td>4.160400</td>\n",
       "      <td>0.265515</td>\n",
       "    </tr>\n",
       "    <tr>\n",
       "      <th>3056</th>\n",
       "      <td>JPN</td>\n",
       "      <td>Japan</td>\n",
       "      <td>1995</td>\n",
       "      <td>High income</td>\n",
       "      <td>1.907660e+14</td>\n",
       "      <td>114.084345</td>\n",
       "      <td>16.223642</td>\n",
       "      <td>-0.533460</td>\n",
       "    </tr>\n",
       "    <tr>\n",
       "      <th>3057</th>\n",
       "      <td>JPN</td>\n",
       "      <td>Japan</td>\n",
       "      <td>1996</td>\n",
       "      <td>High income</td>\n",
       "      <td>2.087810e+14</td>\n",
       "      <td>113.517931</td>\n",
       "      <td>9.443507</td>\n",
       "      <td>-0.496487</td>\n",
       "    </tr>\n",
       "    <tr>\n",
       "      <th>3058</th>\n",
       "      <td>JPN</td>\n",
       "      <td>Japan</td>\n",
       "      <td>1997</td>\n",
       "      <td>High income</td>\n",
       "      <td>2.498136e+14</td>\n",
       "      <td>114.089868</td>\n",
       "      <td>19.653417</td>\n",
       "      <td>0.503830</td>\n",
       "    </tr>\n",
       "    <tr>\n",
       "      <th>3059</th>\n",
       "      <td>JPN</td>\n",
       "      <td>Japan</td>\n",
       "      <td>1998</td>\n",
       "      <td>High income</td>\n",
       "      <td>2.616490e+14</td>\n",
       "      <td>114.038391</td>\n",
       "      <td>4.737692</td>\n",
       "      <td>-0.045120</td>\n",
       "    </tr>\n",
       "    <tr>\n",
       "      <th>3060</th>\n",
       "      <td>JPN</td>\n",
       "      <td>Japan</td>\n",
       "      <td>1999</td>\n",
       "      <td>High income</td>\n",
       "      <td>2.903745e+14</td>\n",
       "      <td>112.545067</td>\n",
       "      <td>10.978639</td>\n",
       "      <td>-1.309492</td>\n",
       "    </tr>\n",
       "    <tr>\n",
       "      <th>3061</th>\n",
       "      <td>JPN</td>\n",
       "      <td>Japan</td>\n",
       "      <td>2000</td>\n",
       "      <td>High income</td>\n",
       "      <td>3.001829e+14</td>\n",
       "      <td>110.987797</td>\n",
       "      <td>3.377845</td>\n",
       "      <td>-1.383686</td>\n",
       "    </tr>\n",
       "    <tr>\n",
       "      <th>3062</th>\n",
       "      <td>JPN</td>\n",
       "      <td>Japan</td>\n",
       "      <td>2001</td>\n",
       "      <td>High income</td>\n",
       "      <td>3.111430e+14</td>\n",
       "      <td>109.761918</td>\n",
       "      <td>3.651141</td>\n",
       "      <td>-1.104517</td>\n",
       "    </tr>\n",
       "    <tr>\n",
       "      <th>3063</th>\n",
       "      <td>JPN</td>\n",
       "      <td>Japan</td>\n",
       "      <td>2002</td>\n",
       "      <td>High income</td>\n",
       "      <td>3.796386e+14</td>\n",
       "      <td>108.161276</td>\n",
       "      <td>22.014186</td>\n",
       "      <td>-1.458286</td>\n",
       "    </tr>\n",
       "    <tr>\n",
       "      <th>3064</th>\n",
       "      <td>JPN</td>\n",
       "      <td>Japan</td>\n",
       "      <td>2003</td>\n",
       "      <td>High income</td>\n",
       "      <td>4.506541e+14</td>\n",
       "      <td>106.412328</td>\n",
       "      <td>18.706080</td>\n",
       "      <td>-1.616981</td>\n",
       "    </tr>\n",
       "    <tr>\n",
       "      <th>3065</th>\n",
       "      <td>JPN</td>\n",
       "      <td>Japan</td>\n",
       "      <td>2004</td>\n",
       "      <td>High income</td>\n",
       "      <td>4.695480e+14</td>\n",
       "      <td>105.241010</td>\n",
       "      <td>4.192550</td>\n",
       "      <td>-1.100736</td>\n",
       "    </tr>\n",
       "    <tr>\n",
       "      <th>3066</th>\n",
       "      <td>JPN</td>\n",
       "      <td>Japan</td>\n",
       "      <td>2005</td>\n",
       "      <td>High income</td>\n",
       "      <td>4.944894e+14</td>\n",
       "      <td>104.149203</td>\n",
       "      <td>5.311789</td>\n",
       "      <td>-1.037435</td>\n",
       "    </tr>\n",
       "    <tr>\n",
       "      <th>3067</th>\n",
       "      <td>JPN</td>\n",
       "      <td>Japan</td>\n",
       "      <td>2006</td>\n",
       "      <td>High income</td>\n",
       "      <td>4.953890e+14</td>\n",
       "      <td>103.229172</td>\n",
       "      <td>0.181925</td>\n",
       "      <td>-0.883378</td>\n",
       "    </tr>\n",
       "    <tr>\n",
       "      <th>3068</th>\n",
       "      <td>JPN</td>\n",
       "      <td>Japan</td>\n",
       "      <td>2007</td>\n",
       "      <td>High income</td>\n",
       "      <td>4.967105e+14</td>\n",
       "      <td>102.476136</td>\n",
       "      <td>0.266760</td>\n",
       "      <td>-0.729480</td>\n",
       "    </tr>\n",
       "    <tr>\n",
       "      <th>3069</th>\n",
       "      <td>JPN</td>\n",
       "      <td>Japan</td>\n",
       "      <td>2008</td>\n",
       "      <td>High income</td>\n",
       "      <td>4.904771e+14</td>\n",
       "      <td>101.470952</td>\n",
       "      <td>-1.254936</td>\n",
       "      <td>-0.980895</td>\n",
       "    </tr>\n",
       "    <tr>\n",
       "      <th>3070</th>\n",
       "      <td>JPN</td>\n",
       "      <td>Japan</td>\n",
       "      <td>2009</td>\n",
       "      <td>High income</td>\n",
       "      <td>4.971079e+14</td>\n",
       "      <td>100.850688</td>\n",
       "      <td>1.351908</td>\n",
       "      <td>-0.611273</td>\n",
       "    </tr>\n",
       "    <tr>\n",
       "      <th>3071</th>\n",
       "      <td>JPN</td>\n",
       "      <td>Japan</td>\n",
       "      <td>2010</td>\n",
       "      <td>High income</td>\n",
       "      <td>5.133780e+14</td>\n",
       "      <td>98.939403</td>\n",
       "      <td>3.272951</td>\n",
       "      <td>-1.895164</td>\n",
       "    </tr>\n",
       "    <tr>\n",
       "      <th>3072</th>\n",
       "      <td>JPN</td>\n",
       "      <td>Japan</td>\n",
       "      <td>2011</td>\n",
       "      <td>High income</td>\n",
       "      <td>5.412710e+14</td>\n",
       "      <td>97.282835</td>\n",
       "      <td>5.433229</td>\n",
       "      <td>-1.674326</td>\n",
       "    </tr>\n",
       "    <tr>\n",
       "      <th>3073</th>\n",
       "      <td>JPN</td>\n",
       "      <td>Japan</td>\n",
       "      <td>2012</td>\n",
       "      <td>High income</td>\n",
       "      <td>5.607333e+14</td>\n",
       "      <td>96.541973</td>\n",
       "      <td>3.595666</td>\n",
       "      <td>-0.761555</td>\n",
       "    </tr>\n",
       "    <tr>\n",
       "      <th>3074</th>\n",
       "      <td>JPN</td>\n",
       "      <td>Japan</td>\n",
       "      <td>2013</td>\n",
       "      <td>High income</td>\n",
       "      <td>5.914823e+14</td>\n",
       "      <td>96.220317</td>\n",
       "      <td>5.483712</td>\n",
       "      <td>-0.333177</td>\n",
       "    </tr>\n",
       "    <tr>\n",
       "      <th>3075</th>\n",
       "      <td>JPN</td>\n",
       "      <td>Japan</td>\n",
       "      <td>2014</td>\n",
       "      <td>High income</td>\n",
       "      <td>6.203437e+14</td>\n",
       "      <td>97.899664</td>\n",
       "      <td>4.879504</td>\n",
       "      <td>1.745314</td>\n",
       "    </tr>\n",
       "  </tbody>\n",
       "</table>\n",
       "</div>"
      ],
      "text/plain": [
       "      iso country  year income_group         money    deflator  money_growth  \\\n",
       "3022  JPN   Japan  1961  High income  4.102000e+12   24.337971           NaN   \n",
       "3023  JPN   Japan  1962  High income  6.090000e+12   25.360063     48.464164   \n",
       "3024  JPN   Japan  1963  High income  7.702000e+12   26.757522     26.469622   \n",
       "3025  JPN   Japan  1964  High income  8.704000e+12   28.183351     13.009608   \n",
       "3026  JPN   Japan  1965  High income  1.028700e+13   29.631090     18.187040   \n",
       "3027  JPN   Japan  1966  High income  1.171600e+13   31.104013     13.891319   \n",
       "3028  JPN   Japan  1967  High income  1.336900e+13   32.813300     14.108911   \n",
       "3029  JPN   Japan  1968  High income  1.515500e+13   34.427341     13.359264   \n",
       "3030  JPN   Japan  1969  High income  1.828200e+13   35.953642     20.633454   \n",
       "3031  JPN   Japan  1970  High income  2.421400e+13   44.213162     32.447216   \n",
       "3032  JPN   Japan  1971  High income  3.097200e+13   46.464210     27.909474   \n",
       "3033  JPN   Japan  1972  High income  3.857900e+13   49.068260     24.560894   \n",
       "3034  JPN   Japan  1973  High income  4.561100e+13   55.302577     18.227533   \n",
       "3035  JPN   Japan  1974  High income  5.106500e+13   66.811071     11.957642   \n",
       "3036  JPN   Japan  1975  High income  5.684700e+13   71.606396     11.322824   \n",
       "3037  JPN   Japan  1976  High income  6.381800e+13   77.340555     12.262740   \n",
       "3038  JPN   Japan  1977  High income  6.893500e+13   82.560351      8.018114   \n",
       "3039  JPN   Japan  1978  High income  7.797000e+13   86.361230     13.106550   \n",
       "3040  JPN   Japan  1979  High income  8.071200e+13   88.737573      3.516737   \n",
       "3041  JPN   Japan  1980  High income  7.930300e+13   93.563108     -1.745713   \n",
       "3042  JPN   Japan  1981  High income  8.678700e+13   96.301543      9.437222   \n",
       "3043  JPN   Japan  1982  High income  9.193400e+13   97.981975      5.930612   \n",
       "3044  JPN   Japan  1983  High income  9.198900e+13   98.908551      0.059826   \n",
       "3045  JPN   Japan  1984  High income  9.812700e+13  100.365852      6.672537   \n",
       "3046  JPN   Japan  1985  High income  1.010060e+14  101.630611      2.933953   \n",
       "3047  JPN   Japan  1986  High income  1.112170e+14  103.269102     10.109300   \n",
       "3048  JPN   Japan  1987  High income  1.166330e+14  103.106047      4.869759   \n",
       "3049  JPN   Japan  1988  High income  1.262110e+14  103.750762      8.212084   \n",
       "3050  JPN   Japan  1989  High income  1.299050e+14  105.938752      2.926845   \n",
       "3051  JPN   Japan  1990  High income  1.350370e+14  108.698779      3.950579   \n",
       "3052  JPN   Japan  1991  High income  1.428830e+14  111.881314      5.810259   \n",
       "3053  JPN   Japan  1992  High income  1.477900e+14  113.745972      3.434278   \n",
       "3054  JPN   Japan  1993  High income  1.575810e+14  114.392473      6.624941   \n",
       "3055  JPN   Japan  1994  High income  1.641370e+14  114.696203      4.160400   \n",
       "3056  JPN   Japan  1995  High income  1.907660e+14  114.084345     16.223642   \n",
       "3057  JPN   Japan  1996  High income  2.087810e+14  113.517931      9.443507   \n",
       "3058  JPN   Japan  1997  High income  2.498136e+14  114.089868     19.653417   \n",
       "3059  JPN   Japan  1998  High income  2.616490e+14  114.038391      4.737692   \n",
       "3060  JPN   Japan  1999  High income  2.903745e+14  112.545067     10.978639   \n",
       "3061  JPN   Japan  2000  High income  3.001829e+14  110.987797      3.377845   \n",
       "3062  JPN   Japan  2001  High income  3.111430e+14  109.761918      3.651141   \n",
       "3063  JPN   Japan  2002  High income  3.796386e+14  108.161276     22.014186   \n",
       "3064  JPN   Japan  2003  High income  4.506541e+14  106.412328     18.706080   \n",
       "3065  JPN   Japan  2004  High income  4.695480e+14  105.241010      4.192550   \n",
       "3066  JPN   Japan  2005  High income  4.944894e+14  104.149203      5.311789   \n",
       "3067  JPN   Japan  2006  High income  4.953890e+14  103.229172      0.181925   \n",
       "3068  JPN   Japan  2007  High income  4.967105e+14  102.476136      0.266760   \n",
       "3069  JPN   Japan  2008  High income  4.904771e+14  101.470952     -1.254936   \n",
       "3070  JPN   Japan  2009  High income  4.971079e+14  100.850688      1.351908   \n",
       "3071  JPN   Japan  2010  High income  5.133780e+14   98.939403      3.272951   \n",
       "3072  JPN   Japan  2011  High income  5.412710e+14   97.282835      5.433229   \n",
       "3073  JPN   Japan  2012  High income  5.607333e+14   96.541973      3.595666   \n",
       "3074  JPN   Japan  2013  High income  5.914823e+14   96.220317      5.483712   \n",
       "3075  JPN   Japan  2014  High income  6.203437e+14   97.899664      4.879504   \n",
       "\n",
       "      inflation  \n",
       "3022        NaN  \n",
       "3023   4.199578  \n",
       "3024   5.510469  \n",
       "3025   5.328706  \n",
       "3026   5.136857  \n",
       "3027   4.970869  \n",
       "3028   5.495390  \n",
       "3029   4.918863  \n",
       "3030   4.433399  \n",
       "3031  22.972693  \n",
       "3032   5.091352  \n",
       "3033   5.604422  \n",
       "3034  12.705396  \n",
       "3035  20.810050  \n",
       "3036   7.177441  \n",
       "3037   8.007886  \n",
       "3038   6.749107  \n",
       "3039   4.603758  \n",
       "3040   2.751631  \n",
       "3041   5.437984  \n",
       "3042   2.926833  \n",
       "3043   1.744969  \n",
       "3044   0.945660  \n",
       "3045   1.473382  \n",
       "3046   1.260150  \n",
       "3047   1.612202  \n",
       "3048  -0.157894  \n",
       "3049   0.625293  \n",
       "3050   2.108890  \n",
       "3051   2.605305  \n",
       "3052   2.927848  \n",
       "3053   1.666639  \n",
       "3054   0.568373  \n",
       "3055   0.265515  \n",
       "3056  -0.533460  \n",
       "3057  -0.496487  \n",
       "3058   0.503830  \n",
       "3059  -0.045120  \n",
       "3060  -1.309492  \n",
       "3061  -1.383686  \n",
       "3062  -1.104517  \n",
       "3063  -1.458286  \n",
       "3064  -1.616981  \n",
       "3065  -1.100736  \n",
       "3066  -1.037435  \n",
       "3067  -0.883378  \n",
       "3068  -0.729480  \n",
       "3069  -0.980895  \n",
       "3070  -0.611273  \n",
       "3071  -1.895164  \n",
       "3072  -1.674326  \n",
       "3073  -0.761555  \n",
       "3074  -0.333177  \n",
       "3075   1.745314  "
      ]
     },
     "execution_count": 54,
     "metadata": {},
     "output_type": "execute_result"
    }
   ],
   "source": [
    "world.query('iso==\"JPN\"')"
   ]
  },
  {
   "cell_type": "markdown",
   "metadata": {
    "hidden": true
   },
   "source": [
    "上で説明したように，列`money_growth`と`inflation`の0番目の行の要素は`NaN`となっている。"
   ]
  },
  {
   "cell_type": "markdown",
   "metadata": {
    "heading_collapsed": true,
    "hidden": true
   },
   "source": [
    "#### ハイパーインフレ"
   ]
  },
  {
   "cell_type": "markdown",
   "metadata": {
    "hidden": true
   },
   "source": [
    "ハイパーインフレの確固たる定義はないが，Mankiwの教科書「マクロ経済学」では年率50％以上と定義している。この定義に基づき，ハイパーインフレは観測値の何％を占めるかを計算してみよう。まず`inflation`で`NaN`ではない行の数を数える。"
   ]
  },
  {
   "cell_type": "code",
   "execution_count": 55,
   "metadata": {
    "hidden": true
   },
   "outputs": [
    {
     "data": {
      "text/plain": [
       "6407"
      ]
     },
     "execution_count": 55,
     "metadata": {},
     "output_type": "execute_result"
    }
   ],
   "source": [
    "notna = world.loc[:,'inflation'].notna().sum()\n",
    "notna"
   ]
  },
  {
   "cell_type": "markdown",
   "metadata": {
    "hidden": true
   },
   "source": [
    "```{admonition} コードの説明\n",
    ":class: dropdown\n",
    "\n",
    "欠損値である`NaN`は`na`（not available）とも呼ばれる。メソッド`.notna()`は文字通り`na`ではない要素には`True`を`na`である要素には`False`を返す。`.sum()`は`True`の数を合計している。\n",
    "```\n",
    "\n",
    "`inflation`の値が`NaN`ではない行は6407あることがわかった。次に`inflation`が50％以上の行数を数えてみよう。"
   ]
  },
  {
   "cell_type": "code",
   "execution_count": 56,
   "metadata": {
    "hidden": true
   },
   "outputs": [
    {
     "data": {
      "text/plain": [
       "300"
      ]
     },
     "execution_count": 56,
     "metadata": {},
     "output_type": "execute_result"
    }
   ],
   "source": [
    "hyper = len( world.query('inflation >= 50') )\n",
    "hyper"
   ]
  },
  {
   "cell_type": "code",
   "execution_count": 57,
   "metadata": {
    "hidden": true
   },
   "outputs": [
    {
     "name": "stdout",
     "output_type": "stream",
     "text": [
      "観測値の4.68％でハイパーインフレが発生している。\n"
     ]
    }
   ],
   "source": [
    "print(f'観測値の{100*hyper/notna:.2f}％でハイパーインフレが発生している。')"
   ]
  },
  {
   "cell_type": "markdown",
   "metadata": {
    "hidden": true
   },
   "source": [
    "次に`inflation`の上位5ヵ国を表示してみよう。"
   ]
  },
  {
   "cell_type": "code",
   "execution_count": 58,
   "metadata": {
    "hidden": true
   },
   "outputs": [
    {
     "data": {
      "text/html": [
       "<div>\n",
       "<style scoped>\n",
       "    .dataframe tbody tr th:only-of-type {\n",
       "        vertical-align: middle;\n",
       "    }\n",
       "\n",
       "    .dataframe tbody tr th {\n",
       "        vertical-align: top;\n",
       "    }\n",
       "\n",
       "    .dataframe thead th {\n",
       "        text-align: right;\n",
       "    }\n",
       "</style>\n",
       "<table border=\"1\" class=\"dataframe\">\n",
       "  <thead>\n",
       "    <tr style=\"text-align: right;\">\n",
       "      <th></th>\n",
       "      <th>iso</th>\n",
       "      <th>country</th>\n",
       "      <th>year</th>\n",
       "      <th>income_group</th>\n",
       "      <th>money</th>\n",
       "      <th>deflator</th>\n",
       "      <th>money_growth</th>\n",
       "      <th>inflation</th>\n",
       "    </tr>\n",
       "  </thead>\n",
       "  <tbody>\n",
       "    <tr>\n",
       "      <th>1413</th>\n",
       "      <td>COD</td>\n",
       "      <td>Congo, Dem. Rep.</td>\n",
       "      <td>1994</td>\n",
       "      <td>Low income</td>\n",
       "      <td>3725130.0</td>\n",
       "      <td>0.001219</td>\n",
       "      <td>5635.381062</td>\n",
       "      <td>26765.858252</td>\n",
       "    </tr>\n",
       "    <tr>\n",
       "      <th>4277</th>\n",
       "      <td>NIC</td>\n",
       "      <td>Nicaragua</td>\n",
       "      <td>1988</td>\n",
       "      <td>Lower middle income</td>\n",
       "      <td>33480.0</td>\n",
       "      <td>0.000091</td>\n",
       "      <td>11673.429423</td>\n",
       "      <td>13611.634819</td>\n",
       "    </tr>\n",
       "    <tr>\n",
       "      <th>680</th>\n",
       "      <td>BOL</td>\n",
       "      <td>Bolivia</td>\n",
       "      <td>1985</td>\n",
       "      <td>Lower middle income</td>\n",
       "      <td>111800000.0</td>\n",
       "      <td>17.094034</td>\n",
       "      <td>3587.821612</td>\n",
       "      <td>12338.622324</td>\n",
       "    </tr>\n",
       "    <tr>\n",
       "      <th>4719</th>\n",
       "      <td>PER</td>\n",
       "      <td>Peru</td>\n",
       "      <td>1990</td>\n",
       "      <td>Upper middle income</td>\n",
       "      <td>707331500.0</td>\n",
       "      <td>3.608738</td>\n",
       "      <td>6724.820224</td>\n",
       "      <td>6261.239559</td>\n",
       "    </tr>\n",
       "    <tr>\n",
       "      <th>4279</th>\n",
       "      <td>NIC</td>\n",
       "      <td>Nicaragua</td>\n",
       "      <td>1990</td>\n",
       "      <td>Lower middle income</td>\n",
       "      <td>52778530.0</td>\n",
       "      <td>0.223530</td>\n",
       "      <td>6286.714344</td>\n",
       "      <td>5016.107950</td>\n",
       "    </tr>\n",
       "  </tbody>\n",
       "</table>\n",
       "</div>"
      ],
      "text/plain": [
       "      iso           country  year         income_group        money  \\\n",
       "1413  COD  Congo, Dem. Rep.  1994           Low income    3725130.0   \n",
       "4277  NIC         Nicaragua  1988  Lower middle income      33480.0   \n",
       "680   BOL           Bolivia  1985  Lower middle income  111800000.0   \n",
       "4719  PER              Peru  1990  Upper middle income  707331500.0   \n",
       "4279  NIC         Nicaragua  1990  Lower middle income   52778530.0   \n",
       "\n",
       "       deflator  money_growth     inflation  \n",
       "1413   0.001219   5635.381062  26765.858252  \n",
       "4277   0.000091  11673.429423  13611.634819  \n",
       "680   17.094034   3587.821612  12338.622324  \n",
       "4719   3.608738   6724.820224   6261.239559  \n",
       "4279   0.223530   6286.714344   5016.107950  "
      ]
     },
     "execution_count": 58,
     "metadata": {},
     "output_type": "execute_result"
    }
   ],
   "source": [
    "world.sort_values('inflation',ascending=False).head()"
   ]
  },
  {
   "cell_type": "markdown",
   "metadata": {
    "hidden": true
   },
   "source": [
    "トップはコンゴ共和国（COD）の年率26,766％！しかし，この数字はあまりピンとこないかもしれないので，次式を使って一日のインフレ率に換算してみよう。\n",
    "\n",
    "$$\n",
    "(1+g_{{日}})^{365}=1+g_{\\text{年}}\n",
    "\\quad\\Rightarrow\\quad\n",
    "g_{{日}}=(1+g_{\\text{年}})^{\\frac{1}{365}}-1\n",
    "$$\n",
    "\n",
    "ここで$g_{{年}}$は年率のインフレ率であり，$g_{{日}}$は1日当たりのインフレ率。この式を使い１に当たりの平均インフレ率を計算してみる。"
   ]
  },
  {
   "cell_type": "code",
   "execution_count": 59,
   "metadata": {
    "hidden": true
   },
   "outputs": [
    {
     "data": {
      "text/plain": [
       "1413    1.544252\n",
       "Name: inflation, dtype: float64"
      ]
     },
     "execution_count": 59,
     "metadata": {},
     "output_type": "execute_result"
    }
   ],
   "source": [
    "inflation_cod = world.query('(iso==\"COD\") & (year==1994)').loc[:,'inflation']\n",
    "\n",
    "inflation_cod_day = 100*( (1+inflation_cod/100)**(1/365)-1 )\n",
    "inflation_cod_day"
   ]
  },
  {
   "cell_type": "markdown",
   "metadata": {
    "hidden": true
   },
   "source": [
    "1日平均約1.54％のインフレ率となる。日本で考えると，最近の年率でのインフレ率よりも高い数字である（2021年8月現在）。もう少し身近に感じられるように，物価が２倍になるには何日かかるかを考えてみよう。$t$日後に物価は２倍になるとすると，次式が成立する。\n",
    "\n",
    "$$\n",
    "2=(1+g_{\\text{日}})^t\n",
    "\\quad\\Rightarrow\\quad\n",
    "t=\\frac{\\log(2)}{\\log(1+g_{\\text{日}})}\n",
    "$$\n",
    "\n",
    "この式を使って$t$を計算してみよう。"
   ]
  },
  {
   "cell_type": "code",
   "execution_count": 60,
   "metadata": {
    "hidden": true
   },
   "outputs": [
    {
     "data": {
      "text/plain": [
       "1413    45.231317\n",
       "Name: inflation, dtype: float64"
      ]
     },
     "execution_count": 60,
     "metadata": {},
     "output_type": "execute_result"
    }
   ],
   "source": [
    "np.log(2)/np.log(1+inflation_cod_day/100)"
   ]
  },
  {
   "cell_type": "markdown",
   "metadata": {
    "hidden": true
   },
   "source": [
    "約45日間で物価は２倍になることが分かる。"
   ]
  },
  {
   "cell_type": "markdown",
   "metadata": {
    "heading_collapsed": true,
    "hidden": true
   },
   "source": [
    "#### プロット"
   ]
  },
  {
   "cell_type": "markdown",
   "metadata": {
    "hidden": true
   },
   "source": [
    "全てのデータを使って散布図をプロットしトレンドを計算してみる。"
   ]
  },
  {
   "cell_type": "code",
   "execution_count": 61,
   "metadata": {
    "hidden": true
   },
   "outputs": [
    {
     "data": {
      "image/png": "[encoded data removed]",
      "text/plain": [
       "<Figure size 432x288 with 1 Axes>"
      ]
     },
     "metadata": {
      "needs_background": "light"
     },
     "output_type": "display_data"
    }
   ],
   "source": [
    "world.plot('money_growth','inflation',kind='scatter')\n",
    "pass"
   ]
  },
  {
   "cell_type": "markdown",
   "metadata": {
    "hidden": true
   },
   "source": [
    "```{admonition} コードの説明\n",
    ":class: dropdown\n",
    "\n",
    "`world`には`inflation`と`money_growth`が`NaN`となっている行が含まれるが，上の図では自動的に省かれる。`world.dropna().plot()`としても図は変わらない。\n",
    "```"
   ]
  },
  {
   "cell_type": "markdown",
   "metadata": {
    "hidden": true
   },
   "source": [
    "横軸と縦軸の値（％）を確認してみると分かるが非常に大きい。ノイズの影響により変化が非常に激しいためである。トレンドのスロープを計算してみよう。"
   ]
  },
  {
   "cell_type": "code",
   "execution_count": 62,
   "metadata": {
    "hidden": true
   },
   "outputs": [
    {
     "name": "stdout",
     "output_type": "stream",
     "text": [
      "標本の大きさ：6407\n",
      "調整済み決定係数：0.537\n"
     ]
    },
    {
     "data": {
      "text/html": [
       "<table class=\"simpletable\">\n",
       "<tr>\n",
       "        <td></td>          <th>coef</th>     <th>std err</th>      <th>t</th>      <th>P>|t|</th>  <th>[0.025</th>    <th>0.975]</th>  \n",
       "</tr>\n",
       "<tr>\n",
       "  <th>Intercept</th>    <td>   -9.6447</td> <td>    3.843</td> <td>   -2.510</td> <td> 0.012</td> <td>  -17.178</td> <td>   -2.112</td>\n",
       "</tr>\n",
       "<tr>\n",
       "  <th>money_growth</th> <td>    1.2802</td> <td>    0.015</td> <td>   86.259</td> <td> 0.000</td> <td>    1.251</td> <td>    1.309</td>\n",
       "</tr>\n",
       "</table>"
      ],
      "text/plain": [
       "<class 'statsmodels.iolib.table.SimpleTable'>"
      ]
     },
     "execution_count": 62,
     "metadata": {},
     "output_type": "execute_result"
    }
   ],
   "source": [
    "res_world = sm.ols('inflation ~ money_growth', data=world).fit()\n",
    "print(f'標本の大きさ：{int(res_world.nobs)}')\n",
    "print(f'調整済み決定係数：{res_world.rsquared_adj:.3f}')\n",
    "res_world.summary().tables[1]"
   ]
  },
  {
   "cell_type": "markdown",
   "metadata": {
    "hidden": true
   },
   "source": [
    "トレンドのスロープは1.28であり，1に近いがノイズの影響が大きいようである。\n",
    "\n",
    "この結果と比較したいのが，次のケースである。\n",
    "* それぞれの国で`inflation`と`money_growth`の平均を計算し，その散布図をプロットするとともに傾きを計算する。\n",
    "\n",
    "まず，それぞれの経済の２変数の平均を計算するが，一つ注意点がある。`world`に`inflation`と`money_growth`があるので，`.mean()`を使って平均を計算すれば良いと思うかもしれない。しかし`.mean()`は算術平均であり，計算したいのは増加率の平均なので可能であれば幾何平均を使うべきである。残念ながら，`DataFrame`には幾何平均のメソッドが良いされて良いないので，次のように`for`ループで計算することにする。"
   ]
  },
  {
   "cell_type": "code",
   "execution_count": 63,
   "metadata": {
    "hidden": true
   },
   "outputs": [],
   "source": [
    "money_growth_mean_list = []                   # 1\n",
    "inflation_mean_list = []                      # 2\n",
    "iso_list = []                                 # 3 \n",
    "country_list = []                             # 4\n",
    "income_group_list = []                        # 5\n",
    "\n",
    "for c in world.loc[:,'iso'].unique():         # 6\n",
    "    df = world.query('iso==@c').reset_index() # 7\n",
    "    n = len(df)                               # 9\n",
    "    \n",
    "    money_growth_mean = 100*(                 # 9\n",
    "        (df.loc[n-1,'money']/df.loc[0,'money'])**(1/(n-1))-1\n",
    "    )\n",
    "    inflation_mean = 100*(                    # 10\n",
    "        (df.loc[n-1,'deflator']/df.loc[0,'deflator'])**(1/(n-1))-1\n",
    "    )\n",
    "                                              # 11\n",
    "    money_growth_mean_list.append(money_growth_mean)\n",
    "    inflation_mean_list.append(inflation_mean)\n",
    "    iso_list.append(c)\n",
    "                                              # 12\n",
    "    country_list.append(df.loc[:,'country'].unique()[0])\n",
    "    \n",
    "                                              # 13\n",
    "    income_group_list.append(df.loc[:,'income_group'].unique()[0])\n",
    "    \n",
    "                                              # 14\n",
    "world_mean = pd.DataFrame({'country':country_list,\n",
    "                           'income_group':income_group_list,\n",
    "                           'money_growth_mean':money_growth_mean_list,\n",
    "                           'inflation_mean':inflation_mean_list,\n",
    "                           'iso':iso_list}).set_index('iso')"
   ]
  },
  {
   "cell_type": "markdown",
   "metadata": {
    "hidden": true
   },
   "source": [
    "```{admonition} コードの説明\n",
    ":class: dropdown\n",
    "\n",
    "1. マネーストックの平均増加率を格納する空のリスト。\n",
    "2. 平均インフレ率を格納する空のリスト。\n",
    "3. 国のisoを格納する空のリスト。\n",
    "4. 国名を格納するリスト。\n",
    "5. 所得グループ名を格納するリスト。\n",
    "6. データにある経済全てに対しての`for`ループを開始\n",
    "    * `world.loc[:,'iso']`は列`iso`を抽出し，`.unique()`を使って経済のリストを作成する。\n",
    "7. `.query('iso==@c')`で`c`国の行だけを抽出し，`reset_index()`で行インデックスを振り直す。`c`国の`DataFrame`を`df`に割り当てる。\n",
    "8. `df`の行数を`n`に割り当てる。\n",
    "9. `df`の列`money`の最初と最後の行の値を使って平均増加率を計算する。`100*`で％表示にする。\n",
    "10. `df`の列`deflator`の最初と最後の行の値を使って平均インフレ率を計算する。`100*`で％表示にする。\n",
    "11. `money_growth_mean`，`inflation_mean`，`c`をそれぞれ対応するリストに追加する。\n",
    "12. 国名を`country_list`に追加する。\n",
    "    * `df.loc[:,'country']`で列`country`を抽出し，`.unique()`で国名が入る`array`が返される。`[0]`はその0番目の要素を抽出している。\n",
    "13. 所得グループ名を`income_group_list`に追加する。\n",
    "    * `df.loc[:,'income_group']`で列`income_group`を抽出し，`.unique()`でグループ名が入る`array`が返される。`[0]`はその0番目の要素を抽出している。\n",
    "14. `money_growth_mean_list`，`inflation_mean_list`，`country_list`を使い`DataFrame`を作成し`world_mean`に割り当てる。`.set_index('iso')`は`iso`を行ラベルに設定している。\n",
    "```"
   ]
  },
  {
   "cell_type": "markdown",
   "metadata": {
    "hidden": true
   },
   "source": [
    "````{tip}\n",
    "実は`.groupby()`使って幾何平均を計算することも可能である。例えば，次のコードでマネーストック増加率の幾何平均を計算できる。\n",
    "```\n",
    "from scipy.stats import gmean            # 1\n",
    "\n",
    "world.groupby('iso')['money'].agg(gmean) # 2\n",
    "```\n",
    "簡単なコードで良いが，(1)にある関数を導入する必要があり，また(2)の`.agg()`を使う必要がある。上のコードは`for`ループに慣れることを一つの目的としている。\n",
    "````\n",
    "\n",
    "平均でハイパーインフレが発生している国は何ヵ国なるのか計算してみよう。"
   ]
  },
  {
   "cell_type": "code",
   "execution_count": 64,
   "metadata": {
    "hidden": true
   },
   "outputs": [
    {
     "name": "stdout",
     "output_type": "stream",
     "text": [
      "177ヵ国中7ヵ国でハイパーインフレが発生している。\n"
     ]
    }
   ],
   "source": [
    "hyper = ( world_mean.loc[:,'inflation_mean'] >= 50 ).sum()\n",
    "\n",
    "print(f'{len(world_mean)}ヵ国中{hyper}ヵ国でハイパーインフレが発生している。')"
   ]
  },
  {
   "cell_type": "markdown",
   "metadata": {
    "hidden": true
   },
   "source": [
    "```{admonition} コードの説明\n",
    ":class: dropdown\n",
    "\n",
    "* `world_mean.loc[:,'inflation_mean']`で`inflation_mean`の列を抽出。\n",
    "* `world_mean.loc[:,'inflation_mean'] >= 50`を使い，列`inflation_mean`の要素が50以上であれば`True`，50未満であれば`False`となる`Series`を返す。\n",
    "* `True`は１，`False`は０と等しいので，`.sum()`で合計することによってハイパーインフレ国の数が計算できる。\n",
    "```"
   ]
  },
  {
   "cell_type": "markdown",
   "metadata": {
    "hidden": true
   },
   "source": [
    "短期的なノイズの影響によってある年にハイパーインフレが発生する場合もあるだろう。しかしこの結果は，長期的にハイパーインフレに悩まされる国が存在することを示している。どのような国なのかを確認するために，インフレ率上位10ヵ国を表示してみよう。"
   ]
  },
  {
   "cell_type": "code",
   "execution_count": 65,
   "metadata": {
    "hidden": true
   },
   "outputs": [
    {
     "data": {
      "text/html": [
       "<div>\n",
       "<style scoped>\n",
       "    .dataframe tbody tr th:only-of-type {\n",
       "        vertical-align: middle;\n",
       "    }\n",
       "\n",
       "    .dataframe tbody tr th {\n",
       "        vertical-align: top;\n",
       "    }\n",
       "\n",
       "    .dataframe thead th {\n",
       "        text-align: right;\n",
       "    }\n",
       "</style>\n",
       "<table border=\"1\" class=\"dataframe\">\n",
       "  <thead>\n",
       "    <tr style=\"text-align: right;\">\n",
       "      <th></th>\n",
       "      <th>country</th>\n",
       "      <th>income_group</th>\n",
       "      <th>money_growth_mean</th>\n",
       "      <th>inflation_mean</th>\n",
       "    </tr>\n",
       "    <tr>\n",
       "      <th>iso</th>\n",
       "      <th></th>\n",
       "      <th></th>\n",
       "      <th></th>\n",
       "      <th></th>\n",
       "    </tr>\n",
       "  </thead>\n",
       "  <tbody>\n",
       "    <tr>\n",
       "      <th>COD</th>\n",
       "      <td>Congo, Dem. Rep.</td>\n",
       "      <td>Low income</td>\n",
       "      <td>122.442962</td>\n",
       "      <td>127.704505</td>\n",
       "    </tr>\n",
       "    <tr>\n",
       "      <th>AGO</th>\n",
       "      <td>Angola</td>\n",
       "      <td>Lower middle income</td>\n",
       "      <td>108.457354</td>\n",
       "      <td>92.231798</td>\n",
       "    </tr>\n",
       "    <tr>\n",
       "      <th>BRA</th>\n",
       "      <td>Brazil</td>\n",
       "      <td>Upper middle income</td>\n",
       "      <td>92.023344</td>\n",
       "      <td>88.882771</td>\n",
       "    </tr>\n",
       "    <tr>\n",
       "      <th>ARG</th>\n",
       "      <td>Argentina</td>\n",
       "      <td>Upper middle income</td>\n",
       "      <td>79.169900</td>\n",
       "      <td>74.971614</td>\n",
       "    </tr>\n",
       "    <tr>\n",
       "      <th>NIC</th>\n",
       "      <td>Nicaragua</td>\n",
       "      <td>Lower middle income</td>\n",
       "      <td>67.774841</td>\n",
       "      <td>62.717663</td>\n",
       "    </tr>\n",
       "    <tr>\n",
       "      <th>BLR</th>\n",
       "      <td>Belarus</td>\n",
       "      <td>Upper middle income</td>\n",
       "      <td>65.667637</td>\n",
       "      <td>62.536094</td>\n",
       "    </tr>\n",
       "    <tr>\n",
       "      <th>UKR</th>\n",
       "      <td>Ukraine</td>\n",
       "      <td>Lower middle income</td>\n",
       "      <td>58.537270</td>\n",
       "      <td>61.867179</td>\n",
       "    </tr>\n",
       "    <tr>\n",
       "      <th>PER</th>\n",
       "      <td>Peru</td>\n",
       "      <td>Upper middle income</td>\n",
       "      <td>54.905117</td>\n",
       "      <td>48.305760</td>\n",
       "    </tr>\n",
       "    <tr>\n",
       "      <th>ARM</th>\n",
       "      <td>Armenia</td>\n",
       "      <td>Upper middle income</td>\n",
       "      <td>48.970412</td>\n",
       "      <td>46.680070</td>\n",
       "    </tr>\n",
       "    <tr>\n",
       "      <th>AZE</th>\n",
       "      <td>Azerbaijan</td>\n",
       "      <td>Upper middle income</td>\n",
       "      <td>52.949213</td>\n",
       "      <td>45.247656</td>\n",
       "    </tr>\n",
       "  </tbody>\n",
       "</table>\n",
       "</div>"
      ],
      "text/plain": [
       "              country         income_group  money_growth_mean  inflation_mean\n",
       "iso                                                                          \n",
       "COD  Congo, Dem. Rep.           Low income         122.442962      127.704505\n",
       "AGO            Angola  Lower middle income         108.457354       92.231798\n",
       "BRA            Brazil  Upper middle income          92.023344       88.882771\n",
       "ARG         Argentina  Upper middle income          79.169900       74.971614\n",
       "NIC         Nicaragua  Lower middle income          67.774841       62.717663\n",
       "BLR           Belarus  Upper middle income          65.667637       62.536094\n",
       "UKR           Ukraine  Lower middle income          58.537270       61.867179\n",
       "PER              Peru  Upper middle income          54.905117       48.305760\n",
       "ARM           Armenia  Upper middle income          48.970412       46.680070\n",
       "AZE        Azerbaijan  Upper middle income          52.949213       45.247656"
      ]
     },
     "execution_count": 65,
     "metadata": {},
     "output_type": "execute_result"
    }
   ],
   "source": [
    "world_mean.sort_values(by='inflation_mean', ascending=False).head(10)"
   ]
  },
  {
   "cell_type": "markdown",
   "metadata": {
    "hidden": true
   },
   "source": [
    "やはり所得水準が比較的に低い国が入っている。\n",
    "\n",
    "`world_mean`を使いクロスセクションのデータをプロットしてみよう。"
   ]
  },
  {
   "cell_type": "code",
   "execution_count": 66,
   "metadata": {
    "hidden": true
   },
   "outputs": [
    {
     "data": {
      "image/png": "[encoded data removed]",
      "text/plain": [
       "<Figure size 432x288 with 1 Axes>"
      ]
     },
     "metadata": {
      "needs_background": "light"
     },
     "output_type": "display_data"
    }
   ],
   "source": [
    "ax_ = world_mean.plot('money_growth_mean','inflation_mean', kind='scatter')\n",
    "xpoints = ypoints = ax_.get_ylim()\n",
    "ax_.plot(xpoints,ypoints,'r-', label='45度線')\n",
    "ax_.set_title('平均インフレ率とマネーストトックの平均成長率', size='15')\n",
    "ax_.legend()\n",
    "pass"
   ]
  },
  {
   "cell_type": "markdown",
   "metadata": {
    "hidden": true
   },
   "source": [
    "綺麗に45度線上に並んでいる。国ごとに平均を計算することによって短期的なノイズが相殺され長期的な関係が浮かび上がっている。トレンド線の傾きを計算してみよう。"
   ]
  },
  {
   "cell_type": "code",
   "execution_count": 67,
   "metadata": {
    "hidden": true
   },
   "outputs": [
    {
     "name": "stdout",
     "output_type": "stream",
     "text": [
      "標本の大きさ：177\n",
      "調整済み決定係数：0.945\n",
      "=====================================================================================\n",
      "                        coef    std err          t      P>|t|      [0.025      0.975]\n",
      "-------------------------------------------------------------------------------------\n",
      "Intercept            -6.0805      0.461    -13.175      0.000      -6.991      -5.170\n",
      "money_growth_mean     0.9847      0.018     54.876      0.000       0.949       1.020\n",
      "=====================================================================================\n"
     ]
    }
   ],
   "source": [
    "res_world_mean = sm.ols('inflation_mean ~ money_growth_mean', data=world_mean).fit()\n",
    "print(f'標本の大きさ：{int(res_world_mean.nobs)}')\n",
    "print(f'調整済み決定係数：{res_world_mean.rsquared_adj:.3f}')\n",
    "print(res_world_mean.summary().tables[1])"
   ]
  },
  {
   "cell_type": "markdown",
   "metadata": {
    "hidden": true
   },
   "source": [
    "推定値は１に非常に近い。もし図の左下にある外れ値のように見える値（ジンバブエ）を省くとスロープ係数は0.997になる。長期的には式[](eq:11-qtm_growth_long)が示すように，マネーストック増加率の1％上昇はインフレ率1％上昇につかがること示す結果である。「真のメカニズム」の一部が垣間見えるような気がしませんか。"
   ]
  }
 ],
 "metadata": {
  "celltoolbar": "Tags",
  "kernelspec": {
   "display_name": "Python 3 (ipykernel)",
   "language": "python",
   "name": "python3"
  },
  "language_info": {
   "codemirror_mode": {
    "name": "ipython",
    "version": 3
   },
   "file_extension": ".py",
   "mimetype": "text/x-python",
   "name": "python",
   "nbconvert_exporter": "python",
   "pygments_lexer": "ipython3",
   "version": "3.9.0"
  }
 },
 "nbformat": 4,
 "nbformat_minor": 4
}