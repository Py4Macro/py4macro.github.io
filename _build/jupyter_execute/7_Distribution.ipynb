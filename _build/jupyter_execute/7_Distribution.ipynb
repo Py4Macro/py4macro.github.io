{
 "cells": [
  {
   "cell_type": "markdown",
   "id": "alpha-inclusion",
   "metadata": {},
   "source": [
    "# 所得分布と所得収斂"
   ]
  },
  {
   "cell_type": "markdown",
   "id": "running-hughes",
   "metadata": {},
   "source": [
    "If you come here without expecting Japanese, please click [Google translated version](https://translate.google.com/translate?sl=auto&tl=en&u=https://py4macro.github.io/7_Distribution.html) in English or the language of your choice."
   ]
  },
  {
   "cell_type": "code",
   "execution_count": 1,
   "id": "abstract-investment",
   "metadata": {},
   "outputs": [],
   "source": [
    "import numpy as np\n",
    "import pandas as pd\n",
    "import statsmodels.formula.api as sm\n",
    "import matplotlib.pyplot as plt\n",
    "import japanize_matplotlib\n",
    "import py4macro"
   ]
  },
  {
   "cell_type": "markdown",
   "id": "twenty-speed",
   "metadata": {
    "heading_collapsed": true
   },
   "source": [
    "## はじめに"
   ]
  },
  {
   "cell_type": "markdown",
   "id": "killing-referral",
   "metadata": {
    "hidden": true
   },
   "source": [
    "[発展会計と成長会計](chap:5-accounting)の章では次の２つの問題を考察した。\n",
    "\n",
    "> （問１）なぜある国は豊かで他の国は貧しいのだろうか？\n",
    ">\n",
    "> （問２）なぜ国々の経済成長率は大きく異なるのか？\n",
    "\n",
    "ここでは関連する次の問を考える。\n",
    "\n",
    "> （問３）貧しい国は豊かな国に追いついているのだろうか？\n",
    "\n",
    "この問いを考察するために２つのアプローチを使う。第一に，一人当たりGDPを使い世界経済の所得分布がどのように変化したかを図示し検討する。所得分布の形状の変化からキャッチアップ（catch-up）が発生しているかを推論しようということである。第二に，回帰分析の手法を使い所得が低い経済は先進国に追いついているかを検討する。即ち，所得収斂が起こっているかを定量的に探ってみようということである。"
   ]
  },
  {
   "cell_type": "markdown",
   "id": "conceptual-probe",
   "metadata": {
    "heading_collapsed": true,
    "tags": [
     "remove-cell"
    ]
   },
   "source": [
    "## 所得分布の推移"
   ]
  },
  {
   "cell_type": "markdown",
   "id": "magnetic-wrestling",
   "metadata": {
    "hidden": true
   },
   "source": [
    "(sec:7-distribution)=\n",
    "## 所得分布の推移"
   ]
  },
  {
   "cell_type": "markdown",
   "id": "foster-patio",
   "metadata": {
    "hidden": true
   },
   "source": [
    "世界経済の所得分布が時間と共にどのように変化したかを考えるが，手法としては，一人当たりGDPの分布自体の変化を図示して確認する。分析に使うデータはPenn World Talbeの次の２変数：\n",
    "* `rgdpe`：支出面から計算したGDP（連鎖PPPs; in mil. 2017US\\$）\n",
    "    * 経済間そして時系列的にも一定な価格を使い計算されてい「実質」\n",
    "    * 経済間そして時間の次元での比較に適している\n",
    "* `pop`：人口（in millions）\n",
    "\n",
    "これらのデータを使い，所得分布のヒストグラムとカーネル密度推定に基づくプロットを説明する。まず，一人当たりGDPの変数（対数）を作成する。"
   ]
  },
  {
   "cell_type": "code",
   "execution_count": 2,
   "id": "international-contribution",
   "metadata": {
    "hidden": true
   },
   "outputs": [],
   "source": [
    "# Penn World Tableのデータ\n",
    "df = py4macro.data('pwt')\n",
    "\n",
    "# 一人当たりGDP（対数）\n",
    "df['gdp_pc_log'] = np.log( df['rgdpe'] / df['pop'] )"
   ]
  },
  {
   "cell_type": "markdown",
   "id": "featured-incident",
   "metadata": {
    "hidden": true
   },
   "source": [
    "例として2019年の日本の一人当たりGDPを表示してみよう。"
   ]
  },
  {
   "cell_type": "code",
   "execution_count": 3,
   "id": "positive-pasta",
   "metadata": {
    "hidden": true
   },
   "outputs": [
    {
     "data": {
      "text/plain": [
       "6159    10.587516\n",
       "Name: gdp_pc_log, dtype: float64"
      ]
     },
     "execution_count": 3,
     "metadata": {},
     "output_type": "execute_result"
    }
   ],
   "source": [
    "y_jp = df.query('country == \"Japan\" & year == 2019')['gdp_pc_log']\n",
    "y_jp"
   ]
  },
  {
   "cell_type": "markdown",
   "id": "physical-retrieval",
   "metadata": {
    "hidden": true
   },
   "source": [
    "このコードで返されるのは`Series`なので，`gdp_pc_log`の値自体を抽出するためには`.iloc[]`を使う。"
   ]
  },
  {
   "cell_type": "code",
   "execution_count": 4,
   "id": "ceramic-variable",
   "metadata": {
    "hidden": true
   },
   "outputs": [
    {
     "data": {
      "text/plain": [
       "10.587515569810463"
      ]
     },
     "execution_count": 4,
     "metadata": {},
     "output_type": "execute_result"
    }
   ],
   "source": [
    "y_jp.iloc[0]"
   ]
  },
  {
   "cell_type": "markdown",
   "id": "revised-alfred",
   "metadata": {
    "hidden": true
   },
   "source": [
    "次に2019年のヒストグラムを作成しよう。"
   ]
  },
  {
   "cell_type": "code",
   "execution_count": 5,
   "id": "refined-playlist",
   "metadata": {
    "hidden": true
   },
   "outputs": [
    {
     "data": {
      "image/png": "[encoded data removed]",
      "text/plain": [
       "<Figure size 432x288 with 1 Axes>"
      ]
     },
     "metadata": {
      "filenames": {
       "image/png": "/Users/tetsu/Documents/My_Simulation/Python/JupyterBooks/py4macro.github.io/_build/jupyter_execute/7_Distribution_14_0.png"
      },
      "needs_background": "light"
     },
     "output_type": "display_data"
    }
   ],
   "source": [
    "df.query('year == 2019')['gdp_pc_log'].plot(kind='hist', bins=20)\n",
    "pass"
   ]
  },
  {
   "cell_type": "markdown",
   "id": "understood-amino",
   "metadata": {
    "hidden": true
   },
   "source": [
    "ヒストグラムは縦軸に度数，横軸に階級を取ったグラフだが，関連する手法に[カーネル密度推定](https://en.wikipedia.org/wiki/Kernel_density_estimation)と呼ばれるものがある。考え方は簡単で，上のようなヒストグラムのデータに基づき面積が１になるようにスムーズな分布を推計する手法である。詳細は割愛するが，下のコードではヒストグラムとカーネル密度関数を重ねてプロットする。"
   ]
  },
  {
   "cell_type": "code",
   "execution_count": 6,
   "id": "nominated-cargo",
   "metadata": {
    "hidden": true
   },
   "outputs": [
    {
     "data": {
      "image/png": "[encoded data removed]",
      "text/plain": [
       "<Figure size 432x288 with 1 Axes>"
      ]
     },
     "metadata": {
      "filenames": {
       "image/png": "/Users/tetsu/Documents/My_Simulation/Python/JupyterBooks/py4macro.github.io/_build/jupyter_execute/7_Distribution_16_0.png"
      },
      "needs_background": "light"
     },
     "output_type": "display_data"
    }
   ],
   "source": [
    "# 1 ヒストグラム\n",
    "ax_ = df.query('year == 2019')['gdp_pc_log'].plot(kind='hist', bins=20, density=True)\n",
    "\n",
    "# 2 密度関数\n",
    "df.query('year == 2019')['gdp_pc_log'].plot(kind='density',ax=ax_)\n",
    "\n",
    "# 3 日本\n",
    "ax_.axvline(y_jp.iloc[0],color='red')\n",
    "\n",
    "# 4 横軸の表示範囲\n",
    "ax_.set_xlim(4,12)\n",
    "pass"
   ]
  },
  {
   "cell_type": "markdown",
   "id": "collectible-dutch",
   "metadata": {
    "hidden": true
   },
   "source": [
    "```{admonition} コードの説明\n",
    "1. `density=True`は縦軸を確率として表示する引数\n",
    "2. `kind='density'`は分布のスムーズな形を推定し表示する引数（密度関数を推定する）\n",
    "3. `axvline()`は`ax_`のメソッドであり，横軸の第一引数の値に垂直線を表示する。`color`は色を指定する引数。\n",
    "4. `set_xlim()`は横軸の表示範囲を指定する。\n",
    "```"
   ]
  },
  {
   "cell_type": "markdown",
   "id": "unlikely-memory",
   "metadata": {
    "hidden": true
   },
   "source": [
    "最頻値（モード）は中心より右側にあるが，横軸は対数になっていることを思い出そう。対数を取らない分布では，最頻値は分布の中心より左側に位置することになる。試してみよう。\n",
    "\n",
    "ここで確かめたいのは，約70年の間に上の所得分布のどのように変化してきたか，という問題である。この問いに答えるために，カーネル密度関数（`kind=density`）を使って1950年から10年毎の分布を表示する。"
   ]
  },
  {
   "cell_type": "code",
   "execution_count": 7,
   "id": "associate-telescope",
   "metadata": {
    "hidden": true
   },
   "outputs": [
    {
     "data": {
      "image/png": "[encoded data removed]",
      "text/plain": [
       "<Figure size 432x288 with 1 Axes>"
      ]
     },
     "metadata": {
      "filenames": {
       "image/png": "/Users/tetsu/Documents/My_Simulation/Python/JupyterBooks/py4macro.github.io/_build/jupyter_execute/7_Distribution_19_0.png"
      },
      "needs_background": "light"
     },
     "output_type": "display_data"
    }
   ],
   "source": [
    "yr_list = list(range(1960,2020,10))+[2019]           # 1\n",
    "\n",
    "cond = ( df.loc[:,'year'] == 1950 )                  # 2\n",
    "ax_ = df.loc[cond,'gdp_pc_log'].plot(kind='density', # 3\n",
    "                                     label='1950',   # 4\n",
    "                                     legend=True)    # 5\n",
    "for y in yr_list:                                    # 6\n",
    "    cond = ( df.loc[:,'year'] == y )                 # 7\n",
    "    df.loc[cond,'gdp_pc_log'].plot(kind='density',   # 8\n",
    "                                   label=str(y),     # 9\n",
    "                                   legend=True,      # 10\n",
    "                                   ax=ax_)           # 11\n",
    "ax_.set_xlim([5.5,13.0])                             # 12\n",
    "pass"
   ]
  },
  {
   "cell_type": "markdown",
   "id": "variable-canadian",
   "metadata": {
    "hidden": true
   },
   "source": [
    "```{admonition} コードの説明\n",
    "1. `range(start, end, step)`は`start`から`end`までの整数を`step`の間隔で準備する。更に`list()`を使ってリストに変換し，`+[2019]`を使ってリストの最後に`2019`を追加している。\n",
    "2. 列`year`が`1950`と等しい行が`True`，そうでない行は`False`となる`Series`を`cond`に割り当てる。\n",
    "3. 1950年の行を抽出し，密度関数を表示する。また，その「軸」を`ax_`に割り当てる。\n",
    "4. 凡例の表示を`'1950'`（文字列）とする。\n",
    "5. 凡例の表示を指定する。\n",
    "6. `yr_list`に対しての`for`ループで1960から10年毎のループの開始。\n",
    "7. 列`year`が`y`と等しい行が`True`，そうでない行は`False`となる`Series`を`cond`に割り当てる。(2)で設定した`cond`は上書きされる。\n",
    "8. `y`の行を抽出し，密度関数を表示する。\n",
    "9. 凡例の表示を文字列に変換した`y`とする。`str()`は文字列に変換する関数。\n",
    "10. 凡例の表示を指定する。\n",
    "11. 「軸」を選ぶ引数`ax`には`ax_`を指定する。\n",
    "12. `ax_`のメソッドである`set_xlim()`は横軸の表示範囲を指定する。\n",
    "    * 最小値，最大値をリストもしくはタプルで指定する。\n",
    "    * `set_xlim()`が設定されない場合は，自動で設定される。\n",
    "```"
   ]
  },
  {
   "cell_type": "markdown",
   "id": "billion-indian",
   "metadata": {
    "hidden": true
   },
   "source": [
    "まず分布は左から右に移動しているが，これは世界経済が成長している結果である。次に気づくのが，分布が左に偏っているが少しずつ右への偏りに変化しているように見える。これを数値として確かめるために歪度（わいど; skewness）という概念を使おう。歪度は平均や標準偏差のように簡単に計算できる統計量であり，次のように定義される。\n",
    "\n",
    "$$\n",
    "S=\\frac{n}{(n-1)(n-2)}\n",
    "    \\sum_{i=1}^n\n",
    "    \\left(\n",
    "        \\frac{\n",
    "            x-\\overline{x}\n",
    "            }{s}\n",
    "    \\right)^3\n",
    "$$\n",
    "\n",
    "ここで$n$は標本の大きさ，$\\overline{x}$は標本平均，$s$は標本標準偏差である。{numref}`fig:7-skewness`を使って歪度を説明しよう。\n",
    "* $S>0$：「正の歪み」がある分布と呼ばれる。\n",
    "    * 「左に偏った」とも呼ばれる。\n",
    "    * 紛らわしいが，右裾が長くなっているため「右の歪み」とも呼ばれる。\n",
    "* $S<0$：「負の歪み」がある分布と呼ばれる。\n",
    "    * 「右に偏った」とも呼ばれる。\n",
    "    * 紛らわしいが，左裾が長くなっているため「左の歪み」があるとも呼ばれる。\n",
    "* $S=0$：左右対称分布"
   ]
  },
  {
   "cell_type": "markdown",
   "id": "permanent-clerk",
   "metadata": {
    "hidden": true
   },
   "source": [
    "```{figure} /images/skewness.jpeg\n",
    "---\n",
    "scale: 25%\n",
    "name: fig:7-skewness\n",
    "---\n",
    "Sの符号と分布の歪み（偏り）の関係\n",
    "```\n",
    "\n",
    "もしキャッチアップが起こると，一人当たりGDPが低い経済はより高い所得を得る経済に近づき，所得が比較的に高い国が増えることになる。従って，キャッチアップによって$G$は減少すると考えられる。歪度の推移を計算してみよう。"
   ]
  },
  {
   "cell_type": "code",
   "execution_count": 8,
   "id": "signed-tuesday",
   "metadata": {
    "hidden": true
   },
   "outputs": [
    {
     "data": {
      "image/png": "[encoded data removed]",
      "text/plain": [
       "<Figure size 432x288 with 1 Axes>"
      ]
     },
     "metadata": {
      "filenames": {
       "image/png": "/Users/tetsu/Documents/My_Simulation/Python/JupyterBooks/py4macro.github.io/_build/jupyter_execute/7_Distribution_23_0.png"
      },
      "needs_background": "light"
     },
     "output_type": "display_data"
    }
   ],
   "source": [
    "year_list = df.loc[:,'year'].unique()\n",
    "\n",
    "skew_list = []\n",
    "\n",
    "for yr in year_list:                       # 1\n",
    "    \n",
    "    cond = ( df.loc[:,'year']==yr )        # 2\n",
    "    s = df.loc[cond, 'gdp_pc_log']         # 3\n",
    "    \n",
    "    # 歪度\n",
    "    skew_val = s.skew()                    # 4\n",
    "    skew_list.append( skew_val )           # 5\n",
    "\n",
    "ax_ = pd.DataFrame({'歪度':skew_list},      # 6\n",
    "                   index=year_list) \\\n",
    "                  .plot(marker='o')        # 7\n",
    "ax_.axhline(0, color='red')                # 8\n",
    "pass"
   ]
  },
  {
   "cell_type": "markdown",
   "id": "ranging-liberia",
   "metadata": {
    "hidden": true
   },
   "source": [
    "```{admonition} コードの確認\n",
    "1. `year_list`に対して`for`ループの開始。\n",
    "2. 列`year`が`yr`と同じ場合は`True`となり，そうでない場合は`False`となる`Series`を返し`cond`に割り当てる。\n",
    "3. 列`gdp_pc_lo`で`cond`がTrue`となる行を`Series`として抽出し`s`に割り当てる。\n",
    "4. `s`のメソッド`.skew()`を使い，`s`の歪度を計算し`skew_val`に割り当てる。\n",
    "5. `skew_val`を`skew_list`に割り当てる。\n",
    "6. `skew_list`からなる`DataFrame`を作成し，`year_list`を行インデックスに指定する。また(8)で`.plot()`によって生成される「軸」を`ax_`に割り当てる。\n",
    "7. プロットのマーカーを`'o'`（点）に指定する。\n",
    "8. `ax_`のメソッド`.axhline()`を使い`0`に赤の横線を引く。\n",
    "```"
   ]
  },
  {
   "cell_type": "markdown",
   "id": "italian-copying",
   "metadata": {
    "hidden": true
   },
   "source": [
    "次の特徴がある。\n",
    "* 1970年以降は減少トレンドが確認できる。このことからキャッチアップが発生していることを示唆している。また1990年頃を境に「正の歪み」から「負の歪み」に変化している。\n",
    "* 1960年，1970年，1990年に上方・下方ジャンプが発生している。これは以下で確認するように，`gdp_pc_log`が`NaN`ではない国数が大きく増加しているためである。\n",
    "* 1970年前だけを考えると，歪度は上昇トレンドとなっている。これも欠損値がない国数の変化による影響とも考えられる。\n",
    "\n",
    "これらの点を考えるために`gdp_pc_log`が`NaN`ではない国数を確認しよう。次のコードは，2019年に`gdp_pc_log`が欠損値ではない国数を返している。"
   ]
  },
  {
   "cell_type": "code",
   "execution_count": 9,
   "id": "large-landing",
   "metadata": {
    "hidden": true
   },
   "outputs": [
    {
     "data": {
      "text/plain": [
       "183"
      ]
     },
     "execution_count": 9,
     "metadata": {},
     "output_type": "execute_result"
    }
   ],
   "source": [
    "cond = ( df.loc[:,'year']==2019 )        # 1\n",
    "df.loc[cond,'gdp_pc_log'].notna().sum()  # 2"
   ]
  },
  {
   "cell_type": "markdown",
   "id": "attached-revelation",
   "metadata": {
    "hidden": true
   },
   "source": [
    "```{admonition} コードの説明\n",
    "1. `notna()`は要素が`NaN`かどうかを調べるメソッドである。要素が`NaN`でなければ`True`を返し，`NaN`であれば`False`を返す。`notna`は英語の`not na`のことであり，`na`は`not available`の略で欠損値のこと。\n",
    "2. `True`は`1`と数えられるので，メソッド`sum()`を使うことにより`True`の数，即ち，`NaN`ではない要素の数を返す。\n",
    "```"
   ]
  },
  {
   "cell_type": "markdown",
   "id": "sacred-stroke",
   "metadata": {
    "hidden": true
   },
   "source": [
    "次に`for`ループを使って全ての年で`gdp_pc_log`に欠損値ない国の数を確認してみる。"
   ]
  },
  {
   "cell_type": "code",
   "execution_count": 10,
   "id": "emotional-algebra",
   "metadata": {
    "hidden": true
   },
   "outputs": [
    {
     "data": {
      "image/png": "[encoded data removed]",
      "text/plain": [
       "<Figure size 432x288 with 1 Axes>"
      ]
     },
     "metadata": {
      "filenames": {
       "image/png": "/Users/tetsu/Documents/My_Simulation/Python/JupyterBooks/py4macro.github.io/_build/jupyter_execute/7_Distribution_29_0.png"
      },
      "needs_background": "light"
     },
     "output_type": "display_data"
    }
   ],
   "source": [
    "notna_list = []\n",
    "\n",
    "for yr in year_list:\n",
    "    cond = ( df.loc[:,'year']==yr )                # 1\n",
    "    no = df.loc[cond, 'gdp_pc_log'].notna().sum()  # 2\n",
    "    notna_list.append(no)\n",
    "\n",
    "pd.DataFrame({'国数':notna_list}, index=year_list).plot()\n",
    "pass"
   ]
  },
  {
   "cell_type": "markdown",
   "id": "serial-transcript",
   "metadata": {
    "hidden": true
   },
   "source": [
    "```{admonition} コードの説明\n",
    "1. 列`year`が`yr`と等しい行が`True`となり，そうでない行は`False`となる`Series`を返す。\n",
    "2. `gdp_pc_log`の列で`cond`が`True`の行を`Series`としてを返す。そのメソッド`.notna()`は欠損値でない場合は`True`を返し，欠損値の場合は`False`を返す。`.sum()`は`True`の数を返し`no`に割り当てる。\n",
    "```"
   ]
  },
  {
   "cell_type": "markdown",
   "id": "trained-vault",
   "metadata": {
    "hidden": true
   },
   "source": [
    "上の図から`gdp_pc_log`が欠損値でない国は増加しており，1960年，1970年，1990年に大きく増えている。データが整備されている国は典型的に先進国であり，後から含まれる国は比較的に所得が低い経済である。従って，貧しい国が所得分布に含まれることにより，分布は左側に引っ張られる傾向にある。特に，1950年から1960年には徐々に国数は増えているが，それが歪度の上昇につながっていると考えられる。また1960年と1970年の国数の急激な増加が歪度の上方ジャンプとして現れている。このようなことから，1970年までの歪度の上昇トレンドは，貧しい経済がPWTのデータセットに含まれることによって引き起こされており，豊かな国と比較して貧しい国が引き離されているからではない。一方で，1970年以降も国数は膨らんでいるが，それにも関わらず歪度は減少傾向を示しているということはキャッチアップが発生していることを示している。典型的な例は，台湾，シンガポール，香港，韓国，中国やインドなどである。\n",
    "\n",
    "分布の形の変化を確認するために歪度を使ったが，キャッチアップを捉える統計量として変動係数を考えてみよう。変動係数は分布の広がりを示す統計量であり，次のように定義される。\n",
    "\n",
    "$$\n",
    "\\text{変動係数（Coefficient of Variation）}＝\\dfrac{\\text{標準偏差}}{\\text{平均}}\n",
    "$$\n",
    "\n",
    "変動係数は平均値１単位あたりの標準偏差を表しており，平均値を使って標準化することにより分布の幅の程度を比べることが可能となる。キャッチアップにより経済間お所得格差を示す変動係数は減少するのではないかと思われる。次のコードで変動係数の推移を計算してみよう。"
   ]
  },
  {
   "cell_type": "code",
   "execution_count": 11,
   "id": "manufactured-tyler",
   "metadata": {
    "hidden": true
   },
   "outputs": [],
   "source": [
    "cv_list = []   # 空のリスト\n",
    "\n",
    "for yr in year_list:\n",
    "    cond = ( df.loc[:,'year']==yr )\n",
    "    s = df.loc[cond, 'gdp_pc_log']\n",
    "    stdev = s.std()                 # 1\n",
    "    avr = s.mean()                  # 2\n",
    "    cv = stdev / avr                # 3\n",
    "    cv_list.append(cv)\n",
    "\n",
    "df_cv = pd.DataFrame({'CV':cv_list}, index=year_list)  # 4"
   ]
  },
  {
   "cell_type": "markdown",
   "id": "blank-concept",
   "metadata": {
    "hidden": true
   },
   "source": [
    "```{admonition} コードの説明\n",
    "1. `s`は`cond`の条件を満たす`gdp_pc_log`の列の要素からなる`Series`だが，そのメソッド`.std()`を使い標準偏差を計算し`stdev`に割り当てる。\n",
    "2. `s`のメソッド`.mean()`を使い平均を計算し`avr`に割り当てる。\n",
    "3. 変動係数を計算し`cv`に割り当てる。\n",
    "4. `index=year_list`は行インデックスにyear_listを設定しており，それにより，次のコードでは自動的に横軸が年になる。\n",
    "```"
   ]
  },
  {
   "cell_type": "code",
   "execution_count": 12,
   "id": "anonymous-touch",
   "metadata": {
    "hidden": true
   },
   "outputs": [
    {
     "data": {
      "image/png": "[encoded data removed]",
      "text/plain": [
       "<Figure size 432x288 with 1 Axes>"
      ]
     },
     "metadata": {
      "filenames": {
       "image/png": "/Users/tetsu/Documents/My_Simulation/Python/JupyterBooks/py4macro.github.io/_build/jupyter_execute/7_Distribution_34_0.png"
      },
      "needs_background": "light"
     },
     "output_type": "display_data"
    }
   ],
   "source": [
    "df_cv.plot()\n",
    "pass"
   ]
  },
  {
   "cell_type": "markdown",
   "id": "front-toilet",
   "metadata": {
    "hidden": true
   },
   "source": [
    "サンプルに含まれる国数が徐々に増えており，その影響により変動係数は増える傾向にある。1990年ごろにはデータセットに含まれる国数は安定し，その後直ぐに変動係数は減少し始めている。即ち，少なくとも1990年代半ば頃から経済間の所得格差は減少している。変動係数を見る限りキャッチアップの効果が1990年代から現れていると言える。\n",
    "\n",
    "上で扱った変動係数は経済間における所得格差を表す指標として解釈することができるが，その場合次の点に注意する必要がある。\n",
    "* 分析の対象は国であり，それぞれの国の一人当たりGDPのみを考えた。中国やインドのように大きな国も，ルクセンブルクやシンガポールのように小さな国も１つの経済として扱っている。この場合の変動係数は，全ての国には一人だけしか住んでいないと仮定した場合の経済間の所得格差と同じであり，**国内**の人口や所得不平等やは全く考慮されていない。"
   ]
  },
  {
   "cell_type": "markdown",
   "id": "decreased-copying",
   "metadata": {},
   "source": [
    "## 所得収斂"
   ]
  },
  {
   "cell_type": "markdown",
   "id": "injured-function",
   "metadata": {},
   "source": [
    "### 説明"
   ]
  },
  {
   "cell_type": "markdown",
   "id": "cultural-exercise",
   "metadata": {},
   "source": [
    "ここでは問３を回帰分析の手法に基づき検討する。では問３を捉えるにはどのような回帰式になれば良いだろうか？それを考えるために，高校体育の10km持久走を思い出してみよう。スタートして１０分程経つと，先頭を走る学生とタラタラ走る学生などに別れるのが通常のパターンだと思うが，後ろの集団にＡ君が混じっているとしよう。そして，ある時点でＡ君は先頭に追いつこうと決心して真面目に走り出し，身体能力が高いＡ君はゴール寸前で先頭集団に追いつき，晴れて１位になれたとしよう。\n",
    "\n",
    "この場合，次の関係が成立する必要がある。\n",
    "* Ａ君が決心した時点までの間，Ａ君が走った距離は先頭集団が走った距離より**短い**。しかしＡ君が決心した後，ゴールするまでのＡ君の平均速度は先頭集団よりも**速かった**。\n",
    "\n",
    "一方，追いつかれた先頭集団から見ると次の関係が成立している。\n",
    "* Ａ君が決心した時点までの間，先頭集団が走った距離はＡ君が走った距離より**長い**。しかしＡ君が決心した後，ゴールするまでの先頭集団の平均速度はＡ君よりも**遅かった**。\n",
    "\n",
    "まとめると，Ａ君が優勝するには，決心した時までに走った距離とその後の平均速度との間には**負の関係**が存在しているということだ。重要な点として，Ａ君が優勝しなかったとしても，先頭集団との距離を縮めてゴールしたのであれば，同じように負の関係が成立することが挙げられる。"
   ]
  },
  {
   "cell_type": "markdown",
   "id": "classical-ecuador",
   "metadata": {},
   "source": [
    "この関係を問３に当てはめてみよう。1980年の一人当たりGDPは米国よりも低いＡ国を例にとすると，その後の40年間の成長率を比べると次のことが言える。\n",
    "* Ａ国の成長率が米国を上回っていれば，米国にキャッチアップ（catch-up）している。\n",
    "* Ａ国の成長率が米国を下回っていれば，米国に引き離されているしている（fall behind）。\n",
    "\n",
    "この点を捉えるために次の推定式が想定できる。\n",
    "\n",
    "$$\n",
    "(\\text{平均成長率})_i = a + b\\times(\\text{初期時点の一人当たりGDP})_i + u_i\n",
    "$$\n",
    "\n",
    "ここで$i$は経済を表している。推定値$\\hat{b}$がマイナスであれば，キャッチアップが起こっていることが確認できることになる。実際にデータを扱う前に次を定義する。\n",
    "\n",
    "**＜無条件所得収斂＞**\n",
    "> 一人当たり所得の成長率は，初期時点での一人当たり所得と反比例する。"
   ]
  },
  {
   "cell_type": "markdown",
   "id": "grateful-vector",
   "metadata": {},
   "source": [
    "### データ"
   ]
  },
  {
   "cell_type": "markdown",
   "id": "invisible-spending",
   "metadata": {},
   "source": [
    "ここではPenn World Talbe 10.0の次の変数を使う。\n",
    "\n",
    "* `rgdpna`：平均成長率の計算に使う\n",
    "* `cgdpe`：初期時点の一人当たりGDPの計算に使う\n",
    "* `pop`：人口（in millions）\n",
    "\n",
    "上で使った`DataFrame`である`df`を使うが，回帰分析用の`DataFrame`を別途作成するために使用する変数のリストを作成する。"
   ]
  },
  {
   "cell_type": "code",
   "execution_count": 13,
   "id": "sustainable-citizenship",
   "metadata": {},
   "outputs": [],
   "source": [
    "var_list = ['countrycode','year','rgdpna','cgdpe','pop']"
   ]
  },
  {
   "cell_type": "markdown",
   "id": "harmful-margin",
   "metadata": {},
   "source": [
    "最初に1960年のデータだけを抽出する。"
   ]
  },
  {
   "cell_type": "code",
   "execution_count": 14,
   "id": "elect-translator",
   "metadata": {},
   "outputs": [
    {
     "data": {
      "text/html": [
       "<div>\n",
       "<style scoped>\n",
       "    .dataframe tbody tr th:only-of-type {\n",
       "        vertical-align: middle;\n",
       "    }\n",
       "\n",
       "    .dataframe tbody tr th {\n",
       "        vertical-align: top;\n",
       "    }\n",
       "\n",
       "    .dataframe thead th {\n",
       "        text-align: right;\n",
       "    }\n",
       "</style>\n",
       "<table border=\"1\" class=\"dataframe\">\n",
       "  <thead>\n",
       "    <tr style=\"text-align: right;\">\n",
       "      <th></th>\n",
       "      <th>countrycode</th>\n",
       "      <th>year</th>\n",
       "      <th>rgdpna1960</th>\n",
       "      <th>cgdpe1960</th>\n",
       "      <th>pop1960</th>\n",
       "    </tr>\n",
       "  </thead>\n",
       "  <tbody>\n",
       "    <tr>\n",
       "      <th>0</th>\n",
       "      <td>ABW</td>\n",
       "      <td>1960</td>\n",
       "      <td>NaN</td>\n",
       "      <td>NaN</td>\n",
       "      <td>NaN</td>\n",
       "    </tr>\n",
       "    <tr>\n",
       "      <th>1</th>\n",
       "      <td>AGO</td>\n",
       "      <td>1960</td>\n",
       "      <td>NaN</td>\n",
       "      <td>NaN</td>\n",
       "      <td>NaN</td>\n",
       "    </tr>\n",
       "    <tr>\n",
       "      <th>2</th>\n",
       "      <td>AIA</td>\n",
       "      <td>1960</td>\n",
       "      <td>NaN</td>\n",
       "      <td>NaN</td>\n",
       "      <td>NaN</td>\n",
       "    </tr>\n",
       "    <tr>\n",
       "      <th>3</th>\n",
       "      <td>ALB</td>\n",
       "      <td>1960</td>\n",
       "      <td>NaN</td>\n",
       "      <td>NaN</td>\n",
       "      <td>NaN</td>\n",
       "    </tr>\n",
       "    <tr>\n",
       "      <th>4</th>\n",
       "      <td>ARE</td>\n",
       "      <td>1960</td>\n",
       "      <td>NaN</td>\n",
       "      <td>NaN</td>\n",
       "      <td>NaN</td>\n",
       "    </tr>\n",
       "  </tbody>\n",
       "</table>\n",
       "</div>"
      ],
      "text/plain": [
       "  countrycode  year  rgdpna1960  cgdpe1960  pop1960\n",
       "0         ABW  1960         NaN        NaN      NaN\n",
       "1         AGO  1960         NaN        NaN      NaN\n",
       "2         AIA  1960         NaN        NaN      NaN\n",
       "3         ALB  1960         NaN        NaN      NaN\n",
       "4         ARE  1960         NaN        NaN      NaN"
      ]
     },
     "execution_count": 14,
     "metadata": {},
     "output_type": "execute_result"
    }
   ],
   "source": [
    "cond = ( df.loc[:,'year'] == 1960 )                 # 1\n",
    "                                                    # 2\n",
    "df_reg = df.loc[cond,var_list] \\\n",
    "           .rename(columns={'rgdpna':'rgdpna1960',  # 3\n",
    "                            'cgdpe': 'cgdpe1960',\n",
    "                            'pop':   'pop1960'})  \\\n",
    "           .reset_index(drop=True)                  # 4\n",
    "\n",
    "df_reg.head()"
   ]
  },
  {
   "cell_type": "markdown",
   "id": "crazy-train",
   "metadata": {},
   "source": [
    "```{admonition} コードの説明\n",
    "1. 1960年の行だけを取り出すための条件を作る。`cond`には列`year`の中で1960の行だけが`True`になり，その他は`False`になる`Series`となっている。。\n",
    "2. `.loc`を使って，`var_list`の列で`cond`の条件を満たす列だけを抽出する。\n",
    "3. メソッド`.rename()`に引数`columns`を指定することにより列ラベルを変更する。引数には辞書を使い，キーは変更前の列ラベル，値には変更後の列ラベルを指定する。辞書に含まれない列のラベルは変更されない。\n",
    "4. `.reset_index()`は行インデックスを0から振りなおす。デフォルトでは，元の行インデックスが新たな列として残るが，その列を作らないように`drop=True`を指定している。\n",
    "```\n",
    "\n",
    "次に，`df_reg`と同じ方法で2019年のデータを抽出して，`df_temp`に割り当てる。"
   ]
  },
  {
   "cell_type": "code",
   "execution_count": 15,
   "id": "bridal-amendment",
   "metadata": {},
   "outputs": [],
   "source": [
    "cond = ( df.loc[:,'year']==2019 )\n",
    "\n",
    "df_temp = df.loc[cond,['countrycode','rgdpna','pop']] \\\n",
    "            .rename(columns={'rgdpna':'rgdpna2019',\n",
    "                             'pop':'pop2019'}) \\\n",
    "            .reset_index(drop=True)"
   ]
  },
  {
   "cell_type": "markdown",
   "id": "irish-rwanda",
   "metadata": {},
   "source": [
    "`df_reg`と`df_temp`を結合する必要があるが，ここでは`df_reg`のメソッド`merge()`を使う。まずコードを実行して，その後に説明しよう。"
   ]
  },
  {
   "cell_type": "code",
   "execution_count": 16,
   "id": "familiar-prefix",
   "metadata": {},
   "outputs": [
    {
     "data": {
      "text/html": [
       "<div>\n",
       "<style scoped>\n",
       "    .dataframe tbody tr th:only-of-type {\n",
       "        vertical-align: middle;\n",
       "    }\n",
       "\n",
       "    .dataframe tbody tr th {\n",
       "        vertical-align: top;\n",
       "    }\n",
       "\n",
       "    .dataframe thead th {\n",
       "        text-align: right;\n",
       "    }\n",
       "</style>\n",
       "<table border=\"1\" class=\"dataframe\">\n",
       "  <thead>\n",
       "    <tr style=\"text-align: right;\">\n",
       "      <th></th>\n",
       "      <th>countrycode</th>\n",
       "      <th>year</th>\n",
       "      <th>rgdpna1960</th>\n",
       "      <th>cgdpe1960</th>\n",
       "      <th>pop1960</th>\n",
       "      <th>rgdpna2019</th>\n",
       "      <th>pop2019</th>\n",
       "    </tr>\n",
       "  </thead>\n",
       "  <tbody>\n",
       "    <tr>\n",
       "      <th>0</th>\n",
       "      <td>ABW</td>\n",
       "      <td>1960</td>\n",
       "      <td>NaN</td>\n",
       "      <td>NaN</td>\n",
       "      <td>NaN</td>\n",
       "      <td>3068.758301</td>\n",
       "      <td>0.106314</td>\n",
       "    </tr>\n",
       "    <tr>\n",
       "      <th>1</th>\n",
       "      <td>AGO</td>\n",
       "      <td>1960</td>\n",
       "      <td>NaN</td>\n",
       "      <td>NaN</td>\n",
       "      <td>NaN</td>\n",
       "      <td>222151.062500</td>\n",
       "      <td>31.825295</td>\n",
       "    </tr>\n",
       "    <tr>\n",
       "      <th>2</th>\n",
       "      <td>AIA</td>\n",
       "      <td>1960</td>\n",
       "      <td>NaN</td>\n",
       "      <td>NaN</td>\n",
       "      <td>NaN</td>\n",
       "      <td>223.456711</td>\n",
       "      <td>0.014869</td>\n",
       "    </tr>\n",
       "  </tbody>\n",
       "</table>\n",
       "</div>"
      ],
      "text/plain": [
       "  countrycode  year  rgdpna1960  cgdpe1960  pop1960     rgdpna2019    pop2019\n",
       "0         ABW  1960         NaN        NaN      NaN    3068.758301   0.106314\n",
       "1         AGO  1960         NaN        NaN      NaN  222151.062500  31.825295\n",
       "2         AIA  1960         NaN        NaN      NaN     223.456711   0.014869"
      ]
     },
     "execution_count": 16,
     "metadata": {},
     "output_type": "execute_result"
    }
   ],
   "source": [
    "df_reg = df_reg.merge(df_temp, on='countrycode')\n",
    "\n",
    "df_reg.head(3)"
   ]
  },
  {
   "cell_type": "markdown",
   "id": "dominican-temple",
   "metadata": {},
   "source": [
    "````{admonition} コードの説明\n",
    "このコードは，「左右」にある`DataFrame`を横結合しているとイメージすると良いだろう。左の`DataFrame`が`df_reg`であり，右の`DataFrame`が`df_temp`である。ただ単に結合すると行が揃わない可能性があるので，国ごとに行を揃えるための引数が`on`である。`df_reg`と`df_temp`の共通の列`countrycode`を基準として（ここでは基準列と呼ぼう）左右の`DataFrame`を結合している。もちろん共通の列がない場合もあり得る。その場合は，`on`の代わりに`left_on`に左の列を指定し`right_on`に右の列を指定することにより，それらの基準列に基づいて結合することになる。従って，上のコードは次のコードと等しいことになる。\n",
    "```\n",
    "df_reg.merge(df_temp, left_on='countrycode', right_on='countrycode')\n",
    "```\n",
    "基準列の指定方法に行インデックスを使うこともできる。上の場合は，行インデックスが同じかどうか不明なので使うのは避けた方が良いが，もし確信があるのであれば次のコードとなる。\n",
    "```\n",
    "df_reg.merge(df_temp, left_index=True, right_index=True)\n",
    "```\n",
    "これらの引数の便利な点は，基準列にある要素の順番が合っていなくても自動でマッチさせることである。\n",
    "\n",
    "しかし左右の基準列に必ず同じ行のみがあるわけではない。その場合，どちらか一方にしかない行をどう扱うかを指定するために引数`how`を使う。左の`DataFrame`を`df1`，右の`DataFrame`を`df2`とすると次の４つオプションがある。\n",
    "* inner：`df`とdf2の両方の基準列ある行だけを残す（デフォルト）。\n",
    "* left：df1の行は全て残し，df2からはマッチする行だけが残り，対応する行がない場合はNaNが入る。\n",
    "* right：df2の行は全て残し，df1からはマッチする行だけが残る，対応する行がない場合はNaNが入る。\n",
    "* outer：df1とdf2の両方の行を残し，マッチする行がない場合はNaNを入れる。\n",
    "\n",
    "\n",
    "この他に様々な引数があるので[このサイト](https://pandas.pydata.org/pandas-docs/stable/reference/api/pandas.DataFrame.merge.html)を参照。\n",
    "````\n",
    "\n",
    "次に必要な変数を作成しよう。"
   ]
  },
  {
   "cell_type": "code",
   "execution_count": 17,
   "id": "fifty-klein",
   "metadata": {},
   "outputs": [],
   "source": [
    "# 1960年の一人当たりGDP（対数; 初期時点用）\n",
    "df_reg['gdp_pc1960_log'] = np.log( df_reg['cgdpe1960']/df_reg['pop1960'] )\n",
    "\n",
    "# 1960年の一人当たりGDP（成長率計算用）\n",
    "df_reg['gdp_pc1960_for_grow'] = df_reg['rgdpna1960']/df_reg['pop1960']\n",
    "\n",
    "# 2019年の一人当たりGDP（成長率計算用）\n",
    "df_reg['gdp_pc2019_for_grow'] = df_reg['rgdpna2019']/df_reg['pop2019']\n",
    "\n",
    "# それぞれの国の平均成長率\n",
    "df_reg['growth'] = ( df_reg['gdp_pc2019_for_grow']/df_reg['gdp_pc1960_for_grow']\n",
    "                   )**(1/(2019-1960+1))-1\n",
    "\n",
    "# growthがNaNの行は削除\n",
    "df_reg = df_reg.dropna(subset=['growth'])"
   ]
  },
  {
   "cell_type": "markdown",
   "id": "approximate-symphony",
   "metadata": {},
   "source": [
    "平均成長率のヒストグラムを図示してみよう。"
   ]
  },
  {
   "cell_type": "code",
   "execution_count": 18,
   "id": "square-environment",
   "metadata": {},
   "outputs": [
    {
     "data": {
      "image/png": "[encoded data removed]",
      "text/plain": [
       "<Figure size 432x288 with 1 Axes>"
      ]
     },
     "metadata": {
      "filenames": {
       "image/png": "/Users/tetsu/Documents/My_Simulation/Python/JupyterBooks/py4macro.github.io/_build/jupyter_execute/7_Distribution_52_0.png"
      },
      "needs_background": "light"
     },
     "output_type": "display_data"
    }
   ],
   "source": [
    "growth_average = df_reg.loc[:,'growth'].mean()           # 1\n",
    "\n",
    "fig, ax = plt.subplots(tight_layout=True)\n",
    "ax.hist('growth', data=df_reg, bins=25, edgecolor='k')   # 2\n",
    "ax.axvline(growth_average , c='red')                     # 3\n",
    "ax.set_ylabel('国の数', size=15)\n",
    "ax.set_title('赤い線は平均', size=15)                      # 4\n",
    "fig.suptitle(f'{len(df_reg)}ヵ国の平均成長率 (%)', size=20) # 5\n",
    "pass"
   ]
  },
  {
   "cell_type": "markdown",
   "id": "dirty-checkout",
   "metadata": {},
   "source": [
    "```{admonition} コードの説明\n",
    "1. 平均成長率の平均を計算し，結果を変数`growth_average`に割り当てている。\n",
    "2. `.hist`はヒストグラムをプロットする`ax`のメソッド。\n",
    "    * 第一引数はプロットしたい列ラベル（ここでは`growth`）\n",
    "    * `data`は使用する`DataFrame`を指定する（ここでは`df_reg`）\n",
    "    * `bins`は階級の数を指定する引数（ここでは`25`）\n",
    "    * `edgecolor`はヒストグラムの棒の枠線の色を指定する引数で，`k`は黒を示す。`black`としても構わない。\n",
    "3. `axvline()`は縦の線を引く`ax`のメソッド\n",
    "    * 第一引数は横軸の値\n",
    "    * `c`は色を指定する引数\n",
    "4. `plt.subplots()`によって「軸」が`ax`に割り当てられるが，「軸」のタイトルを設定する`ax`のメソッドが`.set_title()`。\n",
    "    * `size`はフォントの大きさを指定する。\n",
    "5. `plt.subplots()`によって「キャンバス」が`fig`に割り当てられるが，「キャンバス」のタイトルを設定する`fig`のメソッドが`.suptitle()`。\n",
    "    * `f-string`を使って`{}`の中に`len(df_reg)`を代入している。\n",
    "    * `size`はフォントの大きさを指定する。\n",
    "    \n",
    "上のヒストグラムは[発展会計と成長会計](chap:5-accounting)の章の「はじめに」で表示したヒストグラムと同じである。そこでは`DataFrame`のメソッド`.groupby`を使っており，それを使うと国ごとの統計量を簡単に計算することができる。詳細については[このサイト](https://pandas.pydata.org/pandas-docs/stable/reference/api/pandas.DataFrame.groupby.html)を参照するか，「pandas groupby」で検索してみよう。\n",
    "```"
   ]
  },
  {
   "cell_type": "markdown",
   "id": "short-grill",
   "metadata": {},
   "source": [
    "何％の国で平均を下回るか確認してみよう。"
   ]
  },
  {
   "cell_type": "code",
   "execution_count": 19,
   "id": "unsigned-security",
   "metadata": {},
   "outputs": [
    {
     "data": {
      "text/plain": [
       "0.5135135135135135"
      ]
     },
     "execution_count": 19,
     "metadata": {},
     "output_type": "execute_result"
    }
   ],
   "source": [
    "( df_reg.loc[:,'growth'] < growth_average ).sum() / len(df_reg)"
   ]
  },
  {
   "cell_type": "markdown",
   "id": "aggregate-clinton",
   "metadata": {},
   "source": [
    "半分以上の国の成長率は平均より低いことになる。しかし上でも説明したが，キャッチアップが起こっているかは平均の成長率との比較では確認できない。一方で，平均成長率が負の国もあり，それらの国は経済が縮小しており先進国に追いついているとは言えない。では，**平均**で貧しい国は豊かな国に追いついているのだろうか？回帰分析で検討する。"
   ]
  },
  {
   "cell_type": "markdown",
   "id": "friendly-aspect",
   "metadata": {
    "heading_collapsed": true,
    "tags": [
     "remove-cell"
    ]
   },
   "source": [
    "### 回帰分析：1960~2019"
   ]
  },
  {
   "cell_type": "markdown",
   "id": "literary-worse",
   "metadata": {
    "hidden": true
   },
   "source": [
    "(sec:7-regression)=\n",
    "### 回帰分析：1960~2019"
   ]
  },
  {
   "cell_type": "markdown",
   "id": "sporting-passage",
   "metadata": {
    "hidden": true
   },
   "source": [
    "全てのサンプルを使って回帰分析をおこなおうが，回帰式は次のようの設定する。"
   ]
  },
  {
   "cell_type": "code",
   "execution_count": 20,
   "id": "liberal-louisiana",
   "metadata": {
    "hidden": true
   },
   "outputs": [],
   "source": [
    "formula = 'growth ~ gdp_pc1960_log'"
   ]
  },
  {
   "cell_type": "markdown",
   "id": "wrapped-somalia",
   "metadata": {
    "hidden": true
   },
   "source": [
    "左辺は1960~2019年の平均成長率であり，右辺は1960年の一人当たりGDP（対数）である。"
   ]
  },
  {
   "cell_type": "code",
   "execution_count": 21,
   "id": "proof-heart",
   "metadata": {
    "hidden": true
   },
   "outputs": [
    {
     "name": "stdout",
     "output_type": "stream",
     "text": [
      "==================================================================================\n",
      "                     coef    std err          t      P>|t|      [0.025      0.975]\n",
      "----------------------------------------------------------------------------------\n",
      "Intercept          0.0227      0.011      2.006      0.047       0.000       0.045\n",
      "gdp_pc1960_log    -0.0004      0.001     -0.299      0.765      -0.003       0.002\n",
      "==================================================================================\n"
     ]
    }
   ],
   "source": [
    "res_all = sm.ols(formula, data=df_reg).fit()\n",
    "print(res_all.summary().tables[1])"
   ]
  },
  {
   "cell_type": "markdown",
   "id": "graduate-opening",
   "metadata": {
    "hidden": true
   },
   "source": [
    "`gdp_pc1960_log`の係数はマイナスだが，$p$値が非常に高く統計的有意性はない。また決定係数も非常に小さい。"
   ]
  },
  {
   "cell_type": "code",
   "execution_count": 22,
   "id": "rocky-block",
   "metadata": {
    "hidden": true
   },
   "outputs": [
    {
     "data": {
      "text/plain": [
       "0.0008199886481219387"
      ]
     },
     "execution_count": 22,
     "metadata": {},
     "output_type": "execute_result"
    }
   ],
   "source": [
    "res_all.rsquared"
   ]
  },
  {
   "cell_type": "markdown",
   "id": "adapted-stage",
   "metadata": {
    "hidden": true
   },
   "source": [
    "結果を図で確認してみよう。"
   ]
  },
  {
   "cell_type": "code",
   "execution_count": 23,
   "id": "cheap-tribe",
   "metadata": {
    "hidden": true
   },
   "outputs": [
    {
     "data": {
      "image/png": "[encoded data removed]",
      "text/plain": [
       "<Figure size 432x288 with 1 Axes>"
      ]
     },
     "metadata": {
      "filenames": {
       "image/png": "/Users/tetsu/Documents/My_Simulation/Python/JupyterBooks/py4macro.github.io/_build/jupyter_execute/7_Distribution_66_0.png"
      },
      "needs_background": "light"
     },
     "output_type": "display_data"
    }
   ],
   "source": [
    "# 予測値の列の作成\n",
    "df_reg['all_fitted'] = res_all.fittedvalues\n",
    "\n",
    "# 図示\n",
    "ax_ = df_reg.plot(x='gdp_pc1960_log', y='growth', kind='scatter')\n",
    "df_reg.sort_values('all_fitted').plot(x='gdp_pc1960_log', y='all_fitted', color='red', ax=ax_)\n",
    "\n",
    "pass"
   ]
  },
  {
   "cell_type": "markdown",
   "id": "reserved-gateway",
   "metadata": {
    "hidden": true
   },
   "source": [
    "これらの結果から，データに含まれる全ての国で無条件所得収斂（キャッチアップ）が成立しているとは言い難い。しかし[所得分布の推移](sec:7-distribution)からキャッチアップを示唆する結果を得たば，結果の差はどこから来ているのだろうか。一つの可能性は分析の中で使った国数でり，次節ではその点について考察する。"
   ]
  },
  {
   "cell_type": "markdown",
   "id": "annoying-photography",
   "metadata": {},
   "source": [
    "### 期間を変えて回帰分析"
   ]
  },
  {
   "cell_type": "markdown",
   "id": "wooden-vacation",
   "metadata": {},
   "source": [
    "[所得分布の推移](sec:7-distribution)で示した所得分布の歪度の変化の図を見ると，1970年以降は減少傾向にある。この結果はキャッチアップを示唆する結果であるが，それ以前は分析に含まれた国数の変化により，解釈が難しくなった。同様に，国数の影響が回帰分析の結果に現れている可能性が残る。それを確認するために，回帰分析を次のように期間を変えて`for`ループで計算してみることにしよう。\n",
    "* 1950~2019年\n",
    "* 1951~2019年\n",
    "* ・・・\n",
    "* ・・・\n",
    "* 1980~2019年\n",
    "* ・・・\n",
    "* ・・・\n",
    "* 2008~2019年\n",
    "* 2009~2019年\n",
    "\n",
    "次の３つのステップに分けてコードを書いていく。\n",
    "1. 引数`yr`に初期時点の一人当たりGDPの年（例えば，1980）を指定すると，次の４つを返す`growth_regression(yr)`という関数を作成する。\n",
    "    * 初期時点の一人当たりGDP（対数）の係数の推定値\n",
    "    * $p$値\n",
    "    * 決定係数\n",
    "    * 標本に含まれる国数\n",
    "1. `for`ループで`growth_regression(yr)`を使い，上の４つの変数の推移を示す変数からなる`DataFrame`を作成する。\n",
    "1. ４つの変数の時系列プロット\n",
    "\n",
    "ステップ１の`growth_regression(yr)`は基本的に[](sec:7-regression)で使ったコードを関数としてまとめることで作成する。"
   ]
  },
  {
   "cell_type": "code",
   "execution_count": 24,
   "id": "declared-python",
   "metadata": {},
   "outputs": [],
   "source": [
    "def growth_regression(yr):\n",
    "\n",
    "    # 変数リスト\n",
    "    var = ['countrycode','rgdpna','pop','cgdpe']    \n",
    "    \n",
    "    # 初期の変数を抽出\n",
    "    cond0 = ( df.loc[:,'year'] == yr )\n",
    "    df0 = df.loc[cond0, var] \\\n",
    "            .rename(columns={'rgdpna':'rgdpna0',\n",
    "                             'cgdpe': 'cgdpe0',\n",
    "                             'pop':   'pop0'})\n",
    "    # 2019年の変数を抽出\n",
    "    cond2019 = ( df.loc[:,'year']==2019 )\n",
    "    df2019 = df.loc[cond2019, var[:-1]] \\\n",
    "               .rename(columns={'rgdpna':'rgdpna2019',\n",
    "                                'pop':'pop2019'})\n",
    "    # DataFrameの結合\n",
    "    df0 = df0.merge(df2019, on='countrycode')\n",
    "    \n",
    "    # 初期の一人当たりGDP（対数）\n",
    "    df0['gdp_pc0_log'] = np.log( df0['cgdpe0']/df0['pop0'] )\n",
    "\n",
    "    # 初期の一人当たりGDP（成長率計算用）\n",
    "    df0['gdp_pc0_for_grow'] = df0['rgdpna0']/df0['pop0']\n",
    "\n",
    "    # 2019年の一人当たりGDP（成長率計算用）\n",
    "    df0['gdp_pc2019_for_grow'] = df0['rgdpna2019']/df0['pop2019']\n",
    "\n",
    "    # それぞれの国の平均成長率\n",
    "    df0['growth'] =  ( df0['gdp_pc2019_for_grow']/df0['gdp_pc0_for_grow']\n",
    "                     )**(1/(2019-yr+1))-1\n",
    "\n",
    "\n",
    "    # 列 growthとcgdpe0 に欠損値がある行は削除\n",
    "    df0 = df0.dropna(subset=['growth','cgdpe0'])\n",
    "\n",
    "    # \n",
    "    formula = 'growth ~ gdp_pc0_log'\n",
    "    res = sm.ols(formula, data=df0).fit()\n",
    "    \n",
    "    return ( res.params[1],   # 推定値\n",
    "             res.pvalues[1],  # p値\n",
    "             res.rsquared,    # 決定係数\n",
    "             int(res.nobs) )  # 国の数"
   ]
  },
  {
   "cell_type": "markdown",
   "id": "danish-beatles",
   "metadata": {},
   "source": [
    "`yr=1960`として関数を実行してみよう。"
   ]
  },
  {
   "cell_type": "code",
   "execution_count": 25,
   "id": "aggregate-charter",
   "metadata": {},
   "outputs": [
    {
     "data": {
      "text/plain": [
       "(-0.00041984018714417526, 0.7654443398976627, 0.0008199886481219387, 111)"
      ]
     },
     "execution_count": 25,
     "metadata": {},
     "output_type": "execute_result"
    }
   ],
   "source": [
    "growth_regression(1960)"
   ]
  },
  {
   "cell_type": "markdown",
   "id": "incomplete-feature",
   "metadata": {},
   "source": [
    "返り値は４つの値のタプルとなっており，[](sec:7-regression)の結果と同じになることが確認できる。\n",
    "\n",
    "ステップ２として，`for`ループを使って４つの変数からなる`DataFrame`を作成する。"
   ]
  },
  {
   "cell_type": "code",
   "execution_count": 26,
   "id": "artistic-collection",
   "metadata": {},
   "outputs": [],
   "source": [
    "bhat_list = []       # 1\n",
    "pval_list = []       # 2\n",
    "rsquared_list = []   # 3\n",
    "nobs_list = []       # 4\n",
    "yr_list = []         # 5\n",
    "\n",
    "for yr in range(1950, 2010):    # 6\n",
    "    v = growth_regression(yr)   # 7\n",
    "    bhat_list.append(v[0])      # 8\n",
    "    pval_list.append(v[1])      # 9\n",
    "    rsquared_list.append(v[2])  # 10\n",
    "    nobs_list.append(v[3])      # 11\n",
    "    yr_list.append(yr)          # 12\n",
    "\n",
    "# 13\n",
    "df_reg_result = pd.DataFrame({'初期時点の一人当たりGDPの係数':bhat_list,\n",
    "                              'p値':pval_list,\n",
    "                              '決定係数':rsquared_list,\n",
    "                              '国の数':nobs_list},\n",
    "                              index=yr_list)"
   ]
  },
  {
   "cell_type": "markdown",
   "id": "intended-above",
   "metadata": {},
   "source": [
    "```{admonition} コードの説明\n",
    "1. 初期の一人当たりGDP（対数）の係数の推定値を格納する空のリスト\n",
    "2. p値を格納する空のリスト\n",
    "3. 決定係数を格納する空のリスト\n",
    "4. 標本の大きさ（国数）を格納する空のリスト\n",
    "5. 回帰分析で初期時点の`year`を格納する空のリスト\n",
    "6. 1950-2009年を初期時点とする`for`ループの開始\n",
    "7. `growth_regression(yr)`を使い`yr`を初期時点として回帰分析を行う。返り値の４つの変数からなるタプルを`v`に割り当てる。\n",
    "8. `v`の0番目の要素（推定値）を`bhat_list`に追加する。\n",
    "9. `v`の1番目の要素（p値）を`pval_list`に追加する。\n",
    "10. `v`の2番目の要素（決定係数）を`rsquared_list`に追加する。\n",
    "11. `v`の3番目の要素（標本のサイズ; 国数）を`nobs_list`に追加する。\n",
    "12. 初期に使った`yr`を`yr_list`に追加する。\n",
    "13. `for`ループの結果を使い`DataFrame`を作成し`df_reg_result`に割り当てる。\n",
    "```"
   ]
  },
  {
   "cell_type": "markdown",
   "id": "mathematical-joseph",
   "metadata": {},
   "source": [
    "ステップ３として`df_reg_result`のメソッド`.plot()`を使い時系列データをプロットする。"
   ]
  },
  {
   "cell_type": "code",
   "execution_count": 27,
   "id": "defined-narrow",
   "metadata": {
    "scrolled": true
   },
   "outputs": [
    {
     "data": {
      "image/png": "[encoded data removed]",
      "text/plain": [
       "<Figure size 432x576 with 4 Axes>"
      ]
     },
     "metadata": {
      "filenames": {
       "image/png": "/Users/tetsu/Documents/My_Simulation/Python/JupyterBooks/py4macro.github.io/_build/jupyter_execute/7_Distribution_77_0.png"
      },
      "needs_background": "light"
     },
     "output_type": "display_data"
    }
   ],
   "source": [
    "df_reg_result.plot(subplots=True, figsize=(6,8))\n",
    "pass"
   ]
  },
  {
   "cell_type": "markdown",
   "id": "whole-platform",
   "metadata": {},
   "source": [
    "上から一番目の図から，初期の一人当たりGDPの係数の推定値は全て負の値となることがわかる。しかし二番目の図からわかるように，1970年までの推定値の統計的優位性低く，1970年以降は高いように見える。1970以降だけを表示してみよう。"
   ]
  },
  {
   "cell_type": "code",
   "execution_count": 28,
   "id": "missing-transport",
   "metadata": {},
   "outputs": [
    {
     "data": {
      "image/png": "[encoded data removed]",
      "text/plain": [
       "<Figure size 432x288 with 1 Axes>"
      ]
     },
     "metadata": {
      "filenames": {
       "image/png": "/Users/tetsu/Documents/My_Simulation/Python/JupyterBooks/py4macro.github.io/_build/jupyter_execute/7_Distribution_79_0.png"
      },
      "needs_background": "light"
     },
     "output_type": "display_data"
    }
   ],
   "source": [
    "ax_ = df_reg_result.loc[1970:,'p値'].plot()\n",
    "ax_.set_title('初期時点の一人当たりGDPの係数のp値', size=18)\n",
    "pass"
   ]
  },
  {
   "cell_type": "markdown",
   "id": "characteristic-wilderness",
   "metadata": {},
   "source": [
    "推定値は0となる帰無仮説を5%の優位水準で棄却できる。即ち，少なくとも1970年以降は平均して貧しい経済は豊かな経済にキャッチアップしていることを示唆している。この結果は，[所得分布の推移](sec:7-distribution)で示した所得分布の歪度の変化の図と整合性があると言える。\n",
    "\n",
    "次章では，経済成長の理論モデルから所得収斂の問題を再考し次の点について議論する。\n",
    "* 初期の一人当たりGDPの係数の推定値の解釈\n",
    "* 回帰式に必要な修正点"
   ]
  }
 ],
 "metadata": {
  "celltoolbar": "Tags",
  "kernelspec": {
   "display_name": "Python 3",
   "language": "python",
   "name": "python3"
  },
  "language_info": {
   "codemirror_mode": {
    "name": "ipython",
    "version": 3
   },
   "file_extension": ".py",
   "mimetype": "text/x-python",
   "name": "python",
   "nbconvert_exporter": "python",
   "pygments_lexer": "ipython3",
   "version": "3.8.5"
  }
 },
 "nbformat": 4,
 "nbformat_minor": 5
}