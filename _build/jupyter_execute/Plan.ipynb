{
 "cells": [
  {
   "cell_type": "markdown",
   "id": "superb-seeker",
   "metadata": {},
   "source": [
    "# 今後の計画"
   ]
  },
  {
   "cell_type": "markdown",
   "id": "wired-shaft",
   "metadata": {},
   "source": [
    "第３部の「マクロ経済学 - 短期分析」は未完成だが，次の目次に沿って進める計画である。2022度後期の「プログラミングと経済分析」の教科書として本サイトの内容を使う予定（もう一つの教科書は[「Pythonで学ぶ入門計量経済学」](https://py4etrics.github.io)）。\n",
    "* GDPと構成要素 ☑️\n",
    "* 法則・曲線・増加率 ☑️\n",
    "* IS-MP-PCモデル ☑️\n",
    "* ランダム変数と全要素生産性 ☑️\n",
    "* ◯◯◯◯◯◯◯◯◯◯\n",
    "* 実物的景気循環モデル\n",
    "* 貨幣の中立性と金融政策 ☑️\n",
    "* ニューケインジアン・モデル"
   ]
  }
 ],
 "metadata": {
  "kernelspec": {
   "display_name": "Python 3 (ipykernel)",
   "language": "python",
   "name": "python3"
  },
  "language_info": {
   "codemirror_mode": {
    "name": "ipython",
    "version": 3
   },
   "file_extension": ".py",
   "mimetype": "text/x-python",
   "name": "python",
   "nbconvert_exporter": "python",
   "pygments_lexer": "ipython3",
   "version": "3.9.0"
  }
 },
 "nbformat": 4,
 "nbformat_minor": 5
}