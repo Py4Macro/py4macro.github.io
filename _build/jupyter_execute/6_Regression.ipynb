{
 "cells": [
  {
   "cell_type": "markdown",
   "metadata": {},
   "source": [
    "# 回帰分析"
   ]
  },
  {
   "cell_type": "code",
   "execution_count": 1,
   "metadata": {},
   "outputs": [],
   "source": [
    "import numpy as np\n",
    "import pandas as pd\n",
    "import statsmodels.formula.api as sm\n",
    "import matplotlib.pyplot as plt\n",
    "import japanize_matplotlib\n",
    "from see import see\n",
    "import py4macro"
   ]
  },
  {
   "cell_type": "markdown",
   "metadata": {
    "heading_collapsed": true
   },
   "source": [
    "## はじめに"
   ]
  },
  {
   "cell_type": "markdown",
   "metadata": {
    "hidden": true
   },
   "source": [
    "この章の目的は２つある。第一に，`Python`を使って回帰分析の方法を紹介する事である。読者には統計学や計量経済学を学び，実際にソフトを使い回帰分析をした経験を持つ人も多く含まれると思う。例えば，無料のRやGretl，そして有料ではあるがStataやEViewsあたりが人気ではないだろうか。`Python`でも回帰分析を簡単におこなうことが可能であり，有名な`statsmodels`と`linearmodels`パッケージを使うと学部の授業で習うことは殆ど全て可能だろう。この章では基本的な回帰分析を考えるので`statsmodels`だけを取り上げ，その基本的なコードを紹介するが，より多くを知りたい場合は[「Pythonで学ぶ入門計量経済学」](https://py4etrics.github.io)を参照して欲しい。\n",
    "\n",
    "この章の第二の目的は，[発展会計と成長会計](chap:5-accounting)の章で考察した問題を再考することである。その章では，全要素生産性と蓄積生産要素の２つにフォーカスし，それぞれが一人当たりGDPの水準と成長率にどれだけ貢献しているかを考えた。その際，寄与度として分散と共分散を使い計算したが，回帰分析を使うと簡単に計算できる事を示す。更に，回帰分析を使い，所得が低い経済は所得が高い経済にキャッチアップしているかを検討する。"
   ]
  },
  {
   "cell_type": "markdown",
   "metadata": {
    "heading_collapsed": true
   },
   "source": [
    "## `Python`を使った回帰分析 "
   ]
  },
  {
   "cell_type": "markdown",
   "metadata": {
    "hidden": true
   },
   "source": [
    "[発展会計と成長開会](chap:5-accounting)の章で経済間の所得格差の要因を考え，[全要素生産性](sec:5-tfp)のセクションで全要素生産性と一人当たりGDPの散布図を作成した。そのデータを使い回帰分析のためのコードの書き方を説明する。"
   ]
  },
  {
   "cell_type": "markdown",
   "metadata": {
    "heading_collapsed": true,
    "hidden": true
   },
   "source": [
    "### データ"
   ]
  },
  {
   "cell_type": "markdown",
   "metadata": {
    "hidden": true
   },
   "source": [
    "まずデータを作成する。"
   ]
  },
  {
   "cell_type": "code",
   "execution_count": 2,
   "metadata": {
    "hidden": true
   },
   "outputs": [],
   "source": [
    "df2019 = py4macro.data('pwt') \\\n",
    "                 .query('year == 2019') \\\n",
    "                 .reset_index(drop=True)"
   ]
  },
  {
   "cell_type": "markdown",
   "metadata": {
    "hidden": true
   },
   "source": [
    "```{admonition} コードの説明\n",
    "* `py4macro.data()`は`DataFrame`を返すため，そのメソッド`query()`を続けて使っている。また`query()`も`DataFrame`を返すため，そのメソッド`reset_index()`を続けて使っている。\n",
    "* `\\`を使うと改行が可能となる。\n",
    "* `query('year == 2019')`を使って2019年のデータだけを抽出したが，その際に行インデックスが飛び飛びになるので，それを`0`，`1`，`2`....と番号を振り直すために`reset_index()`を使っている。引数`drop=True`がないと，元の飛び飛びの行インデックスが新たな列として残るため，それを残さないようにしている。\n",
    "```"
   ]
  },
  {
   "cell_type": "markdown",
   "metadata": {
    "hidden": true
   },
   "source": [
    "発展会計の分析で使った同じ変数を作成しよう。"
   ]
  },
  {
   "cell_type": "code",
   "execution_count": 3,
   "metadata": {
    "hidden": true
   },
   "outputs": [],
   "source": [
    "# 資本の所得シャア\n",
    "a=1/3.0\n",
    "\n",
    "# 労働者一人当たりGDP\n",
    "df2019['gdp_pc'] = df2019['cgdpo'] / df2019['emp']\n",
    "\n",
    "# 労働者一人当たり資本\n",
    "df2019['k_pc'] = df2019['ck'] / df2019['emp']\n",
    "\n",
    "# 蓄積生産要素\n",
    "df2019['factors'] = df2019['k_pc']**a * ( df2019['avh']*df2019['hc'] )**(1-a)\n",
    "\n",
    "# 全要素生産性\n",
    "df2019['tfp'] = df2019['gdp_pc'] / df2019['factors']\n",
    "\n",
    "# 米国のデータ\n",
    "us2019 = df2019.query('country == \"United States\"')\n",
    "\n",
    "# 労働者一人当たりGDPを標準化（USA=1）\n",
    "df2019['gdp_pc_relative'] = df2019['gdp_pc'] / us2019['gdp_pc'].to_numpy()\n",
    "\n",
    "# 全要素生産性の標準化（USA=1）\n",
    "df2019['tfp_relative'] = df2019['tfp'] / us2019['tfp'].to_numpy()\n",
    "\n",
    "# 蓄積生産要素の標準化（USA=1）\n",
    "df2019['factors_relative'] = df2019['factors'] / us2019['factors'].to_numpy()"
   ]
  },
  {
   "cell_type": "markdown",
   "metadata": {
    "hidden": true
   },
   "source": [
    "全要素生産性と一人当たりGDPの散布図を作成しよう。"
   ]
  },
  {
   "cell_type": "code",
   "execution_count": 4,
   "metadata": {
    "hidden": true
   },
   "outputs": [
    {
     "data": {
      "image/png": "[encoded data removed]",
      "text/plain": [
       "<Figure size 432x288 with 1 Axes>"
      ]
     },
     "metadata": {
      "filenames": {
       "image/png": "/Users/tetsu/Documents/My_Simulation/Python/JupyterBooks/py4macro.github.io/_build/jupyter_execute/6_Regression_13_0.png"
      },
      "needs_background": "light"
     },
     "output_type": "display_data"
    }
   ],
   "source": [
    "df2019.plot(x='tfp_relative', y='gdp_pc_relative', kind='scatter')\n",
    "pass"
   ]
  },
  {
   "cell_type": "markdown",
   "metadata": {
    "hidden": true
   },
   "source": [
    "### 回帰分析"
   ]
  },
  {
   "cell_type": "markdown",
   "metadata": {
    "hidden": true
   },
   "source": [
    "上の散布図に直線のトレンドの描く場合，次式となる。\n",
    "\n",
    "$$\n",
    "y_i = a+bA_i\n",
    "$$ (eq:regression)\n",
    "\n",
    "ここでの目的は，散布図のデータを使い定数項`a`とスロープ係数`b`を計算し直線トレンドを描く事である。\n",
    "\n",
    "\n",
    "式[](eq:regression）のパラメータ`b`を推計するために`statsmodels`パッケージを使うが，そのサブパッケージ`formula.api`の中に含まれる`ols`を使うことにより、最小二乗法の多くの計算（例えば、検定値など）を自動で行うことが可能である。また推定式を文字列で書くことができるので直感的にコードを書くことが可能となる。より具体的な説明は[このサイト](https://py4etrics.github.io)を参照してほしい。\n",
    "\n",
    "次のステップでコードを書く。\n",
    "1. 文字列で推定式を書く。\n",
    "1. `ols`を使って推定の準備を行う。\n",
    "1. メソッド`.fit()`を使って自動計算を行う。\n",
    "1. 結果の属性やメソッドを使い推定値を表示する。"
   ]
  },
  {
   "cell_type": "markdown",
   "metadata": {
    "hidden": true
   },
   "source": [
    "**ステップ１**：推定式の設定\n",
    "\n",
    "回帰式は次のような形で文字列を使って指定する。\n",
    "```\n",
    "'非説明変数 ~ 定数項以外の説明変数'\n",
    "```\n",
    "定数項は自動的に挿入される。また定数項以外の説明変数が複数がる場合は、`+`でつなげるが，今回は単回帰分析となるので説明変数は１つとなる。また回帰式の中で使う変数名は，データが含まれる`DataFrame`の列ラベルを使う。\n",
    "```\n",
    "'gdp_pc_relative ~ tfp_relative'\n",
    "```\n",
    "以下ではこの回帰式を変数`formula`に割り当てているが，変数は分かりやすいものであれば好きなものを使えば良い。"
   ]
  },
  {
   "cell_type": "code",
   "execution_count": 5,
   "metadata": {
    "hidden": true
   },
   "outputs": [],
   "source": [
    "formula = 'gdp_pc_relative ~ tfp_relative'"
   ]
  },
  {
   "cell_type": "markdown",
   "metadata": {
    "hidden": true
   },
   "source": [
    "**ステップ２**：自動計算の準備\n",
    "\n",
    "`sm`の`ols`を使って自動計算の準備として計算の対象となるもの（インスタンスと呼ばれるオブジェクト）を生成する。次のコードでは変数`model`に割り当てる。"
   ]
  },
  {
   "cell_type": "code",
   "execution_count": 6,
   "metadata": {
    "hidden": true
   },
   "outputs": [],
   "source": [
    "model = sm.ols(formula, data=df2019)"
   ]
  },
  {
   "cell_type": "markdown",
   "metadata": {
    "hidden": true
   },
   "source": [
    "`ols()`の第１引数は上で定義した文字列の回帰式であり、第２引数`data`は使用するデータを指定する。"
   ]
  },
  {
   "cell_type": "markdown",
   "metadata": {
    "hidden": true
   },
   "source": [
    "**ステップ３**：自動計算\n",
    "\n",
    "`model`のメソッド`.fit()`を使って自動計算し，計算した結果を変数`result`に割り当てる。"
   ]
  },
  {
   "cell_type": "code",
   "execution_count": 7,
   "metadata": {
    "hidden": true
   },
   "outputs": [],
   "source": [
    "result = model.fit()"
   ]
  },
  {
   "cell_type": "markdown",
   "metadata": {
    "hidden": true
   },
   "source": [
    "ここでステップ２と３を連続で次のように書いても構わない。\n",
    "```\n",
    "result = ols(formula, data=df).fit()\n",
    "```\n",
    "\n",
    "**ステップ４**：結果の表示\n",
    "\n",
    "`result`には様々な属性が用意されているが、メソッド`.summary()`を使うと基本的な推定結果を表示することができる。（関数`print()`を使っているが使わなくても同じ情報が表示される。）"
   ]
  },
  {
   "cell_type": "code",
   "execution_count": 8,
   "metadata": {
    "hidden": true
   },
   "outputs": [
    {
     "name": "stdout",
     "output_type": "stream",
     "text": [
      "                            OLS Regression Results                            \n",
      "==============================================================================\n",
      "Dep. Variable:        gdp_pc_relative   R-squared:                       0.848\n",
      "Model:                            OLS   Adj. R-squared:                  0.846\n",
      "Method:                 Least Squares   F-statistic:                     330.2\n",
      "Date:                Fri, 21 May 2021   Prob (F-statistic):           7.55e-26\n",
      "Time:                        14:34:40   Log-Likelihood:                 49.266\n",
      "No. Observations:                  61   AIC:                            -94.53\n",
      "Df Residuals:                      59   BIC:                            -90.31\n",
      "Df Model:                           1                                         \n",
      "Covariance Type:            nonrobust                                         \n",
      "================================================================================\n",
      "                   coef    std err          t      P>|t|      [0.025      0.975]\n",
      "--------------------------------------------------------------------------------\n",
      "Intercept       -0.2825      0.049     -5.763      0.000      -0.381      -0.184\n",
      "tfp_relative     1.2226      0.067     18.172      0.000       1.088       1.357\n",
      "==============================================================================\n",
      "Omnibus:                       11.080   Durbin-Watson:                   1.957\n",
      "Prob(Omnibus):                  0.004   Jarque-Bera (JB):               15.053\n",
      "Skew:                           0.661   Prob(JB):                     0.000538\n",
      "Kurtosis:                       5.043   Cond. No.                         7.19\n",
      "==============================================================================\n",
      "\n",
      "Notes:\n",
      "[1] Standard Errors assume that the covariance matrix of the errors is correctly specified.\n"
     ]
    }
   ],
   "source": [
    "print(result.summary())"
   ]
  },
  {
   "cell_type": "markdown",
   "metadata": {
    "hidden": true
   },
   "source": [
    "表は3つのセクションから構成されている。\n",
    "* 上段にはOLS推定の基本的な情報が表示されている。\n",
    "    * 左側\n",
    "        * `Dep. Variable`：被説明変数\n",
    "        * `Model`：モデル\n",
    "        * `Method`：手法\n",
    "        * `Data`：日にち\n",
    "        * `Time`：時間\n",
    "        * `No. Observation`：標本の大きさ\n",
    "        * `Df Residuals`：残差の自由度\n",
    "        * `Df Model`：モデルの自由度（定数項以外の説明変数の数）\n",
    "        * `Covariance Type`：共分散のタイプ\n",
    "    * 右側\n",
    "        * `R-squared`：決定係数\n",
    "        * `adj. R-squared`：自由度調整済み決定係数\n",
    "        * `F-statistic`：$F$統計量\n",
    "        * `Prob (F-statistic)`：$F$値\n",
    "        * `Log-Likelihood`：対数尤度\n",
    "        * `AIC`：赤池情報量規準\n",
    "        * `BIC`：ベイズ情報量規準\n",
    "* 中段には主な推定結果が表示される。\n",
    "    * 列ラベル\n",
    "        * `coef`：係数\n",
    "        * `std err`：標準誤差\n",
    "        * `t`：$t$値\n",
    "        * `P>|t|`：$p$値\n",
    "        * `[0.025,0.975]`：信頼区間（5%)\n",
    "    * 行ラベル\n",
    "        * `Intercept`：定数項\n",
    "        * `tfp_relative`：説明変数（選択する変数によって変わる）\n",
    "* 下段には様々な検定などに関する数値が並んでいる。\n",
    "    * 左側\n",
    "        * `Omnibus`：オムニバス検定等計量\n",
    "        * `Prob(Omnibus)`：オムニバス検定統計値\n",
    "        * `Skew`：歪度\n",
    "        * `Kurtosis`：尖度\n",
    "    * 右側\n",
    "        * `Durbin-Watson`：ダービン・ワトソン統計量\n",
    "        * `Jarque-Bera (JB)`：ジャーク・ベラ検定統計量\n",
    "        * `Prob(JB)`：ジャーク・ベラ検定統計量\n",
    "        * `Cond. No.`：条件数"
   ]
  },
  {
   "cell_type": "markdown",
   "metadata": {
    "hidden": true
   },
   "source": [
    "必要な部分だけを表示する場合は，次のコードを使うと良いだろう。\n",
    "\n",
    "```\n",
    "res.summary().tables[0]\n",
    "res.summary().tables[1]\n",
    "res.summary().tables[2]\n",
    "```\n",
    "\n",
    "係数の推定値に関する中段の表を表示してみよう。"
   ]
  },
  {
   "cell_type": "code",
   "execution_count": 9,
   "metadata": {
    "hidden": true
   },
   "outputs": [
    {
     "name": "stdout",
     "output_type": "stream",
     "text": [
      "================================================================================\n",
      "                   coef    std err          t      P>|t|      [0.025      0.975]\n",
      "--------------------------------------------------------------------------------\n",
      "Intercept       -0.2825      0.049     -5.763      0.000      -0.381      -0.184\n",
      "tfp_relative     1.2226      0.067     18.172      0.000       1.088       1.357\n",
      "================================================================================\n"
     ]
    }
   ],
   "source": [
    "print(result.summary().tables[1])"
   ]
  },
  {
   "cell_type": "markdown",
   "metadata": {
    "hidden": true
   },
   "source": [
    "結果の解釈を試みてみよう。\n",
    "* 定数項の推定値のp値は小さく、通常の有意水準では「定数項の値はゼロ」の帰無仮説を棄却できる。一方で，一人当たりGDPは正の値を取るが，定数項はマイナスの値となっている。ここでは非線形の関係が示唆されるので，練習問題で再考する。\n",
    "* `tfp_relative`のパラメータの推定値は正の値であり，統計的優位性も高い。推定値を解釈するために，相対的全要素生産性である`tfp_relative`が0.01上昇したとしよう（例えば，0.5から0.51）。相対的一人当たりGDP`gdp_pc_relative`は平均で1.2225x0.01=0.012225増加する事になる。即ち，全要素生産性の１単位の上昇は一人当たりGDPの１単位以上の増加につながっている。"
   ]
  },
  {
   "cell_type": "markdown",
   "metadata": {
    "hidden": true
   },
   "source": [
    "`result`は推定結果に関する情報が詰まったオブジェクトである。何が備わっているか`see`関数を使って調べてみよう。"
   ]
  },
  {
   "cell_type": "code",
   "execution_count": 10,
   "metadata": {
    "hidden": true
   },
   "outputs": [
    {
     "data": {
      "text/plain": [
       "    <                    <=                   ==                   !=\n",
       "    >                    >=                   dir()                hash()\n",
       "    help()               repr()               str()                .HC0_se\n",
       "    .HC1_se              .HC2_se              .HC3_se              .aic\n",
       "    .bic                 .bse                 .centered_tss\n",
       "    .compare_f_test()    .compare_lm_test()\n",
       "    .compare_lr_test()                        .condition_number    .conf_int()\n",
       "    .conf_int_el()       .cov_HC0             .cov_HC1             .cov_HC2\n",
       "    .cov_HC3             .cov_kwds            .cov_params()        .cov_type\n",
       "    .df_model            .df_resid            .diagn               .eigenvals\n",
       "    .el_test()           .ess                 .f_pvalue            .f_test()\n",
       "    .fittedvalues        .fvalue              .get_influence()\n",
       "    .get_prediction()    .get_robustcov_results()\n",
       "    .initialize()        .k_constant          .llf                 .load()\n",
       "    .model               .mse_model           .mse_resid           .mse_total\n",
       "    .nobs                .normalized_cov_params\n",
       "    .outlier_test()      .params              .predict()           .pvalues\n",
       "    .remove_data()       .resid               .resid_pearson       .rsquared\n",
       "    .rsquared_adj        .save()              .scale               .ssr\n",
       "    .summary()           .summary2()          .t_test()\n",
       "    .t_test_pairwise()                        .tvalues\n",
       "    .uncentered_tss      .use_t               .wald_test()\n",
       "    .wald_test_terms()                        .wresid"
      ]
     },
     "execution_count": 10,
     "metadata": {},
     "output_type": "execute_result"
    }
   ],
   "source": [
    "see(result)"
   ]
  },
  {
   "cell_type": "markdown",
   "metadata": {
    "hidden": true
   },
   "source": [
    "推定結果の表を表示するメソッド`.summary()`が含まれていることが分かる。その他様々なものが含まれているが，詳細は[このサイト](https://www.statsmodels.org/stable/generated/statsmodels.regression.linear_model.RegressionResults.html)（英語）を参考にして欲しい。ここでは代表的なものだけを紹介する。\n",
    "\n",
    "まず係数の推定値は`result`の属性`params`でアクセスできる。"
   ]
  },
  {
   "cell_type": "code",
   "execution_count": 11,
   "metadata": {
    "hidden": true
   },
   "outputs": [
    {
     "data": {
      "text/plain": [
       "Intercept      -0.282516\n",
       "tfp_relative    1.222558\n",
       "dtype: float64"
      ]
     },
     "execution_count": 11,
     "metadata": {},
     "output_type": "execute_result"
    }
   ],
   "source": [
    "result.params"
   ]
  },
  {
   "cell_type": "markdown",
   "metadata": {
    "hidden": true
   },
   "source": [
    "`result.params`のタイプを調べてみよう。"
   ]
  },
  {
   "cell_type": "code",
   "execution_count": 12,
   "metadata": {
    "hidden": true
   },
   "outputs": [
    {
     "data": {
      "text/plain": [
       "pandas.core.series.Series"
      ]
     },
     "execution_count": 12,
     "metadata": {},
     "output_type": "execute_result"
    }
   ],
   "source": [
    "type(result.params)"
   ]
  },
  {
   "cell_type": "markdown",
   "metadata": {
    "hidden": true
   },
   "source": [
    "`Pandas`の`Series`として返されていることが分かる。従って，定数項は`result.params[0]`，スロープ係数は`result.params[1]`で抽出できる。"
   ]
  },
  {
   "cell_type": "code",
   "execution_count": 13,
   "metadata": {
    "hidden": true
   },
   "outputs": [
    {
     "data": {
      "text/plain": [
       "(-0.28251611786722874, 1.2225577849375555)"
      ]
     },
     "execution_count": 13,
     "metadata": {},
     "output_type": "execute_result"
    }
   ],
   "source": [
    "ahat = result.params[0]\n",
    "bhat = result.params[1]\n",
    "ahat, bhat"
   ]
  },
  {
   "cell_type": "markdown",
   "metadata": {
    "hidden": true
   },
   "source": [
    "このことを念頭に`tfp_relative`が`x`の場合の`gdp_pc_relative`を計算する関数は作ってみよう。"
   ]
  },
  {
   "cell_type": "code",
   "execution_count": 14,
   "metadata": {
    "hidden": true
   },
   "outputs": [],
   "source": [
    "def calculate_gdp_pc_relative(x):\n",
    "    gdp = result.params[0]+result.params[1]*x\n",
    "    print(f'相対全要素生産性が{x}の場合の相対的一人当たりGDPは約{gdp:.2f}です。')"
   ]
  },
  {
   "cell_type": "markdown",
   "metadata": {
    "hidden": true
   },
   "source": [
    "`x`が`0.8`の場合を考えよう。"
   ]
  },
  {
   "cell_type": "code",
   "execution_count": 15,
   "metadata": {
    "hidden": true
   },
   "outputs": [
    {
     "name": "stdout",
     "output_type": "stream",
     "text": [
      "相対全要素生産性が0.7の場合の相対的一人当たりGDPは約0.57です。\n"
     ]
    }
   ],
   "source": [
    "calculate_gdp_pc_relative(0.7)"
   ]
  },
  {
   "cell_type": "markdown",
   "metadata": {
    "hidden": true
   },
   "source": [
    "次に、標本の散布図に回帰直線を重ねて表示してみる。まず`result`の属性`.fittedvalues`を使い非説明変数の予測値を抽出することができるので、`df2019`に`fitted`のラベルを使って新たな列として追加する。"
   ]
  },
  {
   "cell_type": "code",
   "execution_count": 16,
   "metadata": {
    "hidden": true
   },
   "outputs": [],
   "source": [
    "df2019['OLS fitted'] = result.fittedvalues"
   ]
  },
  {
   "cell_type": "markdown",
   "metadata": {
    "hidden": true
   },
   "source": [
    "図を重ねて表示する。"
   ]
  },
  {
   "cell_type": "code",
   "execution_count": 17,
   "metadata": {
    "hidden": true
   },
   "outputs": [
    {
     "data": {
      "image/png": "[encoded data removed]",
      "text/plain": [
       "<Figure size 432x288 with 1 Axes>"
      ]
     },
     "metadata": {
      "filenames": {
       "image/png": "/Users/tetsu/Documents/My_Simulation/Python/JupyterBooks/py4macro.github.io/_build/jupyter_execute/6_Regression_44_0.png"
      },
      "needs_background": "light"
     },
     "output_type": "display_data"
    }
   ],
   "source": [
    "ax_ = df2019.plot(x='tfp_relative', y='gdp_pc_relative', kind='scatter')\n",
    "df2019.plot(x='tfp_relative',\n",
    "            y='OLS fitted',\n",
    "            color='r',\n",
    "            ax=ax_)\n",
    "pass"
   ]
  },
  {
   "cell_type": "markdown",
   "metadata": {
    "hidden": true
   },
   "source": [
    "````{note}\n",
    "係数の推定値は、`result`の属性`params`でアクセスできることを説明したが、この値を使い次のコードで`gdp_pc_relative`の予測値を計算することも可能である。\n",
    "```\n",
    "df2019['fitted'] = ahat + bhat * df2019['tfp_relative']\n",
    "```\n",
    "````"
   ]
  },
  {
   "cell_type": "markdown",
   "metadata": {},
   "source": [
    "## 回帰分析による発展会計"
   ]
  },
  {
   "cell_type": "markdown",
   "metadata": {},
   "source": [
    "### 説明"
   ]
  },
  {
   "cell_type": "markdown",
   "metadata": {},
   "source": [
    "[発展会計と成長開会](chap:5-accounting)の章では，米国の一人当たりGDPを基準として経済$i$の一人当たりGDPを次式で表した。\n",
    "\n",
    "$$\n",
    "r_i^y =\n",
    "r_i^{\\text{tfp}} +\n",
    "r_i^{\\text{factors}}\n",
    "$$ (eq:6-riy)\n",
    "\n",
    "ここで，\n",
    "* $r_i^y$：一人当たりGDP（対数; 米国＝１）\n",
    "* $r_i^{\\text{tfp}}$：全要素生産性（対数; 米国＝１）\n",
    "* $r_i^{\\text{factors}}$：蓄積生産要素（対数; 米国＝１）\n",
    "\n",
    "また，それぞれの貢献度を次式で数量化した。\n",
    "\n",
    "$$\n",
    "\\text{全要素生産性の寄与度}\n",
    "\\equiv\\beta_{\\text{tfp}}=\n",
    "\\dfrac{\n",
    "    \\text{Var}\\left(r_i^{\\text{tfp}}\\right)\n",
    "    +\\text{Cov}\\left(r_i^{\\text{tfp}},r_i^{\\text{factors}}\\right)\n",
    "    }{\n",
    "    \\text{Var}(r_i^y)\n",
    "    }\n",
    "$$ (eq:6-tfp-contribution)\n",
    "\n",
    "$$\n",
    "\\text{蓄積生産要素の寄与度}\n",
    "\\equiv\n",
    "\\equiv\\beta_{\\text{factors}}=\n",
    "\\dfrac{\n",
    "    \\text{Var}\\left(r_i^{\\text{factors}}\\right)\n",
    "    +\\text{Cov}\\left(r_i^{\\text{tfp}},r_i^{\\text{factors}}\\right)\n",
    "    }{\n",
    "    \\text{Var}(r_i^y)\n",
    "    }    \n",
    "$$ (eq:6-factors-contribution)"
   ]
  },
  {
   "cell_type": "markdown",
   "metadata": {},
   "source": [
    "この章では回帰分析を使って$\\beta_{\\text{tfp}}$と$\\beta_{\\text{factors}}$計算することができることを示す。そのために，まず次の関係が成立することを思い出そう。\n",
    "\n",
    "$$\n",
    "\\text{Cov}(x,x)=\\text{Var}(x)\n",
    "$$\n",
    "\n",
    "$$\n",
    "\\text{Cov}(x,y\\pm z)=\\text{Cov}(x,y)\\pm\\text{Cov}(x,z)\n",
    "$$\n",
    "\n",
    "これらを使うと[](eq:6-tfp-contribution)は次のように書き換えることができる。\n",
    "\n",
    "$$\n",
    "\\beta_{\\text{tfp}}\n",
    "=\\dfrac{\n",
    "    \\text{Var}\\left(r_i^{\\text{tfp}}\\right)\n",
    "    +\\text{Cov}\\left(r_i^{\\text{tfp}},r_i^y-r_i^{\\text{tfp}}\\right)\n",
    "    }{\n",
    "    \\text{Var}(r_i^y)\n",
    "    }\n",
    "=\\dfrac{\n",
    "    \\text{Cov}\\left(r_i^{\\text{tfp}},r_i^{y}\\right)\n",
    "    }{\n",
    "    \\text{Var}(r_i^y)\n",
    "    } \n",
    "$$ (eq:6-tfp-contribution-2)\n",
    "\n",
    "蓄積生産要素の寄与度についても同様に次式で与えられる。\n",
    "\n",
    "$$\n",
    "\\beta_{\\text{factors}}\n",
    "=\\dfrac{\n",
    "    \\text{Cov}\\left(r_i^{\\text{factors}},r_i^{y}\\right)\n",
    "    }{\n",
    "    \\text{Var}(r_i^y)\n",
    "    } \n",
    "$$ (eq:6-factors-contribution-2)"
   ]
  },
  {
   "cell_type": "markdown",
   "metadata": {},
   "source": [
    "この結果が回帰分析とどのような関係にあるかを確認するために，次の単回帰式を考えよう。\n",
    "\n",
    "$$\n",
    "y_i = a + bx_i+e_i\n",
    "$$\n",
    "\n",
    "最小二乗法を使い推定すると，スロープ係数の推定値は次式で与えられることになる。\n",
    "\n",
    "$$\n",
    "\\hat{b}=\\dfrac{\n",
    "            \\text{Cov}\\left(y,x\\right)\n",
    "            }{\n",
    "            \\text{Var}(x)\n",
    "            } \n",
    "$$ (eq:6-bhat)\n",
    "\n",
    "式[](eq:6-bhat)と２つの式[](eq:6-tfp-contribution-2)と[](eq:6-factors-contribution-2)から，次の回帰式を最小二乗法で推定すると$\\beta_{\\text{tfp}}$と$\\beta_{\\text{factors}}$を計算できることが分かる。\n",
    "\n",
    "$$\n",
    "\\begin{align*}\n",
    "&r_i^{\\text{tfp}}=a+\\beta_{\\text{tfp}}+e_i \\\\\n",
    "&r_i^{\\text{factors}}=c+\\beta_{\\text{factors}}+u_i\n",
    "\\end{align*}\n",
    "$$\n",
    "\n",
    "以下では`statsmodels`を使って実際に計算してみよう。"
   ]
  },
  {
   "cell_type": "markdown",
   "metadata": {
    "heading_collapsed": true
   },
   "source": [
    "### 最小二乗法による計算"
   ]
  },
  {
   "cell_type": "markdown",
   "metadata": {
    "hidden": true
   },
   "source": [
    "`df2019`にある変数を使って，計算に使う変数を作成しよう。"
   ]
  },
  {
   "cell_type": "code",
   "execution_count": 18,
   "metadata": {
    "hidden": true
   },
   "outputs": [],
   "source": [
    "# 労働者一人当たりGDP（USA=1）の対数化\n",
    "df2019['gdp_pc_relative_log'] = np.log( df2019['gdp_pc_relative'] )\n",
    "\n",
    "# 全要素生産性（USA=1）の対数化\n",
    "df2019['tfp_relative_log'] = np.log( df2019['tfp_relative'] )\n",
    "\n",
    "# 蓄積生産要素（USA=1）の対数化\n",
    "df2019['factors_relative_log'] = np.log( df2019['factors_relative'] )"
   ]
  },
  {
   "cell_type": "markdown",
   "metadata": {
    "hidden": true
   },
   "source": [
    "次に推定式を定義する。"
   ]
  },
  {
   "cell_type": "code",
   "execution_count": 19,
   "metadata": {
    "hidden": true
   },
   "outputs": [],
   "source": [
    "formula_tfp = 'tfp_relative_log ~ gdp_pc_relative_log'\n",
    "formula_factors = 'factors_relative_log ~ gdp_pc_relative_log'"
   ]
  },
  {
   "cell_type": "markdown",
   "metadata": {
    "hidden": true
   },
   "source": [
    "自動計算のための準備をし，実際に計算した結果を変数に割り当てる。"
   ]
  },
  {
   "cell_type": "code",
   "execution_count": 20,
   "metadata": {
    "hidden": true
   },
   "outputs": [],
   "source": [
    "result_tfp = sm.ols(formula_tfp, data=df2019).fit()\n",
    "result_factors = sm.ols(formula_factors, data=df2019).fit()"
   ]
  },
  {
   "cell_type": "markdown",
   "metadata": {
    "hidden": true
   },
   "source": [
    "パラメータの値を表示してみよう。"
   ]
  },
  {
   "cell_type": "code",
   "execution_count": 21,
   "metadata": {
    "hidden": true
   },
   "outputs": [
    {
     "name": "stdout",
     "output_type": "stream",
     "text": [
      "全要素生産性の寄与度：0.5391873123319041\n",
      "蓄積生産要素の寄与度：0.46081268766809547\n"
     ]
    }
   ],
   "source": [
    "print(f'全要素生産性の寄与度：{result_tfp.params[1]}\\n'\n",
    "      f'蓄積生産要素の寄与度：{result_factors.params[1]}')"
   ]
  },
  {
   "cell_type": "markdown",
   "metadata": {
    "hidden": true
   },
   "source": [
    "```{admonition} コードの説明\n",
    "* `f`は以前説明した`f-string`を使って`{}`に値を代入している。\n",
    "* `()`は複数行にしても構わない。\n",
    "* `''`で囲んだ文字列を複数行にする場合は，それぞれの行で閉じる必要がある。\n",
    "* `\\n`は改行という意味。\n",
    "```"
   ]
  },
  {
   "cell_type": "markdown",
   "metadata": {
    "hidden": true
   },
   "source": [
    "[全要素生産性と蓄積生産要素の寄与度](5-sec-tfp-factors)で計算した値と同じになることが確認できる。"
   ]
  },
  {
   "cell_type": "markdown",
   "metadata": {
    "heading_collapsed": true,
    "tags": [
     "remove-cell"
    ]
   },
   "source": [
    "## 練習問題\n",
    "\n",
    "````{admonition} 練習問題\n",
    "全要素生産性のトレンド回帰分析の推定式を次のようにする。\n",
    "```\n",
    "formula = 'np.log(gdp_pc_relative) ~ np.log(tfp_relative)'\n",
    "```\n",
    "````\n",
    "\n"
   ]
  }
 ],
 "metadata": {
  "celltoolbar": "Tags",
  "kernelspec": {
   "display_name": "jb",
   "language": "python",
   "name": "jb"
  },
  "language_info": {
   "codemirror_mode": {
    "name": "ipython",
    "version": 3
   },
   "file_extension": ".py",
   "mimetype": "text/x-python",
   "name": "python",
   "nbconvert_exporter": "python",
   "pygments_lexer": "ipython3",
   "version": "3.8.5"
  }
 },
 "nbformat": 4,
 "nbformat_minor": 4
}