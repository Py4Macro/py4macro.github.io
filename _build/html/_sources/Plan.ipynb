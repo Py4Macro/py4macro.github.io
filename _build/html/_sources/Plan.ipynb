{
 "cells": [
  {
   "cell_type": "markdown",
   "id": "superb-seeker",
   "metadata": {},
   "source": [
    "# 今後の計画"
   ]
  },
  {
   "cell_type": "markdown",
   "id": "e9dd0988",
   "metadata": {},
   "source": [
    "<div name=\"html-admonition\" style=\"font-size: 0.8em\">\n",
    "<input type=\"button\" onclick=\"location.href='https://translate.google.com/translate?hl=&sl=ja&tl=en&u='+window.location;\" value=\"Google translation\" style=\"color:#ffffff;background-color:#008080; height:25px\" onmouseover=\"this.style.background='#99ccff'\" onmouseout=\"this.style.background='#008080'\"/> in English or the language of your choice.\n",
    "</div><br>"
   ]
  },
  {
   "cell_type": "markdown",
   "id": "wired-shaft",
   "metadata": {},
   "source": [
    "第３部の「マクロ経済学 - 短期分析」は未完成だが，次の目次に沿って進める計画である。2022度後期の「プログラミングと経済分析」の教科書として本サイトの内容を使う予定（もう一つの教科書は[「経済学のためのPython入門」](https://py4basics.github.io)）。\n",
    "* GDPと構成要素 ☑️\n",
    "* 法則・曲線・増加率 ☑️\n",
    "* IS-MP-PCモデル ☑️\n",
    "* ランダム変数と全要素生産性 ☑️\n",
    "* linearsolve ☑️\n",
    "* 実物的景気循環(RBC)モデル ☑️\n",
    "* 貨幣の中立性と金融政策 ☑️\n",
    "* ニューケインジアン・モデル（DSGEモデル）"
   ]
  }
 ],
 "metadata": {
  "kernelspec": {
   "display_name": "Python 3 (ipykernel)",
   "language": "python",
   "name": "python3"
  },
  "language_info": {
   "codemirror_mode": {
    "name": "ipython",
    "version": 3
   },
   "file_extension": ".py",
   "mimetype": "text/x-python",
   "name": "python",
   "nbconvert_exporter": "python",
   "pygments_lexer": "ipython3",
   "version": "3.10.4"
  }
 },
 "nbformat": 4,
 "nbformat_minor": 5
}
