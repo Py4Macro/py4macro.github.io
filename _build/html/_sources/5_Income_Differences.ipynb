{
 "cells": [
  {
   "cell_type": "markdown",
   "metadata": {},
   "source": [
    "# 所得分布：発展会計と成長会計"
   ]
  },
  {
   "cell_type": "code",
   "execution_count": 1,
   "metadata": {},
   "outputs": [],
   "source": [
    "import numpy as np\n",
    "import pandas as pd\n",
    "import matplotlib.pyplot as plt\n",
    "import pwtdata   # Penn World Table Dataset"
   ]
  },
  {
   "cell_type": "markdown",
   "metadata": {},
   "source": [
    "## データ"
   ]
  },
  {
   "cell_type": "markdown",
   "metadata": {},
   "source": [
    "この章では，経済の所得水準を一人当たりGDPとして捉え、世界経済での所得分布や経済成長率の分布に関連する問題を考える。データは[Penn World Talbe 10.0](https://www.rug.nl/ggdc/productivity/pwt/?lang=en)を使うが，ここではデータをインポートするために`pwtdata`モジュールを使う。\n",
    "\n",
    "````{note}\n",
    "次のコマンドで`pwtdata`モジュールをインストールできる。\n",
    "```\n",
    "pip install git+https://github.com/spring-haru/pwtdata.git\n",
    "```\n",
    "````"
   ]
  },
  {
   "cell_type": "code",
   "execution_count": 2,
   "metadata": {},
   "outputs": [],
   "source": [
    "df = pwtdata.load()\n",
    "# pwtdata.load(description=True)"
   ]
  },
  {
   "cell_type": "code",
   "execution_count": 3,
   "metadata": {
    "tags": [
     "output_scroll"
    ]
   },
   "outputs": [
    {
     "name": "stdout",
     "output_type": "stream",
     "text": [
      "<class 'pandas.core.frame.DataFrame'>\n",
      "RangeIndex: 12810 entries, 0 to 12809\n",
      "Data columns (total 52 columns):\n",
      " #   Column         Non-Null Count  Dtype  \n",
      "---  ------         --------------  -----  \n",
      " 0   countrycode    12810 non-null  object \n",
      " 1   country        12810 non-null  object \n",
      " 2   currency_unit  12810 non-null  object \n",
      " 3   year           12810 non-null  int64  \n",
      " 4   rgdpe          10399 non-null  float64\n",
      " 5   rgdpo          10399 non-null  float64\n",
      " 6   pop            10399 non-null  float64\n",
      " 7   emp            9529 non-null   float64\n",
      " 8   avh            3492 non-null   float64\n",
      " 9   hc             8637 non-null   float64\n",
      " 10  ccon           10399 non-null  float64\n",
      " 11  cda            10399 non-null  float64\n",
      " 12  cgdpe          10399 non-null  float64\n",
      " 13  cgdpo          10395 non-null  float64\n",
      " 14  cn             10314 non-null  float64\n",
      " 15  ck             7095 non-null   float64\n",
      " 16  ctfp           6412 non-null   float64\n",
      " 17  cwtfp          6412 non-null   float64\n",
      " 18  rgdpna         10399 non-null  float64\n",
      " 19  rconna         10399 non-null  float64\n",
      " 20  rdana          10399 non-null  float64\n",
      " 21  rnna           10314 non-null  float64\n",
      " 22  rkna           7095 non-null   float64\n",
      " 23  rtfpna         6412 non-null   float64\n",
      " 24  rwtfpna        6412 non-null   float64\n",
      " 25  labsh          7970 non-null   float64\n",
      " 26  irr            7540 non-null   float64\n",
      " 27  delta          10314 non-null  float64\n",
      " 28  xr             10399 non-null  float64\n",
      " 29  pl_con         10399 non-null  float64\n",
      " 30  pl_da          10399 non-null  float64\n",
      " 31  pl_gdpo        10399 non-null  float64\n",
      " 32  i_cig          10399 non-null  object \n",
      " 33  i_xm           10399 non-null  object \n",
      " 34  i_xr           10399 non-null  object \n",
      " 35  i_outlier      10399 non-null  object \n",
      " 36  i_irr          7540 non-null   object \n",
      " 37  cor_exp        1653 non-null   float64\n",
      " 38  statcap        2117 non-null   float64\n",
      " 39  csh_c          10399 non-null  float64\n",
      " 40  csh_i          10399 non-null  float64\n",
      " 41  csh_g          10399 non-null  float64\n",
      " 42  csh_x          10399 non-null  float64\n",
      " 43  csh_m          10399 non-null  float64\n",
      " 44  csh_r          10399 non-null  float64\n",
      " 45  pl_c           10399 non-null  float64\n",
      " 46  pl_i           10399 non-null  float64\n",
      " 47  pl_g           10399 non-null  float64\n",
      " 48  pl_x           10399 non-null  float64\n",
      " 49  pl_m           10399 non-null  float64\n",
      " 50  pl_n           10314 non-null  float64\n",
      " 51  pl_k           7095 non-null   float64\n",
      "dtypes: float64(43), int64(1), object(8)\n",
      "memory usage: 5.1+ MB\n"
     ]
    }
   ],
   "source": [
    "df.info()"
   ]
  },
  {
   "cell_type": "markdown",
   "metadata": {},
   "source": [
    "`.head()`を使って最初の5行を表示する。"
   ]
  },
  {
   "cell_type": "code",
   "execution_count": 5,
   "metadata": {
    "tags": [
     "output_scroll"
    ]
   },
   "outputs": [
    {
     "data": {
      "text/html": [
       "<div>\n",
       "<style scoped>\n",
       "    .dataframe tbody tr th:only-of-type {\n",
       "        vertical-align: middle;\n",
       "    }\n",
       "\n",
       "    .dataframe tbody tr th {\n",
       "        vertical-align: top;\n",
       "    }\n",
       "\n",
       "    .dataframe thead th {\n",
       "        text-align: right;\n",
       "    }\n",
       "</style>\n",
       "<table border=\"1\" class=\"dataframe\">\n",
       "  <thead>\n",
       "    <tr style=\"text-align: right;\">\n",
       "      <th></th>\n",
       "      <th>countrycode</th>\n",
       "      <th>country</th>\n",
       "      <th>currency_unit</th>\n",
       "      <th>year</th>\n",
       "      <th>rgdpe</th>\n",
       "      <th>rgdpo</th>\n",
       "      <th>pop</th>\n",
       "      <th>emp</th>\n",
       "      <th>avh</th>\n",
       "      <th>hc</th>\n",
       "      <th>...</th>\n",
       "      <th>csh_x</th>\n",
       "      <th>csh_m</th>\n",
       "      <th>csh_r</th>\n",
       "      <th>pl_c</th>\n",
       "      <th>pl_i</th>\n",
       "      <th>pl_g</th>\n",
       "      <th>pl_x</th>\n",
       "      <th>pl_m</th>\n",
       "      <th>pl_n</th>\n",
       "      <th>pl_k</th>\n",
       "    </tr>\n",
       "  </thead>\n",
       "  <tbody>\n",
       "    <tr>\n",
       "      <th>0</th>\n",
       "      <td>ABW</td>\n",
       "      <td>Aruba</td>\n",
       "      <td>Aruban Guilder</td>\n",
       "      <td>1950</td>\n",
       "      <td>NaN</td>\n",
       "      <td>NaN</td>\n",
       "      <td>NaN</td>\n",
       "      <td>NaN</td>\n",
       "      <td>NaN</td>\n",
       "      <td>NaN</td>\n",
       "      <td>...</td>\n",
       "      <td>NaN</td>\n",
       "      <td>NaN</td>\n",
       "      <td>NaN</td>\n",
       "      <td>NaN</td>\n",
       "      <td>NaN</td>\n",
       "      <td>NaN</td>\n",
       "      <td>NaN</td>\n",
       "      <td>NaN</td>\n",
       "      <td>NaN</td>\n",
       "      <td>NaN</td>\n",
       "    </tr>\n",
       "    <tr>\n",
       "      <th>1</th>\n",
       "      <td>ABW</td>\n",
       "      <td>Aruba</td>\n",
       "      <td>Aruban Guilder</td>\n",
       "      <td>1951</td>\n",
       "      <td>NaN</td>\n",
       "      <td>NaN</td>\n",
       "      <td>NaN</td>\n",
       "      <td>NaN</td>\n",
       "      <td>NaN</td>\n",
       "      <td>NaN</td>\n",
       "      <td>...</td>\n",
       "      <td>NaN</td>\n",
       "      <td>NaN</td>\n",
       "      <td>NaN</td>\n",
       "      <td>NaN</td>\n",
       "      <td>NaN</td>\n",
       "      <td>NaN</td>\n",
       "      <td>NaN</td>\n",
       "      <td>NaN</td>\n",
       "      <td>NaN</td>\n",
       "      <td>NaN</td>\n",
       "    </tr>\n",
       "    <tr>\n",
       "      <th>2</th>\n",
       "      <td>ABW</td>\n",
       "      <td>Aruba</td>\n",
       "      <td>Aruban Guilder</td>\n",
       "      <td>1952</td>\n",
       "      <td>NaN</td>\n",
       "      <td>NaN</td>\n",
       "      <td>NaN</td>\n",
       "      <td>NaN</td>\n",
       "      <td>NaN</td>\n",
       "      <td>NaN</td>\n",
       "      <td>...</td>\n",
       "      <td>NaN</td>\n",
       "      <td>NaN</td>\n",
       "      <td>NaN</td>\n",
       "      <td>NaN</td>\n",
       "      <td>NaN</td>\n",
       "      <td>NaN</td>\n",
       "      <td>NaN</td>\n",
       "      <td>NaN</td>\n",
       "      <td>NaN</td>\n",
       "      <td>NaN</td>\n",
       "    </tr>\n",
       "    <tr>\n",
       "      <th>3</th>\n",
       "      <td>ABW</td>\n",
       "      <td>Aruba</td>\n",
       "      <td>Aruban Guilder</td>\n",
       "      <td>1953</td>\n",
       "      <td>NaN</td>\n",
       "      <td>NaN</td>\n",
       "      <td>NaN</td>\n",
       "      <td>NaN</td>\n",
       "      <td>NaN</td>\n",
       "      <td>NaN</td>\n",
       "      <td>...</td>\n",
       "      <td>NaN</td>\n",
       "      <td>NaN</td>\n",
       "      <td>NaN</td>\n",
       "      <td>NaN</td>\n",
       "      <td>NaN</td>\n",
       "      <td>NaN</td>\n",
       "      <td>NaN</td>\n",
       "      <td>NaN</td>\n",
       "      <td>NaN</td>\n",
       "      <td>NaN</td>\n",
       "    </tr>\n",
       "    <tr>\n",
       "      <th>4</th>\n",
       "      <td>ABW</td>\n",
       "      <td>Aruba</td>\n",
       "      <td>Aruban Guilder</td>\n",
       "      <td>1954</td>\n",
       "      <td>NaN</td>\n",
       "      <td>NaN</td>\n",
       "      <td>NaN</td>\n",
       "      <td>NaN</td>\n",
       "      <td>NaN</td>\n",
       "      <td>NaN</td>\n",
       "      <td>...</td>\n",
       "      <td>NaN</td>\n",
       "      <td>NaN</td>\n",
       "      <td>NaN</td>\n",
       "      <td>NaN</td>\n",
       "      <td>NaN</td>\n",
       "      <td>NaN</td>\n",
       "      <td>NaN</td>\n",
       "      <td>NaN</td>\n",
       "      <td>NaN</td>\n",
       "      <td>NaN</td>\n",
       "    </tr>\n",
       "  </tbody>\n",
       "</table>\n",
       "<p>5 rows × 52 columns</p>\n",
       "</div>"
      ],
      "text/plain": [
       "  countrycode country   currency_unit  year  rgdpe  rgdpo  pop  emp  avh  hc  \\\n",
       "0         ABW   Aruba  Aruban Guilder  1950    NaN    NaN  NaN  NaN  NaN NaN   \n",
       "1         ABW   Aruba  Aruban Guilder  1951    NaN    NaN  NaN  NaN  NaN NaN   \n",
       "2         ABW   Aruba  Aruban Guilder  1952    NaN    NaN  NaN  NaN  NaN NaN   \n",
       "3         ABW   Aruba  Aruban Guilder  1953    NaN    NaN  NaN  NaN  NaN NaN   \n",
       "4         ABW   Aruba  Aruban Guilder  1954    NaN    NaN  NaN  NaN  NaN NaN   \n",
       "\n",
       "   ...  csh_x  csh_m  csh_r  pl_c  pl_i  pl_g  pl_x  pl_m  pl_n  pl_k  \n",
       "0  ...    NaN    NaN    NaN   NaN   NaN   NaN   NaN   NaN   NaN   NaN  \n",
       "1  ...    NaN    NaN    NaN   NaN   NaN   NaN   NaN   NaN   NaN   NaN  \n",
       "2  ...    NaN    NaN    NaN   NaN   NaN   NaN   NaN   NaN   NaN   NaN  \n",
       "3  ...    NaN    NaN    NaN   NaN   NaN   NaN   NaN   NaN   NaN   NaN  \n",
       "4  ...    NaN    NaN    NaN   NaN   NaN   NaN   NaN   NaN   NaN   NaN  \n",
       "\n",
       "[5 rows x 52 columns]"
      ]
     },
     "execution_count": 5,
     "metadata": {},
     "output_type": "execute_result"
    }
   ],
   "source": [
    "df.head()"
   ]
  },
  {
   "cell_type": "markdown",
   "metadata": {},
   "source": [
    "全ての列名が表示できるように属性`.columns`を使ってみる"
   ]
  },
  {
   "cell_type": "code",
   "execution_count": null,
   "metadata": {
    "tags": [
     "output_scroll"
    ]
   },
   "outputs": [],
   "source": [
    "df.columns"
   ]
  },
  {
   "cell_type": "markdown",
   "metadata": {},
   "source": [
    "メソッド`.unique()`を使って含まれる国名を確認する。"
   ]
  },
  {
   "cell_type": "code",
   "execution_count": null,
   "metadata": {},
   "outputs": [],
   "source": [
    "country_list = df.loc[:,'country'].unique()\n",
    "country_list"
   ]
  },
  {
   "cell_type": "markdown",
   "metadata": {},
   "source": [
    "メソッド`.nunique()`を使って含まれる国数を確認する。"
   ]
  },
  {
   "cell_type": "code",
   "execution_count": null,
   "metadata": {},
   "outputs": [],
   "source": [
    "df.loc[:,'country'].nunique()"
   ]
  },
  {
   "cell_type": "markdown",
   "metadata": {},
   "source": [
    "期間を確認する。"
   ]
  },
  {
   "cell_type": "code",
   "execution_count": null,
   "metadata": {
    "scrolled": true,
    "tags": [
     "output_scroll"
    ]
   },
   "outputs": [],
   "source": [
    "year_list = df.loc[:,'year'].unique()\n",
    "year_list"
   ]
  },
  {
   "cell_type": "markdown",
   "metadata": {},
   "source": [
    "ここでは次の変数を使う。\n",
    "* `cgdpo`：生産面から計算したGDP（current PPPs; in mil. 2011US\\$）\n",
    "    * 経済間では一定な価格を使い計算されているが、時系列的には「名目」\n",
    "    * ある年に経済間の比較をするのに適している\n",
    "* `emp`：雇用者数（in millions）\n",
    "* `ck`：資本サービス水準（current PPPs (USA=1)）\n",
    "    * 資本ストックを生産に使うことにより得るサービス\n",
    "* `hc`：人的資本の指標\n",
    "    * 教育年数と教育の収益から計算されている"
   ]
  },
  {
   "cell_type": "markdown",
   "metadata": {
    "heading_collapsed": true
   },
   "source": [
    "## 発展会計"
   ]
  },
  {
   "cell_type": "markdown",
   "metadata": {
    "heading_collapsed": true,
    "hidden": true
   },
   "source": [
    "### 説明"
   ]
  },
  {
   "cell_type": "markdown",
   "metadata": {
    "hidden": true
   },
   "source": [
    "経済間の所得格差の要因を探るために，次の生産関数を考えよう。\n",
    "\n",
    "$$\n",
    "Y_i=A_iK_i^\\alpha H_i^{1-\\alpha}\n",
    ",\\quad\n",
    "H_i=h_iL_i\n",
    ",\\quad\n",
    "0<\\alpha<1\n",
    "$$\n",
    "\n",
    "* $i$：経済`i`\n",
    "* $Y_i$：GDP\n",
    "* $K_i$：資本ストック\n",
    "* $A_i$：全要素生産性（TFP）\n",
    "* $H_i$：人的資本ストック\n",
    "* $h_i$：労働者一人当たりの人的資本ストック\n",
    "* $L_i$：労働者数"
   ]
  },
  {
   "cell_type": "markdown",
   "metadata": {
    "hidden": true
   },
   "source": [
    "生産関数を一人当たりに書き換えよう。\n",
    "\n",
    "$$\n",
    "\\frac{Y_i}{L_i}=A_i\n",
    "\\left(\n",
    "    \\frac{K_i}{L_i}\n",
    "\\right)^{\\alpha}h_i^{1-\\alpha}\n",
    "\\quad\\Rightarrow\\quad\n",
    "y_i=A_ik_i^{\\alpha}h_i^{1-\\alpha}\n",
    "$$\n",
    "\n",
    "* 一人当たりGDP：$y_i\\equiv\\dfrac{Y_i}{L_i}=$ `cgdpo`/`emp`\n",
    "* 一人当たり資本：$k_i\\equiv\\dfrac{K_i}{L_i}=$ `ck`/`emp`\n",
    "    * データには次に２つが含まれている。\n",
    "        * `cn`：資本ストック（current PPPs, in mil. 2011US\\$)\n",
    "        * `ck`：資本サービス（current PPPs, USA=1)\n",
    "    * 例としてタクシーを考えよう。\n",
    "        * `cn`：タクシーの車の価格\n",
    "        * `ck`：タクシーのサービス（走行距離など）\n",
    "* 労働者一人当たり人的資本：$h_i=$ `hc`\n",
    "* 資本の所得シャア：$\\alpha=1/3$を仮定\n",
    "* 蓄積生産要素の寄与：$k_i^{\\alpha}h_i^{1-\\alpha}$\n",
    "* 全要素生産性：$A_i=\\dfrac{y_i}{k_i^{\\alpha}h_i^{1-\\alpha}}$\n",
    "\n",
    "上で使ったデータを使い、それぞれの変数を計算してみる。"
   ]
  },
  {
   "cell_type": "code",
   "execution_count": null,
   "metadata": {
    "hidden": true
   },
   "outputs": [],
   "source": [
    "# 資本の所得シャア\n",
    "a=1/3.0\n",
    "\n",
    "# 労働者一人当たりGDP\n",
    "df['gdp_pc'] = df['cgdpo'] / df['emp']\n",
    "\n",
    "# 一人当たり資本\n",
    "df['k_pc'] = df['ck'] / df['emp']\n",
    "\n",
    "# 蓄積生産要素\n",
    "df['factors'] = df['k_pc']**a * df['hc']**(1-a)\n",
    "\n",
    "# 全要素生産性\n",
    "df['tfp'] = df['gdp_pc'] / df['factors']"
   ]
  },
  {
   "cell_type": "markdown",
   "metadata": {
    "heading_collapsed": true,
    "hidden": true
   },
   "source": [
    "### 2019年"
   ]
  },
  {
   "cell_type": "markdown",
   "metadata": {
    "hidden": true
   },
   "source": [
    "2019年だけを抽出する。"
   ]
  },
  {
   "cell_type": "code",
   "execution_count": null,
   "metadata": {
    "hidden": true
   },
   "outputs": [],
   "source": [
    "df2019 = df.query('year == 2019').copy()"
   ]
  },
  {
   "cell_type": "markdown",
   "metadata": {
    "hidden": true
   },
   "source": [
    "> エラーを防ぐためにメソッド`.copy()`を使い、2019だけの`DataFrame`を作成している。"
   ]
  },
  {
   "cell_type": "markdown",
   "metadata": {
    "hidden": true
   },
   "source": [
    "全ての国の一人当たりGDPを米国の一人当たりGDPで割り、米国を１（基準）として議論を進める。"
   ]
  },
  {
   "cell_type": "code",
   "execution_count": null,
   "metadata": {
    "hidden": true
   },
   "outputs": [],
   "source": [
    "df2019['gdp_pc_relative'] = df2019['gdp_pc'].to_numpy() / \\\n",
    "    df2019.query('country == \"United States\"')['gdp_pc'].to_numpy()"
   ]
  },
  {
   "cell_type": "markdown",
   "metadata": {
    "hidden": true
   },
   "source": [
    ">`.to_numpy()`は`NumPy`の`array`に変換するメソッドである。"
   ]
  },
  {
   "cell_type": "markdown",
   "metadata": {
    "heading_collapsed": true,
    "hidden": true
   },
   "source": [
    "#### 人的資本"
   ]
  },
  {
   "cell_type": "markdown",
   "metadata": {
    "hidden": true
   },
   "source": [
    "全ての国の`hc`を米国の`hc`で割り、基準化する。"
   ]
  },
  {
   "cell_type": "code",
   "execution_count": null,
   "metadata": {
    "hidden": true
   },
   "outputs": [],
   "source": [
    "df2019['hc_relative'] = df2019['hc'].to_numpy() / \\\n",
    "    df2019.query('country == \"United States\"')['hc'].to_numpy()"
   ]
  },
  {
   "cell_type": "markdown",
   "metadata": {
    "hidden": true
   },
   "source": [
    "散布図"
   ]
  },
  {
   "cell_type": "code",
   "execution_count": null,
   "metadata": {
    "hidden": true
   },
   "outputs": [],
   "source": [
    "df2019.plot(x='hc_relative', y='gdp_pc_relative', kind='scatter')\n",
    "pass"
   ]
  },
  {
   "cell_type": "markdown",
   "metadata": {
    "hidden": true
   },
   "source": [
    "正の関係があることがわかる。"
   ]
  },
  {
   "cell_type": "markdown",
   "metadata": {
    "heading_collapsed": true,
    "hidden": true
   },
   "source": [
    "#### 物的資本"
   ]
  },
  {
   "cell_type": "markdown",
   "metadata": {
    "hidden": true
   },
   "source": [
    "全ての国の`k_pc`を米国の`k_pc`で割り基準化する。"
   ]
  },
  {
   "cell_type": "code",
   "execution_count": null,
   "metadata": {
    "hidden": true
   },
   "outputs": [],
   "source": [
    "df2019['k_pc_relative'] = df2019['k_pc'].to_numpy() / \\\n",
    "    df2019.query('country == \"United States\"')['k_pc'].to_numpy()"
   ]
  },
  {
   "cell_type": "markdown",
   "metadata": {
    "hidden": true
   },
   "source": [
    "散布図"
   ]
  },
  {
   "cell_type": "code",
   "execution_count": null,
   "metadata": {
    "hidden": true
   },
   "outputs": [],
   "source": [
    "df2019.plot(x='k_pc_relative', y='gdp_pc_relative', kind='scatter')\n",
    "pass"
   ]
  },
  {
   "cell_type": "markdown",
   "metadata": {
    "hidden": true
   },
   "source": [
    "正の関係があり、人的資本よりも相関関係は強いことがわかる。"
   ]
  },
  {
   "cell_type": "markdown",
   "metadata": {
    "heading_collapsed": true,
    "hidden": true
   },
   "source": [
    "#### 全要素生産性"
   ]
  },
  {
   "cell_type": "markdown",
   "metadata": {
    "hidden": true
   },
   "source": [
    "米国を`1`に基準化して一人当たりGDPと全要素生産性との関係を図示する。"
   ]
  },
  {
   "cell_type": "code",
   "execution_count": null,
   "metadata": {
    "hidden": true
   },
   "outputs": [],
   "source": [
    "df2019['tfp_relative'] = df2019['tfp'].to_numpy() / \\\n",
    "    df2019.query('country == \"United States\"')['tfp'].to_numpy()\n",
    "\n",
    "df2019.plot(x='tfp_relative', y='gdp_pc_relative', kind='scatter')\n",
    "pass"
   ]
  },
  {
   "cell_type": "markdown",
   "metadata": {
    "hidden": true
   },
   "source": [
    "この図から経済間の一人当たりGDP差は全要素生産性の差と非常に近いことがわかる。相関係数を計算してみる。"
   ]
  },
  {
   "cell_type": "code",
   "execution_count": null,
   "metadata": {
    "hidden": true
   },
   "outputs": [],
   "source": [
    "df2019.loc[:,['gdp_pc_relative','tfp_relative']].dropna().corr()"
   ]
  },
  {
   "cell_type": "markdown",
   "metadata": {
    "hidden": true
   },
   "source": [
    "> `.dropna()`は`NaN`がある行を削除するメソッド<br>\n",
    "> `.corr()`は相関係数を計算するメソッド\n",
    "\n",
    "`GDPpc_relative`と`tfp_relative`の相関係数は約`0.93`であり、非常に高いことがわかる。\n",
    "\n",
    "次に2019年のデータを使い、一人当たりGDPと生産要素の寄与との関係を図示する。"
   ]
  },
  {
   "cell_type": "code",
   "execution_count": null,
   "metadata": {
    "hidden": true
   },
   "outputs": [],
   "source": [
    "df2019['factors_relative'] = df2019['factors'].to_numpy() / \\\n",
    "    df2019.query('country == \"United States\"')['factors'].to_numpy()\n",
    "\n",
    "df2019.plot(x='factors_relative', y='gdp_pc_relative', kind='scatter')\n",
    "pass"
   ]
  },
  {
   "cell_type": "markdown",
   "metadata": {
    "hidden": true
   },
   "source": [
    "相関係数を計算しよう。"
   ]
  },
  {
   "cell_type": "code",
   "execution_count": null,
   "metadata": {
    "hidden": true
   },
   "outputs": [],
   "source": [
    "df2019.loc[:,['gdp_pc_relative','factors_relative']].dropna().corr()"
   ]
  },
  {
   "cell_type": "markdown",
   "metadata": {
    "hidden": true
   },
   "source": [
    "相関係数は全要素生産性と大きく変わらない。"
   ]
  },
  {
   "cell_type": "markdown",
   "metadata": {
    "heading_collapsed": true,
    "hidden": true
   },
   "source": [
    "### 全要素生産性と蓄積生産要素の寄与度"
   ]
  },
  {
   "cell_type": "markdown",
   "metadata": {
    "hidden": true
   },
   "source": [
    "全要素生産性と蓄積生産要素はそれぞれ一人当たりGDPの差にどれだけ寄与しているかを考えるための１つの方法として次の式が提唱されている。まず生産関数を使い以下を定義する。\n",
    "\n",
    "$$\n",
    "R_i^y=R_i^{\\text{tfp}}R_i^{\\text{factors}}\n",
    "$$\n",
    "\n",
    "$$\n",
    "R_i^y\\equiv\\dfrac{y_i}{y_{\\text{US}}},\\quad\n",
    "R_i^{\\text{tfp}}\\equiv\\dfrac{A_i}{A_{\\text{US}}},\\quad\n",
    "R_i^{\\text{factors}}\\equiv\\dfrac{k_i^ah_i^{1-a}}{k_{\\text{US}}^ah_{\\text{US}}^{1-a}}\n",
    "$$\n",
    "\n",
    "1. $R_i^y$：米国を基準とした相対所得\n",
    "1. $R_i^{\\text{tfp}}$：米国を基準とした相対全要素生産性\n",
    "1. $R_i^{\\text{factors}}$：米国を基準とした相対生産要素"
   ]
  },
  {
   "cell_type": "markdown",
   "metadata": {
    "hidden": true
   },
   "source": [
    "両辺に対数を取り、相対所得$R_i$の分散を計算する。\n",
    "\n",
    "$$\n",
    "\\text{Var}\\left(\\log\\left(R_i^y\\right)\\right) =\n",
    "\\text{Var}\\left(\\log\\left(R_i^{\\text{tfp}}\\right)\\right) +\n",
    "\\text{Var}\\left(\\log\\left(R_i^{\\text{factors}}\\right)\\right) +\n",
    "2\\text{Cov}\\left(\\log\\left(R_i^{\\text{tfp}}\\right),\\log\\left(R_i^{\\text{factors}}\\right)\\right)\n",
    "$$\n",
    "\n",
    "左辺の相対所得の変動は右辺の３つの項に分解することができる。\n",
    "1. 相対全要素生産性の変動：$\\text{Var}\\left(\\log\\left(R_i^{\\text{tfp}}\\right)\\right)$\n",
    "1. 相対生産要素の変動：$\\text{Var}\\left(\\log\\left(R_i^{\\text{factors}}\\right)\\right)$\n",
    "1. 相対全要素生産性と相対生産要素の共分散散：$2\\text{Cov}\\left(\\log\\left(R_i^{\\text{tfp}}\\right),\\log\\left(R_i^{\\text{factors}}\\right)\\right)$"
   ]
  },
  {
   "cell_type": "markdown",
   "metadata": {
    "hidden": true
   },
   "source": [
    "これを利用して\n",
    "$$\n",
    "\\begin{align*}\n",
    "\\text{全要素生産性の寄与度}&=\n",
    "\\dfrac{\n",
    "    \\text{Var}\\left(\\log\\left(R_i^{\\text{tfp}}\\right)\\right)\n",
    "    +\\text{Cov}\\left(\\log\\left(R_i^{\\text{tfp}}\\right),\\log\\left(R_i^{\\text{factors}}\\right)\\right)\n",
    "    }{\n",
    "    \\text{Var}(\\log(R_i^y))\n",
    "    } \\\\\n",
    "\\text{蓄積生産要素の寄与度}&=\n",
    "\\dfrac{\n",
    "    \\text{Var}\\left(\\log\\left(R_i^{\\text{factors}}\\right)\\right)\n",
    "    +\\text{Cov}\\left(\\log\\left(R_i^{\\text{tfp}}\\right),\\log\\left(R_i^{\\text{factors}}\\right)\\right)\n",
    "    }{\n",
    "    \\text{Var}(\\log(R_i^y))\n",
    "    }    \n",
    "\\end{align*}\n",
    "$$\n",
    "\n",
    "を定義する。ここで $2\\text{Cov}\\left(\\log\\left(R_i^{\\text{tfp}}\\right),\\log\\left(R_i^{\\text{factors}}\\right)\\right)$ は等分されている。\n",
    "\n",
    "（考え方）\n",
    "\n",
    "極端な例として、全ての経済の全要素生産性が同じで蓄積生産要素だけが異なる場合を考えよう。即ち，\n",
    "\n",
    "$$\n",
    "\\text{Var}\\left(\\log\\left(R_i^{\\text{tfp}}\\right)\\right)\n",
    "=\\text{Cov}\\left(\\log\\left(R_i^{\\text{tfp}}\\right),\\log\\left(R_i^{\\text{factors}}\\right)\\right)\n",
    "=0\n",
    "$$\n",
    "\n",
    "この場合、蓄積生産要素だけで一人当たりGDPの違いを説明できることになるため、全要素生産性の寄与度は`0`であり蓄積生産要素は`1`である。即ち、一人当たりGDP（対数）の分散に対して分散がより大きいほど説明力が高いといえる。"
   ]
  },
  {
   "cell_type": "code",
   "execution_count": null,
   "metadata": {
    "hidden": true
   },
   "outputs": [],
   "source": [
    "# 欠損値であるNaNがある行を削除\n",
    "df2019_nonan = df2019.dropna(subset=['gdp_pc_relative','tfp_relative', 'factors_relative'])\n",
    "\n",
    "# それぞれの変数（対数）を設定\n",
    "tfp     = np.log(df2019_nonan['tfp_relative'])\n",
    "factors = np.log(df2019_nonan['factors_relative'])\n",
    "gdp_pc  = np.log(df2019_nonan['gdp_pc_relative'])\n",
    "\n",
    "# 分散・共分散の計算\n",
    "tfp_var         = tfp.var()\n",
    "factors_var     = factors.var()\n",
    "gdp_pc_var      = gdp_pc.var()\n",
    "tfp_factors_cov = np.cov(tfp.values,factors.values)[0,1]"
   ]
  },
  {
   "cell_type": "markdown",
   "metadata": {
    "hidden": true
   },
   "source": [
    "**全要素生産性の寄与度**"
   ]
  },
  {
   "cell_type": "code",
   "execution_count": null,
   "metadata": {
    "hidden": true
   },
   "outputs": [],
   "source": [
    "(tfp_var + tfp_factors_cov) / gdp_pc_var"
   ]
  },
  {
   "cell_type": "markdown",
   "metadata": {
    "hidden": true
   },
   "source": [
    "相対所得の変動の約`50`%は全要素生産性によって説明される。"
   ]
  },
  {
   "cell_type": "markdown",
   "metadata": {
    "hidden": true
   },
   "source": [
    "**蓄積生産要素の寄与度**"
   ]
  },
  {
   "cell_type": "code",
   "execution_count": null,
   "metadata": {
    "hidden": true
   },
   "outputs": [],
   "source": [
    "(factors_var + tfp_factors_cov) / gdp_pc_var"
   ]
  },
  {
   "cell_type": "markdown",
   "metadata": {
    "hidden": true
   },
   "source": [
    "相対所得の変動の約`50`%は蓄積生産要素によって説明される。"
   ]
  },
  {
   "cell_type": "markdown",
   "metadata": {
    "heading_collapsed": true,
    "hidden": true
   },
   "source": [
    "### 表の作成"
   ]
  },
  {
   "cell_type": "markdown",
   "metadata": {
    "hidden": true
   },
   "source": [
    "最後に、主要な国のデータを表にまとめてみる。"
   ]
  },
  {
   "cell_type": "code",
   "execution_count": null,
   "metadata": {
    "hidden": true
   },
   "outputs": [],
   "source": [
    "#（１）〜（４）については以下で説明する。\n",
    "\n",
    "#（１）\n",
    "country_table = ['Japan', 'United Kingdom','United States', 'Norway',\n",
    "                'Mexico','Peru','India','China','Zimbabwe','Niger']\n",
    "\n",
    "#（２）\n",
    "cond = df2019['country'].isin(country_table)\n",
    "\n",
    "#（３）\n",
    "col = ['country','gdp_pc_relative','tfp_relative','factors_relative']\n",
    "\n",
    "#（４）\n",
    "table2019 = df2019.loc[cond,col].set_index('country') \\\n",
    "                  .sort_values('gdp_pc_relative', ascending=False) \\\n",
    "                  .round(2) \\\n",
    "                  .rename(columns={'gdp_pc_relative':'一人当たりGDP',\n",
    "                                   'tfp_relative':'全要素生産性',\n",
    "                                   'factors_relative':'蓄積生産要素'})\n",
    "\n",
    "print('米国を１として')\n",
    "table2019"
   ]
  },
  {
   "cell_type": "markdown",
   "metadata": {
    "hidden": true
   },
   "source": [
    "上のコードを説明する。\n",
    "* (１）：表示する国のリスト\n",
    "* (２）：列`country`に`country_list`にある国名と同じであれば`True`、異なる場合は`False`を返す条件を作成している。\n",
    "    * `.isin()`はそのためのメソッド\n",
    "* (３）：表の列ラベルに使う変数リスト\n",
    "* (３）：`DataFrame`を作成する。\n",
    "    * `.loc[cond,col]`を使い、`cond`の条件に合った行、そして`col`の列を抽出する。\n",
    "    * `.set_index('country')`は`country`の列を行ラベルに設定するメソッド。\n",
    "    * `.sort_values()`は`DataFrame`を列`gdp_pc_relative`に従って並び替えるメソッドであり、`ascending=False`は降順を指定している。\n",
    "    * `.round(2)`は表示する小数点を第二桁までで四捨五入することを指定するメソッド。\n",
    "    * `.rename()`は列ラベルを変更するメソッド。\n",
    "    \n",
    "＜コメント＞`print()`関数を使うとテキストとして表示される。"
   ]
  },
  {
   "cell_type": "code",
   "execution_count": null,
   "metadata": {
    "hidden": true
   },
   "outputs": [],
   "source": [
    "print(f\"日本の全要素生産性は米国の{table2019.loc['Japan','全要素生産性']*100}%であり，\"\n",
    "      f\"蓄積生産要素は米国の{table2019.loc['Japan','蓄積生産要素']*100}%である。\")"
   ]
  },
  {
   "cell_type": "markdown",
   "metadata": {
    "heading_collapsed": true
   },
   "source": [
    "## 成長会計"
   ]
  },
  {
   "cell_type": "markdown",
   "metadata": {
    "heading_collapsed": true,
    "hidden": true
   },
   "source": [
    "### 説明"
   ]
  },
  {
   "cell_type": "markdown",
   "metadata": {
    "hidden": true
   },
   "source": [
    "発展会計では一人当たりGDPを分解し、全要素生産性と蓄積生産要素に分けてその寄与度を考えた。成長会計では、一人当たりGDPの変化率（即ち、経済成長率）を同じように２つの要素に分解しそれぞれの寄与度を考察する。$t$時点の生産関数は\n",
    "\n",
    "$$\n",
    "y_t=A_tk_t^ah_t^{1-a}\n",
    "$$\n",
    "\n",
    "であり、$t$時点と$t+1$時点の生産関数を使うと\n",
    "\n",
    "$$\n",
    "\\frac{y_{t+1}}{y_t}=\\frac{A_{t+1}}{A_t}\\left(\\frac{k_{t+1}}{k_t}\\right)^a\\left(\\frac{h_{t+1}}{h_t}\\right)^{1-a}\n",
    "$$\n",
    "\n",
    "となる。ここで\n",
    "\n",
    "$$\n",
    "1+g_x\\equiv\\frac{x_{t+1}}{x_t}\n",
    "$$\n",
    "\n",
    "としよう。$g_x$は$x$の成長率（例えば、0.02）である。これにより、\n",
    "\n",
    "$$\n",
    "    1+g_y=(1+g_A)(1+g_k)^a(1+g_h)^{1-a}\n",
    "$$\n",
    "\n",
    "となり、対数化すると\n",
    "\n",
    "$$\n",
    "    \\log(1+g_y)=\\log(1+g_A)+a\\log(1+g_k)+(1-a)\\log(1+g_h)\n",
    "$$\n",
    "\n",
    "となる。また成長率が十分に小さい場合（例えば、0.02）、次式で近似することが可能となる。\n",
    "\n",
    "$$\n",
    "\\log(1+g_x)\\approx g_x\n",
    "$$"
   ]
  },
  {
   "cell_type": "code",
   "execution_count": null,
   "metadata": {
    "hidden": true
   },
   "outputs": [],
   "source": [
    "np.log(1+0.02)"
   ]
  },
  {
   "cell_type": "markdown",
   "metadata": {
    "hidden": true
   },
   "source": [
    "即ち、\n",
    "$$\n",
    "    g_y=g_A+ag_k+(1-a)g_h\n",
    "$$\n",
    "\n",
    "それぞれの成長率を計算するために同じデータを使うが、`cgdpo`の代わりに次の変数を使う。\n",
    "* `rgdpo`：生産面から計算した実質GDP（連鎖PPPs (in mil. 2011US\\$)）\n",
    "    * 経済間でも時系列的にも一定な価格を使い計算されている\n",
    "    * 時系列的な比較をするのに適している\n",
    "\n",
    "使うデータの期間を$n$とし、変数$x$の$n$年間の年間平均成長率を$g_x$としよう。この場合、次式が成立する。\n",
    "\n",
    "$$\n",
    "\\frac{x_{n}}{x_{0}}=(1+g_x)^{n}\n",
    "$$\n",
    "\n",
    "この式を書き直すと次式となる。\n",
    "$$\n",
    "g_x=\n",
    "\\left(\n",
    "\\frac{x_{n}}{x_{0}}\n",
    "\\right)^{\\frac{1}{n}}-1\n",
    "$$"
   ]
  },
  {
   "cell_type": "markdown",
   "metadata": {
    "hidden": true
   },
   "source": [
    "Penn World Table 10.0の次の変数を使う。\n",
    "* `rgdpna`：実質GDP（2011年国内価格; in mil. 2011US\\$）\n",
    "    * 経済成長を考える上で適している\n",
    "* `emp`：雇用者数（in millions）\n",
    "* `rnna`：資本ストック（2011年国内価格; in mil. 2011US\\$）\n",
    "* `hc`：人的資本の指標\n",
    "    * 教育年数と教育の収益から計算されている\n",
    "\n",
    "以下で計算する変数とは次のように対応している。\n",
    "* 一人当たりGDP：$y_i\\equiv\\dfrac{Y_i}{L_i}=$ `rgdpna`/`emp`\n",
    "* 一人当たり資本：$k_i\\equiv\\dfrac{K_i}{L_i}=$ `rnna`/`emp`\n",
    "* 労働者一人当たり人的資本：$h_i=$ `hc`\n",
    "* 資本の所得シャア：$\\alpha=1/3$（仮定）\n",
    "* 蓄積生産要素の寄与：$k_i^{\\alpha}h_i^{1-\\alpha}$\n",
    "* 全要素生産性：$A_i=\\dfrac{y_i}{k_i^{\\alpha}h_i^{1-\\alpha}}$\n",
    "\n",
    "それぞれの変数を計算しよう。"
   ]
  },
  {
   "cell_type": "code",
   "execution_count": null,
   "metadata": {
    "hidden": true
   },
   "outputs": [],
   "source": [
    "# 資本の所得シャア\n",
    "a=1/3.0\n",
    "\n",
    "# 一人当たりGDP\n",
    "df['rgdp_pc'] = df['rgdpna'] / df['emp']\n",
    "\n",
    "# 資本割合\n",
    "df['k_pc'] = df['rnna'] / df['emp']\n",
    "\n",
    "# 蓄積生産要素\n",
    "df['factors'] = df['k_pc']**a * df['hc']**(1-a)\n",
    "\n",
    "# 全要素生産性\n",
    "df['tfp'] = df['rgdp_pc'] / df['factors']"
   ]
  },
  {
   "cell_type": "markdown",
   "metadata": {
    "heading_collapsed": true,
    "hidden": true
   },
   "source": [
    "### 一人当たりGDPの平均成長率"
   ]
  },
  {
   "cell_type": "markdown",
   "metadata": {
    "hidden": true
   },
   "source": [
    "まず2009年から2019年の10年間の`rgdp_pc`、`k_pc`、`hc`の平均成長率を計算する。次のコードを使うが`for`ループが二重（入れ子）になっている。"
   ]
  },
  {
   "cell_type": "code",
   "execution_count": null,
   "metadata": {
    "hidden": true
   },
   "outputs": [],
   "source": [
    "var_list = ['rgdp_pc','k_pc','hc']   # (1)\n",
    "\n",
    "dic = {}             # (2)\n",
    "\n",
    "for v in var_list:   # (3)\n",
    "    \n",
    "    g_list = []             # (4)\n",
    "    \n",
    "    for c in country_list:  # (5)\n",
    "        start = 2009        # (6)\n",
    "        end = 2019          # (7)\n",
    "        n = end-start       # (8)\n",
    "        \n",
    "        df_start = df.query('country == @c & year == @start')  # (9)\n",
    "        df_end = df.query('country == @c & year == @end')      # (10)\n",
    "\n",
    "\n",
    "        g = ( df_end[v].iat[0] / df_start[v].iat[0] )**(1/n)-1  # (11)\n",
    "        g_list.append(100*g)                                    # (12)\n",
    "            \n",
    "    dic[v] = g_list          # (13)\n",
    "\n",
    "\n",
    "df_growth = pd.DataFrame({'country':country_list,               # (14)\n",
    "                          'rgdp_pc':dic['rgdp_pc'],             # (15)\n",
    "                          'k_pc':dic['k_pc'],                   # (16)\n",
    "                          'hc':dic['hc']})                      # (17)"
   ]
  },
  {
   "cell_type": "markdown",
   "metadata": {
    "hidden": true
   },
   "source": [
    "* (1)：成長率を計算する対象となる変数リスト\n",
    "* (2)：空の辞書。次の形になるように(1)の平均成長率のリストを格納する。\n",
    "    * キー：変数名（`rgdp_pc`、`k_pc`、`hc`）\n",
    "    * 値：それぞれの国の成長率からなるリスト\n",
    "* (3)：(1)の`var_list`に対しての`for`ループ。１回目のループでは`rdgp_pc`について計算する。\n",
    "* (4)：空リスト（役割は以下で説明）\n",
    "* (5)：`country_list`に対しての`for`ループ。(3)の１回目の`for`ループで変数`rdgp_pc`に対して`country_list`にある国の成長率を下に続くコードを使って計算する。\n",
    "    * (6)：最初の年を指定\n",
    "    * (7)：最後の年を指定\n",
    "    * (8)：何年間かを計算\n",
    "    * (9)：最初の年の`DataFrame`を抽出\n",
    "    * (10)：最後の年の`DataFrame`を抽出\n",
    "    * (11)：平均成長率を計算する。\n",
    "        * `df_end[v]`と`df_start[v]`は列ラベル`v`の列を抽出しており、`Series`として返される。\n",
    "        * `.iat[0]`は`Series`の`0`番目の数値を取り出すメソッド\n",
    "    * (12)：計算した成長率を(4)のリストに追加する。\n",
    "        * `100`をかけて％表示にする。\n",
    "* (13)： (5)のループが終わると、(4)のリストを(2)の辞書に追加する\n",
    "    * 辞書に追加する際に変数名`v`を指定することにより、次のペアのデータが追加される\n",
    "        * キー：変数名（`rgdp_pc`、`k_pc`、`hc`）\n",
    "        * 値：それぞれの国の成長率のリスト\n",
    "* (3)の`for`ループの次の変数に移り、上で説明した作業が繰り返される。\n",
    "* (14)：`country_list`を`DataFrame`の列に設定\n",
    "* (15)〜(17)：それぞれの成長率を`DataFrame`の列に設定\n",
    "    * `dic['キー']`で`dic`の`キー`にあるリストを抽出している。"
   ]
  },
  {
   "cell_type": "code",
   "execution_count": null,
   "metadata": {
    "hidden": true
   },
   "outputs": [],
   "source": [
    "df_growth.head()"
   ]
  },
  {
   "cell_type": "markdown",
   "metadata": {
    "hidden": true
   },
   "source": [
    "欠損値が含まれているので、`NaN`がある行は全て削除する。"
   ]
  },
  {
   "cell_type": "code",
   "execution_count": null,
   "metadata": {
    "hidden": true
   },
   "outputs": [],
   "source": [
    "df_growth = df_growth.dropna()"
   ]
  },
  {
   "cell_type": "markdown",
   "metadata": {
    "hidden": true
   },
   "source": [
    "残った国数を確認する。"
   ]
  },
  {
   "cell_type": "code",
   "execution_count": null,
   "metadata": {
    "hidden": true
   },
   "outputs": [],
   "source": [
    "len(df_growth)"
   ]
  },
  {
   "cell_type": "markdown",
   "metadata": {
    "hidden": true
   },
   "source": [
    "`rgdp_pc`の成長率のヒストグラムを図示する。"
   ]
  },
  {
   "cell_type": "code",
   "execution_count": null,
   "metadata": {
    "hidden": true
   },
   "outputs": [],
   "source": [
    "df_growth['rgdp_pc'].plot(kind='hist',bins=20)\n",
    "pass"
   ]
  },
  {
   "cell_type": "markdown",
   "metadata": {
    "hidden": true
   },
   "source": [
    "多くの国はプラスの経済成長を遂げているが，マイナイス成長の経済も少なからず存在する。平均成長率がマイナスの国数を計算してみよう。"
   ]
  },
  {
   "cell_type": "code",
   "execution_count": null,
   "metadata": {
    "hidden": true
   },
   "outputs": [],
   "source": [
    "len(df_growth.query('rgdp_pc < 0'))"
   ]
  },
  {
   "cell_type": "markdown",
   "metadata": {
    "hidden": true
   },
   "source": [
    "平均成長率が約-10%の経済があるが，国名を探してみよう。"
   ]
  },
  {
   "cell_type": "code",
   "execution_count": null,
   "metadata": {
    "hidden": true
   },
   "outputs": [],
   "source": [
    "df_growth_sorted = df_growth.sort_values('rgdp_pc')\n",
    "df_growth_sorted.head()"
   ]
  },
  {
   "cell_type": "markdown",
   "metadata": {
    "hidden": true
   },
   "source": [
    "ここで使ったメソッド`sort_values()`は，引数の列を基準に昇順に並べ替える。"
   ]
  },
  {
   "cell_type": "code",
   "execution_count": null,
   "metadata": {
    "hidden": true
   },
   "outputs": [],
   "source": [
    "print( '上のヒストグラムで`-10`付近に位置する国は'\n",
    "      f'{df_growth_sorted.iloc[0,0]}と{df_growth_sorted.iloc[1,0]}である。')"
   ]
  },
  {
   "cell_type": "markdown",
   "metadata": {
    "heading_collapsed": true,
    "hidden": true
   },
   "source": [
    "### 蓄積生産要素の成長率"
   ]
  },
  {
   "cell_type": "markdown",
   "metadata": {
    "hidden": true
   },
   "source": [
    "蓄積生産要素の成長率を次のように定義する。\n",
    "\n",
    "$$\n",
    "g_{\\text{factors}}=ag_k+(1-a)g_h\n",
    "$$\n",
    "\n",
    "計算して`df_growth`に追加してみる。その際、$a=\\dfrac{1}{3}$とする。"
   ]
  },
  {
   "cell_type": "code",
   "execution_count": null,
   "metadata": {
    "hidden": true
   },
   "outputs": [],
   "source": [
    "df_growth['factors'] = (1/3)*df_growth['k_pc']+(1-1/3)*df_growth['hc']"
   ]
  },
  {
   "cell_type": "markdown",
   "metadata": {
    "hidden": true
   },
   "source": [
    "`factors`の成長率のヒストグラムを図示する。"
   ]
  },
  {
   "cell_type": "code",
   "execution_count": null,
   "metadata": {
    "hidden": true
   },
   "outputs": [],
   "source": [
    "df_growth['factors'].plot(kind='hist',bins=20)\n",
    "pass"
   ]
  },
  {
   "cell_type": "markdown",
   "metadata": {
    "hidden": true
   },
   "source": [
    "一人当たりGDPの成長率と比べると，マイナスの成長率の国は少ないことがわかる。"
   ]
  },
  {
   "cell_type": "markdown",
   "metadata": {
    "heading_collapsed": true,
    "hidden": true
   },
   "source": [
    "### 全要素生産性"
   ]
  },
  {
   "cell_type": "markdown",
   "metadata": {
    "hidden": true
   },
   "source": [
    "全要素生産性は残差として計算される。\n",
    "\n",
    "$$\n",
    "g_A=g_y-g_{\\text{factors}}\n",
    "$$"
   ]
  },
  {
   "cell_type": "code",
   "execution_count": null,
   "metadata": {
    "hidden": true
   },
   "outputs": [],
   "source": [
    "df_growth['tfp'] = df_growth['rgdp_pc'] - df_growth['factors']"
   ]
  },
  {
   "cell_type": "markdown",
   "metadata": {
    "hidden": true
   },
   "source": [
    "`tfp`の成長率のヒストグラムを図示する。"
   ]
  },
  {
   "cell_type": "code",
   "execution_count": null,
   "metadata": {
    "hidden": true
   },
   "outputs": [],
   "source": [
    "df_growth['tfp'].plot(kind='hist',bins=20)\n",
    "pass"
   ]
  },
  {
   "cell_type": "markdown",
   "metadata": {
    "hidden": true
   },
   "source": [
    "蓄積生産要素と比べると全要素生産性の成長率はよりマイナスに広がっている。"
   ]
  },
  {
   "cell_type": "markdown",
   "metadata": {
    "heading_collapsed": true,
    "hidden": true
   },
   "source": [
    "### 全要素生産性の貢献度"
   ]
  },
  {
   "cell_type": "markdown",
   "metadata": {
    "hidden": true
   },
   "source": [
    "一人当たりGDPの成長率に対する全要素生産性の貢献度を数量化するが，２つの方法を考えよう。"
   ]
  },
  {
   "cell_type": "markdown",
   "metadata": {
    "heading_collapsed": true,
    "hidden": true
   },
   "source": [
    "#### 方法１"
   ]
  },
  {
   "cell_type": "markdown",
   "metadata": {
    "hidden": true
   },
   "source": [
    "全要素生産性の貢献度を次の式で計算する。\n",
    "\n",
    "$$\n",
    "100\\times\\frac{g_{A}}{g_y}\n",
    "$$"
   ]
  },
  {
   "cell_type": "code",
   "execution_count": null,
   "metadata": {
    "hidden": true
   },
   "outputs": [],
   "source": [
    "df_growth['tfp_contribution'] = 100 * df_growth['tfp']/df_growth['rgdp_pc']"
   ]
  },
  {
   "cell_type": "markdown",
   "metadata": {
    "hidden": true
   },
   "source": [
    "全要素生産性の貢献度が`50`％以上の国は何％かを計算する。"
   ]
  },
  {
   "cell_type": "code",
   "execution_count": null,
   "metadata": {
    "hidden": true
   },
   "outputs": [],
   "source": [
    "tfp_contribution_more_than_50 = 100 * len(df_growth.query('50<=tfp_contribution')) / len(df_growth)"
   ]
  },
  {
   "cell_type": "code",
   "execution_count": null,
   "metadata": {
    "hidden": true
   },
   "outputs": [],
   "source": [
    "print(f'約{tfp_contribution_more_than_50:.1f}％の国で全要素生産性がより大きな貢献をしている。')"
   ]
  },
  {
   "cell_type": "markdown",
   "metadata": {
    "heading_collapsed": true,
    "hidden": true
   },
   "source": [
    "#### 方法２"
   ]
  },
  {
   "cell_type": "markdown",
   "metadata": {
    "hidden": true
   },
   "source": [
    "発展会計で使った方法を考える。\n",
    "\n",
    "$$\n",
    "g_{yi} = g_{Ai} + g_{\\text{factors},i}\n",
    "$$\n",
    "\n",
    "従って、分散を計算すると\n",
    "\n",
    "$$\n",
    "\\text{Var}\\left(g_{yi}\\right)=\n",
    "\\text{Var}\\left(g_{Ai}\\right)+\n",
    "\\text{Var}\\left(g_{\\text{factors},i}\\right)\n",
    "$$\n",
    "\n",
    "となり、次式を定義することができる。\n",
    "\n",
    "$$\n",
    "\\begin{align*}\n",
    "\\text{全要素生産性の寄与度}&=\n",
    "\\dfrac{\n",
    "    \\text{Var}\\left(g_{Ai}\\right)\n",
    "    }{\n",
    "    \\text{Var}\\left(g_{yi}\\right)\n",
    "    } \\\\\n",
    "\\text{生産要素の寄与度}&=\n",
    "\\dfrac{\n",
    "    \\text{Var}\\left(g_{\\text{factors},i}\\right)\n",
    "    }{\n",
    "    \\text{Var}\\left(g_{yi}\\right)\n",
    "    }    \n",
    "\\end{align*}\n",
    "$$\n",
    "\n"
   ]
  },
  {
   "cell_type": "code",
   "execution_count": null,
   "metadata": {
    "hidden": true
   },
   "outputs": [],
   "source": [
    "# それぞれの変数を設定\n",
    "tfp_growth     = df_growth['tfp']\n",
    "factors_growth = df_growth['factors']\n",
    "rgdp_pc_growth = df_growth['rgdp_pc']\n",
    "\n",
    "# 分散・共分散の計算\n",
    "tfp_growth_var         = tfp_growth.var()\n",
    "factors_growth_var     = factors_growth.var()\n",
    "rgdp_pc_growth_var     = rgdp_pc_growth.var()"
   ]
  },
  {
   "cell_type": "markdown",
   "metadata": {
    "hidden": true
   },
   "source": [
    "**全要素生産性の寄与度**"
   ]
  },
  {
   "cell_type": "code",
   "execution_count": null,
   "metadata": {
    "hidden": true
   },
   "outputs": [],
   "source": [
    "tfp_growth_var / rgdp_pc_growth_var"
   ]
  },
  {
   "cell_type": "markdown",
   "metadata": {
    "hidden": true
   },
   "source": [
    "**蓄積生産要素の寄与度**"
   ]
  },
  {
   "cell_type": "code",
   "execution_count": null,
   "metadata": {
    "hidden": true
   },
   "outputs": [],
   "source": [
    "factors_growth_var / rgdp_pc_growth_var"
   ]
  },
  {
   "cell_type": "markdown",
   "metadata": {
    "hidden": true
   },
   "source": [
    "全要素生産性の寄与度が高いことが確認できる。"
   ]
  },
  {
   "cell_type": "markdown",
   "metadata": {
    "heading_collapsed": true,
    "hidden": true
   },
   "source": [
    "### 表の作成"
   ]
  },
  {
   "cell_type": "code",
   "execution_count": null,
   "metadata": {
    "hidden": true
   },
   "outputs": [],
   "source": [
    "country_table = ['Japan', 'United Kingdom','United States', 'Norway',\n",
    "                'Singapore','Peru','India','China']\n",
    "\n",
    "cond = df_growth['country'].isin(country_table)\n",
    "\n",
    "col = ['country','rgdp_pc','factors','tfp','tfp_contribution']\n",
    "\n",
    "df_growth.loc[cond,col].set_index('country') \\\n",
    "         .sort_values('rgdp_pc', ascending=False) \\\n",
    "         .round(2) \\\n",
    "         .rename(columns={'rgdp_pc':'一人当たりGDPの成長率',\n",
    "                          'factors':'蓄積生産要素の成長率',\n",
    "                          'tfp':'全要素生産性の成長率',\n",
    "                          'tfp_contribution':'全要素生産性の寄与度(％)'})"
   ]
  },
  {
   "cell_type": "markdown",
   "metadata": {
    "heading_collapsed": true,
    "hidden": true
   },
   "source": [
    "### 日本"
   ]
  },
  {
   "cell_type": "markdown",
   "metadata": {
    "hidden": true
   },
   "source": [
    "関数を使って日本の成長パフォーマンスを考える。この関数は`start`から`end`までの期間の次の変数の平均成長率と全要素生産性の寄与度をリストとして返す。"
   ]
  },
  {
   "cell_type": "code",
   "execution_count": null,
   "metadata": {
    "hidden": true
   },
   "outputs": [],
   "source": [
    "def jp_growth_decomposition(start, end):\n",
    "\n",
    "    var_list = ['rgdp_pc','k_pc','hc']\n",
    "    \n",
    "    start = start\n",
    "    end = end\n",
    "    n = end-start\n",
    "    \n",
    "    df_start = df.query('country == \"Japan\" & year == @start')\n",
    "    df_end = df.query('country == \"Japan\" & year == @end')\n",
    "    \n",
    "    g_list = []\n",
    "    \n",
    "    \n",
    "    # ========== var_listの変数の平均成長率を計算しg_listに追加する ==========\n",
    "    for v in var_list:\n",
    "        \n",
    "        g = ( df_end[v].iat[0] / df_start[v].iat[0] )**(1/n)-1\n",
    "        g_list.append(100*g)\n",
    "\n",
    "        \n",
    "    # ========== 蓄積生産要素の平均成長率を計算しg_listに追加する ==========\n",
    "    factors = (1/3)*g_list[1]+(1-1/3)*g_list[2]\n",
    "    g_list.append(factors)\n",
    "\n",
    "    \n",
    "    # ========== 全要素生産性の平均成長率を計算しg_listに追加する ==========\n",
    "    tfp = g_list[0]-factors\n",
    "    g_list.append(tfp)\n",
    "\n",
    "    # ========== 全要素生産性の寄与度を計算しg_listに追加する ==========\n",
    "    tfp_contribution = 100*tfp/g_list[0]\n",
    "    g_list.append(tfp_contribution)\n",
    "    \n",
    "    return g_list"
   ]
  },
  {
   "cell_type": "code",
   "execution_count": null,
   "metadata": {
    "hidden": true
   },
   "outputs": [],
   "source": [
    "# 10年ごとの平均成長率からなる辞書\n",
    "dic = {'1950s':jp_growth_decomposition(1950,1959),\n",
    "       '1960s':jp_growth_decomposition(1960,1969),\n",
    "       '1970s':jp_growth_decomposition(1970,1979),\n",
    "       '1980s':jp_growth_decomposition(1980,1989),\n",
    "       '1990s':jp_growth_decomposition(1990,1999),\n",
    "       '2000s':jp_growth_decomposition(2000,2010),\n",
    "       '2010s':jp_growth_decomposition(2010,2019)}\n",
    "\n",
    "# 下のDataFrameで使うインデックス\n",
    "idx = ['gdp_pc_growth','k_pc_growth','hc_growth',\n",
    "       'factors_growth','tfp_growth','tfp_contribution']\n",
    "\n",
    "df_jp = pd.DataFrame(dic, index=idx)\n",
    "df_jp"
   ]
  },
  {
   "cell_type": "markdown",
   "metadata": {
    "hidden": true
   },
   "source": [
    "列と行を入れ替える方が図示しやすいため、メソッド`.transpose()`を使う。"
   ]
  },
  {
   "cell_type": "code",
   "execution_count": null,
   "metadata": {
    "hidden": true,
    "scrolled": true
   },
   "outputs": [],
   "source": [
    "df_jp = df_jp.transpose()\n",
    "df_jp"
   ]
  },
  {
   "cell_type": "markdown",
   "metadata": {
    "hidden": true
   },
   "source": [
    "`df_jp`を利用して棒グラフについて説明する。作成方法は図に使う変数を選択し`plot()`の引数`kind='bar'`を設定するだけである。"
   ]
  },
  {
   "cell_type": "code",
   "execution_count": null,
   "metadata": {
    "hidden": true
   },
   "outputs": [],
   "source": [
    "df_jp['gdp_pc_growth'].plot(kind='bar')\n",
    "pass"
   ]
  },
  {
   "cell_type": "markdown",
   "metadata": {
    "hidden": true
   },
   "source": [
    "1960年代をピークに成長率は下降線をたどっている。\n",
    "\n",
    "次にヒストグラムに異なる変数を並べて表示してみよう。この場合は、表示したい変数を先に選日，`kind='bar'`を指定するだけである。"
   ]
  },
  {
   "cell_type": "code",
   "execution_count": null,
   "metadata": {
    "hidden": true
   },
   "outputs": [],
   "source": [
    "df_jp.iloc[:,[0,3,4]].plot(kind='bar')\n",
    "pass"
   ]
  },
  {
   "cell_type": "markdown",
   "metadata": {
    "hidden": true
   },
   "source": [
    "`stacked=True`を設定すると棒グラフを積み重ねて表示することができる。"
   ]
  },
  {
   "cell_type": "code",
   "execution_count": null,
   "metadata": {
    "hidden": true
   },
   "outputs": [],
   "source": [
    "df_jp.iloc[:,[3,4]].plot(kind='bar', stacked=True)\n",
    "pass"
   ]
  },
  {
   "cell_type": "markdown",
   "metadata": {
    "hidden": true
   },
   "source": [
    "次のグラフでは線グラフと一緒に表示している。"
   ]
  },
  {
   "cell_type": "code",
   "execution_count": null,
   "metadata": {
    "hidden": true
   },
   "outputs": [],
   "source": [
    "ax_ = df_jp.iloc[:,0].plot(marker='o',color='k',legend=True)\n",
    "df_jp.iloc[:,[3,4]].plot(kind='bar',legend=True, ax=ax_)\n",
    "pass"
   ]
  },
  {
   "cell_type": "markdown",
   "metadata": {
    "hidden": true
   },
   "source": [
    "1990年代に全要素生産性の成長の大きな下落によって、寄与度はマイナスに転じている。「失われた10年」の原因と主張する研究者もいる。"
   ]
  },
  {
   "cell_type": "markdown",
   "metadata": {},
   "source": [
    "## 所得分布の推移"
   ]
  },
  {
   "cell_type": "markdown",
   "metadata": {},
   "source": [
    "世界経済の所得分布が時間と共にどのように変化したかを考える。手法としては，一人当たりGDPの分布自体の変化を図示して確認する。分析に使うデータはPenn World Talbe 10.0の次の２変数：\n",
    "* `rgdpe`：支出面から計算したGDP（連鎖PPPs; in mil. 2011US\\$）\n",
    "    * 経済間そして時系列的にも一定な価格を使い計算されてい「実質」\n",
    "    * 経済間そして時間の次元での比較に適している\n",
    "* `pop`：人口（in millions）"
   ]
  },
  {
   "cell_type": "markdown",
   "metadata": {},
   "source": [
    "一人当たりGDPの変数を作成する。"
   ]
  },
  {
   "cell_type": "code",
   "execution_count": null,
   "metadata": {},
   "outputs": [],
   "source": [
    "df['gdp_pc_log'] = np.log( df['rgdpe'] / df['pop'] )"
   ]
  },
  {
   "cell_type": "markdown",
   "metadata": {},
   "source": [
    "日本の一人当たりGDP"
   ]
  },
  {
   "cell_type": "code",
   "execution_count": null,
   "metadata": {},
   "outputs": [],
   "source": [
    "y_jp = df.query('country == \"Japan\" & year == 2017')['gdp_pc_log']\n",
    "y_jp"
   ]
  },
  {
   "cell_type": "markdown",
   "metadata": {},
   "source": [
    "このコードで返されるのは`Series`なので，`gdp_pc_log`の値自体を抽出するためには`.iloc[]`を使う。"
   ]
  },
  {
   "cell_type": "code",
   "execution_count": null,
   "metadata": {},
   "outputs": [],
   "source": [
    "y_jp.iloc[0]"
   ]
  },
  {
   "cell_type": "markdown",
   "metadata": {},
   "source": [
    "次に2019年のヒストグラムを作成しよう。方法は簡単で，使用する列を選んでメソッド`plot()`の引数を`kind='hist'`とするだけである。"
   ]
  },
  {
   "cell_type": "code",
   "execution_count": null,
   "metadata": {},
   "outputs": [],
   "source": [
    "df.query('year == 2019')['gdp_pc_log'].plot(kind='hist')\n",
    "pass"
   ]
  },
  {
   "cell_type": "markdown",
   "metadata": {},
   "source": [
    "カーネル密度推定とは，上のようなヒストグラムのデータに基づき面積が１になるように分布のスムーズな形を推計する手法である。下のコードではヒストグラムとカーネル密度関数を重ねてプロットする。"
   ]
  },
  {
   "cell_type": "code",
   "execution_count": null,
   "metadata": {},
   "outputs": [],
   "source": [
    "# ヒストグラム\n",
    "ax_ = df.query('year == 2017')['gdp_pc_log'].plot(kind='hist', density=True)\n",
    "\n",
    "# 密度関数\n",
    "df.query('year == 2017')['gdp_pc_log'].plot(kind='density',ax=ax_)\n",
    "\n",
    "# 日本\n",
    "ax_.axvline(y_jp.iloc[0],color='red')\n",
    "pass"
   ]
  },
  {
   "cell_type": "markdown",
   "metadata": {},
   "source": [
    ">＜コードの説明＞\n",
    ">* `density=True`は縦軸を確率として表示する引数\n",
    ">* `kind='density'`は分布のスムーズな形を推定し表示する引数（密度関数を推定する）\n",
    ">* `axvline()`は`ax_`のメソッドであり，横軸の第一引数の値に垂直線を表示する。`color`は色を指定する引数。"
   ]
  },
  {
   "cell_type": "markdown",
   "metadata": {},
   "source": [
    "最頻値（モード）は中心より右側にあるが，横軸は対数になっていることを思い出そう。対数を取らない分布では，最頻値は分布の左側に位置することになる。試してみよう。\n",
    "\n",
    "ここで確かめたいのは，70年の間に上の所得分布のどのように変化してきたか，という問題である。この問いに答えるために，カーネル密度関数（`kind=density`）を使って1950年から10年毎の分布を表示する。"
   ]
  },
  {
   "cell_type": "code",
   "execution_count": null,
   "metadata": {},
   "outputs": [],
   "source": [
    "yr_list = list(range(1960,2020,10))+[2019]                        # (1)\n",
    "\n",
    "_ax = df.query('year == 1950')['gdp_pc_log'].plot(kind='density', # (2)\n",
    "                                                  label='1950',\n",
    "                                                  legend=True)\n",
    "\n",
    "for y in yr_list:                                                 # (3)\n",
    "    df.query('year == @y')['gdp_pc_log'].plot(kind='density',     # (4)\n",
    "                                              label=str(y),\n",
    "                                              legend=True,\n",
    "                                              ax=_ax)\n",
    "\n",
    "_ax.set_xlim([5.5,12.5])                                          # (5)\n",
    "pass"
   ]
  },
  {
   "cell_type": "markdown",
   "metadata": {},
   "source": [
    "> ＜コードの説明＞\n",
    ">* (1) `range(start, end, step)`は`start`から`end`までの整数を`step`の間隔準備する。更に`list()`を使ってリストに変換し，`+[2017]`を使ってリストの最後に`2017`を追加している。\n",
    ">* (2) 1950年の密度関数を表示し，その「軸」を`_ax`に割り当てる。\n",
    ">* (3) `yr_list`に対しての`for`ループで1960から10年毎のループとなる。\n",
    ">* (4) `for`ループの中で表示する密度関数\n",
    "    * 「軸」を選ぶ引数`ax`には`_ax`を選んでいる。\n",
    ">* (5) `_ax`のメソッドである`set_xlim()`は横軸の表示範囲を指定する。\n",
    "    * 最小値，最大値をリストもしくはタプルで指定する。\n",
    "    * `set_xlim()`が設定されない場合は，自動で設定される。"
   ]
  },
  {
   "cell_type": "markdown",
   "metadata": {},
   "source": [
    "分布の偏り（もしくは頂点）が左から右に移っているように見える。一方，1960年の分布の最頻値（モード）は1950年のそれの左に位置している。これは，それぞれの年に`gdp_pc`が`NaN`ではない国数は変わっており，1950年と1960年のサンプルにある国数は大きく違うためである。それぞれの年の国数を調べるために，次のコードを実行してみよう。"
   ]
  },
  {
   "cell_type": "code",
   "execution_count": null,
   "metadata": {},
   "outputs": [],
   "source": [
    "df.query('year == 2019')['gdp_pc_log'].notna().sum()"
   ]
  },
  {
   "cell_type": "markdown",
   "metadata": {},
   "source": [
    ">＜コードの説明＞\n",
    ">* `notna()`は要素が`NaN`かどうかを調べるメソッドである。要素が`NaN`であれば`False`を，`NaN`でなければ`True`を返す。\n",
    ">* `True`は`1`と数えられるので，メソッド`sum()`を使うことにより`True`の数，即ち，`NaN`ではない要素の数を返す。"
   ]
  },
  {
   "cell_type": "markdown",
   "metadata": {},
   "source": [
    "`for`ループを使って数えてみよう。"
   ]
  },
  {
   "cell_type": "code",
   "execution_count": null,
   "metadata": {},
   "outputs": [],
   "source": [
    "print('gdp_pc_logに含まれる国数：\\n----------------------')\n",
    "\n",
    "for y in [1950]+yr_list:\n",
    "    \n",
    "    no = df.query('year == @y')['gdp_pc_log'].notna().sum()\n",
    "\n",
    "    print(f'{y}：{no}')"
   ]
  },
  {
   "cell_type": "markdown",
   "metadata": {},
   "source": [
    "データが整備されている国は典型的に先進国であり，後から含まれる国は貧しい経済である。従って，貧しい国が所得分布に含まれることにより，分布は左側に引っ張られる傾向にある。特に，1950年から1960年には2倍以上になっており，上で説明したように，その影響で1960年の最頻値（モード）は1950年のそれよりも低くなっている。1960年以降も国数は増え続けるが，それでも分布の最頻値が右に移って行くということは，貧しい国が豊かな国に少しずつ追いついていることを示している。例えば，台湾，シンガポール，香港，韓国，中国やインドなど。\n",
    "\n",
    "次に，分布の広がりの指標として変動係数を考えてみる。\n",
    "\n",
    "変動係数（Coefficient of Variation）＝$\\dfrac{\\text{標準偏差}}{\\text{平均}}$\n",
    "\n",
    "変動係数は，平均値１単位あたりの標準偏差を表しており，平均値を使って標準化することにより分布の幅の程度を比べることが可能となる。"
   ]
  },
  {
   "cell_type": "code",
   "execution_count": null,
   "metadata": {},
   "outputs": [],
   "source": [
    "cv_list = []   # 空のリスト\n",
    "\n",
    "for y in year_list:\n",
    "    stdev = df.query('year == @y')['gdp_pc_log'].std()  # 標準偏差の計算\n",
    "    avr = df.query('year == @y')['gdp_pc_log'].mean()   # 平均の計算\n",
    "    cv = stdev / avr                                    # 変動係数の計算\n",
    "    cv_list.append(cv)                                  # リストに追加\n",
    "\n",
    "# インデックスに year_list を追加することによりプロットすると自動的に横軸が年になる\n",
    "df_cv = pd.DataFrame({'CV':cv_list}, index=year_list)"
   ]
  },
  {
   "cell_type": "code",
   "execution_count": null,
   "metadata": {},
   "outputs": [],
   "source": [
    "df_cv.plot()\n",
    "pass"
   ]
  },
  {
   "cell_type": "markdown",
   "metadata": {},
   "source": [
    "サンプルに含まれる国数が徐々に増えており，その影響により変動係数は増える傾向にある。1990年ごろには国数の増加は少なくり，それと同時に変動係数は減少し始めている。即ち，少なくとも1990年頃から経済間の所得格差は減少している。\n",
    "\n",
    "＜これまでの分析で注意する点＞\n",
    "* 分析の対象は国であり，それぞれの国の一人当たりGDPのみを考えた。\n",
    "* **国内**の所得不平等は全く考慮されていない。\n",
    "* 年によって計算に含まれる国数が異なる。"
   ]
  }
 ],
 "metadata": {
  "celltoolbar": "Tags",
  "kernelspec": {
   "display_name": "Python 3",
   "language": "python",
   "name": "python3"
  },
  "language_info": {
   "codemirror_mode": {
    "name": "ipython",
    "version": 3
   },
   "file_extension": ".py",
   "mimetype": "text/x-python",
   "name": "python",
   "nbconvert_exporter": "python",
   "pygments_lexer": "ipython3",
   "version": "3.8.5"
  }
 },
 "nbformat": 4,
 "nbformat_minor": 4
}
