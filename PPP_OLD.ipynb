{
 "cells": [
  {
   "cell_type": "markdown",
   "id": "1ad76abe",
   "metadata": {},
   "source": [
    "# 為替レートとPPP"
   ]
  },
  {
   "cell_type": "code",
   "execution_count": 1,
   "id": "a28f8b43",
   "metadata": {},
   "outputs": [],
   "source": [
    "import japanize_matplotlib\n",
    "import numpy as np\n",
    "import matplotlib.pyplot as plt\n",
    "import pandas as pd\n",
    "import statsmodels.formula.api as smf"
   ]
  },
  {
   "cell_type": "markdown",
   "id": "7c0ddd8c",
   "metadata": {},
   "source": [
    "## はじめに"
   ]
  },
  {
   "cell_type": "markdown",
   "id": "b1c416cc",
   "metadata": {},
   "source": [
    "通常，経済の生活水準の指標には一人当たりGDPが使われる。データはそれぞれの国が集めており，日本では[内閣府](https://www.esri.cao.go.jp/jp/sna/menu.html)がGDP関連の変数を公表している。当たり前だが，GDPなどの変数はその経済の貨幣単位で表される。自国通貨建ての変数は国内で使うには十分だが，他国と比較する場合は共通の貨幣で表す必要がある。例えば，日本と米国の生活水準や政府の教育関連支出額の違いを知るためには，両国の変数を円もしくは米ドルに返還する必要がある。また，変数の水準だけではなく成長率を考える際も同様である。\n",
    "\n",
    "では，ある通貨を他の通貨単位に換算する際，新聞やインターネットで見る為替レートを使えば良いのだろうか。答えは「否」である。その理由を理解するのが本章の１つの目的となる。異なる経済の変数を比べる際は購買力平価（PPP; Purchasing Power Parity）と呼ばれる「為替レート」を使うことになる。実際，`py4macro`モジュールに含まれるデータセット`pwt`（Penn World Table）はPPPで換算したマクロ変数を使っている。\n",
    "\n",
    "以下では、まず一物一価の法則について国内のデータを使い考え，その後，ビッグマックのデータを使い経済間での一物一価を考察する。これらの説明に基づき購買力平価の意味とそれを使う意義について考える。"
   ]
  },
  {
   "cell_type": "markdown",
   "id": "3647d0a7",
   "metadata": {
    "heading_collapsed": true
   },
   "source": [
    "## 国内での一物一価"
   ]
  },
  {
   "cell_type": "markdown",
   "id": "146b466f",
   "metadata": {
    "heading_collapsed": true,
    "hidden": true
   },
   "source": [
    "### 全国統一価格品目"
   ]
  },
  {
   "cell_type": "markdown",
   "id": "40565151",
   "metadata": {
    "hidden": true
   },
   "source": [
    "* 鉄道運賃(JR，通学定期旅客運賃(高校生)，JR西日本，幹線，20km) 6ヶ月　38,650円（2021年平均）\n",
    "\n",
    "＜参考＞\n",
    "○鉄道事業法（昭和６１年法律第９２号）\n",
    "（旅客の運賃及び料金）\n",
    "第十六条　鉄道運送事業者は、旅客の運賃及び国土交通省令で定める旅客の料金（以下「旅客運賃\n",
    "　等」という。）の上限を定め、国土交通大臣の認可を受けなければならない。これを変更しよう\n",
    "　とするときも、同様とする。\n",
    "２　国土交通大臣は、前項の認可をしようとするときは、能率的な経営の下における適正な原価に\n",
    "　適正な利潤を加えたものを超えないものであるかどうかを審査して、これをしなければならない。\n",
    "３～５　（略）"
   ]
  },
  {
   "cell_type": "markdown",
   "id": "d199572c",
   "metadata": {
    "hidden": true
   },
   "source": [
    "このように法的に決められたものもある。市場で決定される場合の例として次の２つを挙げる。"
   ]
  },
  {
   "cell_type": "markdown",
   "id": "b0c31a03",
   "metadata": {
    "heading_collapsed": true,
    "hidden": true
   },
   "source": [
    "### チョコレート"
   ]
  },
  {
   "cell_type": "markdown",
   "id": "9c16de09",
   "metadata": {
    "hidden": true
   },
   "source": [
    "* 板チョコレート，50～55g，「明治ミルクチョコレート」，「ロッテガーナミルクチョコレート」又は「森永ミルクチョコレート」\n",
    "* 2021年平均\n",
    "* https://www.e-stat.go.jp/stat-search/files?page=1&query=チョコレート&layout=dataset&toukei=00200571&tstat=000000680001&stat_infid=000032193039&metadata=1&data=1\n",
    "* https://www.e-stat.go.jp/stat-search/files?page=1&layout=datalist&toukei=00200571&tstat=000000680001&cycle=7&year=20210&month=0\n",
    "    * 「1701 ようかん」 ～ 「1797 弁当」"
   ]
  },
  {
   "cell_type": "code",
   "execution_count": 2,
   "id": "422bb8da",
   "metadata": {
    "hidden": true
   },
   "outputs": [
    {
     "data": {
      "text/html": [
       "<div>\n",
       "<style scoped>\n",
       "    .dataframe tbody tr th:only-of-type {\n",
       "        vertical-align: middle;\n",
       "    }\n",
       "\n",
       "    .dataframe tbody tr th {\n",
       "        vertical-align: top;\n",
       "    }\n",
       "\n",
       "    .dataframe thead th {\n",
       "        text-align: right;\n",
       "    }\n",
       "</style>\n",
       "<table border=\"1\" class=\"dataframe\">\n",
       "  <thead>\n",
       "    <tr style=\"text-align: right;\">\n",
       "      <th></th>\n",
       "      <th>地域</th>\n",
       "      <th>年平均</th>\n",
       "    </tr>\n",
       "  </thead>\n",
       "  <tbody>\n",
       "    <tr>\n",
       "      <th>0</th>\n",
       "      <td>札幌市</td>\n",
       "      <td>203</td>\n",
       "    </tr>\n",
       "    <tr>\n",
       "      <th>1</th>\n",
       "      <td>函館市</td>\n",
       "      <td>198</td>\n",
       "    </tr>\n",
       "    <tr>\n",
       "      <th>2</th>\n",
       "      <td>旭川市</td>\n",
       "      <td>198</td>\n",
       "    </tr>\n",
       "    <tr>\n",
       "      <th>3</th>\n",
       "      <td>青森市</td>\n",
       "      <td>202</td>\n",
       "    </tr>\n",
       "    <tr>\n",
       "      <th>4</th>\n",
       "      <td>八戸市</td>\n",
       "      <td>208</td>\n",
       "    </tr>\n",
       "  </tbody>\n",
       "</table>\n",
       "</div>"
      ],
      "text/plain": [
       "    地域  年平均\n",
       "0  札幌市  203\n",
       "1  函館市  198\n",
       "2  旭川市  198\n",
       "3  青森市  202\n",
       "4  八戸市  208"
      ]
     },
     "execution_count": 2,
     "metadata": {},
     "output_type": "execute_result"
    }
   ],
   "source": [
    "file_choco = '/Users/tetsu/Documents/My_Simulation/Python/Class/Ideas/BigMacIndex/source-data/b00109.xlsx'\n",
    "choco = pd.read_excel(file_choco, sheet_name='1761チョコレート', \n",
    "                      skiprows=15, usecols=[8,10])\n",
    "choco.head()\n",
    "# choco.tail()"
   ]
  },
  {
   "cell_type": "code",
   "execution_count": 3,
   "id": "c59fd5ea",
   "metadata": {
    "hidden": true
   },
   "outputs": [
    {
     "name": "stdout",
     "output_type": "stream",
     "text": [
      "<class 'pandas.core.frame.DataFrame'>\n",
      "RangeIndex: 81 entries, 0 to 80\n",
      "Data columns (total 2 columns):\n",
      " #   Column  Non-Null Count  Dtype \n",
      "---  ------  --------------  ----- \n",
      " 0   地域      81 non-null     object\n",
      " 1   年平均     81 non-null     int64 \n",
      "dtypes: int64(1), object(1)\n",
      "memory usage: 1.4+ KB\n"
     ]
    }
   ],
   "source": [
    "choco.info()"
   ]
  },
  {
   "cell_type": "code",
   "execution_count": 4,
   "id": "5be7a16f",
   "metadata": {
    "hidden": true
   },
   "outputs": [],
   "source": [
    "choco.columns = ['area', 'price']"
   ]
  },
  {
   "cell_type": "code",
   "execution_count": 5,
   "id": "71f80439",
   "metadata": {
    "hidden": true
   },
   "outputs": [
    {
     "data": {
      "text/plain": [
       "count     81.000000\n",
       "mean     205.790123\n",
       "std        6.847839\n",
       "min      174.000000\n",
       "25%      203.000000\n",
       "50%      206.000000\n",
       "75%      210.000000\n",
       "max      221.000000\n",
       "Name: price, dtype: float64"
      ]
     },
     "execution_count": 5,
     "metadata": {},
     "output_type": "execute_result"
    }
   ],
   "source": [
    "choco['price'].describe()"
   ]
  },
  {
   "cell_type": "markdown",
   "id": "0bddc734",
   "metadata": {
    "hidden": true
   },
   "source": [
    "最安値は174円，最高値は221円であり，その差は47円。"
   ]
  },
  {
   "cell_type": "markdown",
   "id": "86b27842",
   "metadata": {
    "hidden": true
   },
   "source": [
    "ここでは次の指標を使って価格の分布を考察する。\n",
    "\n",
    "$$\n",
    "価格の平均からの乖離率=\\log(P_i)-\\log\\left(\\overline{P}_i\\right)\n",
    "$$\n",
    "\n",
    "ここで$i$は地域を表しており，$\\overline{P}_i$は$P_i$の平均である。"
   ]
  },
  {
   "cell_type": "code",
   "execution_count": 6,
   "id": "39a89634",
   "metadata": {
    "hidden": true
   },
   "outputs": [],
   "source": [
    "choco['mean_deviation'] =  np.log( choco['price'] )- np.log( choco['price'].mean() )"
   ]
  },
  {
   "cell_type": "code",
   "execution_count": 7,
   "id": "b499eab3",
   "metadata": {
    "hidden": true
   },
   "outputs": [
    {
     "data": {
      "text/plain": [
       "<AxesSubplot:>"
      ]
     },
     "execution_count": 7,
     "metadata": {},
     "output_type": "execute_result"
    },
    {
     "data": {
      "image/png": "[encoded data removed]",
      "text/plain": [
       "<Figure size 640x480 with 1 Axes>"
      ]
     },
     "metadata": {},
     "output_type": "display_data"
    }
   ],
   "source": [
    "choco['mean_deviation'].hist()"
   ]
  },
  {
   "cell_type": "code",
   "execution_count": 8,
   "id": "bc2c0165",
   "metadata": {
    "hidden": true
   },
   "outputs": [
    {
     "data": {
      "text/html": [
       "<div>\n",
       "<style scoped>\n",
       "    .dataframe tbody tr th:only-of-type {\n",
       "        vertical-align: middle;\n",
       "    }\n",
       "\n",
       "    .dataframe tbody tr th {\n",
       "        vertical-align: top;\n",
       "    }\n",
       "\n",
       "    .dataframe thead th {\n",
       "        text-align: right;\n",
       "    }\n",
       "</style>\n",
       "<table border=\"1\" class=\"dataframe\">\n",
       "  <thead>\n",
       "    <tr style=\"text-align: right;\">\n",
       "      <th></th>\n",
       "      <th>area</th>\n",
       "      <th>price</th>\n",
       "      <th>mean_deviation</th>\n",
       "    </tr>\n",
       "  </thead>\n",
       "  <tbody>\n",
       "    <tr>\n",
       "      <th>7</th>\n",
       "      <td>秋田市</td>\n",
       "      <td>174</td>\n",
       "      <td>-0.167802</td>\n",
       "    </tr>\n",
       "  </tbody>\n",
       "</table>\n",
       "</div>"
      ],
      "text/plain": [
       "  area  price  mean_deviation\n",
       "7  秋田市    174       -0.167802"
      ]
     },
     "execution_count": 8,
     "metadata": {},
     "output_type": "execute_result"
    }
   ],
   "source": [
    "cond = ( choco['price']==choco['price'].min() )\n",
    "choco.loc[cond,:]"
   ]
  },
  {
   "cell_type": "markdown",
   "id": "dfe6ad34",
   "metadata": {
    "hidden": true
   },
   "source": [
    "価格のばらつき具合を確認するために標準偏差を計算しよう。"
   ]
  },
  {
   "cell_type": "code",
   "execution_count": 9,
   "id": "e66f7196",
   "metadata": {
    "hidden": true
   },
   "outputs": [
    {
     "data": {
      "text/plain": [
       "0.034029087481104274"
      ]
     },
     "execution_count": 9,
     "metadata": {},
     "output_type": "execute_result"
    }
   ],
   "source": [
    "choco['mean_deviation'].std()"
   ]
  },
  {
   "cell_type": "markdown",
   "id": "99fbafd9",
   "metadata": {
    "heading_collapsed": true,
    "hidden": true
   },
   "source": [
    "### アイスクリーム"
   ]
  },
  {
   "cell_type": "markdown",
   "id": "d21906e7",
   "metadata": {
    "hidden": true
   },
   "source": [
    "* バニラアイスクリーム，カップ入り（110mL入り），「ハーゲンダッツ バニラ」\n",
    "* 2021年平均\n",
    "* https://www.e-stat.go.jp/stat-search/files?page=1&layout=datalist&toukei=00200571&tstat=000000680001&cycle=7&year=20210&month=0\n",
    "    * 「1701 ようかん」 ～ 「1797 弁当」"
   ]
  },
  {
   "cell_type": "code",
   "execution_count": 10,
   "id": "5f1d8daf",
   "metadata": {
    "hidden": true
   },
   "outputs": [
    {
     "data": {
      "text/html": [
       "<div>\n",
       "<style scoped>\n",
       "    .dataframe tbody tr th:only-of-type {\n",
       "        vertical-align: middle;\n",
       "    }\n",
       "\n",
       "    .dataframe tbody tr th {\n",
       "        vertical-align: top;\n",
       "    }\n",
       "\n",
       "    .dataframe thead th {\n",
       "        text-align: right;\n",
       "    }\n",
       "</style>\n",
       "<table border=\"1\" class=\"dataframe\">\n",
       "  <thead>\n",
       "    <tr style=\"text-align: right;\">\n",
       "      <th></th>\n",
       "      <th>地域</th>\n",
       "      <th>年平均</th>\n",
       "    </tr>\n",
       "  </thead>\n",
       "  <tbody>\n",
       "    <tr>\n",
       "      <th>0</th>\n",
       "      <td>札幌市</td>\n",
       "      <td>297</td>\n",
       "    </tr>\n",
       "    <tr>\n",
       "      <th>1</th>\n",
       "      <td>函館市</td>\n",
       "      <td>279</td>\n",
       "    </tr>\n",
       "    <tr>\n",
       "      <th>2</th>\n",
       "      <td>旭川市</td>\n",
       "      <td>282</td>\n",
       "    </tr>\n",
       "    <tr>\n",
       "      <th>3</th>\n",
       "      <td>青森市</td>\n",
       "      <td>261</td>\n",
       "    </tr>\n",
       "    <tr>\n",
       "      <th>4</th>\n",
       "      <td>八戸市</td>\n",
       "      <td>256</td>\n",
       "    </tr>\n",
       "  </tbody>\n",
       "</table>\n",
       "</div>"
      ],
      "text/plain": [
       "    地域  年平均\n",
       "0  札幌市  297\n",
       "1  函館市  279\n",
       "2  旭川市  282\n",
       "3  青森市  261\n",
       "4  八戸市  256"
      ]
     },
     "execution_count": 10,
     "metadata": {},
     "output_type": "execute_result"
    }
   ],
   "source": [
    "file_ice = '/Users/tetsu/Documents/My_Simulation/Python/Class/Ideas/BigMacIndex/source-data/b00109.xlsx'\n",
    "ice = pd.read_excel(file_ice, sheet_name='1782アイスクリーム', \n",
    "                      skiprows=15, usecols=[8,10])\n",
    "ice.head()\n",
    "# ice.tail()"
   ]
  },
  {
   "cell_type": "code",
   "execution_count": 11,
   "id": "540047b7",
   "metadata": {
    "hidden": true
   },
   "outputs": [
    {
     "name": "stdout",
     "output_type": "stream",
     "text": [
      "<class 'pandas.core.frame.DataFrame'>\n",
      "RangeIndex: 81 entries, 0 to 80\n",
      "Data columns (total 2 columns):\n",
      " #   Column  Non-Null Count  Dtype \n",
      "---  ------  --------------  ----- \n",
      " 0   地域      81 non-null     object\n",
      " 1   年平均     81 non-null     int64 \n",
      "dtypes: int64(1), object(1)\n",
      "memory usage: 1.4+ KB\n"
     ]
    }
   ],
   "source": [
    "ice.info()"
   ]
  },
  {
   "cell_type": "code",
   "execution_count": 12,
   "id": "9d69c529",
   "metadata": {
    "hidden": true
   },
   "outputs": [],
   "source": [
    "ice.columns = ['area', 'price']"
   ]
  },
  {
   "cell_type": "code",
   "execution_count": 13,
   "id": "76d0fa62",
   "metadata": {
    "hidden": true
   },
   "outputs": [
    {
     "data": {
      "text/plain": [
       "count     81.000000\n",
       "mean     264.604938\n",
       "std       17.950403\n",
       "min      214.000000\n",
       "25%      256.000000\n",
       "50%      267.000000\n",
       "75%      278.000000\n",
       "max      305.000000\n",
       "Name: price, dtype: float64"
      ]
     },
     "execution_count": 13,
     "metadata": {},
     "output_type": "execute_result"
    }
   ],
   "source": [
    "ice['price'].describe()"
   ]
  },
  {
   "cell_type": "markdown",
   "id": "e462265c",
   "metadata": {
    "hidden": true
   },
   "source": [
    "最安値は214円，最高値は305円であり，その差は91円。"
   ]
  },
  {
   "cell_type": "code",
   "execution_count": 14,
   "id": "3d201768",
   "metadata": {
    "hidden": true
   },
   "outputs": [],
   "source": [
    "ice['mean_deviation'] =  np.log( ice['price'] )- np.log( ice['price'].mean() )"
   ]
  },
  {
   "cell_type": "code",
   "execution_count": 15,
   "id": "2df0a6c7",
   "metadata": {
    "hidden": true
   },
   "outputs": [
    {
     "data": {
      "text/plain": [
       "<AxesSubplot:>"
      ]
     },
     "execution_count": 15,
     "metadata": {},
     "output_type": "execute_result"
    },
    {
     "data": {
      "image/png": "[encoded data removed]",
      "text/plain": [
       "<Figure size 640x480 with 1 Axes>"
      ]
     },
     "metadata": {},
     "output_type": "display_data"
    }
   ],
   "source": [
    "ice['mean_deviation'].hist()"
   ]
  },
  {
   "cell_type": "code",
   "execution_count": 16,
   "id": "ad02d666",
   "metadata": {
    "hidden": true
   },
   "outputs": [
    {
     "data": {
      "text/html": [
       "<div>\n",
       "<style scoped>\n",
       "    .dataframe tbody tr th:only-of-type {\n",
       "        vertical-align: middle;\n",
       "    }\n",
       "\n",
       "    .dataframe tbody tr th {\n",
       "        vertical-align: top;\n",
       "    }\n",
       "\n",
       "    .dataframe thead th {\n",
       "        text-align: right;\n",
       "    }\n",
       "</style>\n",
       "<table border=\"1\" class=\"dataframe\">\n",
       "  <thead>\n",
       "    <tr style=\"text-align: right;\">\n",
       "      <th></th>\n",
       "      <th>area</th>\n",
       "      <th>price</th>\n",
       "      <th>mean_deviation</th>\n",
       "    </tr>\n",
       "  </thead>\n",
       "  <tbody>\n",
       "    <tr>\n",
       "      <th>22</th>\n",
       "      <td>浦安市</td>\n",
       "      <td>214</td>\n",
       "      <td>-0.212262</td>\n",
       "    </tr>\n",
       "    <tr>\n",
       "      <th>37</th>\n",
       "      <td>長野市</td>\n",
       "      <td>214</td>\n",
       "      <td>-0.212262</td>\n",
       "    </tr>\n",
       "  </tbody>\n",
       "</table>\n",
       "</div>"
      ],
      "text/plain": [
       "   area  price  mean_deviation\n",
       "22  浦安市    214       -0.212262\n",
       "37  長野市    214       -0.212262"
      ]
     },
     "execution_count": 16,
     "metadata": {},
     "output_type": "execute_result"
    }
   ],
   "source": [
    "cond = ( ice['price']==ice['price'].min() )\n",
    "ice.loc[cond,:]"
   ]
  },
  {
   "cell_type": "markdown",
   "id": "75416ebd",
   "metadata": {
    "hidden": true
   },
   "source": [
    "寒い地域が安いわけではない"
   ]
  },
  {
   "cell_type": "code",
   "execution_count": 17,
   "id": "7604bb1d",
   "metadata": {
    "hidden": true
   },
   "outputs": [
    {
     "data": {
      "text/html": [
       "<div>\n",
       "<style scoped>\n",
       "    .dataframe tbody tr th:only-of-type {\n",
       "        vertical-align: middle;\n",
       "    }\n",
       "\n",
       "    .dataframe tbody tr th {\n",
       "        vertical-align: top;\n",
       "    }\n",
       "\n",
       "    .dataframe thead th {\n",
       "        text-align: right;\n",
       "    }\n",
       "</style>\n",
       "<table border=\"1\" class=\"dataframe\">\n",
       "  <thead>\n",
       "    <tr style=\"text-align: right;\">\n",
       "      <th></th>\n",
       "      <th>area</th>\n",
       "      <th>price</th>\n",
       "      <th>mean_deviation</th>\n",
       "    </tr>\n",
       "  </thead>\n",
       "  <tbody>\n",
       "    <tr>\n",
       "      <th>35</th>\n",
       "      <td>福井市</td>\n",
       "      <td>305</td>\n",
       "      <td>0.142074</td>\n",
       "    </tr>\n",
       "  </tbody>\n",
       "</table>\n",
       "</div>"
      ],
      "text/plain": [
       "   area  price  mean_deviation\n",
       "35  福井市    305        0.142074"
      ]
     },
     "execution_count": 17,
     "metadata": {},
     "output_type": "execute_result"
    }
   ],
   "source": [
    "cond = ( ice['price']==ice['price'].max() )\n",
    "ice.loc[cond,:]"
   ]
  },
  {
   "cell_type": "markdown",
   "id": "ad9f794c",
   "metadata": {
    "hidden": true
   },
   "source": [
    "価格のばらつき具合を確認するために標準偏差を計算してみよう。"
   ]
  },
  {
   "cell_type": "code",
   "execution_count": 18,
   "id": "512f2db5",
   "metadata": {
    "hidden": true
   },
   "outputs": [
    {
     "data": {
      "text/plain": [
       "0.06990924316740843"
      ]
     },
     "execution_count": 18,
     "metadata": {},
     "output_type": "execute_result"
    }
   ],
   "source": [
    "ice['mean_deviation'].std()"
   ]
  },
  {
   "cell_type": "markdown",
   "id": "b9a17c97",
   "metadata": {
    "heading_collapsed": true,
    "hidden": true
   },
   "source": [
    "### ガソリン"
   ]
  },
  {
   "cell_type": "markdown",
   "id": "fca0cc8c",
   "metadata": {
    "hidden": true
   },
   "source": [
    "* レギュラー・ガソリン１L\n",
    "* https://www.e-stat.go.jp/stat-search/files?page=1&layout=datalist&toukei=00200571&tstat=000000680001&cycle=7&year=20210&month=0\n",
    "    * 「7691 鉄道運賃」 ～ 「7351 自動車免許手数料」"
   ]
  },
  {
   "cell_type": "code",
   "execution_count": 19,
   "id": "f8b0902b",
   "metadata": {
    "hidden": true
   },
   "outputs": [
    {
     "data": {
      "text/html": [
       "<div>\n",
       "<style scoped>\n",
       "    .dataframe tbody tr th:only-of-type {\n",
       "        vertical-align: middle;\n",
       "    }\n",
       "\n",
       "    .dataframe tbody tr th {\n",
       "        vertical-align: top;\n",
       "    }\n",
       "\n",
       "    .dataframe thead th {\n",
       "        text-align: right;\n",
       "    }\n",
       "</style>\n",
       "<table border=\"1\" class=\"dataframe\">\n",
       "  <thead>\n",
       "    <tr style=\"text-align: right;\">\n",
       "      <th></th>\n",
       "      <th>地域</th>\n",
       "      <th>年平均</th>\n",
       "    </tr>\n",
       "  </thead>\n",
       "  <tbody>\n",
       "    <tr>\n",
       "      <th>0</th>\n",
       "      <td>札幌市</td>\n",
       "      <td>152</td>\n",
       "    </tr>\n",
       "    <tr>\n",
       "      <th>1</th>\n",
       "      <td>函館市</td>\n",
       "      <td>148</td>\n",
       "    </tr>\n",
       "    <tr>\n",
       "      <th>2</th>\n",
       "      <td>旭川市</td>\n",
       "      <td>154</td>\n",
       "    </tr>\n",
       "    <tr>\n",
       "      <th>3</th>\n",
       "      <td>青森市</td>\n",
       "      <td>151</td>\n",
       "    </tr>\n",
       "    <tr>\n",
       "      <th>4</th>\n",
       "      <td>八戸市</td>\n",
       "      <td>149</td>\n",
       "    </tr>\n",
       "  </tbody>\n",
       "</table>\n",
       "</div>"
      ],
      "text/plain": [
       "    地域  年平均\n",
       "0  札幌市  152\n",
       "1  函館市  148\n",
       "2  旭川市  154\n",
       "3  青森市  151\n",
       "4  八戸市  149"
      ]
     },
     "execution_count": 19,
     "metadata": {},
     "output_type": "execute_result"
    }
   ],
   "source": [
    "file_gas = '/Users/tetsu/Documents/My_Simulation/Python/Class/Ideas/BigMacIndex/source-data/b00125.xlsx'\n",
    "gas = pd.read_excel(file_gas, sheet_name='7301ガソリン', \n",
    "                    skiprows=15, usecols=[8,10])\n",
    "gas.head()\n",
    "# gas.tail()"
   ]
  },
  {
   "cell_type": "code",
   "execution_count": 20,
   "id": "a0de9a9f",
   "metadata": {
    "hidden": true
   },
   "outputs": [
    {
     "name": "stdout",
     "output_type": "stream",
     "text": [
      "<class 'pandas.core.frame.DataFrame'>\n",
      "RangeIndex: 81 entries, 0 to 80\n",
      "Data columns (total 2 columns):\n",
      " #   Column  Non-Null Count  Dtype \n",
      "---  ------  --------------  ----- \n",
      " 0   地域      81 non-null     object\n",
      " 1   年平均     81 non-null     int64 \n",
      "dtypes: int64(1), object(1)\n",
      "memory usage: 1.4+ KB\n"
     ]
    }
   ],
   "source": [
    "gas.info()"
   ]
  },
  {
   "cell_type": "code",
   "execution_count": 21,
   "id": "3fabcf40",
   "metadata": {
    "hidden": true
   },
   "outputs": [],
   "source": [
    "gas.columns = ['area', 'price']"
   ]
  },
  {
   "cell_type": "code",
   "execution_count": 22,
   "id": "cfaeb133",
   "metadata": {
    "hidden": true
   },
   "outputs": [
    {
     "data": {
      "text/plain": [
       "count     81.000000\n",
       "mean     154.580247\n",
       "std        4.496844\n",
       "min      146.000000\n",
       "25%      152.000000\n",
       "50%      154.000000\n",
       "75%      157.000000\n",
       "max      175.000000\n",
       "Name: price, dtype: float64"
      ]
     },
     "execution_count": 22,
     "metadata": {},
     "output_type": "execute_result"
    }
   ],
   "source": [
    "gas['price'].describe()"
   ]
  },
  {
   "cell_type": "markdown",
   "id": "c33bf661",
   "metadata": {
    "hidden": true
   },
   "source": [
    "最安値は146円，最高値は175円であり，その差は29円。"
   ]
  },
  {
   "cell_type": "code",
   "execution_count": 23,
   "id": "4c472018",
   "metadata": {
    "hidden": true
   },
   "outputs": [],
   "source": [
    "gas['mean_deviation'] =  np.log( gas['price'] )- np.log( gas['price'].mean() )"
   ]
  },
  {
   "cell_type": "code",
   "execution_count": 24,
   "id": "b2532387",
   "metadata": {
    "hidden": true
   },
   "outputs": [
    {
     "data": {
      "text/plain": [
       "<AxesSubplot:>"
      ]
     },
     "execution_count": 24,
     "metadata": {},
     "output_type": "execute_result"
    },
    {
     "data": {
      "image/png": "[encoded data removed]",
      "text/plain": [
       "<Figure size 640x480 with 1 Axes>"
      ]
     },
     "metadata": {},
     "output_type": "display_data"
    }
   ],
   "source": [
    "gas['mean_deviation'].hist()"
   ]
  },
  {
   "cell_type": "code",
   "execution_count": 25,
   "id": "7816f63b",
   "metadata": {
    "hidden": true
   },
   "outputs": [
    {
     "data": {
      "text/html": [
       "<div>\n",
       "<style scoped>\n",
       "    .dataframe tbody tr th:only-of-type {\n",
       "        vertical-align: middle;\n",
       "    }\n",
       "\n",
       "    .dataframe tbody tr th {\n",
       "        vertical-align: top;\n",
       "    }\n",
       "\n",
       "    .dataframe thead th {\n",
       "        text-align: right;\n",
       "    }\n",
       "</style>\n",
       "<table border=\"1\" class=\"dataframe\">\n",
       "  <thead>\n",
       "    <tr style=\"text-align: right;\">\n",
       "      <th></th>\n",
       "      <th>area</th>\n",
       "      <th>price</th>\n",
       "      <th>mean_deviation</th>\n",
       "    </tr>\n",
       "  </thead>\n",
       "  <tbody>\n",
       "    <tr>\n",
       "      <th>79</th>\n",
       "      <td>鹿児島市</td>\n",
       "      <td>175</td>\n",
       "      <td>0.124073</td>\n",
       "    </tr>\n",
       "  </tbody>\n",
       "</table>\n",
       "</div>"
      ],
      "text/plain": [
       "    area  price  mean_deviation\n",
       "79  鹿児島市    175        0.124073"
      ]
     },
     "execution_count": 25,
     "metadata": {},
     "output_type": "execute_result"
    }
   ],
   "source": [
    "cond = ( gas['price']==gas['price'].max() )\n",
    "gas.loc[cond,:]"
   ]
  },
  {
   "cell_type": "markdown",
   "id": "1c01341a",
   "metadata": {
    "hidden": true
   },
   "source": [
    "価格のばらつき具合を確認するために標準偏差を計算してみよう。"
   ]
  },
  {
   "cell_type": "code",
   "execution_count": 26,
   "id": "4753c83d",
   "metadata": {
    "hidden": true
   },
   "outputs": [
    {
     "data": {
      "text/plain": [
       "0.02861796770634357"
      ]
     },
     "execution_count": 26,
     "metadata": {},
     "output_type": "execute_result"
    }
   ],
   "source": [
    "gas['mean_deviation'].std()"
   ]
  },
  {
   "cell_type": "markdown",
   "id": "cb38c1aa",
   "metadata": {
    "heading_collapsed": true,
    "hidden": true
   },
   "source": [
    "### 結論"
   ]
  },
  {
   "cell_type": "markdown",
   "id": "ba33f12c",
   "metadata": {
    "hidden": true
   },
   "source": [
    "* 厳密な意味で一物一価の法則は成立していない。\n",
    "* 理由\n",
    "    * 輸送費用\n",
    "    * ペン効果：所得・生産性が高い地域の価格は高い\n",
    "    * `'/Users/tetsu/Documents/My_Simulation/Python/Class/Ideas/BigMacIndex/References/43773047.pdf'`\n",
    "* Penn効果\n",
    "    * アイスクリーム，チョコレート，ガソリンの個別にはない。\n",
    "        * `'/Users/tetsu/Documents/My_Simulation/Python/Class/Ideas/BigMacIndex/source-data/No_Penn_Effect_for_Icecream.ipynb'`\n",
    "    * 存在することを示す論文（クロスセクション・データ）\n",
    "        * `'/Users/tetsu/Documents/My_Simulation/Python/Class/Ideas/BigMacIndex/References/43773047.pdf'`"
   ]
  },
  {
   "cell_type": "markdown",
   "id": "cc3f4f60",
   "metadata": {
    "heading_collapsed": true
   },
   "source": [
    "## 経済間での一物一価"
   ]
  },
  {
   "cell_type": "markdown",
   "id": "3784f324",
   "metadata": {
    "heading_collapsed": true,
    "hidden": true
   },
   "source": [
    "### はじめに"
   ]
  },
  {
   "cell_type": "markdown",
   "id": "754f75b8",
   "metadata": {
    "hidden": true
   },
   "source": [
    "例としてマクドナルドのハンバーガーBig Mac（BM）を考えるが，次の変数を定義しよう。\n",
    "* $P_i$：$i$国でのBMの価格\n",
    "* $P_{基準}$：基準国でのBMの価格\n",
    "    * 基準国は日本でもどの国でも良いが，通常，米国が使われる。その慣例に従って，$P_{基準}=P_{米}$とする。\n",
    "* $e=\\dfrac{i\\text{国の通貨}}{米ドル}$：為替レート\n",
    "\n",
    "一物一価が成立する場合は，次式が成り立つ。\n",
    "\n",
    "$$\n",
    "\\frac{P_i}{e}=P_{米}\n",
    "$$\n",
    "\n",
    "左辺は$i$国のBM価格を為替レートを使いドル価格に変換し，右辺の米国のBM価格と等しいことを示している。"
   ]
  },
  {
   "cell_type": "markdown",
   "id": "f65cfb13",
   "metadata": {
    "heading_collapsed": true,
    "hidden": true
   },
   "source": [
    "### Big Mac"
   ]
  },
  {
   "cell_type": "markdown",
   "id": "ef4fd76e",
   "metadata": {
    "hidden": true
   },
   "source": [
    "The data is created using the following file \n",
    "* `'/Users/tetsu/Documents/My_Simulation/Python/Class/Ideas/BigMacIndex/source-data/PPP_ExchangeRate.ipynb'`"
   ]
  },
  {
   "cell_type": "code",
   "execution_count": 27,
   "id": "4a4f8604",
   "metadata": {
    "hidden": true
   },
   "outputs": [
    {
     "data": {
      "text/html": [
       "<div>\n",
       "<style scoped>\n",
       "    .dataframe tbody tr th:only-of-type {\n",
       "        vertical-align: middle;\n",
       "    }\n",
       "\n",
       "    .dataframe tbody tr th {\n",
       "        vertical-align: top;\n",
       "    }\n",
       "\n",
       "    .dataframe thead th {\n",
       "        text-align: right;\n",
       "    }\n",
       "</style>\n",
       "<table border=\"1\" class=\"dataframe\">\n",
       "  <thead>\n",
       "    <tr style=\"text-align: right;\">\n",
       "      <th></th>\n",
       "      <th>year</th>\n",
       "      <th>country</th>\n",
       "      <th>iso3</th>\n",
       "      <th>local_price</th>\n",
       "      <th>ppp</th>\n",
       "      <th>exr</th>\n",
       "      <th>ngdppc</th>\n",
       "      <th>rgdppc</th>\n",
       "    </tr>\n",
       "  </thead>\n",
       "  <tbody>\n",
       "    <tr>\n",
       "      <th>0</th>\n",
       "      <td>2000</td>\n",
       "      <td>Argentina</td>\n",
       "      <td>ARG</td>\n",
       "      <td>2.50</td>\n",
       "      <td>0.743</td>\n",
       "      <td>1.00</td>\n",
       "      <td>7666.517834</td>\n",
       "      <td>12947.021470</td>\n",
       "    </tr>\n",
       "    <tr>\n",
       "      <th>1</th>\n",
       "      <td>2000</td>\n",
       "      <td>Australia</td>\n",
       "      <td>AUS</td>\n",
       "      <td>2.59</td>\n",
       "      <td>1.238</td>\n",
       "      <td>1.68</td>\n",
       "      <td>34797.776549</td>\n",
       "      <td>62634.946751</td>\n",
       "    </tr>\n",
       "    <tr>\n",
       "      <th>2</th>\n",
       "      <td>2000</td>\n",
       "      <td>Brazil</td>\n",
       "      <td>BRA</td>\n",
       "      <td>2.95</td>\n",
       "      <td>0.758</td>\n",
       "      <td>1.79</td>\n",
       "      <td>6817.914984</td>\n",
       "      <td>15391.109142</td>\n",
       "    </tr>\n",
       "    <tr>\n",
       "      <th>3</th>\n",
       "      <td>2000</td>\n",
       "      <td>Canada</td>\n",
       "      <td>CAN</td>\n",
       "      <td>2.85</td>\n",
       "      <td>1.206</td>\n",
       "      <td>1.47</td>\n",
       "      <td>36044.865154</td>\n",
       "      <td>48496.031282</td>\n",
       "    </tr>\n",
       "    <tr>\n",
       "      <th>4</th>\n",
       "      <td>2000</td>\n",
       "      <td>Switzerland</td>\n",
       "      <td>CHE</td>\n",
       "      <td>5.90</td>\n",
       "      <td>1.594</td>\n",
       "      <td>1.70</td>\n",
       "      <td>65635.249052</td>\n",
       "      <td>70975.564046</td>\n",
       "    </tr>\n",
       "  </tbody>\n",
       "</table>\n",
       "</div>"
      ],
      "text/plain": [
       "   year      country iso3  local_price    ppp   exr        ngdppc  \\\n",
       "0  2000    Argentina  ARG         2.50  0.743  1.00   7666.517834   \n",
       "1  2000    Australia  AUS         2.59  1.238  1.68  34797.776549   \n",
       "2  2000       Brazil  BRA         2.95  0.758  1.79   6817.914984   \n",
       "3  2000       Canada  CAN         2.85  1.206  1.47  36044.865154   \n",
       "4  2000  Switzerland  CHE         5.90  1.594  1.70  65635.249052   \n",
       "\n",
       "         rgdppc  \n",
       "0  12947.021470  \n",
       "1  62634.946751  \n",
       "2  15391.109142  \n",
       "3  48496.031282  \n",
       "4  70975.564046  "
      ]
     },
     "execution_count": 27,
     "metadata": {},
     "output_type": "execute_result"
    }
   ],
   "source": [
    "file_bigmac = '/Users/tetsu/Documents/My_Simulation/Python/Class/Ideas/BigMacIndex/source-data/ppp_bigmac.csv'\n",
    "bigmac = pd.read_csv(file_bigmac)\n",
    "bigmac.head()"
   ]
  },
  {
   "cell_type": "markdown",
   "id": "11b16c3f",
   "metadata": {
    "hidden": true
   },
   "source": [
    "* `year`：年\n",
    "* `country`：国名\n",
    "* `iso3`：各国のiso記号\n",
    "* `local_price`：ビッグマックの自国通貨表示\n",
    "* `ppp`：購買力平価（「自国通貨」/米ドル）\n",
    "* `exr`：為替レート（「自国通貨」/米ドル，年平均）\n",
    "* `ngdppc`：名目一人当たりGDP"
   ]
  },
  {
   "cell_type": "code",
   "execution_count": 28,
   "id": "e45c51bc",
   "metadata": {
    "hidden": true
   },
   "outputs": [
    {
     "name": "stdout",
     "output_type": "stream",
     "text": [
      "<class 'pandas.core.frame.DataFrame'>\n",
      "RangeIndex: 1137 entries, 0 to 1136\n",
      "Data columns (total 8 columns):\n",
      " #   Column       Non-Null Count  Dtype  \n",
      "---  ------       --------------  -----  \n",
      " 0   year         1137 non-null   int64  \n",
      " 1   country      1137 non-null   object \n",
      " 2   iso3         1137 non-null   object \n",
      " 3   local_price  1137 non-null   float64\n",
      " 4   ppp          1137 non-null   float64\n",
      " 5   exr          1137 non-null   float64\n",
      " 6   ngdppc       1022 non-null   float64\n",
      " 7   rgdppc       1022 non-null   float64\n",
      "dtypes: float64(5), int64(1), object(2)\n",
      "memory usage: 71.2+ KB\n"
     ]
    }
   ],
   "source": [
    "bigmac.info()"
   ]
  },
  {
   "cell_type": "code",
   "execution_count": 29,
   "id": "12afab11",
   "metadata": {
    "hidden": true
   },
   "outputs": [
    {
     "data": {
      "text/plain": [
       "2022"
      ]
     },
     "execution_count": 29,
     "metadata": {},
     "output_type": "execute_result"
    }
   ],
   "source": [
    "bigmac['year'].max()"
   ]
  },
  {
   "cell_type": "code",
   "execution_count": 30,
   "id": "44005f74",
   "metadata": {
    "hidden": true
   },
   "outputs": [
    {
     "data": {
      "text/html": [
       "<div>\n",
       "<style scoped>\n",
       "    .dataframe tbody tr th:only-of-type {\n",
       "        vertical-align: middle;\n",
       "    }\n",
       "\n",
       "    .dataframe tbody tr th {\n",
       "        vertical-align: top;\n",
       "    }\n",
       "\n",
       "    .dataframe thead th {\n",
       "        text-align: right;\n",
       "    }\n",
       "</style>\n",
       "<table border=\"1\" class=\"dataframe\">\n",
       "  <thead>\n",
       "    <tr style=\"text-align: right;\">\n",
       "      <th></th>\n",
       "      <th>year</th>\n",
       "      <th>country</th>\n",
       "      <th>iso3</th>\n",
       "      <th>local_price</th>\n",
       "      <th>ppp</th>\n",
       "      <th>exr</th>\n",
       "      <th>ngdppc</th>\n",
       "      <th>rgdppc</th>\n",
       "    </tr>\n",
       "  </thead>\n",
       "  <tbody>\n",
       "    <tr>\n",
       "      <th>996</th>\n",
       "      <td>2021</td>\n",
       "      <td>United Arab Emirates</td>\n",
       "      <td>ARE</td>\n",
       "      <td>14.75</td>\n",
       "      <td>2.141</td>\n",
       "      <td>3.673150</td>\n",
       "      <td>1.627489e+05</td>\n",
       "      <td>160063.336045</td>\n",
       "    </tr>\n",
       "    <tr>\n",
       "      <th>997</th>\n",
       "      <td>2021</td>\n",
       "      <td>Argentina</td>\n",
       "      <td>ARG</td>\n",
       "      <td>320.00</td>\n",
       "      <td>42.953</td>\n",
       "      <td>85.373600</td>\n",
       "      <td>1.010333e+06</td>\n",
       "      <td>15045.394608</td>\n",
       "    </tr>\n",
       "    <tr>\n",
       "      <th>998</th>\n",
       "      <td>2021</td>\n",
       "      <td>Australia</td>\n",
       "      <td>AUS</td>\n",
       "      <td>6.48</td>\n",
       "      <td>1.498</td>\n",
       "      <td>1.299968</td>\n",
       "      <td>8.098772e+04</td>\n",
       "      <td>80987.721970</td>\n",
       "    </tr>\n",
       "    <tr>\n",
       "      <th>999</th>\n",
       "      <td>2021</td>\n",
       "      <td>Austria</td>\n",
       "      <td>AUT</td>\n",
       "      <td>3.88</td>\n",
       "      <td>0.755</td>\n",
       "      <td>0.823011</td>\n",
       "      <td>4.535037e+04</td>\n",
       "      <td>40773.199750</td>\n",
       "    </tr>\n",
       "    <tr>\n",
       "      <th>1000</th>\n",
       "      <td>2021</td>\n",
       "      <td>Azerbaijan</td>\n",
       "      <td>AZE</td>\n",
       "      <td>3.95</td>\n",
       "      <td>0.578</td>\n",
       "      <td>1.699000</td>\n",
       "      <td>9.159597e+03</td>\n",
       "      <td>3030.315898</td>\n",
       "    </tr>\n",
       "  </tbody>\n",
       "</table>\n",
       "</div>"
      ],
      "text/plain": [
       "      year               country iso3  local_price     ppp        exr  \\\n",
       "996   2021  United Arab Emirates  ARE        14.75   2.141   3.673150   \n",
       "997   2021             Argentina  ARG       320.00  42.953  85.373600   \n",
       "998   2021             Australia  AUS         6.48   1.498   1.299968   \n",
       "999   2021               Austria  AUT         3.88   0.755   0.823011   \n",
       "1000  2021            Azerbaijan  AZE         3.95   0.578   1.699000   \n",
       "\n",
       "            ngdppc         rgdppc  \n",
       "996   1.627489e+05  160063.336045  \n",
       "997   1.010333e+06   15045.394608  \n",
       "998   8.098772e+04   80987.721970  \n",
       "999   4.535037e+04   40773.199750  \n",
       "1000  9.159597e+03    3030.315898  "
      ]
     },
     "execution_count": 30,
     "metadata": {},
     "output_type": "execute_result"
    }
   ],
   "source": [
    "cond = ( bigmac['year']==2021 )\n",
    "bm = bigmac.loc[cond,:].copy()\n",
    "bm.head()"
   ]
  },
  {
   "cell_type": "code",
   "execution_count": 31,
   "id": "9c832950",
   "metadata": {
    "hidden": true,
    "scrolled": true
   },
   "outputs": [
    {
     "name": "stdout",
     "output_type": "stream",
     "text": [
      "<class 'pandas.core.frame.DataFrame'>\n",
      "Int64Index: 71 entries, 996 to 1066\n",
      "Data columns (total 8 columns):\n",
      " #   Column       Non-Null Count  Dtype  \n",
      "---  ------       --------------  -----  \n",
      " 0   year         71 non-null     int64  \n",
      " 1   country      71 non-null     object \n",
      " 2   iso3         71 non-null     object \n",
      " 3   local_price  71 non-null     float64\n",
      " 4   ppp          71 non-null     float64\n",
      " 5   exr          71 non-null     float64\n",
      " 6   ngdppc       68 non-null     float64\n",
      " 7   rgdppc       68 non-null     float64\n",
      "dtypes: float64(5), int64(1), object(2)\n",
      "memory usage: 5.0+ KB\n"
     ]
    }
   ],
   "source": [
    "bm.info()"
   ]
  },
  {
   "cell_type": "code",
   "execution_count": 32,
   "id": "737addcb",
   "metadata": {
    "hidden": true
   },
   "outputs": [
    {
     "data": {
      "text/plain": [
       "71"
      ]
     },
     "execution_count": 32,
     "metadata": {},
     "output_type": "execute_result"
    }
   ],
   "source": [
    "bm['iso3'].nunique()"
   ]
  },
  {
   "cell_type": "markdown",
   "id": "c5a9085a",
   "metadata": {
    "heading_collapsed": true,
    "hidden": true
   },
   "source": [
    "### 一物一価"
   ]
  },
  {
   "cell_type": "markdown",
   "id": "6c40ece2",
   "metadata": {
    "hidden": true
   },
   "source": [
    "国内の財と同様に，次の指標を使ってBM価格の分布を考察する。\n",
    "\n",
    "$$\n",
    "BMのドル価格の平均からの乖離率=\\log\\left(\\dfrac{P_i/e}{P_{米}}\\right)\n",
    "-\\log\\left(\\overline{\\dfrac{P_i/e}{P_{米}}}\\right)\n",
    "\\tag{BMDev}\n",
    "$$\n",
    "\n",
    "* $\\overline{\\dfrac{P_i/e}{P_{米}}}$は$\\dfrac{P_i/e}{P_{米}}$の平均\n",
    "* 一物一価が成立する場合は$\\dfrac{P_i/e}{P_{米}}=1$となる。"
   ]
  },
  {
   "cell_type": "markdown",
   "id": "cc515ba1",
   "metadata": {
    "hidden": true
   },
   "source": [
    "まず`local_price`と`exr`を使って，各国のBM価格をドル表示に変換する。"
   ]
  },
  {
   "cell_type": "code",
   "execution_count": 33,
   "id": "11948490",
   "metadata": {
    "hidden": true
   },
   "outputs": [],
   "source": [
    "bm['dollar_price'] = bm['local_price']/bm['exr']"
   ]
  },
  {
   "cell_type": "code",
   "execution_count": 34,
   "id": "6cb897b1",
   "metadata": {
    "hidden": true
   },
   "outputs": [
    {
     "data": {
      "text/html": [
       "<div>\n",
       "<style scoped>\n",
       "    .dataframe tbody tr th:only-of-type {\n",
       "        vertical-align: middle;\n",
       "    }\n",
       "\n",
       "    .dataframe tbody tr th {\n",
       "        vertical-align: top;\n",
       "    }\n",
       "\n",
       "    .dataframe thead th {\n",
       "        text-align: right;\n",
       "    }\n",
       "</style>\n",
       "<table border=\"1\" class=\"dataframe\">\n",
       "  <thead>\n",
       "    <tr style=\"text-align: right;\">\n",
       "      <th></th>\n",
       "      <th>year</th>\n",
       "      <th>country</th>\n",
       "      <th>iso3</th>\n",
       "      <th>local_price</th>\n",
       "      <th>ppp</th>\n",
       "      <th>exr</th>\n",
       "      <th>ngdppc</th>\n",
       "      <th>rgdppc</th>\n",
       "      <th>dollar_price</th>\n",
       "    </tr>\n",
       "  </thead>\n",
       "  <tbody>\n",
       "    <tr>\n",
       "      <th>1032</th>\n",
       "      <td>2021</td>\n",
       "      <td>Japan</td>\n",
       "      <td>JPN</td>\n",
       "      <td>390.0</td>\n",
       "      <td>96.51</td>\n",
       "      <td>104.295</td>\n",
       "      <td>4.314734e+06</td>\n",
       "      <td>4.271766e+06</td>\n",
       "      <td>3.739393</td>\n",
       "    </tr>\n",
       "  </tbody>\n",
       "</table>\n",
       "</div>"
      ],
      "text/plain": [
       "      year country iso3  local_price    ppp      exr        ngdppc  \\\n",
       "1032  2021   Japan  JPN        390.0  96.51  104.295  4.314734e+06   \n",
       "\n",
       "            rgdppc  dollar_price  \n",
       "1032  4.271766e+06      3.739393  "
      ]
     },
     "execution_count": 34,
     "metadata": {},
     "output_type": "execute_result"
    }
   ],
   "source": [
    "cond = ( bm['iso3']=='JPN')\n",
    "bm.loc[cond,:]"
   ]
  },
  {
   "cell_type": "markdown",
   "id": "f09a8acb",
   "metadata": {
    "hidden": true
   },
   "source": [
    "日本のBM価格390円は約3.7ドルとなっている。"
   ]
  },
  {
   "cell_type": "code",
   "execution_count": 35,
   "id": "e91c0d75",
   "metadata": {
    "hidden": true
   },
   "outputs": [
    {
     "data": {
      "text/plain": [
       "count    71.000000\n",
       "mean      3.912659\n",
       "std       1.136833\n",
       "min       1.808924\n",
       "25%       3.031804\n",
       "50%       3.748231\n",
       "75%       4.837402\n",
       "max       7.290674\n",
       "Name: dollar_price, dtype: float64"
      ]
     },
     "execution_count": 35,
     "metadata": {},
     "output_type": "execute_result"
    }
   ],
   "source": [
    "bm['dollar_price'].describe()"
   ]
  },
  {
   "cell_type": "markdown",
   "id": "34e472d7",
   "metadata": {
    "hidden": true
   },
   "source": [
    "最高価格は日本のBMの2倍以上の価格となっている。"
   ]
  },
  {
   "cell_type": "code",
   "execution_count": 36,
   "id": "e8817c5c",
   "metadata": {
    "hidden": true
   },
   "outputs": [],
   "source": [
    "# 米国のドル価格\n",
    "cond = ( bm['iso3']=='USA')\n",
    "us_dollar_price = bm.loc[cond,'dollar_price'].iloc[0]\n",
    "\n",
    "# 米国の価格に対するi国の相対価格の対数\n",
    "bm['relative_dollar_price_log'] = np.log( bm['dollar_price']/us_dollar_price )\n",
    "\n",
    "# (BMDev)式の値\n",
    "bm['price_mean_deviation'] = (\n",
    "bm['relative_dollar_price_log']\n",
    "    - np.log( (bm['dollar_price']/us_dollar_price).mean() )\n",
    ")"
   ]
  },
  {
   "cell_type": "code",
   "execution_count": 37,
   "id": "0bf3ccd3",
   "metadata": {
    "hidden": true
   },
   "outputs": [
    {
     "data": {
      "image/png": "[encoded data removed]",
      "text/plain": [
       "<Figure size 640x480 with 1 Axes>"
      ]
     },
     "metadata": {},
     "output_type": "display_data"
    }
   ],
   "source": [
    "bm['price_mean_deviation'].hist()\n",
    "pass"
   ]
  },
  {
   "cell_type": "markdown",
   "id": "3cadc7f2",
   "metadata": {
    "hidden": true
   },
   "source": [
    "BM価格のばらつき具合を確認するために標準偏差を計算しよう。"
   ]
  },
  {
   "cell_type": "code",
   "execution_count": 38,
   "id": "8fbaffc8",
   "metadata": {
    "hidden": true
   },
   "outputs": [
    {
     "data": {
      "text/plain": [
       "0.2981650778621459"
      ]
     },
     "execution_count": 38,
     "metadata": {},
     "output_type": "execute_result"
    }
   ],
   "source": [
    "bm['price_mean_deviation'].std()"
   ]
  },
  {
   "cell_type": "markdown",
   "id": "c9175b36",
   "metadata": {
    "hidden": true
   },
   "source": [
    "この値は次の式でも同じ。\n",
    "$$\n",
    "BMのドル価格の平均からの乖離率=\\log(P_i/e)-\\log\\left(\\overline{P_i/e}\\right)\n",
    "$$\n",
    "\n",
    "* 成立しない\n",
    "    * non-tradable -> no direct competition\n",
    "* 国内のチョコレートなどより価格のばらつきが激しい"
   ]
  },
  {
   "cell_type": "markdown",
   "id": "46808d72",
   "metadata": {
    "hidden": true
   },
   "source": [
    "BM価格が最も高い５カ国"
   ]
  },
  {
   "cell_type": "code",
   "execution_count": 39,
   "id": "1f5f0aa4",
   "metadata": {
    "hidden": true
   },
   "outputs": [
    {
     "data": {
      "text/html": [
       "<div>\n",
       "<style scoped>\n",
       "    .dataframe tbody tr th:only-of-type {\n",
       "        vertical-align: middle;\n",
       "    }\n",
       "\n",
       "    .dataframe tbody tr th {\n",
       "        vertical-align: top;\n",
       "    }\n",
       "\n",
       "    .dataframe thead th {\n",
       "        text-align: right;\n",
       "    }\n",
       "</style>\n",
       "<table border=\"1\" class=\"dataframe\">\n",
       "  <thead>\n",
       "    <tr style=\"text-align: right;\">\n",
       "      <th></th>\n",
       "      <th>country</th>\n",
       "      <th>dollar_price</th>\n",
       "    </tr>\n",
       "  </thead>\n",
       "  <tbody>\n",
       "    <tr>\n",
       "      <th>1005</th>\n",
       "      <td>Switzerland</td>\n",
       "      <td>7.290674</td>\n",
       "    </tr>\n",
       "    <tr>\n",
       "      <th>1058</th>\n",
       "      <td>Sweden</td>\n",
       "      <td>6.374733</td>\n",
       "    </tr>\n",
       "    <tr>\n",
       "      <th>1043</th>\n",
       "      <td>Norway</td>\n",
       "      <td>6.086214</td>\n",
       "    </tr>\n",
       "    <tr>\n",
       "      <th>1017</th>\n",
       "      <td>Finland</td>\n",
       "      <td>5.917293</td>\n",
       "    </tr>\n",
       "    <tr>\n",
       "      <th>1011</th>\n",
       "      <td>Germany</td>\n",
       "      <td>5.419123</td>\n",
       "    </tr>\n",
       "  </tbody>\n",
       "</table>\n",
       "</div>"
      ],
      "text/plain": [
       "          country  dollar_price\n",
       "1005  Switzerland      7.290674\n",
       "1058       Sweden      6.374733\n",
       "1043       Norway      6.086214\n",
       "1017      Finland      5.917293\n",
       "1011      Germany      5.419123"
      ]
     },
     "execution_count": 39,
     "metadata": {},
     "output_type": "execute_result"
    }
   ],
   "source": [
    "bm[['country','dollar_price']].sort_values('dollar_price', ascending=False).head()"
   ]
  },
  {
   "cell_type": "markdown",
   "id": "e3fb82d8",
   "metadata": {
    "hidden": true
   },
   "source": [
    "BM価格が最も低い５カ国"
   ]
  },
  {
   "cell_type": "code",
   "execution_count": 40,
   "id": "d3a56573",
   "metadata": {
    "hidden": true
   },
   "outputs": [
    {
     "data": {
      "text/html": [
       "<div>\n",
       "<style scoped>\n",
       "    .dataframe tbody tr th:only-of-type {\n",
       "        vertical-align: middle;\n",
       "    }\n",
       "\n",
       "    .dataframe tbody tr th {\n",
       "        vertical-align: top;\n",
       "    }\n",
       "\n",
       "    .dataframe thead th {\n",
       "        text-align: right;\n",
       "    }\n",
       "</style>\n",
       "<table border=\"1\" class=\"dataframe\">\n",
       "  <thead>\n",
       "    <tr style=\"text-align: right;\">\n",
       "      <th></th>\n",
       "      <th>country</th>\n",
       "      <th>dollar_price</th>\n",
       "    </tr>\n",
       "  </thead>\n",
       "  <tbody>\n",
       "    <tr>\n",
       "      <th>1000</th>\n",
       "      <td>Azerbaijan</td>\n",
       "      <td>2.324897</td>\n",
       "    </tr>\n",
       "    <tr>\n",
       "      <th>1062</th>\n",
       "      <td>Ukraine</td>\n",
       "      <td>2.203269</td>\n",
       "    </tr>\n",
       "    <tr>\n",
       "      <th>1066</th>\n",
       "      <td>South Africa</td>\n",
       "      <td>2.158158</td>\n",
       "    </tr>\n",
       "    <tr>\n",
       "      <th>1060</th>\n",
       "      <td>Turkey</td>\n",
       "      <td>2.006559</td>\n",
       "    </tr>\n",
       "    <tr>\n",
       "      <th>1053</th>\n",
       "      <td>Russia</td>\n",
       "      <td>1.808924</td>\n",
       "    </tr>\n",
       "  </tbody>\n",
       "</table>\n",
       "</div>"
      ],
      "text/plain": [
       "           country  dollar_price\n",
       "1000    Azerbaijan      2.324897\n",
       "1062       Ukraine      2.203269\n",
       "1066  South Africa      2.158158\n",
       "1060        Turkey      2.006559\n",
       "1053        Russia      1.808924"
      ]
     },
     "execution_count": 40,
     "metadata": {},
     "output_type": "execute_result"
    }
   ],
   "source": [
    "bm[['country','dollar_price']].sort_values('dollar_price', ascending=False).tail()"
   ]
  },
  {
   "cell_type": "markdown",
   "id": "35fca083",
   "metadata": {
    "hidden": true
   },
   "source": [
    "* 所得に影響を受けている -> Penn効果"
   ]
  },
  {
   "cell_type": "markdown",
   "id": "c2ef0b6b",
   "metadata": {
    "heading_collapsed": true,
    "hidden": true
   },
   "source": [
    "### Penn効果"
   ]
  },
  {
   "cell_type": "markdown",
   "id": "61f96051",
   "metadata": {
    "hidden": true
   },
   "source": [
    "The price of development: The Penn–Balassa–Samuelson effect revisited\n",
    "* `'/Users/tetsu/Documents/My_Simulation/Python/Class/Ideas/BigMacIndex/References/1-s2.0-S0022199616300873-main.pdf'`\n",
    "* It is widely understood that market exchange rates do not give accurate measures of real income in different economies and that adjustment by purchasing power parity (PPP) factors is necessary for such measures. This understanding is based on an observed empirical regularity that richer countries have a higher price level than poorer countries.1 The positive correlation between cross-country price level and per-capita income is generally regarded as a stylized fact. This result was documented for twelve developed countries in the seminal paper of Bela Balassa (1964), was confirmed for a large sample of countries as soon as data from the International Comparison Program (ICP) became available and is now renowned as the Penn–Balassa–Samuelson effect (Penn–BS).2,3"
   ]
  },
  {
   "cell_type": "markdown",
   "id": "397809a4",
   "metadata": {
    "hidden": true
   },
   "source": [
    "* 所得が高い国・地域ほど価格が高い\n",
    "* 米国の比率として考える。\n",
    "    * 基準国 \n",
    "    * 価格は名目だが，相対的に考えることにより「実質」価値を捉えることができる。\n",
    "    * 長期的に価格は上昇トレンドにあり，相対的に考えるようが何かと便利"
   ]
  },
  {
   "cell_type": "markdown",
   "id": "d8e8f86e",
   "metadata": {
    "hidden": true
   },
   "source": [
    "`EUZ`には`ngdppc`が入っていいないので，削除する。"
   ]
  },
  {
   "cell_type": "code",
   "execution_count": 41,
   "id": "c69a45ba",
   "metadata": {
    "hidden": true
   },
   "outputs": [],
   "source": [
    "bm = bm.dropna()"
   ]
  },
  {
   "cell_type": "code",
   "execution_count": 42,
   "id": "703bfd4a",
   "metadata": {
    "hidden": true
   },
   "outputs": [],
   "source": [
    "# 市場為替レートを使ってドル表示の名目GDP\n",
    "bm['ngdppc_dollar_exr'] = bm['ngdppc'] / bm['exr']\n",
    "\n",
    "\n",
    "# 米国の価格\n",
    "cond = ( bm['iso3']=='USA' )\n",
    "# 米国の名目GDP\n",
    "us_ngdppc_dollar_exr = bm.loc[cond, 'ngdppc_dollar_exr'].iloc[0]\n",
    "\n",
    "\n",
    "# # i国の相対的な名目GDP\n",
    "bm['relative_ngdppc_dollar_exr'] = bm['ngdppc_dollar_exr'] / us_ngdppc_dollar_exr\n",
    "# # i国の相対的な名目GDP（対数）\n",
    "bm['relative_ngdppc_dollar_exr_log'] = np.log( bm['relative_ngdppc_dollar_exr'] )"
   ]
  },
  {
   "cell_type": "code",
   "execution_count": 43,
   "id": "07eea472",
   "metadata": {
    "hidden": true
   },
   "outputs": [
    {
     "data": {
      "image/png": "[encoded data removed]",
      "text/plain": [
       "<Figure size 640x480 with 1 Axes>"
      ]
     },
     "metadata": {},
     "output_type": "display_data"
    }
   ],
   "source": [
    "bm.plot('relative_ngdppc_dollar_exr_log', \n",
    "        'relative_dollar_price_log', kind='scatter')\n",
    "pass"
   ]
  },
  {
   "cell_type": "markdown",
   "id": "66917e97",
   "metadata": {
    "hidden": true
   },
   "source": [
    "* 縦軸：$\\log\\left(\\dfrac{P_i/e}{P_{US}}\\right)$\n",
    "* 横軸：$\\log\\left(\\dfrac{i国の名目GDP(ドル)}{米国の名目GDP(ドル)}\\right)$"
   ]
  },
  {
   "cell_type": "code",
   "execution_count": 44,
   "id": "a03c7da1",
   "metadata": {
    "hidden": true
   },
   "outputs": [
    {
     "data": {
      "text/plain": [
       "0.6687456667320922"
      ]
     },
     "execution_count": 44,
     "metadata": {},
     "output_type": "execute_result"
    }
   ],
   "source": [
    "bm[['relative_ngdppc_dollar_exr_log', 'relative_dollar_price_log']].corr().iloc[0,1]"
   ]
  },
  {
   "cell_type": "markdown",
   "id": "76176a3d",
   "metadata": {
    "heading_collapsed": true,
    "hidden": true
   },
   "source": [
    "### Penn効果の分離"
   ]
  },
  {
   "cell_type": "markdown",
   "id": "116a83c0",
   "metadata": {
    "hidden": true
   },
   "source": [
    "ここで考える問題は\n",
    "> Penn効果をどのように捉えることができるだろうか。\n",
    "\n",
    "この問に答えるために，BM価格の決定要因は次の２つから構成されると仮定しよう。\n",
    "\n",
    "$$\n",
    "\\frac{P_{i}/e}{P_{米}}= D_i^{所得}\\times D_i^{\\text{所得以外}}\\\\\n",
    "$$\n",
    "\n",
    "更に，次の仮定を置く。\n",
    "\n",
    "$$\n",
    "\\begin{align*}\n",
    "D_i^{\\text{所得}}&=e^a\\left(\\frac{i\\text{国の所得}}{米国の所得}\\right)^{b}\\\\\n",
    "D_i^{\\text{所得以外}}&=e^{u_i}\n",
    "\\end{align*}\n",
    "$$\n",
    "\n",
    "ここで$u_i$は国の所得以外でランダムな要素を捉える誤差項と解釈する。また，上の式の対数を取ると次式となる。\n",
    "\n",
    "$$\n",
    "p_i\n",
    "= d_{i}^{所得}+d_i^{\\text{所得以外}}\n",
    "$$\n",
    "\n",
    "* $p_{i}=\\log\\left(\\dfrac{P_{i}/e}{P_{米}}\\right)$\n",
    "* $d_{i}^{\\text{所得}}=\\log\\left(D_{i}^{\\text{所得}}\\right)\n",
    "    =a+b\\times\\left(\\dfrac{i\\text{国の所得}}{米国の所得}\\right)$\n",
    "* $d_{i}^{\\text{所得以外}}=\\log\\left(D_{i}^{\\text{所得以外}}\\right)=u_i$"
   ]
  },
  {
   "cell_type": "markdown",
   "id": "23f90c2d",
   "metadata": {
    "hidden": true
   },
   "source": [
    "これらをまとめると次式となる。\n",
    "\n",
    "$$\n",
    "p_i=a+b\\times\\log\\left(\\frac{i\\text{国の所得}}{米国の所得}\\right)+u_i\n",
    "$$"
   ]
  },
  {
   "cell_type": "markdown",
   "id": "c9aff110",
   "metadata": {
    "hidden": true
   },
   "source": [
    "この式をOLS推定式として推定すると，\n",
    "\n",
    "$$\n",
    "p_i=\\hat{a}+\\hat{b}\\times\\log\\left(\\frac{i\\text{国の所得}}{米国の所得}\\right)+\\hat{u}_i\n",
    "$$\n",
    "\n",
    "となり，$\\hat{a}$と$\\hat{b}$は推定値であり，$\\hat{u}_i$は残差である。\n",
    "\n",
    "これらの結果を使い，次のように$p_i$を２つの要因にに分解することができる。\n",
    "\n",
    "$$\n",
    "p_i=\n",
    "\\hat{d}_i^{\\text{所得}}\n",
    "+\\hat{d}_i^{\\text{所得以外}}\n",
    "$$\n",
    "\n",
    "ここで\n",
    "* $\\hat{d}_i^{\\text{所得}}=\\hat{a}+\\hat{b}\\times\\log\\left(\\dfrac{i\\text{国の所得}}{米国の所得}\\right)$\n",
    "* $\\hat{d}_i^{\\text{所得以外}}=\\hat{u}_i$\n",
    "\n",
    "以下では$\\hat{d}_i^{\\text{所得}}$と$\\hat{d}_i^{\\text{所得以外}}$を計算し，それぞれの要因によって発生する価格のばらつき具合を確認することにする。\n",
    "\n",
    "また，所得は市場為替レートを使い計算したドル表示の一人当たり名目GDPを使う。"
   ]
  },
  {
   "cell_type": "code",
   "execution_count": 45,
   "id": "c7e64907",
   "metadata": {
    "hidden": true
   },
   "outputs": [
    {
     "data": {
      "text/html": [
       "<table class=\"simpletable\">\n",
       "<caption>OLS Regression Results</caption>\n",
       "<tr>\n",
       "  <th>Dep. Variable:</th>    <td>relative_dollar_price_log</td> <th>  R-squared:         </th> <td>   0.447</td>\n",
       "</tr>\n",
       "<tr>\n",
       "  <th>Model:</th>                       <td>OLS</td>            <th>  Adj. R-squared:    </th> <td>   0.439</td>\n",
       "</tr>\n",
       "<tr>\n",
       "  <th>No. Observations:</th>          <td>    68</td>           <th>  F-statistic:       </th> <td>   53.40</td>\n",
       "</tr>\n",
       "<tr>\n",
       "  <th>Covariance Type:</th>          <td>nonrobust</td>         <th>  Prob (F-statistic):</th> <td>4.59e-10</td>\n",
       "</tr>\n",
       "</table>\n",
       "<table class=\"simpletable\">\n",
       "<tr>\n",
       "                 <td></td>                   <th>coef</th>     <th>std err</th>      <th>t</th>      <th>P>|t|</th>  <th>[0.025</th>    <th>0.975]</th>  \n",
       "</tr>\n",
       "<tr>\n",
       "  <th>Intercept</th>                      <td>   -0.0179</td> <td>    0.043</td> <td>   -0.414</td> <td> 0.680</td> <td>   -0.104</td> <td>    0.069</td>\n",
       "</tr>\n",
       "<tr>\n",
       "  <th>relative_ngdppc_dollar_exr_log</th> <td>    0.1832</td> <td>    0.025</td> <td>    7.307</td> <td> 0.000</td> <td>    0.133</td> <td>    0.233</td>\n",
       "</tr>\n",
       "</table><br/><br/>Notes:<br/>[1] Standard Errors assume that the covariance matrix of the errors is correctly specified."
      ],
      "text/plain": [
       "<class 'statsmodels.iolib.summary.Summary'>\n",
       "\"\"\"\n",
       "                                OLS Regression Results                               \n",
       "=====================================================================================\n",
       "Dep. Variable:     relative_dollar_price_log   R-squared:                       0.447\n",
       "Model:                                   OLS   Adj. R-squared:                  0.439\n",
       "No. Observations:                         68   F-statistic:                     53.40\n",
       "Covariance Type:                   nonrobust   Prob (F-statistic):           4.59e-10\n",
       "==================================================================================================\n",
       "                                     coef    std err          t      P>|t|      [0.025      0.975]\n",
       "--------------------------------------------------------------------------------------------------\n",
       "Intercept                         -0.0179      0.043     -0.414      0.680      -0.104       0.069\n",
       "relative_ngdppc_dollar_exr_log     0.1832      0.025      7.307      0.000       0.133       0.233\n",
       "==================================================================================================\n",
       "\n",
       "Notes:\n",
       "[1] Standard Errors assume that the covariance matrix of the errors is correctly specified.\n",
       "\"\"\""
      ]
     },
     "execution_count": 45,
     "metadata": {},
     "output_type": "execute_result"
    }
   ],
   "source": [
    "res = smf.ols('relative_dollar_price_log ~ relative_ngdppc_dollar_exr_log', data=bm).fit()\n",
    "res.summary(slim=True)"
   ]
  },
  {
   "cell_type": "markdown",
   "id": "6add1591",
   "metadata": {
    "hidden": true
   },
   "source": [
    "変数の作成"
   ]
  },
  {
   "cell_type": "code",
   "execution_count": 46,
   "id": "447e3a25",
   "metadata": {
    "hidden": true
   },
   "outputs": [],
   "source": [
    "# パラメーターの推定値\n",
    "ahat = res.params[0]\n",
    "bhat = res.params[1]\n",
    "# 残差\n",
    "uhat = res.resid\n",
    "\n",
    "# 所得以外の効果\n",
    "bm['factor_no_income'] = np.exp( uhat )\n",
    "# 所得以外の効果（対数）\n",
    "bm['factor_no_income_log'] = uhat\n",
    "\n",
    "# Penn効果\n",
    "bm['factor_income'] = np.exp(ahat)*bm['relative_ngdppc_dollar_exr']**bhat\n",
    "# Penn効果（対数）\n",
    "bm['factor_income_log'] = ahat+bhat*bm['relative_ngdppc_dollar_exr_log']"
   ]
  },
  {
   "cell_type": "markdown",
   "id": "95bbdd6f",
   "metadata": {
    "hidden": true
   },
   "source": [
    "Penn効果によるBM価格のばらつき具合をプロットする。"
   ]
  },
  {
   "cell_type": "code",
   "execution_count": 47,
   "id": "3d03827a",
   "metadata": {
    "hidden": true
   },
   "outputs": [
    {
     "name": "stdout",
     "output_type": "stream",
     "text": [
      "標準偏差：0.1997715101961256\n"
     ]
    },
    {
     "data": {
      "image/png": "[encoded data removed]",
      "text/plain": [
       "<Figure size 640x480 with 1 Axes>"
      ]
     },
     "metadata": {},
     "output_type": "display_data"
    }
   ],
   "source": [
    "# Penn効果による価格の平均からの乖離率\n",
    "price_mean_deviation_income = (\n",
    "    bm['factor_income_log'] - np.log( bm['factor_income'].mean() )\n",
    ")\n",
    "\n",
    "# ヒストグラムのプロット\n",
    "ax = price_mean_deviation_income.hist()\n",
    "ax.set_title('所得によるBig Macの価格のばらつき具合（平均からの乖離率）')\n",
    "\n",
    "# 標準偏差の表示\n",
    "print(f'標準偏差：{price_mean_deviation_income.std()}')"
   ]
  },
  {
   "cell_type": "markdown",
   "id": "33421832",
   "metadata": {
    "hidden": true
   },
   "source": [
    "所得以外の効果によるBM価格のばらつき具合をプロットする。"
   ]
  },
  {
   "cell_type": "code",
   "execution_count": 48,
   "id": "60aaf0a0",
   "metadata": {
    "hidden": true
   },
   "outputs": [
    {
     "name": "stdout",
     "output_type": "stream",
     "text": [
      "標準偏差：0.22209993494781066\n"
     ]
    },
    {
     "data": {
      "image/png": "[encoded data removed]",
      "text/plain": [
       "<Figure size 640x480 with 1 Axes>"
      ]
     },
     "metadata": {},
     "output_type": "display_data"
    }
   ],
   "source": [
    "# 所得以外の効果による価格の平均からの乖離率\n",
    "price_mean_deviation_no_income = (\n",
    "    bm['factor_no_income_log'] - np.log( bm['factor_no_income'].mean() )\n",
    ")\n",
    "\n",
    "# ヒストグラムのプロット\n",
    "ax = price_mean_deviation_no_income.hist()\n",
    "ax.set_title('所得以外の要因によるBig Macの価格ばらつき具合（平均からの乖離率）')\n",
    "\n",
    "# 標準偏差の表示\n",
    "print(f'標準偏差：{price_mean_deviation_no_income.std()}')"
   ]
  },
  {
   "cell_type": "markdown",
   "id": "74ff9740",
   "metadata": {
    "hidden": true
   },
   "source": [
    "所得の影響を無くすと価格の変動は小さくなっている。"
   ]
  },
  {
   "cell_type": "markdown",
   "id": "9b98e6dd",
   "metadata": {
    "heading_collapsed": true,
    "hidden": true
   },
   "source": [
    "### Penn効果の大きさ"
   ]
  },
  {
   "cell_type": "markdown",
   "id": "ecfcf210",
   "metadata": {
    "hidden": true
   },
   "source": [
    "ここでは次の問いを考察する。\n",
    "> BMの価格の変動幅の何割がPenn効果に起因するのだろうか。"
   ]
  },
  {
   "cell_type": "markdown",
   "id": "c44376ad",
   "metadata": {
    "hidden": true
   },
   "source": [
    "上の式を再掲する。\n",
    "\n",
    "$$\n",
    "p_i\n",
    "= d_{i}^{所得}+d_i^{\\text{所得以外}}\n",
    "$$\n",
    "\n",
    "この分散を次のように計算することにより，Penn効果の割合を計算することが可能となる。\n",
    "\n",
    "$$\n",
    "\\begin{align*}\n",
    "\\text{Var}(p_i)\n",
    "&=\\text{Var}\\left(\\hat{d}_i^{\\text{所得}}+\\hat{d}_i^{\\text{所得以外}}\\right)\\\\\n",
    "&=\\text{Var}\\left(\\hat{d}_i^{\\text{所得}}\\right)+\n",
    "    \\text{Var}\\left(\\hat{d}_i^{\\text{所得以外}}\\right)+\n",
    "    2\\text{Cov}\\left(\\hat{d}_i^{\\text{所得}},\\hat{d}_i^{\\text{所得以外}}\\right)\\\\\n",
    "&=\\underbrace{\n",
    "    \\text{Var}\\left(\\hat{d}_i^{\\text{所得}}\\right)+\n",
    "    \\text{Cov}\\left(\\hat{d}_i^{\\text{所得}},\\hat{d}_i^{\\text{所得以外}}\\right)\n",
    "    }_{\\text{Penn効果}}+\n",
    "  \\underbrace{\n",
    "    \\text{Var}\\left(\\hat{d}_i^{\\text{所得以外}}\\right)+\n",
    "    \\text{Cov}\\left(\\hat{d}_i^{\\text{所得}},\\hat{d}_i^{\\text{所得以外}}\\right)\n",
    "    }_{\\text{所得以外による効果}}\n",
    "\\end{align*}\n",
    "$$"
   ]
  },
  {
   "cell_type": "markdown",
   "id": "6ced32d9",
   "metadata": {
    "hidden": true
   },
   "source": [
    "この結果を使うと（Regressionの章を参照），\n",
    "\n",
    "$$\n",
    "\\begin{align*}\n",
    "\\left(\n",
    "\\begin{split}\n",
    "&\\text{Penn効果}\\\\\n",
    "&\\text{の割合}\n",
    "\\end{split}\n",
    "\\right)\n",
    "&=\\frac{\n",
    "      \\text{Var}\\left(\\hat{d}_i^{\\text{所得}}\\right)+\n",
    "    \\text{Cov}\\left(\\hat{d}_i^{\\text{所得}},\\hat{d}_i^{\\text{所得以外}}\\right)\n",
    "    }{\n",
    "    \\text{Var}(p_i)}\n",
    "=\\frac{\n",
    "    \\text{Cov}\\left(p_i,\\hat{d}_i^{\\text{所得}}\\right)\n",
    "    }{\n",
    "    \\text{Var}(p_i)}\n",
    "\\end{align*}\n",
    "$$"
   ]
  },
  {
   "cell_type": "markdown",
   "id": "ca2ee29f",
   "metadata": {
    "hidden": true
   },
   "source": [
    "$$\n",
    "\\begin{align*}\n",
    "\\left(\n",
    "\\begin{split}\n",
    "&\\text{Penn効果}\\\\\n",
    "&\\text{以外の割合}\n",
    "\\end{split}\n",
    "\\right)\n",
    "&=\\frac{\n",
    "      \\text{Var}\\left(\\hat{d}_i^{\\text{所得以外}}\\right)+\n",
    "    \\text{Cov}\\left(\\hat{d}_i^{\\text{所得}},\\hat{d}_i^{\\text{所得以外}}\\right)\n",
    "    }{\n",
    "    \\text{Var}(p_i)}\n",
    "=\\frac{\n",
    "    \\text{Cov}\\left(p_i,\\hat{d}_i^{\\text{所得以外}}\\right)\n",
    "    }{\n",
    "    \\text{Var}(p_i)}\n",
    "\\end{align*}\n",
    "$$"
   ]
  },
  {
   "cell_type": "code",
   "execution_count": 49,
   "id": "3b5473d0",
   "metadata": {
    "hidden": true
   },
   "outputs": [
    {
     "data": {
      "text/plain": [
       "0.5527792332270497"
      ]
     },
     "execution_count": 49,
     "metadata": {},
     "output_type": "execute_result"
    }
   ],
   "source": [
    "# Penn効果の割合\n",
    "penn_bm = bm[['relative_dollar_price_log','factor_no_income_log']]\n",
    "penn_bm.cov().iloc[0,1] / penn_bm.cov().iloc[0,0]"
   ]
  },
  {
   "cell_type": "code",
   "execution_count": 50,
   "id": "7bbceb75",
   "metadata": {
    "hidden": true
   },
   "outputs": [
    {
     "data": {
      "text/plain": [
       "0.4472207667729503"
      ]
     },
     "execution_count": 50,
     "metadata": {},
     "output_type": "execute_result"
    }
   ],
   "source": [
    "# 所得以外の効果の割合\n",
    "no_penn_bm = bm[['relative_dollar_price_log','factor_income_log']]\n",
    "no_penn_bm.cov().iloc[0,1] / no_penn_bm.cov().iloc[0,0]"
   ]
  },
  {
   "cell_type": "markdown",
   "id": "a397c949",
   "metadata": {
    "hidden": true
   },
   "source": [
    "* Penn効果が大きいことが分かる。\n",
    "* BMの一物一価が成立しないのは「その他の要因」が大きな影響を及ぼしている。\n",
    "    * perishable, non-tradable (extremely high transport cost)\n",
    "    * Price at London does not affect much the price in Kobe"
   ]
  },
  {
   "cell_type": "markdown",
   "id": "ceba412e",
   "metadata": {},
   "source": [
    "## 購買力平価"
   ]
  },
  {
   "cell_type": "markdown",
   "id": "69ef4782",
   "metadata": {
    "heading_collapsed": true
   },
   "source": [
    "### はじめに"
   ]
  },
  {
   "cell_type": "markdown",
   "id": "41c700f9",
   "metadata": {
    "hidden": true
   },
   "source": [
    "the rate at which the currency of one country would have to be converted into that of another country to buy the same amount of goods and services in each country."
   ]
  },
  {
   "cell_type": "markdown",
   "id": "a487eae9",
   "metadata": {
    "hidden": true
   },
   "source": [
    "それぞれの経済で消費される典型的な共通の財・サービスを集めて大きなバスケット（大きな籠）に入れるとしよう。それぞれの価格は各経済で異なることになり，同様にバスケットの価格も異なることになる。更に，バスケットの価格を各国の一般物価水準と考え，その相対価格を計算することにより購買力平価（PPP, Purchasing Power Parity）が算出される。\n",
    "\n",
    "$$\n",
    "\\varepsilon=\\frac{P_i}{P_{\\text{米}}}\n",
    "$$\n",
    "\n",
    "* $P_i$：$i$国のバスケットの自国通貨価格（一般物価水準と解釈）\n",
    "* $P_{\\text{米}}$：米国のバスケットのドル価格（一般物価水準と解釈）\n",
    "\n",
    "まず，次の２点について説明する。\n",
    "1. 右辺の単位は「$i$国の通貨/ドル」となり，前節で考えた為替レートと同じ単位である。実際，$\\varepsilon$は為替レートの一種だが，市場為替レートと異なるため特別な呼称「購買力平価」が付いている。\n",
    "1. 上の式は$P_i/\\varepsilon=P_{\\text{米}}$と書くと一物一価の式と同じであり，違いは（1）$P$がBig Macの価格ではなく一般物価水準を表しており，（2）$e$（市場為替レート）が$\\varepsilon$（PPP）になっている。このことから，PPPは次のように解釈できる。\n",
    "    > $i$国と基準国のバスケットの価格（一般物価水準）が同じになる為替レート\n",
    "    \n",
    "    また次のようにも解釈できる。\n",
    "    > 両国で同じバスケットを購入するために必要な，$i$国の貨幣と基準国の貨幣の交換率\n",
    "    \n",
    "    この事から，経済間のGDPなどを比較する際にPPPを使うことにより，物価水準の差をなくして純粋に経済のスケールなどを比較することが可能となる。"
   ]
  },
  {
   "cell_type": "markdown",
   "id": "80d5d99b",
   "metadata": {
    "hidden": true
   },
   "source": [
    "では，なぜ購買力平価と呼ばれるのだろうか。まず，「購買力」の部分を考えるために次式に書き換えてみる。\n",
    "\n",
    "$$\n",
    "1=\\frac{P_i/\\varepsilon}{P_{\\text{米}}}\n",
    "$$\n",
    "\n",
    "分子の$P_i$の単位は「$i$国の通貨」であり，$\\varepsilon$の単位は「ドル/$i$国の通貨」となるため，分子の単位はドルとなることが分かる（$i$国の通貨がキャンセルされる）。分母の単位はもちろんドルである。更に，次のように書き換えよう。\n",
    "\n",
    "$$\n",
    "1=\\frac{1万ドル/P_{\\text{米}}}{1万ドル/(P_i/\\varepsilon)}\n",
    "$$\n",
    "\n",
    "分子は1万ドルで米国のバスケットをいくつ購入できるかを表しており，それが（購入できる数量で測る）購買力である。同様に，分母は1万ドルで購入できる$i$国のバスケットの数量を表す。即ち，右辺は1万ドルの米国での購買力と$i$国での購買力の割合となる。右辺が`1`より大きい（小さい）場合，1万ドルの米国での購買力はより高く（低く），より多くの（少ない）米国のバスケットを買うことができる（しかできない）。そして右辺が`1`と等しい場合，1万ドルの米国での購買力と$i$国での購買力は同じだということである。これで「平価」の部分も理解できたのではないだろうか。上の式の`1=`の部分が「平価」を表している。"
   ]
  },
  {
   "cell_type": "markdown",
   "id": "dfee6c68",
   "metadata": {
    "hidden": true
   },
   "source": [
    "以上の説明から，一物一価の法則と購買力平価が密接に関係していることは直感的に理解できるだろう。実際，一物一価は購買力平価が成立するための必要条件となる。しかし，Big Macの例が示すように一物一価は成立しない。従って，購買力平価は成立していないのが現状である。では，各国の市場為替レート（$e$）は程度購買力平価（$\\varepsilon$）と比べて，どの程度高過ぎる，もしくは安過ぎるのだろうか。またPenn効果の役割はどれだけ大きいのだろうか。以下では，これらの問いを考察する。"
   ]
  },
  {
   "cell_type": "markdown",
   "id": "f07c28f4",
   "metadata": {
    "hidden": true
   },
   "source": [
    "````{note}\n",
    "実質為替レート$\\epsilon$は次のように定義される。\n",
    "```{math}\n",
    "\\epsilon=\\frac{P_{i}/e}{P_{\\text{米}}}\n",
    "```\n",
    "ここで$e$は名目為替レート（$i$国の通貨/ドル）である。この式から次のことが分かる。購買力平価が成立する場合，$e=\\varepsilon$且つ$\\epsilon=1$となり，実質為替レートは`1`となる。\n",
    "````"
   ]
  },
  {
   "cell_type": "markdown",
   "id": "e0407287",
   "metadata": {
    "heading_collapsed": true
   },
   "source": [
    "### PPP"
   ]
  },
  {
   "cell_type": "markdown",
   "id": "e9bcf69c",
   "metadata": {
    "hidden": true
   },
   "source": [
    "World Development Indicators\n",
    "* PPPと名目為替レートのパネルデータを入手\n",
    "* 2021年の各国の乖離率を計算（cross section）\n",
    "* 日本の乖離率の表示 (time series)\n",
    "* absolute vs relative PPP"
   ]
  },
  {
   "cell_type": "markdown",
   "id": "ef2b522a",
   "metadata": {
    "heading_collapsed": true
   },
   "source": [
    "### 時系列"
   ]
  },
  {
   "cell_type": "markdown",
   "id": "67c39a04",
   "metadata": {
    "hidden": true
   },
   "source": [
    "* End-of-period exchange rate -> volatile\n",
    "* Ideally, period average would be better"
   ]
  },
  {
   "cell_type": "markdown",
   "id": "d2f9931a",
   "metadata": {
    "hidden": true
   },
   "source": [
    "#### 絶対的PPP"
   ]
  },
  {
   "cell_type": "code",
   "execution_count": 51,
   "id": "a3624df3",
   "metadata": {
    "hidden": true
   },
   "outputs": [
    {
     "data": {
      "image/png": "[encoded data removed]",
      "text/plain": [
       "<Figure size 640x480 with 1 Axes>"
      ]
     },
     "metadata": {},
     "output_type": "display_data"
    }
   ],
   "source": [
    "cond = ( bigmac['iso3']=='JPN')\n",
    "jpn = bigmac.loc[cond,:].copy()\n",
    "jpn.plot('year',['ppp','exr'])\n",
    "pass"
   ]
  },
  {
   "cell_type": "code",
   "execution_count": 52,
   "id": "49c6b06c",
   "metadata": {
    "hidden": true
   },
   "outputs": [
    {
     "data": {
      "image/png": "[encoded data removed]",
      "text/plain": [
       "<Figure size 640x480 with 1 Axes>"
      ]
     },
     "metadata": {},
     "output_type": "display_data"
    }
   ],
   "source": [
    "cond = ( bigmac['iso3']=='EUZ')\n",
    "euz = bigmac.loc[cond,:].copy()\n",
    "euz.plot('year',['ppp','exr'])\n",
    "pass"
   ]
  },
  {
   "cell_type": "code",
   "execution_count": 53,
   "id": "2bfa670f",
   "metadata": {
    "hidden": true
   },
   "outputs": [
    {
     "data": {
      "image/png": "[encoded data removed]",
      "text/plain": [
       "<Figure size 640x480 with 1 Axes>"
      ]
     },
     "metadata": {},
     "output_type": "display_data"
    }
   ],
   "source": [
    "cond = ( bigmac['iso3']=='GBR')\n",
    "gbr = bigmac.loc[cond,:].copy()\n",
    "gbr.plot('year',['ppp','exr'])\n",
    "pass"
   ]
  },
  {
   "cell_type": "code",
   "execution_count": 54,
   "id": "5badd827",
   "metadata": {
    "hidden": true
   },
   "outputs": [
    {
     "data": {
      "image/png": "[encoded data removed]",
      "text/plain": [
       "<Figure size 640x480 with 1 Axes>"
      ]
     },
     "metadata": {},
     "output_type": "display_data"
    }
   ],
   "source": [
    "cond = ( bigmac['iso3']=='NOR')\n",
    "nor = bigmac.loc[cond,:].copy()\n",
    "nor.plot('year',['ppp','exr'])\n",
    "pass"
   ]
  },
  {
   "cell_type": "markdown",
   "id": "6b7423e4",
   "metadata": {
    "hidden": true
   },
   "source": [
    "#### 相対的PPP"
   ]
  },
  {
   "cell_type": "code",
   "execution_count": 55,
   "id": "859bf942",
   "metadata": {
    "hidden": true
   },
   "outputs": [
    {
     "data": {
      "image/png": "[encoded data removed]",
      "text/plain": [
       "<Figure size 640x480 with 1 Axes>"
      ]
     },
     "metadata": {},
     "output_type": "display_data"
    }
   ],
   "source": [
    "jpn['relative_ppp'] = jpn['ppp'].pct_change()\n",
    "jpn['relative_exr'] = jpn['exr'].pct_change()\n",
    "jpn.plot('year',['relative_ppp','relative_exr'])\n",
    "pass"
   ]
  },
  {
   "cell_type": "code",
   "execution_count": 56,
   "id": "f935f555",
   "metadata": {
    "hidden": true
   },
   "outputs": [
    {
     "data": {
      "image/png": "[encoded data removed]",
      "text/plain": [
       "<Figure size 640x480 with 1 Axes>"
      ]
     },
     "metadata": {},
     "output_type": "display_data"
    }
   ],
   "source": [
    "euz['relative_ppp'] = euz['ppp'].pct_change()\n",
    "euz['relative_exr'] = euz['exr'].pct_change()\n",
    "euz.plot('year',['relative_ppp','relative_exr'])\n",
    "pass"
   ]
  },
  {
   "cell_type": "code",
   "execution_count": 57,
   "id": "d71ba552",
   "metadata": {
    "hidden": true
   },
   "outputs": [
    {
     "data": {
      "image/png": "[encoded data removed]",
      "text/plain": [
       "<Figure size 640x480 with 1 Axes>"
      ]
     },
     "metadata": {},
     "output_type": "display_data"
    }
   ],
   "source": [
    "gbr['relative_ppp'] = gbr['ppp'].pct_change()\n",
    "gbr['relative_exr'] = gbr['exr'].pct_change()\n",
    "gbr.plot('year',['relative_ppp','relative_exr'])\n",
    "pass"
   ]
  },
  {
   "cell_type": "markdown",
   "id": "af458300",
   "metadata": {},
   "source": [
    "### ドル表示のバスケットの相対価格"
   ]
  },
  {
   "cell_type": "markdown",
   "id": "037ecb85",
   "metadata": {},
   "source": [
    "$$\n",
    "\\text{ppp}=\\frac{P_i}{P_{US}}\n",
    "=\\frac{i国のバスケットのi国貨幣価格}{米国のバスケットのドル価格}\n",
    "$$\n",
    "\n",
    "$$\n",
    "\\text{exr}=\\frac{i国の通貨}{米ドル}\n",
    "$$"
   ]
  },
  {
   "cell_type": "markdown",
   "id": "2d5273d6",
   "metadata": {},
   "source": [
    "$$\n",
    "\\frac{P_i/\\text{exr}}{P_{US}}=\\frac{ppp}{exr}\n",
    "=\\frac{i国のバスケットのドル価格}{米国のバスケットのドル価格}\n",
    "$$"
   ]
  },
  {
   "cell_type": "markdown",
   "id": "f60814b1",
   "metadata": {},
   "source": [
    "まず，ドル表示の相対価格（実質為替レートと同じ）のヒストグラム"
   ]
  },
  {
   "cell_type": "code",
   "execution_count": 58,
   "id": "894b794e",
   "metadata": {},
   "outputs": [],
   "source": [
    "# ドル表示の相対価格（実質為替レートと同じ）\n",
    "bm['ppp_exr_log'] = np.log( bm['ppp']/bm['exr'] )"
   ]
  },
  {
   "cell_type": "markdown",
   "id": "0686aec4",
   "metadata": {},
   "source": [
    "米国は`0`になり既に標準化されている。"
   ]
  },
  {
   "cell_type": "code",
   "execution_count": 59,
   "id": "f53411a9",
   "metadata": {},
   "outputs": [
    {
     "name": "stdout",
     "output_type": "stream",
     "text": [
      "標準偏差 0.41700710077330566\n"
     ]
    },
    {
     "data": {
      "image/png": "[encoded data removed]",
      "text/plain": [
       "<Figure size 640x480 with 1 Axes>"
      ]
     },
     "metadata": {},
     "output_type": "display_data"
    }
   ],
   "source": [
    "bm['ppp_exr_log'].plot(kind='hist', ec='white')\n",
    "print('標準偏差',bm['ppp_exr_log'].std())"
   ]
  },
  {
   "cell_type": "markdown",
   "id": "9aa602db",
   "metadata": {},
   "source": [
    "PPPが成立している場合は`0`に集まる。"
   ]
  },
  {
   "cell_type": "markdown",
   "id": "d31b9a6b",
   "metadata": {},
   "source": [
    "* `0`より大きい場合：\n",
    "    * その国の貨幣は米ドルに対してovervalued\n",
    "* `0`より小さい場合：\n",
    "    * その国の貨幣は米ドルに対してundervalued"
   ]
  },
  {
   "cell_type": "code",
   "execution_count": 60,
   "id": "54fad793",
   "metadata": {},
   "outputs": [
    {
     "data": {
      "text/plain": [
       "<StemContainer object of 3 artists>"
      ]
     },
     "execution_count": 60,
     "metadata": {},
     "output_type": "execute_result"
    },
    {
     "data": {
      "image/png": "[encoded data removed]",
      "text/plain": [
       "<Figure size 400x800 with 1 Axes>"
      ]
     },
     "metadata": {},
     "output_type": "display_data"
    }
   ],
   "source": [
    "fig, ax = plt.subplots(figsize=(4,8))\n",
    "ax.stem('country', 'ppp_exr_log', \n",
    "        data=bm.sort_values('ppp_exr_log'),\n",
    "        orientation='horizontal')"
   ]
  },
  {
   "cell_type": "markdown",
   "id": "8e36fca6",
   "metadata": {},
   "source": [
    "所得が低い経済のバスケットの価格が低い傾向にある。"
   ]
  },
  {
   "cell_type": "markdown",
   "id": "639f4d19",
   "metadata": {
    "heading_collapsed": true
   },
   "source": [
    "### Penn効果"
   ]
  },
  {
   "cell_type": "markdown",
   "id": "61465e76",
   "metadata": {
    "hidden": true
   },
   "source": [
    "BMの分析では市場為替レートで計算した名目GDPを使った。ここではPPPで計算した名目GDPを使う。理由：\n",
    "* 市場為替レート計算した名目GDPは，経済間の価格の差を残したままのGDPとなる。その価格差はPenn効果を表しており，それを残したままのGDPとなってします。\n",
    "* 価格に対する所得の純粋な効果（相関）を調べるためには，価格差が生じる「不純物」を取り除く必要がある。それにより，所得と価格の「浄化された」相関関係を計算することができる。\n"
   ]
  },
  {
   "cell_type": "code",
   "execution_count": 61,
   "id": "95aa9f08",
   "metadata": {
    "hidden": true
   },
   "outputs": [],
   "source": [
    "# PPPを使ってドル表示の名目GDP\n",
    "bm['ngdppc_dollar_ppp'] = bm['ngdppc'] / bm['ppp']\n",
    "\n",
    "\n",
    "# 米国の価格\n",
    "cond = ( bm['iso3']=='USA' )\n",
    "# 米国のGDP\n",
    "us_ngdppc_dollar_ppp = bm.loc[cond, 'ngdppc_dollar_ppp'].iloc[0]\n",
    "\n",
    "\n",
    "# i国の相対的なGDP\n",
    "bm['relative_ngdppc_dollar_ppp'] = bm['ngdppc_dollar_ppp'] / us_ngdppc_dollar_ppp\n",
    "# i国の相対的なGDP（対数）\n",
    "bm['relative_ngdppc_dollar_ppp_log'] = np.log( bm['relative_ngdppc_dollar_ppp'] )"
   ]
  },
  {
   "cell_type": "code",
   "execution_count": 62,
   "id": "eb621f09",
   "metadata": {
    "hidden": true
   },
   "outputs": [
    {
     "data": {
      "image/png": "[encoded data removed]",
      "text/plain": [
       "<Figure size 640x480 with 1 Axes>"
      ]
     },
     "metadata": {},
     "output_type": "display_data"
    }
   ],
   "source": [
    "bm.plot('relative_ngdppc_dollar_ppp_log', 'ppp_exr_log', kind='scatter')\n",
    "pass"
   ]
  },
  {
   "cell_type": "code",
   "execution_count": 63,
   "id": "1a883276",
   "metadata": {
    "hidden": true
   },
   "outputs": [
    {
     "data": {
      "text/html": [
       "<table class=\"simpletable\">\n",
       "<caption>OLS Regression Results</caption>\n",
       "<tr>\n",
       "  <th>Dep. Variable:</th>    <td>ppp_exr_log</td> <th>  R-squared:         </th> <td>   0.590</td>\n",
       "</tr>\n",
       "<tr>\n",
       "  <th>Model:</th>                <td>OLS</td>     <th>  Adj. R-squared:    </th> <td>   0.584</td>\n",
       "</tr>\n",
       "<tr>\n",
       "  <th>No. Observations:</th>   <td>    68</td>    <th>  F-statistic:       </th> <td>   95.16</td>\n",
       "</tr>\n",
       "<tr>\n",
       "  <th>Covariance Type:</th>   <td>nonrobust</td>  <th>  Prob (F-statistic):</th> <td>2.02e-14</td>\n",
       "</tr>\n",
       "</table>\n",
       "<table class=\"simpletable\">\n",
       "<tr>\n",
       "                 <td></td>                   <th>coef</th>     <th>std err</th>      <th>t</th>      <th>P>|t|</th>  <th>[0.025</th>    <th>0.975]</th>  \n",
       "</tr>\n",
       "<tr>\n",
       "  <th>Intercept</th>                      <td>   -0.1736</td> <td>    0.049</td> <td>   -3.547</td> <td> 0.001</td> <td>   -0.271</td> <td>   -0.076</td>\n",
       "</tr>\n",
       "<tr>\n",
       "  <th>relative_ngdppc_dollar_ppp_log</th> <td>    0.4348</td> <td>    0.045</td> <td>    9.755</td> <td> 0.000</td> <td>    0.346</td> <td>    0.524</td>\n",
       "</tr>\n",
       "</table><br/><br/>Notes:<br/>[1] Standard Errors assume that the covariance matrix of the errors is correctly specified."
      ],
      "text/plain": [
       "<class 'statsmodels.iolib.summary.Summary'>\n",
       "\"\"\"\n",
       "                            OLS Regression Results                            \n",
       "==============================================================================\n",
       "Dep. Variable:            ppp_exr_log   R-squared:                       0.590\n",
       "Model:                            OLS   Adj. R-squared:                  0.584\n",
       "No. Observations:                  68   F-statistic:                     95.16\n",
       "Covariance Type:            nonrobust   Prob (F-statistic):           2.02e-14\n",
       "==================================================================================================\n",
       "                                     coef    std err          t      P>|t|      [0.025      0.975]\n",
       "--------------------------------------------------------------------------------------------------\n",
       "Intercept                         -0.1736      0.049     -3.547      0.001      -0.271      -0.076\n",
       "relative_ngdppc_dollar_ppp_log     0.4348      0.045      9.755      0.000       0.346       0.524\n",
       "==================================================================================================\n",
       "\n",
       "Notes:\n",
       "[1] Standard Errors assume that the covariance matrix of the errors is correctly specified.\n",
       "\"\"\""
      ]
     },
     "execution_count": 63,
     "metadata": {},
     "output_type": "execute_result"
    }
   ],
   "source": [
    "res_ngdppc = smf.ols('ppp_exr_log ~ relative_ngdppc_dollar_ppp_log', data=bm).fit()\n",
    "res_ngdppc.summary(slim=True)"
   ]
  },
  {
   "cell_type": "code",
   "execution_count": 64,
   "id": "e9079680",
   "metadata": {
    "hidden": true
   },
   "outputs": [],
   "source": [
    "# パラメーターの推定値\n",
    "ahat = res_ngdppc.params[0]\n",
    "bhat = res_ngdppc.params[1]\n",
    "# 残差\n",
    "uhat = res_ngdppc.resid\n",
    "\n",
    "# 所得以外の効果\n",
    "bm['ngdppc_factor_no_income'] = np.exp( uhat )\n",
    "# 所得以外の効果（対数）\n",
    "bm['ngdppc_factor_no_income_log'] = uhat\n",
    "\n",
    "# Penn効果\n",
    "bm['ngdppc_factor_income'] = np.exp(ahat)*bm['relative_ngdppc_dollar_ppp']**bhat\n",
    "# Penn効果（対数）\n",
    "bm['ngdppc_factor_income_log'] = ahat+bhat*bm['relative_ngdppc_dollar_ppp_log']"
   ]
  },
  {
   "cell_type": "markdown",
   "id": "0e9ab3ca",
   "metadata": {
    "hidden": true
   },
   "source": [
    "Penn効果によるバスケットの価格のばらつき具合をプロットする。"
   ]
  },
  {
   "cell_type": "code",
   "execution_count": 65,
   "id": "30f792aa",
   "metadata": {
    "hidden": true
   },
   "outputs": [
    {
     "name": "stdout",
     "output_type": "stream",
     "text": [
      "標準偏差：0.3204377018087325\n"
     ]
    },
    {
     "data": {
      "image/png": "[encoded data removed]",
      "text/plain": [
       "<Figure size 640x480 with 1 Axes>"
      ]
     },
     "metadata": {},
     "output_type": "display_data"
    }
   ],
   "source": [
    "# Penn効果による価格の平均からの乖離率\n",
    "ngdppc_mean_deviation_income = (\n",
    "    bm['ngdppc_factor_income_log']\n",
    "    - np.log( bm['ngdppc_factor_income'].mean() )\n",
    ")\n",
    "\n",
    "# ヒストグラムのプロット\n",
    "ax = ngdppc_mean_deviation_income.hist()\n",
    "ax.set_title('所得によるバスケットの価格のばらつき具合（平均からの乖離率）')\n",
    "\n",
    "# 標準偏差の表示\n",
    "print(f'標準偏差：{ngdppc_mean_deviation_income.std()}')"
   ]
  },
  {
   "cell_type": "markdown",
   "id": "e2b1edf8",
   "metadata": {
    "hidden": true
   },
   "source": [
    "所得以外の効果によるバスケットの価格のばらつき具合をプロットする。"
   ]
  },
  {
   "cell_type": "code",
   "execution_count": 66,
   "id": "37aa0d66",
   "metadata": {
    "hidden": true
   },
   "outputs": [
    {
     "name": "stdout",
     "output_type": "stream",
     "text": [
      "標準偏差：0.2668606403254248\n"
     ]
    },
    {
     "data": {
      "image/png": "[encoded data removed]",
      "text/plain": [
       "<Figure size 640x480 with 1 Axes>"
      ]
     },
     "metadata": {},
     "output_type": "display_data"
    }
   ],
   "source": [
    "# 所得以外の効果による価格の平均からの乖離率\n",
    "ngdppc_mean_deviation_no_income = (\n",
    "    bm['ngdppc_factor_no_income_log']\n",
    "    - np.log( bm['ngdppc_factor_no_income'].mean() )\n",
    ")\n",
    "\n",
    "# ヒストグラムのプロット\n",
    "ax = ngdppc_mean_deviation_no_income.hist()\n",
    "ax.set_title('所得以外の要因によるバスケットの価格ばらつき具合（平均からの乖離率）')\n",
    "\n",
    "# 標準偏差の表示\n",
    "print(f'標準偏差：{ngdppc_mean_deviation_no_income.std()}')"
   ]
  },
  {
   "cell_type": "markdown",
   "id": "a03769d0",
   "metadata": {
    "hidden": true
   },
   "source": [
    "所得の影響を無くすと価格の変動は小さくなっている。"
   ]
  },
  {
   "cell_type": "markdown",
   "id": "73e9d207",
   "metadata": {
    "heading_collapsed": true
   },
   "source": [
    "### Penn効果の大きさ"
   ]
  },
  {
   "cell_type": "markdown",
   "id": "b75508d2",
   "metadata": {
    "hidden": true
   },
   "source": [
    "ここでは次の問いを考察する。\n",
    "> BMの価格の変動幅の何割がPenn効果に起因するのだろうか。"
   ]
  },
  {
   "cell_type": "markdown",
   "id": "95cb840a",
   "metadata": {
    "hidden": true
   },
   "source": [
    "再掲\n",
    "\n",
    "$$\n",
    "\\begin{align*}\n",
    "\\left(\n",
    "\\begin{split}\n",
    "&\\text{Penn効果}\\\\\n",
    "&\\text{の割合}\n",
    "\\end{split}\n",
    "\\right)\n",
    "&=\\frac{\n",
    "    \\text{Cov}\\left(p_i,\\hat{d}_i^{\\text{所得}}\\right)\n",
    "    }{\n",
    "    \\text{Var}(p_i)}\n",
    "\\end{align*}\n",
    "$$"
   ]
  },
  {
   "cell_type": "markdown",
   "id": "b726344f",
   "metadata": {
    "hidden": true
   },
   "source": [
    "$$\n",
    "\\begin{align*}\n",
    "\\left(\n",
    "\\begin{split}\n",
    "&\\text{所得以外による}\\\\\n",
    "&\\text{効果の割合}\n",
    "\\end{split}\n",
    "\\right)\n",
    "&=\\frac{\n",
    "    \\text{Cov}\\left(p_i,\\hat{d}_i^{\\text{所得以外}}\\right)\n",
    "    }{\n",
    "    \\text{Var}(p_i)}\n",
    "\\end{align*}\n",
    "$$"
   ]
  },
  {
   "cell_type": "code",
   "execution_count": 67,
   "id": "b9a85fd2",
   "metadata": {
    "hidden": true
   },
   "outputs": [
    {
     "data": {
      "text/plain": [
       "0.590473370373379"
      ]
     },
     "execution_count": 67,
     "metadata": {},
     "output_type": "execute_result"
    }
   ],
   "source": [
    "# Penn効果の割合\n",
    "penn_ppp_exr = bm[['ppp_exr_log','ngdppc_factor_income_log']]\n",
    "penn_ppp_exr.cov().iloc[0,1] / penn_ppp_exr.cov().iloc[0,0]"
   ]
  },
  {
   "cell_type": "code",
   "execution_count": 68,
   "id": "18cab7df",
   "metadata": {
    "hidden": true
   },
   "outputs": [
    {
     "data": {
      "text/plain": [
       "0.4095266296266209"
      ]
     },
     "execution_count": 68,
     "metadata": {},
     "output_type": "execute_result"
    }
   ],
   "source": [
    "# 所得以外の効果の割合\n",
    "no_penn_ppp_exr = bm[['ppp_exr_log','ngdppc_factor_no_income_log']]\n",
    "no_penn_ppp_exr.cov().iloc[0,1] / no_penn_ppp_exr.cov().iloc[0,0]"
   ]
  },
  {
   "cell_type": "markdown",
   "id": "5aa76ba0",
   "metadata": {
    "hidden": true
   },
   "source": [
    "BMの一物一価が成立しないのは「その他の要因」が大きな影響を及ぼしている。\n",
    "* perishable, non-tradable (extremely high transport cost)\n",
    "    * Price at London does not affect much the price in Kobe"
   ]
  },
  {
   "cell_type": "markdown",
   "id": "33fc0f87",
   "metadata": {},
   "source": [
    "### Penn効果の含意"
   ]
  },
  {
   "cell_type": "markdown",
   "id": "348a793b",
   "metadata": {},
   "source": [
    "市場為替レートで算出するとPenn効果が発生する。\n",
    "* 所得が高い経済の価格は高く，所得が低い経済の価格は低い\n",
    "* バスケットの価格差がある\n",
    "\n",
    "市場為替レートによる影響\n",
    "* 所得が高い経済のGDPは高く産出され，所得が低い経済の価格は低く算出される。\n",
    "* 所得格差の大きさが大きく算出される\n",
    "\n",
    "PPP\n",
    "* バスケットの価格差をなくす\n",
    "\n",
    "含意：\n",
    "* PPPを使った場合と比べて，市場為替レートを使うと経済格差が過大となる。"
   ]
  },
  {
   "cell_type": "code",
   "execution_count": 69,
   "id": "22fd0d0a",
   "metadata": {},
   "outputs": [],
   "source": [
    "bm['ngdppc_dollar_exr_log'] = np.log( bm['ngdppc_dollar_exr'] )\n",
    "bm['ngdppc_dollar_ppp_log'] = np.log( bm['ngdppc_dollar_ppp'] )"
   ]
  },
  {
   "cell_type": "code",
   "execution_count": 70,
   "id": "643567b5",
   "metadata": {},
   "outputs": [
    {
     "data": {
      "text/plain": [
       "<matplotlib.legend.Legend at 0x7faf684c5870>"
      ]
     },
     "execution_count": 70,
     "metadata": {},
     "output_type": "execute_result"
    },
    {
     "data": {
      "image/png": "[encoded data removed]",
      "text/plain": [
       "<Figure size 640x480 with 1 Axes>"
      ]
     },
     "metadata": {},
     "output_type": "display_data"
    }
   ],
   "source": [
    "ax = bm.plot('ngdppc_dollar_ppp_log','ngdppc_dollar_exr_log', kind='scatter')\n",
    "ax.axline((9, 9), (10, 10), color='red', label='45度線')\n",
    "ax.legend()"
   ]
  },
  {
   "cell_type": "markdown",
   "id": "bb466a24",
   "metadata": {},
   "source": [
    "* USA is on the 45 degree line\n",
    "* Countries above the 45 degree line\n",
    "    * `ppp`と比較して`exr`のGDPは大きくなっている。\n",
    "    * 所得が高いGDPは`exr`のGDPは`ppp`より大きくなっている\n",
    "* Countries below the 45 degree line\n",
    "    * `ppp`と比較して`exr`のGDPは小さくなっている。\n",
    "    * 所得が低いGDPは`exr`のGDPは`ppp`より小さくなっている\n",
    "    \n",
    "＜含意＞\n",
    "* `ppp`と比較して`exr`で評価すると一人当たりGDPで測る経済格差は過大評価される"
   ]
  },
  {
   "cell_type": "markdown",
   "id": "07dbc2e4",
   "metadata": {},
   "source": [
    "変動係数"
   ]
  },
  {
   "cell_type": "code",
   "execution_count": 71,
   "id": "3c9c175c",
   "metadata": {},
   "outputs": [
    {
     "data": {
      "text/plain": [
       "0.07126858411370322"
      ]
     },
     "execution_count": 71,
     "metadata": {},
     "output_type": "execute_result"
    }
   ],
   "source": [
    "bm['ngdppc_dollar_ppp_log'].std() / bm['ngdppc_dollar_ppp_log'].mean()"
   ]
  },
  {
   "cell_type": "code",
   "execution_count": 72,
   "id": "874f36d3",
   "metadata": {},
   "outputs": [
    {
     "data": {
      "text/plain": [
       "0.11115498857747703"
      ]
     },
     "execution_count": 72,
     "metadata": {},
     "output_type": "execute_result"
    }
   ],
   "source": [
    "bm['ngdppc_dollar_exr_log'].std() / bm['ngdppc_dollar_exr_log'].mean()"
   ]
  },
  {
   "cell_type": "markdown",
   "id": "27e078cd",
   "metadata": {},
   "source": [
    "最大値と最小値の比率"
   ]
  },
  {
   "cell_type": "code",
   "execution_count": 73,
   "id": "441f2ff5",
   "metadata": {},
   "outputs": [
    {
     "data": {
      "text/plain": [
       "1.3467308637999993"
      ]
     },
     "execution_count": 73,
     "metadata": {},
     "output_type": "execute_result"
    }
   ],
   "source": [
    "bm['ngdppc_dollar_ppp_log'].max() / bm['ngdppc_dollar_ppp_log'].min()"
   ]
  },
  {
   "cell_type": "code",
   "execution_count": 74,
   "id": "fbec6bad",
   "metadata": {},
   "outputs": [
    {
     "data": {
      "text/plain": [
       "1.577650073926438"
      ]
     },
     "execution_count": 74,
     "metadata": {},
     "output_type": "execute_result"
    }
   ],
   "source": [
    "bm['ngdppc_dollar_exr_log'].max() / bm['ngdppc_dollar_exr_log'].min()"
   ]
  },
  {
   "cell_type": "markdown",
   "id": "152ce54b",
   "metadata": {},
   "source": [
    "`ngdppc`ランキング"
   ]
  },
  {
   "cell_type": "code",
   "execution_count": 75,
   "id": "875515d9",
   "metadata": {},
   "outputs": [
    {
     "data": {
      "text/html": [
       "<div>\n",
       "<style scoped>\n",
       "    .dataframe tbody tr th:only-of-type {\n",
       "        vertical-align: middle;\n",
       "    }\n",
       "\n",
       "    .dataframe tbody tr th {\n",
       "        vertical-align: top;\n",
       "    }\n",
       "\n",
       "    .dataframe thead th {\n",
       "        text-align: right;\n",
       "    }\n",
       "</style>\n",
       "<table border=\"1\" class=\"dataframe\">\n",
       "  <thead>\n",
       "    <tr style=\"text-align: right;\">\n",
       "      <th></th>\n",
       "      <th>country</th>\n",
       "    </tr>\n",
       "  </thead>\n",
       "  <tbody>\n",
       "    <tr>\n",
       "      <th>1055</th>\n",
       "      <td>Singapore</td>\n",
       "    </tr>\n",
       "    <tr>\n",
       "      <th>1028</th>\n",
       "      <td>Ireland</td>\n",
       "    </tr>\n",
       "    <tr>\n",
       "      <th>1051</th>\n",
       "      <td>Qatar</td>\n",
       "    </tr>\n",
       "    <tr>\n",
       "      <th>1005</th>\n",
       "      <td>Switzerland</td>\n",
       "    </tr>\n",
       "    <tr>\n",
       "      <th>996</th>\n",
       "      <td>United Arab Emirates</td>\n",
       "    </tr>\n",
       "    <tr>\n",
       "      <th>1043</th>\n",
       "      <td>Norway</td>\n",
       "    </tr>\n",
       "    <tr>\n",
       "      <th>1064</th>\n",
       "      <td>United States</td>\n",
       "    </tr>\n",
       "    <tr>\n",
       "      <th>1022</th>\n",
       "      <td>Hong Kong</td>\n",
       "    </tr>\n",
       "    <tr>\n",
       "      <th>1012</th>\n",
       "      <td>Denmark</td>\n",
       "    </tr>\n",
       "    <tr>\n",
       "      <th>1042</th>\n",
       "      <td>Netherlands</td>\n",
       "    </tr>\n",
       "  </tbody>\n",
       "</table>\n",
       "</div>"
      ],
      "text/plain": [
       "                   country\n",
       "1055             Singapore\n",
       "1028               Ireland\n",
       "1051                 Qatar\n",
       "1005           Switzerland\n",
       "996   United Arab Emirates\n",
       "1043                Norway\n",
       "1064         United States\n",
       "1022             Hong Kong\n",
       "1012               Denmark\n",
       "1042           Netherlands"
      ]
     },
     "execution_count": 75,
     "metadata": {},
     "output_type": "execute_result"
    }
   ],
   "source": [
    "bm.sort_values('ngdppc_dollar_ppp_log', ascending=False)[['country']].head(10)"
   ]
  },
  {
   "cell_type": "code",
   "execution_count": 76,
   "id": "8cf56af0",
   "metadata": {},
   "outputs": [
    {
     "data": {
      "text/html": [
       "<div>\n",
       "<style scoped>\n",
       "    .dataframe tbody tr th:only-of-type {\n",
       "        vertical-align: middle;\n",
       "    }\n",
       "\n",
       "    .dataframe tbody tr th {\n",
       "        vertical-align: top;\n",
       "    }\n",
       "\n",
       "    .dataframe thead th {\n",
       "        text-align: right;\n",
       "    }\n",
       "</style>\n",
       "<table border=\"1\" class=\"dataframe\">\n",
       "  <thead>\n",
       "    <tr style=\"text-align: right;\">\n",
       "      <th></th>\n",
       "      <th>country</th>\n",
       "    </tr>\n",
       "  </thead>\n",
       "  <tbody>\n",
       "    <tr>\n",
       "      <th>1028</th>\n",
       "      <td>Ireland</td>\n",
       "    </tr>\n",
       "    <tr>\n",
       "      <th>1005</th>\n",
       "      <td>Switzerland</td>\n",
       "    </tr>\n",
       "    <tr>\n",
       "      <th>1043</th>\n",
       "      <td>Norway</td>\n",
       "    </tr>\n",
       "    <tr>\n",
       "      <th>1055</th>\n",
       "      <td>Singapore</td>\n",
       "    </tr>\n",
       "    <tr>\n",
       "      <th>1064</th>\n",
       "      <td>United States</td>\n",
       "    </tr>\n",
       "    <tr>\n",
       "      <th>1012</th>\n",
       "      <td>Denmark</td>\n",
       "    </tr>\n",
       "    <tr>\n",
       "      <th>1051</th>\n",
       "      <td>Qatar</td>\n",
       "    </tr>\n",
       "    <tr>\n",
       "      <th>1058</th>\n",
       "      <td>Sweden</td>\n",
       "    </tr>\n",
       "    <tr>\n",
       "      <th>998</th>\n",
       "      <td>Australia</td>\n",
       "    </tr>\n",
       "    <tr>\n",
       "      <th>1042</th>\n",
       "      <td>Netherlands</td>\n",
       "    </tr>\n",
       "  </tbody>\n",
       "</table>\n",
       "</div>"
      ],
      "text/plain": [
       "            country\n",
       "1028        Ireland\n",
       "1005    Switzerland\n",
       "1043         Norway\n",
       "1055      Singapore\n",
       "1064  United States\n",
       "1012        Denmark\n",
       "1051          Qatar\n",
       "1058         Sweden\n",
       "998       Australia\n",
       "1042    Netherlands"
      ]
     },
     "execution_count": 76,
     "metadata": {},
     "output_type": "execute_result"
    }
   ],
   "source": [
    "bm.sort_values('ngdppc_dollar_exr_log', ascending=False)[['country']].head(10)"
   ]
  },
  {
   "cell_type": "code",
   "execution_count": 77,
   "id": "46232a61",
   "metadata": {},
   "outputs": [
    {
     "data": {
      "text/plain": [
       "Text(0.5, 1.0, '1人当たり名目GDP\\n（対数, 米ドル，2021年）')"
      ]
     },
     "execution_count": 77,
     "metadata": {},
     "output_type": "execute_result"
    },
    {
     "data": {
      "image/png": "[encoded data removed]",
      "text/plain": [
       "<Figure size 640x480 with 1 Axes>"
      ]
     },
     "metadata": {},
     "output_type": "display_data"
    }
   ],
   "source": [
    "ax = bm[['ngdppc_dollar_exr_log','ngdppc_dollar_ppp_log']].plot(kind='kde')\n",
    "ax.legend(['市場為替レート','PPP'])\n",
    "ax.set_title('1人当たり名目GDP\\n（対数, 米ドル，2021年）', size=20)"
   ]
  },
  {
   "cell_type": "markdown",
   "id": "696c907f",
   "metadata": {},
   "source": [
    "＜Poverty＞\n",
    "* https://datatopics.worldbank.org/world-development-indicators/stories/adjusting-for-price-differences-across-the-world.html"
   ]
  },
  {
   "cell_type": "markdown",
   "id": "05ae93d8",
   "metadata": {},
   "source": [
    "WBが使っている貧困線：1日1.9米ドル\n",
    "\n",
    "* 市場為替レートで計算（2021年）\n",
    "    * 1.9米ドル　＊　109.6（ケニアシリング/米ドル）＝　208.24（ケニアシリング）\n",
    "* PPP（2021年）\n",
    "    * 1.9米ドル　＊　43.722（ケニアシリング/米ドル）＝　83.0718（ケニアシリング）\n",
    "    \n",
    "PPPを使って計算している。"
   ]
  },
  {
   "cell_type": "markdown",
   "id": "9f020455",
   "metadata": {},
   "source": [
    "### Big Mac Index (Again)"
   ]
  },
  {
   "cell_type": "markdown",
   "id": "03473695",
   "metadata": {},
   "source": [
    "BMの自国通貨価格に市場為替レートとPPPを使った場合のドル価格のばらつき具合をプロットしてみよう。"
   ]
  },
  {
   "cell_type": "code",
   "execution_count": 78,
   "id": "0ade1047",
   "metadata": {},
   "outputs": [
    {
     "data": {
      "image/png": "[encoded data removed]",
      "text/plain": [
       "<Figure size 640x480 with 1 Axes>"
      ]
     },
     "metadata": {},
     "output_type": "display_data"
    }
   ],
   "source": [
    "bm['dollar_price_exr_log'] = np.log( bm['local_price'] / bm['exr'] )\n",
    "bm['dollar_price_ppp_log'] = np.log( bm['local_price'] / bm['ppp'] )\n",
    "\n",
    "ax = bm.plot('relative_ngdppc_dollar_ppp_log',\n",
    "             'dollar_price_exr_log', kind='scatter',\n",
    "             label='市場為替レート')\n",
    "bm.plot('relative_ngdppc_dollar_ppp_log',\n",
    "        'dollar_price_ppp_log', kind='scatter', ax=ax,\n",
    "        color='red', label='PPP')\n",
    "ax.legend()\n",
    "pass"
   ]
  },
  {
   "cell_type": "markdown",
   "id": "74833a36",
   "metadata": {},
   "source": [
    "* 市場為替レートの場合，所得が増えると価格も上昇するPenn効果が現れている。\n",
    "* PPPの場合，右下がりとなっている。所得が低いと価格が高い。\n",
    "    * 考えられる理由：MBは非貿易財である。また労働集約型であり飲食サービス業である。\n",
    "    * 所得が低い国ではサービスは奢侈品（しゃし）贅沢財と解釈できる。\n",
    "    * 例：MacDonalds in India is food only for the upper caste"
   ]
  },
  {
   "cell_type": "code",
   "execution_count": null,
   "id": "a342b38e",
   "metadata": {},
   "outputs": [],
   "source": []
  },
  {
   "cell_type": "code",
   "execution_count": null,
   "id": "8c1cfdcc",
   "metadata": {},
   "outputs": [],
   "source": []
  },
  {
   "cell_type": "code",
   "execution_count": null,
   "id": "57d7abc6",
   "metadata": {},
   "outputs": [],
   "source": []
  },
  {
   "cell_type": "code",
   "execution_count": null,
   "id": "b6127685",
   "metadata": {},
   "outputs": [],
   "source": []
  },
  {
   "cell_type": "code",
   "execution_count": null,
   "id": "0919ff89",
   "metadata": {},
   "outputs": [],
   "source": []
  }
 ],
 "metadata": {
  "kernelspec": {
   "display_name": "Python 3 (ipykernel)",
   "language": "python",
   "name": "python3"
  },
  "language_info": {
   "codemirror_mode": {
    "name": "ipython",
    "version": 3
   },
   "file_extension": ".py",
   "mimetype": "text/x-python",
   "name": "python",
   "nbconvert_exporter": "python",
   "pygments_lexer": "ipython3",
   "version": "3.10.4"
  }
 },
 "nbformat": 4,
 "nbformat_minor": 5
}
