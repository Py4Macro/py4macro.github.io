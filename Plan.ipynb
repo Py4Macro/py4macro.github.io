{
 "cells": [
  {
   "cell_type": "markdown",
   "id": "superb-seeker",
   "metadata": {},
   "source": [
    "# 今後の計画"
   ]
  },
  {
   "cell_type": "markdown",
   "id": "e9dd0988",
   "metadata": {},
   "source": [
    "<div name=\"html-admonition\" style=\"font-size: 0.8em\">\n",
    "<input type=\"button\" onclick=\"location.href='https://translate.google.com/translate?hl=&sl=ja&tl=en&u='+window.location;\" value=\"Google translation\" style=\"color:#ffffff;background-color:#008080; height:25px\" onmouseover=\"this.style.background='#99ccff'\" onmouseout=\"this.style.background='#008080'\"/> in English or the language of your choice.\n",
    "</div><br>"
   ]
  },
  {
   "cell_type": "markdown",
   "id": "wired-shaft",
   "metadata": {},
   "source": [
    "「短期分析II」は未完成だが，次の目次に沿ってサイトの拡充を進める計画である。\n",
    "* 長期分析\n",
    "    * 発展会計 ☑️\n",
    "    * 成長会計 ☑️\n",
    "    * 回帰分析 ☑️\n",
    "    * 差分方程式と経済分析 ☑️\n",
    "    * ソロー・モデル ☑️\n",
    "    * 所得分布と所得収斂 ☑️\n",
    "    * 一物一価と購買力平価 ☑️\n",
    "* 短期データ分析\n",
    "    * 主なマクロ・データの特徴 ☑️\n",
    "    * オークンの法則とフィリップス曲線 ☑️\n",
    "    * インフレとマネーストック ☑️\n",
    "    * 貨幣の中立性と金融政策 ☑️\n",
    "* 短期定量分析\n",
    "    * 需要側から見た景気循環\n",
    "    * 供給側から見た景気循環\n",
    "    * 定量的マクロ経済分析：Part 1 ☑️\n",
    "    * 定量的マクロ経済分析：Part 2 ☑️\n",
    "* 短期モデル\n",
    "    * ランダム変数と全要素生産性 ☑️\n",
    "    * IS-MP-PCモデル ☑️\n",
    "    * linearsolve ☑️\n",
    "    * 実物的景気循環(RBC)モデル ☑️\n",
    "    * ニューケインジアン・モデル（DSGEモデル）"
   ]
  },
  {
   "cell_type": "code",
   "execution_count": null,
   "id": "622a422a",
   "metadata": {},
   "outputs": [],
   "source": []
  }
 ],
 "metadata": {
  "kernelspec": {
   "display_name": "Python 3 (ipykernel)",
   "language": "python",
   "name": "python3"
  },
  "language_info": {
   "codemirror_mode": {
    "name": "ipython",
    "version": 3
   },
   "file_extension": ".py",
   "mimetype": "text/x-python",
   "name": "python",
   "nbconvert_exporter": "python",
   "pygments_lexer": "ipython3",
   "version": "3.10.4"
  }
 },
 "nbformat": 4,
 "nbformat_minor": 5
}
