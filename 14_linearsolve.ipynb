{
 "cells": [
  {
   "cell_type": "markdown",
   "metadata": {},
   "source": [
    "# `linearsolve`"
   ]
  },
  {
   "cell_type": "markdown",
   "metadata": {},
   "source": [
    "<div name=\"html-admonition\" style=\"font-size: 0.8em\">\n",
    "<input type=\"button\" onclick=\"location.href='https://translate.google.com/translate?hl=&sl=ja&tl=en&u='+window.location;\" value=\"Google translation\" style=\"color:#ffffff;background-color:#008080; height:25px\" onmouseover=\"this.style.background='#99ccff'\" onmouseout=\"this.style.background='#008080'\"/> in English or the language of your choice.\n",
    "</div><br>"
   ]
  },
  {
   "cell_type": "code",
   "execution_count": null,
   "metadata": {},
   "outputs": [],
   "source": [
    "import linearsolve as ls\n",
    "import numpy as np\n",
    "import pandas as pd\n",
    "\n",
    "# numpy v1の表示を使用\n",
    "np.set_printoptions(legacy='1.21')\n",
    "# 警告メッセージを非表示\n",
    "import warnings\n",
    "warnings.filterwarnings(\"ignore\")"
   ]
  },
  {
   "cell_type": "markdown",
   "metadata": {
    "heading_collapsed": true,
    "jp-MarkdownHeadingCollapsed": true
   },
   "source": [
    "## 説明"
   ]
  },
  {
   "cell_type": "markdown",
   "metadata": {
    "hidden": true
   },
   "source": [
    "後に続く章では，実物的景気循環(RBC)モデルとNew Keynsianモデル（Dynamic Stochastic General Equilibrium Model，略してDSGEモデルとも呼ばれる）を考える。それらのモデルでは，消費者は効用を最大化し，企業は利潤を最大化する。そのような最適化問題を解き，一般均衡での動学方程式を導出する作業は高度な数学的な知識を要求するため，このサイトの範囲を超えることになる。従って，それぞれのモデルの考えを説明した後，シミュレーションを使いデータとの整合性などを検討する。この章では，そのために使用する`linearsove`というパッケージの使い方を説明する。"
   ]
  },
  {
   "cell_type": "markdown",
   "metadata": {
    "hidden": true
   },
   "source": [
    "実物的景気循環モデルやNew Keynsianモデルの均衡式は複雑な非線形となっており，また将来の変数に対する期待が重要な役割を果たす。従って，次の２つのステップを踏んでシミュレーションをおこなうことになる。\n",
    "1. 非確率的な定常状態の近傍で**線形近似**をおこない，それぞれの変数を定常状態からのパーセント乖離で表した均衡式に書き直してシミュレーションをおこなう。その際の定常状態からのパーセント乖離で表すことを**対数線形近似**と呼ぶ。（ちなみに，このサイトで扱うNew Keynsianモデルの内生変数は最初から％乖離で表されている。）\n",
    "1. 様々な均衡を計算する手法が提案されており，その１つに従ってモデルを「解く」。\n",
    "\n",
    "このプロセスを自動化してくれるのが`linearsolve`（[リンク](https://www.briancjenkins.com/linearsolve/docs/build/html/index.html)）である。２の均衡の計算方法はについては，\n",
    "`linearsolve`は[Klein (2000)](http://www.sciencedirect.com/science/article/pii/S0165188999000457)を採用している。その詳細については割愛するが，1の対数線形近似について簡単に説明する。"
   ]
  },
  {
   "cell_type": "markdown",
   "metadata": {
    "hidden": true
   },
   "source": [
    "````{note}\n",
    "`linearsolve`を使用するためには，事前にインストールする必要がある。MacのターミナルやWindowsのAnaconda Promptでは，次のコマンドでインストールすることができる。\n",
    "```\n",
    "pip install linearsolve\n",
    "```\n",
    "````"
   ]
  },
  {
   "cell_type": "markdown",
   "metadata": {
    "heading_collapsed": true,
    "hidden": true
   },
   "source": [
    "### 対数線形近似"
   ]
  },
  {
   "cell_type": "markdown",
   "metadata": {
    "hidden": true
   },
   "source": [
    "$t=0,1,2,..$の離散時間を考えよう。$t$時点での変数$X$を$X_t$とする。産出量や資本ストックなどをイメージすれば良いだろう。さらに次の変数を定義する。\n",
    "* $X$：$X_t$の定常状態の値\n",
    "* $x_t\\equiv\\log\\left(\\dfrac{X_t}{X}\\right)$：$X_t$の定常状態からのパーセント乖離\n",
    "    * 定常状態（$X_t=X$）では$x_t=0$になることを覚えておこう。\n",
    "\n",
    "以前，マクロ変数をトレンドと変動（トレンドからの％乖離）に分離する分析をおこなった。その際，$\\bar{X}_t$をトレンドとすると，変動は次式で近似できることも説明した。\n",
    "\n",
    "$$\n",
    "\\frac{X_{t+1}-\\bar{X}_t}{\\bar{X}_t}\\approx\\log\\left(\\frac{X_{t+1}}{\\bar{X}_t}\\right)\n",
    "$$\n",
    "\n",
    "実は，これが正しく対数線形近似の考え方なのである。$X=\\bar{X}_t$として，この式を変形すると次のようになる。\n",
    "\n",
    "$$\n",
    "\\begin{align*}\n",
    "\\frac{X_{t}-X}{X}&\\approx\\log\\left(\\frac{X_{t}}{X}\\right)\\\\\n",
    "\\frac{X_{t}}{X}&\\approx 1+\\log\\left(\\frac{X_{t}}{X}\\right)\\\\\n",
    "X_{t}&\\approx X(1+x_t)\n",
    "\\end{align*}\n",
    "$$\n",
    "\n",
    "この式が$X_t$の対数線形近似となる。更に，$Z_t^a$の線形近似を考えてみよう。$Z^a$を定常状態と置いて上の計算の2行目に$X_t=Z_t^a$と$X=Z^a$を代入してみる。\n",
    "\n",
    "$$\n",
    "\\begin{align*}\n",
    "\\frac{Z_{t}^a}{Z^a}&\\approx 1+\\log\\left(\\frac{Z_{t}^a}{Z^a}\\right)\\\\\n",
    "&\\approx 1+a\\log\\left(\\frac{Z_{t}}{Z}\\right)\\\\\n",
    "Z_t^a&\\approx Z^a(1+az_t)\n",
    "\\end{align*}\n",
    "$$ (eq:14-linearapprox)\n",
    "\n",
    "ここで$z_t=\\log\\left(\\dfrac{Z_t}{Z}\\right)$は$Z_t$の％乖離を表している。式[](eq:14-linearapprox)が$Z_t^a$の対数線形近似であり，$a=1$の場合を包含する形となっている。"
   ]
  },
  {
   "cell_type": "markdown",
   "metadata": {
    "heading_collapsed": true,
    "hidden": true
   },
   "source": [
    "### 例：ソロー・モデル"
   ]
  },
  {
   "cell_type": "markdown",
   "metadata": {
    "hidden": true
   },
   "source": [
    "例として，人口成長も技術進歩もないソロー・モデルの資本蓄積方程式を考えよう（$L=1$を仮定する）。\n",
    "\n",
    "$$\n",
    "K_{t+1}=sK_t^a+(1-\\delta)K_t\n",
    "$$\n",
    "\n",
    "式が示すように，$K_{t+1}$と$K_{t}$は非線形の関係にある。次の変数を定義して，対数線形近似をおこなう。\n",
    "* $K=\\left(\\dfrac{s}{\\delta}\\right)^{\\frac{1}{1-a}}$：定常状態\n",
    "    * $\\dfrac{s}{K^{1-a}}=\\delta$と書くこともできるが，この関係を下の計算で使う。\n",
    "* $k_t$：定常状態からのパーセント乖離（「労働者一人当たり資本」ではない。ここでは$K_t$が労働者一人当たり資本と等しい）。\n",
    "\n",
    "それぞれの項にパーセント乖離の線形近似を適用する。\n",
    "\n",
    "$$\n",
    "\\begin{align}\n",
    "K(1+k_{t+1})&=sK^a(1+ak_t)+(1-\\delta)K(1+k_t)\\\\\n",
    "1+k_{t+1}&=\\frac{s}{K^{1-a}}(1+ak_t)+(1-\\delta)(1+k_t)\\\\\n",
    "&=\\delta(1+ak_t)+(1-\\delta)(1+k_t)\\\\\n",
    "k_{t+1}&=[1-(1-a)\\delta]k_t\\\\\n",
    "\\end{align}\n",
    "$$\n",
    "\n",
    "これでパーセント乖離の変数である$k_{t+1}$と$k_{t}$の線形式が導出できた。$k_t$の係数は正の値であり$1$より小さいので，定常状態$0$は安定的だとわかる。"
   ]
  },
  {
   "cell_type": "markdown",
   "metadata": {
    "heading_collapsed": true,
    "hidden": true
   },
   "source": [
    "### 例：ショック項があるコブ・ダグラス生産関数"
   ]
  },
  {
   "cell_type": "markdown",
   "metadata": {
    "hidden": true
   },
   "source": [
    "次のコブ・ダグラス生産関数を考えよう。\n",
    "\n",
    "$$\n",
    "Y_t=A_tK_t^\\alpha\n",
    "$$\n",
    "\n",
    "ここで$A_t$はTFPショックと考えることができる。また定常状態は次式で与えられるとしよう。\n",
    "\n",
    "$$\n",
    "Y=AK^\\alpha\n",
    "$$\n",
    "\n",
    "$t$期の生産関数を定常状態の生産関数で除した結果を対数化することで簡単に％乖離を計算できる。\n",
    "\n",
    "$$\n",
    "\\frac{Y_t}{Y}=\\frac{A_t}{A}\\left(\\frac{K_t}{K}\\right)^\\alpha\n",
    "\\quad\\Rightarrow\\quad\n",
    "y_t = a_t+\\alpha k_t\n",
    "$$\n",
    "\n",
    "この場合，線形近似ではなく正確な関係を表している。同じ結果を上の[](eq:14-linearapprox)式を使って導出してみよう。\n",
    "\n",
    "$$\n",
    "\\begin{align*}\n",
    "Y(1+y_t)&=A(1+a_t)K^\\alpha(1+\\alpha k_t)\\\\\n",
    "1+y_t&=(1+a_t)(1+\\alpha k_t)\\\\\n",
    "&=1+\\alpha k_t+a_t+\\alpha a_tk_t\\\\\n",
    "y_t&=\\alpha k_t+a_t\n",
    "\\end{align*}\n",
    "$$\n",
    "\n",
    "最後の行では$\\alpha a_tk_t=0$としている。％乖離の積は非常に小さな値であるためであり，[](eq:14-linearapprox)式を導出する上で発生した誤差を表している（誤差は無視できるほど非常に小さい）。"
   ]
  },
  {
   "cell_type": "markdown",
   "metadata": {
    "heading_collapsed": true,
    "jp-MarkdownHeadingCollapsed": true
   },
   "source": [
    "## `linearsolve`の使い方"
   ]
  },
  {
   "cell_type": "markdown",
   "metadata": {
    "hidden": true
   },
   "source": [
    "対数線形近似を理解できたと思うので，`linersolve`を使って次のステップでシミュレーションを進める。\n",
    "1. モデルのパラメータを`Series`として保存する。\n",
    "1. 内生変数名とショックの変数名を別々のリストとして保存する。\n",
    "1. 非確率的な定常状態での均衡条件を返す関数を定義する。\n",
    "1. `linearsolve.model`を使いシミュレーションのための最終準備（シミュレーションの情報が詰まったオブジェクトを作成）をする。\n",
    "1. 定常状態の計算。\n",
    "1. モデルを対数線形近似する。\n",
    "1. シミュレーション結果の表示。\n",
    "\n",
    "シミュレーションをおこなう上で２つの変数を区別することも重要となるので次の点を抑えておこう。\n",
    "* 「ストック変数」，「状態変数」，「先決変数」\n",
    "    * 資本ストックのように前期までの経済行動で決定され当該期では所与として扱われる変数\n",
    "* 「フロー変数」，「操作変数」，「コントロール変数」\n",
    "    * 消費や産出量のように当該期に決定される変数\n",
    "\n",
    "\n",
    "またシミュレーションのの中で**決定**される変数は全て「内生変数」と呼ぶ。\n",
    "\n",
    "以下では２つの例を使い具体的にシミュレーションのコードの書き方を説明をする。"
   ]
  },
  {
   "cell_type": "markdown",
   "metadata": {
    "heading_collapsed": true,
    "jp-MarkdownHeadingCollapsed": true
   },
   "source": [
    "## 全要素生産性（TFP）"
   ]
  },
  {
   "cell_type": "markdown",
   "metadata": {
    "hidden": true
   },
   "source": [
    "$A$は全要素生産性（TFP）を表しており，次式に従って変化すると考えよう。\n",
    "\n",
    "$$\n",
    "A_{t+1}=A_t^{\\rho}e^{u_{t+1}},\n",
    "\\quad 0<\\rho<1\n",
    "$$ (eq:14-tfp)\n",
    "\n",
    "ここで，底の$e$はネイピア数であり，指数の$u_{t+1}$はショック変数のホワイト・ノイズであり，正規分布に従うと仮定する。\n",
    "\n",
    "$$\n",
    "u_{t}\\sim\\mathcal{N}(0,\\sigma^2)\n",
    "$$\n",
    "\n",
    "* ストック変数：$A_t$\n",
    "* フロー変数：なし\n",
    "* このモデルで決定される変数（内生変数）：$A_t$\n",
    "* ショック変数（外生変数）：$u_t$"
   ]
  },
  {
   "cell_type": "markdown",
   "metadata": {
    "heading_collapsed": true,
    "hidden": true,
    "jp-MarkdownHeadingCollapsed": true
   },
   "source": [
    "### ステップ１：パラメータの値"
   ]
  },
  {
   "cell_type": "markdown",
   "metadata": {
    "hidden": true
   },
   "source": [
    "パラメータは$\\rho$と$\\sigma$の２つだけである。パラメータの値を入れた`Series`を変数`parameter`に割り当てる。"
   ]
  },
  {
   "cell_type": "code",
   "execution_count": null,
   "metadata": {
    "hidden": true
   },
   "outputs": [],
   "source": [
    "parameters = pd.Series({'rho':0.9,\n",
    "                        'sigma':0.0078**2})\n",
    "parameters"
   ]
  },
  {
   "cell_type": "markdown",
   "metadata": {
    "hidden": true
   },
   "source": [
    "ここでは辞書を使って`Series`を作成している。`sigma`の値は日本のTFPに関して計算した数値を設定している。"
   ]
  },
  {
   "cell_type": "markdown",
   "metadata": {
    "jp-MarkdownHeadingCollapsed": true
   },
   "source": [
    "### ステップ２：変数リスト"
   ]
  },
  {
   "cell_type": "markdown",
   "metadata": {},
   "source": [
    "内生変数名のリスをを作成する。その際，次の順番で並べる。\n",
    "\n",
    "    ショック項があるストック変数（内生変数）の変数名\n",
    "\n",
    "    ショック項がないストック変数（内生変数）の変数名\n",
    "\n",
    "    フロー変数（他の内生変数）の変数名\n",
    "\n",
    "この例では，ショック項があるストック変数`A`のみとなる。また，リストの要素として含める変数名を`A`としても良いが，計算結果では`A`の対数線形近似の変数が返される。それを見越して，ここでは`a`を使うことにする。このように指定するする方が，後で分かりやすいだろう。"
   ]
  },
  {
   "cell_type": "code",
   "execution_count": null,
   "metadata": {},
   "outputs": [],
   "source": [
    "var_names = ['a']"
   ]
  },
  {
   "cell_type": "markdown",
   "metadata": {},
   "source": [
    "次に，外生的ショックを表す変数名のリストを作成するが，var_namesと同じ順番に並べる。"
   ]
  },
  {
   "cell_type": "code",
   "execution_count": null,
   "metadata": {},
   "outputs": [],
   "source": [
    "shock_names = ['u']"
   ]
  },
  {
   "cell_type": "markdown",
   "metadata": {
    "heading_collapsed": true,
    "hidden": true,
    "jp-MarkdownHeadingCollapsed": true
   },
   "source": [
    "### ステップ３：定常状態での均衡条件の関数"
   ]
  },
  {
   "cell_type": "markdown",
   "metadata": {
    "hidden": true
   },
   "source": [
    "定常状態とは，ショック項が`0`であり，`A`が一定となる状態を指す。このステップでは，定常状態での値を返す関数を作成する。関数名を`equilibrium_equations`とする。この例での定常状態では次の条件を満たしている。\n",
    "\n",
    "$$\n",
    "A_{t+1}=A_t,\\quad u_t=0\n",
    "$$\n",
    "\n",
    "次に，非確率的な定常状態での均衡条件を返す関数を定義する。\n",
    "* 引数：\n",
    "    * `variables_forward`: $t+1$期（来期）の変数\n",
    "    * `variables_current`: $t$期（当該期）の変数\n",
    "    * `parameters`：ステップ１で設定したパラメータの値を含む変数`parameters`\n",
    "* 戻り値：\n",
    "    * 定常状態での内生変数の値を格納する`Numpy`の`array`"
   ]
  },
  {
   "cell_type": "code",
   "execution_count": null,
   "metadata": {
    "hidden": true
   },
   "outputs": [],
   "source": [
    "def equilibrium_equations(variables_forward, variables_current, parameters):\n",
    "    fwd = variables_forward        #1\n",
    "    \n",
    "    cur = variables_current        #2\n",
    "    \n",
    "    p = parameters                 #3\n",
    "\n",
    "    tfp = cur['a']**p['rho']/fwd['a']-1   #4\n",
    "    \n",
    "    return np.array([tfp])         #5"
   ]
  },
  {
   "cell_type": "markdown",
   "metadata": {
    "hidden": true
   },
   "source": [
    "＜コードの説明＞\n",
    "* `#1`： t+1期の変数を`fwd`に割り当てる。\n",
    "* `#2`： t期の変数を`cur`に割り当てる。\n",
    "* `#3`： ステップ１の`parameters`を`p`に割り当てる。\n",
    "* `#4`： 定常状態でのTFPの式を使い，左辺が0になるように整理し，その右辺を`tfp`に割り当てる。\n",
    "\n",
    "    $$\n",
    "    A_{t+1}=A_t^{\\rho}\n",
    "    \\quad\\Rightarrow\\quad\n",
    "    0=\\frac{A_t^{\\rho}}{A_{t+1}}-1\n",
    "    $$\n",
    "\n",
    "    * 他にも均衡式がある場合は，同じ方法で指定することになる。\n",
    "    * ステップ４で`equilbirium_equations`関数を単に指定するだけだが， `linearmodels`は`cur`と`fwd`を`Series`として扱うことになるため，変数を`['a']`の形で指定する必要がある。\n",
    "* `#5`： `#4`の変数を`array`として返す。\n",
    "    * `#4`以外にも均衡式がある場合は，`np.array`の一次元配列として`#5`に含めることになる。"
   ]
  },
  {
   "cell_type": "markdown",
   "metadata": {
    "heading_collapsed": true,
    "hidden": true,
    "jp-MarkdownHeadingCollapsed": true
   },
   "source": [
    "### ステップ４：モデルの最終準備（初期化）"
   ]
  },
  {
   "cell_type": "markdown",
   "metadata": {
    "hidden": true
   },
   "source": [
    "`ls`の`model`という関数を使いシミュレーションの最終準備をおこない（初期化し），`tfp_model`に割り当てる。\n",
    "* 引数：\n",
    "    * `equations`：ステップ２で定義した関数を指定する。\n",
    "    * `variables`：ステップ２で設定した内生変数のリストを指定する。\n",
    "    * `exo_states`：ショック項があるストック変数名を指定する。複数の場合はリストとして指定する。\n",
    "        * この例ではストック変数は`A`のみなので`a`を指定する。\n",
    "    * `endo_state`：ショック項がないストック変数名を指定する。複数の場合はリストとして指定する。\n",
    "        * この例ではないので書く必要はない。\n",
    "    * `costates`：コントロール変数名を指定する。複数の場合はリストとして指定する。\n",
    "        * この例ではないので書く必要はない。\n",
    "    * `shock_names`：ステップ２で設定したショック変数のリストを指定する。\n",
    "        * この引数は必須ではなく，指定しなければ自動的に変数名（例えば，`e_a`）が使われる。\n",
    "    * `parameters`：ステップ１で設定したパラメータの値を含む`Series`を指定する。\n",
    "* 戻り値：\n",
    "    * `linearsolve`の`model`オブジェクトが返される。その中に様々な情報が含まれており，それを使いシミュレーションをおこなう。"
   ]
  },
  {
   "cell_type": "code",
   "execution_count": null,
   "metadata": {
    "hidden": true
   },
   "outputs": [],
   "source": [
    "tfp_model = ls.model(equations = equilibrium_equations,\n",
    "                     variables = var_names,\n",
    "                     exo_states = 'a',\n",
    "                     # endo_states = None,\n",
    "                     # costates = None,\n",
    "                     shock_names = shock_names,\n",
    "                     parameters = parameters)"
   ]
  },
  {
   "cell_type": "markdown",
   "metadata": {
    "heading_collapsed": true,
    "hidden": true,
    "jp-MarkdownHeadingCollapsed": true
   },
   "source": [
    "### ステップ５：定常状態の計算"
   ]
  },
  {
   "cell_type": "markdown",
   "metadata": {
    "hidden": true
   },
   "source": [
    "最初に定常状態の値を確認しよう。`tfp_model`のメソッド`compute_ss()`（`ss`は定常状態を指すsteady stateの略）を使うと自動で計算してくれる。その際，引数に計算の初期値をリストとして与える。`linearsolve`が定常値を「計算する」という意味は，定常値を「探す」ということと等しい。その際，探す出発点となる値が「計算の初期値」である。この例では変数が１つなので`[1.1]`のようにする。複数ある場合は，ステップ２で設定した`var_names`の順番に合わせて初期値を並べる必要がある。"
   ]
  },
  {
   "cell_type": "code",
   "execution_count": null,
   "metadata": {
    "hidden": true
   },
   "outputs": [],
   "source": [
    "tfp_model.compute_ss([1.1])"
   ]
  },
  {
   "cell_type": "markdown",
   "metadata": {
    "hidden": true
   },
   "source": [
    "上のコードを評価すると，`tfp_model`には`.ss`という属性が**追加**され，計算結果は属性`.ss`でアクセスすることが可能である。"
   ]
  },
  {
   "cell_type": "code",
   "execution_count": null,
   "metadata": {
    "hidden": true
   },
   "outputs": [],
   "source": [
    "tfp_model.ss"
   ]
  },
  {
   "cell_type": "markdown",
   "metadata": {
    "hidden": true
   },
   "source": [
    "ここで示しているのは，`linearmodels`は`1.1`を出発点として定常値を探し始め，最終的に`1.0`を探し出したということだ。"
   ]
  },
  {
   "cell_type": "markdown",
   "metadata": {
    "heading_collapsed": true,
    "hidden": true,
    "jp-MarkdownHeadingCollapsed": true
   },
   "source": [
    "### ステップ６：モデルを対数線形近似"
   ]
  },
  {
   "cell_type": "markdown",
   "metadata": {
    "hidden": true
   },
   "source": [
    "次にシミュレーションのための対数線形近似をおこなう。`tfp_model`には`.approximate_and_solve()`というメソッドが用意されており，それを評価すると`tfp_model`に対数線形近似の結果が追加される。"
   ]
  },
  {
   "cell_type": "code",
   "execution_count": null,
   "metadata": {
    "hidden": true
   },
   "outputs": [],
   "source": [
    "tfp_model.approximate_and_solve()"
   ]
  },
  {
   "cell_type": "markdown",
   "metadata": {
    "hidden": true
   },
   "source": [
    "対数線形近似の結果はメソッド`solved()`で表示することができる。"
   ]
  },
  {
   "cell_type": "code",
   "execution_count": null,
   "metadata": {
    "hidden": true
   },
   "outputs": [],
   "source": [
    "print(tfp_model.solved())"
   ]
  },
  {
   "cell_type": "markdown",
   "metadata": {
    "hidden": true
   },
   "source": [
    "ここで表示された式を考えてみよう。$A_t$の定常状態での値は1であり，式[](eq:14-tfp)を次のように書ける。\n",
    "\n",
    "$$\\frac{A_{t+1}}{1}=\\left(\\frac{A_{t}}{1}\\right)^\\rho e^{u_{t+1}}$$\n",
    "\n",
    "$a_{t}\\equiv\\log\\left(\\dfrac{A_{t}}{1}\\right)$を使い，この式の両辺を対数化すると\n",
    "\n",
    "$$\n",
    "a_{t+1}=\\rho a_t+u_{t+1}\n",
    "$$\n",
    "\n",
    "となり（$\\log(1)=0$を思い出そう），上の式と同じになる。この結果から，上の式は近似ではなく同じ式である事が分かる。"
   ]
  },
  {
   "cell_type": "markdown",
   "metadata": {
    "hidden": true
   },
   "source": [
    "````{note}\n",
    "`print(tfp_model.solved())`のコードが表示しているのは２行は文字列であり，改行が２回（`\\n\\n`）入っている。これを利用して次のコードで２行目の式だけを取り出す事ができる。\n",
    "```\n",
    "print(tfp_model.solved().split('\\n\\n')[1])\n",
    "```\n",
    "* `split()`は文字列を引数`'\\n\\n'`で分割し，結果をリストとして返すメソッドである。\n",
    "* `[1]`はリストの1番目の要素を取り出している（0番目は`Solution to the...`となる）。\n",
    "````"
   ]
  },
  {
   "cell_type": "markdown",
   "metadata": {
    "heading_collapsed": true,
    "hidden": true,
    "jp-MarkdownHeadingCollapsed": true
   },
   "source": [
    "### ステップ７：シミュレーション結果の表示"
   ]
  },
  {
   "cell_type": "markdown",
   "metadata": {
    "heading_collapsed": true,
    "hidden": true
   },
   "source": [
    "#### インパルス反応"
   ]
  },
  {
   "cell_type": "markdown",
   "metadata": {
    "hidden": true
   },
   "source": [
    "`t=0`期は定常状態で`a[0]=0`としよう。更に，`t=1`期にショック項が1％上昇したとしよう（`u[1]=1%`）。この場合，`a[1]=1%`となる事が分かる。これが**インパクト効果**である。インパクト後，ショック項は`0`に張り付いたままとなり，`a`の値は次のように変化することになる。\n",
    "\n",
    "`a[0]=0`\n",
    "\n",
    "`a[1]=1%`\n",
    "\n",
    "`a[2]=0.95a[1]=0.95x1%=0.95%`\n",
    "\n",
    "`a[3]=0.95a[2]=0.95x0.95x1%=0.9025%`\n",
    "\n",
    "`a[4]=0.95a[3]=0.95x0.95x0.95x1%=0.857375%`\n",
    "\n",
    "`......`\n",
    "\n",
    "時間が経つに連れて徐々に減少することになり，一般的には次の式で表すことができる。\n",
    "\n",
    "$$\n",
    "a[t]=0.95^{t-1}\\times 1\\%,\\qquad\\quad t=1,2,3,...\n",
    "$$\n",
    "\n",
    "この一連の「出力」が**インパルス反応**と呼ばれる。"
   ]
  },
  {
   "cell_type": "markdown",
   "metadata": {
    "heading_collapsed": true,
    "hidden": true
   },
   "source": [
    "#### インパルス反応の計算と図示"
   ]
  },
  {
   "cell_type": "markdown",
   "metadata": {
    "hidden": true
   },
   "source": [
    "では，実際にインパルス反応を計算し図示してみよう。ホワイト・ノイズのショック$u_t$のインパルス反応を計算するには，`tfp_model`のメソッド`impulse()`を使う。\n",
    "\n",
    "* 引数：\n",
    "    * `T`：シミュレーションのの期間\n",
    "    * `t0`：何期目にショックを発生させるかを指定\n",
    "    * `shocks`：ショックの大きさ（定常状態からの乖離，デフォルトは`0.01`）\n",
    "        * 複数ある場合は辞書として指定する。例えば，`shocks={'u':0.05}`。\n",
    "* 戻り値：\n",
    "    * なし\n",
    "    * 計算結果は`tfp_model`に辞書として**追加**される。\n",
    "        * キー：ショックの変数名の`u`\n",
    "        * 値：ショック変数と内生変数の`DataFrame`\n",
    "    * 追加された辞書は属性`.irs`（Impulse ReSponseの略）でアクセスできるので，キー`u`を使って`DataFrame`を表示することが可能となる。\n",
    "    \n",
    "まずメソッド`.impulse()`で計算しよう。"
   ]
  },
  {
   "cell_type": "code",
   "execution_count": null,
   "metadata": {
    "hidden": true
   },
   "outputs": [],
   "source": [
    "tfp_model.impulse(T=50, t0=5, shocks={'u':0.05})"
   ]
  },
  {
   "cell_type": "markdown",
   "metadata": {
    "hidden": true
   },
   "source": [
    "次に，属性`.irs`を使って辞書を抽出し，キー`u`を使って`DataFrame`を表示する。"
   ]
  },
  {
   "cell_type": "code",
   "execution_count": null,
   "metadata": {
    "hidden": true
   },
   "outputs": [],
   "source": [
    "tfp_model.irs['u'].head(9)"
   ]
  },
  {
   "cell_type": "markdown",
   "metadata": {
    "hidden": true
   },
   "source": [
    "`5`番目の行のみで`u`が`0.05`になっているのが確認できる。同様に，`a`も`0.05`に跳ね上がっているが，インパクト後は徐々に減少しているのがわかる。\n",
    "\n",
    "縦軸を％表示にして，この`DataFrame`をプロットしてみよう。"
   ]
  },
  {
   "cell_type": "code",
   "execution_count": null,
   "metadata": {
    "hidden": true
   },
   "outputs": [],
   "source": [
    "( 100*tfp_model.irs['u'] ).plot(lw=3, alpha=0.5, grid=True)\n",
    "pass"
   ]
  },
  {
   "cell_type": "markdown",
   "metadata": {
    "hidden": true
   },
   "source": [
    "この図の`a`は`A_t`の定常状態からの％乖離を表していることを思い出そう。`t=0`から`t=4`の５期間はショックがない定常状態である。`t=5`に`5%`の正のショックが発生し，`t=6`以降のショックは`0`に戻っている。一方，`A`の％乖離である`a`はゆっくりと減少し，分かりにくいが`50`期間過ぎても`0%`になっていない。例えば，一期間を１四半期と考えた場合，ショック項の影響は`(50-5)/4=11.25`年経った後でも残っていることになる。persistenceと呼ばれるこのような性質が景気循環を理解する上で重要な鍵となる。"
   ]
  },
  {
   "cell_type": "markdown",
   "metadata": {
    "heading_collapsed": true,
    "hidden": true
   },
   "source": [
    "#### コードを１つのセルにまとめる"
   ]
  },
  {
   "cell_type": "markdown",
   "metadata": {
    "hidden": true
   },
   "source": [
    "今までの説明では，それぞれのステップ毎にセル内でコードを書き実行した。しかし，一旦コードにエラーがないと確認できた後は，1つのセルにコードをまとめることを勧める。例えば，パラメーターの値を変えて様々なパターンの結果を確認したいとしよう。1つのセルにコードをまとめると１回のコードの実行で結果を表示できる便利さがある。"
   ]
  },
  {
   "cell_type": "code",
   "execution_count": null,
   "metadata": {
    "hidden": true
   },
   "outputs": [],
   "source": [
    "# パラメーターの値\n",
    "parameters = pd.Series({'rho':0.9,\n",
    "                        'sigma':0.0078**2})\n",
    "\n",
    "# 変数のリスト\n",
    "var_names = ['a']\n",
    "shock_names = ['u']\n",
    "\n",
    "# 定常状態での均衡の関数\n",
    "def equilibrium_equations(variables_forward, variables_current, parameters):\n",
    "    fwd = variables_forward    \n",
    "    cur = variables_current\n",
    "    p = parameters\n",
    "\n",
    "    tfp = cur['a']**p['rho']/fwd['a']-1\n",
    "    \n",
    "    return np.array([tfp])\n",
    "\n",
    "# モデルの初期化\n",
    "tfp_model = ls.model(equations = equilibrium_equations,\n",
    "                     variables = var_names,\n",
    "                     exo_states = 'a',\n",
    "                     # endo_states = None,   # 内生変数(stock)\n",
    "                     # costates = None,      # 内生変数(control)\n",
    "                     shock_names=shock_names,\n",
    "                     parameters = parameters)\n",
    "\n",
    "# 定常状態の計算\n",
    "tfp_model.compute_ss([1.1])\n",
    "ss = tfp_model.ss\n",
    "print(f'定常値\\n{ss.index[0]}: {ss.iloc[0]:.3f}\\n')\n",
    "\n",
    "# 対数線形近似\n",
    "tfp_model.approximate_and_solve()\n",
    "print('対数線形近似\\n', tfp_model.solved().split('\\n\\n')[1], sep='')\n",
    "\n",
    "# インパルス反応の計算\n",
    "tfp_model.impulse(T=50, t0=5, shocks={'u':0.05})\n",
    "\n",
    "# プロット\n",
    "( 100*tfp_model.irs['u'] ).plot(lw=3, alpha=0.5, grid=True)\n",
    "pass"
   ]
  },
  {
   "cell_type": "markdown",
   "metadata": {
    "heading_collapsed": true,
    "hidden": true
   },
   "source": [
    "#### 確率的シミュレーション"
   ]
  },
  {
   "cell_type": "markdown",
   "metadata": {
    "hidden": true
   },
   "source": [
    "インパルス反応は，ある一期間のみにショック項が変化する場合の分析となる。一つのショックの時系列的な効果を検討する上では有用な手法である。一方で，実際経済ではショックが断続的もしくは連続的に発生していると考えることができる。そのような状況を捉えた**確率的シミュレーション**をおこなおうというのが，ここでの目的である。\n",
    "\n",
    "`linearmodels`には，そのためのメソッド`.stoch_sim()`が実装されている。\n",
    "* 主な引数：\n",
    "    1. `seed` (オプション): `Numpy.random`を使いランダム変数を発生させるが，`seed`とはランダム変数の「種」という意味である。`seed`に同じ数字を設定すると同じランダム変数が生成されることになる。同じ「種」からは同じランダム変数を発生させることができる，ということである。\n",
    "    1. `T`：シミュレーションの期間（デフォルトは51）\n",
    "    1. `covariance_matrix`：ショック変数の分散共分散行列\n",
    "        * ショック変数が１つの場合は分散を`[[0.5]]`のようにリストのリストで設定する。（デフォルトは`[[1]]`）\n",
    "        * ショック変数が複数の場合は`[[0.5,0.1],[0.1,2]]`のようなパターンで設定する。（デフォルトは`[[1,0],[0,1]]`）この例で，`0.5`と`2`が２つのショック項の分散であり，`0.1`が共分散となる。\n",
    "*　戻り値：\n",
    "    * なし\n",
    "    * 結果は`tfp_model`に`DataFrame`として追加され，属性`simulated`で抽出できる。"
   ]
  },
  {
   "cell_type": "code",
   "execution_count": null,
   "metadata": {
    "hidden": true
   },
   "outputs": [],
   "source": [
    "tfp_model.stoch_sim(seed=12345, T=200,\n",
    "                    covariance_matrix=[[parameters['sigma']]],\n",
    "                    )"
   ]
  },
  {
   "cell_type": "markdown",
   "metadata": {
    "hidden": true
   },
   "source": [
    "結果の一部を表示してみる。"
   ]
  },
  {
   "cell_type": "code",
   "execution_count": null,
   "metadata": {
    "hidden": true
   },
   "outputs": [],
   "source": [
    "tfp_model.simulated.head()"
   ]
  },
  {
   "cell_type": "markdown",
   "metadata": {
    "hidden": true
   },
   "source": [
    "図示してみよう。"
   ]
  },
  {
   "cell_type": "code",
   "execution_count": null,
   "metadata": {
    "hidden": true
   },
   "outputs": [],
   "source": [
    "tfp_model.simulated.plot()\n",
    "pass"
   ]
  },
  {
   "cell_type": "markdown",
   "metadata": {
    "hidden": true
   },
   "source": [
    "ショック項`u`は細かく上下している一方，`a`は持続的に上昇もしくは減少し定常値`0`から乖離することがわかる。景気循環におけるマクロ変数の動きと似ていいる様に見えないだろうか。"
   ]
  },
  {
   "cell_type": "markdown",
   "metadata": {
    "heading_collapsed": true,
    "hidden": true,
    "jp-MarkdownHeadingCollapsed": true,
    "tags": [
     "remove-cell"
    ]
   },
   "source": [
    "### コメント"
   ]
  },
  {
   "cell_type": "markdown",
   "metadata": {
    "hidden": true,
    "tags": [
     "remove-cell"
    ]
   },
   "source": [
    "式[](eq:14-tfp)の両辺に対数をとると次式となる。\n",
    "\n",
    "$$\n",
    "\\log(A_{t+1}) = \\log(A_t) + u_{t+1}\n",
    "$$\n",
    "\n",
    "この式に基づいて次のようにしても結果は同じである\n",
    "\n",
    "* ステップ３の(4)を次のコードと入れ替える。\n",
    "\n",
    "    ```tfp = p['rho']*np.log(cur['a'])-np.log(fwd['a'])```\n",
    "    \n",
    "    \n",
    "* ステップ６を\n",
    "\n",
    "   ```tfp_model.approximate_and_solve(log_linear=False)```\n",
    "   \n",
    "   もしくは\n",
    "   \n",
    "   ```tfp_model.approximate_and_solve()```\n",
    "   \n",
    "   にする。ここで`log_linear`は対数線形近似をおこなうかどうかを設定する引数であり，デフォルトは`True`。`False`の場合は線形近似となる。"
   ]
  },
  {
   "cell_type": "markdown",
   "metadata": {
    "jp-MarkdownHeadingCollapsed": true
   },
   "source": [
    "## 確率的ソロー・モデル"
   ]
  },
  {
   "cell_type": "markdown",
   "metadata": {},
   "source": [
    "次の例としてTFPが確率的に変動するソロー・モデルを考えよう。均衡は次の３つの式で表される。\n",
    "\n",
    "$$\n",
    "Y_t = A_t K_t^{\\alpha}\n",
    "$$ (eq:14-prod_fn)\n",
    "\n",
    "$$\n",
    "K_{t+1} = sY_t + (1-d) K_t\n",
    "$$ (eq:14-capital_accum)\n",
    "\n",
    "$$\n",
    "\\log A_{t+1} = \\rho \\log A_t + u_{t+1}\n",
    "$$ (eq:14-tfplog)\n",
    "\n",
    "[](eq:14-tfplog)式は全要素生産性の変動を表しており，[](eq:14-tfp)式と同じである。また$u_{t}\\sim\\mathcal{N}(0,\\sigma^2)$とする。\n",
    "\n",
    "* ストック変数：$K_t$, $A_t$\n",
    "* フロー変数：$Y_t$\n",
    "* 内生変数：$K_t$, $A_t$, $Y_t$\n",
    "* ショック変数：$u_t$"
   ]
  },
  {
   "cell_type": "markdown",
   "metadata": {
    "heading_collapsed": true,
    "jp-MarkdownHeadingCollapsed": true
   },
   "source": [
    "### ステップ１：パラメータの値"
   ]
  },
  {
   "cell_type": "markdown",
   "metadata": {
    "hidden": true
   },
   "source": [
    "４つパラメータの値を入れた`Series`を変数`parameter`に割り当てる。"
   ]
  },
  {
   "cell_type": "code",
   "execution_count": null,
   "metadata": {
    "hidden": true
   },
   "outputs": [],
   "source": [
    "parameters = pd.Series({'alpha':0.36,\n",
    "                        's':0.1,\n",
    "                        'd':0.07,\n",
    "                        'rho':0.551,\n",
    "                        'sigma':0.0078**2})\n",
    "parameters"
   ]
  },
  {
   "cell_type": "markdown",
   "metadata": {
    "hidden": true
   },
   "source": [
    "ここでは辞書を使って`Series`を作成している。`rho`と`sigma`の値は日本のTFPに関して計算した数値を設定している。"
   ]
  },
  {
   "cell_type": "markdown",
   "metadata": {
    "heading_collapsed": true,
    "jp-MarkdownHeadingCollapsed": true
   },
   "source": [
    "### ステップ２：変数リスト"
   ]
  },
  {
   "cell_type": "markdown",
   "metadata": {
    "hidden": true
   },
   "source": [
    "内生変数名のリスをを作成する。その際，次の順番で並べる。\n",
    "* ショック項が**ある**ストック変数（内生変数）の変数名\n",
    "* ショック項が**ない**ストック変数（内生変数）の変数名\n",
    "* フロー変数（他の内生変数）の変数名\n",
    "\n",
    "また対数線形近似されることを念頭に小文字で変数名を設定することにする。"
   ]
  },
  {
   "cell_type": "code",
   "execution_count": null,
   "metadata": {
    "hidden": true
   },
   "outputs": [],
   "source": [
    "var_names = ['a','k','y']"
   ]
  },
  {
   "cell_type": "markdown",
   "metadata": {
    "hidden": true
   },
   "source": [
    "次に，外生的ショックを表す変数名のリストを作成する。複数ある場合は，`var_names`と同じ順番に並べる。この例では，`a`のみにショック項があるので次のようにする。"
   ]
  },
  {
   "cell_type": "code",
   "execution_count": null,
   "metadata": {
    "hidden": true
   },
   "outputs": [],
   "source": [
    "shock_names = ['u']"
   ]
  },
  {
   "cell_type": "markdown",
   "metadata": {
    "heading_collapsed": true,
    "jp-MarkdownHeadingCollapsed": true
   },
   "source": [
    "### ステップ３：定常状態での均衡条件の関数"
   ]
  },
  {
   "cell_type": "markdown",
   "metadata": {
    "hidden": true
   },
   "source": [
    "非確率的定常状態での値を返す関数を作成する。関数名は`equilibrium_equations`とする。この例での非確率的定常状態では次の条件を満たしている。\n",
    "\n",
    "$$\n",
    "A_{t+1}=A_t,\\quad K_{t+1}=K_t\\quad Y_{t+1}=Y_t\\quad u_t=0\n",
    "$$\n",
    "\n",
    "* 引数：\n",
    "    * `variables_forward`: $t+1$期（来期）の変数\n",
    "    * `variables_current`: $t$期（当該期）の変数\n",
    "    * ステップ１で設定したパラメータの値を含む`parameters`\n",
    "* 返り値：\n",
    "    * （非確率的）定常状態での内生変数の値を格納する`Numpy`の`array`"
   ]
  },
  {
   "cell_type": "code",
   "execution_count": null,
   "metadata": {
    "hidden": true
   },
   "outputs": [],
   "source": [
    "def equilibrium_equations(variables_forward, variables_current, parameters):\n",
    "    \n",
    "    fwd = variables_forward    #1\n",
    "    \n",
    "    cur = variables_current    #2    \n",
    "    \n",
    "    p = parameters             #3\n",
    "\n",
    "    tfp = p['rho']*np.log(cur['a'])-np.log(fwd['a'])   #4\n",
    "    \n",
    "    production_function = cur['a']*cur['k']**p['alpha'] - cur['y']   #5\n",
    "    \n",
    "    capital_change = p['s']*cur['a']*cur['k']**p['alpha'] + \\\n",
    "                     (1-p['d'])*cur['k'] - fwd['k']              #6\n",
    "    \n",
    "    return np.array([tfp, production_function, capital_change])  #7"
   ]
  },
  {
   "cell_type": "markdown",
   "metadata": {
    "hidden": true
   },
   "source": [
    "＜コードの説明＞\n",
    "* `#1`： t+1期の変数を`fwd`に割り当てる。\n",
    "* `#2`： t期の変数を`cur`に割り当てる。\n",
    "* `#3`： ステップ１の`parameters`を`p`に割り当てる。\n",
    "* `#4`： （非確率的）定常状態でのTFPの式を使い，左辺が0になるように整理し，その右辺を`tfp`に割り当てる。\n",
    "\n",
    "    $$\n",
    "    \\begin{align*}\n",
    "    \\log(A_{t+1})\n",
    "    &=\\rho\\log(A_t) \\\\\n",
    "    &\\Downarrow \\\\        \n",
    "    0\n",
    "    &=\\rho\\log(A_{t})-\\log(A_{t+1})\n",
    "    \\end{align*}\n",
    "    $$\n",
    "    \n",
    "    * ステップ４で`equilbirium_equations`関数を単に指定するだけだが， `linearmodels`は`cur`と`fwd`を`Series`として扱うことになるため，変数を`['a']`の形で指定する必要がある。\n",
    "\n",
    "* `#5`： 生産関数の式を使い，左辺が0になるように整理し，その右辺を`production_function`に割り当てる。\n",
    "\n",
    "    $$\n",
    "    \\begin{align*}\n",
    "    Y_{t}&=A_tK_t^{a} \\\\\n",
    "    &\\Downarrow \\\\\n",
    "    0&=A_tK_t^{a}-Y_t\n",
    "    \\end{align*}\n",
    "    $$\n",
    "    \n",
    "    \n",
    "* `#6`： 資本の蓄積方程式を使い，左辺が0になるように整理し，その右辺を`capital_change`に割り当てる。\n",
    "\n",
    "    $$\n",
    "    \\begin{align*}\n",
    "    K_{t+1}&=sA_tK_t^{a}+(1-d)K_t \\\\\n",
    "    &\\Downarrow \\\\\n",
    "    0&=sA_tK_t^{a}+(1-d)K_t-K_{t+1}\n",
    "    \\end{align*}\n",
    "    $$\n",
    "    \n",
    "\n",
    "* `#7`： `#4`〜`#6`の値を`array`として返す。"
   ]
  },
  {
   "cell_type": "markdown",
   "metadata": {
    "heading_collapsed": true,
    "jp-MarkdownHeadingCollapsed": true
   },
   "source": [
    "### ステップ４：モデルの最終準備（初期化）"
   ]
  },
  {
   "cell_type": "markdown",
   "metadata": {
    "hidden": true
   },
   "source": [
    "`ls`の`model`という関数を使いシミュレーションの最終準備をおこない（初期化し），`solow_model`に割り当てる。\n",
    "\n",
    "* 引数：\n",
    "    * `equations`：ステップ２で定義した関数を指定する。\n",
    "    * `variables`：ステップ２で設定した内生変数のリストを指定する。\n",
    "    * `exo_states`：ショック項があるストック変数名を指定する。複数の場合はリストとして指定する。\n",
    "        * この例ではストック変数は`A`のみなので`a`を指定する。\n",
    "    * `endo_state`：ショック項がないストック変数名を指定する。複数の場合はリストとして指定する。\n",
    "        * この例ではないので書く必要はない。\n",
    "    * `costates`：コントロール変数名を指定する。複数の場合はリストとして指定する。\n",
    "        * この例ではないので書く必要はない。\n",
    "    * `shock_names`：ステップ２で設定したショック変数のリストを指定する。\n",
    "        * この引数は必須ではなく，指定しなければ自動的に変数名（例えば，`e_a`）が使われる。\n",
    "    * `parameters`：ステップ１で設定したパラメータの値を含む`Series`を指定する。\n",
    "* 戻り値：\n",
    "    * `linearsolve`の`model`オブジェクトが返される。その中に様々な情報が含まれており，それを使いシミュレーションをおこなう。"
   ]
  },
  {
   "cell_type": "code",
   "execution_count": null,
   "metadata": {
    "hidden": true
   },
   "outputs": [],
   "source": [
    "solow_model = ls.model(equations = equilibrium_equations,\n",
    "                       variables = var_names,\n",
    "                       exo_states = 'a',\n",
    "                       endo_states = 'k',\n",
    "                       costates = 'y',\n",
    "                       shock_names=shock_names,\n",
    "                       parameters = parameters)"
   ]
  },
  {
   "cell_type": "markdown",
   "metadata": {
    "heading_collapsed": true,
    "jp-MarkdownHeadingCollapsed": true
   },
   "source": [
    "### ステップ５：定常状態の計算"
   ]
  },
  {
   "cell_type": "markdown",
   "metadata": {
    "hidden": true
   },
   "source": [
    "最初に定常状態の値を確認しよう。`solow_model`のメソッド`compute_ss()`を使うと自動で計算してくれる。その際，引数に計算の初期値をリストとして与える。ステップ２で設定した`var_names`の順番に合わせて初期値を並べる。"
   ]
  },
  {
   "cell_type": "code",
   "execution_count": null,
   "metadata": {
    "hidden": true
   },
   "outputs": [],
   "source": [
    "solow_model.compute_ss([1, 5, 2])"
   ]
  },
  {
   "cell_type": "markdown",
   "metadata": {
    "hidden": true
   },
   "source": [
    "上のコードを評価すると，`solow_model`には`.ss`という属性が追加され，それを使い計算結果を表示できる。"
   ]
  },
  {
   "cell_type": "code",
   "execution_count": null,
   "metadata": {
    "hidden": true
   },
   "outputs": [],
   "source": [
    "solow_model.ss"
   ]
  },
  {
   "cell_type": "markdown",
   "metadata": {
    "heading_collapsed": true,
    "jp-MarkdownHeadingCollapsed": true
   },
   "source": [
    "### ステップ６：モデルを対数線形近似"
   ]
  },
  {
   "cell_type": "markdown",
   "metadata": {
    "hidden": true
   },
   "source": [
    "次にシミュレーションのための対数線形近似をおこなう。`solow_model`には`.approximate_and_solve()`というメソッドが用意されており，それを評価すると`solow_model`に対数線形近似の結果が追加される。"
   ]
  },
  {
   "cell_type": "code",
   "execution_count": null,
   "metadata": {
    "hidden": true
   },
   "outputs": [],
   "source": [
    "solow_model.approximate_and_solve()"
   ]
  },
  {
   "cell_type": "code",
   "execution_count": null,
   "metadata": {
    "hidden": true
   },
   "outputs": [],
   "source": [
    "print(solow_model.solved())"
   ]
  },
  {
   "cell_type": "markdown",
   "metadata": {
    "hidden": true
   },
   "source": [
    "ここで`a`，`k`，`y`は定常状態からの％乖離を表している。これらの式が「モデルを解いた結果」を示しており，次の特徴がある。\n",
    "* ２つのストック変数（`a`と`k`）の`t+1`期の値は，`t`期の値と`t+1`期のショックに依存している。\n",
    "* フロー変数の値はストック変数の値のみに依存しており，**Policy Function**と呼ばれる。\n",
    "\n",
    "`t`期のストック変数と`t+1`期のショック変数の値が分かれば，`t+1`期の全ての変数の値が明らかになる体系になっている。例えば，`t=0`期が定常状態（`a[0]=k[0]=y[0]`）として`t=1`期にショック項`u[1]`が`1%`上昇したとしよう。上の式から`u[1]=a[1]=y[1]=1%`となることが分かる。"
   ]
  },
  {
   "cell_type": "markdown",
   "metadata": {
    "jp-MarkdownHeadingCollapsed": true
   },
   "source": [
    "### ステップ７：シミュレーション結果の表示"
   ]
  },
  {
   "cell_type": "markdown",
   "metadata": {
    "heading_collapsed": true,
    "jp-MarkdownHeadingCollapsed": true
   },
   "source": [
    "#### インパルス反応"
   ]
  },
  {
   "cell_type": "markdown",
   "metadata": {
    "hidden": true
   },
   "source": [
    "`t=0`期は定常状態で`a[0]=k[0]=y[0]=0`としよう。そして`t=1`期にショック項が`1％`上昇し（`u[1]=1%`），その後`0`に戻ると仮定しよう。この場合，\n",
    "* `a[1]=y[1]=1%`であり，`k[1]=0`となる事が分かる。これがインパクト効果である。\n",
    "* インパクト後，`a[2]=0.551・a[1]`，`k[2]=0.07・a[2]`，`y[2]=a[2]+0.35・k[2]`となり時間が経つに連れて変化することになる。\n",
    "\n",
    "このインパルス反応を計算して図示してみよう。"
   ]
  },
  {
   "cell_type": "markdown",
   "metadata": {
    "heading_collapsed": true,
    "jp-MarkdownHeadingCollapsed": true
   },
   "source": [
    "#### インパルス反応の計算と図示"
   ]
  },
  {
   "cell_type": "markdown",
   "metadata": {
    "hidden": true
   },
   "source": [
    "ホワイト・ノイズのショック$u_t$のインパルス反応を計算するには，`solow_model`のメソッド`impulse()`を使う。引数は次の３つとなる。\n",
    "* `T`：シミュレーションのの期間\n",
    "* `t0`：何期目にショックが発生するかを指定\n",
    "* `shocks`：ショックの大きさ（％）（デフォルトは0.01）"
   ]
  },
  {
   "cell_type": "code",
   "execution_count": null,
   "metadata": {
    "hidden": true
   },
   "outputs": [],
   "source": [
    "solow_model.impulse(T=50, t0=5)"
   ]
  },
  {
   "cell_type": "markdown",
   "metadata": {
    "hidden": true
   },
   "source": [
    "計算結果は`solow_model`に辞書として追加される。\n",
    "* キー：ショックの変数名`u`\n",
    "* 値：ショック変数と内生変数の`DataFrame`\n",
    "\n",
    "辞書は属性`.irs`でアクセスできるので，キー`u`を使い`DataFrame`を表示してみよう。"
   ]
  },
  {
   "cell_type": "code",
   "execution_count": null,
   "metadata": {
    "hidden": true
   },
   "outputs": [],
   "source": [
    "solow_model.irs['u'].head(9)"
   ]
  },
  {
   "cell_type": "markdown",
   "metadata": {
    "hidden": true
   },
   "source": [
    "`5`番目の行で`u`は`1.0`になっている。同様に，`a`と`y`も`1.0`にジャンプしているが，資本ストックの％乖離である`k`は，`5`番目の行で`0`のままである。これは式[](eq:14-capital_accum)が示すように，`t`期の産出`Y`の変化は`t+1`期の資本ストックに影響を与えており，時間的なラグが発生しているためである。また`6`行目から`k`は徐々に増加していることがわかる。この結果は，資本ストックの変化には時間がかかるという特徴を反映したものといえる。\n",
    "\n",
    "プロットしてみよう。"
   ]
  },
  {
   "cell_type": "code",
   "execution_count": null,
   "metadata": {
    "hidden": true
   },
   "outputs": [],
   "source": [
    "( 100*solow_model.irs['u'] ).plot(subplots=True, figsize=(6,8), grid=True)\n",
    "pass"
   ]
  },
  {
   "cell_type": "markdown",
   "metadata": {
    "hidden": true
   },
   "source": [
    "産出と資本ストックの％乖離の変化は大きく異なる。動物で例えると，産出はカモシカのように動きが素早いが，資本ストックは象のように動きがスローである。前者はフロー変数であり，後者はストック変数であるためであり，それぞれの変数の特徴が反映されたプロットとなっている。"
   ]
  },
  {
   "cell_type": "markdown",
   "metadata": {
    "jp-MarkdownHeadingCollapsed": true
   },
   "source": [
    "#### コードを１つのセルにまとめる"
   ]
  },
  {
   "cell_type": "markdown",
   "metadata": {},
   "source": [
    "ここでは上のコードを一つのセルにまとめて，全てを同時に実行し結果を表示してみよう。"
   ]
  },
  {
   "cell_type": "code",
   "execution_count": null,
   "metadata": {},
   "outputs": [],
   "source": [
    "# パラメーターの値\n",
    "parameters = pd.Series({'alpha':0.36,\n",
    "                        's':0.1,\n",
    "                        'd':0.07,\n",
    "                        'rho':0.551,\n",
    "                        'sigma':0.0078**2})\n",
    "\n",
    "# 変数名\n",
    "var_names = ['a','k','y']\n",
    "shock_names = ['u']\n",
    "\n",
    "# 定常状態での均衡の関数\n",
    "def equilibrium_equations(variables_forward, variables_current, parameters):    \n",
    "    fwd = variables_forward\n",
    "    cur = variables_current\n",
    "    p = parameters\n",
    "    \n",
    "    tfp = p['rho']*np.log(cur['a'])-np.log(fwd['a'])\n",
    "    \n",
    "    production_function = cur['a']*cur['k']**p['alpha'] - cur['y']\n",
    "    \n",
    "    capital_change = p['s']*cur['a']*cur['k']**p['alpha'] + \\\n",
    "                     (1-p['d'])*cur['k'] - fwd['k']\n",
    "    \n",
    "    return np.array([tfp, production_function, capital_change])\n",
    "\n",
    "# モデルの初期化\n",
    "solow_model = ls.model(equations = equilibrium_equations,\n",
    "                       exo_states = ['a'],\n",
    "                       endo_states = ['k'],\n",
    "                       costates = ['y'],\n",
    "                       shock_names=['u'],\n",
    "                       parameters = parameters)\n",
    "\n",
    "# 定常状態の計算\n",
    "solow_model.compute_ss([1,5,2])\n",
    "print('定常値')\n",
    "for i in range(len(solow_model.ss)):\n",
    "    print(f'{solow_model.ss.index[i]}: {solow_model.ss.iloc[i]:.3f}')\n",
    "print('')\n",
    "\n",
    "# 対数線形近似\n",
    "solow_model.approximate_and_solve()\n",
    "print('対数線形近似')\n",
    "for s in solow_model.solved().split('\\n\\n')[1:]:\n",
    "    print(s, sep='')\n",
    "\n",
    "# インパルス反応の計算\n",
    "solow_model.impulse(T=50, t0=5)\n",
    "\n",
    "# プロット\n",
    "(100*solow_model.irs['u']).plot(subplots=True, layout=[2,2],\n",
    "                          figsize=(10,5), grid=True)\n",
    "pass"
   ]
  },
  {
   "cell_type": "markdown",
   "metadata": {
    "jp-MarkdownHeadingCollapsed": true
   },
   "source": [
    "#### 確率的シミュレーション"
   ]
  },
  {
   "cell_type": "markdown",
   "metadata": {},
   "source": [
    "次にメソッド`.stoch_sim()`を使って確率的シミュレーションをおこなってみよう。\n",
    "* 主な引数：\n",
    "    1. `seed` (オプション): `Numpy.random`を使いランダム変数を発生させるが，seedとはランダム変数の「種」という意味。`seed`に同じ数字を設定すると同じランダム変数が生成されることになる。\n",
    "    1. `T`：シミュレーションの期間（デフォルトは51）\n",
    "    1. `cov_mat`：ショック変数の分散共分散行列\n",
    "        * ショック変数が１つの場合は分散を`[[0.5]]`のようにリストのリストで設定する。（デフォルトは`[[1]]`）\n",
    "*　返り値：\n",
    "    * なし\n",
    "    * 結果は`solow_model`に`DataFrame`として追加され，属性`simulated`で抽出できる。"
   ]
  },
  {
   "cell_type": "markdown",
   "metadata": {},
   "source": [
    "ショック項`u`の分散の値は0.0078であり，これは日本のTFPを推定した際の残差の分散である。この値を使ってシミュレーションをおこなおう。"
   ]
  },
  {
   "cell_type": "code",
   "execution_count": null,
   "metadata": {},
   "outputs": [],
   "source": [
    "solow_model.stoch_sim(seed=12345, T=200,\n",
    "                      covariance_matrix=[parameters['sigma']],\n",
    "                      )"
   ]
  },
  {
   "cell_type": "markdown",
   "metadata": {},
   "source": [
    "結果の一部を表示してみる。"
   ]
  },
  {
   "cell_type": "code",
   "execution_count": null,
   "metadata": {},
   "outputs": [],
   "source": [
    "solow_model.simulated.head()"
   ]
  },
  {
   "cell_type": "markdown",
   "metadata": {},
   "source": [
    "```{warning}\n",
    "この`DataFrame`の値はランダム変数を発生させて計算した結果である。従って，引数`seed`を設定しない場合は，シミュレーションを実行する度に異なる結果が発生する。しかし，以下で示す表や値はシミュレーションを行うごとに異なる結果となるが，方向性としては概ね変わらない。\n",
    "```"
   ]
  },
  {
   "cell_type": "markdown",
   "metadata": {},
   "source": [
    "`DataFrame`を図示してみよう。"
   ]
  },
  {
   "cell_type": "code",
   "execution_count": null,
   "metadata": {},
   "outputs": [],
   "source": [
    "ax_ = ( 100* solow_model.simulated[['a','u']] ).plot(subplots=True,\n",
    "                                                     layout=(1,2),\n",
    "                                                     grid=True,\n",
    "                                                     figsize=(12,4),\n",
    "                                                     color='k')\n",
    "( 100*solow_model.simulated[['k','y']] ).plot(grid=True, ax=ax_[0,0])\n",
    "pass"
   ]
  },
  {
   "cell_type": "markdown",
   "metadata": {},
   "source": [
    "この図の特徴：\n",
    "* `a`と`y`の動きは殆ど同じである。また上下の動きはが激しく，定常値`0`を跨いだ動きが多い。\n",
    "* `k`の動きは緩やか。定常値`0`からの乖離の方向が比較的に長く持続する傾向にある。即ち，persistenceの特徴が強い。\n",
    "\n",
    "変動の大きさを確認するために標準偏差を計算してみよう。"
   ]
  },
  {
   "cell_type": "code",
   "execution_count": null,
   "metadata": {},
   "outputs": [],
   "source": [
    "solow_model.simulated[['y','k','a']].std()"
   ]
  },
  {
   "cell_type": "markdown",
   "metadata": {},
   "source": [
    "`a`と`y`の値はは殆ど同じである。一方，`k`の標準偏差は小さく，`a`と`y`の半分以下である。この特徴は相関係数からも確認できる。"
   ]
  },
  {
   "cell_type": "code",
   "execution_count": null,
   "metadata": {},
   "outputs": [],
   "source": [
    "solow_model.simulated[['y','k','a']].corr()"
   ]
  },
  {
   "cell_type": "markdown",
   "metadata": {},
   "source": [
    "`y`と`a`の相関は非常に高く，`k`との相関は低い。また，３つの変数は正の相関があることがわかる。\n",
    "\n",
    "次にpersistenceを考えてみよう。`k`の変動幅は小さいががpersistenceが大きいことが図から確認できる。実際に自己相関係数で確認してみよう。"
   ]
  },
  {
   "cell_type": "code",
   "execution_count": null,
   "metadata": {},
   "outputs": [],
   "source": [
    "var_list = ['y','k','a']\n",
    "\n",
    "for v in var_list:\n",
    "    ac = solow_model.simulated[v].autocorr()\n",
    "    print(v,f': {ac:.3f}')"
   ]
  },
  {
   "cell_type": "markdown",
   "metadata": {},
   "source": [
    "`y`と`a`に比べて`k`の自己相関係数が非常に高いことがわかる。"
   ]
  }
 ],
 "metadata": {
  "celltoolbar": "Tags",
  "kernelspec": {
   "display_name": "py11",
   "language": "python",
   "name": "py11"
  },
  "language_info": {
   "codemirror_mode": {
    "name": "ipython",
    "version": 3
   },
   "file_extension": ".py",
   "mimetype": "text/x-python",
   "name": "python",
   "nbconvert_exporter": "python",
   "pygments_lexer": "ipython3",
   "version": "3.11.9"
  }
 },
 "nbformat": 4,
 "nbformat_minor": 4
}
