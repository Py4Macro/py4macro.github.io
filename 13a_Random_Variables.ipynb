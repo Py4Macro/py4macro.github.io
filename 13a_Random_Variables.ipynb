{
 "cells": [
  {
   "cell_type": "markdown",
   "metadata": {},
   "source": [
    "# ランダム変数と統計的特徴"
   ]
  },
  {
   "cell_type": "markdown",
   "metadata": {},
   "source": [
    "<div name=\"html-admonition\" style=\"font-size: 0.8em\">\n",
    "<input type=\"button\" onclick=\"location.href='https://translate.google.com/translate?hl=&sl=ja&tl=en&u='+window.location;\" value=\"Google translation\" style=\"color:#ffffff;background-color:#008080; height:25px\" onmouseover=\"this.style.background='#99ccff'\" onmouseout=\"this.style.background='#008080'\"/> in English or the language of your choice.\n",
    "</div><br>"
   ]
  },
  {
   "cell_type": "code",
   "execution_count": null,
   "metadata": {},
   "outputs": [],
   "source": [
    "import numpy as np\n",
    "import pandas as pd\n",
    "import statsmodels.formula.api as smf\n",
    "\n",
    "import japanize_matplotlib\n",
    "import py4macro\n",
    "\n",
    "# numpy v1の表示を使用\n",
    "np.set_printoptions(legacy='1.21')\n",
    "# 警告メッセージを非表示\n",
    "import warnings\n",
    "warnings.filterwarnings(\"ignore\")"
   ]
  },
  {
   "cell_type": "markdown",
   "metadata": {
    "jp-MarkdownHeadingCollapsed": true
   },
   "source": [
    "## はじめに"
   ]
  },
  {
   "cell_type": "markdown",
   "metadata": {},
   "source": [
    "この章以降では短期的なマクロ経済分析について議論し、特に、景気循環の発生メカニズムの理解が大きな目的である。\n",
    "本章は、その最初の章であり、分析の大前提となるランダム変数について説明し、マクロ経済分析において重要となる統計的な特徴について復習する。"
   ]
  },
  {
   "cell_type": "markdown",
   "metadata": {},
   "source": [
    "GDPや消費などのマクロ変数は右上がりの長期的なトレンドがある。\n",
    "また、失業率やインフレ率に関しても長期的なトレンドを考えることもできる。\n",
    "トレンドの詳細については後に議論するとして、トレンドの周りをマクロ変数が変動し、それが景気循環だと解釈できる。\n",
    "下の図では、日本のGDPの長期的トレンドからの乖離をパーセントで表している。\n",
    "波打つように上下に、時には小刻みに、また時には大きく乱高下しているように見える。"
   ]
  },
  {
   "cell_type": "code",
   "execution_count": null,
   "metadata": {
    "editable": true,
    "hidden": true,
    "slideshow": {
     "slide_type": ""
    },
    "tags": [
     "hide-input"
    ]
   },
   "outputs": [],
   "source": [
    "# データの読み込み\n",
    "df = py4macro.data('jpn-q')\n",
    "\n",
    "# トレンドからの％乖離のデータの作成\n",
    "df['gdp_cycle'] = 100 * (\n",
    "    np.log( df['gdp'] ) - py4macro.trend( np.log(df['gdp']) )\n",
    ")\n",
    "\n",
    "# プロット\n",
    "# ax = df.plot(y='gdp_cycle')\n",
    "ax = df['gdp_cycle'].plot()\n",
    "ax.set_title('GDPのトレンドからの乖離（％）', size=20)\n",
    "ax.axhline(0, c='red')\n",
    "pass"
   ]
  },
  {
   "cell_type": "markdown",
   "metadata": {
    "hidden": true
   },
   "source": [
    "このようなGDPの変動を説明する方法として２つある。\n",
    "1. 決定的（deterministic）な過程で生成された時系列として捉える。\n",
    "1. ランダム（stochastic）な過程で生成された時系列として捉える。\n",
    "\n",
    "１の考えによると，差分方程式$x_{t+1}=f(x_t)$のように来期のGDPは今期のGDPに依存している。マクロ変数の持続性を捉えるには必要不可欠な特徴と言えるだろう。しかし，今期のGDP（$x_t$）が与えられると来期のGDP（$x_{t+1}$）は自ずと決定さることになり，来期のGDPの予測は簡単なものとなる。もしそうであれば政策運営は非常に簡単であろうが，現実はそうではない。そういう意味では，１は現実を十分に捉えることができていない。\n",
    "\n",
    "一方，２の考えはランダム変数の実現値の連続としてGDPが観測され，今期のGDPが与えられても来期のGDPにはランダムな要素があるため，予測が難しいという特徴がある。この特徴こそが，マクロ変数の性質を捉えるには必要な要素であり，上のプロットに現れていると考えられる。主流のマクロ経済学では，消費者や企業の行動はフォーワード・ルッキングであり（将来を見据えた最適化行動であり），且つ経済全体ではランダムな（不確実な）要素が重要な役割を果たしているという考え基づいている。そのような分析枠組みの中で，景気循環のメカニズムを解明することが目的となっている。\n",
    "\n",
    "以下では，まず，ランダム変数について復習し、マクロ変数を捉えるにはどのようなランダム変数生成過程が妥当かを検討する。\n",
    "また、シミュレーションを通して、その統計的特徴を視覚的に確認する。"
   ]
  },
  {
   "cell_type": "markdown",
   "metadata": {},
   "source": [
    "## ランダム変数の統計的特徴：復習"
   ]
  },
  {
   "cell_type": "markdown",
   "metadata": {},
   "source": [
    "### ２つのランダム変数"
   ]
  },
  {
   "cell_type": "markdown",
   "metadata": {
    "jp-MarkdownHeadingCollapsed": true
   },
   "source": [
    "#### 説明"
   ]
  },
  {
   "cell_type": "markdown",
   "metadata": {},
   "source": [
    "`2`つのランダム変数$X_i$と$Y_i$, $i=1,2,3,\\cdots,n$を考えよう。\n",
    "例えば，$X_i$と$Y_i$は$n$個の`2`セットのサイコロ（合計`2`$n$個）を同時に投げた場合の目と考えることができる。\n",
    "また、$X_i$の単位は円であり、$Y_i$はドル表示だとしよう（例えば，$X_i$のサイコロの目が`5`であれば`5`万円，$Y_i$のサイコロの目が`3`であれば`300`ドル）。\n",
    "`2`変数の**不偏分散**は次のように定義される。\n",
    "\n",
    "$$\n",
    "\\sigma_{X}^2=\\frac{1}{n-1}\\sum_{i=1}^{n}\n",
    "\\left(X_i-\\overline{X}\\right)^2\n",
    "\\qquad\n",
    "\\sigma_{Y}^2=\\frac{1}{n-1}\\sum_{i=1}^{n}\n",
    "\\left(Y_i-\\overline{Y}\\right)^2\n",
    "$$\n",
    "\n",
    "ここで$\\overline{X}$と$\\overline{Y}$は平均を表している。\n",
    "（不偏）分散は、各ランダム変数の「散らばりの度合い」を数値化したものであり、$X_i$のの単位は$\\text{円}^2$、$Y_i$の単位は$\\text{ドル}^2$となる。\n",
    "**標準偏差**は不偏分散の平方根である\n",
    "\n",
    "$$\n",
    "\\sigma_{X},\n",
    "\\quad\n",
    "\\sigma_{Y}\n",
    "$$\n",
    "\n",
    "となり、$\\sigma_{X}$の単位は円となり、$\\sigma_{Y}$の単位はドルである。"
   ]
  },
  {
   "cell_type": "markdown",
   "metadata": {},
   "source": [
    "次に、`2`変数の相関を考えたい訳だが、その尺度として共分散が使われ、次のように定義される。\n",
    "\n",
    "$$\n",
    "\\sigma_{XY}=\\frac{1}{n-1}\\sum_{i=1}^{n}\n",
    "\\left(X_i-\\overline{X}\\right)\\left(Y_i-\\overline{Y}\\right)\n",
    "$$\n",
    "\n",
    "符号の解釈：\n",
    "* $\\sigma_{XY}=0$：無相関\n",
    "* $\\sigma_{XY}>0$：正の相関\n",
    "* $\\sigma_{XY}<0$：負の相関\n",
    "\n",
    "共分散の絶対値が大きければ大きい（小さい）程，相関度が高い（低い）ことを意味するが、その値は単位に依存することになる。\n",
    "$\\sigma_{XY}$の単位は円xドルである。\n",
    "\n",
    "また上の定義から次が成立することが簡単に理解できる。\n",
    "\n",
    "$$\n",
    "\\sigma_{XX}=\\sigma_{X}^2,\n",
    "\\qquad\n",
    "\\sigma_{YY}=\\sigma_{Y}^2,\n",
    "$$"
   ]
  },
  {
   "cell_type": "markdown",
   "metadata": {},
   "source": [
    "共分散の特徴は$X_i$と$Y_i$の単位に依存することである。\n",
    "例えば、`2`つのランダム変数$K_i$と$Z_i$の単位がユーロと人民元としよう。\n",
    "$\\sigma_{XY}$と$\\sigma_{KZ}$を計算できるが、単位が異なるため比較には向いていない。\n",
    "その点を克服するのが**相関係数**であり、次のように定義される。\n",
    "\n",
    "$$\n",
    "\\rho_{XY}=\n",
    "\\frac{\\sigma_{XY}}{\\sigma_X\\sigma_Y}\n",
    "$$\n",
    "\n",
    "次の特徴がある。\n",
    "* 分母は必ず正となるので，分子の共分散が符号を決定する。\n",
    "* $\\rho_{XY}$の値は`-1`から`1`の間の値を取り、単位に依存しない。この特徴は、分母に$X$と$Y$の標準偏差の積を積を置く事により分母の単位をキャンセルしているためである。\n",
    "\n",
    "更に、$\\rho_{XX}$を考えてみよう。\n",
    "\n",
    "$$\n",
    "\\rho_{XX}=\n",
    "\\frac{\\sigma_{XX}}{\\sigma_X\\sigma_X}\n",
    "=\\frac{\\sigma_{X}^2}{\\sigma_X^2}\n",
    "=1\n",
    "$$\n",
    "\n",
    "同じ変数は完全に相関するため相関係数は`1`となる。\n",
    "一般的には，$\\rho_{XY}$の絶対値は`1`よりも小さな値となる。\n",
    "相関係数の重要な特徴は単位には依存しないため，単位が異なる変数の相関度を比較するには有用な指標となる。\n",
    "即ち、$\\sigma_{XY}$と$\\sigma_{KZ}$を比較して、どちらが相関度が高いかを容易に確認できることになる。"
   ]
  },
  {
   "cell_type": "markdown",
   "metadata": {},
   "source": [
    "#### `.cov`と`.corr()`"
   ]
  },
  {
   "cell_type": "markdown",
   "metadata": {},
   "source": [
    "共分散と相関係数の違いを説明したが，`DataFrame`を使ってどのように計算するかを説明する。`dfex1`は次のような`DataFrame`になっている。"
   ]
  },
  {
   "cell_type": "code",
   "execution_count": null,
   "metadata": {
    "tags": [
     "hide-input"
    ]
   },
   "outputs": [],
   "source": [
    "def create_example(n):\n",
    "    rng = np.random.default_rng()\n",
    "    df = pd.DataFrame({'X':rng.normal(10, 1, size=n),\n",
    "                       'Y':rng.uniform(0, 100, size=n)})\n",
    "    return df\n",
    "\n",
    "dfex1 = create_example(10)"
   ]
  },
  {
   "cell_type": "code",
   "execution_count": null,
   "metadata": {},
   "outputs": [],
   "source": [
    "dfex1"
   ]
  },
  {
   "cell_type": "markdown",
   "metadata": {
    "hidden": true
   },
   "source": [
    "`DataFrame`には分散と共分散を計算するメソッド`.cov()`が用意されている。\n",
    "結果を`vcov`に割り当てよう。"
   ]
  },
  {
   "cell_type": "code",
   "execution_count": null,
   "metadata": {},
   "outputs": [],
   "source": [
    "vcov1 = dfex1.cov()\n",
    "vcov1"
   ]
  },
  {
   "cell_type": "markdown",
   "metadata": {},
   "source": [
    "`vcov`は分散共分散行列と呼ばれる。\n",
    "左上と右下の対角線上にあるのは、`X`と`Y`の不偏分散（$\\sigma_{X}^2$と$\\sigma_{Y}^2$）である。\n",
    "一方、右上と左下の値（同じ値となる）が共分散（$\\sigma_{XY}$）である。"
   ]
  },
  {
   "cell_type": "markdown",
   "metadata": {},
   "source": [
    "相関係数はメソッド`.corr()`を使って求めることができる。"
   ]
  },
  {
   "cell_type": "code",
   "execution_count": null,
   "metadata": {},
   "outputs": [],
   "source": [
    "dfex1.corr()"
   ]
  },
  {
   "cell_type": "markdown",
   "metadata": {},
   "source": [
    "右上と左下の値（同じ値となる）が相関係数（$\\rho_{XY}$）である。\n",
    "一方、左上の値は`X`と`X`の相関係数（$\\rho_{XX}=1$）であり，右下の対角線上にあるのは、`Y`と`Y`の相関係数（$\\rho_{XX}=1$）である。"
   ]
  },
  {
   "cell_type": "markdown",
   "metadata": {},
   "source": [
    "`vcov1`を使い相関係数を計算することもできる。"
   ]
  },
  {
   "cell_type": "code",
   "execution_count": null,
   "metadata": {},
   "outputs": [],
   "source": [
    "vcov1.loc['X','Y'] / ( vcov1.loc['X','X']**0.5 * vcov1.loc['Y','Y']**0.5 )"
   ]
  },
  {
   "cell_type": "markdown",
   "metadata": {},
   "source": [
    "### 時系列のランダム変数"
   ]
  },
  {
   "cell_type": "markdown",
   "metadata": {
    "jp-MarkdownHeadingCollapsed": true
   },
   "source": [
    "#### 説明"
   ]
  },
  {
   "cell_type": "markdown",
   "metadata": {},
   "source": [
    "マクロ経済学では，時系列データを頻繁に扱うことになる。難しく思う必要はなく，基本的には上で説明した概念を「時系列的」に再解釈するだけで良い。既出のランダム変数$X_i$と$Y_i$，$i=1,2,3,\\cdots,n$を時系列データとして次のように置き換えてみよう。"
   ]
  },
  {
   "cell_type": "markdown",
   "metadata": {},
   "source": [
    "* $X_i\\;\\Rightarrow\\;\\varepsilon_t,\\quad t=0,1,2,3,\\cdots$\n",
    "* $Y_i\\;\\Rightarrow\\;\\varepsilon_{t-1},\\quad t=1,2,3,\\cdots$\n",
    "\n",
    "$X_i$の例として，**同時**に投げた$n$個のサイコロの目と考えることができると説明したが，同じ例を使うとすれば，次のようになるだろう。\n",
    "* $\\varepsilon_0$は第`0`期に投げたサイコロの目\n",
    "* $\\varepsilon_1$は第`1`期に投げたサイコロの目\n",
    "* $\\varepsilon_2$は第`2`期に投げたサイコロの目\n",
    "* $\\cdots\\cdots$\n",
    "\n",
    "同様に$Y_i$を考えることができる。違いは，$\\varepsilon_{t-1}$は`1`期前の値を表していることだけである。\n",
    "従って，\n",
    "* 第`1`期では\n",
    "    * $\\varepsilon_t$は第`1`期に投げたサイコロの目\n",
    "    * $\\varepsilon_{t-1}$は第`0`期に投げたサイコロの目\n",
    "* 第`2`期では\n",
    "    * $\\varepsilon_t$は第`2`期に投げたサイコロの目\n",
    "    * $\\varepsilon_{t-1}$は第`1`期に投げたサイコロの目\n",
    "* 第`3`期では\n",
    "    * $\\varepsilon_t$は第`3`期に投げたサイコロの目\n",
    "    * $\\varepsilon_{t-1}$は第`2`期に投げたサイコロの目\n",
    "* $\\cdots\\cdots$\n",
    "\n",
    "ここで第`0`期の$\\varepsilon_{t-1}$の値は存在しないことに注意しよう。"
   ]
  },
  {
   "cell_type": "markdown",
   "metadata": {},
   "source": [
    "更に，$\\varepsilon_{t-1}$を次のように一般化しよう。\n",
    "* $\\varepsilon_{t-s},\\quad t=s,\\;s+1,\\;s+2,\\;s+3,\\;\\cdots,\\quad s\\geq 1$\n",
    "\n",
    "一見すると複雑に見えるが，$s=1$と置けば$\\varepsilon_{t-1}$になることが分かる。\n",
    "$\\varepsilon_{t-s}$は単純に$s$期前の値を表しているに過ぎない。\n",
    "従って，\n",
    "* 第`s`期では\n",
    "    * $\\varepsilon_t$は第`s`期に投げたサイコロの目\n",
    "    * $\\varepsilon_{t-s}$は第`0`期に投げたサイコロの目\n",
    "* 第`s+1`期では\n",
    "    * $\\varepsilon_t$は第`s+1`期に投げたサイコロの目\n",
    "    * $\\varepsilon_{t-s}$は第`1`期に投げたサイコロの目\n",
    "* 第`s+2`期では\n",
    "    * $\\varepsilon_t$は第`s+2`期に投げたサイコロの目\n",
    "    * $\\varepsilon_{t-s}$は第`2`期に投げたサイコロの目\n",
    "* $\\cdots\\cdots$\n",
    "\n",
    "ここで第`s-1`期以前の$\\varepsilon_{t-s}$の値は存在しないことに注意しよう。"
   ]
  },
  {
   "cell_type": "markdown",
   "metadata": {},
   "source": [
    "以下では，次のように置き換えて説明するが，分かりづらければ`s=1`として読み進めれば良いだろう。\n",
    "* $X_i\\;\\Rightarrow\\;\\varepsilon_t,\\quad t=0,1,2,3,\\cdots$\n",
    "* $Y_i\\;\\Rightarrow\\;\\varepsilon_{t-s},\\quad t=s,\\;s+1,\\;s+2,\\;s+3,\\;\\cdots,\\quad s\\geq 1$"
   ]
  },
  {
   "cell_type": "markdown",
   "metadata": {},
   "source": [
    "まず$\\varepsilon_{t}$と$\\varepsilon_{t-s}$の分散を考えてみると，次のように置き換えることができる。\n",
    "\n",
    "$$\n",
    "\\begin{aligned}\n",
    "\\sigma_X^2&\\quad\\Rightarrow\\quad\\sigma_{\\varepsilon_t}^2\\\\\n",
    "\\sigma_Y^2&\\quad\\Rightarrow\\quad\\sigma_{\\varepsilon_{t-s}}^2\n",
    "\\end{aligned}\n",
    "$$\n",
    "\n",
    "$X_i$と$Y_i$の分散は，`s`期ずれているだけの同じランダム変数$\\varepsilon$の分散に置き換わっている。\n",
    "* 解釈\n",
    "    * $\\sigma_{\\varepsilon_t}^2$：$\\varepsilon$の`0`期から`t`期までの値に基づく分散\n",
    "    * $\\sigma_{\\varepsilon_{t-s}}^2$：$\\varepsilon$の`0`期から`t-s`期までの値に基づく分散\n",
    "* $\\varepsilon$の単位が円であれば，分散である$\\sigma_{\\varepsilon_t}^2$と$\\sigma_{\\varepsilon_{t-s}}^2$の単位は$\\text{円}^2$となる。\n",
    "* 標準偏差は分散の平方根である$\\sigma_{\\varepsilon_t}$と$\\sigma_{\\varepsilon_{t-s}}$になり，単位はそれぞれ円となる。"
   ]
  },
  {
   "cell_type": "markdown",
   "metadata": {},
   "source": [
    "更に，共分散は次のように置き換える事ができる。\n",
    "\n",
    "$$\n",
    "X_i\\text{と}Y_i\\text{の共分散}=\\sigma_{XY}\n",
    "\\quad\\Rightarrow\\quad\n",
    "\\sigma_{\\varepsilon_t\\varepsilon_{t-s}}\n",
    "=s\\text{期間離れた}\\varepsilon\\text{の自己共分散}\n",
    "$$\n",
    "\n",
    "ここで$\\sigma_{\\varepsilon_t\\varepsilon_{t-s}}$を**自己共分散**と呼んでいる。\n",
    "「過去の自分との共分散」という意味で「自己」が追加されている。\n",
    "* 解釈\n",
    "    * 自己共分散はランダム変数とその`s`期前の値との**相関の度合**を示す指標。\n",
    "    * $\\varepsilon$の単位が円であれば，自己共分散$\\sigma_{\\varepsilon_t\\varepsilon_{t-s}}$の単位は$\\text{円}^2$となる。"
   ]
  },
  {
   "cell_type": "markdown",
   "metadata": {},
   "source": [
    "これらの結果を使うと$\\varepsilon_t$の相関係数は\n",
    "\n",
    "$$\n",
    "\\rho_{XY}=\n",
    "\\frac{\\sigma_{XY}}{\\sigma_X\\sigma_Y}\n",
    "\\qquad\n",
    "\\Rightarrow\n",
    "\\qquad\n",
    "\\rho_{\\varepsilon}(s)\n",
    "\\equiv\n",
    "\\rho_{\\varepsilon_t,\\varepsilon_{t-s}}\n",
    "=\\frac{\n",
    "    \\sigma_{\\varepsilon_t\\varepsilon_{t-s}}\n",
    "    }{\n",
    "    \\sigma_{\\varepsilon_t}\n",
    "    \\sigma_{\\varepsilon_{t-s}}\n",
    "    }\n",
    "$$\n",
    "\n",
    "で与えられ，一般的には**自己相関関数**と呼ばれる。「関数」と呼ばれる理由は，$\\rho_{\\varepsilon}(s)$は`s`の関数として考えることができるためだ。このサイトでは，`s=1`の場合は**自己相関係数**と呼ぶ事にする。\n",
    "次の特徴がある。\n",
    "* 分母は必ず正となるので，分子の自己共分散が符号を決定する。\n",
    "* $\\rho_{\\varepsilon_t\\varepsilon_{t-s}}$の値は`-1`から`1`の間の値を取り、単位に依存しない。この特徴は、分母に$\\varepsilon_{t}$と$\\varepsilon_{t-s}$の標準偏差の積を積を置く事により分母の単位をキャンセルしているためである。\n",
    "\n",
    "解釈は次のようになる。\n",
    "* $\\rho_{\\varepsilon}(s)=0,\\;s=1,2,3,\\cdots$：何期離れたとしても自己相関はなしという意味である。過去の影響は皆無の状況を指している。\n",
    "* $\\rho_{\\varepsilon}(s)>0,\\;s=1,2,3,\\cdots$：今期と`s`期前の値は正の相関があるということを示す。$\\varepsilon_{t-s}$の値が大きければ（小さければ），$\\varepsilon_{t}$も大きい（小さい）傾向にあるという意味であり，`s`期前の影響が強ければ，自己相関係数の絶対値は大きくなる。経済学では`s=1`を考える場合が多く，この性質を**持続性**（persisitence）と呼ぶ。持続性は多くのマクロ変数の重要な特徴となっている。\n",
    "* $\\rho_{\\varepsilon}(s)<0,\\;s=1,2,3,\\cdots$：今期と`s`期前の値は負の相関があるということを示す。$\\varepsilon_{t-s}$の値が大きければ（小さければ），$\\varepsilon_{t}$は小さい（大きい）傾向にあるという意味であり，`s`期前の影響が強ければ，自己相関係数の絶対値は大きくなる。"
   ]
  },
  {
   "cell_type": "markdown",
   "metadata": {},
   "source": [
    "#### `.cov()`，`.corr()`，`.autocorr()`"
   ]
  },
  {
   "cell_type": "markdown",
   "metadata": {},
   "source": [
    "自己共分散と自己相関係数の違いを説明したが，`DataFrame`を使ってどのように計算するかを説明する。`dfex2`は次のような`DataFrame`になっている。"
   ]
  },
  {
   "cell_type": "code",
   "execution_count": null,
   "metadata": {
    "tags": [
     "hide-input"
    ]
   },
   "outputs": [],
   "source": [
    "def create_example(n):\n",
    "    rng = np.random.default_rng()\n",
    "    df = pd.DataFrame({'X':rng.normal(10, 1, size=n)})\n",
    "    df['X_lag'] = df['X'].shift()\n",
    "    return df\n",
    "\n",
    "dfex2 = create_example(10)"
   ]
  },
  {
   "cell_type": "code",
   "execution_count": null,
   "metadata": {},
   "outputs": [],
   "source": [
    "dfex2"
   ]
  },
  {
   "cell_type": "markdown",
   "metadata": {},
   "source": [
    "行ラベルは時間と考えよう。`0`番目の行が`0`期を表し，`9`期までの値が含まれる。\n",
    "`X_lag`は`X`を`1`期ずらした値となっている。\n",
    "例えば，`1`期の`X_lag`の値は`0`期の`X`の値が入っている。\n",
    "また，`-1`期はないため，`0`期の`X_lag`の値は`NaN`になっている。\n",
    "それぞれの列は次のように$\\varepsilon$に対応している。\n",
    "* `X`$\\quad\\Rightarrow\\quad\\varepsilon_t$\n",
    "* `X_lag`$\\quad\\Rightarrow\\quad\\varepsilon_{t-1}$\n",
    "\n",
    "`dfex2`のメソッド`.cov()`を使って分散共分散行列を表示しよう。"
   ]
  },
  {
   "cell_type": "code",
   "execution_count": null,
   "metadata": {},
   "outputs": [],
   "source": [
    "vcov2 = dfex2.cov()\n",
    "vcov2"
   ]
  },
  {
   "cell_type": "markdown",
   "metadata": {},
   "source": [
    "* 左上の値：`X`の分散（$\\sigma_{\\varepsilon_t}^2$）\n",
    "* 右下の値：`X_lag`の分散（$\\sigma_{\\varepsilon_{t-1}}^2$）\n",
    "* 右上と左下の値（同じ値）：`X`の自己共分散（$\\sigma_{\\varepsilon_t\\varepsilon_{t-1}}$）"
   ]
  },
  {
   "cell_type": "markdown",
   "metadata": {},
   "source": [
    "自己相関係数はメソッド`.corr()`を使って求めることができる。"
   ]
  },
  {
   "cell_type": "code",
   "execution_count": null,
   "metadata": {},
   "outputs": [],
   "source": [
    "dfex2.corr()"
   ]
  },
  {
   "cell_type": "markdown",
   "metadata": {},
   "source": [
    "右上と左下の値（同じ値）が自己相関係数（$\\rho_{\\varepsilon_t\\varepsilon_{t-1}}$）である。\n",
    "一方、左上の値は`X`と`X`の相関係数（$\\rho_{\\varepsilon_t\\varepsilon_t}=1$）であり，右下の対角線上にあるのは、`X_lag`と`X_lag`の相関係数（$\\rho_{\\varepsilon_{t-1}\\varepsilon_{t-1}}=1$）である。"
   ]
  },
  {
   "cell_type": "markdown",
   "metadata": {},
   "source": [
    "`X`の列を`Series`と抽出し，メソッド`.autocorr()`を使って自己相関係数を計算することもできる。"
   ]
  },
  {
   "cell_type": "code",
   "execution_count": null,
   "metadata": {},
   "outputs": [],
   "source": [
    "dfex2['X'].autocorr()"
   ]
  },
  {
   "cell_type": "markdown",
   "metadata": {},
   "source": [
    "メソッド`.cov()`を使って自己相関係数を計算する場合は，次のように`dfex2`から欠損値がある行を削除した後に分散共分散行列を計算する必要がある。"
   ]
  },
  {
   "cell_type": "code",
   "execution_count": null,
   "metadata": {},
   "outputs": [],
   "source": [
    "dfex3 = dfex2.dropna()   # 欠損値がある行の削除\n",
    "vcov3 = dfex3.cov()\n",
    "\n",
    "# 自己相関係数の計算\n",
    "vcov3.loc['X','X_lag'] / ( vcov3.loc['X','X']**0.5 * vcov3.loc['X_lag','X_lag']**0.5 )"
   ]
  },
  {
   "cell_type": "markdown",
   "metadata": {
    "hidden": true
   },
   "source": [
    "## ホワイト・ノイズ"
   ]
  },
  {
   "cell_type": "markdown",
   "metadata": {
    "hidden": true,
    "jp-MarkdownHeadingCollapsed": true
   },
   "source": [
    "### 説明"
   ]
  },
  {
   "cell_type": "markdown",
   "metadata": {},
   "source": [
    "時系列のランダム変数$\\varepsilon_t$，$t=0,1,2,3,\\cdots$を考えよう。例えば，レストランの経営者の収入。ビジネスにはリスク（競争相手の出現やコロナ感染症問題）があるため変動すると考えるのが自然である。$\\varepsilon_t$は$t$毎にある分布から抽出されると考えることができる。次の３つの性質を満たしたランダム変数をホワイト・ノイズ（White Noise）と呼ぶ。\n",
    "1. 平均は`0`：$\\quad\\text{E}\\left[\\varepsilon_t\\right]=0$\n",
    "1. 分散は一定：$\\text{ E}\\left[\\varepsilon_t^2\\right]=\\sigma^2$（$\\sigma^2$に$t$の添字はない）\n",
    "1. 自己共分散（自己相関）は`0`：$\\text{ E}\\left[\\varepsilon_t \\varepsilon_{t-s}\\right]=0$（全ての$s\\ne 0$に対して）。\n",
    "\n",
    "＜コメント＞\n",
    "* 平均`0`と分散が$\\sigma^2$のホワイト・ノイズを次のように表記する。\n",
    "\n",
    "    $$\n",
    "    \\varepsilon_t\\sim\\textit{WN}(0,\\sigma^2)\n",
    "    $$\n",
    "    \n",
    "* ホワイト・ノイズの例：\n",
    "    * 平均`0`，分散$\\sigma^2$の正規分布から抽出された$\\varepsilon_t$\n",
    "    * 最小値`10`，最大値`100`からからランダム抽出された$\\varepsilon_t$\n",
    "* 正規分布や一様分布ではない分布でもホワイト・ノイズになる。\n",
    "* ホワイト・ノイズは独立同分布（Indepent and Identically Distributed）の１つである。"
   ]
  },
  {
   "cell_type": "markdown",
   "metadata": {
    "jp-MarkdownHeadingCollapsed": true
   },
   "source": [
    "### 平均と分散"
   ]
  },
  {
   "cell_type": "markdown",
   "metadata": {
    "hidden": true
   },
   "source": [
    "以下では実際にランダム変数を発生させ，そのプロットと統計的な特徴について考察する。まず，平均と分散について確認するために，その準備として次のコードを実行しよう。"
   ]
  },
  {
   "cell_type": "code",
   "execution_count": null,
   "metadata": {
    "hidden": true
   },
   "outputs": [],
   "source": [
    "rng = np.random.default_rng()"
   ]
  },
  {
   "cell_type": "markdown",
   "metadata": {
    "hidden": true
   },
   "source": [
    "`rng`はランダム変数を生成する「種」となるオブジェクトとして理解すれば良いだろう。\n",
    "\n",
    "正規分布を生成する構文は次のようになる。\n",
    "\n",
    "`rng.normal(loc=0, scale=1, size=1)`\n",
    "```\n",
    "    loc：平均（デフォルトは0）\n",
    "\n",
    "    scale：標準偏差（デフォルトは1）\n",
    "\n",
    "    size：ランダム変数の数（デフォルトは1）\n",
    "```\n",
    "ここで、`.normal()`は`rng`のメソッドである。例として、平均`5`，標準偏差`2`の標準正規分布から`10`のランダム変数を生成しよう。"
   ]
  },
  {
   "cell_type": "code",
   "execution_count": null,
   "metadata": {},
   "outputs": [],
   "source": [
    "rng.normal(5, 2, 10)"
   ]
  },
  {
   "cell_type": "markdown",
   "metadata": {
    "hidden": true
   },
   "source": [
    "```{note}\n",
    "`NumPy`を使いランダム変数を生成する方法については，[「経済学のためのPython入門」のNumpy: ランダム変数](https://py4basics.github.io/8_NumPy_random.html)を参考にしてください。\n",
    "```"
   ]
  },
  {
   "cell_type": "markdown",
   "metadata": {
    "hidden": true
   },
   "source": [
    "では、標準正規分布からのランダム変数を`n`個抽出しプロットしてみよう。"
   ]
  },
  {
   "cell_type": "code",
   "execution_count": null,
   "metadata": {
    "hidden": true
   },
   "outputs": [],
   "source": [
    "n = 100\n",
    "\n",
    "vals = rng.normal(size=n)\n",
    "\n",
    "dfwn = pd.DataFrame({'WN':vals})\n",
    "\n",
    "dfwn.plot(marker='.')\n",
    "pass"
   ]
  },
  {
   "cell_type": "markdown",
   "metadata": {
    "hidden": true
   },
   "source": [
    "２つの特徴がある。\n",
    "* 平均`0`：`0`を中心に周辺を動いている。\n",
    "* 分散一定：`0`から外れても`0`に戻っている。標準正規分布の場合、`-2`から`2`の間の値を取る確率が約`95`％になる性質からも理解できるだろう。\n",
    "\n",
    "平均と分散を計算してみよう。"
   ]
  },
  {
   "cell_type": "code",
   "execution_count": null,
   "metadata": {
    "hidden": true
   },
   "outputs": [],
   "source": [
    "dfwn['WN'].mean(), dfwn['WN'].var()"
   ]
  },
  {
   "cell_type": "markdown",
   "metadata": {
    "hidden": true
   },
   "source": [
    "標準正規分布の母集団からのサンプル統計量であるため誤差が発生していることがわかる。"
   ]
  },
  {
   "cell_type": "markdown",
   "metadata": {
    "hidden": true
   },
   "source": [
    "２つの特徴をを確認するために`Pandas`の`plot()`を使ってヒストグラムを描いてみよう。"
   ]
  },
  {
   "cell_type": "code",
   "execution_count": null,
   "metadata": {
    "hidden": true
   },
   "outputs": [],
   "source": [
    "dfwn.plot.hist(bins=30)\n",
    "pass"
   ]
  },
  {
   "cell_type": "markdown",
   "metadata": {
    "hidden": true
   },
   "source": [
    "概ね`0`を中心に左右対象に動いている。即ち，平均`0`を反映している。また，`0`から離れている観測値が少ないことが分かる。これは`0`方向に戻ることを示しており，分散が一定となるためである。この性質は`n`を`500`や`1000`などの大きな数字に設定するより一層分かりやすいだろう。"
   ]
  },
  {
   "cell_type": "markdown",
   "metadata": {
    "hidden": true,
    "jp-MarkdownHeadingCollapsed": true
   },
   "source": [
    "### 自己共分散"
   ]
  },
  {
   "cell_type": "markdown",
   "metadata": {
    "hidden": true
   },
   "source": [
    "`1`期違いの自己共分散$\\sigma_{\\varepsilon_t \\varepsilon_{t-1}}$を計算するために，`dfwn`の列`WN`を`1`期シフトさせた新たな列`WNlag`を作成しよう。"
   ]
  },
  {
   "cell_type": "code",
   "execution_count": null,
   "metadata": {},
   "outputs": [],
   "source": [
    "dfwn['WNlag'] = dfwn['WN'].shift()\n",
    "dfwn.head()"
   ]
  },
  {
   "cell_type": "markdown",
   "metadata": {},
   "source": [
    "`WNlag`の値は`WN`の値が`1`期シフトしていることが分かる。\n",
    "`0`番目の行の`WN`が初期値であり、同じ値が`1`番目の行の`WNlag`に入っている。\n",
    "即ち、`1`番目の行を見ると`WN`には`1`期の値、、`WNlag`には初期（`0`期）の値がある。\n",
    "同様に、各行の`WN`には`t`期の値、`WN`に`t-1`期の値が入っている。"
   ]
  },
  {
   "cell_type": "markdown",
   "metadata": {
    "hidden": true
   },
   "source": [
    "この２つの列を使って散布図を描いてみる。`Pandas`の`plot()`で横軸・縦軸を指定し，引数`kind`で散布図を指定するだけである。"
   ]
  },
  {
   "cell_type": "code",
   "execution_count": null,
   "metadata": {
    "hidden": true
   },
   "outputs": [],
   "source": [
    "dfwn.plot.scatter(x='WNlag', y='WN')\n",
    "pass"
   ]
  },
  {
   "cell_type": "markdown",
   "metadata": {
    "hidden": true
   },
   "source": [
    "自己共分散がゼロであれば，ランダムに散らばっているはずであり，何らかのパターンも確認できないはずである。"
   ]
  },
  {
   "cell_type": "markdown",
   "metadata": {
    "hidden": true
   },
   "source": [
    "ここで異なるプロットの方法を紹介する。`Pandas`のサブパッケージ`plotting`にある`lag_plot()`関数を使うと共分散の強さを示す図を簡単に作成することが可能となる。\n",
    "* 必須の引数：１つの列\n",
    "* オプションの引数：`lag`は時間ラグ（デフォルトは`1`）"
   ]
  },
  {
   "cell_type": "code",
   "execution_count": null,
   "metadata": {
    "hidden": true
   },
   "outputs": [],
   "source": [
    "pd.plotting.lag_plot(dfwn['WN'])\n",
    "pass"
   ]
  },
  {
   "cell_type": "markdown",
   "metadata": {
    "hidden": true
   },
   "source": [
    "* 横軸：`t`期の値\n",
    "* 縦軸：`t+1`期の値\n",
    "\n",
    "２つの図は同じであることが確認できる。"
   ]
  },
  {
   "cell_type": "markdown",
   "metadata": {
    "hidden": true
   },
   "source": [
    "分散・自己共分散を計算してみよう。"
   ]
  },
  {
   "cell_type": "code",
   "execution_count": null,
   "metadata": {
    "hidden": true
   },
   "outputs": [],
   "source": [
    "dfwn.cov()"
   ]
  },
  {
   "cell_type": "markdown",
   "metadata": {
    "hidden": true
   },
   "source": [
    "左上と右下の対角線上にあるのは、`WN`と`WNlag`の不偏分散であり、`1`に近い値となっている。両変数は標準正規分布（分散`1`）から生成したためであり、`1`にならないのはサンプルの誤差である。（`WN`と`WNlag`の不偏分散は異なるが、その理由は？）一方、右上と左下の値（同じ値となる）が**自己共分散**であり、非常に小さな値であるが、自己共分散は`0`という仮定を反映している。"
   ]
  },
  {
   "cell_type": "markdown",
   "metadata": {
    "jp-MarkdownHeadingCollapsed": true
   },
   "source": [
    "### 自己相関係数"
   ]
  },
  {
   "cell_type": "markdown",
   "metadata": {},
   "source": [
    "メソッド`.corr()`を自己相関係数を計算しよう。"
   ]
  },
  {
   "cell_type": "code",
   "execution_count": null,
   "metadata": {},
   "outputs": [],
   "source": [
    "dfwn.corr()"
   ]
  },
  {
   "cell_type": "markdown",
   "metadata": {},
   "source": [
    "右上もしくは左下にある値が自己相関係数になる。\n",
    "\n",
    "もしちろん、列`WN`を抽出し，メソッド`autocorr()`を使って自己相関係数を計算することも可能である。"
   ]
  },
  {
   "cell_type": "code",
   "execution_count": null,
   "metadata": {
    "hidden": true
   },
   "outputs": [],
   "source": [
    "dfwn['WN'].autocorr()"
   ]
  },
  {
   "cell_type": "markdown",
   "metadata": {
    "hidden": true
   },
   "source": [
    "また，`dfwn.cov()`を使って自己相関係数を計算することができるが、上でも説明した点に注意する必要がある。`dfwn`の`0`行目には欠損値があるため、自己共分散を計算する際にその行は使われていない。同様に、自己相関係数を計算する際は欠損値がある行を使わずに計算する必要がある。この点に注意して、次のコードで計算することができる。"
   ]
  },
  {
   "cell_type": "code",
   "execution_count": null,
   "metadata": {},
   "outputs": [],
   "source": [
    "vcov = dfwn.dropna().cov()\n",
    "vcov.iloc[0,1] / ( vcov.iloc[0,0]**0.5 * vcov.iloc[1,1]**0.5 )"
   ]
  },
  {
   "cell_type": "markdown",
   "metadata": {
    "jp-MarkdownHeadingCollapsed": true
   },
   "source": [
    "### まとめ"
   ]
  },
  {
   "cell_type": "markdown",
   "metadata": {},
   "source": [
    "GDPや構成要素を含め、マクロ変数の重要な特徴が持続性であることは既に確認済みだ。（[自己共分散（自己相関）](sec:10-autocovariance)を参照しよう。）従って，上の結果からわかることは，自己共分散が`0`であるホワイト・ノイズだけではマクロ変数の持続性を説明できないということであり、景気循環を理解するためには自己共分散が正の値になる経済モデルが求められる。では、どのようなモデルなのだろうか？この問いに答えるために、まずは統計的なモデルである自己回帰モデルを考察し、それを出発点として議論を進めていく事にする。"
   ]
  },
  {
   "cell_type": "markdown",
   "metadata": {
    "heading_collapsed": true,
    "hidden": true
   },
   "source": [
    "## 自己回帰モデル：AR(1)"
   ]
  },
  {
   "cell_type": "markdown",
   "metadata": {
    "heading_collapsed": true,
    "hidden": true,
    "jp-MarkdownHeadingCollapsed": true
   },
   "source": [
    "### 説明"
   ]
  },
  {
   "cell_type": "markdown",
   "metadata": {
    "hidden": true
   },
   "source": [
    "ここでは持続性を捉える確率過程である自己回帰モデルを考える。英語で**A**ugo**r**egressive Modelと呼ばれ，AR(1)と表記され，次式で表される。（AR(1)の`(1)`は右辺と左辺の変数は１期しか違わないことを表している。）\n",
    "\n",
    "$$\n",
    "y_t=\\rho y_{t-1}+\\varepsilon_t\n",
    "$$ (eq:13-ar1)\n",
    "\n",
    "ここで\n",
    "* $y_t$：$t$期の$y$の値\n",
    "* $-1<\\rho<1$\n",
    "* $\\varepsilon_t\\sim WN(0,\\sigma^2)$（ホワイト・ノイズ）\n",
    "\n",
    "次の特徴がある。第一に、$\\varepsilon_t$を所与とすると$y_t$の差分方程式となっている。$-1<\\rho<1$となっているため，安定的な過程であることがわかる。即ち，$\\varepsilon_t=0$であれば、$y_t$は定常状態である$0$に近づいて行くことになる。しかしホワイト・ノイズである$\\varepsilon_t$により、毎期確率的なショックが発生し$y_t$を定常状態から乖離させることになる。第二に、今期の値$y_t$は前期の値$y_{t-1}$に依存しており，その依存度はパラメータ$\\rho$によって決定される。この$\\rho$こそが$y_t$の持続性の強さを決定することになり，自己回帰モデル[](eq:13-ar1)の自己相関係数は$\\rho$と等しくなる。即ち、持続性を捉えるためには、$\\rho\\ne 0$が必須である。"
   ]
  },
  {
   "cell_type": "markdown",
   "metadata": {},
   "source": [
    "ここで考えるAR(1)の特徴をまとめておこう。\n",
    "1. $y_t$の確率分布が変化しない定常過程 \n",
    "1. 平均は一定：$\\quad\\text{E}\\left[y_t\\right]=0$\n",
    "1. 分散は一定：$\\text{E}\\left[y_t^2\\right]=\\dfrac{\\sigma^2}{1-\\rho^2}$（$t$の添字はない）\n",
    "1. 自己共分散は一定：$\\text{E}\\left[y_t y_{t-s}\\right]=\\sigma_{y_t y_{t-s}}^2=\\rho^s\\dfrac{\\sigma^2}{1-\\rho^2}$（$s\\ne 0$）。従って，\n",
    "\n",
    "    $$\n",
    "    \\text{自己相関関数}(s)=\\frac{\\sigma_{y_t y_{t-s}}^2}\n",
    "                           {\\sigma_{y_t}\\times\\sigma_{y_{t-s}}}\n",
    "                           =\\rho^s\n",
    "    $$\n",
    "   であり，$s=1$の自己相関係数は$\\rho$となる。"
   ]
  },
  {
   "cell_type": "markdown",
   "metadata": {
    "heading_collapsed": true,
    "hidden": true
   },
   "source": [
    "### ３つの例：持続性の違い"
   ]
  },
  {
   "cell_type": "markdown",
   "metadata": {
    "hidden": true
   },
   "source": [
    "直観的にマクロ変数の特徴である持続性とは，前期の値が今期の値にどれだけ影響を持っているかを示す。$\\rho$の値を変えて持続性の違いを視覚的に確認するための関数を作成しよう。"
   ]
  },
  {
   "cell_type": "code",
   "execution_count": null,
   "metadata": {
    "hidden": true
   },
   "outputs": [],
   "source": [
    "def ar1_model(rho, y0=0, T=100):\n",
    "    \"\"\"引数：\n",
    "            rho: AR(1)の持続性を捉えるパラメータ\n",
    "            y0:  初期値\n",
    "            T:   シミュレーションの回数（デフォルト：0）\n",
    "       戻り値：\n",
    "            matplotlibの図を示す\n",
    "            自己相関係数の値を表示する\"\"\"\n",
    "    \n",
    "    y = y0                          #1\n",
    "    y_lst = [y]                     #2\n",
    "\n",
    "    for t in range(1,T):            #3\n",
    "        e = rng.normal()            #4\n",
    "        y = rho*y + e               #5\n",
    "        y_lst.append(y)            #6\n",
    "\n",
    "    df_ar1 = pd.Series(y_lst)      #7\n",
    "\n",
    "    ac = df_ar1.autocorr()          #8\n",
    "    \n",
    "    ax_ = df_ar1.plot(marker='.')   #9\n",
    "    ax_.set_title(fr'$\\rho$={rho}　　自己相関係数：{ac:.3f}',size=20) #10\n",
    "    ax_.axhline(0, c='red')         #11"
   ]
  },
  {
   "cell_type": "markdown",
   "metadata": {
    "hidden": true
   },
   "source": [
    "```{admonition} コードの説明\n",
    ":class: dropdown\n",
    "\n",
    "* `#1`：`for`ループで使うアップデート用の`y`であり，初期値を割り当てている。\n",
    "* `#2`：`y`の値を格納するリスト。初期値を入れてある。\n",
    "* `#3`：`T`期間の`for`ループの開始。変数`t`は(4)と(5)に入っていないので単にループの回数を数えている。\n",
    "    * `range(1,T)`の`1`はループの計算が$t=1$期の`y`の計算から始まるため。$t=0$期の`y`は(1)で与えられている。\n",
    "* `#4`：`t`期のホワイト・ノイズの生成。\n",
    "* `#5`：右辺の`e`は`t`期のホワイトノイズであり，`y`前期の`y`となっている。\n",
    "* `#6`：`y_list`に`y`を追加。\n",
    "* `#7`：`y_list`を使って`Series`を作成し`df_ar1`に割り当てる。\n",
    "* `#8`：`.autocorr()`を使い己相関係数を計算し`ac`に割り当てる。\n",
    "* `#9`：`y`のプロット\n",
    "    * `marker='.'`はデータのマーカーを点に設定。\n",
    "    * 図の「軸」を`ax_`に割り当てる。\n",
    "* `#10`：図のタイトルの設定\n",
    "    * `fr`の`f`は`f-string`を表し，`{rho}`と`{ac:.3f}`に数値を代入する。`:.3f`は小数点第三位までの表示を設定\n",
    "    * `fr`の`r`は`$\\rho$`をギリシャ文字に変換するためののも。`$\\rho$`は[LaTeX](https://ja.wikipedia.org/wiki/LaTeX)のコード。\n",
    "* `#11`：`.axhline()`は横線をひくメソッド。\n",
    "```"
   ]
  },
  {
   "cell_type": "code",
   "execution_count": null,
   "metadata": {
    "hidden": true
   },
   "outputs": [],
   "source": [
    "ar1_model(0.1)"
   ]
  },
  {
   "cell_type": "markdown",
   "metadata": {
    "hidden": true
   },
   "source": [
    "この例では$\\rho$の値が低いため，$y$は定常状態の0に直ぐに戻ろうとする力が強い。従って、前期の値の今期の値に対する影響力が小さいため、持続性が低い。"
   ]
  },
  {
   "cell_type": "code",
   "execution_count": null,
   "metadata": {
    "hidden": true
   },
   "outputs": [],
   "source": [
    "ar1_model(0.5)"
   ]
  },
  {
   "cell_type": "markdown",
   "metadata": {
    "hidden": true
   },
   "source": [
    "$\\rho$の値が高くなると、定常状態の$0$に戻ろうとする作用が弱くなり、持続性が強くなることがわかる。"
   ]
  },
  {
   "cell_type": "code",
   "execution_count": null,
   "metadata": {
    "hidden": true
   },
   "outputs": [],
   "source": [
    "ar1_model(0.9)"
   ]
  },
  {
   "cell_type": "markdown",
   "metadata": {
    "hidden": true
   },
   "source": [
    "$\\rho$が非常に高いため、持続性も非常に強くなっている。即ち、今期の値は前期の値に対する依存度が大きい。"
   ]
  }
 ],
 "metadata": {
  "kernelspec": {
   "display_name": "Python 3 (ipykernel)",
   "language": "python",
   "name": "python3"
  },
  "language_info": {
   "codemirror_mode": {
    "name": "ipython",
    "version": 3
   },
   "file_extension": ".py",
   "mimetype": "text/x-python",
   "name": "python",
   "nbconvert_exporter": "python",
   "pygments_lexer": "ipython3",
   "version": "3.11.9"
  }
 },
 "nbformat": 4,
 "nbformat_minor": 4
}
