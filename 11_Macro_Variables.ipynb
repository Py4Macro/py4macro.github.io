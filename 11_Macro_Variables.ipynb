{
 "cells": [
  {
   "cell_type": "markdown",
   "metadata": {},
   "source": [
    "# 法則・曲線・増加率"
   ]
  },
  {
   "cell_type": "markdown",
   "metadata": {},
   "source": [
    "<div name=\"html-admonition\" style=\"font-size: 0.8em\">\n",
    "<input type=\"button\" onclick=\"location.href='https://translate.google.com/translate?hl=&sl=ja&tl=en&u='+window.location;\" value=\"Google translation\" style=\"color:#ffffff;background-color:#008080; height:25px\" onmouseover=\"this.style.background='#99ccff'\" onmouseout=\"this.style.background='#008080'\"/> in English or the language of your choice.\n",
    "</div><br>"
   ]
  },
  {
   "cell_type": "code",
   "execution_count": null,
   "metadata": {},
   "outputs": [],
   "source": [
    "import japanize_matplotlib\n",
    "import numpy as np\n",
    "import matplotlib.pyplot as plt\n",
    "import pandas as pd\n",
    "import py4macro\n",
    "import statsmodels.formula.api as smf\n",
    "\n",
    "# numpy v1の表示を使用\n",
    "np.set_printoptions(legacy='1.21')\n",
    "# 警告メッセージを非表示\n",
    "import warnings\n",
    "warnings.filterwarnings(\"ignore\")"
   ]
  },
  {
   "cell_type": "markdown",
   "metadata": {
    "heading_collapsed": true
   },
   "source": [
    "## はじめに"
   ]
  },
  {
   "cell_type": "markdown",
   "metadata": {
    "hidden": true
   },
   "source": [
    "前章では経済のデータを人の「言動」に例えて説明したが，その比喩をもう少し考えてみよう。「言動」にはパターンがあり，その人の心を映し出しているとも考えられる。例えば，心の優しい人は電車やバスで重い荷物を持つ老人や小さな子を持つ女性に席を譲る回数が多いかも知れない。「あの子が好きだ！」とは決して口に出さない男の子でも，その思いを示唆するような発言や行動があるかも知れない。同じように，経済の「真のメカニズム」の反映としてデータには何らかのパターンが現れる。そのパターンを見つけることに経済学者は時間を割いてきたし，見出したパターンの中には経済を理解する上で非常に重要なヒント隠されている場合がある。ここでは代表的な次のデータのパターンを考える。\n",
    "* オークンの法則\n",
    "* フィリップス曲線\n",
    "* マネー・ストックの増加率とインフレーションの関係\n",
    "\n",
    "マクロ経済学を勉強した人にとっては必ずと言っていいほど，知名度が高いデータのパターンではないだろうか。これらから「真のメカニズム」の動きが垣間見える事になる。\n",
    "\n",
    "一方で「真のメカニズム」は不変ではないかも知れない。経済は人が営む活動であり，人が変われば「真のメカニズム」も影響を受けると考えられる。技術進歩（例えば，ビットコイン）や価値観の変化（例えば，「昭和の価値観」から「平成・令和の価値観」への移り変わり），政府・日銀の政策やコロナ禍などの大きなショックは人の行動の変化に影響すると考えるのが自然である。例えば，2020年代の「真のメカニズム」は1970年代のそれとは異なる可能性を拭えない。データを見る際は，そのような変化がないかを注意深く見ることも重要になるだろう。"
   ]
  },
  {
   "cell_type": "markdown",
   "metadata": {
    "heading_collapsed": true,
    "jp-MarkdownHeadingCollapsed": true
   },
   "source": [
    "## オークンの法則"
   ]
  },
  {
   "cell_type": "markdown",
   "metadata": {
    "heading_collapsed": true,
    "hidden": true,
    "jp-MarkdownHeadingCollapsed": true
   },
   "source": [
    "### 説明"
   ]
  },
  {
   "cell_type": "markdown",
   "metadata": {
    "hidden": true
   },
   "source": [
    "この節で使用する記号：\n",
    "* $Y_t$：GDP\n",
    "* $\\bar{Y}_t$：産出量の自然率水準（もしくは長期的GDP、潜在的GDP）\n",
    "* $u_t$：失業率\n",
    "* $\\bar{u}_t$：自然失業率（もしくは長期的失業率）\n",
    "\n",
    "オークンの法則は経験則として次の関係を表す。\n",
    "\n",
    "$$\n",
    "\\frac{Y_t-\\bar{Y}_t}{\\bar{Y}_t}=-b\\left( u_t-\\bar{u}_t\\right),\\quad b>0\n",
    "$$ (eq:11-okun)\n",
    "\n",
    "左辺はGDPの自然率水準からの乖離率（自然率水準を何％上回るかを示す）であり，右辺は失業率の自然率からの乖離（自然失業率を何％ポイント上回るかを示す）である。即ち，GDPと失業率の長期的な値からの乖離には負の関係が存在することを意味している。労働者が生産投入といこと考えると，直感的にも受け入れ易い関係ではないだろうか。では失業率の乖離が1%ポイント上昇するとGDPの乖離率は何%減少するのだろうか。この問いについては，データを使いパラメータ`b`を推定する必要がる。難しい点は、$\\bar{Y}_t$と$\\bar{u}_t$が観測されないため推定する必要があることである。この点を回避するために、オークンの法則を変数の変化で表す場合もあるが、ここでは上の式を考える。$\\bar{Y}_t$と$\\bar{u}_t$の推定には様々な洗練された手法があるが、ここでは簡便的にHodrick–Prescottフィルターを使って計算したトレンドを$\\bar{Y}$と$\\bar{u}$とし，トレンドからの乖離を上の式の左辺と右辺に使う。"
   ]
  },
  {
   "cell_type": "markdown",
   "metadata": {
    "hidden": true
   },
   "source": [
    "以前使ったデータを使うが，次の節でインフレ率について扱うので３つの変数`gdp`，`unemployment_rate`，`inflation`を読み込むことにする。"
   ]
  },
  {
   "cell_type": "code",
   "execution_count": null,
   "metadata": {
    "hidden": true
   },
   "outputs": [],
   "source": [
    "df = py4macro.data('jpn-q').loc[:,['gdp','unemployment_rate','inflation']]"
   ]
  },
  {
   "cell_type": "code",
   "execution_count": null,
   "metadata": {
    "hidden": true
   },
   "outputs": [],
   "source": [
    "df.info()"
   ]
  },
  {
   "cell_type": "markdown",
   "metadata": {
    "heading_collapsed": true,
    "hidden": true,
    "jp-MarkdownHeadingCollapsed": true,
    "tags": [
     "remove-cell"
    ]
   },
   "source": [
    "### 失業率の特徴"
   ]
  },
  {
   "cell_type": "markdown",
   "metadata": {
    "hidden": true,
    "jp-MarkdownHeadingCollapsed": true
   },
   "source": [
    "(sec:11-unemployment)=\n",
    "### 失業率の特徴"
   ]
  },
  {
   "cell_type": "markdown",
   "metadata": {
    "hidden": true
   },
   "source": [
    "ここでは失業率の特徴を考える。まず図示してみよう。"
   ]
  },
  {
   "cell_type": "code",
   "execution_count": null,
   "metadata": {
    "hidden": true
   },
   "outputs": [],
   "source": [
    "df.plot(y='unemployment_rate')\n",
    "pass"
   ]
  },
  {
   "cell_type": "markdown",
   "metadata": {
    "hidden": true
   },
   "source": [
    "最初に気づく点は，[前章](chap:10-gdp)で説明した持続性（変化が正（もしくは負）であれば正（もしくは負）の期間が続く傾向にある特徴）が高いとことである。実際，メソッド`.autocorr()`を使い自己相関係数を計算すると非常に高い値が返される。"
   ]
  },
  {
   "cell_type": "code",
   "execution_count": null,
   "metadata": {
    "hidden": true
   },
   "outputs": [],
   "source": [
    "df['unemployment_rate'].autocorr()"
   ]
  },
  {
   "cell_type": "markdown",
   "metadata": {
    "hidden": true
   },
   "source": [
    "次に，GDPのトレンドからの乖離（％）と失業率のトレンドからの乖離（％ポイント）を比べてみる。まず失業に関する変数を作成するが，対数を取らずに差分をトレンドからの乖離とする。"
   ]
  },
  {
   "cell_type": "code",
   "execution_count": null,
   "metadata": {
    "hidden": true
   },
   "outputs": [],
   "source": [
    "df['u_rate_trend'] = py4macro.trend(df['unemployment_rate'])\n",
    "df['u_rate_cycle'] = df['unemployment_rate'] - df['u_rate_trend']"
   ]
  },
  {
   "cell_type": "markdown",
   "metadata": {
    "hidden": true
   },
   "source": [
    "ここで作成した変数は次の変数を表している。\n",
    "* `unemployment_rate_cycle`：$u_t-\\bar{u}_t$\n",
    "* $\\bar{u}_t$：トレンド失業率\n",
    "\n",
    "次にGDPのトレンドからの乖離率を計算しよう。\n",
    "* `gdp_cycle`：$\\dfrac{Y_t}{\\bar{Y}_t}-1\n",
    "                \\approx\n",
    "                \\log\\left(\\dfrac{Y_t}{\\bar{Y}_t}\\right)\n",
    "                =\\log(Y_t) - \\log(\\bar{Y}_t)\n",
    "                $\n",
    "* $\\bar{Y}_t$：トレンドGDP"
   ]
  },
  {
   "cell_type": "code",
   "execution_count": null,
   "metadata": {
    "hidden": true
   },
   "outputs": [],
   "source": [
    "df['gdp_cycle'] = 100*( \n",
    "                       np.log(df['gdp']) - py4macro.trend( np.log(df['gdp']) )\n",
    "                      )"
   ]
  },
  {
   "cell_type": "markdown",
   "metadata": {
    "hidden": true
   },
   "source": [
    "GDPの乖離と重ねて動きを確認してみる。"
   ]
  },
  {
   "cell_type": "code",
   "execution_count": null,
   "metadata": {
    "hidden": true
   },
   "outputs": [],
   "source": [
    "df.loc[:,['u_rate_cycle','gdp_cycle']].plot(secondary_y='u_rate_cycle')\n",
    "pass"
   ]
  },
  {
   "cell_type": "markdown",
   "metadata": {
    "hidden": true
   },
   "source": [
    "概ね逆方向に上下していることがわかる。またバブル景気の崩壊後やリーマン・ショック後に，２変数は逆方向に大きく動いていることも確認できる。相関度を確かめるために，`df`のメソッド`corr()`を使い相関係数を計算しよう。"
   ]
  },
  {
   "cell_type": "code",
   "execution_count": null,
   "metadata": {
    "hidden": true
   },
   "outputs": [],
   "source": [
    "df.loc[:,['u_rate_cycle','gdp_cycle']].corr()"
   ]
  },
  {
   "cell_type": "markdown",
   "metadata": {
    "hidden": true
   },
   "source": [
    "右上と左下の値が２変数の相関係数であり，値は約`-0.63`は強い逆相関を意味する。\n",
    "\n",
    "また上の図から持続性が高いことが伺える。自己相関係数を計算してみよう。"
   ]
  },
  {
   "cell_type": "code",
   "execution_count": null,
   "metadata": {
    "hidden": true
   },
   "outputs": [],
   "source": [
    "df['gdp_cycle'].autocorr()"
   ]
  },
  {
   "cell_type": "code",
   "execution_count": null,
   "metadata": {
    "hidden": true
   },
   "outputs": [],
   "source": [
    "df['u_rate_cycle'].autocorr()"
   ]
  },
  {
   "cell_type": "markdown",
   "metadata": {
    "hidden": true
   },
   "source": [
    "両変数ともトレンドからの乖離は持続性が非常に高いと言える。"
   ]
  },
  {
   "cell_type": "markdown",
   "metadata": {
    "heading_collapsed": true,
    "hidden": true,
    "jp-MarkdownHeadingCollapsed": true
   },
   "source": [
    "### 回帰分析"
   ]
  },
  {
   "cell_type": "markdown",
   "metadata": {
    "hidden": true
   },
   "source": [
    "では実際に式[](eq:11-okun)のスロープ変数$b$を推定してみよう。\n"
   ]
  },
  {
   "cell_type": "code",
   "execution_count": null,
   "metadata": {
    "hidden": true
   },
   "outputs": [],
   "source": [
    "formula = 'gdp_cycle ~ u_rate_cycle'   # 1\n",
    "model = smf.ols(formula, data=df)      # 2\n",
    "result = model.fit()                   # 3"
   ]
  },
  {
   "cell_type": "markdown",
   "metadata": {
    "hidden": true
   },
   "source": [
    "```{admonition} コードの説明\n",
    ":class: dropdown\n",
    "\n",
    "1. 回帰式を文字列で作成し変数`formula`に割り当てる。\n",
    "2. `smf`の関数`.ols`を使い最小二乗法の準備をし，変数`model`に割り当てる。\n",
    "    * 引数は(1)の`formula`と`data`に使用する`DataFrame`（ここでは`df`）を指定する。\n",
    "3. `model`のメソッド`.fit()`を使い自動計算し，その結果を`result`に割り当てる。\n",
    "```\n",
    "\n",
    "`result`のメソッド`.summary()`を使い結果を表として表示しよう。"
   ]
  },
  {
   "cell_type": "code",
   "execution_count": null,
   "metadata": {
    "hidden": true
   },
   "outputs": [],
   "source": [
    "print(result.summary())"
   ]
  },
  {
   "cell_type": "markdown",
   "metadata": {
    "hidden": true
   },
   "source": [
    "表の中段から次のことがわかる。\n",
    "* 定数項の推定値は非常に小さい。即ち、失業率の乖離がゼロある場合、GDPの乖離率もぜろになることを示しており、定数項がない式[](eq:11-okun)と整合的であることわかる。\n",
    "* パラメータ`b`の推定値は負の値となっていおり、失業率が自然失業率を上回るとGDP乖離率は減少することが確認できる。\n",
    "\n",
    "＜コメント＞\n",
    "* Durbin-Watson比は誤差項に正の自己相関が疑われことを示しており，$t$検定の解釈には注意が必要となるが，この点ついての議論は割愛する。"
   ]
  },
  {
   "cell_type": "markdown",
   "metadata": {
    "hidden": true
   },
   "source": [
    "回帰分析の結果を踏まえると，失業率の乖離が`x`％ポイントの場合にGDPのトレンドからの乖離率（％）を計算する関数は次のようになる。"
   ]
  },
  {
   "cell_type": "code",
   "execution_count": null,
   "metadata": {
    "hidden": true
   },
   "outputs": [],
   "source": [
    "def growth_deviation(x):\n",
    "    \n",
    "    g = result.params.iloc[0]+result.params.iloc[1]*x\n",
    "    print(f'失業率の乖離が{x:.1f}％ポイントの場合のGDPのトレンドからの乖離率は約{g:.2f}です。')"
   ]
  },
  {
   "cell_type": "markdown",
   "metadata": {
    "hidden": true
   },
   "source": [
    "`x`が１％ポイントの場合を考えよう。"
   ]
  },
  {
   "cell_type": "code",
   "execution_count": null,
   "metadata": {
    "hidden": true
   },
   "outputs": [],
   "source": [
    "growth_deviation(1)"
   ]
  },
  {
   "cell_type": "markdown",
   "metadata": {
    "hidden": true
   },
   "source": [
    "この値を解釈してみよう。失業率が1％ポイント乖離するとしよう。GDPの乖離率は約`-4.1`％になることを示しているが、この値は非常に大きい。例えば、上のプロットで示したGDPのトレンドからの乖離率を考えてみよう。バブル崩壊時の乖離率は約`2.6`％，リーマン・ショック時では約`6`％，コロナ禍では`7.7`％である。これは日本の雇用制度を反映していると考えられる。またトレンドを計算する際に使ったHodrick–Prescottフィルターの影響もあるだろう。"
   ]
  },
  {
   "cell_type": "markdown",
   "metadata": {
    "hidden": true
   },
   "source": [
    "次に、標本の散布図に回帰直線を重ねて表示してみる。まず`result`の属性`.fittedvalues`を使い非説明変数の予測値を抽出することができるので、`df`に`fitted`のラベルを使って新たな列として追加する。"
   ]
  },
  {
   "cell_type": "code",
   "execution_count": null,
   "metadata": {
    "hidden": true
   },
   "outputs": [],
   "source": [
    "df['fitted_okun'] = result.fittedvalues"
   ]
  },
  {
   "cell_type": "markdown",
   "metadata": {
    "hidden": true
   },
   "source": [
    "図を重ねて表示する。"
   ]
  },
  {
   "cell_type": "code",
   "execution_count": null,
   "metadata": {
    "hidden": true
   },
   "outputs": [],
   "source": [
    "ax_ = df.plot.scatter(x='u_rate_cycle',\n",
    "                      y='gdp_cycle')\n",
    "\n",
    "df.plot(x='u_rate_cycle',\n",
    "        y='fitted_okun',\n",
    "        color='red',\n",
    "        ax=ax_)\n",
    "pass"
   ]
  },
  {
   "cell_type": "markdown",
   "metadata": {
    "hidden": true
   },
   "source": [
    "````{note}\n",
    "係数の推定値は、`result`の属性`params`でアクセスできることを説明したが、この値を使い次のコードで`gdp_cycle`の予測値を計算することも可能である。\n",
    "```\n",
    "ahat = result.params[0]\n",
    "bhat = result.params[1]\n",
    "df['fitted'] = ahat + bhat * df['u_rate_cycle']\n",
    "```\n",
    "````"
   ]
  },
  {
   "cell_type": "markdown",
   "metadata": {
    "hidden": true
   },
   "source": [
    "プロットの下中央にある２点がリーマン・ショックとコロナ禍によるGDPの乖離率である。この２点に関連して次のことが言える。GDPの乖離率の観点から考えると，２つのショックは「外れ値」的な存在であり，大きなショックだったことがうかがえる。一方，2つのショックに伴う失業率の乖離は大きくなく，`0`に近い値となっている。これはGDPに対するショックが，失業率に影響を及ぼすには時間的なラグが発生することの反映であろう。その結果，回帰直線の傾きに対する影響は限定的だと言える（例えば，失業率の乖離が`0.8`近傍であれば，傾きは絶対値でより大きな値となっていただろう）。従って，傾きが約`-4.1`という結果は，数少ない大きなショックによって大きく影響を受けたものではないとして理解して良いだろう。"
   ]
  },
  {
   "cell_type": "markdown",
   "metadata": {
    "heading_collapsed": true
   },
   "source": [
    "## フィリップス曲線"
   ]
  },
  {
   "cell_type": "markdown",
   "metadata": {
    "heading_collapsed": true,
    "hidden": true,
    "jp-MarkdownHeadingCollapsed": true
   },
   "source": [
    "### 説明"
   ]
  },
  {
   "cell_type": "markdown",
   "metadata": {
    "hidden": true
   },
   "source": [
    "マクロ経済学を学んだ人にとって最も馴染み深い関係の一つがフィリップス曲線（PC曲線）ではないだろうか。失業率とインフレ率の関係を示すが，典型的なPC曲線は次式で与えられる。\n",
    "\n",
    "$$\n",
    "\\pi_t=\\text{E}\\pi_t-b(u_t-\\bar{u})+v,\\quad b>0\n",
    "$$ (eq:11-phillips)\n",
    "\n",
    "* $\\pi_t$：インフレ率\n",
    "* $\\text{E}\\pi_t$：期待インフレ率\n",
    "* $u_t$：失業率\n",
    "* $\\bar{u}$：自然失業率（長期的な失業率）\n",
    "* $v$：供給サイドのショック\n",
    "\n",
    "通常，式[](eq:11-phillips)では分析の簡単化のために自然失業率$\\bar{u}$はトレンドであり一定と仮定され，その周辺を経済が変動すると考える。\n",
    "\n",
    "失業率の特徴については[「失業率の特徴」](sec:11-unemployment)の節で議論したので，以下では式[](eq:11-phillips)の左辺にあるインフレ率について考えることにする。"
   ]
  },
  {
   "cell_type": "markdown",
   "metadata": {
    "heading_collapsed": true,
    "hidden": true,
    "jp-MarkdownHeadingCollapsed": true
   },
   "source": [
    "### インフレ率の特徴"
   ]
  },
  {
   "cell_type": "markdown",
   "metadata": {
    "hidden": true
   },
   "source": [
    "上で使用した`df`に`inflation`が含まれているので図示してみよう。"
   ]
  },
  {
   "cell_type": "code",
   "execution_count": null,
   "metadata": {
    "hidden": true
   },
   "outputs": [],
   "source": [
    "df.plot(y='inflation')\n",
    "pass"
   ]
  },
  {
   "cell_type": "markdown",
   "metadata": {
    "hidden": true
   },
   "source": [
    "上下しているのが，過去約35年間は非常に安定している。図から持続性が強いことがわかるが，実際に計算してみよう。"
   ]
  },
  {
   "cell_type": "code",
   "execution_count": null,
   "metadata": {
    "hidden": true
   },
   "outputs": [],
   "source": [
    "df.loc[:,'inflation'].autocorr()"
   ]
  },
  {
   "cell_type": "markdown",
   "metadata": {
    "hidden": true
   },
   "source": [
    "`0.949`は非常に高い持続性を意味しており，インフレが増加すると持続傾向にあることがわかる。次にトレンドからの乖離（％ポイント）を計算し，GDPのトレンドからの乖離と重ねて図示してみよう。"
   ]
  },
  {
   "cell_type": "code",
   "execution_count": null,
   "metadata": {
    "hidden": true
   },
   "outputs": [],
   "source": [
    "df['inflation_trend'] = py4macro.trend(df['inflation'])\n",
    "df['inflation_cycle'] = df['inflation'] - df['inflation_trend']\n",
    "\n",
    "df.plot(y=['gdp_cycle','inflation_cycle'])\n",
    "pass"
   ]
  },
  {
   "cell_type": "markdown",
   "metadata": {
    "hidden": true
   },
   "source": [
    "同じ方向に動く傾向が確認できる。相関係数を計算してみる。"
   ]
  },
  {
   "cell_type": "code",
   "execution_count": null,
   "metadata": {
    "hidden": true
   },
   "outputs": [],
   "source": [
    "df[['inflation_cycle','gdp_cycle']].corr()"
   ]
  },
  {
   "cell_type": "markdown",
   "metadata": {
    "hidden": true
   },
   "source": [
    "絶対値でみると失業程ではないが，正の相関性があることが確認できる。この結果から，インフレ率と失業率の負の相関が予測される。次に、自己相関係数を確認する。"
   ]
  },
  {
   "cell_type": "code",
   "execution_count": null,
   "metadata": {
    "hidden": true
   },
   "outputs": [],
   "source": [
    "df['inflation_cycle'].autocorr()"
   ]
  },
  {
   "cell_type": "markdown",
   "metadata": {
    "hidden": true
   },
   "source": [
    "トレンドからの乖離も強い持続性があることを示している。"
   ]
  },
  {
   "cell_type": "markdown",
   "metadata": {
    "heading_collapsed": true,
    "hidden": true
   },
   "source": [
    "### フラット化するフィリップス曲線"
   ]
  },
  {
   "cell_type": "markdown",
   "metadata": {
    "hidden": true
   },
   "source": [
    "まずインフレ率と失業率の散布図をプロットしよう。"
   ]
  },
  {
   "cell_type": "code",
   "execution_count": null,
   "metadata": {
    "hidden": true
   },
   "outputs": [],
   "source": [
    "df.plot.scatter(x='unemployment_rate', y='inflation')\n",
    "pass"
   ]
  },
  {
   "cell_type": "markdown",
   "metadata": {
    "hidden": true
   },
   "source": [
    "右下がりであり式[](eq:11-phillips)と整合的にみえる。上の散布図に１つの曲線を描いてそれをPC曲線と呼ぶこともできるだろう。一方で，次の問題を考えてみよう。\n",
    "1. 過去40年間，フィリプス曲線は変化した可能性はないのか。即ち，真のメカニズムが変わりながら生成されたデータが表示されているのではないか，という問題である。\n",
    "2. 式[](eq:11-phillips)には期待インフレ率がり，また供給サイドのショックもあり得る（例えば，コロナ禍）。それらをどう考えるかという問題がある。\n",
    "\n",
    "第二の問題を扱うことはこのサイトの範囲を超えるので，ここでは扱わず議論を進めることにする。以下では第一の問題を考察してみよう。\n",
    "\n",
    "景気循環のマクロ経済学での短期は何ヶ月または何年以下で，長期は何年以上なのだろうか。実は，曖昧で学者・学派によって見解が別れる事になる。ここでは10年間は長期に入ると考えることにする（多くの経済学者は同意するだろう）。この考えに基づき，10年毎のデータを検討しPC曲線に変化があるかどうかを確かめることにする。"
   ]
  },
  {
   "cell_type": "markdown",
   "metadata": {
    "hidden": true
   },
   "source": [
    "まず10年毎のデータを使うために，次のコードを使い新たな列`decade`を`df`に追加しよう。"
   ]
  },
  {
   "cell_type": "code",
   "execution_count": null,
   "metadata": {
    "hidden": true
   },
   "outputs": [],
   "source": [
    "df['decade'] = df.index.year // 10 * 10\n",
    "df['decade']"
   ]
  },
  {
   "cell_type": "markdown",
   "metadata": {
    "hidden": true
   },
   "source": [
    "````{admonition} コードの説明\n",
    ":class: dropdown\n",
    "`df.index`は行ラベルを抽出するが，その属性`.year`は行ラベルから年だけを抽出する。年を切り捨て除算演算子`//`を使い次の様に変換する\n",
    "```\n",
    "1980 →　198\n",
    "1981 →　198\n",
    "1982 →　198\n",
    "...\n",
    "```\n",
    "更に，それぞれの数字を`*10`により`10`倍することにより，次のような変換となる。\n",
    "```\n",
    "1980 →　1980\n",
    "1981 →　1980\n",
    "1982 →　1980\n",
    "...\n",
    "```\n",
    "それを新たな列`decade`に割り当てている。\n",
    "````"
   ]
  },
  {
   "cell_type": "markdown",
   "metadata": {
    "hidden": true
   },
   "source": [
    "新たな列と`for`ループを使い，式[](eq:11-phillips)の係数$a$と$b$を推定してみよう。大きな差が無ければ，フィリップス曲線は概ね一定だと考えることができる。"
   ]
  },
  {
   "cell_type": "code",
   "execution_count": null,
   "metadata": {
    "hidden": true
   },
   "outputs": [],
   "source": [
    "decade_lst = list( range(1980, 2011, 10) )         #1\n",
    "\n",
    "a_lst = []   #2\n",
    "b_lst = []   #3\n",
    "\n",
    "for d in decade_lst:                               #4\n",
    "    cond = ( df['decade'] == d )                   #5\n",
    "    res = smf.ols('inflation ~ unemployment_rate', #6\n",
    "                 data=df.loc[cond,:]).fit()        #7\n",
    "    \n",
    "    df[f'{d}年代データ'] = res.fittedvalues          #8\n",
    "    a_lst.append( res.params.iloc[0] )            #9\n",
    "    b_lst.append( res.params.iloc[1] )            #10"
   ]
  },
  {
   "cell_type": "markdown",
   "metadata": {
    "hidden": true
   },
   "source": [
    "```{admonition} コードの説明\n",
    ":class: dropdown\n",
    "\n",
    "* `#1`：`1980`，`1990`，`2000`，`2010`の4つの要素からなるリストを`decade_list`に割り当てる。\n",
    "* `#2`：定数項の推定値を格納する空のリスト。\n",
    "* `#3`：スロープ係数の推定値を格納する空のリスト。\n",
    "* `#4`：`decade_list`を使い`for`ループを開始。\n",
    "* `#5`：列`decade`が`d`と等しい行のみが`True`になる条件を`cond`に割り当てる。\n",
    "* `#6`：OLS推定の結果を`res`に割り当てる。\n",
    "* `#7`：OLS推定に使用する`DataFrame`を指定するが，`.loc[cond,:]`を使い10年間だけのデータを抽出する。\n",
    "* `#8`：`res.fittedvalues`はOLSの予測値だが，新たな列として`df`に追加している。\n",
    "    * 列ラベルとして`1980年代データ`のように設定しており，下でプロットする際の凡例に使うためである。\n",
    "    * `f-string`を使うために`f`を置き`{}`の中に文字列を代入している。\n",
    "* `#9`：`res.params`はOLS推定値の`Series`を返すので，その0番目の要素（定数項）を`a_list`に追加している。\n",
    "* `#10`：`res.params`はOLS推定値の`Series`を返すので，その1番目の要素（スロープ係数）を`b_list`に追加している。\n",
    "```"
   ]
  },
  {
   "cell_type": "markdown",
   "metadata": {
    "hidden": true
   },
   "source": [
    "結果を`print`関数を使い表示する。"
   ]
  },
  {
   "cell_type": "code",
   "execution_count": null,
   "metadata": {
    "hidden": true
   },
   "outputs": [],
   "source": [
    "print('--- 定数項の推定値 -------------\\n')\n",
    "\n",
    "for d, a in zip(decade_lst, a_lst):\n",
    "    print(f'{d}年代：{a:>5.2f}')\n",
    "    \n",
    "    \n",
    "print('\\n--- スロープ係数の推定値 --------\\n')\n",
    "\n",
    "for d, b in zip(decade_lst, b_lst):\n",
    "    print(f'{d}年代：{b:.2f}')"
   ]
  },
  {
   "cell_type": "markdown",
   "metadata": {
    "hidden": true
   },
   "source": [
    "定数項の推定値もスロープ係数の推定値も変化が大きく，特に1980年代の値とそれ以降の値の差が顕著である。傾きが緩やかになっているので，PC曲線のフラット化（需給ギャップに対してのインフレ率の弾性値の低下）と呼ばれている。研究では，日本だけではなく欧米でもPC曲線のフラット化が指摘されている。プロットして確認してみよう。"
   ]
  },
  {
   "cell_type": "code",
   "execution_count": null,
   "metadata": {},
   "outputs": [],
   "source": [
    "color_lst = ['orange','black', 'blue', 'red']    #1\n",
    "\n",
    "#2\n",
    "ax = df.head(0).plot(legend=False)\n",
    "\n",
    "for d, c in zip(decade_lst, color_lst):\n",
    "    \n",
    "    cond = ( df['decade']==d )\n",
    "    \n",
    "    df.loc[cond,:].plot.scatter(x='unemployment_rate',\n",
    "                                y='inflation',\n",
    "                                edgecolor=c,      #3\n",
    "                                color='white',    #4\n",
    "                                legend=False,\n",
    "                                ax=ax)\n",
    "\n",
    "    df.loc[cond,:].sort_values(f'{d}年代データ').plot(\n",
    "                        x='unemployment_rate',\n",
    "                        y=f'{d}年代データ',  \n",
    "                        color=c,          #5\n",
    "                        linewidth=2,      #6\n",
    "                        ax=ax,\n",
    "                        )\n",
    "\n",
    "# 軸の飾り付け\n",
    "ax.set_title('フラット化するフィリップス曲線', size=20)\n",
    "ax.set_xlabel('失業率', fontsize=15)\n",
    "ax.set_ylabel('インフレ率', fontsize=15)\n",
    "pass"
   ]
  },
  {
   "cell_type": "markdown",
   "metadata": {
    "hidden": true
   },
   "source": [
    "```{admonition} コードの説明\n",
    ":class: dropdown\n",
    "\n",
    "* `#1`：色のリスト\n",
    "    * `['orange','k', 'b', 'r']`としてもOK。\n",
    "* `#2`：`.head(0)`は列ラベルだけの`DataFrame`を作成するが，それを利用して空の軸を作成し，変数`ax`に割り当てる。下に続く`for`ループを使い，`ax`にプロットする。\n",
    "* `#3`：`edgecolor`は散布図の円形マーカーの縁の色を指定する引数。\n",
    "* `#4`：`color`は散布図の円形マーカー色を指定する引数。\n",
    "* `#5`：`color`は直線の色を指定する引数。\n",
    "* `#6`：`linewidth`は直線幅を指定する引数。\n",
    "```"
   ]
  },
  {
   "cell_type": "markdown",
   "metadata": {
    "hidden": true
   },
   "source": [
    "時間が経つにつれてPC曲線は右に横滑りしていることが確認できる。失業率に対してのインフレ率の反応が鈍くなっていることを示しているが，フラット化の原因は定かではなく，活発な研究がおこなわれている。原因として次の点が指摘されている。\n",
    "1. 中央銀行の政策決定の透明化や政策のアナウンスメント，フォーワード・ガイダンス（将来の政策についてのガイダンス）などにより，中央銀行の物価安定（インフレ安定）重視のスタンスが民間に十分に浸透したと考えられる。失業が変化しても，インフレ率のの安定化を図る中央銀行の政策スタンスが民間の期待に織り込まれ，インフレ率の変化は小さくなったと思われる。この解釈が正しければ，日銀は素晴らしい仕事をしたということである。\n",
    "2. グローバル化や規制改革により競争環境が変化し（例えば，需要曲線の変化や寡占化），その結果，企業の価格設定行動がも変化したためである。\n",
    "3. 1980年代のPC曲線の傾きは，データ上では大きく見えるが，真のPC曲線はフラットだったという解釈である。上の散布図は観測されたデータを単純にプロットしただけであり，データだけを見てもその裏にあるデータ生成メカニズムは分からない。更には，1980年代にインフレ率が急に減少しているが，インフレ率の下落はPC曲線の下方シフトとして発生したと考えられ，それがデータ上ではPC曲線の急な傾きとして観測されているに過ぎない。\n",
    "4. PC曲線は直線ではなく非線形であり，失業率が高くなると傾きが緩やかになる。直感的には次のように理解できる。企業にとって価格改定にはコストがかかる。従って，インフレ率が高い場合は企業は価格改定をしないと損をするのでより頻繁に価格を上昇させる。一方，インフレ率が低いと，価格改定しない場合の損失は大きくないので，価格の変化は頻繁に起こらなくなる。\n",
    "\n",
    "解釈１〜３によると，「真のメカニズム」が変化したと考えることができる。一方，解釈４では「真のメカニズム」は変わらないという事になる。どの解釈がより妥当なのだろうか。非常に難しい問題であり，その解明が経済学の進歩につながる事は言うまでもない。（データと整合的な解釈が複数存在することは経済学でよくあることである。）\n",
    "\n",
    "経済学に関するジョークに，真っ暗な部屋で黒猫を探す経済学者が登場するものがある。それを模して黒猫がPC曲線だとしよう。最初に黒猫の小さな可愛い鳴き声が聞こえ，５分後にまた同じ方向から鳴き声が聞こえたとする。それだけで，黒猫がいた場所が少しでも変わったかどうかを判断するとした場合，様々な解釈が成立する。「右に10cm動いているようだ。」「いや左に5cm。」「1m程右に動いて元の位置に戻っている。」「そもそも猫は2匹いて，最初の黒猫は他の場所に移り，もう一匹の三毛猫が鳴いたのではないか。」「2回目の鳴き声は幻聴だ。」非常に難しそうである。"
   ]
  },
  {
   "cell_type": "markdown",
   "metadata": {
    "hidden": true
   },
   "source": [
    "```{admonition} 黒猫のジョーク\n",
    ":class: note, dropdown\n",
    "\n",
    "A mathematician, a theoretical economist and an econometrician are asked to find a black cat (who doesn't really exist) in a closed room with the lights off: \n",
    "* The mathematician (数学者) gets crazy trying to find a black cat that doesn't exist inside the darkened room and ends up in a psychiatric hospital. \n",
    "* The theoretical economist (理論経済学者) is unable to catch the black cat that doesn't exist inside the darkened room, but exits the room proudly proclaiming that he can construct a model to describe all his movements with extreme accuracy. \n",
    "* The econometrician (計量経済学者，特に経済データを用いて実証研究をする学者) walks securely into the darkened room, spend one hour looking for the black cat that doesn't exits and shouts from inside the room that he has it catched by the neck.\n",
    "\n",
    "[経済学のジョークのGoogle検索結果](https://www.google.com/search?q=economics+jokes)\n",
    "```"
   ]
  },
  {
   "cell_type": "markdown",
   "metadata": {
    "jp-MarkdownHeadingCollapsed": true
   },
   "source": [
    "## インフレ率とマネーストックの増加率"
   ]
  },
  {
   "cell_type": "markdown",
   "metadata": {
    "heading_collapsed": true
   },
   "source": [
    "### 説明"
   ]
  },
  {
   "cell_type": "markdown",
   "metadata": {
    "hidden": true
   },
   "source": [
    "貨幣数量説は次式で表される。\n",
    "\n",
    "$$\n",
    "P_tY_t=M_tV_t\n",
    "$$ (eq:11-qtm)\n",
    "\n",
    "* $P_t$：一般物価水準\n",
    "    * ある期間（1年間）で取引された財の集計物価水準\n",
    "* $Y_t$：実質支出（GDP）\n",
    "    * ある期間（1年間）で取引された財に対する実質支出額\n",
    "* $M_t$：マネーストック\n",
    "    * ある期間（1年間）平均で流通した貨幣量\n",
    "* $V_t$：貨幣の流通速度\n",
    "    * ある期間（1年間）平均で貨幣１単位が何回使用されたかを示す"
   ]
  },
  {
   "cell_type": "markdown",
   "metadata": {
    "hidden": true
   },
   "source": [
    "式[](eq:11-qtm)に対数を取り時間微分すると次式となる。\n",
    "\n",
    "$$\n",
    "\\pi_t+g_t=m_t+v_t\n",
    "$$ (eq:11-qtm_growth)\n",
    "\n",
    "ここで\n",
    "* $\\pi_t=\\dfrac{\\dot{P}_t}{P_t}$：インフレ率\n",
    "* $g_t=\\dfrac{\\dot{Y_t}}{Y_t}$：実質GDPの成長率\n",
    "* $m_t\\equiv\\dfrac{\\dot{M}_t}{M_t}$：マネーストックの増加率\n",
    "* $v_t=\\dfrac{\\dot{V}_t}{V_t}$：貨幣の流通速度の変化率\n",
    "\n",
    "式[](eq:11-qtm)は恒等式であり，式[](eq:11-qtm_growth)も常に成り立つ関係である。ここで長期均衡を考えてみよう。GDPは供給サイドで決定され，成長率は一定（$g_t=\\overline{g}$）としよう（ソロー・モデルを考えてみよう）。更に貨幣の流通速度は一定とする。この仮定のもと式[](eq:11-qtm_growth)は次式としてまとめることができる。\n",
    "\n",
    "$$\n",
    "\\pi_t = m_t-\\overline{g}\n",
    "$$ (eq:11-qtm_growth_long)"
   ]
  },
  {
   "cell_type": "markdown",
   "metadata": {
    "hidden": true
   },
   "source": [
    "この式によると，**長期的**なインフレ率はマネーストックの増加率によって決定される。この節では，式[](eq:11-qtm_growth_long)の予測がデータと整合的かどうかを議論する。次の２つのデータ・セットを使いこの問題を考察する。\n",
    "* 日本の時系列データ\n",
    "* 世界経済のパネル・データ\n",
    "\n",
    "手法としては散布図と回帰直線の傾きに基づいて正の相関があるかを考える。"
   ]
  },
  {
   "cell_type": "markdown",
   "metadata": {},
   "source": [
    "### 日本の時系列データ"
   ]
  },
  {
   "cell_type": "markdown",
   "metadata": {
    "heading_collapsed": true
   },
   "source": [
    "#### 説明"
   ]
  },
  {
   "cell_type": "markdown",
   "metadata": {
    "hidden": true
   },
   "source": [
    "`py4macro`には`jpn-money`というデータ・セットが含まれており，その内容は次のコードで確認できる。"
   ]
  },
  {
   "cell_type": "code",
   "execution_count": null,
   "metadata": {
    "hidden": true
   },
   "outputs": [],
   "source": [
    "py4macro.data('jpn-money', description=1)"
   ]
  },
  {
   "cell_type": "markdown",
   "metadata": {
    "hidden": true
   },
   "source": [
    "1955年1月から2021年4月までの月次データであり，消費者物価指数とマネーストックの２つの変数が含まれている。マネーストックにはM1が使われており，現金通貨と要求払預金(預入期間の設定がなく自由に出し入れができる預金のことであり，普通預金が典型的な例)で構成される。詳しくは[マネーストック統計の解説](https://www.boj.or.jp/statistics/outline/exp/data/exms01.pdf)を参考にしてほしい。M1を使う大きな理由は長い時系列データが存在することであり，長期的な関係である式[](eq:11-qtm_growth_long)を考えるには適しているためである。\n",
    "\n",
    "一方で長い時系列データであれば長期的な関係を捉えることができるという訳ではない。ここでの長期的な関係とは，ある作用が発生した後，その効果が現れるのに時間が掛かるという意味である。例えば，今日マネーストックの増加率が上昇したとしても，明日すぐにインフレ率の上昇につながるという訳ではなく，その効果が浸透しデータの数字に現れるまで数ヶ月掛かる事になる。この点を示すために次のステップで進めることにする。\n",
    "1. 月次データを変換して次のデータを作成する。\n",
    "    * 四半期データ\n",
    "    * 年次データ\n",
    "    * 1期を3年とするデータ（ここでは「3年次データ」と呼ぶ）\n",
    "2. 月次データを含む４つのデータ・セットを使い，２変数の散布図と回帰分析をおこなう。"
   ]
  },
  {
   "cell_type": "markdown",
   "metadata": {},
   "source": [
    "#### `resample()`"
   ]
  },
  {
   "cell_type": "markdown",
   "metadata": {},
   "source": [
    "まず四半期データへの変換を考えよう。１四半期には３ヶ月の値があり，その平均を１四半期の値とする。同様に，年次データおよび3年次データに変換する場合は，12ヶ月間もしくは36ヶ月間の値を使い平均を計算することになる。このような計算は「連続的な時系列のグループ計算」として捉えることができる。グループ計算のメソッドに`groupby`があるが，カテゴリー変数に基づいてグループ分けするので，この問題に使うことはできない。その代わりに，時系列用グループ計算メソッドとして`resample`が用意されている。ここでは`resample`の使い方を紹介するが，異なる方法として移動平均を使うことも可能であり，興味がある人は[こちらを参照してみよう](https://py4basics.github.io/Moving_Average.html)。\n",
    "\n",
    "```{note}\n",
    "`resample`はグループ計算だけではなく，その「逆の計算」もすることができるがここでは触れない。以下では，「時系列グループ計算用」としてのみ考える。\n",
    "```\n",
    "\n",
    "`resample`の使い方を説明するために，次の`DataFrame`（変数名は`df_ex`）を考えよう。"
   ]
  },
  {
   "cell_type": "code",
   "execution_count": null,
   "metadata": {
    "tags": [
     "hide-input"
    ]
   },
   "outputs": [],
   "source": [
    "date_index = pd.date_range('2019-01-01','2020-12-01', freq='MS')\n",
    "df_ex = pd.DataFrame({'X':list( range(10, 120+1, 10) )*2,\n",
    "                      'Y':np.random.normal(5, 1, size=12*2)\n",
    "                     }, index=date_index)"
   ]
  },
  {
   "cell_type": "code",
   "execution_count": null,
   "metadata": {
    "tags": [
     "output_scroll"
    ]
   },
   "outputs": [],
   "source": [
    "df_ex"
   ]
  },
  {
   "cell_type": "markdown",
   "metadata": {},
   "source": [
    "`df_ex`には時系列用の行ラベルがが使われており，毎月の最初の日がラベルとなっている。列`X`には`10`から`120`までの整数が昇順に並んでおり，`Y`にはランダムは値が並んでいる。\n",
    "\n",
    "２つのステップに分けて説明する。\n",
    "\n",
    "**ステップ１**：グループ化の期間を指定する<br>\n",
    "最初のステップでは，グループ化する期間を引数として`.resample()`を実行する。指定する期間は次のように文字列として指定する。\n",
    "* `YS`：１年を基準としてグループ化（`Y`は`year`、`S`は`start of the period`を表している）\n",
    "* `QS`：四半期を基準としてグループ化（`Q`は`quarter`、`S`は`start of the period`を表している）\n",
    "* `MS`：１ヶ月を基準としてグループ化（`M`は`month`、`S`は`start of the period`を表している）\n",
    "    * 3ヶ月であれば`3MS`，１年であれば`12MS`とできる。\n",
    "\n",
    "グループ化の期間を示す引数には様々なものがあり、[このサイト](https://pandas.pydata.org/docs/user_guide/timeseries.html#offset-aliases)を参考にすると良いだろう。\n",
    "\n",
    "`df_ex`を四半期でグループ化するには次のようになる。"
   ]
  },
  {
   "cell_type": "code",
   "execution_count": null,
   "metadata": {},
   "outputs": [],
   "source": [
    "df_ex.resample('QS')"
   ]
  },
  {
   "cell_type": "markdown",
   "metadata": {},
   "source": [
    "このコードは`DataFrame`を返すわけではない。返すのは時系列グループ計算用のオブジェクトであり，それを使ってグループ計算をおこなう事になる。\n",
    "\n",
    "**ステップ２**：計算内容を指定する。<br>\n",
    "どのような計算をしたいかを指定する。ここではメソッド.mean()を使って指定した期間内の平均を計算してみよう。"
   ]
  },
  {
   "cell_type": "code",
   "execution_count": null,
   "metadata": {},
   "outputs": [],
   "source": [
    "df_ex.resample('QS').mean()"
   ]
  },
  {
   "cell_type": "markdown",
   "metadata": {},
   "source": [
    "行ラベルには四半期の最初の日が使われている。列`X`に並んでいる数字から，毎四半期の期間内平均であることが確認できる。\n",
    "\n",
    "次のコードは年平均を計算している。"
   ]
  },
  {
   "cell_type": "code",
   "execution_count": null,
   "metadata": {},
   "outputs": [],
   "source": [
    "df_ex.resample('YS').mean()"
   ]
  },
  {
   "cell_type": "markdown",
   "metadata": {},
   "source": [
    "平均以外にも様々な計算ができるようになっている。`py4macro`モジュールに含まれる`see()`関数を使って属性を調べてみよう。"
   ]
  },
  {
   "cell_type": "code",
   "execution_count": null,
   "metadata": {},
   "outputs": [],
   "source": [
    "py4macro.see(df_ex.resample('YS'))"
   ]
  },
  {
   "cell_type": "markdown",
   "metadata": {},
   "source": [
    "主なメソッドとして次を挙げることができる（これらの計算で欠損値は無視される）。\n",
    "* `mean()`：平均\n",
    "* `median()`：中央値\n",
    "* `max()`：最大値\n",
    "* `min()`：最小値\n",
    "* `std()`：標準偏差\n",
    "* `var()`：分散\n",
    "* `sum()`：合計\n",
    "* `first()`：最初の値\n",
    "* `last()`：最後の値\n",
    "* `count()`：要素数\n",
    "\n",
    "このリストにない計算をしたい場合は，上のリストにある.agg()（aggregate()も同じ）を使い`NumPy`や自作の関数を指定することができる。例えば，変動係数（coefficient of variation）を計算したいとしよう。"
   ]
  },
  {
   "cell_type": "code",
   "execution_count": null,
   "metadata": {},
   "outputs": [],
   "source": [
    "def cv(x):\n",
    "    \n",
    "    return x.std() / x.mean()"
   ]
  },
  {
   "cell_type": "markdown",
   "metadata": {},
   "source": [
    "この関数の`x`は，時系列グループ計算で取り出された`Series`もしくは`DataFrame`と考えれば良いだろう。使い方は簡単で，`.agg()`の引数として`cv`を指定するだけである。"
   ]
  },
  {
   "cell_type": "code",
   "execution_count": null,
   "metadata": {},
   "outputs": [],
   "source": [
    "df_ex.resample('YS').agg(cv)"
   ]
  },
  {
   "cell_type": "markdown",
   "metadata": {},
   "source": [
    "```{warning}\n",
    "`.agg()`の引数は`cv`であり`cv(x)`ではない。関数名だけを`.agg()`に渡し，`.agg()`が渡された関数を実行するというイメージである。`cv(x)`を引数に使うと，`cv(x)`を実行した**結果**を`.agg()`に渡すことになりエラーとなってしまう。\n",
    "```"
   ]
  },
  {
   "cell_type": "markdown",
   "metadata": {
    "heading_collapsed": true
   },
   "source": [
    "#### データの作成"
   ]
  },
  {
   "cell_type": "markdown",
   "metadata": {
    "hidden": true
   },
   "source": [
    "では実際に`jpn-money`のデータを使いデータを整形しよう。まず月次データを読み込み`month`に割り当てる。"
   ]
  },
  {
   "cell_type": "code",
   "execution_count": null,
   "metadata": {
    "hidden": true
   },
   "outputs": [],
   "source": [
    "month = py4macro.data('jpn-money')\n",
    "month.tail()"
   ]
  },
  {
   "cell_type": "markdown",
   "metadata": {
    "hidden": true
   },
   "source": [
    "いつもの通り`.info()`を使ってデータの内容を確認しよう。"
   ]
  },
  {
   "cell_type": "code",
   "execution_count": null,
   "metadata": {
    "hidden": true
   },
   "outputs": [],
   "source": [
    "month.info()"
   ]
  },
  {
   "cell_type": "markdown",
   "metadata": {
    "hidden": true
   },
   "source": [
    "行ラベルが`DatetimeIndex`となっており，時系列データ用に設定されていることが分かる。\n",
    "\n",
    "四半期データに変換して変数`quarter`に割り当てることにする。"
   ]
  },
  {
   "cell_type": "code",
   "execution_count": null,
   "metadata": {
    "hidden": true
   },
   "outputs": [],
   "source": [
    "quarter = month.resample('QS').mean()"
   ]
  },
  {
   "cell_type": "markdown",
   "metadata": {
    "hidden": true
   },
   "source": [
    "これで３ヶ月の値の平均からなる四半期データを作成した事になる。確かめてみよう。"
   ]
  },
  {
   "cell_type": "code",
   "execution_count": null,
   "metadata": {
    "hidden": true
   },
   "outputs": [],
   "source": [
    "quarter.head()"
   ]
  },
  {
   "cell_type": "markdown",
   "metadata": {
    "hidden": true
   },
   "source": [
    "四半期の最初の日が行ラベルになっていることが分かる。同様に，年次データ作成しよう。"
   ]
  },
  {
   "cell_type": "code",
   "execution_count": null,
   "metadata": {
    "hidden": true
   },
   "outputs": [],
   "source": [
    "annual = month.resample('YS').mean()\n",
    "annual.head()"
   ]
  },
  {
   "cell_type": "markdown",
   "metadata": {
    "hidden": true
   },
   "source": [
    "１年の最初の日が行ラベルになっている。次に３年次データを作成しよう。"
   ]
  },
  {
   "cell_type": "code",
   "execution_count": null,
   "metadata": {},
   "outputs": [],
   "source": [
    "annual3 = month.resample('3YS').mean()\n",
    "annual3.head()"
   ]
  },
  {
   "cell_type": "markdown",
   "metadata": {
    "hidden": true
   },
   "source": [
    "行ラベルは3年間の最初の日になっている。"
   ]
  },
  {
   "cell_type": "markdown",
   "metadata": {
    "hidden": true
   },
   "source": [
    "次にインフレ率とマネーストックの増加率の変化を計算し，新たな列としてそれぞれの`DataFrame`に追加しよう。増加率の公式に従ってコードを書いても良いが，`DataFrame`のメソッド`.pct_change()`を紹介する。これは名前が示すように（percent changeの略）列の変化率を計算するメソッドである。ここで注意が必要な点は，`.pct_change()`はデフォルトで前期比の増加率を返す。例えば，次のコードは`cpi`の前月と比べた増加率を計算している。\n",
    "```\n",
    "month.loc[:,'cpi'].pct_change()\n",
    "```\n",
    "同年同期比の増加率を計算したい場合は，12ヶ月前の値と比べたいので引数に`12`を指定すれば良い。例として，`quarter`で`cpi`の同年同期比のインフレ率を計算する場合は次のようになる。\n",
    "```\n",
    "month.loc[:,'cpi'].pct_change(4)\n",
    "```\n",
    "以下では，デフォルトで`.pct_change()`を使い計算する。"
   ]
  },
  {
   "cell_type": "code",
   "execution_count": null,
   "metadata": {
    "hidden": true
   },
   "outputs": [],
   "source": [
    "df_lst = [month, quarter, annual, annual3]\n",
    "\n",
    "for df in df_lst:\n",
    "    \n",
    "    df['inflation'] = df.loc[:,'cpi'].pct_change()\n",
    "    df['money_growth'] = df.loc[:,'money'].pct_change()"
   ]
  },
  {
   "cell_type": "markdown",
   "metadata": {
    "hidden": true
   },
   "source": [
    "`month`を確認してみよう。"
   ]
  },
  {
   "cell_type": "code",
   "execution_count": null,
   "metadata": {
    "hidden": true
   },
   "outputs": [],
   "source": [
    "month.head()"
   ]
  },
  {
   "cell_type": "markdown",
   "metadata": {
    "hidden": true
   },
   "source": [
    "行`1955-01-01`の`inflation`と`money_growth`の値は`NaN`となっている。これは前期の値がないためである。"
   ]
  },
  {
   "cell_type": "markdown",
   "metadata": {
    "heading_collapsed": true
   },
   "source": [
    "#### 散布図とトレンド線"
   ]
  },
  {
   "cell_type": "markdown",
   "metadata": {
    "hidden": true
   },
   "source": [
    "`for`ループを使ってOLSの計算とプロットを同時におこなおう。"
   ]
  },
  {
   "cell_type": "code",
   "execution_count": null,
   "metadata": {
    "hidden": true
   },
   "outputs": [],
   "source": [
    "title_lst = ['月次データ','四半期データ','年次データ','3年次データ']       #1\n",
    "\n",
    "for df, t in zip(df_lst,title_lst):\n",
    "    \n",
    "    res = smf.ols('inflation ~ money_growth', data=df).fit()        #2\n",
    "    df['トレンド'] = res.fittedvalues                                #3\n",
    "    \n",
    "    ax_ = df.plot.scatter(x='money_growth', y='inflation')          #4\n",
    "    df.sort_values('トレンド').plot(x='money_growth', y='トレンド',    #5\n",
    "                                   color='r', ax=ax_)               #6\n",
    "    ax_.set_title(f'{t}\\n'                                          #7\n",
    "                  f'スロープ係数：{res.params[1]:.3f}\\n'               #8\n",
    "                  f'p値：{res.pvalues[1]:.3f}\\n'                     #9\n",
    "                  f'調整済み決定係数：{res.rsquared_adj:.3f}',         #10\n",
    "                  size=18, loc='left')                              #11"
   ]
  },
  {
   "cell_type": "markdown",
   "metadata": {
    "hidden": true
   },
   "source": [
    "```{admonition} コード説明\n",
    ":class: dropdown\n",
    "\n",
    "1. それぞれのプロットのタイトルのリスト。\n",
    "2. 最小二乗法の結果を変数`res`に割り当てる。\n",
    "3. `res.fittedvalues`はOLSの予測値であり，新たな列としてそれぞれの`DataFrame`に追加する。その際の列名を`トレンド`とする。\n",
    "4. 散布図を描き，生成される「軸」を`ax_`に割り当てる。\n",
    "5. トレンド線を描く。`.sort_values('トレンド')`を使って列`トレンド`を昇順に並び替える。\n",
    "6. `color='r'`は色を赤に指定する。\n",
    "7. `ax=ax_`はトレンド線を描く際，「軸」`ax_`を使うことをしてしている。`f-string`を使ってタイトルを`{t}`に代入している。\n",
    "8. `f-string`を使ってスロープ係数の推定値を代入している。\n",
    "    * `.pvalues`は推定値を抽出する`res`のメソッドであり，１番目の要素であるスロープ係数を`[1]`で指定している。\n",
    "    * `:.3f`は小数点第三位まで表示することを指定している。\n",
    "9. p値に関して(8)と同じことを行なっている。\n",
    "10. 調整済み決定係数に対して(8)と同じことを行なっている。\n",
    "11. `loc`はタイトルの位置を設定する引数。\n",
    "    * `'left'`は左寄せ\n",
    "    * `'right'`は右寄せ\n",
    "    * `'center'`は中央（デフォルト）\n",
    "```"
   ]
  },
  {
   "cell_type": "markdown",
   "metadata": {
    "hidden": true
   },
   "source": [
    "上の図とOLSの推定結果から次のことが分かる。\n",
    "* 全てのケースで統計的優位性は高い。\n",
    "* データの期間が長くなるとともに，スロープ係数の値が増加し，調整済み決定係数も高くなっている。\n",
    "\n",
    "これらのことからマネーストックの変化の影響は，より長い期間をかけてインフレへの影響が発生していることが伺える。この結果は，式[](eq:11-qtm_growth_long)は長期的に成立することと整合的であると言えそうだ。\n",
    "\n",
    "一方で，式[](eq:11-qtm_growth_long)は係数が`1`になることを予測しているが，上の4つのケースの係数は全て`1`よりも低い値となっている。この点を念頭に，次の節では日本だけではなく`170`国以上のデータを使い，問題を再検討することにする。また，OLS結果は因果関係を示しておらず単なる相関関係を表していることは念頭に置いておこう。\n",
    "\n",
    "```{note}\n",
    "４つの図の縦軸・横軸の値を比べると，データが長くなるにつれて値が大きくなることがわかる。期間が長くなると`cpi`と`M1`の増加率も上昇するためである。注意してほしいのは，増加率が上昇したために正の相関が強くなったという訳ではなく，増加率がより高くなっても正の相関は弱いまま，もしくは相関が存在しない場合もあり得る。図が示しているのは，データの期間が長くなるとより強い正の相関が「炙り出される」ということである。\n",
    "```"
   ]
  },
  {
   "cell_type": "markdown",
   "metadata": {
    "heading_collapsed": true
   },
   "source": [
    "### 世界経済のパネルデータ"
   ]
  },
  {
   "cell_type": "markdown",
   "metadata": {
    "heading_collapsed": true,
    "hidden": true
   },
   "source": [
    "#### 説明"
   ]
  },
  {
   "cell_type": "markdown",
   "metadata": {
    "hidden": true
   },
   "source": [
    "前節では日本のデータを使い，インフレ率に対するマネーストック増加率の影響が現れるには時間が掛かることを示した。一方でトレンド線の傾き（回帰分析のスロープ）は１よりも小さいが，式[](eq:11-qtm_growth_long)は線形であり，$m_t$の計数は１である。即ち，マネーストックの増加率が1％上昇するとインフレ率も1％増加するという予測である。データと理論予測の齟齬をどう考えれば良いだろうか。一つの問題はノイズである。年次データであっても3年次データであってもその期間に短期的なありとあらゆるランダムな要素（ノイズ）が含まれている。ノイズは正や負の両方の影響があると考えられ，その分変化が激しいと思われる。長期的な関係は，正と負の影響が相殺し，その結果残った関係と考えることができる。この考えをデータで捉えるためにデータ全体の平均を計算すれば良いことになる。しかし前節で使用した日本の1955年から2020年のデータを使い，インフレ率とマネーストトック増加率の平均を計算すると，標本の大きさは`１`となってしまう。これではどうしようもないので，国数を増やし，観測値を増やす必要がある。従って，ここでは世界経済のパネルデータを使い２変数の関係を探ることにする。"
   ]
  },
  {
   "cell_type": "markdown",
   "metadata": {
    "hidden": true
   },
   "source": [
    "`py4macro`に含まれる`world-money`というデータ・セットを使うが，その内容は次のコードで確認できる。"
   ]
  },
  {
   "cell_type": "code",
   "execution_count": null,
   "metadata": {
    "hidden": true
   },
   "outputs": [],
   "source": [
    "py4macro.data('world-money',description=1)"
   ]
  },
  {
   "cell_type": "markdown",
   "metadata": {
    "hidden": true
   },
   "source": [
    "国によってデータが使える期間が異なることに注意しよう。"
   ]
  },
  {
   "cell_type": "markdown",
   "metadata": {
    "hidden": true
   },
   "source": [
    "まず変数`world`にデータを割り当てる。"
   ]
  },
  {
   "cell_type": "code",
   "execution_count": null,
   "metadata": {
    "hidden": true
   },
   "outputs": [],
   "source": [
    "world = py4macro.data('world-money')\n",
    "world.head()"
   ]
  },
  {
   "cell_type": "markdown",
   "metadata": {
    "hidden": true
   },
   "source": [
    "いつも通り`.info()`を使って内容を確かめてみよう。"
   ]
  },
  {
   "cell_type": "code",
   "execution_count": null,
   "metadata": {
    "hidden": true
   },
   "outputs": [],
   "source": [
    "world.info()"
   ]
  },
  {
   "cell_type": "markdown",
   "metadata": {
    "hidden": true
   },
   "source": [
    "欠損値はないことが確認できる。"
   ]
  },
  {
   "cell_type": "markdown",
   "metadata": {
    "heading_collapsed": true,
    "hidden": true
   },
   "source": [
    "#### 変化率の計算"
   ]
  },
  {
   "cell_type": "markdown",
   "metadata": {
    "hidden": true
   },
   "source": [
    "`world`には経済ごとに10年以上に渡ってインフレ率とマネーストック増加率が含まれている。国ごとの変数の変化率を計算するには，以前紹介した`.pivot()`を使うことも可能だが，少し回りくどい計算になっている。ここでは異なる方法として`.groupby()`を紹介する。`.groupby()`はグループ内で何らかの計算をする際に非常に便利なメソッドである。次のステップに従って説明する。\n",
    "1. `DataFram`をどの変数でグループ化するかを指定し，グループ化計算用のオブジェクトを用意する。\n",
    "    * ここでは経済ごとの平均を計算したいので，国`iso`（もしくは`country`）でグループ化する。\n",
    "1. グループ計算したい列を選ぶ。\n",
    "    * ここでは`money`と`deflation`となる。\n",
    "1. どのような計算をしたいのかを指定する。\n",
    "    * ここでは増加率なので`.pct_change()`を使う。\n",
    "\n",
    "**＜ステップ１＞**<br>\n",
    "グループ化用のオブジェクトの作成するためには`DataFrame`のメソッド`.groupby()`を使い，その引数にグループ化用の列を指定する。ここでは`world`を`iso`でグループ化した変数`world_group`に割り当てる。"
   ]
  },
  {
   "cell_type": "code",
   "execution_count": null,
   "metadata": {
    "hidden": true
   },
   "outputs": [],
   "source": [
    "world_group = world.groupby('iso')\n",
    "world_group"
   ]
  },
  {
   "cell_type": "markdown",
   "metadata": {
    "hidden": true
   },
   "source": [
    "`DataFrameGroupBy object`が生成されたことを知らせるメッセージである。このオブジェクトは`world`自体をグループ化計算用に変換したものであり，`DataFrame`のように`.loc[]`などのメソッドは用意されていないので注意しよう。"
   ]
  },
  {
   "cell_type": "markdown",
   "metadata": {
    "hidden": true
   },
   "source": [
    "**＜ステップ２＞**<br>\n",
    "グループ計算したいのは`money`と`deflator`である。同時に指定しても構わないが，ここでは一つずつ指定することにする。例として`money`を考えよう。列を指定するには`[]`を使う。"
   ]
  },
  {
   "cell_type": "code",
   "execution_count": null,
   "metadata": {
    "hidden": true
   },
   "outputs": [],
   "source": [
    "world_group['money']"
   ]
  },
  {
   "cell_type": "markdown",
   "metadata": {
    "hidden": true
   },
   "source": [
    "`SeriesGroupBy object`が生成されたことを知らせるメッセージである。ステップ１で生成された`DataFrameGroupBy object`から`money`の箇所を取り出したグループ計算用オブジェクトである。`Series`となっていることから分かるように，`iso`でグループ化され列`money`専用のグループ計算オブジェクトである。"
   ]
  },
  {
   "cell_type": "markdown",
   "metadata": {
    "hidden": true
   },
   "source": [
    "**＜ステップ３＞**<br>\n",
    "グループ計算に平均を使いたいので，ステップ２のオブジェクトに`.pct_change()`をつか加えるだけである。"
   ]
  },
  {
   "cell_type": "code",
   "execution_count": null,
   "metadata": {
    "hidden": true
   },
   "outputs": [],
   "source": [
    "world_group['money'].pct_change()"
   ]
  },
  {
   "cell_type": "markdown",
   "metadata": {
    "hidden": true
   },
   "source": [
    "返されたのは国ごとに計算されたマネーストック増加率である。`Series`として返されているが，行の並びは`world`と同じである。従って，次のコードでマネーストック増加率の列を`world`に追加できる。"
   ]
  },
  {
   "cell_type": "code",
   "execution_count": null,
   "metadata": {
    "hidden": true
   },
   "outputs": [],
   "source": [
    "world['money_growth'] = world_group['money'].pct_change()*100\n",
    "world.head()"
   ]
  },
  {
   "cell_type": "markdown",
   "metadata": {
    "hidden": true
   },
   "source": [
    "列`money_growth`が最後に追加さている。Albaniaの最初の行である0番目の行は`NaN`になっているが，増加率を計算する際に発生している。同様に，全ての国の最初の行には`NaN`が入っている（確かめてみよう）。\n",
    "\n",
    "次にインフレ率を計算する。次のコードは上で説明した手順を１行で書いている。"
   ]
  },
  {
   "cell_type": "code",
   "execution_count": null,
   "metadata": {
    "hidden": true
   },
   "outputs": [],
   "source": [
    "world['inflation'] = world_group['deflator'].pct_change()*100"
   ]
  },
  {
   "cell_type": "markdown",
   "metadata": {
    "hidden": true
   },
   "source": [
    "試しに，日本のデータだけを抽出してみよう。"
   ]
  },
  {
   "cell_type": "code",
   "execution_count": null,
   "metadata": {
    "hidden": true,
    "tags": [
     "output_scroll"
    ]
   },
   "outputs": [],
   "source": [
    "world.query('iso==\"JPN\"')"
   ]
  },
  {
   "cell_type": "markdown",
   "metadata": {
    "hidden": true
   },
   "source": [
    "上で説明したように，列`money_growth`と`inflation`の0番目の行の要素は`NaN`となっている。"
   ]
  },
  {
   "cell_type": "markdown",
   "metadata": {
    "heading_collapsed": true,
    "hidden": true
   },
   "source": [
    "#### ハイパーインフレ"
   ]
  },
  {
   "cell_type": "markdown",
   "metadata": {
    "hidden": true
   },
   "source": [
    "ハイパーインフレの確固たる定義はないが，Mankiwの教科書「マクロ経済学」では年率50％以上と定義している。この定義に基づき，ハイパーインフレは観測値の何％を占めるかを計算してみよう。まず`inflation`で`NaN`ではない行の数を数える。"
   ]
  },
  {
   "cell_type": "code",
   "execution_count": null,
   "metadata": {
    "hidden": true
   },
   "outputs": [],
   "source": [
    "notna = world.loc[:,'inflation'].notna().sum()\n",
    "notna"
   ]
  },
  {
   "cell_type": "markdown",
   "metadata": {
    "hidden": true
   },
   "source": [
    "```{admonition} コードの説明\n",
    ":class: dropdown\n",
    "\n",
    "欠損値である`NaN`は`na`（not available）とも呼ばれる。メソッド`.notna()`は文字通り`na`ではない要素には`True`を`na`である要素には`False`を返す。`.sum()`は`True`の数を合計している。\n",
    "```\n",
    "\n",
    "`inflation`の値が`NaN`ではない行数を確認した。次に`inflation`が50％以上の行数を数えてみよう。"
   ]
  },
  {
   "cell_type": "code",
   "execution_count": null,
   "metadata": {
    "hidden": true
   },
   "outputs": [],
   "source": [
    "hyper = len( world.query('inflation >= 50') )\n",
    "hyper"
   ]
  },
  {
   "cell_type": "code",
   "execution_count": null,
   "metadata": {
    "hidden": true
   },
   "outputs": [],
   "source": [
    "print(f'観測値の{100*hyper/notna:.2f}％でハイパーインフレが発生している。')"
   ]
  },
  {
   "cell_type": "markdown",
   "metadata": {
    "hidden": true
   },
   "source": [
    "次に`inflation`の上位5ヵ国を表示してみよう。"
   ]
  },
  {
   "cell_type": "code",
   "execution_count": null,
   "metadata": {
    "hidden": true
   },
   "outputs": [],
   "source": [
    "world.sort_values('inflation', ascending=False).head()"
   ]
  },
  {
   "cell_type": "markdown",
   "metadata": {
    "hidden": true
   },
   "source": [
    "トップはコンゴ共和国（COD）の年率26,766％！しかし，この数字はあまりピンとこないかもしれないので，次式を使って一日のインフレ率に換算してみよう。\n",
    "\n",
    "$$\n",
    "(1+g_{{日}})^{365}=1+g_{\\text{年}}\n",
    "\\quad\\Rightarrow\\quad\n",
    "g_{{日}}=(1+g_{\\text{年}})^{\\frac{1}{365}}-1\n",
    "$$\n",
    "\n",
    "ここで$g_{{年}}$は年率のインフレ率であり，$g_{{日}}$は1日当たりのインフレ率。この式を使い１に当たりの平均インフレ率を計算してみる。"
   ]
  },
  {
   "cell_type": "code",
   "execution_count": null,
   "metadata": {
    "hidden": true
   },
   "outputs": [],
   "source": [
    "inflation_cod = world.query('(iso==\"COD\") & (year==1994)').loc[:,'inflation']\n",
    "\n",
    "inflation_cod_day = 100*( \n",
    "    ( 1+inflation_cod/100 )**( 1/365 )-1 \n",
    ")\n",
    "\n",
    "inflation_cod_day"
   ]
  },
  {
   "cell_type": "markdown",
   "metadata": {},
   "source": [
    "1日平均約`1.54`％のインフレ率となる。次に１ヶ月間のインフレ率を計算してみよう。"
   ]
  },
  {
   "cell_type": "code",
   "execution_count": null,
   "metadata": {},
   "outputs": [],
   "source": [
    "100*( \n",
    "    ( 1+inflation_cod/100 )**( 1/12 )-1 \n",
    ")"
   ]
  },
  {
   "cell_type": "markdown",
   "metadata": {},
   "source": [
    "月平均では`60`％近くのインフレ率となる。"
   ]
  },
  {
   "cell_type": "markdown",
   "metadata": {},
   "source": [
    "1日平均約`1.54`％をもう少し身近に感じられるように，日本と比較してみよう。バブル景気崩壊直後の`1995`年と`2023`年の消費者物価指数（総合）は、それぞれ`95.9`と`105.6`である（[このページのデータを参照](https://www.e-stat.go.jp/stat-search/files?page=1&layout=datalist&toukei=00200573&tstat=000001150147&cycle=0&tclass1=000001150151&tclass2=000001150152&tclass3=000001150153&tclass4=000001150154&tclass5val=0)）。年平均（幾何平均）は次のようになる。"
   ]
  },
  {
   "cell_type": "code",
   "execution_count": null,
   "metadata": {},
   "outputs": [],
   "source": [
    "jp_inflation = 100 * ( (105.6 / 95.9)**( 1/(2023-1995) ) - 1 )\n",
    "print(f'1995-2023年の年平均インフレ率（消費者物価指数）：{jp_inflation:.2f}％')"
   ]
  },
  {
   "cell_type": "markdown",
   "metadata": {
    "hidden": true
   },
   "source": [
    "日本のインフレ率も非常に低いと言わざるを得ないが、日本の`29`年間の**年**平均インフレ率よりも高い率で**毎日**インフレが発生するのは、大変な事だろうと想像に難しくないのではないだろうか。別の考え方として，物価が２倍になるには何日かかるかを考えてみよう。$t$日後に物価は２倍になるとすると，次式が成立する。\n",
    "\n",
    "$$\n",
    "2=(1+g_{\\text{日}})^t\n",
    "\\quad\\Rightarrow\\quad\n",
    "t=\\frac{\\log(2)}{\\log(1+g_{\\text{日}})}\n",
    "$$\n",
    "\n",
    "この式を使って$t$を計算してみよう。"
   ]
  },
  {
   "cell_type": "code",
   "execution_count": null,
   "metadata": {
    "hidden": true
   },
   "outputs": [],
   "source": [
    "np.log(2) / np.log( 1+inflation_cod_day/100 )"
   ]
  },
  {
   "cell_type": "markdown",
   "metadata": {
    "hidden": true
   },
   "source": [
    "約`45`日間で物価は`2`倍になることが分かる。例えば、`10`万円するPCやスマホが、`45`日後には`20`万円になっているという状況である。"
   ]
  },
  {
   "cell_type": "markdown",
   "metadata": {
    "heading_collapsed": true,
    "hidden": true
   },
   "source": [
    "#### プロット"
   ]
  },
  {
   "cell_type": "markdown",
   "metadata": {
    "hidden": true
   },
   "source": [
    "全てのデータを使って散布図をプロットしトレンドを計算してみる。"
   ]
  },
  {
   "cell_type": "code",
   "execution_count": null,
   "metadata": {
    "hidden": true
   },
   "outputs": [],
   "source": [
    "world.plot.scatter(x='money_growth', y='inflation')\n",
    "pass"
   ]
  },
  {
   "cell_type": "markdown",
   "metadata": {
    "hidden": true
   },
   "source": [
    "```{admonition} コードの説明\n",
    ":class: dropdown\n",
    "\n",
    "`world`には`inflation`と`money_growth`が`NaN`となっている行が含まれるが，上の図では自動的に省かれる。`world.dropna().plot()`としても図は変わらない。\n",
    "```"
   ]
  },
  {
   "cell_type": "markdown",
   "metadata": {
    "hidden": true
   },
   "source": [
    "横軸と縦軸の値（％）を確認してみると分かるが非常に大きい。ノイズの影響により変化が非常に激しいためである。トレンドのスロープを計算してみよう。"
   ]
  },
  {
   "cell_type": "code",
   "execution_count": null,
   "metadata": {
    "hidden": true
   },
   "outputs": [],
   "source": [
    "res_world = smf.ols('inflation ~ money_growth', data=world).fit()\n",
    "print(f'標本の大きさ：{int(res_world.nobs)}')\n",
    "print(f'調整済み決定係数：{res_world.rsquared_adj:.3f}')\n",
    "res_world.summary().tables[1]"
   ]
  },
  {
   "cell_type": "markdown",
   "metadata": {
    "hidden": true
   },
   "source": [
    "トレンドのスロープは1.28であり，1に近いがノイズの影響が大きいようである。\n",
    "\n",
    "この結果と比較したいのが，次のケースである。\n",
    "* それぞれの国で`inflation`と`money_growth`の平均を計算し，その散布図をプロットするとともに傾きを計算する。\n",
    "\n",
    "まず，それぞれの経済の２変数の平均を計算するが，一つ注意点がある。`world`に`inflation`と`money_growth`があるので，`.mean()`を使って平均を計算すれば良いと思うかもしれない。しかし`.mean()`は算術平均であり，計算したいのは増加率の平均なので可能であれば幾何平均を使うべきである。残念ながら，`DataFrame`には幾何平均のメソッドが良いされて良いないので，次のように`for`ループで計算することにする。"
   ]
  },
  {
   "cell_type": "code",
   "execution_count": null,
   "metadata": {
    "hidden": true
   },
   "outputs": [],
   "source": [
    "money_growth_mean_lst = []                   # 1\n",
    "inflation_mean_lst = []                      # 2\n",
    "iso_lst = []                                 # 3 \n",
    "country_lst = []                             # 4\n",
    "income_group_lst = []                        # 5\n",
    "\n",
    "for c in world.loc[:,'iso'].unique():         # 6\n",
    "    df = world.query('iso==@c').reset_index() # 7\n",
    "    n = len(df)                               # 9\n",
    "    \n",
    "    money_growth_mean = 100*(                 # 9\n",
    "        (df.loc[n-1,'money']/df.loc[0,'money'])**(1/(n-1))-1\n",
    "    )\n",
    "    inflation_mean = 100*(                    # 10\n",
    "        (df.loc[n-1,'deflator']/df.loc[0,'deflator'])**(1/(n-1))-1\n",
    "    )\n",
    "                                              # 11\n",
    "    money_growth_mean_lst.append(money_growth_mean)\n",
    "    inflation_mean_lst.append(inflation_mean)\n",
    "    iso_lst.append(c)\n",
    "                                              # 12\n",
    "    country_lst.append(df.loc[:,'country'].unique()[0])\n",
    "    \n",
    "                                              # 13\n",
    "    income_group_lst.append(df.loc[:,'income_group'].unique()[0])\n",
    "    \n",
    "                                              # 14\n",
    "world_mean = pd.DataFrame({'country':country_lst,\n",
    "                           'income_group':income_group_lst,\n",
    "                           'money_growth_mean':money_growth_mean_lst,\n",
    "                           'inflation_mean':inflation_mean_lst,\n",
    "                           'iso':iso_lst}).set_index('iso')"
   ]
  },
  {
   "cell_type": "markdown",
   "metadata": {
    "hidden": true
   },
   "source": [
    "```{admonition} コードの説明\n",
    ":class: dropdown\n",
    "\n",
    "1. マネーストックの平均増加率を格納する空のリスト。\n",
    "2. 平均インフレ率を格納する空のリスト。\n",
    "3. 国のisoを格納する空のリスト。\n",
    "4. 国名を格納するリスト。\n",
    "5. 所得グループ名を格納するリスト。\n",
    "6. データにある経済全てに対しての`for`ループを開始\n",
    "    * `world.loc[:,'iso']`は列`iso`を抽出し，`.unique()`を使って経済のリストを作成する。\n",
    "7. `.query('iso==@c')`で`c`国の行だけを抽出し，`reset_index()`で行インデックスを振り直す。`c`国の`DataFrame`を`df`に割り当てる。\n",
    "8. `df`の行数を`n`に割り当てる。\n",
    "9. `df`の列`money`の最初と最後の行の値を使って平均増加率を計算する。`100*`で％表示にする。\n",
    "10. `df`の列`deflator`の最初と最後の行の値を使って平均インフレ率を計算する。`100*`で％表示にする。\n",
    "11. `money_growth_mean`，`inflation_mean`，`c`をそれぞれ対応するリストに追加する。\n",
    "12. 国名を`country_list`に追加する。\n",
    "    * `df.loc[:,'country']`で列`country`を抽出し，`.unique()`で国名が入る`array`が返される。`[0]`はその0番目の要素を抽出している。\n",
    "13. 所得グループ名を`income_group_list`に追加する。\n",
    "    * `df.loc[:,'income_group']`で列`income_group`を抽出し，`.unique()`でグループ名が入る`array`が返される。`[0]`はその0番目の要素を抽出している。\n",
    "14. `money_growth_mean_list`，`inflation_mean_list`，`country_list`を使い`DataFrame`を作成し`world_mean`に割り当てる。`.set_index('iso')`は`iso`を行ラベルに設定している。\n",
    "```"
   ]
  },
  {
   "cell_type": "markdown",
   "metadata": {
    "hidden": true
   },
   "source": [
    "````{tip}\n",
    "実は`.groupby()`使って幾何平均を計算することも可能である。例えば，次のコードでマネーストック増加率の幾何平均を計算できる。\n",
    "```\n",
    "from scipy.stats import gmean            # 1\n",
    "\n",
    "world.groupby('iso')['money'].agg(gmean) # 2\n",
    "```\n",
    "簡単なコードで良いが，(1)にある関数を導入する必要があり，また(2)の`.agg()`を使う必要がある。上のコードは`for`ループに慣れることを一つの目的としている。\n",
    "````\n",
    "\n",
    "平均でハイパーインフレが発生している国は何ヵ国なるのか計算してみよう。"
   ]
  },
  {
   "cell_type": "code",
   "execution_count": null,
   "metadata": {
    "hidden": true
   },
   "outputs": [],
   "source": [
    "hyper = ( world_mean.loc[:,'inflation_mean'] >= 50 ).sum()\n",
    "\n",
    "print(f'{len(world_mean)}ヵ国中{hyper}ヵ国でハイパーインフレが発生している。')"
   ]
  },
  {
   "cell_type": "markdown",
   "metadata": {
    "hidden": true
   },
   "source": [
    "```{admonition} コードの説明\n",
    ":class: dropdown\n",
    "\n",
    "* `world_mean.loc[:,'inflation_mean']`で`inflation_mean`の列を抽出。\n",
    "* `world_mean.loc[:,'inflation_mean'] >= 50`を使い，列`inflation_mean`の要素が50以上であれば`True`，50未満であれば`False`となる`Series`を返す。\n",
    "* `True`は１，`False`は０と等しいので，`.sum()`で合計することによってハイパーインフレ国の数が計算できる。\n",
    "```"
   ]
  },
  {
   "cell_type": "markdown",
   "metadata": {
    "hidden": true
   },
   "source": [
    "短期的なノイズの影響によってある年にハイパーインフレが発生する場合もあるだろう。しかしこの結果は，長期的にハイパーインフレに悩まされる国が存在することを示している。どのような国なのかを確認するために，インフレ率上位10ヵ国を表示してみよう。"
   ]
  },
  {
   "cell_type": "code",
   "execution_count": null,
   "metadata": {
    "hidden": true
   },
   "outputs": [],
   "source": [
    "world_mean.sort_values(by='inflation_mean', ascending=False).head(10)"
   ]
  },
  {
   "cell_type": "markdown",
   "metadata": {
    "hidden": true
   },
   "source": [
    "やはり所得水準が比較的に低い国が入っている。\n",
    "\n",
    "`world_mean`を使いクロスセクションのデータをプロットしてみよう。"
   ]
  },
  {
   "cell_type": "code",
   "execution_count": null,
   "metadata": {
    "hidden": true
   },
   "outputs": [],
   "source": [
    "ax_ = world_mean.plot.scatter(x='money_growth_mean', y='inflation_mean')\n",
    "xpoints = ypoints = ax_.get_ylim()\n",
    "ax_.plot(xpoints,ypoints,'r-', label='45度線')\n",
    "ax_.set_title('平均インフレ率とマネーストトックの平均成長率', size='15')\n",
    "ax_.legend()\n",
    "pass"
   ]
  },
  {
   "cell_type": "markdown",
   "metadata": {
    "hidden": true
   },
   "source": [
    "綺麗に45度線上に並んでいる。国ごとに平均を計算することによって短期的なノイズが相殺され長期的な関係が浮かび上がっている。トレンド線の傾きを計算してみよう。"
   ]
  },
  {
   "cell_type": "code",
   "execution_count": null,
   "metadata": {
    "hidden": true
   },
   "outputs": [],
   "source": [
    "res_world_mean = smf.ols('inflation_mean ~ money_growth_mean', data=world_mean).fit()\n",
    "print(f'標本の大きさ：{int(res_world_mean.nobs)}')\n",
    "print(f'調整済み決定係数：{res_world_mean.rsquared_adj:.3f}')\n",
    "print(res_world_mean.summary().tables[1])"
   ]
  },
  {
   "cell_type": "markdown",
   "metadata": {
    "hidden": true
   },
   "source": [
    "推定値は１に非常に近い。もし図の左下にある外れ値のように見える値（ジンバブエ）を省くとスロープ係数は0.997になる。長期的には式[](eq:11-qtm_growth_long)が示すように，マネーストック増加率の1％上昇はインフレ率1％上昇につかがること示す結果である。「真のメカニズム」の一部が垣間見えるような気がしませんか。"
   ]
  }
 ],
 "metadata": {
  "celltoolbar": "Tags",
  "kernelspec": {
   "display_name": "Python 3 (ipykernel)",
   "language": "python",
   "name": "python3"
  },
  "language_info": {
   "codemirror_mode": {
    "name": "ipython",
    "version": 3
   },
   "file_extension": ".py",
   "mimetype": "text/x-python",
   "name": "python",
   "nbconvert_exporter": "python",
   "pygments_lexer": "ipython3",
   "version": "3.11.9"
  }
 },
 "nbformat": 4,
 "nbformat_minor": 4
}
